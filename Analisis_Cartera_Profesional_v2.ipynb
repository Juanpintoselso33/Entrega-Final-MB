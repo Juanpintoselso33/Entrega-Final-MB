{
 "cells": [
  {
   "cell_type": "code",
   "execution_count": 37,
   "id": "39fb41ca",
   "metadata": {},
   "outputs": [
    {
     "name": "stdout",
     "output_type": "stream",
     "text": [
      "✅ Configuración completada\n",
      "📊 Sistema listo para análisis financiero\n",
      "🌎 Librerías para datos macroeconómicos disponibles\n"
     ]
    }
   ],
   "source": [
    "# Configuración inicial y librerías\n",
    "import pandas as pd\n",
    "import numpy as np\n",
    "import yfinance as yf\n",
    "import plotly.graph_objects as go\n",
    "import plotly.express as px\n",
    "from plotly.subplots import make_subplots\n",
    "from datetime import datetime\n",
    "from pathlib import Path\n",
    "from scipy.optimize import minimize\n",
    "from scipy import stats\n",
    "import requests\n",
    "import warnings\n",
    "warnings.filterwarnings('ignore')\n",
    "\n",
    "# Configuración\n",
    "pd.set_option('display.max_columns', None)\n",
    "pd.set_option('display.float_format', lambda x: f'{x:.4f}' if pd.notna(x) else '')\n",
    "np.random.seed(42)\n",
    "\n",
    "print(\"✅ Configuración completada\")\n",
    "print(f\"📊 Sistema listo para análisis financiero\")\n",
    "print(f\"🌎 Librerías para datos macroeconómicos disponibles\")"
   ]
  },
  {
   "cell_type": "markdown",
   "id": "dd1a08e1",
   "metadata": {},
   "source": [
    "## 1. Carga y Preparación de Datos\n",
    "\n",
    "Carga de datos históricos desde Excel y complemento con APIs financieras para crear dataset completo."
   ]
  },
  {
   "cell_type": "code",
   "execution_count": 38,
   "id": "95b6f9c8",
   "metadata": {},
   "outputs": [
    {
     "name": "stdout",
     "output_type": "stream",
     "text": [
      "CARGANDO DATASET COMPLETO...\n",
      "✅ Activos VERDADEROS del Excel: ['AAPL', 'SPY', 'EWZ', 'CEPU', 'BHIL', 'METRO', 'IBM']\n",
      "\n",
      "💱 AGREGANDO DATOS MACROECONÓMICOS...\n",
      "🧹 Eliminada columna existente: Tipo_Cambio_ARSUSD\n",
      "🧹 Eliminada columna existente: Retorno_FX\n",
      "🔄 Obteniendo datos históricos del Dólar CCL (ArgentinaDatos)...\n",
      "   • Consultando API sin restricción de fechas...\n",
      "   • API devolvió 4464 registros históricos\n",
      "   • Filtrado para período 2025-01-03 - 2025-09-02: 243 registros\n",
      "✅ CCL histórico obtenido y filtrado exitosamente\n",
      "   Período: 2025-01-03 → 2025-09-02\n",
      "   Rango CCL: $1137.0 - $1429.3\n",
      "✅ Tipo_Cambio_ARSUSD y Retorno_FX agregados (172 registros)\n",
      "🔄 Obteniendo Tasa Plazo Fijo (BCRA v3)…\n",
      "   • API devolvió 4464 registros históricos\n",
      "   • Filtrado para período 2025-01-03 - 2025-09-02: 243 registros\n",
      "✅ CCL histórico obtenido y filtrado exitosamente\n",
      "   Período: 2025-01-03 → 2025-09-02\n",
      "   Rango CCL: $1137.0 - $1429.3\n",
      "✅ Tipo_Cambio_ARSUSD y Retorno_FX agregados (172 registros)\n",
      "🔄 Obteniendo Tasa Plazo Fijo (BCRA v3)…\n",
      "✅ Tasa PF agregada (id 12) con 172 registros\n",
      "   Rango TNA: 26.61% - 55.63%\n",
      "\n",
      "💼 CALCULANDO PESOS REALES DE CARTERA:\n",
      "   • Activos VERDADEROS en cartera: ['AAPL', 'SPY', 'EWZ', 'CEPU', 'BHIL', 'METRO', 'IBM']\n",
      "   🧹 Eliminando 7 columnas de peso duplicadas...\n",
      "   • Pesos al 02/09/2025:\n",
      "     - AAPL: 0.1893 (18.93%)\n",
      "     - SPY: 0.5291 (52.91%)\n",
      "     - EWZ: 0.2400 (24.00%)\n",
      "     - CEPU: 0.0170 (1.70%)\n",
      "     - BHIL: 0.0035 (0.35%)\n",
      "     - METRO: 0.0182 (1.82%)\n",
      "     - IBM: 0.0029 (0.29%)\n",
      "   ✅ Cartera real guardada en variable global\n",
      "🧹 Limpiando columnas duplicadas de tasas...\n",
      "\n",
      "🎯 DATASET FINAL CORREGIDO Y LIMPIO:\n",
      "   • Activos VERDADEROS: 7 ['AAPL', 'SPY', 'EWZ', 'CEPU', 'BHIL', 'METRO', 'IBM']\n",
      "   • Variables MACRO (reales): 4 ['Tipo_Cambio_ARSUSD', 'Retorno_FX', 'TNA_PlazoFijo', 'Tasa_PlazoFijo_Diaria']\n",
      "   • Retornos de activos: 7 ['Retorno_AAPL', 'Retorno_SPY', 'Retorno_EWZ', 'Retorno_CEPU', 'Retorno_BHIL', 'Retorno_METRO', 'Retorno_IBM']\n",
      "   • Columnas de pesos: 7\n",
      "   • Total columnas: 27\n",
      "   • Registros: 172\n",
      "   • Período: 03/01/2025 → 02/09/2025\n",
      "\n",
      "📊 VERIFICACIÓN DE DATOS:\n",
      "   📈 Activo AAPL                : 172 registros válidos\n",
      "   📈 Activo SPY                 : 172 registros válidos\n",
      "   📈 Activo EWZ                 : 172 registros válidos\n",
      "   📈 Activo CEPU                : 172 registros válidos\n",
      "   📈 Activo BHIL                : 172 registros válidos\n",
      "   📈 Activo METRO               : 172 registros válidos\n",
      "   📈 Activo IBM                 : 172 registros válidos\n",
      "   🌍 Macro Tipo_Cambio_ARSUSD  : 172 registros válidos\n",
      "   🌍 Macro Retorno_FX          : 171 registros válidos\n",
      "   🌍 Macro TNA_PlazoFijo       : 172 registros válidos\n",
      "   🌍 Macro Tasa_PlazoFijo_Diaria: 172 registros válidos\n",
      "   📊 Retorno Retorno_AAPL      : 172 registros válidos\n",
      "   📊 Retorno Retorno_SPY       : 172 registros válidos\n",
      "   📊 Retorno Retorno_EWZ       : 172 registros válidos\n",
      "   📊 Retorno Retorno_CEPU      : 172 registros válidos\n",
      "   📊 Retorno Retorno_BHIL      : 172 registros válidos\n",
      "   📊 Retorno Retorno_METRO     : 172 registros válidos\n",
      "   📊 Retorno Retorno_IBM       : 172 registros válidos\n",
      "\n",
      "💾 ACTUALIZADO: Excel con nuevas variables:\n",
      "   🌍 Variables MACRO (reales): 4 columnas\n",
      "   📊 Retornos de activos: 7 columnas\n",
      "   💼 Variables de cartera: 7 columnas\n",
      "   ✅ Formato de fecha preservado\n",
      "   💰 Pesos de cartera disponibles para análisis posteriores\n",
      "\n",
      "🔧 Variables globales creadas:\n",
      "   • activos_verdaderos: ['AAPL', 'SPY', 'EWZ', 'CEPU', 'BHIL', 'METRO', 'IBM']\n",
      "   • variables_macro (reales): ['Tipo_Cambio_ARSUSD', 'Retorno_FX', 'TNA_PlazoFijo', 'Tasa_PlazoFijo_Diaria']\n",
      "   • retornos_activos: ['Retorno_AAPL', 'Retorno_SPY', 'Retorno_EWZ', 'Retorno_CEPU', 'Retorno_BHIL', 'Retorno_METRO', 'Retorno_IBM']\n",
      "   • cartera_real_weights: 7 activos\n",
      "\n",
      "🔧 Variables globales creadas:\n",
      "   • activos_verdaderos: ['AAPL', 'SPY', 'EWZ', 'CEPU', 'BHIL', 'METRO', 'IBM']\n",
      "   • cartera_real_weights: 7 activos\n",
      "✅ Tasa PF agregada (id 12) con 172 registros\n",
      "   Rango TNA: 26.61% - 55.63%\n",
      "\n",
      "💼 CALCULANDO PESOS REALES DE CARTERA:\n",
      "   • Activos VERDADEROS en cartera: ['AAPL', 'SPY', 'EWZ', 'CEPU', 'BHIL', 'METRO', 'IBM']\n",
      "   🧹 Eliminando 7 columnas de peso duplicadas...\n",
      "   • Pesos al 02/09/2025:\n",
      "     - AAPL: 0.1893 (18.93%)\n",
      "     - SPY: 0.5291 (52.91%)\n",
      "     - EWZ: 0.2400 (24.00%)\n",
      "     - CEPU: 0.0170 (1.70%)\n",
      "     - BHIL: 0.0035 (0.35%)\n",
      "     - METRO: 0.0182 (1.82%)\n",
      "     - IBM: 0.0029 (0.29%)\n",
      "   ✅ Cartera real guardada en variable global\n",
      "🧹 Limpiando columnas duplicadas de tasas...\n",
      "\n",
      "🎯 DATASET FINAL CORREGIDO Y LIMPIO:\n",
      "   • Activos VERDADEROS: 7 ['AAPL', 'SPY', 'EWZ', 'CEPU', 'BHIL', 'METRO', 'IBM']\n",
      "   • Variables MACRO (reales): 4 ['Tipo_Cambio_ARSUSD', 'Retorno_FX', 'TNA_PlazoFijo', 'Tasa_PlazoFijo_Diaria']\n",
      "   • Retornos de activos: 7 ['Retorno_AAPL', 'Retorno_SPY', 'Retorno_EWZ', 'Retorno_CEPU', 'Retorno_BHIL', 'Retorno_METRO', 'Retorno_IBM']\n",
      "   • Columnas de pesos: 7\n",
      "   • Total columnas: 27\n",
      "   • Registros: 172\n",
      "   • Período: 03/01/2025 → 02/09/2025\n",
      "\n",
      "📊 VERIFICACIÓN DE DATOS:\n",
      "   📈 Activo AAPL                : 172 registros válidos\n",
      "   📈 Activo SPY                 : 172 registros válidos\n",
      "   📈 Activo EWZ                 : 172 registros válidos\n",
      "   📈 Activo CEPU                : 172 registros válidos\n",
      "   📈 Activo BHIL                : 172 registros válidos\n",
      "   📈 Activo METRO               : 172 registros válidos\n",
      "   📈 Activo IBM                 : 172 registros válidos\n",
      "   🌍 Macro Tipo_Cambio_ARSUSD  : 172 registros válidos\n",
      "   🌍 Macro Retorno_FX          : 171 registros válidos\n",
      "   🌍 Macro TNA_PlazoFijo       : 172 registros válidos\n",
      "   🌍 Macro Tasa_PlazoFijo_Diaria: 172 registros válidos\n",
      "   📊 Retorno Retorno_AAPL      : 172 registros válidos\n",
      "   📊 Retorno Retorno_SPY       : 172 registros válidos\n",
      "   📊 Retorno Retorno_EWZ       : 172 registros válidos\n",
      "   📊 Retorno Retorno_CEPU      : 172 registros válidos\n",
      "   📊 Retorno Retorno_BHIL      : 172 registros válidos\n",
      "   📊 Retorno Retorno_METRO     : 172 registros válidos\n",
      "   📊 Retorno Retorno_IBM       : 172 registros válidos\n",
      "\n",
      "💾 ACTUALIZADO: Excel con nuevas variables:\n",
      "   🌍 Variables MACRO (reales): 4 columnas\n",
      "   📊 Retornos de activos: 7 columnas\n",
      "   💼 Variables de cartera: 7 columnas\n",
      "   ✅ Formato de fecha preservado\n",
      "   💰 Pesos de cartera disponibles para análisis posteriores\n",
      "\n",
      "🔧 Variables globales creadas:\n",
      "   • activos_verdaderos: ['AAPL', 'SPY', 'EWZ', 'CEPU', 'BHIL', 'METRO', 'IBM']\n",
      "   • variables_macro (reales): ['Tipo_Cambio_ARSUSD', 'Retorno_FX', 'TNA_PlazoFijo', 'Tasa_PlazoFijo_Diaria']\n",
      "   • retornos_activos: ['Retorno_AAPL', 'Retorno_SPY', 'Retorno_EWZ', 'Retorno_CEPU', 'Retorno_BHIL', 'Retorno_METRO', 'Retorno_IBM']\n",
      "   • cartera_real_weights: 7 activos\n",
      "\n",
      "🔧 Variables globales creadas:\n",
      "   • activos_verdaderos: ['AAPL', 'SPY', 'EWZ', 'CEPU', 'BHIL', 'METRO', 'IBM']\n",
      "   • cartera_real_weights: 7 activos\n"
     ]
    }
   ],
   "source": [
    "# CARGA DE DATOS COMPLETA Y LIMPIA\n",
    "\n",
    "print(\"CARGANDO DATASET COMPLETO...\")\n",
    "\n",
    "# 1. CARGAR ARCHIVO EXCEL Y LIMPIAR DATOS\n",
    "archivo_base = r\"c:\\Users\\trico\\OneDrive\\UBA\\Management Financiero Bursatil\\Cartera final\\Datos_historicos_de_la_cartera.xlsx\"\n",
    "\n",
    "# Leer datos principales\n",
    "df_data_completo = pd.read_excel(archivo_base)\n",
    "\n",
    "# Limpiar y preparar datos\n",
    "if 'Fecha' in df_data_completo.columns:\n",
    "    df_data_completo['Fecha'] = pd.to_datetime(df_data_completo['Fecha'])\n",
    "    \n",
    "df_data_completo = df_data_completo.ffill().bfill()\n",
    "\n",
    "# IDENTIFICAR SOLO ACTIVOS ORIGINALES (no columnas de peso ni variables macro)\n",
    "# ESTO ARREGLA EL BUG: Solo incluir activos verdaderos, excluir columnas calculadas\n",
    "activos_originales = ['AAPL', 'SPY', 'EWZ', 'CEPU', 'BHIL', 'METRO', 'IBM']\n",
    "activos_excel = [col for col in df_data_completo.columns \n",
    "                 if col in activos_originales and col != 'Fecha']\n",
    "\n",
    "print(f\"✅ Activos VERDADEROS del Excel: {activos_excel}\")\n",
    "\n",
    "# 2. AGREGAR VARIABLES MACROECONÓMICAS\n",
    "print(\"\\n💱 AGREGANDO DATOS MACROECONÓMICOS...\")\n",
    "\n",
    "# Limpiar variables existentes\n",
    "for col in ['Tipo_Cambio_ARSUSD', 'Retorno_FX', 'Tasa_PlazoFijo_Diaria']:\n",
    "    if col in df_data_completo.columns:\n",
    "        df_data_completo = df_data_completo.drop(columns=[col])\n",
    "        print(f\"🧹 Eliminada columna existente: {col}\")\n",
    "\n",
    "# Variables macro y retornos\n",
    "for activo in activos_excel:\n",
    "    col_retorno = f'Retorno_{activo}'\n",
    "    if col_retorno not in df_data_completo.columns:\n",
    "        df_data_completo[col_retorno] = df_data_completo[activo].pct_change()\n",
    "\n",
    "# Tipo de cambio\n",
    "if 'Tipo_Cambio_ARSUSD' not in df_data_completo.columns:\n",
    "    try:\n",
    "        print(\"🔄 Obteniendo datos históricos del Dólar CCL (ArgentinaDatos)...\")\n",
    "        from datetime import datetime, timedelta\n",
    "        import requests\n",
    "        \n",
    "        # PEDIR TODOS LOS DATOS SIN FECHAS ESPECÍFICAS (funciona mejor)\n",
    "        print(\"   • Consultando API sin restricción de fechas...\")\n",
    "        url = \"https://api.argentinadatos.com/v1/cotizaciones/dolares/contadoconliqui\"\n",
    "        response = requests.get(url)\n",
    "        \n",
    "        if response.status_code == 200:\n",
    "            ccl_data = response.json()\n",
    "            print(f\"   • API devolvió {len(ccl_data)} registros históricos\")\n",
    "            \n",
    "            # Convertir a DataFrame\n",
    "            ccl_df = pd.DataFrame(ccl_data)\n",
    "            ccl_df['fecha'] = pd.to_datetime(ccl_df['fecha'])\n",
    "            ccl_df = ccl_df[['fecha', 'venta']].rename(columns={'fecha': 'Fecha', 'venta': 'Tipo_Cambio_ARSUSD'})\n",
    "            \n",
    "            # FILTRAR por fechas que necesitamos\n",
    "            fecha_min = df_data_completo['Fecha'].min()\n",
    "            fecha_max = df_data_completo['Fecha'].max()\n",
    "            ccl_df = ccl_df[(ccl_df['Fecha'] >= fecha_min) & (ccl_df['Fecha'] <= fecha_max)]\n",
    "            \n",
    "            print(f\"   • Filtrado para período {fecha_min.date()} - {fecha_max.date()}: {len(ccl_df)} registros\")\n",
    "            \n",
    "            # Merge con datos principales\n",
    "            df_data_completo = pd.merge(df_data_completo, ccl_df, on='Fecha', how='left')\n",
    "            df_data_completo['Tipo_Cambio_ARSUSD'] = df_data_completo['Tipo_Cambio_ARSUSD'].ffill().bfill()\n",
    "            df_data_completo['Retorno_FX'] = df_data_completo['Tipo_Cambio_ARSUSD'].pct_change()\n",
    "            \n",
    "            print(f\"✅ CCL histórico obtenido y filtrado exitosamente\")\n",
    "            print(f\"   Período: {df_data_completo['Fecha'].min().date()} → {df_data_completo['Fecha'].max().date()}\")\n",
    "            print(f\"   Rango CCL: ${df_data_completo['Tipo_Cambio_ARSUSD'].min():.1f} - ${df_data_completo['Tipo_Cambio_ARSUSD'].max():.1f}\")\n",
    "            print(f\"✅ Tipo_Cambio_ARSUSD y Retorno_FX agregados ({df_data_completo['Tipo_Cambio_ARSUSD'].count()} registros)\")\n",
    "            \n",
    "        else:\n",
    "            print(f\"❌ CCL NO agregado - Código de respuesta: {response.status_code}\")\n",
    "            print(f\"   Respuesta: {response.text[:200]}\")\n",
    "            \n",
    "    except Exception as e:\n",
    "        print(f\"❌ Error obteniendo CCL: {str(e)}\")\n",
    "\n",
    "# Tasas de plazo fijo (BCRA v3) – FIX\n",
    "if 'Tasa_PlazoFijo_Diaria' not in df_data_completo.columns:\n",
    "    try:\n",
    "        print(\"🔄 Obteniendo Tasa Plazo Fijo (BCRA v3)…\")\n",
    "        import requests\n",
    "        import urllib3\n",
    "        urllib3.disable_warnings(urllib3.exceptions.InsecureRequestWarning)\n",
    "\n",
    "        df_data_completo['Fecha'] = pd.to_datetime(df_data_completo['Fecha']).dt.normalize()\n",
    "        fecha_min = df_data_completo['Fecha'].min().date().isoformat()\n",
    "        fecha_max = df_data_completo['Fecha'].max().date().isoformat()\n",
    "\n",
    "        base = \"https://api.bcra.gob.ar/estadisticas/v3.0/Monetarias\"\n",
    "        vr = requests.get(base, timeout=20, verify=False)\n",
    "        vr.raise_for_status()\n",
    "        variables = vr.json().get('results', [])\n",
    "\n",
    "        descs = [v for v in variables if v.get('descripcion')]\n",
    "        cand = [v for v in descs\n",
    "                if ('plazo' in v['descripcion'].lower() or 'depósito' in v['descripcion'].lower() or 'dep\\u00f3sito' in v['descripcion'].lower())\n",
    "                and ('30 d' in v['descripcion'].lower() or '30 días' in v['descripcion'].lower() or '30 d\\u00edas' in v['descripcion'].lower())\n",
    "                and '% n.a' in v['descripcion'].lower()]\n",
    "\n",
    "        if not cand:\n",
    "            cand = [v for v in descs if 'badlar en pesos de bancos privados' in v['descripcion'].lower()]\n",
    "\n",
    "        if not cand:\n",
    "            raise Exception(\"No se encontró idVariable para Plazo Fijo 30 días ni BADLAR.\")\n",
    "\n",
    "        id_pf = cand[0]['idVariable']\n",
    "\n",
    "        sr = requests.get(f\"{base}/{id_pf}\", params={\n",
    "            'desde': f\"{fecha_min}T00:00:00\",\n",
    "            'hasta': f\"{fecha_max}T23:59:59\",\n",
    "            'limit': 3000,  # Máximo permitido por BCRA\n",
    "            'offset': 0\n",
    "        }, timeout=20, verify=False)\n",
    "        sr.raise_for_status()\n",
    "        datos = sr.json().get('results', [])\n",
    "\n",
    "        tasas_df = pd.DataFrame([\n",
    "            {'Fecha': pd.to_datetime(it['fecha']).normalize(), 'TNA_PlazoFijo': float(it['valor'])}\n",
    "            for it in datos if it.get('valor') is not None\n",
    "        ])\n",
    "\n",
    "        df_data_completo = df_data_completo.merge(tasas_df, on='Fecha', how='left').sort_values('Fecha')\n",
    "        df_data_completo['TNA_PlazoFijo'] = df_data_completo['TNA_PlazoFijo'].ffill().bfill()\n",
    "        df_data_completo['Tasa_PlazoFijo_Diaria'] = df_data_completo['TNA_PlazoFijo'] / 36500.0\n",
    "\n",
    "        print(f\"✅ Tasa PF agregada (id {id_pf}) con {df_data_completo['Tasa_PlazoFijo_Diaria'].notna().sum()} registros\")\n",
    "        print(f\"   Rango TNA: {df_data_completo['TNA_PlazoFijo'].min():.2f}% - {df_data_completo['TNA_PlazoFijo'].max():.2f}%\")\n",
    "\n",
    "    except Exception as e:\n",
    "        print(f\"❌ Error obteniendo Tasa PF (v3): {e}\")\n",
    "\n",
    "# 3. CALCULAR PESOS REALES DE LA CARTERA POR DÍA - SOLO ACTIVOS VERDADEROS\n",
    "# ARREGLO DEL BUG: Solo usar activos originales, no columnas de peso existentes\n",
    "activos_cartera = [col for col in activos_excel if not col.startswith(('Retorno_', 'Tipo_', 'Tasa_', 'Peso_'))]\n",
    "\n",
    "if len(activos_cartera) > 0:\n",
    "    print(f\"\\n💼 CALCULANDO PESOS REALES DE CARTERA:\")\n",
    "    print(f\"   • Activos VERDADEROS en cartera: {activos_cartera}\")\n",
    "    \n",
    "    # LIMPIAR COLUMNAS DE PESO DUPLICADAS ANTES DE RECREAR\n",
    "    columnas_peso_existentes = [col for col in df_data_completo.columns if col.startswith('Peso_')]\n",
    "    if columnas_peso_existentes:\n",
    "        print(f\"   🧹 Eliminando {len(columnas_peso_existentes)} columnas de peso duplicadas...\")\n",
    "        df_data_completo = df_data_completo.drop(columns=columnas_peso_existentes)\n",
    "    \n",
    "    # Calcular valor total y pesos\n",
    "    df_final = df_data_completo.copy()\n",
    "    df_final['Valor_Total_Cartera'] = df_final[activos_cartera].sum(axis=1)\n",
    "    \n",
    "    # Calcular peso de cada activo por día\n",
    "    for activo in activos_cartera:\n",
    "        col_peso = f'Peso_{activo}'\n",
    "        df_final[col_peso] = df_final[activo] / df_final['Valor_Total_Cartera']\n",
    "    \n",
    "    # Crear diccionario de cartera real con pesos del último día disponible\n",
    "    ultimo_dia = df_final.dropna(subset=['Valor_Total_Cartera']).iloc[-1]\n",
    "    cartera_real_weights = {}\n",
    "    \n",
    "    print(f\"   • Pesos al {ultimo_dia['Fecha'].strftime('%d/%m/%Y')}:\")\n",
    "    for activo in activos_cartera:\n",
    "        peso = ultimo_dia[f'Peso_{activo}']\n",
    "        if not pd.isna(peso):\n",
    "            cartera_real_weights[activo] = peso\n",
    "            print(f\"     - {activo}: {peso:.4f} ({peso*100:.2f}%)\")\n",
    "    \n",
    "    # Guardar cartera real como variable global\n",
    "    cartera_real = {\n",
    "        'weights': cartera_real_weights,\n",
    "        'activos': list(cartera_real_weights.keys()),\n",
    "        'tipo': 'Pesos por Valor Real',\n",
    "        'fecha_calculo': ultimo_dia['Fecha']\n",
    "    }\n",
    "    \n",
    "    globals()['cartera_real'] = cartera_real\n",
    "    globals()['cartera_real_weights'] = cartera_real_weights\n",
    "    print(f\"   ✅ Cartera real guardada en variable global\")\n",
    "\n",
    "# 4. Finalizar dataset y LIMPIAR VARIABLES DUPLICADAS\n",
    "df_data_completo = df_final.sort_values('Fecha').reset_index(drop=True)\n",
    "\n",
    "# LIMPIAR TODAS LAS COLUMNAS DUPLICADAS DE TASAS\n",
    "print(\"🧹 Limpiando columnas duplicadas de tasas...\")\n",
    "\n",
    "# Eliminar columnas con sufijos _x, _y (resultado de merges mal hechos)\n",
    "cols_to_drop = []\n",
    "for col in df_data_completo.columns:\n",
    "    if col.endswith('_x') or col.endswith('_y'):\n",
    "        cols_to_drop.append(col)\n",
    "        print(f\"   • Eliminando columna duplicada: {col}\")\n",
    "\n",
    "if cols_to_drop:\n",
    "    df_data_completo = df_data_completo.drop(columns=cols_to_drop)\n",
    "\n",
    "# Si hay múltiples columnas TNA_PlazoFijo, mantener solo la última\n",
    "tna_cols = [col for col in df_data_completo.columns if col.startswith('TNA_PlazoFijo') and not col.endswith(('_x', '_y'))]\n",
    "if len(tna_cols) > 1:\n",
    "    print(f\"   • Múltiples columnas TNA encontradas: {tna_cols}\")\n",
    "    # Mantener solo la última columna TNA_PlazoFijo y eliminar las otras\n",
    "    for col in tna_cols[:-1]:\n",
    "        df_data_completo = df_data_completo.drop(columns=[col])\n",
    "        print(f\"   • Eliminando columna TNA duplicada: {col}\")\n",
    "\n",
    "# Eliminar columnas Tasa_PlazoFijo_Diaria duplicadas si existen múltiples\n",
    "tasa_cols = [col for col in df_data_completo.columns if col.startswith('Tasa_PlazoFijo_Diaria')]\n",
    "if len(tasa_cols) > 1:\n",
    "    for col in tasa_cols[:-1]:\n",
    "        df_data_completo = df_data_completo.drop(columns=[col])\n",
    "        print(f\"   • Eliminando columna Tasa duplicada: {col}\")\n",
    "\n",
    "# SEPARAR ACTIVOS VERDADEROS DE VARIABLES MACRO\n",
    "activos_verdaderos = [col for col in df_data_completo.columns \n",
    "                     if col not in ['Fecha', 'Valor_Total_Cartera']\n",
    "                     and not col.startswith(('Tipo_', 'Tasa_', 'Peso_', 'TNA_', 'Retorno_FX'))\n",
    "                     and col in ['AAPL', 'SPY', 'EWZ', 'CEPU', 'BHIL', 'METRO', 'IBM']]  # Solo activos originales\n",
    "\n",
    "# VARIABLES MACRO REALES (NO incluir retornos de activos individuales)\n",
    "variables_macro = [col for col in df_data_completo.columns \n",
    "                  if col in ['Tipo_Cambio_ARSUSD', 'Retorno_FX', 'TNA_PlazoFijo', 'Tasa_PlazoFijo_Diaria']]\n",
    "\n",
    "# VARIABLES DE RETORNOS DE ACTIVOS (clasificación separada)\n",
    "retornos_activos = [col for col in df_data_completo.columns \n",
    "                   if col.startswith('Retorno_') and col != 'Retorno_FX']\n",
    "\n",
    "pesos_cols = [col for col in df_data_completo.columns if col.startswith('Peso_')]\n",
    "\n",
    "print(f\"\\n🎯 DATASET FINAL CORREGIDO Y LIMPIO:\")\n",
    "print(f\"   • Activos VERDADEROS: {len(activos_verdaderos)} {activos_verdaderos}\")\n",
    "print(f\"   • Variables MACRO (reales): {len(variables_macro)} {variables_macro}\")\n",
    "print(f\"   • Retornos de activos: {len(retornos_activos)} {retornos_activos}\")\n",
    "print(f\"   • Columnas de pesos: {len(pesos_cols)}\")\n",
    "print(f\"   • Total columnas: {len(df_data_completo.columns)}\")\n",
    "print(f\"   • Registros: {len(df_data_completo)}\")\n",
    "print(f\"   • Período: {df_data_completo['Fecha'].min().strftime('%d/%m/%Y')} → {df_data_completo['Fecha'].max().strftime('%d/%m/%Y')}\")\n",
    "\n",
    "print(f\"\\n📊 VERIFICACIÓN DE DATOS:\")\n",
    "for activo in activos_verdaderos:\n",
    "    valid_count = df_data_completo[activo].notna().sum()\n",
    "    print(f\"   📈 Activo {activo:20s}: {valid_count:3d} registros válidos\")\n",
    "\n",
    "for macro_var in variables_macro:\n",
    "    valid_count = df_data_completo[macro_var].notna().sum()\n",
    "    print(f\"   🌍 Macro {macro_var:20s}: {valid_count:3d} registros válidos\")\n",
    "\n",
    "for ret_var in retornos_activos:\n",
    "    valid_count = df_data_completo[ret_var].notna().sum()\n",
    "    print(f\"   📊 Retorno {ret_var:18s}: {valid_count:3d} registros válidos\")\n",
    "\n",
    "# Guardar variables globales LIMPIAS\n",
    "globals()['activos_verdaderos'] = activos_verdaderos\n",
    "globals()['variables_macro'] = variables_macro\n",
    "globals()['retornos_activos'] = retornos_activos\n",
    "\n",
    "# ACTUALIZAR ARCHIVO EXCEL CON VARIABLES MACRO Y PESOS DE CARTERA\n",
    "try:\n",
    "    variables_nuevas = [col for col in df_data_completo.columns if col.startswith(('Retorno_', 'Tipo_', 'Tasa_', 'Peso_', 'Valor_', 'TNA_'))]\n",
    "    \n",
    "    if variables_nuevas:\n",
    "        archivo_datos = r\"c:\\Users\\trico\\OneDrive\\UBA\\Management Financiero Bursatil\\Cartera final\\Datos_historicos_de_la_cartera.xlsx\"\n",
    "        \n",
    "        with pd.ExcelWriter(archivo_datos, engine='openpyxl') as writer:\n",
    "            df_data_completo.to_excel(writer, sheet_name='Datos', index=False)\n",
    "        \n",
    "        print(f\"\\n💾 ACTUALIZADO: Excel con nuevas variables:\")\n",
    "        print(f\"   🌍 Variables MACRO (reales): {len(variables_macro)} columnas\")\n",
    "        print(f\"   📊 Retornos de activos: {len(retornos_activos)} columnas\")\n",
    "        print(f\"   💼 Variables de cartera: {len(pesos_cols)} columnas\")\n",
    "        print(f\"   ✅ Formato de fecha preservado\")\n",
    "        print(f\"   💰 Pesos de cartera disponibles para análisis posteriores\")\n",
    "\n",
    "        print(f\"\\n🔧 Variables globales creadas:\")\n",
    "        print(f\"   • activos_verdaderos: {activos_verdaderos}\")\n",
    "        print(f\"   • variables_macro (reales): {variables_macro}\")\n",
    "        print(f\"   • retornos_activos: {retornos_activos}\")\n",
    "        print(f\"   • cartera_real_weights: {len(cartera_real_weights)} activos\")\n",
    "\n",
    "except Exception as e:\n",
    "    print(f\"❌ Error actualizando Excel: {e}\")\n",
    "    \n",
    "    print(f\"\\n💾 ACTUALIZADO: Excel con nuevas variables:\")\n",
    "    print(f\"   🌍 Variables MACRO (reales): {len(variables_macro)} columnas\")\n",
    "    print(f\"   📊 Retornos de activos: {len(retornos_activos)} columnas\")\n",
    "    print(f\"   💼 Variables de cartera: {len(pesos_cols)} columnas\")\n",
    "    print(f\"   ✅ Formato de fecha preservado\")\n",
    "    print(f\"   💰 Pesos de cartera disponibles para análisis posteriores\")\n",
    "\n",
    "    print(f\"\\n🔧 Variables globales creadas:\")\n",
    "    print(f\"   • activos_verdaderos: {activos_verdaderos}\")\n",
    "    print(f\"   • variables_macro (reales): {variables_macro}\")\n",
    "    print(f\"   • retornos_activos: {retornos_activos}\")\n",
    "    print(f\"   • cartera_real_weights: {len(cartera_real_weights)} activos\")\n",
    "\n",
    "# CREAR VARIABLES GLOBALES PARA USO POSTERIOR\n",
    "activos_verdaderos = activos_cartera.copy()\n",
    "activos_reales = activos_cartera.copy()\n",
    "globals()['activos_verdaderos'] = activos_verdaderos\n",
    "globals()['activos_reales'] = activos_reales\n",
    "\n",
    "print(f\"\\n🔧 Variables globales creadas:\")\n",
    "print(f\"   • activos_verdaderos: {activos_verdaderos}\")\n",
    "print(f\"   • cartera_real_weights: {len(cartera_real_weights)} activos\")"
   ]
  },
  {
   "cell_type": "markdown",
   "id": "afebdfd7",
   "metadata": {},
   "source": [
    "## 2. Análisis de Riesgo y Performance Avanzado\n",
    "\n",
    "Cálculo completo de métricas financieras: Sharpe, Sortino, Alpha, Beta, Treynor, Kelly, VaR, CVaR y más."
   ]
  },
  {
   "cell_type": "code",
   "execution_count": 39,
   "id": "253f88ca",
   "metadata": {},
   "outputs": [
    {
     "name": "stdout",
     "output_type": "stream",
     "text": [
      "🔬 Iniciando análisis de 7 ACTIVOS VERDADEROS:\n",
      "   1. AAPL\n",
      "   2. SPY\n",
      "   3. EWZ\n",
      "   4. CEPU\n",
      "   5. BHIL\n",
      "   6. METRO\n",
      "   7. IBM\n",
      "\n",
      "🔬 Iniciando análisis completo de métricas de riesgo...\n",
      "✅ Tasa libre de riesgo: 32.85% anual\n",
      "   ✅ AAPL: Sharpe=-0.328, α=-0.2783, β=1.248, FX_ρ=0.215\n",
      "   ✅ SPY: Sharpe=0.156, α=-0.0100, β=0.983, FX_ρ=0.180\n",
      "   ✅ EWZ: Sharpe=1.089, α=0.3011, β=0.870, FX_ρ=0.170\n",
      "   ✅ CEPU: Sharpe=-1.251, α=-0.5592, β=0.651, FX_ρ=0.055\n",
      "   ✅ BHIL: Sharpe=-2.052, α=-1.0681, β=0.554, FX_ρ=-0.040\n",
      "\n",
      "📋 REPORTE COMPLETO DE MÉTRICAS (n=7 activos)\n",
      "==========================================================================================\n",
      "\n",
      "🔸 PERFORMANCE Y RIESGO BÁSICO:\n",
      "   ✅ AAPL: Sharpe=-0.328, α=-0.2783, β=1.248, FX_ρ=0.215\n",
      "   ✅ SPY: Sharpe=0.156, α=-0.0100, β=0.983, FX_ρ=0.180\n",
      "   ✅ EWZ: Sharpe=1.089, α=0.3011, β=0.870, FX_ρ=0.170\n",
      "   ✅ CEPU: Sharpe=-1.251, α=-0.5592, β=0.651, FX_ρ=0.055\n",
      "   ✅ BHIL: Sharpe=-2.052, α=-1.0681, β=0.554, FX_ρ=-0.040\n",
      "\n",
      "📋 REPORTE COMPLETO DE MÉTRICAS (n=7 activos)\n",
      "==========================================================================================\n",
      "\n",
      "🔸 PERFORMANCE Y RIESGO BÁSICO:\n"
     ]
    },
    {
     "data": {
      "text/html": [
       "<div>\n",
       "<style scoped>\n",
       "    .dataframe tbody tr th:only-of-type {\n",
       "        vertical-align: middle;\n",
       "    }\n",
       "\n",
       "    .dataframe tbody tr th {\n",
       "        vertical-align: top;\n",
       "    }\n",
       "\n",
       "    .dataframe thead th {\n",
       "        text-align: right;\n",
       "    }\n",
       "</style>\n",
       "<table border=\"1\" class=\"dataframe\">\n",
       "  <thead>\n",
       "    <tr style=\"text-align: right;\">\n",
       "      <th></th>\n",
       "      <th>activo</th>\n",
       "      <th>rendimiento_anual</th>\n",
       "      <th>volatilidad</th>\n",
       "      <th>sharpe_ratio</th>\n",
       "      <th>max_drawdown</th>\n",
       "    </tr>\n",
       "  </thead>\n",
       "  <tbody>\n",
       "    <tr>\n",
       "      <th>0</th>\n",
       "      <td>AAPL</td>\n",
       "      <td>20.3900</td>\n",
       "      <td>37.9700</td>\n",
       "      <td>-0.3280</td>\n",
       "      <td>-27.6900</td>\n",
       "    </tr>\n",
       "    <tr>\n",
       "      <th>1</th>\n",
       "      <td>SPY</td>\n",
       "      <td>37.0200</td>\n",
       "      <td>26.8200</td>\n",
       "      <td>0.1560</td>\n",
       "      <td>-22.0400</td>\n",
       "    </tr>\n",
       "    <tr>\n",
       "      <th>2</th>\n",
       "      <td>EWZ</td>\n",
       "      <td>63.7300</td>\n",
       "      <td>28.3700</td>\n",
       "      <td>1.0890</td>\n",
       "      <td>-17.8900</td>\n",
       "    </tr>\n",
       "    <tr>\n",
       "      <th>3</th>\n",
       "      <td>CEPU</td>\n",
       "      <td>-30.7400</td>\n",
       "      <td>50.8300</td>\n",
       "      <td>-1.2510</td>\n",
       "      <td>-35.4200</td>\n",
       "    </tr>\n",
       "    <tr>\n",
       "      <th>4</th>\n",
       "      <td>BHIL</td>\n",
       "      <td>-85.3900</td>\n",
       "      <td>57.6300</td>\n",
       "      <td>-2.0520</td>\n",
       "      <td>-51.4200</td>\n",
       "    </tr>\n",
       "    <tr>\n",
       "      <th>5</th>\n",
       "      <td>METRO</td>\n",
       "      <td>-66.8600</td>\n",
       "      <td>71.6500</td>\n",
       "      <td>-1.3920</td>\n",
       "      <td>-50.6800</td>\n",
       "    </tr>\n",
       "    <tr>\n",
       "      <th>6</th>\n",
       "      <td>IBM</td>\n",
       "      <td>19.7500</td>\n",
       "      <td>31.3200</td>\n",
       "      <td>-0.4180</td>\n",
       "      <td>-19.8200</td>\n",
       "    </tr>\n",
       "  </tbody>\n",
       "</table>\n",
       "</div>"
      ],
      "text/plain": [
       "  activo  rendimiento_anual  volatilidad  sharpe_ratio  max_drawdown\n",
       "0   AAPL            20.3900      37.9700       -0.3280      -27.6900\n",
       "1    SPY            37.0200      26.8200        0.1560      -22.0400\n",
       "2    EWZ            63.7300      28.3700        1.0890      -17.8900\n",
       "3   CEPU           -30.7400      50.8300       -1.2510      -35.4200\n",
       "4   BHIL           -85.3900      57.6300       -2.0520      -51.4200\n",
       "5  METRO           -66.8600      71.6500       -1.3920      -50.6800\n",
       "6    IBM            19.7500      31.3200       -0.4180      -19.8200"
      ]
     },
     "metadata": {},
     "output_type": "display_data"
    },
    {
     "name": "stdout",
     "output_type": "stream",
     "text": [
      "\n",
      "🔸 MÉTRICAS vs BENCHMARK:\n"
     ]
    },
    {
     "data": {
      "text/html": [
       "<div>\n",
       "<style scoped>\n",
       "    .dataframe tbody tr th:only-of-type {\n",
       "        vertical-align: middle;\n",
       "    }\n",
       "\n",
       "    .dataframe tbody tr th {\n",
       "        vertical-align: top;\n",
       "    }\n",
       "\n",
       "    .dataframe thead th {\n",
       "        text-align: right;\n",
       "    }\n",
       "</style>\n",
       "<table border=\"1\" class=\"dataframe\">\n",
       "  <thead>\n",
       "    <tr style=\"text-align: right;\">\n",
       "      <th></th>\n",
       "      <th>activo</th>\n",
       "      <th>alpha</th>\n",
       "      <th>beta</th>\n",
       "      <th>r_squared</th>\n",
       "      <th>treynor_ratio</th>\n",
       "      <th>information_ratio</th>\n",
       "      <th>tracking_error</th>\n",
       "    </tr>\n",
       "  </thead>\n",
       "  <tbody>\n",
       "    <tr>\n",
       "      <th>0</th>\n",
       "      <td>AAPL</td>\n",
       "      <td>-27.8300</td>\n",
       "      <td>1.2480</td>\n",
       "      <td>0.7410</td>\n",
       "      <td>-0.1000</td>\n",
       "      <td>-0.9010</td>\n",
       "      <td>20.2800</td>\n",
       "    </tr>\n",
       "    <tr>\n",
       "      <th>1</th>\n",
       "      <td>SPY</td>\n",
       "      <td>-1.0000</td>\n",
       "      <td>0.9830</td>\n",
       "      <td>0.9230</td>\n",
       "      <td>0.0420</td>\n",
       "      <td>-0.2200</td>\n",
       "      <td>7.4400</td>\n",
       "    </tr>\n",
       "    <tr>\n",
       "      <th>2</th>\n",
       "      <td>EWZ</td>\n",
       "      <td>30.1100</td>\n",
       "      <td>0.8700</td>\n",
       "      <td>0.6450</td>\n",
       "      <td>0.3550</td>\n",
       "      <td>1.4550</td>\n",
       "      <td>17.2300</td>\n",
       "    </tr>\n",
       "    <tr>\n",
       "      <th>3</th>\n",
       "      <td>CEPU</td>\n",
       "      <td>-55.9200</td>\n",
       "      <td>0.6510</td>\n",
       "      <td>0.1130</td>\n",
       "      <td>-0.9760</td>\n",
       "      <td>-1.4270</td>\n",
       "      <td>48.6300</td>\n",
       "    </tr>\n",
       "    <tr>\n",
       "      <th>4</th>\n",
       "      <td>BHIL</td>\n",
       "      <td>-106.8100</td>\n",
       "      <td>0.5540</td>\n",
       "      <td>0.0630</td>\n",
       "      <td>-2.1340</td>\n",
       "      <td>-2.1820</td>\n",
       "      <td>56.8500</td>\n",
       "    </tr>\n",
       "    <tr>\n",
       "      <th>5</th>\n",
       "      <td>METRO</td>\n",
       "      <td>-91.9800</td>\n",
       "      <td>0.6500</td>\n",
       "      <td>0.0560</td>\n",
       "      <td>-1.5350</td>\n",
       "      <td>-1.5070</td>\n",
       "      <td>70.0100</td>\n",
       "    </tr>\n",
       "    <tr>\n",
       "      <th>6</th>\n",
       "      <td>IBM</td>\n",
       "      <td>6.4700</td>\n",
       "      <td>0.3430</td>\n",
       "      <td>0.0830</td>\n",
       "      <td>-0.3810</td>\n",
       "      <td>-0.5470</td>\n",
       "      <td>34.5600</td>\n",
       "    </tr>\n",
       "  </tbody>\n",
       "</table>\n",
       "</div>"
      ],
      "text/plain": [
       "  activo     alpha   beta  r_squared  treynor_ratio  information_ratio  \\\n",
       "0   AAPL  -27.8300 1.2480     0.7410        -0.1000            -0.9010   \n",
       "1    SPY   -1.0000 0.9830     0.9230         0.0420            -0.2200   \n",
       "2    EWZ   30.1100 0.8700     0.6450         0.3550             1.4550   \n",
       "3   CEPU  -55.9200 0.6510     0.1130        -0.9760            -1.4270   \n",
       "4   BHIL -106.8100 0.5540     0.0630        -2.1340            -2.1820   \n",
       "5  METRO  -91.9800 0.6500     0.0560        -1.5350            -1.5070   \n",
       "6    IBM    6.4700 0.3430     0.0830        -0.3810            -0.5470   \n",
       "\n",
       "   tracking_error  \n",
       "0         20.2800  \n",
       "1          7.4400  \n",
       "2         17.2300  \n",
       "3         48.6300  \n",
       "4         56.8500  \n",
       "5         70.0100  \n",
       "6         34.5600  "
      ]
     },
     "metadata": {},
     "output_type": "display_data"
    },
    {
     "name": "stdout",
     "output_type": "stream",
     "text": [
      "\n",
      "💱 MÉTRICAS DE RIESGO CAMBIARIO (CCL):\n"
     ]
    },
    {
     "data": {
      "text/html": [
       "<div>\n",
       "<style scoped>\n",
       "    .dataframe tbody tr th:only-of-type {\n",
       "        vertical-align: middle;\n",
       "    }\n",
       "\n",
       "    .dataframe tbody tr th {\n",
       "        vertical-align: top;\n",
       "    }\n",
       "\n",
       "    .dataframe thead th {\n",
       "        text-align: right;\n",
       "    }\n",
       "</style>\n",
       "<table border=\"1\" class=\"dataframe\">\n",
       "  <thead>\n",
       "    <tr style=\"text-align: right;\">\n",
       "      <th></th>\n",
       "      <th>activo</th>\n",
       "      <th>fx_correlation</th>\n",
       "      <th>fx_beta</th>\n",
       "      <th>crisis_volatility_ratio</th>\n",
       "    </tr>\n",
       "  </thead>\n",
       "  <tbody>\n",
       "    <tr>\n",
       "      <th>0</th>\n",
       "      <td>AAPL</td>\n",
       "      <td>0.2150</td>\n",
       "      <td>0.2190</td>\n",
       "      <td>NaN</td>\n",
       "    </tr>\n",
       "    <tr>\n",
       "      <th>1</th>\n",
       "      <td>SPY</td>\n",
       "      <td>0.1800</td>\n",
       "      <td>0.1290</td>\n",
       "      <td>NaN</td>\n",
       "    </tr>\n",
       "    <tr>\n",
       "      <th>2</th>\n",
       "      <td>EWZ</td>\n",
       "      <td>0.1700</td>\n",
       "      <td>0.1290</td>\n",
       "      <td>NaN</td>\n",
       "    </tr>\n",
       "    <tr>\n",
       "      <th>3</th>\n",
       "      <td>CEPU</td>\n",
       "      <td>0.0550</td>\n",
       "      <td>0.0740</td>\n",
       "      <td>NaN</td>\n",
       "    </tr>\n",
       "    <tr>\n",
       "      <th>4</th>\n",
       "      <td>BHIL</td>\n",
       "      <td>-0.0400</td>\n",
       "      <td>-0.0620</td>\n",
       "      <td>NaN</td>\n",
       "    </tr>\n",
       "    <tr>\n",
       "      <th>5</th>\n",
       "      <td>METRO</td>\n",
       "      <td>-0.0930</td>\n",
       "      <td>-0.1780</td>\n",
       "      <td>NaN</td>\n",
       "    </tr>\n",
       "    <tr>\n",
       "      <th>6</th>\n",
       "      <td>IBM</td>\n",
       "      <td>-0.0550</td>\n",
       "      <td>-0.0460</td>\n",
       "      <td>NaN</td>\n",
       "    </tr>\n",
       "  </tbody>\n",
       "</table>\n",
       "</div>"
      ],
      "text/plain": [
       "  activo  fx_correlation  fx_beta  crisis_volatility_ratio\n",
       "0   AAPL          0.2150   0.2190                      NaN\n",
       "1    SPY          0.1800   0.1290                      NaN\n",
       "2    EWZ          0.1700   0.1290                      NaN\n",
       "3   CEPU          0.0550   0.0740                      NaN\n",
       "4   BHIL         -0.0400  -0.0620                      NaN\n",
       "5  METRO         -0.0930  -0.1780                      NaN\n",
       "6    IBM         -0.0550  -0.0460                      NaN"
      ]
     },
     "metadata": {},
     "output_type": "display_data"
    },
    {
     "name": "stdout",
     "output_type": "stream",
     "text": [
      "\n",
      "🔸 MÉTRICAS AVANZADAS:\n"
     ]
    },
    {
     "data": {
      "text/html": [
       "<div>\n",
       "<style scoped>\n",
       "    .dataframe tbody tr th:only-of-type {\n",
       "        vertical-align: middle;\n",
       "    }\n",
       "\n",
       "    .dataframe tbody tr th {\n",
       "        vertical-align: top;\n",
       "    }\n",
       "\n",
       "    .dataframe thead th {\n",
       "        text-align: right;\n",
       "    }\n",
       "</style>\n",
       "<table border=\"1\" class=\"dataframe\">\n",
       "  <thead>\n",
       "    <tr style=\"text-align: right;\">\n",
       "      <th></th>\n",
       "      <th>activo</th>\n",
       "      <th>sortino_ratio</th>\n",
       "      <th>kelly_criterion</th>\n",
       "      <th>calmar_ratio</th>\n",
       "      <th>ulcer_index</th>\n",
       "    </tr>\n",
       "  </thead>\n",
       "  <tbody>\n",
       "    <tr>\n",
       "      <th>0</th>\n",
       "      <td>AAPL</td>\n",
       "      <td>-0.4340</td>\n",
       "      <td>0.0000</td>\n",
       "      <td>0.7360</td>\n",
       "      <td>13.2270</td>\n",
       "    </tr>\n",
       "    <tr>\n",
       "      <th>1</th>\n",
       "      <td>SPY</td>\n",
       "      <td>0.1930</td>\n",
       "      <td>0.0390</td>\n",
       "      <td>1.6800</td>\n",
       "      <td>5.7540</td>\n",
       "    </tr>\n",
       "    <tr>\n",
       "      <th>2</th>\n",
       "      <td>EWZ</td>\n",
       "      <td>1.6340</td>\n",
       "      <td>0.0650</td>\n",
       "      <td>3.5620</td>\n",
       "      <td>5.0460</td>\n",
       "    </tr>\n",
       "    <tr>\n",
       "      <th>3</th>\n",
       "      <td>CEPU</td>\n",
       "      <td>-2.2410</td>\n",
       "      <td>0.0000</td>\n",
       "      <td>-0.8680</td>\n",
       "      <td>22.3880</td>\n",
       "    </tr>\n",
       "    <tr>\n",
       "      <th>4</th>\n",
       "      <td>BHIL</td>\n",
       "      <td>-3.5370</td>\n",
       "      <td>0.0000</td>\n",
       "      <td>-1.6610</td>\n",
       "      <td>32.0660</td>\n",
       "    </tr>\n",
       "    <tr>\n",
       "      <th>5</th>\n",
       "      <td>METRO</td>\n",
       "      <td>-2.6410</td>\n",
       "      <td>0.0000</td>\n",
       "      <td>-1.3190</td>\n",
       "      <td>28.6790</td>\n",
       "    </tr>\n",
       "    <tr>\n",
       "      <th>6</th>\n",
       "      <td>IBM</td>\n",
       "      <td>-0.5920</td>\n",
       "      <td>0.0190</td>\n",
       "      <td>0.9960</td>\n",
       "      <td>8.2200</td>\n",
       "    </tr>\n",
       "  </tbody>\n",
       "</table>\n",
       "</div>"
      ],
      "text/plain": [
       "  activo  sortino_ratio  kelly_criterion  calmar_ratio  ulcer_index\n",
       "0   AAPL        -0.4340           0.0000        0.7360      13.2270\n",
       "1    SPY         0.1930           0.0390        1.6800       5.7540\n",
       "2    EWZ         1.6340           0.0650        3.5620       5.0460\n",
       "3   CEPU        -2.2410           0.0000       -0.8680      22.3880\n",
       "4   BHIL        -3.5370           0.0000       -1.6610      32.0660\n",
       "5  METRO        -2.6410           0.0000       -1.3190      28.6790\n",
       "6    IBM        -0.5920           0.0190        0.9960       8.2200"
      ]
     },
     "metadata": {},
     "output_type": "display_data"
    },
    {
     "name": "stdout",
     "output_type": "stream",
     "text": [
      "\n",
      "🏆 TOP PERFORMERS:\n",
      "────────────────────────────────────────────────────────────\n",
      "📈 Mejor Sharpe Ratio: EWZ (1.089)\n",
      "🎯 Mejor Alpha: EWZ (30.11%)\n",
      "🎲 Mejor Kelly: EWZ (0.065)\n",
      "🛡️  Menor Riesgo: EWZ (DD: -17.89%)\n",
      "\n",
      "======================================================================\n",
      "🏛️  RATIOS GLOBALES DE LA CARTERA (PONDERADOS POR PARTICIPACIÓN)\n",
      "======================================================================\n",
      "📊 Composición: 7 activos con participación\n",
      "🎯 Sharpe Ratio Global:        0.2264\n",
      "📈 Sortino Ratio Global:       0.3117\n",
      "⚠️  VaR 95% Global:             -2.71%\n",
      "🔻 CVaR 95% Global:            -4.45%\n",
      "📉 Max Drawdown Global:       -22.96%\n",
      "🎲 Kelly Criterion Global:     0.0364\n",
      "⚡ Alpha Global:              -0.0155\n",
      "📊 Beta Global:                0.9911\n",
      "\n",
      "💡 INTERPRETACIÓN GLOBAL:\n",
      "   • Relación riesgo-rendimiento global aceptable\n",
      "======================================================================\n",
      "\n",
      "💾 ACTUALIZADO: 'c:\\Users\\trico\\OneDrive\\UBA\\Management Financiero Bursatil\\Cartera final\\Ratios Managment financiero cartera.xlsx' - TODAS LAS HOJAS ACTUALIZADAS con datos calculados\n"
     ]
    }
   ],
   "source": [
    "class RiskCalculator:\n",
    "    def __init__(self, risk_free_rate=0.02, benchmark='MERVAL'):\n",
    "        self.rf_rate = risk_free_rate / 252\n",
    "        self.annual_rf = risk_free_rate\n",
    "        self.benchmark = benchmark  # AGREGAR ATRIBUTO BENCHMARK\n",
    "    \n",
    "    def set_dynamic_risk_free_rate(self, df):\n",
    "        if 'Tasa_PlazoFijo_Diaria' in df.columns:\n",
    "            self.dynamic_rf = df['Tasa_PlazoFijo_Diaria'].mean()\n",
    "            self.annual_rf = self.dynamic_rf * 365\n",
    "            self.rf_rate = self.dynamic_rf\n",
    "            print(f\"✅ Tasa libre de riesgo: {self.annual_rf:.2%} anual\")\n",
    "    \n",
    "    def calculate_fx_metrics(self, returns, df):\n",
    "        fx_metrics = {'fx_correlation': None, 'fx_beta': None, 'crisis_volatility_ratio': None}\n",
    "        \n",
    "        if 'Retorno_FX' in df.columns:\n",
    "            fx_returns = df['Retorno_FX'].dropna()\n",
    "            common_dates = returns.index.intersection(fx_returns.index)\n",
    "            if len(common_dates) > 30:\n",
    "                aligned_returns = returns.loc[common_dates]\n",
    "                aligned_fx = fx_returns.loc[common_dates]\n",
    "                \n",
    "                correlation = np.corrcoef(aligned_returns, aligned_fx)[0, 1]\n",
    "                fx_metrics['fx_correlation'] = correlation if not np.isnan(correlation) else 0\n",
    "                \n",
    "                # Beta FX (sensibilidad al tipo de cambio)\n",
    "                covariance = np.cov(aligned_returns, aligned_fx)[0, 1]\n",
    "                fx_variance = np.var(aligned_fx)\n",
    "                fx_metrics['fx_beta'] = covariance / fx_variance if fx_variance > 0 else 0\n",
    "                \n",
    "                # Volatilidad durante crisis cambiarias (retorno FX > 2 std)\n",
    "                crisis_threshold = aligned_fx.mean() + 2 * aligned_fx.std()\n",
    "                crisis_periods = aligned_fx > crisis_threshold\n",
    "                if crisis_periods.any():\n",
    "                    crisis_vol = aligned_returns[crisis_periods].std() * np.sqrt(252)\n",
    "                    normal_vol = aligned_returns[~crisis_periods].std() * np.sqrt(252)\n",
    "                    fx_metrics['crisis_volatility_ratio'] = crisis_vol / normal_vol if normal_vol > 0 else 1\n",
    "                else:\n",
    "                    fx_metrics['crisis_volatility_ratio'] = 1\n",
    "            else:\n",
    "                fx_metrics = {'fx_correlation': 0, 'fx_beta': 0, 'crisis_volatility_ratio': 1}\n",
    "        else:\n",
    "            fx_metrics = {'fx_correlation': None, 'fx_beta': None, 'crisis_volatility_ratio': None}\n",
    "        \n",
    "        return fx_metrics\n",
    "    \n",
    "    def get_benchmark_returns(self, df, asset_dates=None):\n",
    "        \"\"\"Obtiene retornos del benchmark\"\"\"\n",
    "        if self.benchmark not in df.columns:\n",
    "            # Crear benchmark sintético si no existe - USAR SOLO ACTIVOS VERDADEROS\n",
    "            available_assets = [col for col in df.columns \n",
    "                              if not col.startswith(('Peso_', 'Retorno_', 'Tipo_', 'Tasa_', 'Fecha', 'Valor_Total'))]\n",
    "            if len(available_assets) >= 3:\n",
    "                market_prices = df[available_assets[:3]].mean(axis=1, skipna=True)\n",
    "                market_returns = market_prices.pct_change().dropna()\n",
    "                return market_returns.values\n",
    "        else:\n",
    "            benchmark_prices = df[self.benchmark].dropna()\n",
    "            benchmark_returns = benchmark_prices.pct_change().dropna()\n",
    "            return benchmark_returns.values\n",
    "        return None\n",
    "    \n",
    "    def calculate_alpha_beta(self, asset_returns, benchmark_returns):\n",
    "        \"\"\"Calcula Alpha y Beta usando numpy (evitamos sklearn)\"\"\"\n",
    "        if len(asset_returns) != len(benchmark_returns):\n",
    "            min_len = min(len(asset_returns), len(benchmark_returns))\n",
    "            asset_returns = asset_returns[:min_len]\n",
    "            benchmark_returns = benchmark_returns[:min_len]\n",
    "        \n",
    "        # Filtrar NaN\n",
    "        mask = ~(np.isnan(asset_returns) | np.isnan(benchmark_returns))\n",
    "        asset_returns = asset_returns[mask]\n",
    "        benchmark_returns = benchmark_returns[mask]\n",
    "        \n",
    "        if len(asset_returns) < 30:\n",
    "            return None, None, None\n",
    "        \n",
    "        try:\n",
    "            # Regresión lineal simple usando numpy\n",
    "            # Beta = Cov(R_asset, R_market) / Var(R_market)\n",
    "            covariance = np.cov(asset_returns, benchmark_returns)[0, 1]\n",
    "            market_variance = np.var(benchmark_returns)\n",
    "            \n",
    "            if market_variance == 0:\n",
    "                return None, None, None\n",
    "            \n",
    "            beta = covariance / market_variance\n",
    "            \n",
    "            # Alpha = R_asset_mean - Beta * R_market_mean\n",
    "            alpha_daily = np.mean(asset_returns) - beta * np.mean(benchmark_returns)\n",
    "            alpha_annual = alpha_daily * 252\n",
    "            \n",
    "            # R-squared\n",
    "            correlation = np.corrcoef(asset_returns, benchmark_returns)[0, 1]\n",
    "            r_squared = correlation ** 2 if not np.isnan(correlation) else 0\n",
    "            \n",
    "            return alpha_annual, beta, r_squared\n",
    "            \n",
    "        except Exception:\n",
    "            return None, None, None\n",
    "    \n",
    "    def calculate_advanced_metrics(self, returns, df=None, asset_name=None):\n",
    "        \"\"\"Calcula métricas avanzadas adicionales\"\"\"\n",
    "        metrics = {}\n",
    "        \n",
    "        # Inicializar con None para asegurar consistencia\n",
    "        metrics['alpha'] = None\n",
    "        metrics['beta'] = None\n",
    "        metrics['r_squared'] = None\n",
    "        metrics['treynor_ratio'] = None\n",
    "        metrics['information_ratio'] = None\n",
    "        metrics['tracking_error'] = None\n",
    "        \n",
    "        # Treynor Ratio y métricas vs benchmark\n",
    "        if df is not None:\n",
    "            benchmark_returns = self.get_benchmark_returns(df)\n",
    "            if benchmark_returns is not None and len(benchmark_returns) > 30:\n",
    "                try:\n",
    "                    alpha, beta, r_squared = self.calculate_alpha_beta(returns.values, benchmark_returns)\n",
    "                    \n",
    "                    if alpha is not None and beta is not None and r_squared is not None:\n",
    "                        metrics['alpha'] = alpha\n",
    "                        metrics['beta'] = beta\n",
    "                        metrics['r_squared'] = r_squared\n",
    "                        \n",
    "                        # Treynor Ratio\n",
    "                        if beta is not None and abs(beta) > 0.001:  # Evitar división por cero\n",
    "                            excess_return = returns.mean() * 252 - self.annual_rf\n",
    "                            metrics['treynor_ratio'] = excess_return / beta\n",
    "                        \n",
    "                        # Information Ratio y Tracking Error\n",
    "                        min_len = min(len(returns), len(benchmark_returns))\n",
    "                        if min_len > 30:\n",
    "                            asset_trim = returns.values[:min_len]\n",
    "                            bench_trim = benchmark_returns[:min_len]\n",
    "                            \n",
    "                            # Filtrar NaNs\n",
    "                            mask = ~(np.isnan(asset_trim) | np.isnan(bench_trim))\n",
    "                            if mask.sum() > 30:\n",
    "                                excess_returns = asset_trim[mask] - bench_trim[mask]\n",
    "                                tracking_error = np.std(excess_returns) * np.sqrt(252)\n",
    "                                metrics['tracking_error'] = tracking_error\n",
    "                                \n",
    "                                if tracking_error > 0:\n",
    "                                    metrics['information_ratio'] = (np.mean(excess_returns) * 252) / tracking_error\n",
    "                                    \n",
    "                except Exception as e:\n",
    "                    print(f\"⚠️  Error calculando métricas benchmark para {asset_name}: {str(e)[:50]}\")\n",
    "        \n",
    "        # Kelly Criterion\n",
    "        positive_returns = returns[returns > 0]\n",
    "        negative_returns = returns[returns < 0]\n",
    "        \n",
    "        if len(positive_returns) > 0 and len(negative_returns) > 0:\n",
    "            avg_win = positive_returns.mean()\n",
    "            avg_loss = abs(negative_returns.mean())\n",
    "            win_rate = len(positive_returns) / len(returns)\n",
    "            \n",
    "            if avg_loss > 0:\n",
    "                b = avg_win / avg_loss\n",
    "                kelly_f = (b * win_rate - (1 - win_rate)) / b\n",
    "                metrics['kelly_criterion'] = max(0, min(kelly_f, 1))\n",
    "            else:\n",
    "                metrics['kelly_criterion'] = None\n",
    "        else:\n",
    "            metrics['kelly_criterion'] = None\n",
    "        \n",
    "        # Calmar Ratio\n",
    "        cumulative = (1 + returns).cumprod()\n",
    "        running_max = cumulative.cummax()\n",
    "        drawdown = (cumulative - running_max) / running_max\n",
    "        max_dd = drawdown.min()\n",
    "        \n",
    "        if max_dd < 0:\n",
    "            annual_return = returns.mean() * 252\n",
    "            metrics['calmar_ratio'] = annual_return / abs(max_dd)\n",
    "        else:\n",
    "            metrics['calmar_ratio'] = None\n",
    "        \n",
    "        # Ulcer Index\n",
    "        drawdown_squared = (drawdown * 100) ** 2\n",
    "        metrics['ulcer_index'] = np.sqrt(drawdown_squared.mean())\n",
    "        \n",
    "        return metrics\n",
    "    \n",
    "    def calculate_metrics(self, returns, df=None, asset_name=None):\n",
    "        \"\"\"Calcula métricas completas de riesgo y rendimiento\"\"\"\n",
    "        if len(returns) < 30:\n",
    "            return None\n",
    "        \n",
    "        # Limpiar datos\n",
    "        returns = returns.dropna()\n",
    "        returns = returns.replace([np.inf, -np.inf], np.nan).dropna()\n",
    "        \n",
    "        if len(returns) < 30:\n",
    "            return None\n",
    "        \n",
    "        # Métricas básicas\n",
    "        annual_return = returns.mean() * 252\n",
    "        volatility = returns.std() * np.sqrt(252)\n",
    "        \n",
    "        # Sharpe Ratio\n",
    "        excess_return = annual_return - self.annual_rf\n",
    "        sharpe = excess_return / volatility if volatility > 0 else 0\n",
    "        \n",
    "        # Sortino Ratio\n",
    "        negative_returns = returns[returns < 0]\n",
    "        downside_deviation = negative_returns.std() * np.sqrt(252) if len(negative_returns) > 0 else volatility\n",
    "        sortino = excess_return / downside_deviation if downside_deviation > 0 else 0\n",
    "        \n",
    "        # VaR y CVaR\n",
    "        var_95 = np.percentile(returns, 5)\n",
    "        cvar_95 = returns[returns <= var_95].mean()\n",
    "        \n",
    "        # Maximum Drawdown\n",
    "        cumulative = (1 + returns).cumprod()\n",
    "        running_max = cumulative.cummax()\n",
    "        drawdown = (cumulative - running_max) / running_max\n",
    "        max_dd = drawdown.min()\n",
    "        \n",
    "        # Métricas básicas\n",
    "        basic_metrics = {\n",
    "            'rendimiento_anual': annual_return,\n",
    "            'volatilidad': volatility,\n",
    "            'sharpe_ratio': sharpe,\n",
    "            'sortino_ratio': sortino,\n",
    "            'var_95': var_95,\n",
    "            'cvar_95': cvar_95,\n",
    "            'max_drawdown': max_dd,\n",
    "            'skewness': returns.skew(),\n",
    "            'kurtosis': returns.kurtosis()\n",
    "        }\n",
    "        \n",
    "        # Métricas avanzadas\n",
    "        advanced_metrics = self.calculate_advanced_metrics(returns, df, asset_name)\n",
    "        \n",
    "        # Combinar ambos diccionarios\n",
    "        basic_metrics.update(advanced_metrics)\n",
    "        \n",
    "        # AGREGAR MÉTRICAS FX si hay datos macro disponibles\n",
    "        if df is not None:\n",
    "            fx_metrics = self.calculate_fx_metrics(returns, df)\n",
    "            basic_metrics.update(fx_metrics)\n",
    "        \n",
    "        return basic_metrics\n",
    "\n",
    "def analizar_activos(df, activos):\n",
    "    \"\"\"Analiza todos los activos y retorna métricas completas\"\"\"\n",
    "    calculator = RiskCalculator()\n",
    "    \n",
    "    # CONFIGURAR TASA LIBRE DE RIESGO DINÁMICA\n",
    "    calculator.set_dynamic_risk_free_rate(df)\n",
    "    \n",
    "    resultados = []\n",
    "    \n",
    "    for i, activo in enumerate(activos):\n",
    "        precios = df[activo].dropna()\n",
    "        if len(precios) > 30:\n",
    "            returns = precios.pct_change().dropna()\n",
    "            metricas = calculator.calculate_metrics(returns, df, activo)\n",
    "            if metricas:\n",
    "                metricas['activo'] = activo\n",
    "                metricas['observaciones'] = len(returns)\n",
    "                resultados.append(metricas)\n",
    "                \n",
    "                # Mostrar progreso incluyendo métricas FX\n",
    "                if i < 5:\n",
    "                    alpha_str = f\"α={metricas['alpha']:.4f}\" if metricas.get('alpha') else \"α=N/A\"\n",
    "                    beta_str = f\"β={metricas['beta']:.3f}\" if metricas.get('beta') else \"β=N/A\"\n",
    "                    fx_corr_str = f\"FX_ρ={metricas.get('fx_correlation', 0):.3f}\" if metricas.get('fx_correlation') is not None else \"FX_ρ=N/A\"\n",
    "                    print(f\"   ✅ {activo}: Sharpe={metricas['sharpe_ratio']:.3f}, {alpha_str}, {beta_str}, {fx_corr_str}\")\n",
    "    \n",
    "    if not resultados:\n",
    "        return pd.DataFrame()\n",
    "    \n",
    "    df_metricas = pd.DataFrame(resultados)\n",
    "    \n",
    "    # Reordenar columnas por importancia\n",
    "    basic_cols = ['activo', 'observaciones', 'rendimiento_anual', 'volatilidad', \n",
    "                 'sharpe_ratio', 'sortino_ratio', 'max_drawdown']\n",
    "    advanced_cols = ['alpha', 'beta', 'r_squared', 'treynor_ratio', 'information_ratio', \n",
    "                    'tracking_error', 'kelly_criterion', 'calmar_ratio', 'ulcer_index']\n",
    "    risk_cols = ['var_95', 'cvar_95', 'skewness', 'kurtosis']\n",
    "    \n",
    "    # Verificar qué columnas existen\n",
    "    available_cols = []\n",
    "    for col_group in [basic_cols, advanced_cols, risk_cols]:\n",
    "        available_cols.extend([col for col in col_group if col in df_metricas.columns])\n",
    "    \n",
    "    # Agregar columnas restantes\n",
    "    remaining_cols = [col for col in df_metricas.columns if col not in available_cols]\n",
    "    all_cols = available_cols + remaining_cols\n",
    "    \n",
    "    df_metricas = df_metricas[all_cols]\n",
    "    \n",
    "    return df_metricas\n",
    "\n",
    "# Calcular métricas usando el dataset completo con variables macro\n",
    "# USAR LA VARIABLE GLOBAL activos_verdaderos YA DEFINIDA CORRECTAMENTE\n",
    "# NO redefinir aquí para evitar incluir TNA_PlazoFijo\n",
    "\n",
    "print(f\"🔬 Iniciando análisis de {len(activos_verdaderos)} ACTIVOS VERDADEROS:\")\n",
    "for i, activo in enumerate(activos_verdaderos):\n",
    "    print(f\"   {i+1}. {activo}\")\n",
    "\n",
    "print(f\"\\n🔬 Iniciando análisis completo de métricas de riesgo...\")\n",
    "df_metricas = analizar_activos(df_data_completo, activos_verdaderos)\n",
    "\n",
    "# Mostrar resultados organizados\n",
    "if not df_metricas.empty:\n",
    "    df_display = df_metricas.copy()\n",
    "    \n",
    "    # Formatear porcentajes\n",
    "    percentage_cols = ['rendimiento_anual', 'volatilidad', 'max_drawdown', 'var_95', 'cvar_95', 'alpha', 'tracking_error']\n",
    "    for col in percentage_cols:\n",
    "        if col in df_display.columns:\n",
    "            df_display[col] = (df_display[col] * 100).round(2)\n",
    "    \n",
    "    # Formatear ratios\n",
    "    ratio_cols = ['sharpe_ratio', 'sortino_ratio', 'treynor_ratio', 'information_ratio', \n",
    "                  'calmar_ratio', 'kelly_criterion', 'beta', 'r_squared', 'ulcer_index']\n",
    "    for col in ratio_cols:\n",
    "        if col in df_display.columns:\n",
    "            df_display[col] = df_display[col].round(3)\n",
    "    \n",
    "    print(f\"\\n📋 REPORTE COMPLETO DE MÉTRICAS (n={len(df_metricas)} activos)\")\n",
    "    print(\"=\"*90)\n",
    "    \n",
    "    # Tabla 1: Métricas principales\n",
    "    main_cols = ['activo', 'rendimiento_anual', 'volatilidad', 'sharpe_ratio', 'max_drawdown']\n",
    "    available_main = [col for col in main_cols if col in df_display.columns]\n",
    "    if available_main:\n",
    "        print(\"\\n🔸 PERFORMANCE Y RIESGO BÁSICO:\")\n",
    "        display(df_display[available_main])\n",
    "    \n",
    "    # Tabla 2: Métricas vs Benchmark (Alpha, Beta, etc.)\n",
    "    benchmark_cols = ['activo', 'alpha', 'beta', 'r_squared', 'treynor_ratio', 'information_ratio', 'tracking_error']\n",
    "    available_benchmark = [col for col in benchmark_cols if col in df_display.columns]\n",
    "    \n",
    "    # Solo mostrar si hay al menos algunos valores no nulos\n",
    "    has_benchmark_data = any(df_display[col].notna().any() for col in available_benchmark[1:] if col in df_display.columns)\n",
    "    if available_benchmark and has_benchmark_data:\n",
    "        print(\"\\n🔸 MÉTRICAS vs BENCHMARK:\")\n",
    "        display(df_display[available_benchmark])\n",
    "    \n",
    "    # Tabla 3: Métricas FX (nuevas)\n",
    "    fx_cols = ['activo', 'fx_correlation', 'fx_beta', 'crisis_volatility_ratio']\n",
    "    available_fx = [col for col in fx_cols if col in df_display.columns]\n",
    "    has_fx_data = any(df_display[col].notna().any() for col in available_fx[1:] if col in df_display.columns)\n",
    "    if available_fx and has_fx_data:\n",
    "        print(\"\\n💱 MÉTRICAS DE RIESGO CAMBIARIO (CCL):\")\n",
    "        # Formatear las nuevas métricas FX\n",
    "        fx_display = df_display[available_fx].copy()\n",
    "        for col in ['fx_correlation', 'fx_beta']:\n",
    "            if col in fx_display.columns:\n",
    "                fx_display[col] = fx_display[col].round(3)\n",
    "        if 'crisis_volatility_ratio' in fx_display.columns:\n",
    "            fx_display['crisis_volatility_ratio'] = fx_display['crisis_volatility_ratio'].round(2)\n",
    "        display(fx_display)\n",
    "    \n",
    "    # Tabla 4: Métricas avanzadas y especializadas\n",
    "    advanced_cols = ['activo', 'sortino_ratio', 'kelly_criterion', 'calmar_ratio', 'ulcer_index']\n",
    "    available_advanced = [col for col in advanced_cols if col in df_display.columns]\n",
    "    if available_advanced:\n",
    "        print(\"\\n🔸 MÉTRICAS AVANZADAS:\")\n",
    "        display(df_display[available_advanced])\n",
    "    \n",
    "    # Análisis de Top Performers\n",
    "    print(\"\\n🏆 TOP PERFORMERS:\")\n",
    "    print(\"─\"*60)\n",
    "    \n",
    "    # Mejor Sharpe Ratio\n",
    "    if 'sharpe_ratio' in df_metricas.columns:\n",
    "        mejor_sharpe = df_metricas.loc[df_metricas['sharpe_ratio'].idxmax()]\n",
    "        print(f\"📈 Mejor Sharpe Ratio: {mejor_sharpe['activo']} ({mejor_sharpe['sharpe_ratio']:.3f})\")\n",
    "    \n",
    "    # Mejor Alpha (si disponible)\n",
    "    alpha_data = df_metricas.dropna(subset=['alpha']) if 'alpha' in df_metricas.columns else pd.DataFrame()\n",
    "    if not alpha_data.empty:\n",
    "        mejor_alpha = alpha_data.loc[alpha_data['alpha'].idxmax()]\n",
    "        print(f\"🎯 Mejor Alpha: {mejor_alpha['activo']} ({mejor_alpha['alpha']*100:.2f}%)\")\n",
    "    \n",
    "    # Mejor Kelly Criterion\n",
    "    kelly_data = df_metricas.dropna(subset=['kelly_criterion']) if 'kelly_criterion' in df_metricas.columns else pd.DataFrame()\n",
    "    if not kelly_data.empty:\n",
    "        mejor_kelly = kelly_data.loc[kelly_data['kelly_criterion'].idxmax()]\n",
    "        print(f\"🎲 Mejor Kelly: {mejor_kelly['activo']} ({mejor_kelly['kelly_criterion']:.3f})\")\n",
    "    \n",
    "    # Menor riesgo (máximo drawdown más bajo)\n",
    "    menor_riesgo = df_metricas.loc[df_metricas['max_drawdown'].idxmax()]  # idxmax porque son valores negativos\n",
    "    print(f\"🛡️  Menor Riesgo: {menor_riesgo['activo']} (DD: {menor_riesgo['max_drawdown']*100:.2f}%)\")\n",
    "    \n",
    "    # CALCULAR RATIOS GLOBALES PONDERADOS PARA LA CARTERA REAL (SI EXISTE)\n",
    "    try:\n",
    "        if 'cartera_real' in globals() and cartera_real and 'weights' in cartera_real:\n",
    "            print(\"\\n\" + \"=\"*70)\n",
    "            print(\"🏛️  RATIOS GLOBALES DE LA CARTERA (PONDERADOS POR PARTICIPACIÓN)\")\n",
    "            print(\"=\"*70)\n",
    "            \n",
    "            # Obtener pesos de la cartera real\n",
    "            weights = cartera_real['weights']\n",
    "            \n",
    "            # Filtrar métricas solo para activos en la cartera con peso > 0.1%\n",
    "            activos_cartera = [activo for activo, peso in weights.items() if peso > 0.001]\n",
    "            df_metricas_cartera = df_metricas[df_metricas['activo'].isin(activos_cartera)].copy()\n",
    "            \n",
    "            if not df_metricas_cartera.empty:\n",
    "                # Mapear pesos\n",
    "                peso_map = {activo: peso for activo, peso in weights.items() if peso > 0.001}\n",
    "                df_metricas_cartera['peso_cartera'] = df_metricas_cartera['activo'].map(peso_map)\n",
    "                \n",
    "                # Calcular ratios ponderados\n",
    "                sharpe_global = (df_metricas_cartera['sharpe_ratio'] * df_metricas_cartera['peso_cartera']).sum()\n",
    "                sortino_global = (df_metricas_cartera['sortino_ratio'].fillna(0) * df_metricas_cartera['peso_cartera']).sum()\n",
    "                var_global = (df_metricas_cartera['var_95'].fillna(0) * df_metricas_cartera['peso_cartera']).sum()\n",
    "                cvar_global = (df_metricas_cartera['cvar_95'].fillna(0) * df_metricas_cartera['peso_cartera']).sum()\n",
    "                dd_global = (df_metricas_cartera['max_drawdown'].fillna(0) * df_metricas_cartera['peso_cartera']).sum()\n",
    "                kelly_global = (df_metricas_cartera['kelly_criterion'].fillna(0) * df_metricas_cartera['peso_cartera']).sum()\n",
    "                alpha_global = (df_metricas_cartera['alpha'].fillna(0) * df_metricas_cartera['peso_cartera']).sum()\n",
    "                beta_global = (df_metricas_cartera['beta'].fillna(1) * df_metricas_cartera['peso_cartera']).sum()\n",
    "                \n",
    "                print(f\"📊 Composición: {len(activos_cartera)} activos con participación\")\n",
    "                print(f\"🎯 Sharpe Ratio Global:      {sharpe_global:>8.4f}\")\n",
    "                print(f\"📈 Sortino Ratio Global:     {sortino_global:>8.4f}\")\n",
    "                print(f\"⚠️  VaR 95% Global:           {var_global*100:>7.2f}%\")\n",
    "                print(f\"🔻 CVaR 95% Global:          {cvar_global*100:>7.2f}%\")\n",
    "                print(f\"📉 Max Drawdown Global:      {dd_global*100:>7.2f}%\")\n",
    "                print(f\"🎲 Kelly Criterion Global:   {kelly_global:>8.4f}\")\n",
    "                print(f\"⚡ Alpha Global:             {alpha_global:>8.4f}\")\n",
    "                print(f\"📊 Beta Global:              {beta_global:>8.4f}\")\n",
    "                \n",
    "                print(f\"\\n💡 INTERPRETACIÓN GLOBAL:\")\n",
    "                if sharpe_global > 1.0:\n",
    "                    print(\"   • Excelente relación riesgo-rendimiento global\")\n",
    "                elif sharpe_global > 0.5:\n",
    "                    print(\"   • Buena relación riesgo-rendimiento global\")\n",
    "                else:\n",
    "                    print(\"   • Relación riesgo-rendimiento global aceptable\")\n",
    "                    \n",
    "                print(\"=\"*70)\n",
    "    except Exception as e:\n",
    "        print(f\"⚠️  No se pudieron calcular ratios globales: {str(e)}\")\n",
    "    \n",
    "    # ACTUALIZAR EXCEL EXISTENTE CON DATOS CALCULADOS\n",
    "    try:\n",
    "        archivo_ratios = r\"c:\\Users\\trico\\OneDrive\\UBA\\Management Financiero Bursatil\\Cartera final\\Ratios Managment financiero cartera.xlsx\"\n",
    "        \n",
    "        # Actualizar archivo con datos calculados\n",
    "        with pd.ExcelWriter(archivo_ratios, engine='openpyxl') as writer:\n",
    "            # ACTUALIZAR hojas específicas con datos calculados\n",
    "            # Drawdown\n",
    "            drawdown_data = df_metricas[['activo', 'max_drawdown', 'ulcer_index', 'calmar_ratio']].copy()\n",
    "            drawdown_data['max_drawdown'] = drawdown_data['max_drawdown'] * 100  # Convertir a porcentaje\n",
    "            drawdown_data.columns = ['Activo', 'Max_Drawdown_%', 'Ulcer_Index', 'Calmar_Ratio']\n",
    "            drawdown_data.to_excel(writer, sheet_name='Drawdown', index=False)\n",
    "            \n",
    "            # VaR\n",
    "            var_data = df_metricas[['activo', 'var_95', 'cvar_95']].copy()\n",
    "            var_data['var_95'] = var_data['var_95'] * 100  \n",
    "            var_data['cvar_95'] = var_data['cvar_95'] * 100\n",
    "            var_data.columns = ['Activo', 'VaR_95%', 'CVaR_95%']\n",
    "            var_data.to_excel(writer, sheet_name='VaR', index=False)\n",
    "            \n",
    "            # VaR cond - Usar CVaR\n",
    "            cvar_data = df_metricas[['activo', 'cvar_95']].copy()\n",
    "            cvar_data['cvar_95'] = cvar_data['cvar_95'] * 100\n",
    "            cvar_data.columns = ['Activo', 'CVaR_95%']\n",
    "            cvar_data.to_excel(writer, sheet_name='VaR cond', index=False)\n",
    "            \n",
    "            # Kelly criterion\n",
    "            kelly_data_sheet = df_metricas[['activo', 'kelly_criterion']].copy()\n",
    "            kelly_data_sheet.columns = ['Activo', 'Kelly_Criterion']\n",
    "            kelly_data_sheet.to_excel(writer, sheet_name='Kelly criterion', index=False)\n",
    "            \n",
    "            # Sharpe\n",
    "            sharpe_data = df_metricas[['activo', 'sharpe_ratio', 'rendimiento_anual', 'volatilidad']].copy()\n",
    "            sharpe_data['rendimiento_anual'] = sharpe_data['rendimiento_anual'] * 100\n",
    "            sharpe_data['volatilidad'] = sharpe_data['volatilidad'] * 100\n",
    "            sharpe_data.columns = ['Activo', 'Sharpe_Ratio', 'Rendimiento_Anual_%', 'Volatilidad_%']\n",
    "            sharpe_data.to_excel(writer, sheet_name='Sharpe', index=False)\n",
    "            \n",
    "            # Sortino\n",
    "            sortino_data = df_metricas[['activo', 'sortino_ratio', 'rendimiento_anual', 'max_drawdown']].copy()\n",
    "            sortino_data['rendimiento_anual'] = sortino_data['rendimiento_anual'] * 100\n",
    "            sortino_data['max_drawdown'] = sortino_data['max_drawdown'] * 100\n",
    "            sortino_data.columns = ['Activo', 'Sortino_Ratio', 'Rendimiento_Anual_%', 'Max_Drawdown_%']\n",
    "            sortino_data.to_excel(writer, sheet_name='Sortino', index=False)\n",
    "            \n",
    "            # Alpha beta\n",
    "            alpha_beta_data = df_metricas[['activo', 'alpha', 'beta', 'r_squared', 'treynor_ratio']].copy()\n",
    "            alpha_beta_data['alpha'] = alpha_beta_data['alpha'] * 100\n",
    "            alpha_beta_data.columns = ['Activo', 'Alpha_%', 'Beta', 'R_Squared', 'Treynor_Ratio']\n",
    "            alpha_beta_data.to_excel(writer, sheet_name='Alpha beta', index=False)\n",
    "        \n",
    "        print(f\"\\n💾 ACTUALIZADO: '{archivo_ratios}' - TODAS LAS HOJAS ACTUALIZADAS con datos calculados\")\n",
    "        \n",
    "    except Exception as e:\n",
    "        print(f\"❌ Error actualizando archivo de ratios: {str(e)}\")\n",
    "    \n",
    "else:\n",
    "    print(\"❌ No se pudieron calcular métricas\")"
   ]
  },
  {
   "cell_type": "markdown",
   "id": "53e102af",
   "metadata": {},
   "source": [
    "## 3. Visualizaciones y Análisis de Correlación\n",
    "\n",
    "Gráficos profesionales para análisis de performance y correlaciones."
   ]
  },
  {
   "cell_type": "code",
   "execution_count": 40,
   "id": "578da412",
   "metadata": {},
   "outputs": [
    {
     "name": "stdout",
     "output_type": "stream",
     "text": [
      "📊 Generando visualizaciones...\n",
      "🔍 Iniciando análisis visual...\n",
      "📊 Analizando 7 activos: ['AAPL', 'SPY', 'EWZ', 'CEPU', 'BHIL', 'METRO', 'IBM']\n",
      "📈 Calculando retornos...\n",
      "✅ Matriz de retornos: 171 días, 7 activos\n",
      "📊 Creando gráfico de performance...\n"
     ]
    },
    {
     "data": {
      "application/vnd.plotly.v1+json": {
       "config": {
        "plotlyServerURL": "https://plot.ly"
       },
       "data": [
        {
         "connectgaps": false,
         "hovertemplate": "%{x}<br>AAPL: %{y:.2f}<extra></extra>",
         "mode": "lines",
         "name": "AAPL",
         "type": "scatter",
         "x": [
          1,
          2,
          3,
          4,
          5,
          6,
          7,
          8,
          9,
          10,
          11,
          12,
          13,
          14,
          15,
          16,
          17,
          18,
          19,
          20,
          21,
          22,
          23,
          24,
          25,
          26,
          27,
          28,
          29,
          30,
          31,
          32,
          33,
          34,
          35,
          36,
          37,
          38,
          39,
          40,
          41,
          42,
          43,
          44,
          45,
          46,
          47,
          48,
          49,
          50,
          51,
          52,
          53,
          54,
          55,
          56,
          57,
          58,
          59,
          60,
          61,
          62,
          63,
          64,
          65,
          66,
          67,
          68,
          69,
          70,
          71,
          72,
          73,
          74,
          75,
          76,
          77,
          78,
          79,
          80,
          81,
          82,
          83,
          84,
          85,
          86,
          87,
          88,
          89,
          90,
          91,
          92,
          93,
          94,
          95,
          96,
          97,
          98,
          99,
          100,
          101,
          102,
          103,
          104,
          105,
          106,
          107,
          108,
          109,
          110,
          111,
          112,
          113,
          114,
          115,
          116,
          117,
          118,
          119,
          120,
          121,
          122,
          123,
          124,
          125,
          126,
          127,
          128,
          129,
          130,
          131,
          132,
          133,
          134,
          135,
          136,
          137,
          138,
          139,
          140,
          141,
          142,
          143,
          144,
          145,
          146,
          147,
          148,
          149,
          150,
          151,
          152,
          153,
          154,
          155,
          156,
          157,
          158,
          159,
          160,
          161,
          162,
          163,
          164,
          165,
          166,
          167,
          168,
          169,
          170,
          171
         ],
         "y": [
          101.21951219512195,
          100.17421602787458,
          100.34843205574914,
          100.17421602787458,
          98.0836236933798,
          97.03832752613242,
          97.21254355400698,
          98.60627177700349,
          95.1219512195122,
          95.1219512195122,
          96.16724738675957,
          91.46341463414633,
          92.50871080139372,
          92.16027874564458,
          90.59233449477348,
          94.25087108013935,
          97.9094076655052,
          97.73519163763062,
          98.60627177700346,
          96.16724738675957,
          94.68250871080139,
          96.5970731707317,
          96.77114982578397,
          96.94515679442507,
          95.55275261324041,
          94.59930313588849,
          96.86411149825783,
          98.43205574912889,
          101.04529616724737,
          102.09059233449476,
          103.48432055749126,
          102.61324041811844,
          103.31010452961671,
          104.00696864111498,
          104.35540069686414,
          104.70383275261325,
          105.05226480836238,
          101.56794425087111,
          101.74216027874566,
          101.74216027874566,
          101.74216027874566,
          101.74216027874566,
          101.56794425087111,
          101.21951219512198,
          101.74216027874567,
          97.212543554007,
          94.7735191637631,
          92.85714285714289,
          89.8954703832753,
          92.16027874564463,
          93.72822299651571,
          96.16724738675961,
          96.34146341463416,
          95.99303135888503,
          97.73519163763069,
          97.73519163763069,
          101.21951219512198,
          100.17421602787459,
          101.219512195122,
          99.30313588850179,
          102.09059233449483,
          101.7421602787457,
          101.7421602787457,
          93.55400696864116,
          87.97909407665509,
          85.54006968641119,
          82.22996515679446,
          92.68292682926834,
          90.76655052264813,
          92.33449477351922,
          88.85017421602794,
          87.63066202090599,
          79.79094076655056,
          79.79094076655056,
          75.95818815331015,
          80.66202090592338,
          84.4947735191638,
          87.28222996515684,
          87.28222996515684,
          87.63066202090599,
          87.63066202090599,
          88.15331010452967,
          88.15331010452967,
          88.15331010452967,
          84.03888501742165,
          84.03888501742165,
          79.86306620209064,
          79.5150522648084,
          80.03700348432059,
          84.66898954703835,
          86.06271777003485,
          85.36585365853661,
          85.54006968641117,
          86.06271777003485,
          84.8432055749129,
          83.97212543554008,
          81.8815331010453,
          81.53310104529618,
          79.26829268292683,
          80.48780487804879,
          82.05574912891987,
          82.05574912891987,
          83.27526132404182,
          84.14634146341464,
          83.79790940766551,
          84.8432055749129,
          84.8432055749129,
          83.79790940766551,
          85.3658536585366,
          84.32055749128921,
          84.32055749128921,
          82.57839721254355,
          82.40418118466899,
          81.53310104529616,
          81.53310104529616,
          80.66202090592334,
          80.31358885017423,
          80.48780487804879,
          80.48780487804879,
          83.62369337979094,
          83.10104529616726,
          84.3205574912892,
          84.49477351916376,
          84.14634146341463,
          87.2822299651568,
          89.54703832752614,
          91.81184668989548,
          92.33449477351915,
          93.03135888501741,
          93.5540069686411,
          92.33449477351915,
          92.33449477351915,
          94.25087108013936,
          93.72822299651567,
          94.59930313588849,
          93.5540069686411,
          93.5540069686411,
          94.25087108013935,
          95.29616724738673,
          95.12195121951217,
          94.42508710801391,
          94.42508710801391,
          95.12195121951217,
          96.16724738675954,
          96.68989547038323,
          95.12195121951216,
          95.81881533101041,
          98.60627177700344,
          96.51567944250866,
          95.99296167247383,
          95.12188153310099,
          99.4772822299651,
          102.09052264808356,
          106.62006968641109,
          104.87804878048775,
          105.92334494773512,
          107.31707317073162,
          106.27177700348425,
          106.27177700348425,
          104.87804878048775,
          104.35540069686404,
          103.31010452961667,
          103.48432055749122,
          105.74912891986055,
          108.0139372822299,
          107.83972125435535,
          108.88501742160273,
          109.4076655052264,
          109.4076655052264,
          110.62717770034835,
          109.4076655052264
         ]
        },
        {
         "connectgaps": false,
         "hovertemplate": "%{x}<br>SPY: %{y:.2f}<extra></extra>",
         "mode": "lines",
         "name": "SPY",
         "type": "scatter",
         "x": [
          1,
          2,
          3,
          4,
          5,
          6,
          7,
          8,
          9,
          10,
          11,
          12,
          13,
          14,
          15,
          16,
          17,
          18,
          19,
          20,
          21,
          22,
          23,
          24,
          25,
          26,
          27,
          28,
          29,
          30,
          31,
          32,
          33,
          34,
          35,
          36,
          37,
          38,
          39,
          40,
          41,
          42,
          43,
          44,
          45,
          46,
          47,
          48,
          49,
          50,
          51,
          52,
          53,
          54,
          55,
          56,
          57,
          58,
          59,
          60,
          61,
          62,
          63,
          64,
          65,
          66,
          67,
          68,
          69,
          70,
          71,
          72,
          73,
          74,
          75,
          76,
          77,
          78,
          79,
          80,
          81,
          82,
          83,
          84,
          85,
          86,
          87,
          88,
          89,
          90,
          91,
          92,
          93,
          94,
          95,
          96,
          97,
          98,
          99,
          100,
          101,
          102,
          103,
          104,
          105,
          106,
          107,
          108,
          109,
          110,
          111,
          112,
          113,
          114,
          115,
          116,
          117,
          118,
          119,
          120,
          121,
          122,
          123,
          124,
          125,
          126,
          127,
          128,
          129,
          130,
          131,
          132,
          133,
          134,
          135,
          136,
          137,
          138,
          139,
          140,
          141,
          142,
          143,
          144,
          145,
          146,
          147,
          148,
          149,
          150,
          151,
          152,
          153,
          154,
          155,
          156,
          157,
          158,
          159,
          160,
          161,
          162,
          163,
          164,
          165,
          166,
          167,
          168,
          169,
          170,
          171
         ],
         "y": [
          100.9292370277796,
          100.42887862820598,
          100.28591908547064,
          101.57255497008858,
          99.07076297222036,
          98.99928320085272,
          99.07076297222038,
          100.85775725641193,
          100.78627748504428,
          101.71551451282387,
          102.43031222650052,
          102.14439314102988,
          103.35954925428013,
          103.14510994017714,
          101.57255497008858,
          100,
          101.7155145128239,
          101.50107519872091,
          102.07291336966222,
          101.92995382692689,
          102.0729133696622,
          103.07363016880946,
          103.71694811111843,
          103.57398856838311,
          103.28806948291248,
          103.07363016880949,
          103.28806948291248,
          103.00215039744181,
          104.07434696795674,
          104.64618513889805,
          106.50465919445726,
          105.71838170941297,
          106.36169965172193,
          106.00430079488363,
          104.50322559616272,
          104.21730651069208,
          103.28806948291248,
          103.14510994017714,
          102.71623131197116,
          103.14510994017714,
          103.14510994017714,
          103.14510994017714,
          103.07363016880949,
          101.35811565598559,
          100.50035839957363,
          98.35596525854375,
          98.07004617307311,
          98.35596525854376,
          97.21228891666117,
          99.92852022863234,
          101.92995382692689,
          104.14582673932442,
          104.43174582479506,
          104.07434696795674,
          104.07454711131656,
          104.07454711131656,
          106.71929865192007,
          105.64710208140514,
          105.28970322456681,
          103.93158756858124,
          105.1467436818315,
          105.00378413909618,
          105.00378413909618,
          101.50127534208073,
          96.85509020318267,
          98.14172608780059,
          97.06952951728566,
          104.57490551089022,
          102.28755282712501,
          102.28755282712501,
          96.78361043181499,
          95.49697454719707,
          88.49195695316614,
          88.49195695316614,
          83.20245387195911,
          87.06236152581289,
          90.63635009419602,
          93.92441957710848,
          94.71069706215278,
          93.99589934847616,
          94.2818184339468,
          94.71069706215278,
          94.71069706215278,
          94.71069706215278,
          97.92728677369759,
          97.06952951728563,
          93.56702072027018,
          93.56702072027018,
          93.42406117753485,
          96.42621157497669,
          97.35544860275631,
          97.28396883138865,
          98.07024631643291,
          99.6428012865215,
          99.0709631155802,
          98.92800357284487,
          97.14100928865331,
          96.85509020318264,
          96.35473180360901,
          96.49769134634434,
          99.14244288694785,
          98.8565238014772,
          100.57203831430108,
          101.57275511344834,
          101.14387648524237,
          102.00163374165432,
          102.35903259849263,
          101.50127534208069,
          102.71643145533096,
          102.85939099806627,
          102.64495168396328,
          102.35903259849263,
          102.71643145533096,
          101.35179684419664,
          101.35179684419664,
          100.56780671183611,
          99.64122873155138,
          100.07167991472745,
          100.07167991472745,
          101.93015397028667,
          103.07383031216926,
          104.1460268826842,
          105.21822345319913,
          105.64710208140511,
          107.2196570514937,
          109.22109064978824,
          110.00736813483252,
          110.72216584850916,
          111.7943624190241,
          113.29543761774501,
          112.00880173312709,
          112.00880173312709,
          113.79579601731864,
          113.43839716048032,
          116.01166892971617,
          113.93875556005398,
          113.79579601731866,
          115.22539144467191,
          116.29758801518686,
          115.51131053014258,
          113.79579601731868,
          114.72503304509831,
          115.72574984424557,
          117.58422389980481,
          118.15606207074609,
          117.58422389980478,
          119.51417772673167,
          123.01668652374713,
          121.7300506391292,
          122.58780789554116,
          120.87229338271726,
          120.87229338271726,
          120.22897544040829,
          121.51561132502621,
          120.58637429724659,
          121.87301018186452,
          121.87301018186452,
          120.87229338271726,
          120.87229338271726,
          119.87157658356998,
          119.0852990985257,
          119.58565749809932,
          120.0145361263053,
          122.87372698101183,
          125.37551897888002,
          125.0181201220417,
          125.73291783571834,
          125.01812012204172,
          124.87516057930638,
          128.52062891905717,
          125.4469987502477
         ]
        },
        {
         "connectgaps": false,
         "hovertemplate": "%{x}<br>EWZ: %{y:.2f}<extra></extra>",
         "mode": "lines",
         "name": "EWZ",
         "type": "scatter",
         "x": [
          1,
          2,
          3,
          4,
          5,
          6,
          7,
          8,
          9,
          10,
          11,
          12,
          13,
          14,
          15,
          16,
          17,
          18,
          19,
          20,
          21,
          22,
          23,
          24,
          25,
          26,
          27,
          28,
          29,
          30,
          31,
          32,
          33,
          34,
          35,
          36,
          37,
          38,
          39,
          40,
          41,
          42,
          43,
          44,
          45,
          46,
          47,
          48,
          49,
          50,
          51,
          52,
          53,
          54,
          55,
          56,
          57,
          58,
          59,
          60,
          61,
          62,
          63,
          64,
          65,
          66,
          67,
          68,
          69,
          70,
          71,
          72,
          73,
          74,
          75,
          76,
          77,
          78,
          79,
          80,
          81,
          82,
          83,
          84,
          85,
          86,
          87,
          88,
          89,
          90,
          91,
          92,
          93,
          94,
          95,
          96,
          97,
          98,
          99,
          100,
          101,
          102,
          103,
          104,
          105,
          106,
          107,
          108,
          109,
          110,
          111,
          112,
          113,
          114,
          115,
          116,
          117,
          118,
          119,
          120,
          121,
          122,
          123,
          124,
          125,
          126,
          127,
          128,
          129,
          130,
          131,
          132,
          133,
          134,
          135,
          136,
          137,
          138,
          139,
          140,
          141,
          142,
          143,
          144,
          145,
          146,
          147,
          148,
          149,
          150,
          151,
          152,
          153,
          154,
          155,
          156,
          157,
          158,
          159,
          160,
          161,
          162,
          163,
          164,
          165,
          166,
          167,
          168,
          169,
          170,
          171
         ],
         "y": [
          102.4482109227872,
          103.954802259887,
          102.63653483992468,
          104.8964218455744,
          102.07156308851224,
          102.63653483992468,
          103.38983050847459,
          105.83804143126179,
          104.51977401129946,
          105.6497175141243,
          108.47457627118646,
          106.40301318267421,
          109.0395480225989,
          107.90960451977402,
          107.15630885122411,
          108.8512241054614,
          109.79284369114879,
          109.79284369114879,
          113.37099811676083,
          113.37099811676083,
          113.93596986817327,
          115.06591337099812,
          115.44256120527305,
          116.19585687382296,
          114.50094161958569,
          115.06591337099809,
          115.44256120527304,
          114.50094161958566,
          114.50094161958566,
          119.20903954802257,
          122.4105461393597,
          120.71563088512241,
          118.83239171374764,
          119.77401129943503,
          116.7608286252354,
          115.2542372881356,
          116.00753295668551,
          114.68926553672318,
          113.74764595103579,
          110.92278719397366,
          110.92278719397366,
          110.92278719397366,
          114.5009416195857,
          114.5009416195857,
          114.5009416195857,
          112.24105461393599,
          113.18267419962336,
          113.55932203389831,
          115.44256120527308,
          120.90395480225989,
          125.23540489642184,
          129.75517890772127,
          130.5084745762712,
          129.19020715630887,
          129.00188323917138,
          129.00188323917138,
          129.37853107344634,
          129.00188323917138,
          128.62523540489644,
          128.060263653484,
          128.43691148775895,
          129.37853107344634,
          129.37853107344634,
          130.50847457627123,
          123.35216572504713,
          123.16384180790965,
          120.90395480225993,
          125.61205273069685,
          123.72881355932208,
          123.72881355932208,
          118.26741996233525,
          116.38418079096049,
          109.98116760828628,
          109.98116760828628,
          107.15630885122414,
          112.42937853107348,
          117.13747645951041,
          121.28060263653491,
          121.84557438794732,
          122.0338983050848,
          122.5988700564972,
          121.46892655367236,
          121.46892655367236,
          121.46892655367236,
          122.41054613935975,
          121.65725047080984,
          116.19585687382303,
          119.77401129943507,
          120.33898305084752,
          119.96233521657255,
          123.91713747645959,
          123.35216572504714,
          122.78719397363471,
          123.7288135593221,
          124.10546139359707,
          123.7288135593221,
          121.09227871939743,
          120.33898305084752,
          121.09227871939743,
          121.84557438794732,
          123.91713747645956,
          122.59887005649723,
          124.85875706214695,
          123.16384180790966,
          122.22222222222227,
          124.10546139359704,
          124.10546139359704,
          124.482109227872,
          125.42372881355939,
          124.85875706214698,
          124.85875706214698,
          126.22629001883247,
          125.66357815442568,
          123.16384180790966,
          123.16384180790966,
          125.04708097928443,
          123.91713747645956,
          125.23540489642191,
          125.23540489642191,
          123.91713747645956,
          125.04708097928443,
          124.67043314500947,
          127.68361581920911,
          127.49529190207163,
          132.01506591337107,
          134.27495291902076,
          135.0282485875707,
          137.66478342749534,
          138.0414312617703,
          137.8531073446328,
          136.72316384180795,
          136.72316384180795,
          132.9566854990584,
          132.2033898305085,
          133.70998116760833,
          132.58003766478348,
          132.391713747646,
          134.0866290018833,
          131.45009416195862,
          131.26177024482112,
          128.81355932203394,
          131.4500941619586,
          130.32015065913373,
          130.88512241054616,
          129.56685499058383,
          130.32015065913376,
          133.70998116760833,
          136.15819209039552,
          137.47645951035784,
          137.8531073446328,
          137.0998116760829,
          137.8531073446328,
          140.67796610169495,
          139.92467043314508,
          138.2297551789078,
          141.43126177024487,
          140.11299435028255,
          137.47645951035787,
          137.47645951035787,
          138.7947269303202,
          134.46327683615823,
          136.346516007533,
          137.66478342749534,
          143.31450094161963,
          147.26930320150663,
          145.9510357815443,
          148.210922787194,
          149.15254237288136,
          150.65913370998118,
          153.67231638418082,
          149.90583804143128
         ]
        },
        {
         "connectgaps": false,
         "hovertemplate": "%{x}<br>CEPU: %{y:.2f}<extra></extra>",
         "mode": "lines",
         "name": "CEPU",
         "type": "scatter",
         "x": [
          1,
          2,
          3,
          4,
          5,
          6,
          7,
          8,
          9,
          10,
          11,
          12,
          13,
          14,
          15,
          16,
          17,
          18,
          19,
          20,
          21,
          22,
          23,
          24,
          25,
          26,
          27,
          28,
          29,
          30,
          31,
          32,
          33,
          34,
          35,
          36,
          37,
          38,
          39,
          40,
          41,
          42,
          43,
          44,
          45,
          46,
          47,
          48,
          49,
          50,
          51,
          52,
          53,
          54,
          55,
          56,
          57,
          58,
          59,
          60,
          61,
          62,
          63,
          64,
          65,
          66,
          67,
          68,
          69,
          70,
          71,
          72,
          73,
          74,
          75,
          76,
          77,
          78,
          79,
          80,
          81,
          82,
          83,
          84,
          85,
          86,
          87,
          88,
          89,
          90,
          91,
          92,
          93,
          94,
          95,
          96,
          97,
          98,
          99,
          100,
          101,
          102,
          103,
          104,
          105,
          106,
          107,
          108,
          109,
          110,
          111,
          112,
          113,
          114,
          115,
          116,
          117,
          118,
          119,
          120,
          121,
          122,
          123,
          124,
          125,
          126,
          127,
          128,
          129,
          130,
          131,
          132,
          133,
          134,
          135,
          136,
          137,
          138,
          139,
          140,
          141,
          142,
          143,
          144,
          145,
          146,
          147,
          148,
          149,
          150,
          151,
          152,
          153,
          154,
          155,
          156,
          157,
          158,
          159,
          160,
          161,
          162,
          163,
          164,
          165,
          166,
          167,
          168,
          169,
          170,
          171
         ],
         "y": [
          100.26385224274405,
          101.3192612137203,
          98.94459102902373,
          98.68073878627966,
          95.77836411609498,
          90.50131926121371,
          93.13984168865434,
          90.76517150395777,
          85.75197889182058,
          80.73878627968337,
          81.2664907651715,
          88.39050131926119,
          91.55672823218994,
          88.12664907651713,
          85.48812664907649,
          81.79419525065961,
          82.32189973614773,
          87.598944591029,
          90.76517150395776,
          90.50131926121368,
          88.65435356200524,
          91.55672823218994,
          89.7097625329815,
          88.65435356200526,
          85.48812664907649,
          84.16886543535618,
          79.68337730870711,
          81.53034300791555,
          83.377308707124,
          85.4881266490765,
          79.15567282321898,
          85.75197889182056,
          84.96042216358836,
          84.43271767810025,
          82.84960422163586,
          83.11345646437994,
          78.89182058047491,
          77.30870712401054,
          75.46174142480209,
          74.40633245382584,
          74.40633245382584,
          74.40633245382584,
          79.15567282321898,
          79.15567282321898,
          78.89182058047493,
          74.93403693931397,
          75.4617414248021,
          80.73878627968337,
          78.3641160949868,
          81.00263852242745,
          81.00263852242745,
          79.68337730870712,
          82.58575197889184,
          83.64116094986808,
          85.75197889182058,
          85.75197889182058,
          85.22427440633246,
          83.11345646437995,
          81.53034300791558,
          79.68337730870714,
          76.78100263852244,
          78.36411609498683,
          78.36411609498683,
          77.0448548812665,
          70.71240105540898,
          68.3377308707124,
          66.2269129287599,
          72.29551451187335,
          71.76781002638522,
          75.98944591029024,
          75.46174142480211,
          73.87862796833774,
          69.65699208443272,
          69.65699208443272,
          65.43535620052772,
          68.86543535620055,
          71.50395778364118,
          70.18469656992087,
          69.65699208443273,
          67.81002638522429,
          68.60158311345647,
          66.49076517150398,
          66.49076517150398,
          66.49076517150398,
          65.96306068601585,
          68.07387862796837,
          66.75461741424805,
          66.75461741424805,
          72.29551451187336,
          75.19788918205806,
          77.57255936675465,
          79.94722955145122,
          81.53034300791559,
          81.26649076517154,
          83.37730870712404,
          86.01583113456466,
          82.58575197889184,
          84.16886543535622,
          83.6411609498681,
          85.22427440633248,
          84.96042216358842,
          83.6411609498681,
          85.48812664907655,
          82.58575197889184,
          79.15567282321902,
          79.41952506596309,
          75.72559366754619,
          77.57255936675465,
          78.6279683377309,
          76.78100263852245,
          79.68337730870716,
          77.57255936675465,
          78.89182058047496,
          77.30870712401058,
          77.30870712401058,
          74.40633245382588,
          75.46174142480214,
          75.98944591029027,
          75.98944591029027,
          71.76781002638526,
          75.46174142480216,
          73.08707124010559,
          74.40633245382591,
          75.1978891820581,
          74.40633245382593,
          76.7810026385225,
          77.04485488126656,
          76.25329815303436,
          75.1978891820581,
          75.9894459102903,
          78.62796833773095,
          78.62796833773095,
          76.7810026385225,
          73.61477572559374,
          75.98944591029031,
          76.51715039577843,
          75.72559366754625,
          77.30870712401062,
          77.83641160949875,
          77.04485488126657,
          76.25329815303438,
          79.15567282321906,
          80.21108179419532,
          82.58575197889189,
          83.64116094986814,
          87.07124010554097,
          86.27968337730879,
          87.07124010554097,
          87.07124010554097,
          85.48812664907659,
          86.80738786279692,
          91.02902374670194,
          90.76517150395787,
          88.39050131926129,
          89.44591029023753,
          88.39050131926129,
          86.0158311345647,
          82.05804749340375,
          82.05804749340375,
          80.21108179419531,
          75.72559366754622,
          75.72559366754622,
          77.3087071240106,
          77.04485488126653,
          73.6147757255937,
          76.25329815303434,
          73.87862796833777,
          77.04485488126653,
          76.25329815303434,
          73.87862796833777,
          74.4063324538259
         ]
        },
        {
         "connectgaps": false,
         "hovertemplate": "%{x}<br>BHIL: %{y:.2f}<extra></extra>",
         "mode": "lines",
         "name": "BHIL",
         "type": "scatter",
         "x": [
          1,
          2,
          3,
          4,
          5,
          6,
          7,
          8,
          9,
          10,
          11,
          12,
          13,
          14,
          15,
          16,
          17,
          18,
          19,
          20,
          21,
          22,
          23,
          24,
          25,
          26,
          27,
          28,
          29,
          30,
          31,
          32,
          33,
          34,
          35,
          36,
          37,
          38,
          39,
          40,
          41,
          42,
          43,
          44,
          45,
          46,
          47,
          48,
          49,
          50,
          51,
          52,
          53,
          54,
          55,
          56,
          57,
          58,
          59,
          60,
          61,
          62,
          63,
          64,
          65,
          66,
          67,
          68,
          69,
          70,
          71,
          72,
          73,
          74,
          75,
          76,
          77,
          78,
          79,
          80,
          81,
          82,
          83,
          84,
          85,
          86,
          87,
          88,
          89,
          90,
          91,
          92,
          93,
          94,
          95,
          96,
          97,
          98,
          99,
          100,
          101,
          102,
          103,
          104,
          105,
          106,
          107,
          108,
          109,
          110,
          111,
          112,
          113,
          114,
          115,
          116,
          117,
          118,
          119,
          120,
          121,
          122,
          123,
          124,
          125,
          126,
          127,
          128,
          129,
          130,
          131,
          132,
          133,
          134,
          135,
          136,
          137,
          138,
          139,
          140,
          141,
          142,
          143,
          144,
          145,
          146,
          147,
          148,
          149,
          150,
          151,
          152,
          153,
          154,
          155,
          156,
          157,
          158,
          159,
          160,
          161,
          162,
          163,
          164,
          165,
          166,
          167,
          168,
          169,
          170,
          171
         ],
         "y": [
          102.9702874731327,
          100.16500955928662,
          95.87459315460025,
          101.1551088808149,
          101.98019864305654,
          97.35973164544052,
          100.33002961002535,
          100.16500955928657,
          96.0395922224347,
          91.58415576700958,
          94.05940407083028,
          94.2244136301169,
          97.02970203541513,
          95.70957310386147,
          92.57425508853787,
          85.80858513430472,
          85.31352498208844,
          87.29372887087108,
          90.26402683545592,
          88.11881863311275,
          87.62376372662254,
          90.75907649622008,
          91.25412615698423,
          91.5841557670096,
          88.28381770094724,
          84.32343090628626,
          78.63035980749866,
          82.01320265320432,
          83.16831677974531,
          84.48844571129898,
          79.78547393403963,
          83.333331584758,
          84.65346051631167,
          85.47855027855334,
          85.64356508356602,
          84.65346051631167,
          82.4257422885991,
          80.94058806058061,
          78.21782017210391,
          78.1353153924606,
          78.1353153924606,
          78.1353153924606,
          81.18811289096269,
          79.78547393403966,
          80.1155087897911,
          75.57755706327055,
          76.15511674940406,
          79.86798395940905,
          77.55775570632711,
          80.69306847592465,
          79.04290468861953,
          75.33003223288848,
          78.30033019747333,
          76.81518121518091,
          78.63035980749873,
          78.63035980749873,
          81.60065777208358,
          80.6105584505553,
          79.70297440012246,
          78.13531539246065,
          75.66006184291389,
          75.24752220751911,
          75.24752220751911,
          70.37953562524709,
          62.78877590877228,
          58.085809377238995,
          54.702966531533335,
          58.00329935186962,
          55.693065853061604,
          59.73597841027017,
          66.99669802526745,
          68.72936659221588,
          65.18151418722357,
          65.18151418722357,
          63.448840374549086,
          66.99669802526745,
          71.94718938718279,
          73.67986844558335,
          75.82508713937868,
          73.92739327596543,
          75.2475222075191,
          72.52474907331631,
          72.52474907331631,
          72.52474907331631,
          68.72936659221588,
          70.79207526064182,
          70.62706045562915,
          69.80198118483962,
          69.55445635445756,
          73.51484839484459,
          75.90758667329591,
          76.23762152904737,
          75.2475222075191,
          74.09240808097812,
          76.8151812151809,
          78.465345002486,
          80.94058806058064,
          81.43564296707086,
          79.04290468861953,
          79.70297440012244,
          78.21782017210394,
          76.07260672403469,
          71.8646846075395,
          69.55445635445756,
          65.51154379724898,
          66.99669802526746,
          64.52144972144676,
          63.86138525566992,
          65.92409392409587,
          64.68646977218552,
          69.22442149870609,
          67.07920805063682,
          65.84158389872648,
          63.20131554416702,
          63.20131554416702,
          59.48844833416204,
          57.83828454685692,
          59.075908698767265,
          59.075908698767265,
          56.02310070881305,
          59.32342828342326,
          56.67868532452531,
          57.59825061330409,
          58.60141179274896,
          57.431053586245916,
          57.431053586245916,
          58.93579535541319,
          59.855365889918055,
          62.196077057198075,
          59.68816886285988,
          60.69133528803079,
          60.69133528803079,
          60.022557671250176,
          58.76860881980714,
          58.76860881980714,
          57.09667002358167,
          56.76227596946529,
          56.92947299652348,
          56.59508943385924,
          56.427892406801064,
          55.50832711802227,
          57.43105358624593,
          58.26702823008474,
          62.88735359309685,
          67.20980040117222,
          73.22731965744576,
          69.49815397653846,
          71.2779816208644,
          69.7524143191956,
          70.09142985798043,
          71.5322419635215,
          74.07486112727094,
          69.83716951532331,
          68.05733662527132,
          67.54881593995708,
          66.02324339256221,
          64.49767609089338,
          60.85326036038773,
          60.85326036038773,
          60.25998447894576,
          59.497198205248324,
          58.22589124623663,
          58.1411360501089,
          59.24293786259119,
          55.09137058127581,
          55.00542460532999,
          51.911369471280175,
          53.63028899019674,
          52.16920739911765,
          50.278395928309436,
          50.02055800047196
         ]
        },
        {
         "connectgaps": false,
         "hovertemplate": "%{x}<br>METRO: %{y:.2f}<extra></extra>",
         "mode": "lines",
         "name": "METRO",
         "type": "scatter",
         "x": [
          1,
          2,
          3,
          4,
          5,
          6,
          7,
          8,
          9,
          10,
          11,
          12,
          13,
          14,
          15,
          16,
          17,
          18,
          19,
          20,
          21,
          22,
          23,
          24,
          25,
          26,
          27,
          28,
          29,
          30,
          31,
          32,
          33,
          34,
          35,
          36,
          37,
          38,
          39,
          40,
          41,
          42,
          43,
          44,
          45,
          46,
          47,
          48,
          49,
          50,
          51,
          52,
          53,
          54,
          55,
          56,
          57,
          58,
          59,
          60,
          61,
          62,
          63,
          64,
          65,
          66,
          67,
          68,
          69,
          70,
          71,
          72,
          73,
          74,
          75,
          76,
          77,
          78,
          79,
          80,
          81,
          82,
          83,
          84,
          85,
          86,
          87,
          88,
          89,
          90,
          91,
          92,
          93,
          94,
          95,
          96,
          97,
          98,
          99,
          100,
          101,
          102,
          103,
          104,
          105,
          106,
          107,
          108,
          109,
          110,
          111,
          112,
          113,
          114,
          115,
          116,
          117,
          118,
          119,
          120,
          121,
          122,
          123,
          124,
          125,
          126,
          127,
          128,
          129,
          130,
          131,
          132,
          133,
          134,
          135,
          136,
          137,
          138,
          139,
          140,
          141,
          142,
          143,
          144,
          145,
          146,
          147,
          148,
          149,
          150,
          151,
          152,
          153,
          154,
          155,
          156,
          157,
          158,
          159,
          160,
          161,
          162,
          163,
          164,
          165,
          166,
          167,
          168,
          169,
          170,
          171
         ],
         "y": [
          100.88652482269505,
          100,
          101.24113475177306,
          103.54609929078016,
          103.54609929078016,
          100.17730496453903,
          101.24113475177307,
          97.51773049645392,
          92.55319148936174,
          86.17021276595747,
          90.24822695035463,
          91.31205673758869,
          96.98581560283691,
          95.03546099290783,
          94.68085106382982,
          90.78014184397166,
          88.65248226950358,
          91.6666666666667,
          92.55319148936174,
          88.47517730496457,
          85.10638297872343,
          84.92907801418443,
          83.68794326241137,
          80.67375886524825,
          79.07801418439718,
          78.36879432624116,
          76.24113475177306,
          79.07801418439718,
          85.81560283687946,
          89.7163120567376,
          83.51063829787236,
          87.23404255319151,
          89.1843971631206,
          87.23404255319153,
          85.46099290780145,
          82.80141843971634,
          79.43262411347521,
          77.30496453900713,
          73.04964539007095,
          75.00000000000003,
          75.00000000000003,
          75.00000000000003,
          84.21985815602841,
          79.60992907801422,
          79.96453900709223,
          73.58156028368798,
          71.98581560283691,
          74.64539007092202,
          72.69503546099294,
          75.00000000000003,
          74.29078014184401,
          70.03546099290784,
          72.87234042553196,
          73.22695035460997,
          76.59574468085111,
          76.59574468085111,
          76.95035460992912,
          75.35460992907805,
          77.65957446808514,
          75.17730496453903,
          74.64539007092202,
          74.290780141844,
          74.290780141844,
          71.09929078014187,
          64.89361702127661,
          58.156028368794345,
          51.06382978723406,
          57.092198581560304,
          54.07801418439718,
          61.8794326241135,
          73.93617021276599,
          73.40425531914897,
          67.90780141843975,
          67.90780141843975,
          65.60283687943266,
          72.69503546099294,
          76.06382978723408,
          73.04964539007096,
          71.27659574468089,
          69.50354609929083,
          69.32624113475183,
          67.19858156028373,
          67.19858156028373,
          67.19858156028373,
          64.18439716312061,
          67.02127659574472,
          65.24822695035465,
          64.18439716312061,
          68.08510638297876,
          74.82269503546104,
          77.83687943262416,
          79.60992907801423,
          82.62411347517735,
          80.85106382978728,
          83.68794326241141,
          85.28368794326249,
          81.73758865248234,
          79.78723404255325,
          81.02836879432631,
          81.91489361702136,
          81.20567375886533,
          83.51063829787242,
          83.15602836879441,
          81.38297872340434,
          76.77304964539016,
          78.90070921985824,
          73.75886524822704,
          74.11347517730505,
          74.46808510638306,
          73.04964539007099,
          76.95035460992915,
          76.06382978723411,
          75.88652482269511,
          71.98581560283695,
          71.98581560283695,
          71.09929078014193,
          69.32624113475185,
          69.14893617021283,
          69.14893617021283,
          64.00709219858163,
          70.56737588652489,
          68.08510638297878,
          69.14893617021282,
          69.68085106382983,
          65.60283687943267,
          65.07092198581564,
          65.78014184397168,
          69.50354609929083,
          70.21276595744685,
          66.4893617021277,
          72.16312056737591,
          72.16312056737591,
          70.03546099290783,
          67.73049645390074,
          68.61702127659576,
          70.39007092198584,
          69.14893617021278,
          70.03546099290782,
          68.79432624113477,
          67.0212765957447,
          64.3617021276596,
          67.19858156028371,
          69.3262411347518,
          72.51773049645392,
          75.70921985815606,
          77.48226950354614,
          77.30496453900713,
          76.77304964539012,
          73.936170212766,
          76.24113475177309,
          80.14184397163125,
          83.86524822695038,
          80.67375886524826,
          77.83687943262414,
          75.70921985815605,
          75.53191489361704,
          74.64539007092202,
          69.5035460992908,
          69.5035460992908,
          70.74468085106385,
          68.79432624113477,
          66.31205673758866,
          67.90780141843975,
          66.66666666666669,
          61.170212765957466,
          61.524822695035475,
          58.33333333333335,
          58.51063829787236,
          56.737588652482295,
          54.96453900709223,
          53.54609929078017
         ]
        },
        {
         "connectgaps": false,
         "hovertemplate": "%{x}<br>IBM: %{y:.2f}<extra></extra>",
         "mode": "lines",
         "name": "IBM",
         "type": "scatter",
         "x": [
          1,
          2,
          3,
          4,
          5,
          6,
          7,
          8,
          9,
          10,
          11,
          12,
          13,
          14,
          15,
          16,
          17,
          18,
          19,
          20,
          21,
          22,
          23,
          24,
          25,
          26,
          27,
          28,
          29,
          30,
          31,
          32,
          33,
          34,
          35,
          36,
          37,
          38,
          39,
          40,
          41,
          42,
          43,
          44,
          45,
          46,
          47,
          48,
          49,
          50,
          51,
          52,
          53,
          54,
          55,
          56,
          57,
          58,
          59,
          60,
          61,
          62,
          63,
          64,
          65,
          66,
          67,
          68,
          69,
          70,
          71,
          72,
          73,
          74,
          75,
          76,
          77,
          78,
          79,
          80,
          81,
          82,
          83,
          84,
          85,
          86,
          87,
          88,
          89,
          90,
          91,
          92,
          93,
          94,
          95,
          96,
          97,
          98,
          99,
          100,
          101,
          102,
          103,
          104,
          105,
          106,
          107,
          108,
          109,
          110,
          111,
          112,
          113,
          114,
          115,
          116,
          117,
          118,
          119,
          120,
          121,
          122,
          123,
          124,
          125,
          126,
          127,
          128,
          129,
          130,
          131,
          132,
          133,
          134,
          135,
          136,
          137,
          138,
          139,
          140,
          141,
          142,
          143,
          144,
          145,
          146,
          147,
          148,
          149,
          150,
          151,
          152,
          153,
          154,
          155,
          156,
          157,
          158,
          159,
          160,
          161,
          162,
          163,
          164,
          165,
          166,
          167,
          168,
          169,
          170,
          171
         ],
         "y": [
          100.00897745086684,
          100.58837961276845,
          100.23804228365375,
          100.23804228365375,
          98.69751451162284,
          97.64204176598209,
          97.79923804934539,
          98.82326874159982,
          100.00450270900177,
          100.96115357726596,
          100.96115357726596,
          100.7231112936122,
          100.2739730624735,
          101.52256587851313,
          100.96564929448355,
          100.66472290405714,
          101.35190341884966,
          102.68583795239732,
          115.99820199278437,
          114.84392834511954,
          117.10308567711346,
          118.77834512998815,
          118.25735932477828,
          113.8288820955161,
          113.33483563469078,
          112.70186242252325,
          115.15690857144504,
          115.65877184696586,
          117.18696611173117,
          118.13191273330457,
          118.13191273330457,
          118.941225733877,
          119.50638563143619,
          119.69626850576705,
          118.22234446968412,
          118.39866328273646,
          116.53590515393088,
          115.67233590824442,
          114.49228355236627,
          114.13510126655484,
          113.1178176460188,
          114.48325016722612,
          113.64229235152659,
          112.43962856566144,
          118.24947259224112,
          116.15158775377827,
          112.55717444102966,
          112.86463115786543,
          111.13297597392243,
          112.2859002072436,
          114.37473767699802,
          111.65292699507603,
          114.06728096016225,
          110.01170354751257,
          110.26036635131173,
          112.3311160754334,
          112.98670071758792,
          113.18563096062726,
          111.31834914746747,
          110.31914628078002,
          112.42606450438299,
          113.18563096062726,
          113.02286921706927,
          110.08856423082942,
          102.84999805278825,
          102.0813772360514,
          99.93377382039702,
          106.39015512042282,
          103.78590429743741,
          106.4670158037397,
          108.08563481310036,
          108.82712051549606,
          107.86409314007408,
          107.97259863851805,
          106.80159365134831,
          108.9175522518756,
          110.98829498421313,
          103.68643218413358,
          105.07899282789792,
          106.77446552879124,
          108.234839487164,
          109.33350747537108,
          108.35691603867062,
          111.01994679112434,
          112.66117023868783,
          112.6340421161308,
          114.55558017440465,
          114.90372208329175,
          113.41997459045818,
          115.46354025774951,
          117.69370965259868,
          117.34325346315325,
          121.37575099627695,
          121.41217819177234,
          122.16315174527881,
          121.49865257831493,
          118.73141627467825,
          117.59357331979923,
          117.71191625856217,
          117.71191625856217,
          119.80553610868488,
          118.4446692225368,
          117.73922616750747,
          117.90761629731763,
          120.11047578322152,
          120.70216250989958,
          120.84780137403952,
          121.4576807231128,
          122.37249974672272,
          123.83348898210191,
          125.72685015019411,
          128.12998230169688,
          127.90695837042779,
          126.1728980127323,
          128.27106252256172,
          128.82633603731279,
          128.8991624611669,
          128.8991624611669,
          127.8796624450508,
          131.6163236066197,
          133.71450210001743,
          132.4719781526323,
          132.8679508569866,
          131.85299550057724,
          134.1650946222623,
          132.53570127350466,
          130.91996987100381,
          132.88615746295017,
          132.88615746295017,
          133.11372605392594,
          132.1807004243525,
          132.0532681661761,
          130.81983353820442,
          129.0721112342521,
          129.16314426406973,
          128.66704921048435,
          128.31204836133216,
          128.3484475896909,
          130.10981785633166,
          129.5818682340943,
          128.33024098372735,
          128.35300623296595,
          118.56757080457479,
          118.20801131214755,
          119.79643280570313,
          119.43232865356919,
          118.45378650908691,
          115.21775806902596,
          113.80684399183068,
          114.68524980351353,
          114.0890254089129,
          114.82179235645584,
          113.85690516644624,
          111.01140283087567,
          108.2758672766394,
          107.57480107849685,
          110.00333438186809,
          108.64701914721087,
          109.84295683671004,
          109.71923721592485,
          110.5577688825194,
          111.13970207028845,
          109.69632513921886,
          110.92892075309082,
          109.71007098688558,
          111.17635999466127,
          112.18900806229644,
          112.59681785724072,
          111.57042394193877,
          111.57042394193877,
          110.6585764265986
         ]
        }
       ],
       "layout": {
        "height": 500,
        "hovermode": "x unified",
        "template": {
         "data": {
          "bar": [
           {
            "error_x": {
             "color": "#2a3f5f"
            },
            "error_y": {
             "color": "#2a3f5f"
            },
            "marker": {
             "line": {
              "color": "white",
              "width": 0.5
             },
             "pattern": {
              "fillmode": "overlay",
              "size": 10,
              "solidity": 0.2
             }
            },
            "type": "bar"
           }
          ],
          "barpolar": [
           {
            "marker": {
             "line": {
              "color": "white",
              "width": 0.5
             },
             "pattern": {
              "fillmode": "overlay",
              "size": 10,
              "solidity": 0.2
             }
            },
            "type": "barpolar"
           }
          ],
          "carpet": [
           {
            "aaxis": {
             "endlinecolor": "#2a3f5f",
             "gridcolor": "#C8D4E3",
             "linecolor": "#C8D4E3",
             "minorgridcolor": "#C8D4E3",
             "startlinecolor": "#2a3f5f"
            },
            "baxis": {
             "endlinecolor": "#2a3f5f",
             "gridcolor": "#C8D4E3",
             "linecolor": "#C8D4E3",
             "minorgridcolor": "#C8D4E3",
             "startlinecolor": "#2a3f5f"
            },
            "type": "carpet"
           }
          ],
          "choropleth": [
           {
            "colorbar": {
             "outlinewidth": 0,
             "ticks": ""
            },
            "type": "choropleth"
           }
          ],
          "contour": [
           {
            "colorbar": {
             "outlinewidth": 0,
             "ticks": ""
            },
            "colorscale": [
             [
              0,
              "#0d0887"
             ],
             [
              0.1111111111111111,
              "#46039f"
             ],
             [
              0.2222222222222222,
              "#7201a8"
             ],
             [
              0.3333333333333333,
              "#9c179e"
             ],
             [
              0.4444444444444444,
              "#bd3786"
             ],
             [
              0.5555555555555556,
              "#d8576b"
             ],
             [
              0.6666666666666666,
              "#ed7953"
             ],
             [
              0.7777777777777778,
              "#fb9f3a"
             ],
             [
              0.8888888888888888,
              "#fdca26"
             ],
             [
              1,
              "#f0f921"
             ]
            ],
            "type": "contour"
           }
          ],
          "contourcarpet": [
           {
            "colorbar": {
             "outlinewidth": 0,
             "ticks": ""
            },
            "type": "contourcarpet"
           }
          ],
          "heatmap": [
           {
            "colorbar": {
             "outlinewidth": 0,
             "ticks": ""
            },
            "colorscale": [
             [
              0,
              "#0d0887"
             ],
             [
              0.1111111111111111,
              "#46039f"
             ],
             [
              0.2222222222222222,
              "#7201a8"
             ],
             [
              0.3333333333333333,
              "#9c179e"
             ],
             [
              0.4444444444444444,
              "#bd3786"
             ],
             [
              0.5555555555555556,
              "#d8576b"
             ],
             [
              0.6666666666666666,
              "#ed7953"
             ],
             [
              0.7777777777777778,
              "#fb9f3a"
             ],
             [
              0.8888888888888888,
              "#fdca26"
             ],
             [
              1,
              "#f0f921"
             ]
            ],
            "type": "heatmap"
           }
          ],
          "heatmapgl": [
           {
            "colorbar": {
             "outlinewidth": 0,
             "ticks": ""
            },
            "colorscale": [
             [
              0,
              "#0d0887"
             ],
             [
              0.1111111111111111,
              "#46039f"
             ],
             [
              0.2222222222222222,
              "#7201a8"
             ],
             [
              0.3333333333333333,
              "#9c179e"
             ],
             [
              0.4444444444444444,
              "#bd3786"
             ],
             [
              0.5555555555555556,
              "#d8576b"
             ],
             [
              0.6666666666666666,
              "#ed7953"
             ],
             [
              0.7777777777777778,
              "#fb9f3a"
             ],
             [
              0.8888888888888888,
              "#fdca26"
             ],
             [
              1,
              "#f0f921"
             ]
            ],
            "type": "heatmapgl"
           }
          ],
          "histogram": [
           {
            "marker": {
             "pattern": {
              "fillmode": "overlay",
              "size": 10,
              "solidity": 0.2
             }
            },
            "type": "histogram"
           }
          ],
          "histogram2d": [
           {
            "colorbar": {
             "outlinewidth": 0,
             "ticks": ""
            },
            "colorscale": [
             [
              0,
              "#0d0887"
             ],
             [
              0.1111111111111111,
              "#46039f"
             ],
             [
              0.2222222222222222,
              "#7201a8"
             ],
             [
              0.3333333333333333,
              "#9c179e"
             ],
             [
              0.4444444444444444,
              "#bd3786"
             ],
             [
              0.5555555555555556,
              "#d8576b"
             ],
             [
              0.6666666666666666,
              "#ed7953"
             ],
             [
              0.7777777777777778,
              "#fb9f3a"
             ],
             [
              0.8888888888888888,
              "#fdca26"
             ],
             [
              1,
              "#f0f921"
             ]
            ],
            "type": "histogram2d"
           }
          ],
          "histogram2dcontour": [
           {
            "colorbar": {
             "outlinewidth": 0,
             "ticks": ""
            },
            "colorscale": [
             [
              0,
              "#0d0887"
             ],
             [
              0.1111111111111111,
              "#46039f"
             ],
             [
              0.2222222222222222,
              "#7201a8"
             ],
             [
              0.3333333333333333,
              "#9c179e"
             ],
             [
              0.4444444444444444,
              "#bd3786"
             ],
             [
              0.5555555555555556,
              "#d8576b"
             ],
             [
              0.6666666666666666,
              "#ed7953"
             ],
             [
              0.7777777777777778,
              "#fb9f3a"
             ],
             [
              0.8888888888888888,
              "#fdca26"
             ],
             [
              1,
              "#f0f921"
             ]
            ],
            "type": "histogram2dcontour"
           }
          ],
          "mesh3d": [
           {
            "colorbar": {
             "outlinewidth": 0,
             "ticks": ""
            },
            "type": "mesh3d"
           }
          ],
          "parcoords": [
           {
            "line": {
             "colorbar": {
              "outlinewidth": 0,
              "ticks": ""
             }
            },
            "type": "parcoords"
           }
          ],
          "pie": [
           {
            "automargin": true,
            "type": "pie"
           }
          ],
          "scatter": [
           {
            "fillpattern": {
             "fillmode": "overlay",
             "size": 10,
             "solidity": 0.2
            },
            "type": "scatter"
           }
          ],
          "scatter3d": [
           {
            "line": {
             "colorbar": {
              "outlinewidth": 0,
              "ticks": ""
             }
            },
            "marker": {
             "colorbar": {
              "outlinewidth": 0,
              "ticks": ""
             }
            },
            "type": "scatter3d"
           }
          ],
          "scattercarpet": [
           {
            "marker": {
             "colorbar": {
              "outlinewidth": 0,
              "ticks": ""
             }
            },
            "type": "scattercarpet"
           }
          ],
          "scattergeo": [
           {
            "marker": {
             "colorbar": {
              "outlinewidth": 0,
              "ticks": ""
             }
            },
            "type": "scattergeo"
           }
          ],
          "scattergl": [
           {
            "marker": {
             "colorbar": {
              "outlinewidth": 0,
              "ticks": ""
             }
            },
            "type": "scattergl"
           }
          ],
          "scattermapbox": [
           {
            "marker": {
             "colorbar": {
              "outlinewidth": 0,
              "ticks": ""
             }
            },
            "type": "scattermapbox"
           }
          ],
          "scatterpolar": [
           {
            "marker": {
             "colorbar": {
              "outlinewidth": 0,
              "ticks": ""
             }
            },
            "type": "scatterpolar"
           }
          ],
          "scatterpolargl": [
           {
            "marker": {
             "colorbar": {
              "outlinewidth": 0,
              "ticks": ""
             }
            },
            "type": "scatterpolargl"
           }
          ],
          "scatterternary": [
           {
            "marker": {
             "colorbar": {
              "outlinewidth": 0,
              "ticks": ""
             }
            },
            "type": "scatterternary"
           }
          ],
          "surface": [
           {
            "colorbar": {
             "outlinewidth": 0,
             "ticks": ""
            },
            "colorscale": [
             [
              0,
              "#0d0887"
             ],
             [
              0.1111111111111111,
              "#46039f"
             ],
             [
              0.2222222222222222,
              "#7201a8"
             ],
             [
              0.3333333333333333,
              "#9c179e"
             ],
             [
              0.4444444444444444,
              "#bd3786"
             ],
             [
              0.5555555555555556,
              "#d8576b"
             ],
             [
              0.6666666666666666,
              "#ed7953"
             ],
             [
              0.7777777777777778,
              "#fb9f3a"
             ],
             [
              0.8888888888888888,
              "#fdca26"
             ],
             [
              1,
              "#f0f921"
             ]
            ],
            "type": "surface"
           }
          ],
          "table": [
           {
            "cells": {
             "fill": {
              "color": "#EBF0F8"
             },
             "line": {
              "color": "white"
             }
            },
            "header": {
             "fill": {
              "color": "#C8D4E3"
             },
             "line": {
              "color": "white"
             }
            },
            "type": "table"
           }
          ]
         },
         "layout": {
          "annotationdefaults": {
           "arrowcolor": "#2a3f5f",
           "arrowhead": 0,
           "arrowwidth": 1
          },
          "autotypenumbers": "strict",
          "coloraxis": {
           "colorbar": {
            "outlinewidth": 0,
            "ticks": ""
           }
          },
          "colorscale": {
           "diverging": [
            [
             0,
             "#8e0152"
            ],
            [
             0.1,
             "#c51b7d"
            ],
            [
             0.2,
             "#de77ae"
            ],
            [
             0.3,
             "#f1b6da"
            ],
            [
             0.4,
             "#fde0ef"
            ],
            [
             0.5,
             "#f7f7f7"
            ],
            [
             0.6,
             "#e6f5d0"
            ],
            [
             0.7,
             "#b8e186"
            ],
            [
             0.8,
             "#7fbc41"
            ],
            [
             0.9,
             "#4d9221"
            ],
            [
             1,
             "#276419"
            ]
           ],
           "sequential": [
            [
             0,
             "#0d0887"
            ],
            [
             0.1111111111111111,
             "#46039f"
            ],
            [
             0.2222222222222222,
             "#7201a8"
            ],
            [
             0.3333333333333333,
             "#9c179e"
            ],
            [
             0.4444444444444444,
             "#bd3786"
            ],
            [
             0.5555555555555556,
             "#d8576b"
            ],
            [
             0.6666666666666666,
             "#ed7953"
            ],
            [
             0.7777777777777778,
             "#fb9f3a"
            ],
            [
             0.8888888888888888,
             "#fdca26"
            ],
            [
             1,
             "#f0f921"
            ]
           ],
           "sequentialminus": [
            [
             0,
             "#0d0887"
            ],
            [
             0.1111111111111111,
             "#46039f"
            ],
            [
             0.2222222222222222,
             "#7201a8"
            ],
            [
             0.3333333333333333,
             "#9c179e"
            ],
            [
             0.4444444444444444,
             "#bd3786"
            ],
            [
             0.5555555555555556,
             "#d8576b"
            ],
            [
             0.6666666666666666,
             "#ed7953"
            ],
            [
             0.7777777777777778,
             "#fb9f3a"
            ],
            [
             0.8888888888888888,
             "#fdca26"
            ],
            [
             1,
             "#f0f921"
            ]
           ]
          },
          "colorway": [
           "#636efa",
           "#EF553B",
           "#00cc96",
           "#ab63fa",
           "#FFA15A",
           "#19d3f3",
           "#FF6692",
           "#B6E880",
           "#FF97FF",
           "#FECB52"
          ],
          "font": {
           "color": "#2a3f5f"
          },
          "geo": {
           "bgcolor": "white",
           "lakecolor": "white",
           "landcolor": "white",
           "showlakes": true,
           "showland": true,
           "subunitcolor": "#C8D4E3"
          },
          "hoverlabel": {
           "align": "left"
          },
          "hovermode": "closest",
          "mapbox": {
           "style": "light"
          },
          "paper_bgcolor": "white",
          "plot_bgcolor": "white",
          "polar": {
           "angularaxis": {
            "gridcolor": "#EBF0F8",
            "linecolor": "#EBF0F8",
            "ticks": ""
           },
           "bgcolor": "white",
           "radialaxis": {
            "gridcolor": "#EBF0F8",
            "linecolor": "#EBF0F8",
            "ticks": ""
           }
          },
          "scene": {
           "xaxis": {
            "backgroundcolor": "white",
            "gridcolor": "#DFE8F3",
            "gridwidth": 2,
            "linecolor": "#EBF0F8",
            "showbackground": true,
            "ticks": "",
            "zerolinecolor": "#EBF0F8"
           },
           "yaxis": {
            "backgroundcolor": "white",
            "gridcolor": "#DFE8F3",
            "gridwidth": 2,
            "linecolor": "#EBF0F8",
            "showbackground": true,
            "ticks": "",
            "zerolinecolor": "#EBF0F8"
           },
           "zaxis": {
            "backgroundcolor": "white",
            "gridcolor": "#DFE8F3",
            "gridwidth": 2,
            "linecolor": "#EBF0F8",
            "showbackground": true,
            "ticks": "",
            "zerolinecolor": "#EBF0F8"
           }
          },
          "shapedefaults": {
           "line": {
            "color": "#2a3f5f"
           }
          },
          "ternary": {
           "aaxis": {
            "gridcolor": "#DFE8F3",
            "linecolor": "#A2B1C6",
            "ticks": ""
           },
           "baxis": {
            "gridcolor": "#DFE8F3",
            "linecolor": "#A2B1C6",
            "ticks": ""
           },
           "bgcolor": "white",
           "caxis": {
            "gridcolor": "#DFE8F3",
            "linecolor": "#A2B1C6",
            "ticks": ""
           }
          },
          "title": {
           "x": 0.05
          },
          "xaxis": {
           "automargin": true,
           "gridcolor": "#EBF0F8",
           "linecolor": "#EBF0F8",
           "ticks": "",
           "title": {
            "standoff": 15
           },
           "zerolinecolor": "#EBF0F8",
           "zerolinewidth": 2
          },
          "yaxis": {
           "automargin": true,
           "gridcolor": "#EBF0F8",
           "linecolor": "#EBF0F8",
           "ticks": "",
           "title": {
            "standoff": 15
           },
           "zerolinecolor": "#EBF0F8",
           "zerolinewidth": 2
          }
         }
        },
        "title": {
         "text": "Performance Acumulada Normalizada (Base 100)"
        },
        "xaxis": {
         "title": {
          "text": "Fecha"
         }
        },
        "yaxis": {
         "title": {
          "text": "Valor Base 100"
         }
        }
       }
      }
     },
     "metadata": {},
     "output_type": "display_data"
    },
    {
     "name": "stdout",
     "output_type": "stream",
     "text": [
      "✅ Performance guardada: performance_normalizada.png\n",
      "📊 Creando matriz de correlación...\n"
     ]
    },
    {
     "data": {
      "application/vnd.plotly.v1+json": {
       "config": {
        "plotlyServerURL": "https://plot.ly"
       },
       "data": [
        {
         "colorscale": [
          [
           0,
           "rgb(103,0,31)"
          ],
          [
           0.1,
           "rgb(178,24,43)"
          ],
          [
           0.2,
           "rgb(214,96,77)"
          ],
          [
           0.3,
           "rgb(244,165,130)"
          ],
          [
           0.4,
           "rgb(253,219,199)"
          ],
          [
           0.5,
           "rgb(247,247,247)"
          ],
          [
           0.6,
           "rgb(209,229,240)"
          ],
          [
           0.7,
           "rgb(146,197,222)"
          ],
          [
           0.8,
           "rgb(67,147,195)"
          ],
          [
           0.9,
           "rgb(33,102,172)"
          ],
          [
           1,
           "rgb(5,48,97)"
          ]
         ],
         "hovertemplate": "%{y} vs %{x}: %{z:.3f}<extra></extra>",
         "text": [
          [
           1,
           0.76,
           0.54,
           0.29,
           0.29,
           0.3,
           0.29
          ],
          [
           0.76,
           1,
           0.68,
           0.31,
           0.22,
           0.18,
           0.25
          ],
          [
           0.54,
           0.68,
           1,
           0.3,
           0.18,
           0.18,
           0.23
          ],
          [
           0.29,
           0.31,
           0.3,
           1,
           0.68,
           0.7,
           0.24
          ],
          [
           0.29,
           0.22,
           0.18,
           0.68,
           1,
           0.77,
           0.26
          ],
          [
           0.3,
           0.18,
           0.18,
           0.7,
           0.77,
           1,
           0.29
          ],
          [
           0.29,
           0.25,
           0.23,
           0.24,
           0.26,
           0.29,
           1
          ]
         ],
         "texttemplate": "%{text}",
         "type": "heatmap",
         "x": [
          "AAPL",
          "SPY",
          "EWZ",
          "CEPU",
          "BHIL",
          "METRO",
          "IBM"
         ],
         "y": [
          "AAPL",
          "SPY",
          "EWZ",
          "CEPU",
          "BHIL",
          "METRO",
          "IBM"
         ],
         "z": [
          [
           1,
           0.7629581527808212,
           0.5422339734141639,
           0.2904397665907945,
           0.28809707662862555,
           0.30230388570727174,
           0.289633789612607
          ],
          [
           0.7629581527808212,
           1,
           0.6808328288216743,
           0.30601822818105934,
           0.2151586609365165,
           0.1799578981857828,
           0.25476675445726715
          ],
          [
           0.5422339734141639,
           0.6808328288216743,
           1,
           0.30412702184023427,
           0.17769539886238048,
           0.1832198710006476,
           0.23140356781499227
          ],
          [
           0.2904397665907945,
           0.30601822818105934,
           0.30412702184023427,
           1,
           0.6787728299893454,
           0.6986147534131368,
           0.2400127943440305
          ],
          [
           0.28809707662862555,
           0.2151586609365165,
           0.17769539886238048,
           0.6787728299893454,
           1,
           0.7700062035977306,
           0.2626089048141181
          ],
          [
           0.30230388570727174,
           0.1799578981857828,
           0.1832198710006476,
           0.6986147534131368,
           0.7700062035977306,
           1,
           0.2906297829379974
          ],
          [
           0.289633789612607,
           0.25476675445726715,
           0.23140356781499227,
           0.2400127943440305,
           0.2626089048141181,
           0.2906297829379974,
           1
          ]
         ],
         "zmid": 0
        }
       ],
       "layout": {
        "height": 400,
        "template": {
         "data": {
          "bar": [
           {
            "error_x": {
             "color": "#2a3f5f"
            },
            "error_y": {
             "color": "#2a3f5f"
            },
            "marker": {
             "line": {
              "color": "white",
              "width": 0.5
             },
             "pattern": {
              "fillmode": "overlay",
              "size": 10,
              "solidity": 0.2
             }
            },
            "type": "bar"
           }
          ],
          "barpolar": [
           {
            "marker": {
             "line": {
              "color": "white",
              "width": 0.5
             },
             "pattern": {
              "fillmode": "overlay",
              "size": 10,
              "solidity": 0.2
             }
            },
            "type": "barpolar"
           }
          ],
          "carpet": [
           {
            "aaxis": {
             "endlinecolor": "#2a3f5f",
             "gridcolor": "#C8D4E3",
             "linecolor": "#C8D4E3",
             "minorgridcolor": "#C8D4E3",
             "startlinecolor": "#2a3f5f"
            },
            "baxis": {
             "endlinecolor": "#2a3f5f",
             "gridcolor": "#C8D4E3",
             "linecolor": "#C8D4E3",
             "minorgridcolor": "#C8D4E3",
             "startlinecolor": "#2a3f5f"
            },
            "type": "carpet"
           }
          ],
          "choropleth": [
           {
            "colorbar": {
             "outlinewidth": 0,
             "ticks": ""
            },
            "type": "choropleth"
           }
          ],
          "contour": [
           {
            "colorbar": {
             "outlinewidth": 0,
             "ticks": ""
            },
            "colorscale": [
             [
              0,
              "#0d0887"
             ],
             [
              0.1111111111111111,
              "#46039f"
             ],
             [
              0.2222222222222222,
              "#7201a8"
             ],
             [
              0.3333333333333333,
              "#9c179e"
             ],
             [
              0.4444444444444444,
              "#bd3786"
             ],
             [
              0.5555555555555556,
              "#d8576b"
             ],
             [
              0.6666666666666666,
              "#ed7953"
             ],
             [
              0.7777777777777778,
              "#fb9f3a"
             ],
             [
              0.8888888888888888,
              "#fdca26"
             ],
             [
              1,
              "#f0f921"
             ]
            ],
            "type": "contour"
           }
          ],
          "contourcarpet": [
           {
            "colorbar": {
             "outlinewidth": 0,
             "ticks": ""
            },
            "type": "contourcarpet"
           }
          ],
          "heatmap": [
           {
            "colorbar": {
             "outlinewidth": 0,
             "ticks": ""
            },
            "colorscale": [
             [
              0,
              "#0d0887"
             ],
             [
              0.1111111111111111,
              "#46039f"
             ],
             [
              0.2222222222222222,
              "#7201a8"
             ],
             [
              0.3333333333333333,
              "#9c179e"
             ],
             [
              0.4444444444444444,
              "#bd3786"
             ],
             [
              0.5555555555555556,
              "#d8576b"
             ],
             [
              0.6666666666666666,
              "#ed7953"
             ],
             [
              0.7777777777777778,
              "#fb9f3a"
             ],
             [
              0.8888888888888888,
              "#fdca26"
             ],
             [
              1,
              "#f0f921"
             ]
            ],
            "type": "heatmap"
           }
          ],
          "heatmapgl": [
           {
            "colorbar": {
             "outlinewidth": 0,
             "ticks": ""
            },
            "colorscale": [
             [
              0,
              "#0d0887"
             ],
             [
              0.1111111111111111,
              "#46039f"
             ],
             [
              0.2222222222222222,
              "#7201a8"
             ],
             [
              0.3333333333333333,
              "#9c179e"
             ],
             [
              0.4444444444444444,
              "#bd3786"
             ],
             [
              0.5555555555555556,
              "#d8576b"
             ],
             [
              0.6666666666666666,
              "#ed7953"
             ],
             [
              0.7777777777777778,
              "#fb9f3a"
             ],
             [
              0.8888888888888888,
              "#fdca26"
             ],
             [
              1,
              "#f0f921"
             ]
            ],
            "type": "heatmapgl"
           }
          ],
          "histogram": [
           {
            "marker": {
             "pattern": {
              "fillmode": "overlay",
              "size": 10,
              "solidity": 0.2
             }
            },
            "type": "histogram"
           }
          ],
          "histogram2d": [
           {
            "colorbar": {
             "outlinewidth": 0,
             "ticks": ""
            },
            "colorscale": [
             [
              0,
              "#0d0887"
             ],
             [
              0.1111111111111111,
              "#46039f"
             ],
             [
              0.2222222222222222,
              "#7201a8"
             ],
             [
              0.3333333333333333,
              "#9c179e"
             ],
             [
              0.4444444444444444,
              "#bd3786"
             ],
             [
              0.5555555555555556,
              "#d8576b"
             ],
             [
              0.6666666666666666,
              "#ed7953"
             ],
             [
              0.7777777777777778,
              "#fb9f3a"
             ],
             [
              0.8888888888888888,
              "#fdca26"
             ],
             [
              1,
              "#f0f921"
             ]
            ],
            "type": "histogram2d"
           }
          ],
          "histogram2dcontour": [
           {
            "colorbar": {
             "outlinewidth": 0,
             "ticks": ""
            },
            "colorscale": [
             [
              0,
              "#0d0887"
             ],
             [
              0.1111111111111111,
              "#46039f"
             ],
             [
              0.2222222222222222,
              "#7201a8"
             ],
             [
              0.3333333333333333,
              "#9c179e"
             ],
             [
              0.4444444444444444,
              "#bd3786"
             ],
             [
              0.5555555555555556,
              "#d8576b"
             ],
             [
              0.6666666666666666,
              "#ed7953"
             ],
             [
              0.7777777777777778,
              "#fb9f3a"
             ],
             [
              0.8888888888888888,
              "#fdca26"
             ],
             [
              1,
              "#f0f921"
             ]
            ],
            "type": "histogram2dcontour"
           }
          ],
          "mesh3d": [
           {
            "colorbar": {
             "outlinewidth": 0,
             "ticks": ""
            },
            "type": "mesh3d"
           }
          ],
          "parcoords": [
           {
            "line": {
             "colorbar": {
              "outlinewidth": 0,
              "ticks": ""
             }
            },
            "type": "parcoords"
           }
          ],
          "pie": [
           {
            "automargin": true,
            "type": "pie"
           }
          ],
          "scatter": [
           {
            "fillpattern": {
             "fillmode": "overlay",
             "size": 10,
             "solidity": 0.2
            },
            "type": "scatter"
           }
          ],
          "scatter3d": [
           {
            "line": {
             "colorbar": {
              "outlinewidth": 0,
              "ticks": ""
             }
            },
            "marker": {
             "colorbar": {
              "outlinewidth": 0,
              "ticks": ""
             }
            },
            "type": "scatter3d"
           }
          ],
          "scattercarpet": [
           {
            "marker": {
             "colorbar": {
              "outlinewidth": 0,
              "ticks": ""
             }
            },
            "type": "scattercarpet"
           }
          ],
          "scattergeo": [
           {
            "marker": {
             "colorbar": {
              "outlinewidth": 0,
              "ticks": ""
             }
            },
            "type": "scattergeo"
           }
          ],
          "scattergl": [
           {
            "marker": {
             "colorbar": {
              "outlinewidth": 0,
              "ticks": ""
             }
            },
            "type": "scattergl"
           }
          ],
          "scattermapbox": [
           {
            "marker": {
             "colorbar": {
              "outlinewidth": 0,
              "ticks": ""
             }
            },
            "type": "scattermapbox"
           }
          ],
          "scatterpolar": [
           {
            "marker": {
             "colorbar": {
              "outlinewidth": 0,
              "ticks": ""
             }
            },
            "type": "scatterpolar"
           }
          ],
          "scatterpolargl": [
           {
            "marker": {
             "colorbar": {
              "outlinewidth": 0,
              "ticks": ""
             }
            },
            "type": "scatterpolargl"
           }
          ],
          "scatterternary": [
           {
            "marker": {
             "colorbar": {
              "outlinewidth": 0,
              "ticks": ""
             }
            },
            "type": "scatterternary"
           }
          ],
          "surface": [
           {
            "colorbar": {
             "outlinewidth": 0,
             "ticks": ""
            },
            "colorscale": [
             [
              0,
              "#0d0887"
             ],
             [
              0.1111111111111111,
              "#46039f"
             ],
             [
              0.2222222222222222,
              "#7201a8"
             ],
             [
              0.3333333333333333,
              "#9c179e"
             ],
             [
              0.4444444444444444,
              "#bd3786"
             ],
             [
              0.5555555555555556,
              "#d8576b"
             ],
             [
              0.6666666666666666,
              "#ed7953"
             ],
             [
              0.7777777777777778,
              "#fb9f3a"
             ],
             [
              0.8888888888888888,
              "#fdca26"
             ],
             [
              1,
              "#f0f921"
             ]
            ],
            "type": "surface"
           }
          ],
          "table": [
           {
            "cells": {
             "fill": {
              "color": "#EBF0F8"
             },
             "line": {
              "color": "white"
             }
            },
            "header": {
             "fill": {
              "color": "#C8D4E3"
             },
             "line": {
              "color": "white"
             }
            },
            "type": "table"
           }
          ]
         },
         "layout": {
          "annotationdefaults": {
           "arrowcolor": "#2a3f5f",
           "arrowhead": 0,
           "arrowwidth": 1
          },
          "autotypenumbers": "strict",
          "coloraxis": {
           "colorbar": {
            "outlinewidth": 0,
            "ticks": ""
           }
          },
          "colorscale": {
           "diverging": [
            [
             0,
             "#8e0152"
            ],
            [
             0.1,
             "#c51b7d"
            ],
            [
             0.2,
             "#de77ae"
            ],
            [
             0.3,
             "#f1b6da"
            ],
            [
             0.4,
             "#fde0ef"
            ],
            [
             0.5,
             "#f7f7f7"
            ],
            [
             0.6,
             "#e6f5d0"
            ],
            [
             0.7,
             "#b8e186"
            ],
            [
             0.8,
             "#7fbc41"
            ],
            [
             0.9,
             "#4d9221"
            ],
            [
             1,
             "#276419"
            ]
           ],
           "sequential": [
            [
             0,
             "#0d0887"
            ],
            [
             0.1111111111111111,
             "#46039f"
            ],
            [
             0.2222222222222222,
             "#7201a8"
            ],
            [
             0.3333333333333333,
             "#9c179e"
            ],
            [
             0.4444444444444444,
             "#bd3786"
            ],
            [
             0.5555555555555556,
             "#d8576b"
            ],
            [
             0.6666666666666666,
             "#ed7953"
            ],
            [
             0.7777777777777778,
             "#fb9f3a"
            ],
            [
             0.8888888888888888,
             "#fdca26"
            ],
            [
             1,
             "#f0f921"
            ]
           ],
           "sequentialminus": [
            [
             0,
             "#0d0887"
            ],
            [
             0.1111111111111111,
             "#46039f"
            ],
            [
             0.2222222222222222,
             "#7201a8"
            ],
            [
             0.3333333333333333,
             "#9c179e"
            ],
            [
             0.4444444444444444,
             "#bd3786"
            ],
            [
             0.5555555555555556,
             "#d8576b"
            ],
            [
             0.6666666666666666,
             "#ed7953"
            ],
            [
             0.7777777777777778,
             "#fb9f3a"
            ],
            [
             0.8888888888888888,
             "#fdca26"
            ],
            [
             1,
             "#f0f921"
            ]
           ]
          },
          "colorway": [
           "#636efa",
           "#EF553B",
           "#00cc96",
           "#ab63fa",
           "#FFA15A",
           "#19d3f3",
           "#FF6692",
           "#B6E880",
           "#FF97FF",
           "#FECB52"
          ],
          "font": {
           "color": "#2a3f5f"
          },
          "geo": {
           "bgcolor": "white",
           "lakecolor": "white",
           "landcolor": "white",
           "showlakes": true,
           "showland": true,
           "subunitcolor": "#C8D4E3"
          },
          "hoverlabel": {
           "align": "left"
          },
          "hovermode": "closest",
          "mapbox": {
           "style": "light"
          },
          "paper_bgcolor": "white",
          "plot_bgcolor": "white",
          "polar": {
           "angularaxis": {
            "gridcolor": "#EBF0F8",
            "linecolor": "#EBF0F8",
            "ticks": ""
           },
           "bgcolor": "white",
           "radialaxis": {
            "gridcolor": "#EBF0F8",
            "linecolor": "#EBF0F8",
            "ticks": ""
           }
          },
          "scene": {
           "xaxis": {
            "backgroundcolor": "white",
            "gridcolor": "#DFE8F3",
            "gridwidth": 2,
            "linecolor": "#EBF0F8",
            "showbackground": true,
            "ticks": "",
            "zerolinecolor": "#EBF0F8"
           },
           "yaxis": {
            "backgroundcolor": "white",
            "gridcolor": "#DFE8F3",
            "gridwidth": 2,
            "linecolor": "#EBF0F8",
            "showbackground": true,
            "ticks": "",
            "zerolinecolor": "#EBF0F8"
           },
           "zaxis": {
            "backgroundcolor": "white",
            "gridcolor": "#DFE8F3",
            "gridwidth": 2,
            "linecolor": "#EBF0F8",
            "showbackground": true,
            "ticks": "",
            "zerolinecolor": "#EBF0F8"
           }
          },
          "shapedefaults": {
           "line": {
            "color": "#2a3f5f"
           }
          },
          "ternary": {
           "aaxis": {
            "gridcolor": "#DFE8F3",
            "linecolor": "#A2B1C6",
            "ticks": ""
           },
           "baxis": {
            "gridcolor": "#DFE8F3",
            "linecolor": "#A2B1C6",
            "ticks": ""
           },
           "bgcolor": "white",
           "caxis": {
            "gridcolor": "#DFE8F3",
            "linecolor": "#A2B1C6",
            "ticks": ""
           }
          },
          "title": {
           "x": 0.05
          },
          "xaxis": {
           "automargin": true,
           "gridcolor": "#EBF0F8",
           "linecolor": "#EBF0F8",
           "ticks": "",
           "title": {
            "standoff": 15
           },
           "zerolinecolor": "#EBF0F8",
           "zerolinewidth": 2
          },
          "yaxis": {
           "automargin": true,
           "gridcolor": "#EBF0F8",
           "linecolor": "#EBF0F8",
           "ticks": "",
           "title": {
            "standoff": 15
           },
           "zerolinecolor": "#EBF0F8",
           "zerolinewidth": 2
          }
         }
        },
        "title": {
         "text": "Matriz de Correlación de Retornos"
        }
       }
      }
     },
     "metadata": {},
     "output_type": "display_data"
    },
    {
     "name": "stdout",
     "output_type": "stream",
     "text": [
      "📊 Correlación promedio: 0.467\n",
      "\n",
      "🏛️  RATIOS GLOBALES - ANÁLISIS DE CORRELACIÓN:\n",
      "--------------------------------------------------\n",
      "💱 Correlación FX Global:    0.176\n",
      "📊 Beta Global:             0.991\n",
      "   📊 Exposición moderada al riesgo cambiario\n"
     ]
    }
   ],
   "source": [
    "def crear_visualizaciones(df, activos):\n",
    "    \"\"\"Crear visualizaciones profesionales\"\"\"\n",
    "    print(\"🔍 Iniciando análisis visual...\")\n",
    "    \n",
    "    # Verificar que hay datos suficientes\n",
    "    if df.empty or len(activos) == 0:\n",
    "        print(\"❌ No hay datos para visualizar\")\n",
    "        return pd.DataFrame()\n",
    "    \n",
    "    # Filtrar solo activos válidos que existen en df\n",
    "    activos_validos = [activo for activo in activos if activo in df.columns]\n",
    "    print(f\"📊 Analizando {len(activos_validos)} activos: {activos_validos}\")\n",
    "    \n",
    "    # Preparar matriz de retornos\n",
    "    print(\"📈 Calculando retornos...\")\n",
    "    returns_data = []\n",
    "    \n",
    "    for activo in activos_validos:\n",
    "        prices = df[activo].dropna()\n",
    "        if len(prices) > 30:  # Mínimo 30 observaciones\n",
    "            returns = prices.pct_change().dropna()\n",
    "            returns_data.append(returns)\n",
    "        else:\n",
    "            print(f\"⚠️  {activo}: Insuficientes datos ({len(prices)} obs)\")\n",
    "    \n",
    "    if not returns_data:\n",
    "        print(\"❌ No hay suficientes datos de retornos\")\n",
    "        return pd.DataFrame()\n",
    "    \n",
    "    # Crear DataFrame de retornos con fechas alineadas\n",
    "    returns_matrix = pd.concat(returns_data, axis=1)\n",
    "    returns_matrix.columns = [activo for activo in activos_validos if activo in df.columns and len(df[activo].dropna()) > 30]\n",
    "    \n",
    "    print(f\"✅ Matriz de retornos: {returns_matrix.shape[0]} días, {returns_matrix.shape[1]} activos\")\n",
    "    \n",
    "    # 1. GRÁFICO DE PERFORMANCE NORMALIZADA\n",
    "    try:\n",
    "        print(\"📊 Creando gráfico de performance...\")\n",
    "        \n",
    "        fig_perf = go.Figure()\n",
    "        \n",
    "        for activo in activos_validos:\n",
    "            if activo in df.columns:\n",
    "                # Calcular retornos y performance para cada activo por separado\n",
    "                prices = df[activo].dropna()\n",
    "                if len(prices) > 30:\n",
    "                    returns_activo = prices.pct_change().dropna()\n",
    "                    cumulative = (1 + returns_activo).cumprod() * 100\n",
    "                    \n",
    "                    fig_perf.add_trace(go.Scatter(\n",
    "                        x=cumulative.index,\n",
    "                        y=cumulative.values,\n",
    "                        mode='lines',\n",
    "                        name=activo,\n",
    "                        connectgaps=False,  # No conectar gaps en los datos\n",
    "                        hovertemplate=f'%{{x}}<br>{activo}: %{{y:.2f}}<extra></extra>'\n",
    "                    ))\n",
    "        \n",
    "        fig_perf.update_layout(\n",
    "            title='Performance Acumulada Normalizada (Base 100)',\n",
    "            xaxis_title='Fecha',\n",
    "            yaxis_title='Valor Base 100',\n",
    "            template='plotly_white',\n",
    "            height=500,\n",
    "            hovermode='x unified'\n",
    "        )\n",
    "        \n",
    "        # Mostrar y guardar\n",
    "        fig_perf.show()\n",
    "        fig_perf.write_image(\"performance_normalizada.png\", width=1000, height=500, scale=2)\n",
    "        print(\"✅ Performance guardada: performance_normalizada.png\")\n",
    "        \n",
    "    except Exception as e:\n",
    "        print(f\"❌ Error en gráfico de performance: {str(e)}\")\n",
    "    \n",
    "    # 2. MATRIZ DE CORRELACIÓN\n",
    "    try:\n",
    "        print(\"📊 Creando matriz de correlación...\")\n",
    "        \n",
    "        # Calcular correlaciones con datos alineados\n",
    "        corr_matrix = returns_matrix.corr()\n",
    "        \n",
    "        fig_corr = go.Figure(go.Heatmap(\n",
    "            z=corr_matrix.values,\n",
    "            x=corr_matrix.columns,\n",
    "            y=corr_matrix.index,\n",
    "            colorscale='RdBu', zmid=0,\n",
    "            text=corr_matrix.round(2).values,\n",
    "            texttemplate='%{text}',\n",
    "            hovertemplate='%{y} vs %{x}: %{z:.3f}<extra></extra>'\n",
    "        ))\n",
    "        \n",
    "        fig_corr.update_layout(\n",
    "            title='Matriz de Correlación de Retornos',\n",
    "            template='plotly_white', height=400\n",
    "        )\n",
    "        # Mostrar y guardar como imagen estática\n",
    "        fig_corr.show()\n",
    "        fig_corr.write_image(\"matriz_correlacion.png\", width=800, height=400, scale=2)\n",
    "        \n",
    "        # Estadísticas de correlación\n",
    "        corr_mean = corr_matrix.mean().mean()\n",
    "        print(f\"📊 Correlación promedio: {corr_mean:.3f}\")\n",
    "        \n",
    "        # RATIOS GLOBALES PARA ANÁLISIS DE CORRELACIÓN\n",
    "        cartera_para_correlacion = cartera_real if 'cartera_real' in globals() and cartera_real else None\n",
    "        \n",
    "        if cartera_para_correlacion and 'df_metricas' in globals() and not df_metricas.empty:\n",
    "            print(f\"\\n🏛️  RATIOS GLOBALES - ANÁLISIS DE CORRELACIÓN:\")\n",
    "            print(\"-\" * 50)\n",
    "            \n",
    "            weights = cartera_para_correlacion['weights']\n",
    "            activos_cartera = [activo for activo, peso in weights.items() if peso > 0.001]\n",
    "            df_metricas_cartera = df_metricas[df_metricas['activo'].isin(activos_cartera)].copy()\n",
    "            \n",
    "            if not df_metricas_cartera.empty:\n",
    "                peso_map = {activo: peso for activo, peso in weights.items() if peso > 0.001}\n",
    "                df_metricas_cartera['peso_cartera'] = df_metricas_cartera['activo'].map(peso_map)\n",
    "                \n",
    "                # Correlación FX ponderada (si disponible)\n",
    "                if 'fx_correlation' in df_metricas_cartera.columns:\n",
    "                    fx_corr_global = (df_metricas_cartera['fx_correlation'].fillna(0) * df_metricas_cartera['peso_cartera']).sum()\n",
    "                    print(f\"💱 Correlación FX Global: {fx_corr_global:>8.3f}\")\n",
    "                \n",
    "                # Beta ponderado\n",
    "                beta_global = (df_metricas_cartera['beta'].fillna(1) * df_metricas_cartera['peso_cartera']).sum()\n",
    "                print(f\"📊 Beta Global:          {beta_global:>8.3f}\")\n",
    "                \n",
    "                # Interpretación\n",
    "                if abs(fx_corr_global) > 0.3:\n",
    "                    print(\"   ⚠️ Alta exposición al riesgo cambiario\")\n",
    "                elif abs(fx_corr_global) < 0.1:\n",
    "                    print(\"   ✅ Baja exposición al riesgo cambiario\")\n",
    "                else:\n",
    "                    print(\"   📊 Exposición moderada al riesgo cambiario\")\n",
    "        \n",
    "        return returns_matrix\n",
    "    \n",
    "    except Exception as e:\n",
    "        print(f\"❌ Error en matriz de correlación: {str(e)}\")\n",
    "        return returns_matrix if 'returns_matrix' in locals() else pd.DataFrame()\n",
    "\n",
    "# Crear visualizaciones - CORREGIR VARIABLES\n",
    "print(\"📊 Generando visualizaciones...\")\n",
    "returns_data = crear_visualizaciones(df_data_completo, activos_verdaderos)"
   ]
  },
  {
   "cell_type": "markdown",
   "id": "7dd00db8",
   "metadata": {},
   "source": [
    "## 4. Optimización de Cartera\n",
    "\n",
    "Cálculo de carteras óptimas usando teoría moderna de portafolios."
   ]
  },
  {
   "cell_type": "code",
   "execution_count": 41,
   "id": "e64e2158",
   "metadata": {},
   "outputs": [
    {
     "name": "stdout",
     "output_type": "stream",
     "text": [
      "📊 Activos disponibles: 7 activos verdaderos\n",
      "📊 Todos los activos: ['AAPL', 'SPY', 'EWZ', 'CEPU', 'BHIL', 'METRO', 'IBM']\n",
      "🎯 CARTERAS OPTIMIZADAS\n",
      "==================================================\n",
      "🎯 CARTERAS OPTIMIZADAS\n",
      "==================================================\n"
     ]
    },
    {
     "data": {
      "text/html": [
       "<div>\n",
       "<style scoped>\n",
       "    .dataframe tbody tr th:only-of-type {\n",
       "        vertical-align: middle;\n",
       "    }\n",
       "\n",
       "    .dataframe tbody tr th {\n",
       "        vertical-align: top;\n",
       "    }\n",
       "\n",
       "    .dataframe thead th {\n",
       "        text-align: right;\n",
       "    }\n",
       "</style>\n",
       "<table border=\"1\" class=\"dataframe\">\n",
       "  <thead>\n",
       "    <tr style=\"text-align: right;\">\n",
       "      <th></th>\n",
       "      <th>Cartera</th>\n",
       "      <th>Rendimiento_Anual_%</th>\n",
       "      <th>Volatilidad_%</th>\n",
       "      <th>Sharpe_Ratio</th>\n",
       "    </tr>\n",
       "  </thead>\n",
       "  <tbody>\n",
       "    <tr>\n",
       "      <th>0</th>\n",
       "      <td>Máximo Sharpe (Optimizada)</td>\n",
       "      <td>63.73</td>\n",
       "      <td>28.37</td>\n",
       "      <td>1.350</td>\n",
       "    </tr>\n",
       "    <tr>\n",
       "      <th>1</th>\n",
       "      <td>Mínimo Riesgo (Optimizada)</td>\n",
       "      <td>33.68</td>\n",
       "      <td>21.92</td>\n",
       "      <td>0.376</td>\n",
       "    </tr>\n",
       "    <tr>\n",
       "      <th>2</th>\n",
       "      <td>Cartera Real (Actual)</td>\n",
       "      <td>36.76</td>\n",
       "      <td>26.05</td>\n",
       "      <td>0.434</td>\n",
       "    </tr>\n",
       "    <tr>\n",
       "      <th>3</th>\n",
       "      <td>Equal Weight (Benchmark)</td>\n",
       "      <td>-6.02</td>\n",
       "      <td>31.01</td>\n",
       "      <td>-1.014</td>\n",
       "    </tr>\n",
       "  </tbody>\n",
       "</table>\n",
       "</div>"
      ],
      "text/plain": [
       "                      Cartera Rendimiento_Anual_% Volatilidad_% Sharpe_Ratio\n",
       "0  Máximo Sharpe (Optimizada)               63.73         28.37        1.350\n",
       "1  Mínimo Riesgo (Optimizada)               33.68         21.92        0.376\n",
       "2       Cartera Real (Actual)               36.76         26.05        0.434\n",
       "3    Equal Weight (Benchmark)               -6.02         31.01       -1.014"
      ]
     },
     "metadata": {},
     "output_type": "display_data"
    },
    {
     "name": "stdout",
     "output_type": "stream",
     "text": [
      "\n",
      "📊 Composición Máximo Sharpe:\n"
     ]
    },
    {
     "data": {
      "text/html": [
       "<div>\n",
       "<style scoped>\n",
       "    .dataframe tbody tr th:only-of-type {\n",
       "        vertical-align: middle;\n",
       "    }\n",
       "\n",
       "    .dataframe tbody tr th {\n",
       "        vertical-align: top;\n",
       "    }\n",
       "\n",
       "    .dataframe thead th {\n",
       "        text-align: right;\n",
       "    }\n",
       "</style>\n",
       "<table border=\"1\" class=\"dataframe\">\n",
       "  <thead>\n",
       "    <tr style=\"text-align: right;\">\n",
       "      <th></th>\n",
       "      <th>Activo</th>\n",
       "      <th>Peso_%</th>\n",
       "    </tr>\n",
       "  </thead>\n",
       "  <tbody>\n",
       "    <tr>\n",
       "      <th>0</th>\n",
       "      <td>EWZ</td>\n",
       "      <td>100.0</td>\n",
       "    </tr>\n",
       "  </tbody>\n",
       "</table>\n",
       "</div>"
      ],
      "text/plain": [
       "  Activo Peso_%\n",
       "0    EWZ  100.0"
      ]
     },
     "metadata": {},
     "output_type": "display_data"
    },
    {
     "name": "stdout",
     "output_type": "stream",
     "text": [
      "\n",
      "📊 Composición Mínimo Riesgo:\n"
     ]
    },
    {
     "data": {
      "text/html": [
       "<div>\n",
       "<style scoped>\n",
       "    .dataframe tbody tr th:only-of-type {\n",
       "        vertical-align: middle;\n",
       "    }\n",
       "\n",
       "    .dataframe tbody tr th {\n",
       "        vertical-align: top;\n",
       "    }\n",
       "\n",
       "    .dataframe thead th {\n",
       "        text-align: right;\n",
       "    }\n",
       "</style>\n",
       "<table border=\"1\" class=\"dataframe\">\n",
       "  <thead>\n",
       "    <tr style=\"text-align: right;\">\n",
       "      <th></th>\n",
       "      <th>Activo</th>\n",
       "      <th>Peso_%</th>\n",
       "    </tr>\n",
       "  </thead>\n",
       "  <tbody>\n",
       "    <tr>\n",
       "      <th>0</th>\n",
       "      <td>SPY</td>\n",
       "      <td>35.7</td>\n",
       "    </tr>\n",
       "    <tr>\n",
       "      <th>1</th>\n",
       "      <td>IBM</td>\n",
       "      <td>33.7</td>\n",
       "    </tr>\n",
       "    <tr>\n",
       "      <th>2</th>\n",
       "      <td>EWZ</td>\n",
       "      <td>26.4</td>\n",
       "    </tr>\n",
       "    <tr>\n",
       "      <th>3</th>\n",
       "      <td>BHIL</td>\n",
       "      <td>3.3</td>\n",
       "    </tr>\n",
       "  </tbody>\n",
       "</table>\n",
       "</div>"
      ],
      "text/plain": [
       "  Activo Peso_%\n",
       "0    SPY   35.7\n",
       "1    IBM   33.7\n",
       "2    EWZ   26.4\n",
       "3   BHIL    3.3"
      ]
     },
     "metadata": {},
     "output_type": "display_data"
    },
    {
     "name": "stdout",
     "output_type": "stream",
     "text": [
      "\n",
      "📊 Composición Cartera Real:\n"
     ]
    },
    {
     "data": {
      "text/html": [
       "<div>\n",
       "<style scoped>\n",
       "    .dataframe tbody tr th:only-of-type {\n",
       "        vertical-align: middle;\n",
       "    }\n",
       "\n",
       "    .dataframe tbody tr th {\n",
       "        vertical-align: top;\n",
       "    }\n",
       "\n",
       "    .dataframe thead th {\n",
       "        text-align: right;\n",
       "    }\n",
       "</style>\n",
       "<table border=\"1\" class=\"dataframe\">\n",
       "  <thead>\n",
       "    <tr style=\"text-align: right;\">\n",
       "      <th></th>\n",
       "      <th>Activo</th>\n",
       "      <th>Peso_%</th>\n",
       "    </tr>\n",
       "  </thead>\n",
       "  <tbody>\n",
       "    <tr>\n",
       "      <th>0</th>\n",
       "      <td>SPY</td>\n",
       "      <td>52.9</td>\n",
       "    </tr>\n",
       "    <tr>\n",
       "      <th>1</th>\n",
       "      <td>EWZ</td>\n",
       "      <td>24.0</td>\n",
       "    </tr>\n",
       "    <tr>\n",
       "      <th>2</th>\n",
       "      <td>AAPL</td>\n",
       "      <td>18.9</td>\n",
       "    </tr>\n",
       "    <tr>\n",
       "      <th>3</th>\n",
       "      <td>METRO</td>\n",
       "      <td>1.8</td>\n",
       "    </tr>\n",
       "    <tr>\n",
       "      <th>4</th>\n",
       "      <td>CEPU</td>\n",
       "      <td>1.7</td>\n",
       "    </tr>\n",
       "  </tbody>\n",
       "</table>\n",
       "</div>"
      ],
      "text/plain": [
       "  Activo Peso_%\n",
       "0    SPY   52.9\n",
       "1    EWZ   24.0\n",
       "2   AAPL   18.9\n",
       "3  METRO    1.8\n",
       "4   CEPU    1.7"
      ]
     },
     "metadata": {},
     "output_type": "display_data"
    },
    {
     "name": "stdout",
     "output_type": "stream",
     "text": [
      "✅ Tasa libre de riesgo: 32.85% anual\n",
      "\n",
      "📈 MÉTRICAS DE RIESGO Y PERFORMANCE\n",
      "==================================================\n",
      "\n",
      "📈 MÉTRICAS DE RIESGO Y PERFORMANCE\n",
      "==================================================\n"
     ]
    },
    {
     "data": {
      "text/html": [
       "<div>\n",
       "<style scoped>\n",
       "    .dataframe tbody tr th:only-of-type {\n",
       "        vertical-align: middle;\n",
       "    }\n",
       "\n",
       "    .dataframe tbody tr th {\n",
       "        vertical-align: top;\n",
       "    }\n",
       "\n",
       "    .dataframe thead th {\n",
       "        text-align: right;\n",
       "    }\n",
       "</style>\n",
       "<table border=\"1\" class=\"dataframe\">\n",
       "  <thead>\n",
       "    <tr style=\"text-align: right;\">\n",
       "      <th></th>\n",
       "      <th>Cartera</th>\n",
       "      <th>Rendimiento_Anual_%</th>\n",
       "      <th>Volatilidad_%</th>\n",
       "      <th>Sharpe_Ratio</th>\n",
       "      <th>Max_Drawdown_%</th>\n",
       "    </tr>\n",
       "  </thead>\n",
       "  <tbody>\n",
       "    <tr>\n",
       "      <th>0</th>\n",
       "      <td>Máximo Sharpe (Optimizada)</td>\n",
       "      <td>63.7300</td>\n",
       "      <td>28.3700</td>\n",
       "      <td>1.0890</td>\n",
       "      <td>-17.8900</td>\n",
       "    </tr>\n",
       "    <tr>\n",
       "      <th>1</th>\n",
       "      <td>Mínimo Riesgo (Optimizada)</td>\n",
       "      <td>33.6800</td>\n",
       "      <td>21.9200</td>\n",
       "      <td>0.0380</td>\n",
       "      <td>-15.2800</td>\n",
       "    </tr>\n",
       "    <tr>\n",
       "      <th>2</th>\n",
       "      <td>Cartera Real (Actual)</td>\n",
       "      <td>36.7600</td>\n",
       "      <td>26.0500</td>\n",
       "      <td>0.1500</td>\n",
       "      <td>-21.1200</td>\n",
       "    </tr>\n",
       "    <tr>\n",
       "      <th>3</th>\n",
       "      <td>Equal Weight (Benchmark)</td>\n",
       "      <td>-6.0200</td>\n",
       "      <td>31.0100</td>\n",
       "      <td>-1.2530</td>\n",
       "      <td>-21.8000</td>\n",
       "    </tr>\n",
       "  </tbody>\n",
       "</table>\n",
       "</div>"
      ],
      "text/plain": [
       "                      Cartera  Rendimiento_Anual_%  Volatilidad_%  \\\n",
       "0  Máximo Sharpe (Optimizada)              63.7300        28.3700   \n",
       "1  Mínimo Riesgo (Optimizada)              33.6800        21.9200   \n",
       "2       Cartera Real (Actual)              36.7600        26.0500   \n",
       "3    Equal Weight (Benchmark)              -6.0200        31.0100   \n",
       "\n",
       "   Sharpe_Ratio  Max_Drawdown_%  \n",
       "0        1.0890        -17.8900  \n",
       "1        0.0380        -15.2800  \n",
       "2        0.1500        -21.1200  \n",
       "3       -1.2530        -21.8000  "
      ]
     },
     "metadata": {},
     "output_type": "display_data"
    },
    {
     "name": "stdout",
     "output_type": "stream",
     "text": [
      "\n",
      "🔸 MÉTRICAS AVANZADAS\n"
     ]
    },
    {
     "data": {
      "text/html": [
       "<div>\n",
       "<style scoped>\n",
       "    .dataframe tbody tr th:only-of-type {\n",
       "        vertical-align: middle;\n",
       "    }\n",
       "\n",
       "    .dataframe tbody tr th {\n",
       "        vertical-align: top;\n",
       "    }\n",
       "\n",
       "    .dataframe thead th {\n",
       "        text-align: right;\n",
       "    }\n",
       "</style>\n",
       "<table border=\"1\" class=\"dataframe\">\n",
       "  <thead>\n",
       "    <tr style=\"text-align: right;\">\n",
       "      <th></th>\n",
       "      <th>Cartera</th>\n",
       "      <th>alpha</th>\n",
       "      <th>beta</th>\n",
       "      <th>kelly_criterion</th>\n",
       "      <th>calmar_ratio</th>\n",
       "    </tr>\n",
       "  </thead>\n",
       "  <tbody>\n",
       "    <tr>\n",
       "      <th>0</th>\n",
       "      <td>Máximo Sharpe (Optimizada)</td>\n",
       "      <td>0.3011</td>\n",
       "      <td>0.8696</td>\n",
       "      <td>0.1809</td>\n",
       "      <td>3.5616</td>\n",
       "    </tr>\n",
       "    <tr>\n",
       "      <th>1</th>\n",
       "      <td>Mínimo Riesgo (Optimizada)</td>\n",
       "      <td>0.0582</td>\n",
       "      <td>0.7207</td>\n",
       "      <td>0.1350</td>\n",
       "      <td>2.2044</td>\n",
       "    </tr>\n",
       "    <tr>\n",
       "      <th>2</th>\n",
       "      <td>Cartera Real (Actual)</td>\n",
       "      <td>-0.0155</td>\n",
       "      <td>0.9911</td>\n",
       "      <td>0.1319</td>\n",
       "      <td>1.7400</td>\n",
       "    </tr>\n",
       "    <tr>\n",
       "      <th>3</th>\n",
       "      <td>Equal Weight (Benchmark)</td>\n",
       "      <td>-0.3528</td>\n",
       "      <td>0.7570</td>\n",
       "      <td>0.0000</td>\n",
       "      <td>-0.2760</td>\n",
       "    </tr>\n",
       "  </tbody>\n",
       "</table>\n",
       "</div>"
      ],
      "text/plain": [
       "                      Cartera   alpha   beta  kelly_criterion  calmar_ratio\n",
       "0  Máximo Sharpe (Optimizada)  0.3011 0.8696           0.1809        3.5616\n",
       "1  Mínimo Riesgo (Optimizada)  0.0582 0.7207           0.1350        2.2044\n",
       "2       Cartera Real (Actual) -0.0155 0.9911           0.1319        1.7400\n",
       "3    Equal Weight (Benchmark) -0.3528 0.7570           0.0000       -0.2760"
      ]
     },
     "metadata": {},
     "output_type": "display_data"
    }
   ],
   "source": [
    "class PortfolioOptimizer:\n",
    "    \"\"\"Optimización de carteras usando Markowitz\"\"\"\n",
    "    \n",
    "    def __init__(self, returns_data, risk_free_rate=0.02):\n",
    "        self.returns = returns_data.dropna()\n",
    "        self.assets = self.returns.columns.tolist()\n",
    "        self.n_assets = len(self.assets)\n",
    "        self.rf_rate = risk_free_rate / 252\n",
    "        \n",
    "    def negative_sharpe(self, weights):\n",
    "        \"\"\"Función objetivo para maximizar Sharpe\"\"\"\n",
    "        portfolio_return = np.sum(self.returns.mean() * weights) * 252\n",
    "        portfolio_std = np.sqrt(np.dot(weights.T, np.dot(self.returns.cov() * 252, weights)))\n",
    "        sharpe = (portfolio_return - self.rf_rate * 252) / portfolio_std\n",
    "        return -sharpe\n",
    "    \n",
    "    def optimize_sharpe(self):\n",
    "        \"\"\"Optimiza para máximo Sharpe Ratio\"\"\"\n",
    "        constraints = ({'type': 'eq', 'fun': lambda x: np.sum(x) - 1})\n",
    "        bounds = tuple((0, 1) for _ in range(self.n_assets))\n",
    "        initial = np.array([1/self.n_assets] * self.n_assets)\n",
    "        \n",
    "        try:\n",
    "            result = minimize(self.negative_sharpe, initial, method='SLSQP', \n",
    "                            bounds=bounds, constraints=constraints)\n",
    "            \n",
    "            if result.success:\n",
    "                weights = dict(zip(self.assets, result.x))\n",
    "                portfolio_return = np.sum(self.returns.mean() * result.x) * 252\n",
    "                portfolio_std = np.sqrt(np.dot(result.x.T, np.dot(self.returns.cov() * 252, result.x)))\n",
    "                sharpe = (portfolio_return - self.rf_rate * 252) / portfolio_std\n",
    "                \n",
    "                return {\n",
    "                    'tipo': 'Máximo Sharpe',\n",
    "                    'weights': weights,\n",
    "                    'rendimiento': portfolio_return,\n",
    "                    'volatilidad': portfolio_std,\n",
    "                    'sharpe_ratio': sharpe\n",
    "                }\n",
    "        except:\n",
    "            pass\n",
    "        return None\n",
    "    \n",
    "    def optimize_min_vol(self):\n",
    "        \"\"\"Optimiza para mínima volatilidad\"\"\"\n",
    "        def portfolio_vol(weights):\n",
    "            return np.sqrt(np.dot(weights.T, np.dot(self.returns.cov() * 252, weights)))\n",
    "        \n",
    "        constraints = ({'type': 'eq', 'fun': lambda x: np.sum(x) - 1})\n",
    "        bounds = tuple((0, 1) for _ in range(self.n_assets))\n",
    "        initial = np.array([1/self.n_assets] * self.n_assets)\n",
    "        \n",
    "        try:\n",
    "            result = minimize(portfolio_vol, initial, method='SLSQP',\n",
    "                            bounds=bounds, constraints=constraints)\n",
    "            \n",
    "            if result.success:\n",
    "                weights = dict(zip(self.assets, result.x))\n",
    "                portfolio_return = np.sum(self.returns.mean() * result.x) * 252\n",
    "                portfolio_std = result.fun\n",
    "                sharpe = (portfolio_return - self.rf_rate * 252) / portfolio_std\n",
    "                \n",
    "                return {\n",
    "                    'tipo': 'Mínimo Riesgo',\n",
    "                    'weights': weights,\n",
    "                    'rendimiento': portfolio_return,\n",
    "                    'volatilidad': portfolio_std,\n",
    "                    'sharpe_ratio': sharpe\n",
    "                }\n",
    "        except:\n",
    "            pass\n",
    "        return None\n",
    "\n",
    "def calcular_retornos_cartera(df, weights_dict):\n",
    "    \"\"\"Calcula retornos históricos de una cartera\"\"\"\n",
    "    portfolio_returns = []\n",
    "    \n",
    "    for i in range(1, len(df)):\n",
    "        day_return = 0\n",
    "        valid_weights_sum = 0\n",
    "        \n",
    "        for activo, peso in weights_dict.items():\n",
    "            if activo in df.columns:\n",
    "                if pd.notna(df.iloc[i][activo]) and pd.notna(df.iloc[i-1][activo]):\n",
    "                    ret_activo = (df.iloc[i][activo] / df.iloc[i-1][activo]) - 1\n",
    "                    day_return += peso * ret_activo\n",
    "                    valid_weights_sum += peso\n",
    "        \n",
    "        if valid_weights_sum > 0:\n",
    "            day_return = day_return / valid_weights_sum\n",
    "        \n",
    "        portfolio_returns.append(day_return)\n",
    "    \n",
    "    return portfolio_returns\n",
    "\n",
    "# OPTIMIZACIÓN DE CARTERAS\n",
    "print(f\"📊 Activos disponibles: {len(activos_verdaderos)} activos verdaderos\")\n",
    "print(f\"📊 Todos los activos: {activos_verdaderos}\")\n",
    "\n",
    "if not returns_data.empty and len(returns_data.columns) >= 2:\n",
    "    \n",
    "    # Configurar tasa libre de riesgo\n",
    "    tasa_rf = 0.02  # Default\n",
    "    if 'df_data_completo' in globals() and 'Tasa_PlazoFijo_Diaria' in df_data_completo.columns:\n",
    "        tasa_diaria = df_data_completo['Tasa_PlazoFijo_Diaria'].dropna().mean()\n",
    "        tasa_rf = ((1 + tasa_diaria) ** 252) - 1\n",
    "    \n",
    "    # Optimizar\n",
    "    optimizer = PortfolioOptimizer(returns_data, risk_free_rate=tasa_rf)\n",
    "    cartera_opt_sharpe = optimizer.optimize_sharpe()\n",
    "    cartera_opt_vol = optimizer.optimize_min_vol()\n",
    "    \n",
    "    # RESULTADOS DE OPTIMIZACIÓN\n",
    "    carteras_data = []\n",
    "    \n",
    "    if cartera_opt_sharpe:\n",
    "        carteras_data.append({\n",
    "            'Cartera': 'Máximo Sharpe (Optimizada)',\n",
    "            'Rendimiento_Anual_%': f\"{cartera_opt_sharpe['rendimiento']*100:.2f}\",\n",
    "            'Volatilidad_%': f\"{cartera_opt_sharpe['volatilidad']*100:.2f}\",\n",
    "            'Sharpe_Ratio': f\"{cartera_opt_sharpe['sharpe_ratio']:.3f}\"\n",
    "        })\n",
    "    \n",
    "    if cartera_opt_vol:\n",
    "        carteras_data.append({\n",
    "            'Cartera': 'Mínimo Riesgo (Optimizada)',\n",
    "            'Rendimiento_Anual_%': f\"{cartera_opt_vol['rendimiento']*100:.2f}\",\n",
    "            'Volatilidad_%': f\"{cartera_opt_vol['volatilidad']*100:.2f}\",\n",
    "            'Sharpe_Ratio': f\"{cartera_opt_vol['sharpe_ratio']:.3f}\"\n",
    "        })\n",
    "    \n",
    "    # AGREGAR CARTERA REAL SI EXISTE\n",
    "    cartera_real_weights = None\n",
    "    if 'cartera_real' in globals() and cartera_real:\n",
    "        # La cartera real puede tener estructura diferente, extraer solo los pesos\n",
    "        if isinstance(cartera_real, dict):\n",
    "            if 'weights' in cartera_real:\n",
    "                cartera_real_weights = cartera_real['weights']\n",
    "            else:\n",
    "                # Asumir que cartera_real ya es el diccionario de pesos\n",
    "                # Filtrar solo valores numéricos\n",
    "                cartera_real_weights = {k: v for k, v in cartera_real.items() \n",
    "                                      if isinstance(v, (int, float)) and not isinstance(v, dict)}\n",
    "        \n",
    "        if cartera_real_weights:\n",
    "            # Calcular métricas de la cartera real\n",
    "            portfolio_returns_real = calcular_retornos_cartera(df_data_completo, cartera_real_weights)\n",
    "            if len(portfolio_returns_real) > 30:\n",
    "                ret_real = pd.Series(portfolio_returns_real)\n",
    "                rend_anual_real = ret_real.mean() * 252\n",
    "                vol_real = ret_real.std() * np.sqrt(252)\n",
    "                sharpe_real = (rend_anual_real - tasa_rf) / vol_real if vol_real > 0 else 0\n",
    "                \n",
    "                carteras_data.append({\n",
    "                    'Cartera': 'Cartera Real (Actual)',\n",
    "                    'Rendimiento_Anual_%': f\"{rend_anual_real*100:.2f}\",\n",
    "                    'Volatilidad_%': f\"{vol_real*100:.2f}\",\n",
    "                    'Sharpe_Ratio': f\"{sharpe_real:.3f}\"\n",
    "                })\n",
    "    \n",
    "    # CARTERA EQUAL WEIGHT\n",
    "    equal_weights = {activo: 1/len(activos_verdaderos) for activo in activos_verdaderos}\n",
    "    portfolio_returns_eq = calcular_retornos_cartera(df_data_completo, equal_weights)\n",
    "    if len(portfolio_returns_eq) > 30:\n",
    "        ret_eq = pd.Series(portfolio_returns_eq)\n",
    "        rend_anual_eq = ret_eq.mean() * 252\n",
    "        vol_eq = ret_eq.std() * np.sqrt(252)\n",
    "        sharpe_eq = (rend_anual_eq - tasa_rf) / vol_eq\n",
    "        \n",
    "        carteras_data.append({\n",
    "            'Cartera': 'Equal Weight (Benchmark)',\n",
    "            'Rendimiento_Anual_%': f\"{rend_anual_eq*100:.2f}\",\n",
    "            'Volatilidad_%': f\"{vol_eq*100:.2f}\",\n",
    "            'Sharpe_Ratio': f\"{sharpe_eq:.3f}\"\n",
    "        })\n",
    "    \n",
    "    if carteras_data:\n",
    "        print(\"🎯 CARTERAS OPTIMIZADAS\")\n",
    "        print(\"=\"*50)\n",
    "        df_carteras_opt = pd.DataFrame(carteras_data)\n",
    "        display(df_carteras_opt)\n",
    "        \n",
    "        # COMPOSICIONES (solo pesos > 1%)\n",
    "        carteras_para_mostrar = []\n",
    "        if cartera_opt_sharpe: carteras_para_mostrar.append(cartera_opt_sharpe)\n",
    "        if cartera_opt_vol: carteras_para_mostrar.append(cartera_opt_vol)\n",
    "        if cartera_real_weights: carteras_para_mostrar.append({'tipo': 'Cartera Real', 'weights': cartera_real_weights})\n",
    "        \n",
    "        for cartera in carteras_para_mostrar:\n",
    "            print(f\"\\n📊 Composición {cartera['tipo']}:\")\n",
    "            # Verificar que weights sea un diccionario válido\n",
    "            if 'weights' in cartera and isinstance(cartera['weights'], dict):\n",
    "                pesos_significativos = {k: v for k, v in cartera['weights'].items() \n",
    "                                      if isinstance(v, (int, float)) and v > 0.01}\n",
    "                df_pesos = pd.DataFrame([\n",
    "                    {'Activo': activo, 'Peso_%': f\"{peso*100:.1f}\"} \n",
    "                    for activo, peso in sorted(pesos_significativos.items(), key=lambda x: x[1], reverse=True)\n",
    "                ])\n",
    "                display(df_pesos)\n",
    "        \n",
    "        # MÉTRICAS AVANZADAS DE LAS CARTERAS OPTIMIZADAS\n",
    "        calculator = RiskCalculator()\n",
    "        calculator.set_dynamic_risk_free_rate(df_data_completo)\n",
    "        \n",
    "        metricas_carteras = []\n",
    "        \n",
    "        # Analizar cartera Sharpe\n",
    "        if cartera_opt_sharpe:\n",
    "            portfolio_returns = calcular_retornos_cartera(df_data_completo, cartera_opt_sharpe['weights'])\n",
    "            if len(portfolio_returns) > 30:\n",
    "                metrics = calculator.calculate_metrics(pd.Series(portfolio_returns), df_data_completo, \"Sharpe_Opt\")\n",
    "                if metrics:\n",
    "                    metrics['Cartera'] = 'Máximo Sharpe (Optimizada)'\n",
    "                    metricas_carteras.append(metrics)\n",
    "        \n",
    "        # Analizar cartera mínimo riesgo\n",
    "        if cartera_opt_vol:\n",
    "            portfolio_returns = calcular_retornos_cartera(df_data_completo, cartera_opt_vol['weights'])\n",
    "            if len(portfolio_returns) > 30:\n",
    "                metrics = calculator.calculate_metrics(pd.Series(portfolio_returns), df_data_completo, \"MinVol_Opt\")\n",
    "                if metrics:\n",
    "                    metrics['Cartera'] = 'Mínimo Riesgo (Optimizada)'\n",
    "                    metricas_carteras.append(metrics)\n",
    "        \n",
    "        # Analizar cartera real si existe\n",
    "        if cartera_real_weights:\n",
    "            portfolio_returns = calcular_retornos_cartera(df_data_completo, cartera_real_weights)\n",
    "            if len(portfolio_returns) > 30:\n",
    "                metrics = calculator.calculate_metrics(pd.Series(portfolio_returns), df_data_completo, \"Cartera_Real\")\n",
    "                if metrics:\n",
    "                    metrics['Cartera'] = 'Cartera Real (Actual)'\n",
    "                    metricas_carteras.append(metrics)\n",
    "        \n",
    "        # Cartera Equal Weight como benchmark\n",
    "        equal_weights = {activo: 1/len(activos_verdaderos) for activo in activos_verdaderos}\n",
    "        portfolio_returns = calcular_retornos_cartera(df_data_completo, equal_weights)\n",
    "        if len(portfolio_returns) > 30:\n",
    "            metrics = calculator.calculate_metrics(pd.Series(portfolio_returns), df_data_completo, \"Equal_Weight\")\n",
    "            if metrics:\n",
    "                metrics['Cartera'] = 'Equal Weight (Benchmark)'\n",
    "                metricas_carteras.append(metrics)\n",
    "        \n",
    "        if metricas_carteras:\n",
    "            df_metricas_carteras = pd.DataFrame(metricas_carteras)\n",
    "            \n",
    "            print(f\"\\n📈 MÉTRICAS DE RIESGO Y PERFORMANCE\")\n",
    "            print(\"=\"*50)\n",
    "            \n",
    "            # Formatear para display\n",
    "            cols_display = ['Cartera', 'rendimiento_anual', 'volatilidad', 'sharpe_ratio', 'max_drawdown']\n",
    "            df_show = df_metricas_carteras[cols_display].copy()\n",
    "            df_show['rendimiento_anual'] = (df_show['rendimiento_anual'] * 100).round(2)\n",
    "            df_show['volatilidad'] = (df_show['volatilidad'] * 100).round(2)\n",
    "            df_show['sharpe_ratio'] = df_show['sharpe_ratio'].round(3)\n",
    "            df_show['max_drawdown'] = (df_show['max_drawdown'] * 100).round(2)\n",
    "            df_show.columns = ['Cartera', 'Rendimiento_Anual_%', 'Volatilidad_%', 'Sharpe_Ratio', 'Max_Drawdown_%']\n",
    "            display(df_show)\n",
    "            \n",
    "            # Métricas avanzadas\n",
    "            if any(col in df_metricas_carteras.columns for col in ['alpha', 'beta', 'kelly_criterion']):\n",
    "                print(f\"\\n🔸 MÉTRICAS AVANZADAS\")\n",
    "                cols_advanced = ['Cartera', 'alpha', 'beta', 'kelly_criterion', 'calmar_ratio']\n",
    "                cols_available = [col for col in cols_advanced if col in df_metricas_carteras.columns]\n",
    "                \n",
    "                if len(cols_available) > 1:\n",
    "                    df_advanced = df_metricas_carteras[cols_available].copy()\n",
    "                    for col in ['alpha', 'beta', 'kelly_criterion', 'calmar_ratio']:\n",
    "                        if col in df_advanced.columns:\n",
    "                            df_advanced[col] = df_advanced[col].round(4)\n",
    "                    display(df_advanced)\n",
    "        \n",
    "    else:\n",
    "        print(\"❌ No se pudieron optimizar carteras\")\n",
    "        cartera_opt_sharpe = cartera_opt_vol = None\n",
    "\n",
    "else:\n",
    "    print(\"❌ Datos insuficientes para optimización (mínimo 2 activos)\")\n",
    "    cartera_opt_sharpe = cartera_opt_vol = None"
   ]
  },
  {
   "cell_type": "markdown",
   "id": "a8a59028",
   "metadata": {},
   "source": [
    "## 5. Backtesting y Validación de Estrategias\n",
    "\n",
    "Validación histórica de las carteras optimizadas."
   ]
  },
  {
   "cell_type": "code",
   "execution_count": 42,
   "id": "dd0774f9",
   "metadata": {},
   "outputs": [
    {
     "name": "stdout",
     "output_type": "stream",
     "text": [
      "🏆 BACKTESTING CON BENCHMARKS ESPECÍFICOS PARA TU CARTERA\n",
      "======================================================================\n",
      "✅ Analizando tu cartera real...\n",
      "✅ Analizando cartera óptima Sharpe...\n",
      "✅ Analizando cartera óptima Sharpe...\n",
      "✅ Analizando cartera óptima mínimo riesgo...\n",
      "✅ Analizando cartera óptima mínimo riesgo...\n",
      "\n",
      "🎯 Creando benchmarks específicos para TUS 7 activos:\n",
      "   Activos seleccionados: ['AAPL', 'SPY', 'EWZ', 'CEPU', 'BHIL', 'METRO', 'IBM']\n",
      "📊 Benchmark 1: Equal Weight (solo tus activos)\n",
      "\n",
      "🎯 Creando benchmarks específicos para TUS 7 activos:\n",
      "   Activos seleccionados: ['AAPL', 'SPY', 'EWZ', 'CEPU', 'BHIL', 'METRO', 'IBM']\n",
      "📊 Benchmark 1: Equal Weight (solo tus activos)\n",
      "📊 Benchmark 3: Cap-Weighted (simulado por tamaño)\n",
      "📊 Benchmark 3: Cap-Weighted (simulado por tamaño)\n",
      "   • Pesos por capitalización:\n",
      "     - AAPL: 32.0%\n",
      "     - SPY: 28.0%\n",
      "     - EWZ: 8.0%\n",
      "     - CEPU: 8.0%\n",
      "     - BHIL: 8.0%\n",
      "     - METRO: 8.0%\n",
      "     - IBM: 8.0%\n",
      "\n",
      "📊 RESULTADOS BACKTESTING CON BENCHMARKS ESPECÍFICOS:\n",
      "======================================================================\n",
      "   • Pesos por capitalización:\n",
      "     - AAPL: 32.0%\n",
      "     - SPY: 28.0%\n",
      "     - EWZ: 8.0%\n",
      "     - CEPU: 8.0%\n",
      "     - BHIL: 8.0%\n",
      "     - METRO: 8.0%\n",
      "     - IBM: 8.0%\n",
      "\n",
      "📊 RESULTADOS BACKTESTING CON BENCHMARKS ESPECÍFICOS:\n",
      "======================================================================\n"
     ]
    },
    {
     "data": {
      "text/html": [
       "<div>\n",
       "<style scoped>\n",
       "    .dataframe tbody tr th:only-of-type {\n",
       "        vertical-align: middle;\n",
       "    }\n",
       "\n",
       "    .dataframe tbody tr th {\n",
       "        vertical-align: top;\n",
       "    }\n",
       "\n",
       "    .dataframe thead th {\n",
       "        text-align: right;\n",
       "    }\n",
       "</style>\n",
       "<table border=\"1\" class=\"dataframe\">\n",
       "  <thead>\n",
       "    <tr style=\"text-align: right;\">\n",
       "      <th></th>\n",
       "      <th>Estrategia</th>\n",
       "      <th>Rendimiento_Anual_%</th>\n",
       "      <th>Volatilidad_Anual_%</th>\n",
       "      <th>Sharpe_Ratio</th>\n",
       "      <th>Max_Drawdown_%</th>\n",
       "      <th>Valor_Final</th>\n",
       "      <th>Tipo</th>\n",
       "    </tr>\n",
       "  </thead>\n",
       "  <tbody>\n",
       "    <tr>\n",
       "      <th>1</th>\n",
       "      <td>Cartera Óptima Sharpe</td>\n",
       "      <td>63.73</td>\n",
       "      <td>28.37</td>\n",
       "      <td>1.350</td>\n",
       "      <td>-17.89</td>\n",
       "      <td>149.9</td>\n",
       "      <td>🏆 OPTIMIZADA</td>\n",
       "    </tr>\n",
       "    <tr>\n",
       "      <th>0</th>\n",
       "      <td>Tu Cartera Real</td>\n",
       "      <td>36.76</td>\n",
       "      <td>26.05</td>\n",
       "      <td>0.434</td>\n",
       "      <td>-21.12</td>\n",
       "      <td>125.4</td>\n",
       "      <td>🎯 TU CARTERA</td>\n",
       "    </tr>\n",
       "    <tr>\n",
       "      <th>2</th>\n",
       "      <td>Cartera Óptima MinVol</td>\n",
       "      <td>33.68</td>\n",
       "      <td>21.92</td>\n",
       "      <td>0.376</td>\n",
       "      <td>-15.28</td>\n",
       "      <td>123.6</td>\n",
       "      <td>🏆 OPTIMIZADA</td>\n",
       "    </tr>\n",
       "    <tr>\n",
       "      <th>3</th>\n",
       "      <td>Equal Weight (Tus Activos)</td>\n",
       "      <td>-6.02</td>\n",
       "      <td>31.01</td>\n",
       "      <td>-1.014</td>\n",
       "      <td>-21.80</td>\n",
       "      <td>92.9</td>\n",
       "      <td>📊 BENCHMARK</td>\n",
       "    </tr>\n",
       "    <tr>\n",
       "      <th>4</th>\n",
       "      <td>Benchmark Cap-Weighted</td>\n",
       "      <td>8.93</td>\n",
       "      <td>28.15</td>\n",
       "      <td>-0.587</td>\n",
       "      <td>-21.64</td>\n",
       "      <td>103.4</td>\n",
       "      <td>📊 BENCHMARK</td>\n",
       "    </tr>\n",
       "  </tbody>\n",
       "</table>\n",
       "</div>"
      ],
      "text/plain": [
       "                   Estrategia Rendimiento_Anual_% Volatilidad_Anual_%  \\\n",
       "1       Cartera Óptima Sharpe               63.73               28.37   \n",
       "0             Tu Cartera Real               36.76               26.05   \n",
       "2       Cartera Óptima MinVol               33.68               21.92   \n",
       "3  Equal Weight (Tus Activos)               -6.02               31.01   \n",
       "4      Benchmark Cap-Weighted                8.93               28.15   \n",
       "\n",
       "  Sharpe_Ratio Max_Drawdown_% Valor_Final          Tipo  \n",
       "1        1.350         -17.89       149.9  🏆 OPTIMIZADA  \n",
       "0        0.434         -21.12       125.4  🎯 TU CARTERA  \n",
       "2        0.376         -15.28       123.6  🏆 OPTIMIZADA  \n",
       "3       -1.014         -21.80        92.9   📊 BENCHMARK  \n",
       "4       -0.587         -21.64       103.4   📊 BENCHMARK  "
      ]
     },
     "metadata": {},
     "output_type": "display_data"
    },
    {
     "data": {
      "application/vnd.plotly.v1+json": {
       "config": {
        "plotlyServerURL": "https://plot.ly"
       },
       "data": [
        {
         "hovertemplate": "Tu Cartera Real<br>Valor: %{y:.1f}<br>Sharpe: 0.434<extra></extra>",
         "line": {
          "color": "#e74c3c",
          "dash": "solid",
          "width": 4
         },
         "mode": "lines",
         "name": "Tu Cartera Real",
         "type": "scatter",
         "x": [
          "2025-01-06T00:00:00",
          "2025-01-07T00:00:00",
          "2025-01-08T00:00:00",
          "2025-01-09T00:00:00",
          "2025-01-10T00:00:00",
          "2025-01-13T00:00:00",
          "2025-01-14T00:00:00",
          "2025-01-15T00:00:00",
          "2025-01-16T00:00:00",
          "2025-01-17T00:00:00",
          "2025-01-20T00:00:00",
          "2025-01-21T00:00:00",
          "2025-01-22T00:00:00",
          "2025-01-23T00:00:00",
          "2025-01-24T00:00:00",
          "2025-01-27T00:00:00",
          "2025-01-28T00:00:00",
          "2025-01-29T00:00:00",
          "2025-01-30T00:00:00",
          "2025-01-31T00:00:00",
          "2025-02-03T00:00:00",
          "2025-02-04T00:00:00",
          "2025-02-05T00:00:00",
          "2025-02-06T00:00:00",
          "2025-02-07T00:00:00",
          "2025-02-10T00:00:00",
          "2025-02-11T00:00:00",
          "2025-02-12T00:00:00",
          "2025-02-13T00:00:00",
          "2025-02-14T00:00:00",
          "2025-02-17T00:00:00",
          "2025-02-18T00:00:00",
          "2025-02-19T00:00:00",
          "2025-02-20T00:00:00",
          "2025-02-21T00:00:00",
          "2025-02-24T00:00:00",
          "2025-02-25T00:00:00",
          "2025-02-26T00:00:00",
          "2025-02-27T00:00:00",
          "2025-02-28T00:00:00",
          "2025-03-03T00:00:00",
          "2025-03-04T00:00:00",
          "2025-03-05T00:00:00",
          "2025-03-06T00:00:00",
          "2025-03-07T00:00:00",
          "2025-03-10T00:00:00",
          "2025-03-11T00:00:00",
          "2025-03-12T00:00:00",
          "2025-03-13T00:00:00",
          "2025-03-14T00:00:00",
          "2025-03-17T00:00:00",
          "2025-03-18T00:00:00",
          "2025-03-19T00:00:00",
          "2025-03-20T00:00:00",
          "2025-03-21T00:00:00",
          "2025-03-24T00:00:00",
          "2025-03-25T00:00:00",
          "2025-03-26T00:00:00",
          "2025-03-27T00:00:00",
          "2025-03-28T00:00:00",
          "2025-03-31T00:00:00",
          "2025-04-01T00:00:00",
          "2025-04-02T00:00:00",
          "2025-04-03T00:00:00",
          "2025-04-04T00:00:00",
          "2025-04-07T00:00:00",
          "2025-04-08T00:00:00",
          "2025-04-09T00:00:00",
          "2025-04-10T00:00:00",
          "2025-04-11T00:00:00",
          "2025-04-14T00:00:00",
          "2025-04-15T00:00:00",
          "2025-04-16T00:00:00",
          "2025-04-17T00:00:00",
          "2025-04-21T00:00:00",
          "2025-04-22T00:00:00",
          "2025-04-23T00:00:00",
          "2025-04-24T00:00:00",
          "2025-04-25T00:00:00",
          "2025-04-28T00:00:00",
          "2025-04-29T00:00:00",
          "2025-04-30T00:00:00",
          "2025-05-01T00:00:00",
          "2025-05-02T00:00:00",
          "2025-05-05T00:00:00",
          "2025-05-06T00:00:00",
          "2025-05-07T00:00:00",
          "2025-05-08T00:00:00",
          "2025-05-09T00:00:00",
          "2025-05-12T00:00:00",
          "2025-05-13T00:00:00",
          "2025-05-14T00:00:00",
          "2025-05-15T00:00:00",
          "2025-05-16T00:00:00",
          "2025-05-19T00:00:00",
          "2025-05-20T00:00:00",
          "2025-05-21T00:00:00",
          "2025-05-22T00:00:00",
          "2025-05-23T00:00:00",
          "2025-05-26T00:00:00",
          "2025-05-27T00:00:00",
          "2025-05-28T00:00:00",
          "2025-05-29T00:00:00",
          "2025-05-30T00:00:00",
          "2025-06-02T00:00:00",
          "2025-06-03T00:00:00",
          "2025-06-04T00:00:00",
          "2025-06-05T00:00:00",
          "2025-06-06T00:00:00",
          "2025-06-09T00:00:00",
          "2025-06-10T00:00:00",
          "2025-06-11T00:00:00",
          "2025-06-12T00:00:00",
          "2025-06-13T00:00:00",
          "2025-06-16T00:00:00",
          "2025-06-17T00:00:00",
          "2025-06-18T00:00:00",
          "2025-06-19T00:00:00",
          "2025-06-20T00:00:00",
          "2025-06-23T00:00:00",
          "2025-06-24T00:00:00",
          "2025-06-25T00:00:00",
          "2025-06-26T00:00:00",
          "2025-06-27T00:00:00",
          "2025-06-30T00:00:00",
          "2025-07-01T00:00:00",
          "2025-07-02T00:00:00",
          "2025-07-03T00:00:00",
          "2025-07-04T00:00:00",
          "2025-07-07T00:00:00",
          "2025-07-08T00:00:00",
          "2025-07-09T00:00:00",
          "2025-07-10T00:00:00",
          "2025-07-11T00:00:00",
          "2025-07-14T00:00:00",
          "2025-07-15T00:00:00",
          "2025-07-16T00:00:00",
          "2025-07-17T00:00:00",
          "2025-07-18T00:00:00",
          "2025-07-21T00:00:00",
          "2025-07-22T00:00:00",
          "2025-07-23T00:00:00",
          "2025-07-24T00:00:00",
          "2025-07-25T00:00:00",
          "2025-07-28T00:00:00",
          "2025-07-29T00:00:00",
          "2025-07-30T00:00:00",
          "2025-07-31T00:00:00",
          "2025-08-01T00:00:00",
          "2025-08-04T00:00:00",
          "2025-08-05T00:00:00",
          "2025-08-06T00:00:00",
          "2025-08-07T00:00:00",
          "2025-08-08T00:00:00",
          "2025-08-11T00:00:00",
          "2025-08-12T00:00:00",
          "2025-08-13T00:00:00",
          "2025-08-14T00:00:00",
          "2025-08-15T00:00:00",
          "2025-08-18T00:00:00",
          "2025-08-19T00:00:00",
          "2025-08-20T00:00:00",
          "2025-08-21T00:00:00",
          "2025-08-22T00:00:00",
          "2025-08-25T00:00:00",
          "2025-08-26T00:00:00",
          "2025-08-27T00:00:00",
          "2025-08-28T00:00:00",
          "2025-08-29T00:00:00",
          "2025-09-01T00:00:00",
          "2025-09-02T00:00:00"
         ],
         "y": [
          101.3410897383174,
          101.2287181310283,
          100.84405722333678,
          102.08498364706209,
          99.63891467198542,
          99.36087611940522,
          99.68717322362188,
          101.36803955671154,
          100.14862914437342,
          100.65814144486104,
          101.99513085177013,
          100.60642094302452,
          102.23985655307469,
          101.69674673071687,
          100.30650993113856,
          100.45698257380057,
          102.28366387467416,
          102.32217478156093,
          103.73179291588355,
          103.06915615245708,
          102.86427476867142,
          104.1069858476436,
          104.50530879953641,
          104.52880286115791,
          103.61035138480719,
          103.36139077566726,
          103.86216076799325,
          103.95334726028283,
          105.25880788704698,
          106.9503122297474,
          108.63062493104681,
          107.93349215836123,
          108.05018760281177,
          108.15129511101296,
          106.67906593641383,
          106.20322150949966,
          105.7506257005678,
          104.6241411132341,
          104.0590002268557,
          103.69325074986999,
          103.69055926541893,
          103.69420426097906,
          104.78190524212299,
          103.67715455039274,
          103.3339420339172,
          100.54280788675356,
          100.07897136978715,
          100.13437923936874,
          99.19983247126783,
          102.39676617723265,
          104.6725247343971,
          107.13596888766199,
          107.64452618493692,
          107.12960776590272,
          107.60563431009638,
          107.61151951726151,
          109.87397070014708,
          108.90647823385426,
          108.86624949080893,
          107.50267022046567,
          108.72844848693437,
          108.80003757128736,
          108.79958194513428,
          105.30061750429434,
          99.80232073803053,
          99.66931636803068,
          97.62402846893113,
          105.28033263425445,
          103.1345942013437,
          103.87998845096288,
          99.48537237249991,
          98.10947192280817,
          91.0955298567728,
          91.09579672107195,
          86.66344257740968,
          91.09984863312873,
          94.97831501364041,
          98.09214091996614,
          98.59422085031339,
          98.2184804038184,
          98.51066492975022,
          98.52492645403663,
          98.52236359740206,
          98.5294149580882,
          99.50488174238477,
          99.04144064451333,
          95.07582686175411,
          95.66868304221966,
          96.05462581145001,
          98.93088885514139,
          100.66880492010415,
          100.4600526838183,
          100.92659310726799,
          102.03496659303025,
          101.65121189502591,
          101.39803004638881,
          99.29151723077445,
          98.89726252776917,
          98.26297919536573,
          98.82708491533732,
          101.00569485662521,
          100.60619992144065,
          102.26672027592925,
          102.56464007481235,
          101.87338494526333,
          103.01448802255875,
          102.98875644757142,
          102.41646972901297,
          103.66035339482602,
          103.30374706255591,
          103.38667063106514,
          103.02788413910076,
          103.08507045608182,
          101.51186967163706,
          101.51678563737421,
          101.1612610088821,
          100.33483155544872,
          100.87629550885278,
          100.87397199733941,
          102.11281374319694,
          103.12738605019243,
          103.76677811009634,
          105.04258812774488,
          105.18772914963684,
          107.52017713810844,
          109.59060292536995,
          110.71463782132089,
          111.83901036237,
          112.65504287157835,
          113.43428393599591,
          112.49725605761094,
          112.4969402141994,
          113.03213372656809,
          112.41229397540667,
          114.35531644016159,
          112.85772937065947,
          112.68503031036421,
          114.00672675755239,
          114.2480906974954,
          113.68469535357823,
          112.01320557161813,
          113.22337453893512,
          113.74213364652029,
          115.24676392402013,
          115.53303247922844,
          115.20879523055679,
          117.0422352903266,
          120.02067759489185,
          119.05957820980157,
          119.49512539513263,
          118.39788662527076,
          119.79538454392365,
          120.52703364342443,
          121.91664233516757,
          120.64400557911053,
          122.18204407328119,
          122.12932323005464,
          120.54473047197712,
          120.54859465358962,
          119.98717941860058,
          118.38203050033617,
          118.73372809406824,
          119.36154135643464,
          122.50129963364512,
          124.81815475050946,
          124.41709020244373,
          125.27940927683325,
          125.32154274040306,
          125.44314348519354,
          128.09366032336007,
          125.40216162231339
         ]
        },
        {
         "hovertemplate": "Cartera Óptima Sharpe<br>Valor: %{y:.1f}<br>Sharpe: 1.350<extra></extra>",
         "line": {
          "color": "#2ecc71",
          "dash": "solid",
          "width": 2.5
         },
         "mode": "lines",
         "name": "Cartera Óptima Sharpe",
         "type": "scatter",
         "x": [
          "2025-01-06T00:00:00",
          "2025-01-07T00:00:00",
          "2025-01-08T00:00:00",
          "2025-01-09T00:00:00",
          "2025-01-10T00:00:00",
          "2025-01-13T00:00:00",
          "2025-01-14T00:00:00",
          "2025-01-15T00:00:00",
          "2025-01-16T00:00:00",
          "2025-01-17T00:00:00",
          "2025-01-20T00:00:00",
          "2025-01-21T00:00:00",
          "2025-01-22T00:00:00",
          "2025-01-23T00:00:00",
          "2025-01-24T00:00:00",
          "2025-01-27T00:00:00",
          "2025-01-28T00:00:00",
          "2025-01-29T00:00:00",
          "2025-01-30T00:00:00",
          "2025-01-31T00:00:00",
          "2025-02-03T00:00:00",
          "2025-02-04T00:00:00",
          "2025-02-05T00:00:00",
          "2025-02-06T00:00:00",
          "2025-02-07T00:00:00",
          "2025-02-10T00:00:00",
          "2025-02-11T00:00:00",
          "2025-02-12T00:00:00",
          "2025-02-13T00:00:00",
          "2025-02-14T00:00:00",
          "2025-02-17T00:00:00",
          "2025-02-18T00:00:00",
          "2025-02-19T00:00:00",
          "2025-02-20T00:00:00",
          "2025-02-21T00:00:00",
          "2025-02-24T00:00:00",
          "2025-02-25T00:00:00",
          "2025-02-26T00:00:00",
          "2025-02-27T00:00:00",
          "2025-02-28T00:00:00",
          "2025-03-03T00:00:00",
          "2025-03-04T00:00:00",
          "2025-03-05T00:00:00",
          "2025-03-06T00:00:00",
          "2025-03-07T00:00:00",
          "2025-03-10T00:00:00",
          "2025-03-11T00:00:00",
          "2025-03-12T00:00:00",
          "2025-03-13T00:00:00",
          "2025-03-14T00:00:00",
          "2025-03-17T00:00:00",
          "2025-03-18T00:00:00",
          "2025-03-19T00:00:00",
          "2025-03-20T00:00:00",
          "2025-03-21T00:00:00",
          "2025-03-24T00:00:00",
          "2025-03-25T00:00:00",
          "2025-03-26T00:00:00",
          "2025-03-27T00:00:00",
          "2025-03-28T00:00:00",
          "2025-03-31T00:00:00",
          "2025-04-01T00:00:00",
          "2025-04-02T00:00:00",
          "2025-04-03T00:00:00",
          "2025-04-04T00:00:00",
          "2025-04-07T00:00:00",
          "2025-04-08T00:00:00",
          "2025-04-09T00:00:00",
          "2025-04-10T00:00:00",
          "2025-04-11T00:00:00",
          "2025-04-14T00:00:00",
          "2025-04-15T00:00:00",
          "2025-04-16T00:00:00",
          "2025-04-17T00:00:00",
          "2025-04-21T00:00:00",
          "2025-04-22T00:00:00",
          "2025-04-23T00:00:00",
          "2025-04-24T00:00:00",
          "2025-04-25T00:00:00",
          "2025-04-28T00:00:00",
          "2025-04-29T00:00:00",
          "2025-04-30T00:00:00",
          "2025-05-01T00:00:00",
          "2025-05-02T00:00:00",
          "2025-05-05T00:00:00",
          "2025-05-06T00:00:00",
          "2025-05-07T00:00:00",
          "2025-05-08T00:00:00",
          "2025-05-09T00:00:00",
          "2025-05-12T00:00:00",
          "2025-05-13T00:00:00",
          "2025-05-14T00:00:00",
          "2025-05-15T00:00:00",
          "2025-05-16T00:00:00",
          "2025-05-19T00:00:00",
          "2025-05-20T00:00:00",
          "2025-05-21T00:00:00",
          "2025-05-22T00:00:00",
          "2025-05-23T00:00:00",
          "2025-05-26T00:00:00",
          "2025-05-27T00:00:00",
          "2025-05-28T00:00:00",
          "2025-05-29T00:00:00",
          "2025-05-30T00:00:00",
          "2025-06-02T00:00:00",
          "2025-06-03T00:00:00",
          "2025-06-04T00:00:00",
          "2025-06-05T00:00:00",
          "2025-06-06T00:00:00",
          "2025-06-09T00:00:00",
          "2025-06-10T00:00:00",
          "2025-06-11T00:00:00",
          "2025-06-12T00:00:00",
          "2025-06-13T00:00:00",
          "2025-06-16T00:00:00",
          "2025-06-17T00:00:00",
          "2025-06-18T00:00:00",
          "2025-06-19T00:00:00",
          "2025-06-20T00:00:00",
          "2025-06-23T00:00:00",
          "2025-06-24T00:00:00",
          "2025-06-25T00:00:00",
          "2025-06-26T00:00:00",
          "2025-06-27T00:00:00",
          "2025-06-30T00:00:00",
          "2025-07-01T00:00:00",
          "2025-07-02T00:00:00",
          "2025-07-03T00:00:00",
          "2025-07-04T00:00:00",
          "2025-07-07T00:00:00",
          "2025-07-08T00:00:00",
          "2025-07-09T00:00:00",
          "2025-07-10T00:00:00",
          "2025-07-11T00:00:00",
          "2025-07-14T00:00:00",
          "2025-07-15T00:00:00",
          "2025-07-16T00:00:00",
          "2025-07-17T00:00:00",
          "2025-07-18T00:00:00",
          "2025-07-21T00:00:00",
          "2025-07-22T00:00:00",
          "2025-07-23T00:00:00",
          "2025-07-24T00:00:00",
          "2025-07-25T00:00:00",
          "2025-07-28T00:00:00",
          "2025-07-29T00:00:00",
          "2025-07-30T00:00:00",
          "2025-07-31T00:00:00",
          "2025-08-01T00:00:00",
          "2025-08-04T00:00:00",
          "2025-08-05T00:00:00",
          "2025-08-06T00:00:00",
          "2025-08-07T00:00:00",
          "2025-08-08T00:00:00",
          "2025-08-11T00:00:00",
          "2025-08-12T00:00:00",
          "2025-08-13T00:00:00",
          "2025-08-14T00:00:00",
          "2025-08-15T00:00:00",
          "2025-08-18T00:00:00",
          "2025-08-19T00:00:00",
          "2025-08-20T00:00:00",
          "2025-08-21T00:00:00",
          "2025-08-22T00:00:00",
          "2025-08-25T00:00:00",
          "2025-08-26T00:00:00",
          "2025-08-27T00:00:00",
          "2025-08-28T00:00:00",
          "2025-08-29T00:00:00",
          "2025-09-01T00:00:00",
          "2025-09-02T00:00:00"
         ],
         "y": [
          102.448210922786,
          103.95480225988348,
          102.63653483992124,
          104.89642184557057,
          102.07156308851033,
          102.63653483991872,
          103.38983050846957,
          105.83804143125295,
          104.51977401128775,
          105.64971751410704,
          108.47457627116832,
          106.40301318266003,
          109.03954802258534,
          107.90960451975992,
          107.15630885120882,
          108.8512241054407,
          109.79284369112708,
          109.79284369113029,
          113.37099811674149,
          113.37099811673887,
          113.93596986814869,
          115.0659133709744,
          115.44256120524811,
          116.19585687379548,
          114.50094161955744,
          115.06591337096704,
          115.4425612052381,
          114.50094161955522,
          114.50094161955946,
          119.2090395479934,
          122.41054613932111,
          120.7156308850909,
          118.83239171371966,
          119.77401129940543,
          116.76082862520836,
          115.25423728810922,
          116.00753295665483,
          114.68926553669161,
          113.74764595100211,
          110.92278719394403,
          110.92278719394398,
          110.92278719394406,
          114.50094161955779,
          114.50094161955539,
          114.50094161955609,
          112.24105461390288,
          113.18267419958804,
          113.55932203386634,
          115.44256120523563,
          120.90395480221885,
          125.2354048963747,
          129.75517890766452,
          130.50847457621728,
          129.1902071562563,
          129.00188323912252,
          129.00188323912272,
          129.37853107339922,
          129.00188323912275,
          128.62523540484855,
          128.06026365343405,
          128.43691148770705,
          129.37853107339333,
          129.3785310733933,
          130.50847457621055,
          123.35216572498602,
          123.16384180784166,
          120.90395480218781,
          125.61205273062856,
          123.72881355925276,
          123.72881355926194,
          118.2674199622924,
          116.38418079091993,
          109.98116760824708,
          109.98116760824708,
          107.15630885118446,
          112.42937853103379,
          117.13747645946985,
          121.2806026364879,
          121.84557438789956,
          122.03389830503473,
          122.59887005644723,
          121.46892655362129,
          121.4689265536212,
          121.46892655362144,
          122.41054613930365,
          121.65725047075799,
          116.19585687377653,
          119.77401129938272,
          120.33898305079833,
          119.96233521653122,
          123.91713747641656,
          123.3521657250064,
          122.78719397359652,
          123.7288135592816,
          124.1054613935588,
          123.72881355928622,
          121.09227871936264,
          120.33898305081338,
          121.0922787193613,
          121.84557438791161,
          123.91713747642092,
          122.59887005645993,
          124.85875706210578,
          123.1638418078684,
          122.22222222217762,
          124.10546139355183,
          124.1054613935473,
          124.48210922782201,
          125.42372881351007,
          124.85875706209646,
          124.85875706210152,
          126.22629001878289,
          125.66357815437665,
          123.1638418078602,
          123.16384180786035,
          125.04708097922916,
          123.91713747640449,
          125.23540489636574,
          125.23540489636567,
          123.91713747640077,
          125.04708097923063,
          124.67043314495305,
          127.68361581914994,
          127.49529190201368,
          132.0150659133046,
          134.27495291895204,
          135.02824858750262,
          137.66478342742596,
          138.04143126170183,
          137.8531073445618,
          136.72316384174303,
          136.723163841743,
          132.95668549899727,
          132.20338983044516,
          133.70998116754444,
          132.58003766472112,
          132.3917137475828,
          134.08662900181895,
          131.4500941618979,
          131.2617702447593,
          128.81355932197314,
          131.45009416189762,
          130.3201506590758,
          130.88512241049267,
          129.56685499053654,
          130.3201506590898,
          133.70998116755803,
          136.15819209034314,
          137.47645951030094,
          137.8531073445762,
          137.0998116760301,
          137.85310734458434,
          140.67796610163975,
          139.92467043308864,
          138.22975517885212,
          141.43126177018374,
          140.11299435022178,
          137.47645951029457,
          137.4764595102947,
          138.79472693025446,
          134.46327683609567,
          136.3465160074655,
          137.66478342742724,
          143.31450094154368,
          147.2693032014181,
          145.9510357814593,
          148.21092278710077,
          149.1525423727894,
          150.65913370988414,
          153.67231638407566,
          149.90583804133092
         ]
        },
        {
         "hovertemplate": "Cartera Óptima MinVol<br>Valor: %{y:.1f}<br>Sharpe: 0.376<extra></extra>",
         "line": {
          "color": "#3498db",
          "dash": "solid",
          "width": 2.5
         },
         "mode": "lines",
         "name": "Cartera Óptima MinVol",
         "type": "scatter",
         "x": [
          "2025-01-06T00:00:00",
          "2025-01-07T00:00:00",
          "2025-01-08T00:00:00",
          "2025-01-09T00:00:00",
          "2025-01-10T00:00:00",
          "2025-01-13T00:00:00",
          "2025-01-14T00:00:00",
          "2025-01-15T00:00:00",
          "2025-01-16T00:00:00",
          "2025-01-17T00:00:00",
          "2025-01-20T00:00:00",
          "2025-01-21T00:00:00",
          "2025-01-22T00:00:00",
          "2025-01-23T00:00:00",
          "2025-01-24T00:00:00",
          "2025-01-27T00:00:00",
          "2025-01-28T00:00:00",
          "2025-01-29T00:00:00",
          "2025-01-30T00:00:00",
          "2025-01-31T00:00:00",
          "2025-02-03T00:00:00",
          "2025-02-04T00:00:00",
          "2025-02-05T00:00:00",
          "2025-02-06T00:00:00",
          "2025-02-07T00:00:00",
          "2025-02-10T00:00:00",
          "2025-02-11T00:00:00",
          "2025-02-12T00:00:00",
          "2025-02-13T00:00:00",
          "2025-02-14T00:00:00",
          "2025-02-17T00:00:00",
          "2025-02-18T00:00:00",
          "2025-02-19T00:00:00",
          "2025-02-20T00:00:00",
          "2025-02-21T00:00:00",
          "2025-02-24T00:00:00",
          "2025-02-25T00:00:00",
          "2025-02-26T00:00:00",
          "2025-02-27T00:00:00",
          "2025-02-28T00:00:00",
          "2025-03-03T00:00:00",
          "2025-03-04T00:00:00",
          "2025-03-05T00:00:00",
          "2025-03-06T00:00:00",
          "2025-03-07T00:00:00",
          "2025-03-10T00:00:00",
          "2025-03-11T00:00:00",
          "2025-03-12T00:00:00",
          "2025-03-13T00:00:00",
          "2025-03-14T00:00:00",
          "2025-03-17T00:00:00",
          "2025-03-18T00:00:00",
          "2025-03-19T00:00:00",
          "2025-03-20T00:00:00",
          "2025-03-21T00:00:00",
          "2025-03-24T00:00:00",
          "2025-03-25T00:00:00",
          "2025-03-26T00:00:00",
          "2025-03-27T00:00:00",
          "2025-03-28T00:00:00",
          "2025-03-31T00:00:00",
          "2025-04-01T00:00:00",
          "2025-04-02T00:00:00",
          "2025-04-03T00:00:00",
          "2025-04-04T00:00:00",
          "2025-04-07T00:00:00",
          "2025-04-08T00:00:00",
          "2025-04-09T00:00:00",
          "2025-04-10T00:00:00",
          "2025-04-11T00:00:00",
          "2025-04-14T00:00:00",
          "2025-04-15T00:00:00",
          "2025-04-16T00:00:00",
          "2025-04-17T00:00:00",
          "2025-04-21T00:00:00",
          "2025-04-22T00:00:00",
          "2025-04-23T00:00:00",
          "2025-04-24T00:00:00",
          "2025-04-25T00:00:00",
          "2025-04-28T00:00:00",
          "2025-04-29T00:00:00",
          "2025-04-30T00:00:00",
          "2025-05-01T00:00:00",
          "2025-05-02T00:00:00",
          "2025-05-05T00:00:00",
          "2025-05-06T00:00:00",
          "2025-05-07T00:00:00",
          "2025-05-08T00:00:00",
          "2025-05-09T00:00:00",
          "2025-05-12T00:00:00",
          "2025-05-13T00:00:00",
          "2025-05-14T00:00:00",
          "2025-05-15T00:00:00",
          "2025-05-16T00:00:00",
          "2025-05-19T00:00:00",
          "2025-05-20T00:00:00",
          "2025-05-21T00:00:00",
          "2025-05-22T00:00:00",
          "2025-05-23T00:00:00",
          "2025-05-26T00:00:00",
          "2025-05-27T00:00:00",
          "2025-05-28T00:00:00",
          "2025-05-29T00:00:00",
          "2025-05-30T00:00:00",
          "2025-06-02T00:00:00",
          "2025-06-03T00:00:00",
          "2025-06-04T00:00:00",
          "2025-06-05T00:00:00",
          "2025-06-06T00:00:00",
          "2025-06-09T00:00:00",
          "2025-06-10T00:00:00",
          "2025-06-11T00:00:00",
          "2025-06-12T00:00:00",
          "2025-06-13T00:00:00",
          "2025-06-16T00:00:00",
          "2025-06-17T00:00:00",
          "2025-06-18T00:00:00",
          "2025-06-19T00:00:00",
          "2025-06-20T00:00:00",
          "2025-06-23T00:00:00",
          "2025-06-24T00:00:00",
          "2025-06-25T00:00:00",
          "2025-06-26T00:00:00",
          "2025-06-27T00:00:00",
          "2025-06-30T00:00:00",
          "2025-07-01T00:00:00",
          "2025-07-02T00:00:00",
          "2025-07-03T00:00:00",
          "2025-07-04T00:00:00",
          "2025-07-07T00:00:00",
          "2025-07-08T00:00:00",
          "2025-07-09T00:00:00",
          "2025-07-10T00:00:00",
          "2025-07-11T00:00:00",
          "2025-07-14T00:00:00",
          "2025-07-15T00:00:00",
          "2025-07-16T00:00:00",
          "2025-07-17T00:00:00",
          "2025-07-18T00:00:00",
          "2025-07-21T00:00:00",
          "2025-07-22T00:00:00",
          "2025-07-23T00:00:00",
          "2025-07-24T00:00:00",
          "2025-07-25T00:00:00",
          "2025-07-28T00:00:00",
          "2025-07-29T00:00:00",
          "2025-07-30T00:00:00",
          "2025-07-31T00:00:00",
          "2025-08-01T00:00:00",
          "2025-08-04T00:00:00",
          "2025-08-05T00:00:00",
          "2025-08-06T00:00:00",
          "2025-08-07T00:00:00",
          "2025-08-08T00:00:00",
          "2025-08-11T00:00:00",
          "2025-08-12T00:00:00",
          "2025-08-13T00:00:00",
          "2025-08-14T00:00:00",
          "2025-08-15T00:00:00",
          "2025-08-18T00:00:00",
          "2025-08-19T00:00:00",
          "2025-08-20T00:00:00",
          "2025-08-21T00:00:00",
          "2025-08-22T00:00:00",
          "2025-08-25T00:00:00",
          "2025-08-26T00:00:00",
          "2025-08-27T00:00:00",
          "2025-08-28T00:00:00",
          "2025-08-29T00:00:00",
          "2025-09-01T00:00:00",
          "2025-09-02T00:00:00"
         ],
         "y": [
          101.08187783480007,
          101.41125137582272,
          100.7386552445809,
          101.96694580517038,
          99.81804395871114,
          99.38504945336706,
          99.78053134172686,
          101.37468907229264,
          101.24162161059043,
          101.98896997999998,
          103.06175765137647,
          102.43585042285315,
          103.51796916762912,
          103.51494107442282,
          102.43181603144558,
          101.90830193233509,
          102.9868010778241,
          103.49845002032987,
          109.27096197102544,
          108.76150024566896,
          109.64302233260011,
          111.00172584532444,
          111.18289360397853,
          109.91781599832848,
          109.06277548998385,
          108.74413179563072,
          109.43004401804137,
          109.42205716748168,
          110.38763029483079,
          112.18436737456065,
          113.4201715798551,
          113.2102589408281,
          113.22174205187876,
          113.41412457567554,
          111.60497617851657,
          111.1319105035076,
          110.23805122458556,
          109.49370290106117,
          108.57434991915869,
          107.89351676144081,
          107.56908304076347,
          108.00714395571396,
          108.82789012637161,
          107.73015760589091,
          109.29403048810312,
          106.98850506292426,
          106.03051243913455,
          106.56183308920582,
          105.90771377580029,
          108.82962904417485,
          111.24887001793682,
          112.09467651897728,
          113.37269441444029,
          111.51252731723673,
          111.66405617399356,
          112.3715609814266,
          113.83408055158199,
          113.3371571075949,
          112.42246194077197,
          111.33995469657476,
          112.46042193526841,
          112.87858169536253,
          112.82381955728479,
          110.49565869025419,
          104.17049255003965,
          104.07566422949925,
          102.20071451678959,
          108.58274411250063,
          106.25841852979447,
          107.48858639090982,
          105.14230249699796,
          104.51517647523802,
          99.71790062229086,
          99.75174260437042,
          96.44255486347116,
          100.1585713514157,
          103.65320380065208,
          103.73195878002758,
          104.73300650712727,
          104.95477568613548,
          105.75308804787443,
          105.87752375515554,
          105.55846459230469,
          106.43369102413985,
          108.28459176699158,
          107.89554584696282,
          105.81994083774147,
          106.7489276870451,
          106.41786252373622,
          108.43268642337141,
          110.60108492593368,
          110.37088413076897,
          111.80629975610996,
          112.62563317637048,
          112.87994056960264,
          112.63264000924951,
          110.48622546063618,
          109.87048789346684,
          109.77499241179105,
          110.06059975730942,
          112.22346029243766,
          111.24697451856692,
          112.07293989988665,
          111.97436294126659,
          112.03339198261268,
          113.10184546145076,
          113.10963416048708,
          113.0384317925341,
          114.16775462241438,
          114.45635687551321,
          115.26038065297242,
          116.08038990066925,
          115.96590584993933,
          114.10357664699131,
          114.74372485041559,
          114.80130447360857,
          114.0795205624158,
          114.66305895530185,
          114.35709625878062,
          115.67977214411252,
          117.31672636799016,
          117.08996383777448,
          118.46626668657427,
          118.36538920752663,
          120.71643082295509,
          121.60444983093706,
          121.7055831672279,
          123.28516785792507,
          123.94567383607384,
          124.41369357476104,
          123.44867941254947,
          123.40852755948129,
          122.75680426301432,
          121.75669013122285,
          123.17125838411948,
          121.8417183145954,
          121.59428110266029,
          122.59558883467645,
          122.91699796456,
          122.38312774222517,
          120.6557750977279,
          121.8422552450579,
          118.88291265374139,
          119.9181664649053,
          120.63438719131914,
          120.88238605587523,
          121.87707270570472,
          122.73171658363373,
          121.9935460662659,
          122.70832465915984,
          121.80038213178894,
          122.43136484337782,
          122.28126305551197,
          121.41661377391671,
          119.66862037442674,
          120.49574518200087,
          120.99897839392835,
          119.26911968023946,
          119.71204098002646,
          119.55551155292842,
          118.4937125668483,
          119.23741402649637,
          119.1869257972188,
          122.01715680663399,
          123.01759053148254,
          123.18529355883558,
          124.06082902719517,
          124.3472011693814,
          124.12420303045464,
          125.8961945551133,
          123.64356907332655
         ]
        },
        {
         "hovertemplate": "Equal Weight (Tus Activos)<br>Valor: %{y:.1f}<br>Sharpe: -1.014<extra></extra>",
         "line": {
          "color": "#f39c12",
          "dash": "solid",
          "width": 2.5
         },
         "mode": "lines",
         "name": "Equal Weight (Tus Activos)",
         "type": "scatter",
         "x": [
          "2025-01-06T00:00:00",
          "2025-01-07T00:00:00",
          "2025-01-08T00:00:00",
          "2025-01-09T00:00:00",
          "2025-01-10T00:00:00",
          "2025-01-13T00:00:00",
          "2025-01-14T00:00:00",
          "2025-01-15T00:00:00",
          "2025-01-16T00:00:00",
          "2025-01-17T00:00:00",
          "2025-01-20T00:00:00",
          "2025-01-21T00:00:00",
          "2025-01-22T00:00:00",
          "2025-01-23T00:00:00",
          "2025-01-24T00:00:00",
          "2025-01-27T00:00:00",
          "2025-01-28T00:00:00",
          "2025-01-29T00:00:00",
          "2025-01-30T00:00:00",
          "2025-01-31T00:00:00",
          "2025-02-03T00:00:00",
          "2025-02-04T00:00:00",
          "2025-02-05T00:00:00",
          "2025-02-06T00:00:00",
          "2025-02-07T00:00:00",
          "2025-02-10T00:00:00",
          "2025-02-11T00:00:00",
          "2025-02-12T00:00:00",
          "2025-02-13T00:00:00",
          "2025-02-14T00:00:00",
          "2025-02-17T00:00:00",
          "2025-02-18T00:00:00",
          "2025-02-19T00:00:00",
          "2025-02-20T00:00:00",
          "2025-02-21T00:00:00",
          "2025-02-24T00:00:00",
          "2025-02-25T00:00:00",
          "2025-02-26T00:00:00",
          "2025-02-27T00:00:00",
          "2025-02-28T00:00:00",
          "2025-03-03T00:00:00",
          "2025-03-04T00:00:00",
          "2025-03-05T00:00:00",
          "2025-03-06T00:00:00",
          "2025-03-07T00:00:00",
          "2025-03-10T00:00:00",
          "2025-03-11T00:00:00",
          "2025-03-12T00:00:00",
          "2025-03-13T00:00:00",
          "2025-03-14T00:00:00",
          "2025-03-17T00:00:00",
          "2025-03-18T00:00:00",
          "2025-03-19T00:00:00",
          "2025-03-20T00:00:00",
          "2025-03-21T00:00:00",
          "2025-03-24T00:00:00",
          "2025-03-25T00:00:00",
          "2025-03-26T00:00:00",
          "2025-03-27T00:00:00",
          "2025-03-28T00:00:00",
          "2025-03-31T00:00:00",
          "2025-04-01T00:00:00",
          "2025-04-02T00:00:00",
          "2025-04-03T00:00:00",
          "2025-04-04T00:00:00",
          "2025-04-07T00:00:00",
          "2025-04-08T00:00:00",
          "2025-04-09T00:00:00",
          "2025-04-10T00:00:00",
          "2025-04-11T00:00:00",
          "2025-04-14T00:00:00",
          "2025-04-15T00:00:00",
          "2025-04-16T00:00:00",
          "2025-04-17T00:00:00",
          "2025-04-21T00:00:00",
          "2025-04-22T00:00:00",
          "2025-04-23T00:00:00",
          "2025-04-24T00:00:00",
          "2025-04-25T00:00:00",
          "2025-04-28T00:00:00",
          "2025-04-29T00:00:00",
          "2025-04-30T00:00:00",
          "2025-05-01T00:00:00",
          "2025-05-02T00:00:00",
          "2025-05-05T00:00:00",
          "2025-05-06T00:00:00",
          "2025-05-07T00:00:00",
          "2025-05-08T00:00:00",
          "2025-05-09T00:00:00",
          "2025-05-12T00:00:00",
          "2025-05-13T00:00:00",
          "2025-05-14T00:00:00",
          "2025-05-15T00:00:00",
          "2025-05-16T00:00:00",
          "2025-05-19T00:00:00",
          "2025-05-20T00:00:00",
          "2025-05-21T00:00:00",
          "2025-05-22T00:00:00",
          "2025-05-23T00:00:00",
          "2025-05-26T00:00:00",
          "2025-05-27T00:00:00",
          "2025-05-28T00:00:00",
          "2025-05-29T00:00:00",
          "2025-05-30T00:00:00",
          "2025-06-02T00:00:00",
          "2025-06-03T00:00:00",
          "2025-06-04T00:00:00",
          "2025-06-05T00:00:00",
          "2025-06-06T00:00:00",
          "2025-06-09T00:00:00",
          "2025-06-10T00:00:00",
          "2025-06-11T00:00:00",
          "2025-06-12T00:00:00",
          "2025-06-13T00:00:00",
          "2025-06-16T00:00:00",
          "2025-06-17T00:00:00",
          "2025-06-18T00:00:00",
          "2025-06-19T00:00:00",
          "2025-06-20T00:00:00",
          "2025-06-23T00:00:00",
          "2025-06-24T00:00:00",
          "2025-06-25T00:00:00",
          "2025-06-26T00:00:00",
          "2025-06-27T00:00:00",
          "2025-06-30T00:00:00",
          "2025-07-01T00:00:00",
          "2025-07-02T00:00:00",
          "2025-07-03T00:00:00",
          "2025-07-04T00:00:00",
          "2025-07-07T00:00:00",
          "2025-07-08T00:00:00",
          "2025-07-09T00:00:00",
          "2025-07-10T00:00:00",
          "2025-07-11T00:00:00",
          "2025-07-14T00:00:00",
          "2025-07-15T00:00:00",
          "2025-07-16T00:00:00",
          "2025-07-17T00:00:00",
          "2025-07-18T00:00:00",
          "2025-07-21T00:00:00",
          "2025-07-22T00:00:00",
          "2025-07-23T00:00:00",
          "2025-07-24T00:00:00",
          "2025-07-25T00:00:00",
          "2025-07-28T00:00:00",
          "2025-07-29T00:00:00",
          "2025-07-30T00:00:00",
          "2025-07-31T00:00:00",
          "2025-08-01T00:00:00",
          "2025-08-04T00:00:00",
          "2025-08-05T00:00:00",
          "2025-08-06T00:00:00",
          "2025-08-07T00:00:00",
          "2025-08-08T00:00:00",
          "2025-08-11T00:00:00",
          "2025-08-12T00:00:00",
          "2025-08-13T00:00:00",
          "2025-08-14T00:00:00",
          "2025-08-15T00:00:00",
          "2025-08-18T00:00:00",
          "2025-08-19T00:00:00",
          "2025-08-20T00:00:00",
          "2025-08-21T00:00:00",
          "2025-08-22T00:00:00",
          "2025-08-25T00:00:00",
          "2025-08-26T00:00:00",
          "2025-08-27T00:00:00",
          "2025-08-28T00:00:00",
          "2025-08-29T00:00:00",
          "2025-09-01T00:00:00",
          "2025-09-02T00:00:00"
         ],
         "y": [
          101.24665744787534,
          100.95319035566577,
          99.94786910464964,
          101.49405754708609,
          99.9128683287216,
          97.77936015635346,
          98.92127225808153,
          98.95810666845759,
          96.35869221928289,
          94.37340095000522,
          96.0673022010491,
          96.45219022047353,
          98.81353112344468,
          97.75578692202775,
          96.20348293495276,
          94.55767748720302,
          95.21544576795921,
          96.9917211450317,
          100.547443608284,
          99.01308186111338,
          98.25656498459173,
          99.95056899997014,
          99.63070450812748,
          98.56796089010747,
          96.77147632027683,
          95.63834348452825,
          94.31474743652655,
          95.83766868216665,
          98.19405808417393,
          100.32157720171975,
          98.30596762977109,
          100.40678699467796,
          100.85138599810766,
          100.77307737666044,
          99.5432679293727,
          98.82790349070204,
          96.95610086485273,
          95.31897996887146,
          93.50205917590564,
          93.34015952399174,
          93.22131112870245,
          93.38206313113872,
          96.69497762319287,
          95.27673506581291,
          96.00668001180959,
          92.02969670209366,
          91.27300546304802,
          93.15562996315325,
          91.46888098586743,
          94.29945739818183,
          95.12880940628503,
          94.30683725728704,
          96.30542621449774,
          95.56228084217936,
          97.11619520619867,
          97.37675163936268,
          98.85228546145686,
          97.73436404014679,
          97.56565150823339,
          95.90025953876294,
          95.71699759907818,
          95.9867876202811,
          95.967069093949,
          92.4635674357317,
          85.81570842265305,
          82.92559236042513,
          79.3706165373084,
          85.92443592005698,
          83.69108781712995,
          87.5024533756688,
          89.86456222837602,
          89.37166668089121,
          84.13289687905183,
          84.14498733426615,
          80.95384887731545,
          85.50789417112892,
          89.27027060246144,
          89.33216053114367,
          89.63569879129292,
          88.83803880286501,
          89.45137498068128,
          88.34988754078489,
          88.23715025048044,
          88.54694423399381,
          87.3414433244292,
          88.47759545944575,
          86.43288985328083,
          86.45127601054858,
          88.14413585712568,
          91.93356905989735,
          94.33422540982204,
          94.89175134372742,
          96.03837996189286,
          95.90210785575329,
          97.09582370711051,
          97.8172643183389,
          95.90345072211464,
          95.60781597800622,
          94.98262736620843,
          95.81451610061232,
          96.5165331963854,
          95.97257976233685,
          96.07148705671543,
          94.98514548795231,
          92.90049586893934,
          94.16137006531,
          92.22547227269523,
          92.30912259868037,
          93.58126171799938,
          92.71590550593997,
          95.02792979559064,
          94.18109273471129,
          94.06550505720746,
          91.79617680621253,
          92.01424885920646,
          90.60243114870698,
          89.81941327326834,
          90.37066038800788,
          90.26855079212264,
          88.90982515526544,
          91.99504877865387,
          90.7011605701629,
          91.85979346406104,
          92.20867366701283,
          92.42096461430384,
          93.39000198320552,
          94.27649207074913,
          95.74002806992114,
          96.49823693797937,
          95.62378013101096,
          96.95246623407546,
          96.93911344000718,
          96.0504149639764,
          94.36608480837094,
          95.57162987050066,
          95.0681763042365,
          94.53487202212875,
          95.47710864238981,
          95.44556004843537,
          94.72322251511928,
          93.14350132248381,
          95.08073982156672,
          94.95604976071928,
          97.44237649145853,
          99.37989384467065,
          101.30617038209839,
          101.00590680221482,
          102.12117602530806,
          100.77056854961393,
          101.20160937977842,
          101.97391088017416,
          104.71762564361187,
          103.74336480924266,
          102.8231571868539,
          101.59505019082779,
          101.60370727397543,
          101.09137796619501,
          97.90701604999839,
          98.06097555703275,
          97.67809855053748,
          95.84655009194921,
          95.24414379537932,
          95.862803999907,
          97.16716905706564,
          95.24243635988329,
          95.78708054133884,
          94.42879091488695,
          95.61741272244136,
          94.68884812816405,
          94.1708150218265,
          92.94103122099227
         ]
        },
        {
         "hovertemplate": "Benchmark Cap-Weighted<br>Valor: %{y:.1f}<br>Sharpe: -0.587<extra></extra>",
         "line": {
          "color": "#1abc9c",
          "dash": "dash",
          "width": 2
         },
         "mode": "lines",
         "name": "Benchmark Cap-Weighted",
         "type": "scatter",
         "x": [
          "2025-01-06T00:00:00",
          "2025-01-07T00:00:00",
          "2025-01-08T00:00:00",
          "2025-01-09T00:00:00",
          "2025-01-10T00:00:00",
          "2025-01-13T00:00:00",
          "2025-01-14T00:00:00",
          "2025-01-15T00:00:00",
          "2025-01-16T00:00:00",
          "2025-01-17T00:00:00",
          "2025-01-20T00:00:00",
          "2025-01-21T00:00:00",
          "2025-01-22T00:00:00",
          "2025-01-23T00:00:00",
          "2025-01-24T00:00:00",
          "2025-01-27T00:00:00",
          "2025-01-28T00:00:00",
          "2025-01-29T00:00:00",
          "2025-01-30T00:00:00",
          "2025-01-31T00:00:00",
          "2025-02-03T00:00:00",
          "2025-02-04T00:00:00",
          "2025-02-05T00:00:00",
          "2025-02-06T00:00:00",
          "2025-02-07T00:00:00",
          "2025-02-10T00:00:00",
          "2025-02-11T00:00:00",
          "2025-02-12T00:00:00",
          "2025-02-13T00:00:00",
          "2025-02-14T00:00:00",
          "2025-02-17T00:00:00",
          "2025-02-18T00:00:00",
          "2025-02-19T00:00:00",
          "2025-02-20T00:00:00",
          "2025-02-21T00:00:00",
          "2025-02-24T00:00:00",
          "2025-02-25T00:00:00",
          "2025-02-26T00:00:00",
          "2025-02-27T00:00:00",
          "2025-02-28T00:00:00",
          "2025-03-03T00:00:00",
          "2025-03-04T00:00:00",
          "2025-03-05T00:00:00",
          "2025-03-06T00:00:00",
          "2025-03-07T00:00:00",
          "2025-03-10T00:00:00",
          "2025-03-11T00:00:00",
          "2025-03-12T00:00:00",
          "2025-03-13T00:00:00",
          "2025-03-14T00:00:00",
          "2025-03-17T00:00:00",
          "2025-03-18T00:00:00",
          "2025-03-19T00:00:00",
          "2025-03-20T00:00:00",
          "2025-03-21T00:00:00",
          "2025-03-24T00:00:00",
          "2025-03-25T00:00:00",
          "2025-03-26T00:00:00",
          "2025-03-27T00:00:00",
          "2025-03-28T00:00:00",
          "2025-03-31T00:00:00",
          "2025-04-01T00:00:00",
          "2025-04-02T00:00:00",
          "2025-04-03T00:00:00",
          "2025-04-04T00:00:00",
          "2025-04-07T00:00:00",
          "2025-04-08T00:00:00",
          "2025-04-09T00:00:00",
          "2025-04-10T00:00:00",
          "2025-04-11T00:00:00",
          "2025-04-14T00:00:00",
          "2025-04-15T00:00:00",
          "2025-04-16T00:00:00",
          "2025-04-17T00:00:00",
          "2025-04-21T00:00:00",
          "2025-04-22T00:00:00",
          "2025-04-23T00:00:00",
          "2025-04-24T00:00:00",
          "2025-04-25T00:00:00",
          "2025-04-28T00:00:00",
          "2025-04-29T00:00:00",
          "2025-04-30T00:00:00",
          "2025-05-01T00:00:00",
          "2025-05-02T00:00:00",
          "2025-05-05T00:00:00",
          "2025-05-06T00:00:00",
          "2025-05-07T00:00:00",
          "2025-05-08T00:00:00",
          "2025-05-09T00:00:00",
          "2025-05-12T00:00:00",
          "2025-05-13T00:00:00",
          "2025-05-14T00:00:00",
          "2025-05-15T00:00:00",
          "2025-05-16T00:00:00",
          "2025-05-19T00:00:00",
          "2025-05-20T00:00:00",
          "2025-05-21T00:00:00",
          "2025-05-22T00:00:00",
          "2025-05-23T00:00:00",
          "2025-05-26T00:00:00",
          "2025-05-27T00:00:00",
          "2025-05-28T00:00:00",
          "2025-05-29T00:00:00",
          "2025-05-30T00:00:00",
          "2025-06-02T00:00:00",
          "2025-06-03T00:00:00",
          "2025-06-04T00:00:00",
          "2025-06-05T00:00:00",
          "2025-06-06T00:00:00",
          "2025-06-09T00:00:00",
          "2025-06-10T00:00:00",
          "2025-06-11T00:00:00",
          "2025-06-12T00:00:00",
          "2025-06-13T00:00:00",
          "2025-06-16T00:00:00",
          "2025-06-17T00:00:00",
          "2025-06-18T00:00:00",
          "2025-06-19T00:00:00",
          "2025-06-20T00:00:00",
          "2025-06-23T00:00:00",
          "2025-06-24T00:00:00",
          "2025-06-25T00:00:00",
          "2025-06-26T00:00:00",
          "2025-06-27T00:00:00",
          "2025-06-30T00:00:00",
          "2025-07-01T00:00:00",
          "2025-07-02T00:00:00",
          "2025-07-03T00:00:00",
          "2025-07-04T00:00:00",
          "2025-07-07T00:00:00",
          "2025-07-08T00:00:00",
          "2025-07-09T00:00:00",
          "2025-07-10T00:00:00",
          "2025-07-11T00:00:00",
          "2025-07-14T00:00:00",
          "2025-07-15T00:00:00",
          "2025-07-16T00:00:00",
          "2025-07-17T00:00:00",
          "2025-07-18T00:00:00",
          "2025-07-21T00:00:00",
          "2025-07-22T00:00:00",
          "2025-07-23T00:00:00",
          "2025-07-24T00:00:00",
          "2025-07-25T00:00:00",
          "2025-07-28T00:00:00",
          "2025-07-29T00:00:00",
          "2025-07-30T00:00:00",
          "2025-07-31T00:00:00",
          "2025-08-01T00:00:00",
          "2025-08-04T00:00:00",
          "2025-08-05T00:00:00",
          "2025-08-06T00:00:00",
          "2025-08-07T00:00:00",
          "2025-08-08T00:00:00",
          "2025-08-11T00:00:00",
          "2025-08-12T00:00:00",
          "2025-08-13T00:00:00",
          "2025-08-14T00:00:00",
          "2025-08-15T00:00:00",
          "2025-08-18T00:00:00",
          "2025-08-19T00:00:00",
          "2025-08-20T00:00:00",
          "2025-08-21T00:00:00",
          "2025-08-22T00:00:00",
          "2025-08-25T00:00:00",
          "2025-08-26T00:00:00",
          "2025-08-27T00:00:00",
          "2025-08-28T00:00:00",
          "2025-08-29T00:00:00",
          "2025-09-01T00:00:00",
          "2025-09-02T00:00:00"
         ],
         "y": [
          101.17665850319537,
          100.66134868542498,
          100.11335336095838,
          101.19582299442106,
          99.30759727180245,
          97.851738766614,
          98.54797546771744,
          99.26312760018426,
          96.94709128777907,
          96.0073074129713,
          97.36045799287338,
          96.38161603456716,
          98.19668027809104,
          97.47853028160914,
          95.91645116000889,
          95.63020435819007,
          97.22174140133546,
          98.1549040841544,
          100.4905426912973,
          99.00708606970056,
          98.24437430556495,
          99.86231651337657,
          99.85119618415443,
          99.27030730982473,
          97.86010777469693,
          96.94342744491634,
          96.78945918838554,
          97.98710317080563,
          100.16461769086095,
          101.73869343007316,
          101.28871719522611,
          102.14669379144769,
          102.69078729321618,
          102.74336667166976,
          101.83283621883623,
          101.44889762876122,
          100.27300230223048,
          98.49890063961256,
          97.40611766534421,
          97.39300969354258,
          97.32356475510278,
          97.41754730403227,
          99.29941612439235,
          98.07151285809536,
          98.44781818353049,
          94.69205159387806,
          93.63080346418315,
          94.31251801976806,
          92.41493411918017,
          95.0916771039695,
          96.32920367863152,
          96.8835242126046,
          98.12863304451592,
          97.55225261226896,
          98.86551289232425,
          99.01405274599725,
          101.2046549715821,
          100.10952874097568,
          100.19572964660837,
          98.52420929781508,
          99.3129033943201,
          99.36130768398033,
          99.34987710252324,
          94.73702462048338,
          88.70047981318397,
          86.67310490028235,
          83.59802408269226,
          91.3068416168045,
          89.1252929141833,
          91.76774774276646,
          91.33632589620545,
          90.51206722559985,
          84.26964949415456,
          84.27643115433888,
          80.50752599039866,
          84.98724189368451,
          88.74828929216342,
          90.12932689830801,
          90.45172663441642,
          89.95109988514014,
          90.35359459706639,
          89.94207524622769,
          89.87780462141174,
          90.05451497192368,
          88.97087317056628,
          89.46312668459552,
          86.59284435880093,
          86.51259809947199,
          87.57112806529018,
          91.45855122389925,
          93.3335631760756,
          93.44738351008162,
          94.2765457736093,
          94.64222462614113,
          94.87143526095947,
          95.00503715471997,
          93.05322248693454,
          92.74277675434391,
          91.68905462619709,
          92.50451009242197,
          93.82360899873665,
          93.47337816397369,
          94.18515166105709,
          94.01262639811708,
          92.68435516571164,
          93.82348007898726,
          92.80901628443813,
          92.42618601242393,
          93.7758426375262,
          93.04075262163788,
          94.30122863910564,
          93.31048152333547,
          93.26426591790107,
          91.51984392612489,
          91.64159665844403,
          90.47742654723343,
          89.77901990893866,
          90.21188835295962,
          90.15480744110658,
          90.57274654823769,
          92.40017589800637,
          92.19007557007336,
          93.08509679812065,
          93.26683489348983,
          94.49892492048882,
          95.99507912884286,
          97.22626809614894,
          98.33067451979407,
          99.13530942158711,
          99.03211708768124,
          99.26794999081592,
          99.26029384192806,
          99.56185551457459,
          98.38910530519848,
          99.758824713118,
          98.84348376600447,
          98.50816960342532,
          99.48161128258958,
          99.9131364841214,
          99.31075506273126,
          97.91367232355466,
          99.2139939021014,
          99.48994523003381,
          101.53070758114492,
          102.89242502757307,
          103.50922692136648,
          103.85920406460755,
          105.83526786703945,
          104.29150728966081,
          104.5527404269069,
          104.47922347106689,
          107.2015764261764,
          107.20481444412849,
          108.04330567601022,
          106.73174182934808,
          107.21990194203741,
          107.25572791183706,
          104.93688055437458,
          105.02928840611942,
          104.29514690299332,
          102.9384378841121,
          102.41516750209023,
          102.902611170389,
          104.71749956572849,
          104.52057057827315,
          104.75523385194687,
          104.28686009194337,
          105.02354109384986,
          104.4283724673842,
          104.99751089088805,
          103.44965396488197
         ]
        }
       ],
       "layout": {
        "annotations": [
         {
          "showarrow": false,
          "text": "Valor Inicial",
          "x": 1,
          "xanchor": "right",
          "xref": "x domain",
          "y": 100,
          "yanchor": "top",
          "yref": "y"
         }
        ],
        "font": {
         "size": 12
        },
        "height": 700,
        "hovermode": "x unified",
        "legend": {
         "orientation": "v",
         "x": 1.02,
         "xanchor": "left",
         "y": 0.99,
         "yanchor": "top"
        },
        "shapes": [
         {
          "line": {
           "color": "gray",
           "dash": "dot"
          },
          "type": "line",
          "x0": 0,
          "x1": 1,
          "xref": "x domain",
          "y0": 100,
          "y1": 100,
          "yref": "y"
         }
        ],
        "template": {
         "data": {
          "bar": [
           {
            "error_x": {
             "color": "#2a3f5f"
            },
            "error_y": {
             "color": "#2a3f5f"
            },
            "marker": {
             "line": {
              "color": "white",
              "width": 0.5
             },
             "pattern": {
              "fillmode": "overlay",
              "size": 10,
              "solidity": 0.2
             }
            },
            "type": "bar"
           }
          ],
          "barpolar": [
           {
            "marker": {
             "line": {
              "color": "white",
              "width": 0.5
             },
             "pattern": {
              "fillmode": "overlay",
              "size": 10,
              "solidity": 0.2
             }
            },
            "type": "barpolar"
           }
          ],
          "carpet": [
           {
            "aaxis": {
             "endlinecolor": "#2a3f5f",
             "gridcolor": "#C8D4E3",
             "linecolor": "#C8D4E3",
             "minorgridcolor": "#C8D4E3",
             "startlinecolor": "#2a3f5f"
            },
            "baxis": {
             "endlinecolor": "#2a3f5f",
             "gridcolor": "#C8D4E3",
             "linecolor": "#C8D4E3",
             "minorgridcolor": "#C8D4E3",
             "startlinecolor": "#2a3f5f"
            },
            "type": "carpet"
           }
          ],
          "choropleth": [
           {
            "colorbar": {
             "outlinewidth": 0,
             "ticks": ""
            },
            "type": "choropleth"
           }
          ],
          "contour": [
           {
            "colorbar": {
             "outlinewidth": 0,
             "ticks": ""
            },
            "colorscale": [
             [
              0,
              "#0d0887"
             ],
             [
              0.1111111111111111,
              "#46039f"
             ],
             [
              0.2222222222222222,
              "#7201a8"
             ],
             [
              0.3333333333333333,
              "#9c179e"
             ],
             [
              0.4444444444444444,
              "#bd3786"
             ],
             [
              0.5555555555555556,
              "#d8576b"
             ],
             [
              0.6666666666666666,
              "#ed7953"
             ],
             [
              0.7777777777777778,
              "#fb9f3a"
             ],
             [
              0.8888888888888888,
              "#fdca26"
             ],
             [
              1,
              "#f0f921"
             ]
            ],
            "type": "contour"
           }
          ],
          "contourcarpet": [
           {
            "colorbar": {
             "outlinewidth": 0,
             "ticks": ""
            },
            "type": "contourcarpet"
           }
          ],
          "heatmap": [
           {
            "colorbar": {
             "outlinewidth": 0,
             "ticks": ""
            },
            "colorscale": [
             [
              0,
              "#0d0887"
             ],
             [
              0.1111111111111111,
              "#46039f"
             ],
             [
              0.2222222222222222,
              "#7201a8"
             ],
             [
              0.3333333333333333,
              "#9c179e"
             ],
             [
              0.4444444444444444,
              "#bd3786"
             ],
             [
              0.5555555555555556,
              "#d8576b"
             ],
             [
              0.6666666666666666,
              "#ed7953"
             ],
             [
              0.7777777777777778,
              "#fb9f3a"
             ],
             [
              0.8888888888888888,
              "#fdca26"
             ],
             [
              1,
              "#f0f921"
             ]
            ],
            "type": "heatmap"
           }
          ],
          "heatmapgl": [
           {
            "colorbar": {
             "outlinewidth": 0,
             "ticks": ""
            },
            "colorscale": [
             [
              0,
              "#0d0887"
             ],
             [
              0.1111111111111111,
              "#46039f"
             ],
             [
              0.2222222222222222,
              "#7201a8"
             ],
             [
              0.3333333333333333,
              "#9c179e"
             ],
             [
              0.4444444444444444,
              "#bd3786"
             ],
             [
              0.5555555555555556,
              "#d8576b"
             ],
             [
              0.6666666666666666,
              "#ed7953"
             ],
             [
              0.7777777777777778,
              "#fb9f3a"
             ],
             [
              0.8888888888888888,
              "#fdca26"
             ],
             [
              1,
              "#f0f921"
             ]
            ],
            "type": "heatmapgl"
           }
          ],
          "histogram": [
           {
            "marker": {
             "pattern": {
              "fillmode": "overlay",
              "size": 10,
              "solidity": 0.2
             }
            },
            "type": "histogram"
           }
          ],
          "histogram2d": [
           {
            "colorbar": {
             "outlinewidth": 0,
             "ticks": ""
            },
            "colorscale": [
             [
              0,
              "#0d0887"
             ],
             [
              0.1111111111111111,
              "#46039f"
             ],
             [
              0.2222222222222222,
              "#7201a8"
             ],
             [
              0.3333333333333333,
              "#9c179e"
             ],
             [
              0.4444444444444444,
              "#bd3786"
             ],
             [
              0.5555555555555556,
              "#d8576b"
             ],
             [
              0.6666666666666666,
              "#ed7953"
             ],
             [
              0.7777777777777778,
              "#fb9f3a"
             ],
             [
              0.8888888888888888,
              "#fdca26"
             ],
             [
              1,
              "#f0f921"
             ]
            ],
            "type": "histogram2d"
           }
          ],
          "histogram2dcontour": [
           {
            "colorbar": {
             "outlinewidth": 0,
             "ticks": ""
            },
            "colorscale": [
             [
              0,
              "#0d0887"
             ],
             [
              0.1111111111111111,
              "#46039f"
             ],
             [
              0.2222222222222222,
              "#7201a8"
             ],
             [
              0.3333333333333333,
              "#9c179e"
             ],
             [
              0.4444444444444444,
              "#bd3786"
             ],
             [
              0.5555555555555556,
              "#d8576b"
             ],
             [
              0.6666666666666666,
              "#ed7953"
             ],
             [
              0.7777777777777778,
              "#fb9f3a"
             ],
             [
              0.8888888888888888,
              "#fdca26"
             ],
             [
              1,
              "#f0f921"
             ]
            ],
            "type": "histogram2dcontour"
           }
          ],
          "mesh3d": [
           {
            "colorbar": {
             "outlinewidth": 0,
             "ticks": ""
            },
            "type": "mesh3d"
           }
          ],
          "parcoords": [
           {
            "line": {
             "colorbar": {
              "outlinewidth": 0,
              "ticks": ""
             }
            },
            "type": "parcoords"
           }
          ],
          "pie": [
           {
            "automargin": true,
            "type": "pie"
           }
          ],
          "scatter": [
           {
            "fillpattern": {
             "fillmode": "overlay",
             "size": 10,
             "solidity": 0.2
            },
            "type": "scatter"
           }
          ],
          "scatter3d": [
           {
            "line": {
             "colorbar": {
              "outlinewidth": 0,
              "ticks": ""
             }
            },
            "marker": {
             "colorbar": {
              "outlinewidth": 0,
              "ticks": ""
             }
            },
            "type": "scatter3d"
           }
          ],
          "scattercarpet": [
           {
            "marker": {
             "colorbar": {
              "outlinewidth": 0,
              "ticks": ""
             }
            },
            "type": "scattercarpet"
           }
          ],
          "scattergeo": [
           {
            "marker": {
             "colorbar": {
              "outlinewidth": 0,
              "ticks": ""
             }
            },
            "type": "scattergeo"
           }
          ],
          "scattergl": [
           {
            "marker": {
             "colorbar": {
              "outlinewidth": 0,
              "ticks": ""
             }
            },
            "type": "scattergl"
           }
          ],
          "scattermapbox": [
           {
            "marker": {
             "colorbar": {
              "outlinewidth": 0,
              "ticks": ""
             }
            },
            "type": "scattermapbox"
           }
          ],
          "scatterpolar": [
           {
            "marker": {
             "colorbar": {
              "outlinewidth": 0,
              "ticks": ""
             }
            },
            "type": "scatterpolar"
           }
          ],
          "scatterpolargl": [
           {
            "marker": {
             "colorbar": {
              "outlinewidth": 0,
              "ticks": ""
             }
            },
            "type": "scatterpolargl"
           }
          ],
          "scatterternary": [
           {
            "marker": {
             "colorbar": {
              "outlinewidth": 0,
              "ticks": ""
             }
            },
            "type": "scatterternary"
           }
          ],
          "surface": [
           {
            "colorbar": {
             "outlinewidth": 0,
             "ticks": ""
            },
            "colorscale": [
             [
              0,
              "#0d0887"
             ],
             [
              0.1111111111111111,
              "#46039f"
             ],
             [
              0.2222222222222222,
              "#7201a8"
             ],
             [
              0.3333333333333333,
              "#9c179e"
             ],
             [
              0.4444444444444444,
              "#bd3786"
             ],
             [
              0.5555555555555556,
              "#d8576b"
             ],
             [
              0.6666666666666666,
              "#ed7953"
             ],
             [
              0.7777777777777778,
              "#fb9f3a"
             ],
             [
              0.8888888888888888,
              "#fdca26"
             ],
             [
              1,
              "#f0f921"
             ]
            ],
            "type": "surface"
           }
          ],
          "table": [
           {
            "cells": {
             "fill": {
              "color": "#EBF0F8"
             },
             "line": {
              "color": "white"
             }
            },
            "header": {
             "fill": {
              "color": "#C8D4E3"
             },
             "line": {
              "color": "white"
             }
            },
            "type": "table"
           }
          ]
         },
         "layout": {
          "annotationdefaults": {
           "arrowcolor": "#2a3f5f",
           "arrowhead": 0,
           "arrowwidth": 1
          },
          "autotypenumbers": "strict",
          "coloraxis": {
           "colorbar": {
            "outlinewidth": 0,
            "ticks": ""
           }
          },
          "colorscale": {
           "diverging": [
            [
             0,
             "#8e0152"
            ],
            [
             0.1,
             "#c51b7d"
            ],
            [
             0.2,
             "#de77ae"
            ],
            [
             0.3,
             "#f1b6da"
            ],
            [
             0.4,
             "#fde0ef"
            ],
            [
             0.5,
             "#f7f7f7"
            ],
            [
             0.6,
             "#e6f5d0"
            ],
            [
             0.7,
             "#b8e186"
            ],
            [
             0.8,
             "#7fbc41"
            ],
            [
             0.9,
             "#4d9221"
            ],
            [
             1,
             "#276419"
            ]
           ],
           "sequential": [
            [
             0,
             "#0d0887"
            ],
            [
             0.1111111111111111,
             "#46039f"
            ],
            [
             0.2222222222222222,
             "#7201a8"
            ],
            [
             0.3333333333333333,
             "#9c179e"
            ],
            [
             0.4444444444444444,
             "#bd3786"
            ],
            [
             0.5555555555555556,
             "#d8576b"
            ],
            [
             0.6666666666666666,
             "#ed7953"
            ],
            [
             0.7777777777777778,
             "#fb9f3a"
            ],
            [
             0.8888888888888888,
             "#fdca26"
            ],
            [
             1,
             "#f0f921"
            ]
           ],
           "sequentialminus": [
            [
             0,
             "#0d0887"
            ],
            [
             0.1111111111111111,
             "#46039f"
            ],
            [
             0.2222222222222222,
             "#7201a8"
            ],
            [
             0.3333333333333333,
             "#9c179e"
            ],
            [
             0.4444444444444444,
             "#bd3786"
            ],
            [
             0.5555555555555556,
             "#d8576b"
            ],
            [
             0.6666666666666666,
             "#ed7953"
            ],
            [
             0.7777777777777778,
             "#fb9f3a"
            ],
            [
             0.8888888888888888,
             "#fdca26"
            ],
            [
             1,
             "#f0f921"
            ]
           ]
          },
          "colorway": [
           "#636efa",
           "#EF553B",
           "#00cc96",
           "#ab63fa",
           "#FFA15A",
           "#19d3f3",
           "#FF6692",
           "#B6E880",
           "#FF97FF",
           "#FECB52"
          ],
          "font": {
           "color": "#2a3f5f"
          },
          "geo": {
           "bgcolor": "white",
           "lakecolor": "white",
           "landcolor": "white",
           "showlakes": true,
           "showland": true,
           "subunitcolor": "#C8D4E3"
          },
          "hoverlabel": {
           "align": "left"
          },
          "hovermode": "closest",
          "mapbox": {
           "style": "light"
          },
          "paper_bgcolor": "white",
          "plot_bgcolor": "white",
          "polar": {
           "angularaxis": {
            "gridcolor": "#EBF0F8",
            "linecolor": "#EBF0F8",
            "ticks": ""
           },
           "bgcolor": "white",
           "radialaxis": {
            "gridcolor": "#EBF0F8",
            "linecolor": "#EBF0F8",
            "ticks": ""
           }
          },
          "scene": {
           "xaxis": {
            "backgroundcolor": "white",
            "gridcolor": "#DFE8F3",
            "gridwidth": 2,
            "linecolor": "#EBF0F8",
            "showbackground": true,
            "ticks": "",
            "zerolinecolor": "#EBF0F8"
           },
           "yaxis": {
            "backgroundcolor": "white",
            "gridcolor": "#DFE8F3",
            "gridwidth": 2,
            "linecolor": "#EBF0F8",
            "showbackground": true,
            "ticks": "",
            "zerolinecolor": "#EBF0F8"
           },
           "zaxis": {
            "backgroundcolor": "white",
            "gridcolor": "#DFE8F3",
            "gridwidth": 2,
            "linecolor": "#EBF0F8",
            "showbackground": true,
            "ticks": "",
            "zerolinecolor": "#EBF0F8"
           }
          },
          "shapedefaults": {
           "line": {
            "color": "#2a3f5f"
           }
          },
          "ternary": {
           "aaxis": {
            "gridcolor": "#DFE8F3",
            "linecolor": "#A2B1C6",
            "ticks": ""
           },
           "baxis": {
            "gridcolor": "#DFE8F3",
            "linecolor": "#A2B1C6",
            "ticks": ""
           },
           "bgcolor": "white",
           "caxis": {
            "gridcolor": "#DFE8F3",
            "linecolor": "#A2B1C6",
            "ticks": ""
           }
          },
          "title": {
           "x": 0.05
          },
          "xaxis": {
           "automargin": true,
           "gridcolor": "#EBF0F8",
           "linecolor": "#EBF0F8",
           "ticks": "",
           "title": {
            "standoff": 15
           },
           "zerolinecolor": "#EBF0F8",
           "zerolinewidth": 2
          },
          "yaxis": {
           "automargin": true,
           "gridcolor": "#EBF0F8",
           "linecolor": "#EBF0F8",
           "ticks": "",
           "title": {
            "standoff": 15
           },
           "zerolinecolor": "#EBF0F8",
           "zerolinewidth": 2
          }
         }
        },
        "title": {
         "font": {
          "size": 16
         },
         "text": "🏆 Tu Cartera vs Benchmarks Específicos (NO Equal Weight Random)"
        },
        "xaxis": {
         "title": {
          "text": "Período"
         }
        },
        "yaxis": {
         "title": {
          "text": "Valor de Cartera (Base 100)"
         }
        }
       }
      }
     },
     "metadata": {},
     "output_type": "display_data"
    },
    {
     "name": "stdout",
     "output_type": "stream",
     "text": [
      "📁 Gráfico guardado como 'backtesting_benchmarks_especificos.png'\n",
      "\n",
      "🎯 ANÁLISIS DETALLADO DE TU CARTERA VS BENCHMARKS ESPECÍFICOS:\n",
      "=================================================================\n",
      "📈 TU CARTERA REAL:\n",
      "   • Rendimiento Anualizado:      36.76%\n",
      "   • Volatilidad Anualizada:      26.05%\n",
      "   • Sharpe Ratio:                0.434\n",
      "   • Máximo Drawdown:            -21.12%\n",
      "   • Valor Final (Base 100):      125.4\n",
      "\n",
      "🏆 RANKING POR SHARPE RATIO:\n",
      "   • Tu posición: 2° de 5\n",
      "   📊 Tu cartera está en la mitad superior\n",
      "\n",
      "📊 VS MEJOR BENCHMARK (Equal Weight (Tus Activos)):\n",
      "   • Diferencia Rendimiento:     +42.77%\n",
      "   • Diferencia Sharpe:          +1.449\n",
      "   • Diferencia Drawdown:         +0.67%\n",
      "   ✅ Tu cartera supera al mejor benchmark\n",
      "\n",
      "🎯 RESUMEN:\n",
      "✅ Benchmarks creados usando EXACTAMENTE TUS activos elegidos\n",
      "📊 NO se usó 'Equal Weight' de todos los activos disponibles\n",
      "🏆 Comparación justa: mismos activos, diferentes asignaciones\n"
     ]
    }
   ],
   "source": [
    "# =============================================================================\n",
    "# 🔄 BACKTESTING CON BENCHMARKS ESPECÍFICOS PARA TU CARTERA\n",
    "# =============================================================================\n",
    "\n",
    "def backtest_estrategia(df, weights_dict, nombre):\n",
    "    \"\"\"Ejecuta backtesting de una estrategia\"\"\"\n",
    "    \n",
    "    # Calcular retornos de cartera\n",
    "    portfolio_returns = []\n",
    "    fechas = []\n",
    "    \n",
    "    for i in range(1, len(df)):\n",
    "        if 'Fecha' in df.columns:\n",
    "            fecha = df.iloc[i]['Fecha']\n",
    "        else:\n",
    "            fecha = df.index[i] if hasattr(df.index[i], 'date') else f\"Día {i}\"\n",
    "        \n",
    "        port_return = 0\n",
    "        valid_weights_sum = 0\n",
    "        \n",
    "        for activo, peso in weights_dict.items():\n",
    "            if activo in df.columns:\n",
    "                if pd.notna(df.iloc[i][activo]) and pd.notna(df.iloc[i-1][activo]):\n",
    "                    ret_activo = (df.iloc[i][activo] / df.iloc[i-1][activo]) - 1\n",
    "                    port_return += peso * ret_activo\n",
    "                    valid_weights_sum += peso\n",
    "        \n",
    "        # Normalizar por pesos válidos\n",
    "        if valid_weights_sum > 0:\n",
    "            port_return = port_return / valid_weights_sum\n",
    "            \n",
    "        portfolio_returns.append(port_return)\n",
    "        fechas.append(fecha)\n",
    "    \n",
    "    # Calcular métricas\n",
    "    port_returns = pd.Series(portfolio_returns)\n",
    "    valor_acumulado = (1 + port_returns).cumprod() * 100\n",
    "    \n",
    "    ret_anual = port_returns.mean() * 252\n",
    "    vol_anual = port_returns.std() * np.sqrt(252)\n",
    "    \n",
    "    # Usar tasa libre de riesgo real\n",
    "    rf_rate = tasa_rf if 'tasa_rf' in globals() else 0.02\n",
    "    sharpe = (ret_anual - rf_rate) / vol_anual if vol_anual > 0 else 0\n",
    "    \n",
    "    # Maximum Drawdown\n",
    "    running_max = valor_acumulado.cummax()\n",
    "    drawdown = (valor_acumulado - running_max) / running_max\n",
    "    max_dd = drawdown.min()\n",
    "    \n",
    "    return {\n",
    "        'nombre': nombre,\n",
    "        'fechas': fechas,\n",
    "        'valores': valor_acumulado.tolist(),\n",
    "        'rendimiento_anual': ret_anual,\n",
    "        'volatilidad_anual': vol_anual,\n",
    "        'sharpe_ratio': sharpe,\n",
    "        'max_drawdown': max_dd\n",
    "    }\n",
    "\n",
    "print(\"🏆 BACKTESTING CON BENCHMARKS ESPECÍFICOS PARA TU CARTERA\")\n",
    "print(\"=\"*70)\n",
    "\n",
    "estrategias = []\n",
    "\n",
    "# 1. CARTERA REAL (TU CARTERA ACTUAL)\n",
    "if 'cartera_real_weights' in globals() and cartera_real_weights:\n",
    "    print(\"✅ Analizando tu cartera real...\")\n",
    "    bt_real = backtest_estrategia(df_data_completo, cartera_real_weights, 'Tu Cartera Real')\n",
    "    estrategias.append(bt_real)\n",
    "\n",
    "# 2. CARTERA OPTIMIZADA MAXIMO SHARPE (si existe)\n",
    "if 'cartera_opt_sharpe' in globals() and cartera_opt_sharpe:\n",
    "    print(\"✅ Analizando cartera óptima Sharpe...\")\n",
    "    bt_opt_sharpe = backtest_estrategia(df_data_completo, cartera_opt_sharpe['weights'], 'Cartera Óptima Sharpe')\n",
    "    estrategias.append(bt_opt_sharpe)\n",
    "\n",
    "# 3. CARTERA OPTIMIZADA MINIMO RIESGO (si existe)\n",
    "if 'cartera_opt_vol' in globals() and cartera_opt_vol:\n",
    "    print(\"✅ Analizando cartera óptima mínimo riesgo...\")\n",
    "    bt_opt_vol = backtest_estrategia(df_data_completo, cartera_opt_vol['weights'], 'Cartera Óptima MinVol')\n",
    "    estrategias.append(bt_opt_vol)\n",
    "\n",
    "# =============================================================================\n",
    "# 🎯 BENCHMARKS ESPECÍFICOS BASADOS EN TU CARTERA (NO RANDOM!)\n",
    "# =============================================================================\n",
    "\n",
    "if 'cartera_real_weights' in globals() and cartera_real_weights:\n",
    "    # Obtener SOLO los activos que TÚ elegiste\n",
    "    activos_en_cartera = [activo for activo, peso in cartera_real_weights.items() if peso > 0.001]\n",
    "    print(f\"\\n🎯 Creando benchmarks específicos para TUS {len(activos_en_cartera)} activos:\")\n",
    "    print(f\"   Activos seleccionados: {activos_en_cartera}\")\n",
    "    \n",
    "    # BENCHMARK 1: Equal Weight SOLO de tus activos elegidos\n",
    "    print(\"📊 Benchmark 1: Equal Weight (solo tus activos)\")\n",
    "    equal_weight_tu_cartera = {activo: 1/len(activos_en_cartera) for activo in activos_en_cartera}\n",
    "    bt_equal_tuyo = backtest_estrategia(df_data_completo, equal_weight_tu_cartera, 'Equal Weight (Tus Activos)')\n",
    "    estrategias.append(bt_equal_tuyo)\n",
    "    \n",
    "    # BENCHMARK 2: Balanceado Argentina vs Internacional\n",
    "    argentinos = []\n",
    "    internacionales = []\n",
    "    \n",
    "    for activo in activos_en_cartera:\n",
    "        activo_upper = activo.upper()\n",
    "        if activo_upper in ['GGAL', 'PAMP', 'TXAR', 'BBAR', 'YPF', 'ALUA', 'MIRG', 'TECO2']:\n",
    "            argentinos.append(activo)\n",
    "        else:\n",
    "            internacionales.append(activo)\n",
    "    \n",
    "    if len(argentinos) > 0 and len(internacionales) > 0:\n",
    "        print(f\"📊 Benchmark 2: Argentina 60% ({len(argentinos)} activos) / Internacional 40% ({len(internacionales)} activos)\")\n",
    "        benchmark_60_40 = {}\n",
    "        # 60% Argentina, 40% Internacional\n",
    "        peso_arg = 0.6 / len(argentinos)\n",
    "        peso_int = 0.4 / len(internacionales)\n",
    "        \n",
    "        for activo in argentinos:\n",
    "            benchmark_60_40[activo] = peso_arg\n",
    "        for activo in internacionales:\n",
    "            benchmark_60_40[activo] = peso_int\n",
    "            \n",
    "        bt_60_40 = backtest_estrategia(df_data_completo, benchmark_60_40, 'Benchmark Argentina 60/40')\n",
    "        estrategias.append(bt_60_40)\n",
    "        \n",
    "        print(f\"   • Argentinos: {argentinos}\")\n",
    "        print(f\"   • Internacionales: {internacionales}\")\n",
    "    \n",
    "    # BENCHMARK 3: Balanceado por capitalización simulada\n",
    "    print(\"📊 Benchmark 3: Cap-Weighted (simulado por tamaño)\")\n",
    "    benchmark_cap_weighted = {}\n",
    "    cap_weights = {}\n",
    "    \n",
    "    for activo in activos_en_cartera:\n",
    "        activo_upper = activo.upper()\n",
    "        # Asignar pesos por capitalización aproximada\n",
    "        if activo_upper in ['AAPL', 'MSFT', 'GOOGL', 'AMZN']:\n",
    "            cap_weights[activo] = 4.0  # Mega caps\n",
    "        elif activo_upper in ['SPY', 'QQQ', 'VTI']:\n",
    "            cap_weights[activo] = 3.5  # ETFs grandes\n",
    "        elif activo_upper in ['GGAL', 'PAMP', 'YPF']:\n",
    "            cap_weights[activo] = 2.5  # Large caps argentinas\n",
    "        elif activo_upper in ['BBAR', 'TXAR']:\n",
    "            cap_weights[activo] = 2.0  # Mid caps argentinas\n",
    "        else:\n",
    "            cap_weights[activo] = 1.0  # Resto\n",
    "    \n",
    "    # Normalizar\n",
    "    total_cap_weight = sum(cap_weights.values())\n",
    "    for activo, peso in cap_weights.items():\n",
    "        benchmark_cap_weighted[activo] = peso / total_cap_weight\n",
    "    \n",
    "    bt_cap = backtest_estrategia(df_data_completo, benchmark_cap_weighted, 'Benchmark Cap-Weighted')\n",
    "    estrategias.append(bt_cap)\n",
    "    \n",
    "    # Mostrar pesos del benchmark cap-weighted\n",
    "    print(\"   • Pesos por capitalización:\")\n",
    "    for activo, peso in sorted(benchmark_cap_weighted.items(), key=lambda x: x[1], reverse=True):\n",
    "        print(f\"     - {activo}: {peso*100:.1f}%\")\n",
    "\n",
    "# =============================================================================\n",
    "# 📊 MOSTRAR RESULTADOS COMPARATIVOS\n",
    "# =============================================================================\n",
    "\n",
    "if estrategias:\n",
    "    print(f\"\\n📊 RESULTADOS BACKTESTING CON BENCHMARKS ESPECÍFICOS:\")\n",
    "    print(\"=\"*70)\n",
    "    \n",
    "    resultados_df = pd.DataFrame([\n",
    "        {\n",
    "            'Estrategia': est['nombre'],\n",
    "            'Rendimiento_Anual_%': f\"{est['rendimiento_anual']*100:.2f}\",\n",
    "            'Volatilidad_Anual_%': f\"{est['volatilidad_anual']*100:.2f}\",\n",
    "            'Sharpe_Ratio': f\"{est['sharpe_ratio']:.3f}\",\n",
    "            'Max_Drawdown_%': f\"{est['max_drawdown']*100:.2f}\",\n",
    "            'Valor_Final': f\"{est['valores'][-1]:.1f}\",\n",
    "            'Tipo': '🎯 TU CARTERA' if 'Tu Cartera Real' in est['nombre'] \n",
    "                   else '🏆 OPTIMIZADA' if 'Óptima' in est['nombre']\n",
    "                   else '📊 BENCHMARK'\n",
    "        }\n",
    "        for est in estrategias\n",
    "    ])\n",
    "    \n",
    "    # Ordenar por Sharpe Ratio\n",
    "    resultados_df = resultados_df.sort_values('Sharpe_Ratio', ascending=False)\n",
    "    \n",
    "    display(resultados_df)\n",
    "    \n",
    "    # =============================================================================\n",
    "    # 📈 GRÁFICO COMPARATIVO MEJORADO\n",
    "    # =============================================================================\n",
    "    \n",
    "    fig = go.Figure()\n",
    "    \n",
    "    # Colores específicos\n",
    "    color_map = {\n",
    "        'Tu Cartera Real': '#e74c3c',  # Rojo brillante para destacar\n",
    "        'Cartera Óptima Sharpe': '#2ecc71',  # Verde\n",
    "        'Cartera Óptima MinVol': '#3498db',   # Azul\n",
    "        'Equal Weight (Tus Activos)': '#f39c12',  # Naranja\n",
    "        'Benchmark Argentina 60/40': '#9b59b6',   # Púrpura\n",
    "        'Benchmark Cap-Weighted': '#1abc9c'       # Turquesa\n",
    "    }\n",
    "    \n",
    "    for est in estrategias:\n",
    "        color = color_map.get(est['nombre'], '#34495e')\n",
    "        \n",
    "        # Tu cartera con línea más gruesa\n",
    "        if 'Tu Cartera Real' in est['nombre']:\n",
    "            width = 4.0\n",
    "            dash = 'solid'\n",
    "        elif 'Benchmark' in est['nombre']:\n",
    "            width = 2.0\n",
    "            dash = 'dash'\n",
    "        else:\n",
    "            width = 2.5\n",
    "            dash = 'solid'\n",
    "        \n",
    "        fig.add_trace(go.Scatter(\n",
    "            x=est['fechas'],\n",
    "            y=est['valores'],\n",
    "            mode='lines',\n",
    "            name=est['nombre'],\n",
    "            line=dict(width=width, color=color, dash=dash),\n",
    "            hovertemplate=f\"{est['nombre']}<br>Valor: %{{y:.1f}}<br>Sharpe: {est['sharpe_ratio']:.3f}<extra></extra>\"\n",
    "        ))\n",
    "    \n",
    "    fig.update_layout(\n",
    "        title='🏆 Tu Cartera vs Benchmarks Específicos (NO Equal Weight Random)',\n",
    "        xaxis_title='Período',\n",
    "        yaxis_title='Valor de Cartera (Base 100)',\n",
    "        template='plotly_white',\n",
    "        height=700,\n",
    "        hovermode='x unified',\n",
    "        font=dict(size=12),\n",
    "        title_font_size=16,\n",
    "        legend=dict(\n",
    "            orientation=\"v\",\n",
    "            yanchor=\"top\",\n",
    "            y=0.99,\n",
    "            xanchor=\"left\", \n",
    "            x=1.02\n",
    "        )\n",
    "    )\n",
    "    \n",
    "    # Línea de referencia\n",
    "    fig.add_hline(y=100, line_dash=\"dot\", line_color=\"gray\", \n",
    "                  annotation_text=\"Valor Inicial\", annotation_position=\"bottom right\")\n",
    "    \n",
    "    fig.show()\n",
    "    \n",
    "    # Guardar gráfico\n",
    "    try:\n",
    "        fig.write_image(\"backtesting_benchmarks_especificos.png\", width=1400, height=700, scale=2)\n",
    "        print(\"📁 Gráfico guardado como 'backtesting_benchmarks_especificos.png'\")\n",
    "    except:\n",
    "        print(\"⚠️ No se pudo guardar el gráfico\")\n",
    "    \n",
    "    # =============================================================================\n",
    "    # 🎯 ANÁLISIS DETALLADO DE TU CARTERA\n",
    "    # =============================================================================\n",
    "    \n",
    "    cartera_real_result = next((est for est in estrategias if 'Tu Cartera Real' in est['nombre']), None)\n",
    "    if cartera_real_result:\n",
    "        print(f\"\\n🎯 ANÁLISIS DETALLADO DE TU CARTERA VS BENCHMARKS ESPECÍFICOS:\")\n",
    "        print(\"=\"*65)\n",
    "        \n",
    "        # Tu cartera\n",
    "        print(f\"📈 TU CARTERA REAL:\")\n",
    "        print(f\"   • Rendimiento Anualizado:    {cartera_real_result['rendimiento_anual']*100:>7.2f}%\")\n",
    "        print(f\"   • Volatilidad Anualizada:    {cartera_real_result['volatilidad_anual']*100:>7.2f}%\")\n",
    "        print(f\"   • Sharpe Ratio:              {cartera_real_result['sharpe_ratio']:>7.3f}\")\n",
    "        print(f\"   • Máximo Drawdown:           {cartera_real_result['max_drawdown']*100:>7.2f}%\")\n",
    "        print(f\"   • Valor Final (Base 100):    {cartera_real_result['valores'][-1]:>7.1f}\")\n",
    "        \n",
    "        # Ranking\n",
    "        ranking = resultados_df.reset_index()\n",
    "        posicion_tu_cartera = ranking[ranking['Estrategia'] == 'Tu Cartera Real'].index[0] + 1\n",
    "        total_estrategias = len(ranking)\n",
    "        \n",
    "        print(f\"\\n🏆 RANKING POR SHARPE RATIO:\")\n",
    "        print(f\"   • Tu posición: {posicion_tu_cartera}° de {total_estrategias}\")\n",
    "        \n",
    "        if posicion_tu_cartera == 1:\n",
    "            print(f\"   🥇 ¡TU CARTERA ES LA MEJOR!\")\n",
    "        elif posicion_tu_cartera <= total_estrategias * 0.3:\n",
    "            print(f\"   ✅ Tu cartera está en el TOP 30%\")\n",
    "        elif posicion_tu_cartera <= total_estrategias * 0.5:\n",
    "            print(f\"   📊 Tu cartera está en la mitad superior\")\n",
    "        else:\n",
    "            print(f\"   ⚠️ Tu cartera tiene potencial de mejora\")\n",
    "        \n",
    "        # Comparación con mejor benchmark\n",
    "        mejor_benchmark = None\n",
    "        for _, row in ranking.iterrows():\n",
    "            if row['Tipo'] == '📊 BENCHMARK':\n",
    "                mejor_benchmark = next((est for est in estrategias if est['nombre'] == row['Estrategia']), None)\n",
    "                break\n",
    "        \n",
    "        if mejor_benchmark:\n",
    "            print(f\"\\n📊 VS MEJOR BENCHMARK ({mejor_benchmark['nombre']}):\")\n",
    "            diff_rend = cartera_real_result['rendimiento_anual'] - mejor_benchmark['rendimiento_anual']\n",
    "            diff_sharpe = cartera_real_result['sharpe_ratio'] - mejor_benchmark['sharpe_ratio']\n",
    "            diff_dd = cartera_real_result['max_drawdown'] - mejor_benchmark['max_drawdown']\n",
    "            \n",
    "            print(f\"   • Diferencia Rendimiento:    {diff_rend*100:>+7.2f}%\")\n",
    "            print(f\"   • Diferencia Sharpe:         {diff_sharpe:>+7.3f}\")\n",
    "            print(f\"   • Diferencia Drawdown:       {diff_dd*100:>+7.2f}%\")\n",
    "            \n",
    "            if diff_sharpe > 0:\n",
    "                print(f\"   ✅ Tu cartera supera al mejor benchmark\")\n",
    "            else:\n",
    "                print(f\"   📊 El benchmark tiene mejor ratio riesgo/retorno\")\n",
    "    \n",
    "    print(f\"\\n🎯 RESUMEN:\")\n",
    "    print(f\"✅ Benchmarks creados usando EXACTAMENTE TUS activos elegidos\")\n",
    "    print(f\"📊 NO se usó 'Equal Weight' de todos los activos disponibles\")\n",
    "    print(f\"🏆 Comparación justa: mismos activos, diferentes asignaciones\")\n",
    "    \n",
    "else:\n",
    "    print(\"❌ No se encontraron carteras para backtesting\")"
   ]
  },
  {
   "cell_type": "markdown",
   "id": "f03163ca",
   "metadata": {},
   "source": [
    "## 6. Análisis de Escenarios y Stress Testing\n",
    "\n",
    "Simulaciones Monte Carlo y análisis de escenarios adversos."
   ]
  },
  {
   "cell_type": "code",
   "execution_count": 43,
   "id": "2a9fb953",
   "metadata": {},
   "outputs": [
    {
     "name": "stdout",
     "output_type": "stream",
     "text": [
      "✅ Librería ARCH ya instalada\n",
      "📊 Librerías ARCH/GARCH listas para usar\n"
     ]
    }
   ],
   "source": [
    "# =============================================================================\n",
    "# 📦 INSTALACIÓN DE LIBRERÍAS PARA MODELADO ARCH/GARCH\n",
    "# =============================================================================\n",
    "\n",
    "try:\n",
    "    from arch import arch_model\n",
    "    print(\"✅ Librería ARCH ya instalada\")\n",
    "except ImportError:\n",
    "    print(\"📦 Instalando librería ARCH...\")\n",
    "    import subprocess\n",
    "    import sys\n",
    "    subprocess.check_call([sys.executable, \"-m\", \"pip\", \"install\", \"arch\"])\n",
    "    from arch import arch_model\n",
    "    print(\"✅ Librería ARCH instalada correctamente\")\n",
    "\n",
    "# Importaciones adicionales para GARCH\n",
    "import warnings\n",
    "warnings.filterwarnings('ignore')\n",
    "\n",
    "print(\"📊 Librerías ARCH/GARCH listas para usar\")"
   ]
  },
  {
   "cell_type": "code",
   "execution_count": 44,
   "id": "a0426711",
   "metadata": {},
   "outputs": [
    {
     "name": "stdout",
     "output_type": "stream",
     "text": [
      "🚀 Iniciando análisis Monte Carlo con GARCH para Argentina...\n",
      "🇦🇷 ANÁLISIS MONTE CARLO CON GARCH - CONTEXTO ARGENTINO\n",
      "===========================================================================\n",
      "🔮 Ejecutando simulación Monte Carlo con GARCH...\n",
      "📊 Calculando retornos y ajustando modelos GARCH por activo...\n",
      "\n",
      "🔮 AJUSTE DE MODELO GARCH PARA CARTERA COMPLETA:\n",
      "   ✅ Modelo GARCH(1,1) ajustado exitosamente\n",
      "   📊 AIC: 604.54, Log-Likelihood: -298.27\n",
      "\n",
      "📈 AJUSTE DE MODELOS GARCH POR ACTIVO:\n",
      "   🔸 SPY (international_etf):\n",
      "   ✅ Modelo GARCH(1,1) ajustado exitosamente\n",
      "   📊 AIC: 608.20, Log-Likelihood: -300.10\n",
      "   🔸 EWZ (international_etf):\n",
      "   ✅ Modelo GARCH(1,1) ajustado exitosamente\n",
      "   📊 AIC: 685.38, Log-Likelihood: -338.69\n",
      "   🔸 AAPL (us_stocks):\n",
      "   ✅ Modelo GARCH(1,1) ajustado exitosamente\n",
      "   📊 AIC: 751.09, Log-Likelihood: -371.55\n",
      "\n",
      "📊 RESUMEN RETORNOS CARTERA:\n",
      "   • Retorno diario promedio: 0.1459%\n",
      "   • Volatilidad diaria: 1.636%\n",
      "   • Equivalente anual: 36.8% retorno, 26.0% volatilidad\n",
      "   📊 Simulando 21 días (1 meses) con GARCH...\n",
      "\n",
      "🔮 AJUSTE DE MODELO GARCH PARA CARTERA COMPLETA:\n",
      "   ✅ Modelo GARCH(1,1) ajustado exitosamente\n",
      "   📊 AIC: 604.54, Log-Likelihood: -298.27\n",
      "\n",
      "📈 AJUSTE DE MODELOS GARCH POR ACTIVO:\n",
      "   🔸 SPY (international_etf):\n",
      "   ✅ Modelo GARCH(1,1) ajustado exitosamente\n",
      "   📊 AIC: 608.20, Log-Likelihood: -300.10\n",
      "   🔸 EWZ (international_etf):\n",
      "   ✅ Modelo GARCH(1,1) ajustado exitosamente\n",
      "   📊 AIC: 685.38, Log-Likelihood: -338.69\n",
      "   🔸 AAPL (us_stocks):\n",
      "   ✅ Modelo GARCH(1,1) ajustado exitosamente\n",
      "   📊 AIC: 751.09, Log-Likelihood: -371.55\n",
      "\n",
      "📊 RESUMEN RETORNOS CARTERA:\n",
      "   • Retorno diario promedio: 0.1459%\n",
      "   • Volatilidad diaria: 1.636%\n",
      "   • Equivalente anual: 36.8% retorno, 26.0% volatilidad\n",
      "   📊 Simulando 21 días (1 meses) con GARCH...\n",
      "   📊 Simulando 63 días (3 meses) con GARCH...\n",
      "   📊 Simulando 63 días (3 meses) con GARCH...\n",
      "   📊 Simulando 126 días (6 meses) con GARCH...\n",
      "   📊 Simulando 126 días (6 meses) con GARCH...\n",
      "   📊 Simulando 252 días (12 meses) con GARCH...\n",
      "   📊 Simulando 252 días (12 meses) con GARCH...\n",
      "\n",
      "📈 COMPOSICIÓN DE TU CARTERA:\n",
      "----------------------------------------\n",
      "\n",
      "📈 COMPOSICIÓN DE TU CARTERA:\n",
      "----------------------------------------\n"
     ]
    },
    {
     "data": {
      "text/html": [
       "<style type=\"text/css\">\n",
       "#T_73f46_row0_col1 {\n",
       "  background-color: #08306b;\n",
       "  color: #f1f1f1;\n",
       "}\n",
       "#T_73f46_row1_col1 {\n",
       "  background-color: #85bcdc;\n",
       "  color: #000000;\n",
       "}\n",
       "#T_73f46_row2_col1 {\n",
       "  background-color: #aacfe5;\n",
       "  color: #000000;\n",
       "}\n",
       "#T_73f46_row3_col1, #T_73f46_row4_col1 {\n",
       "  background-color: #f7fbff;\n",
       "  color: #000000;\n",
       "}\n",
       "</style>\n",
       "<table id=\"T_73f46\">\n",
       "  <thead>\n",
       "    <tr>\n",
       "      <th class=\"blank level0\" >&nbsp;</th>\n",
       "      <th id=\"T_73f46_level0_col0\" class=\"col_heading level0 col0\" >Activo</th>\n",
       "      <th id=\"T_73f46_level0_col1\" class=\"col_heading level0 col1\" >Peso (%)</th>\n",
       "      <th id=\"T_73f46_level0_col2\" class=\"col_heading level0 col2\" >Tipo</th>\n",
       "    </tr>\n",
       "  </thead>\n",
       "  <tbody>\n",
       "    <tr>\n",
       "      <th id=\"T_73f46_level0_row0\" class=\"row_heading level0 row0\" >0</th>\n",
       "      <td id=\"T_73f46_row0_col0\" class=\"data row0 col0\" >SPY</td>\n",
       "      <td id=\"T_73f46_row0_col1\" class=\"data row0 col1\" >52.9%</td>\n",
       "      <td id=\"T_73f46_row0_col2\" class=\"data row0 col2\" >international_etf</td>\n",
       "    </tr>\n",
       "    <tr>\n",
       "      <th id=\"T_73f46_level0_row1\" class=\"row_heading level0 row1\" >1</th>\n",
       "      <td id=\"T_73f46_row1_col0\" class=\"data row1 col0\" >EWZ</td>\n",
       "      <td id=\"T_73f46_row1_col1\" class=\"data row1 col1\" >24.0%</td>\n",
       "      <td id=\"T_73f46_row1_col2\" class=\"data row1 col2\" >international_etf</td>\n",
       "    </tr>\n",
       "    <tr>\n",
       "      <th id=\"T_73f46_level0_row2\" class=\"row_heading level0 row2\" >2</th>\n",
       "      <td id=\"T_73f46_row2_col0\" class=\"data row2 col0\" >AAPL</td>\n",
       "      <td id=\"T_73f46_row2_col1\" class=\"data row2 col1\" >18.9%</td>\n",
       "      <td id=\"T_73f46_row2_col2\" class=\"data row2 col2\" >us_stocks</td>\n",
       "    </tr>\n",
       "    <tr>\n",
       "      <th id=\"T_73f46_level0_row3\" class=\"row_heading level0 row3\" >3</th>\n",
       "      <td id=\"T_73f46_row3_col0\" class=\"data row3 col0\" >METRO</td>\n",
       "      <td id=\"T_73f46_row3_col1\" class=\"data row3 col1\" >1.8%</td>\n",
       "      <td id=\"T_73f46_row3_col2\" class=\"data row3 col2\" >us_stocks</td>\n",
       "    </tr>\n",
       "    <tr>\n",
       "      <th id=\"T_73f46_level0_row4\" class=\"row_heading level0 row4\" >4</th>\n",
       "      <td id=\"T_73f46_row4_col0\" class=\"data row4 col0\" >CEPU</td>\n",
       "      <td id=\"T_73f46_row4_col1\" class=\"data row4 col1\" >1.7%</td>\n",
       "      <td id=\"T_73f46_row4_col2\" class=\"data row4 col2\" >us_stocks</td>\n",
       "    </tr>\n",
       "  </tbody>\n",
       "</table>\n"
      ],
      "text/plain": [
       "<pandas.io.formats.style.Styler at 0x24790b2f050>"
      ]
     },
     "metadata": {},
     "output_type": "display_data"
    },
    {
     "name": "stdout",
     "output_type": "stream",
     "text": [
      "\n",
      "🎯 MODELOS GARCH AJUSTADOS:\n",
      "----------------------------------------\n",
      "✅ GARCH de Cartera Completa:\n",
      "   • Modelo: GARCH(p: 1, q: 1)\n",
      "   • AIC: 604.54\n",
      "   • Log-Likelihood: -298.27\n",
      "   • Parámetros:\n",
      "     - mu: 0.219430\n",
      "     - omega: 0.124473\n",
      "     - alpha[1]: 0.154422\n",
      "     - beta[1]: 0.797034\n",
      "\n",
      "📊 MODELOS GARCH POR ACTIVO PRINCIPAL:\n",
      "   • SPY: GARCH ajustado (AIC: 608.20)\n",
      "   • EWZ: GARCH ajustado (AIC: 685.38)\n",
      "   • AAPL: GARCH ajustado (AIC: 751.09)\n",
      "\n",
      "📊 RESULTADOS SIMULACIÓN MONTE CARLO (CON GARCH):\n",
      "-----------------------------------------------------------------\n"
     ]
    },
    {
     "data": {
      "text/html": [
       "<style type=\"text/css\">\n",
       "#T_17dc4_row0_col1, #T_17dc4_row1_col1, #T_17dc4_row2_col1, #T_17dc4_row3_col1 {\n",
       "  color: green;\n",
       "}\n",
       "#T_17dc4_row0_col3, #T_17dc4_row3_col3 {\n",
       "  color: red;\n",
       "}\n",
       "#T_17dc4_row0_col5, #T_17dc4_row1_col5, #T_17dc4_row2_col5, #T_17dc4_row3_col5 {\n",
       "  background-color: lightgreen;\n",
       "  font-weight: bold;\n",
       "}\n",
       "#T_17dc4_row1_col3, #T_17dc4_row2_col3 {\n",
       "  color: darkred;\n",
       "  font-weight: bold;\n",
       "}\n",
       "</style>\n",
       "<table id=\"T_17dc4\">\n",
       "  <thead>\n",
       "    <tr>\n",
       "      <th class=\"blank level0\" >&nbsp;</th>\n",
       "      <th id=\"T_17dc4_level0_col0\" class=\"col_heading level0 col0\" >Horizonte</th>\n",
       "      <th id=\"T_17dc4_level0_col1\" class=\"col_heading level0 col1\" >Retorno del Período (%)</th>\n",
       "      <th id=\"T_17dc4_level0_col2\" class=\"col_heading level0 col2\" >Volatilidad del Período (%)</th>\n",
       "      <th id=\"T_17dc4_level0_col3\" class=\"col_heading level0 col3\" >VaR 95% del Período (%)</th>\n",
       "      <th id=\"T_17dc4_level0_col4\" class=\"col_heading level0 col4\" >Prob. Pérdida (%)</th>\n",
       "      <th id=\"T_17dc4_level0_col5\" class=\"col_heading level0 col5\" >Modelo</th>\n",
       "    </tr>\n",
       "  </thead>\n",
       "  <tbody>\n",
       "    <tr>\n",
       "      <th id=\"T_17dc4_level0_row0\" class=\"row_heading level0 row0\" >0</th>\n",
       "      <td id=\"T_17dc4_row0_col0\" class=\"data row0 col0\" >1 mes</td>\n",
       "      <td id=\"T_17dc4_row0_col1\" class=\"data row0 col1\" >+3.1</td>\n",
       "      <td id=\"T_17dc4_row0_col2\" class=\"data row0 col2\" >7.4</td>\n",
       "      <td id=\"T_17dc4_row0_col3\" class=\"data row0 col3\" >-8.5</td>\n",
       "      <td id=\"T_17dc4_row0_col4\" class=\"data row0 col4\" >35.2</td>\n",
       "      <td id=\"T_17dc4_row0_col5\" class=\"data row0 col5\" >GARCH</td>\n",
       "    </tr>\n",
       "    <tr>\n",
       "      <th id=\"T_17dc4_level0_row1\" class=\"row_heading level0 row1\" >1</th>\n",
       "      <td id=\"T_17dc4_row1_col0\" class=\"data row1 col0\" >3 meses</td>\n",
       "      <td id=\"T_17dc4_row1_col1\" class=\"data row1 col1\" >+9.5</td>\n",
       "      <td id=\"T_17dc4_row1_col2\" class=\"data row1 col2\" >13.8</td>\n",
       "      <td id=\"T_17dc4_row1_col3\" class=\"data row1 col3\" >-11.9</td>\n",
       "      <td id=\"T_17dc4_row1_col4\" class=\"data row1 col4\" >25.4</td>\n",
       "      <td id=\"T_17dc4_row1_col5\" class=\"data row1 col5\" >GARCH</td>\n",
       "    </tr>\n",
       "    <tr>\n",
       "      <th id=\"T_17dc4_level0_row2\" class=\"row_heading level0 row2\" >2</th>\n",
       "      <td id=\"T_17dc4_row2_col0\" class=\"data row2 col0\" >6 meses</td>\n",
       "      <td id=\"T_17dc4_row2_col1\" class=\"data row2 col1\" >+19.8</td>\n",
       "      <td id=\"T_17dc4_row2_col2\" class=\"data row2 col2\" >21.3</td>\n",
       "      <td id=\"T_17dc4_row2_col3\" class=\"data row2 col3\" >-11.6</td>\n",
       "      <td id=\"T_17dc4_row2_col4\" class=\"data row2 col4\" >17.6</td>\n",
       "      <td id=\"T_17dc4_row2_col5\" class=\"data row2 col5\" >GARCH</td>\n",
       "    </tr>\n",
       "    <tr>\n",
       "      <th id=\"T_17dc4_level0_row3\" class=\"row_heading level0 row3\" >3</th>\n",
       "      <td id=\"T_17dc4_row3_col0\" class=\"data row3 col0\" >12 meses</td>\n",
       "      <td id=\"T_17dc4_row3_col1\" class=\"data row3 col1\" >+44.6</td>\n",
       "      <td id=\"T_17dc4_row3_col2\" class=\"data row3 col2\" >37.1</td>\n",
       "      <td id=\"T_17dc4_row3_col3\" class=\"data row3 col3\" >-7.6</td>\n",
       "      <td id=\"T_17dc4_row3_col4\" class=\"data row3 col4\" >9.0</td>\n",
       "      <td id=\"T_17dc4_row3_col5\" class=\"data row3 col5\" >GARCH</td>\n",
       "    </tr>\n",
       "  </tbody>\n",
       "</table>\n"
      ],
      "text/plain": [
       "<pandas.io.formats.style.Styler at 0x247970f8e30>"
      ]
     },
     "metadata": {},
     "output_type": "display_data"
    },
    {
     "name": "stdout",
     "output_type": "stream",
     "text": [
      "\n",
      "💥 ANÁLISIS DE STRESS TESTING:\n",
      "----------------------------------------\n"
     ]
    },
    {
     "data": {
      "text/html": [
       "<style type=\"text/css\">\n",
       "#T_1cd83_row0_col1 {\n",
       "  background-color: #67000d;\n",
       "  color: #f1f1f1;\n",
       "}\n",
       "#T_1cd83_row0_col3 {\n",
       "  background-color: #ffffcc;\n",
       "  color: #000000;\n",
       "}\n",
       "#T_1cd83_row1_col1 {\n",
       "  background-color: #c2161b;\n",
       "  color: #f1f1f1;\n",
       "}\n",
       "#T_1cd83_row1_col3 {\n",
       "  background-color: #fedd7e;\n",
       "  color: #000000;\n",
       "}\n",
       "#T_1cd83_row2_col1 {\n",
       "  background-color: #f6553c;\n",
       "  color: #f1f1f1;\n",
       "}\n",
       "#T_1cd83_row2_col3 {\n",
       "  background-color: #fd7636;\n",
       "  color: #f1f1f1;\n",
       "}\n",
       "#T_1cd83_row3_col1 {\n",
       "  background-color: #fca082;\n",
       "  color: #000000;\n",
       "}\n",
       "#T_1cd83_row3_col3 {\n",
       "  background-color: #fec45f;\n",
       "  color: #000000;\n",
       "}\n",
       "#T_1cd83_row4_col1 {\n",
       "  background-color: #fcc4ad;\n",
       "  color: #000000;\n",
       "}\n",
       "#T_1cd83_row4_col3 {\n",
       "  background-color: #dc151e;\n",
       "  color: #f1f1f1;\n",
       "}\n",
       "#T_1cd83_row5_col1 {\n",
       "  background-color: #fee3d6;\n",
       "  color: #000000;\n",
       "}\n",
       "#T_1cd83_row5_col3 {\n",
       "  background-color: #fff2ac;\n",
       "  color: #000000;\n",
       "}\n",
       "#T_1cd83_row6_col1 {\n",
       "  background-color: #fff5f0;\n",
       "  color: #000000;\n",
       "}\n",
       "#T_1cd83_row6_col3 {\n",
       "  background-color: #800026;\n",
       "  color: #f1f1f1;\n",
       "}\n",
       "</style>\n",
       "<table id=\"T_1cd83\">\n",
       "  <thead>\n",
       "    <tr>\n",
       "      <th class=\"blank level0\" >&nbsp;</th>\n",
       "      <th id=\"T_1cd83_level0_col0\" class=\"col_heading level0 col0\" >Escenario</th>\n",
       "      <th id=\"T_1cd83_level0_col1\" class=\"col_heading level0 col1\" >Impacto (%)</th>\n",
       "      <th id=\"T_1cd83_level0_col2\" class=\"col_heading level0 col2\" >Duración (días)</th>\n",
       "      <th id=\"T_1cd83_level0_col3\" class=\"col_heading level0 col3\" >Probabilidad (%)</th>\n",
       "      <th id=\"T_1cd83_level0_col4\" class=\"col_heading level0 col4\" >Pérdida Esperada (%)</th>\n",
       "      <th id=\"T_1cd83_level0_col5\" class=\"col_heading level0 col5\" >Severidad</th>\n",
       "    </tr>\n",
       "  </thead>\n",
       "  <tbody>\n",
       "    <tr>\n",
       "      <th id=\"T_1cd83_level0_row0\" class=\"row_heading level0 row0\" >0</th>\n",
       "      <td id=\"T_1cd83_row0_col0\" class=\"data row0 col0\" >Crisis Global + Local</td>\n",
       "      <td id=\"T_1cd83_row0_col1\" class=\"data row0 col1\" >-68.4</td>\n",
       "      <td id=\"T_1cd83_row0_col2\" class=\"data row0 col2\" >200</td>\n",
       "      <td id=\"T_1cd83_row0_col3\" class=\"data row0 col3\" >3.0</td>\n",
       "      <td id=\"T_1cd83_row0_col4\" class=\"data row0 col4\" >-2.05</td>\n",
       "      <td id=\"T_1cd83_row0_col5\" class=\"data row0 col5\" >🔴</td>\n",
       "    </tr>\n",
       "    <tr>\n",
       "      <th id=\"T_1cd83_level0_row1\" class=\"row_heading level0 row1\" >1</th>\n",
       "      <td id=\"T_1cd83_row1_col0\" class=\"data row1 col0\" >Default Soberano</td>\n",
       "      <td id=\"T_1cd83_row1_col1\" class=\"data row1 col1\" >-58.6</td>\n",
       "      <td id=\"T_1cd83_row1_col2\" class=\"data row1 col2\" >365</td>\n",
       "      <td id=\"T_1cd83_row1_col3\" class=\"data row1 col3\" >8.0</td>\n",
       "      <td id=\"T_1cd83_row1_col4\" class=\"data row1 col4\" >-4.69</td>\n",
       "      <td id=\"T_1cd83_row1_col5\" class=\"data row1 col5\" >🔴</td>\n",
       "    </tr>\n",
       "    <tr>\n",
       "      <th id=\"T_1cd83_level0_row2\" class=\"row_heading level0 row2\" >2</th>\n",
       "      <td id=\"T_1cd83_row2_col0\" class=\"data row2 col0\" >Crisis Cambiaria</td>\n",
       "      <td id=\"T_1cd83_row2_col1\" class=\"data row2 col1\" >-48.8</td>\n",
       "      <td id=\"T_1cd83_row2_col2\" class=\"data row2 col2\" >90</td>\n",
       "      <td id=\"T_1cd83_row2_col3\" class=\"data row2 col3\" >15.0</td>\n",
       "      <td id=\"T_1cd83_row2_col4\" class=\"data row2 col4\" >-7.33</td>\n",
       "      <td id=\"T_1cd83_row2_col5\" class=\"data row2 col5\" >🔴</td>\n",
       "    </tr>\n",
       "    <tr>\n",
       "      <th id=\"T_1cd83_level0_row3\" class=\"row_heading level0 row3\" >3</th>\n",
       "      <td id=\"T_1cd83_row3_col0\" class=\"data row3 col0\" >Crisis Política</td>\n",
       "      <td id=\"T_1cd83_row3_col1\" class=\"data row3 col1\" >-39.1</td>\n",
       "      <td id=\"T_1cd83_row3_col2\" class=\"data row3 col2\" >120</td>\n",
       "      <td id=\"T_1cd83_row3_col3\" class=\"data row3 col3\" >10.0</td>\n",
       "      <td id=\"T_1cd83_row3_col4\" class=\"data row3 col4\" >-3.91</td>\n",
       "      <td id=\"T_1cd83_row3_col5\" class=\"data row3 col5\" >🟡</td>\n",
       "    </tr>\n",
       "    <tr>\n",
       "      <th id=\"T_1cd83_level0_row4\" class=\"row_heading level0 row4\" >4</th>\n",
       "      <td id=\"T_1cd83_row4_col0\" class=\"data row4 col0\" >Devaluación Fuerte</td>\n",
       "      <td id=\"T_1cd83_row4_col1\" class=\"data row4 col1\" >-34.2</td>\n",
       "      <td id=\"T_1cd83_row4_col2\" class=\"data row4 col2\" >60</td>\n",
       "      <td id=\"T_1cd83_row4_col3\" class=\"data row4 col3\" >20.0</td>\n",
       "      <td id=\"T_1cd83_row4_col4\" class=\"data row4 col4\" >-6.84</td>\n",
       "      <td id=\"T_1cd83_row4_col5\" class=\"data row4 col5\" >🟡</td>\n",
       "    </tr>\n",
       "    <tr>\n",
       "      <th id=\"T_1cd83_level0_row5\" class=\"row_heading level0 row5\" >5</th>\n",
       "      <td id=\"T_1cd83_row5_col0\" class=\"data row5 col0\" >Hiperinflación</td>\n",
       "      <td id=\"T_1cd83_row5_col1\" class=\"data row5 col1\" >-29.3</td>\n",
       "      <td id=\"T_1cd83_row5_col2\" class=\"data row5 col2\" >252</td>\n",
       "      <td id=\"T_1cd83_row5_col3\" class=\"data row5 col3\" >5.0</td>\n",
       "      <td id=\"T_1cd83_row5_col4\" class=\"data row5 col4\" >-1.47</td>\n",
       "      <td id=\"T_1cd83_row5_col5\" class=\"data row5 col5\" >🟡</td>\n",
       "    </tr>\n",
       "    <tr>\n",
       "      <th id=\"T_1cd83_level0_row6\" class=\"row_heading level0 row6\" >6</th>\n",
       "      <td id=\"T_1cd83_row6_col0\" class=\"data row6 col0\" >Recesión Local</td>\n",
       "      <td id=\"T_1cd83_row6_col1\" class=\"data row6 col1\" >-24.4</td>\n",
       "      <td id=\"T_1cd83_row6_col2\" class=\"data row6 col2\" >180</td>\n",
       "      <td id=\"T_1cd83_row6_col3\" class=\"data row6 col3\" >25.0</td>\n",
       "      <td id=\"T_1cd83_row6_col4\" class=\"data row6 col4\" >-6.11</td>\n",
       "      <td id=\"T_1cd83_row6_col5\" class=\"data row6 col5\" >🟡</td>\n",
       "    </tr>\n",
       "  </tbody>\n",
       "</table>\n"
      ],
      "text/plain": [
       "<pandas.io.formats.style.Styler at 0x247970f9be0>"
      ]
     },
     "metadata": {},
     "output_type": "display_data"
    },
    {
     "name": "stdout",
     "output_type": "stream",
     "text": [
      "\n",
      "📈 INTERPRETACIÓN CON MODELOS GARCH:\n",
      "--------------------------------------------------\n",
      "\n",
      "🔹 1 mes (21 días) 📊 GARCH:\n",
      "   • Retorno esperado del período: +3.1%\n",
      "   • Volatilidad del período: 7.4%\n",
      "   • Probabilidad de pérdida: 35.2%\n",
      "   • VaR 95% (pérdida): 8.5%\n",
      "   ✅ Simulación con volatilidad condicional GARCH\n",
      "   ✅ Retorno esperado razonable para el período\n",
      "   📊 Probabilidad moderada de pérdida\n",
      "\n",
      "🔹 3 meses (63 días) 📊 GARCH:\n",
      "   • Retorno esperado del período: +9.5%\n",
      "   • Volatilidad del período: 13.8%\n",
      "   • Probabilidad de pérdida: 25.4%\n",
      "   • VaR 95% (pérdida): 11.9%\n",
      "   ✅ Simulación con volatilidad condicional GARCH\n",
      "   ✅ Retorno esperado razonable para el período\n",
      "   ✅ Baja probabilidad de pérdida\n",
      "\n",
      "🔹 6 meses (126 días) 📊 GARCH:\n",
      "   • Retorno esperado del período: +19.8%\n",
      "   • Volatilidad del período: 21.3%\n",
      "   • Probabilidad de pérdida: 17.6%\n",
      "   • VaR 95% (pérdida): 11.6%\n",
      "   ✅ Simulación con volatilidad condicional GARCH\n",
      "   ✅ Retorno esperado razonable para el período\n",
      "   ✅ Baja probabilidad de pérdida\n",
      "\n",
      "🔹 12 meses (252 días) 📊 GARCH:\n",
      "   • Retorno esperado del período: +44.6%\n",
      "   • Volatilidad del período: 37.1%\n",
      "   • Probabilidad de pérdida: 9.0%\n",
      "   • VaR 95% (pérdida): 7.6%\n",
      "   ✅ Simulación con volatilidad condicional GARCH\n",
      "   ✅ Retorno esperado razonable para el período\n",
      "   ✅ Baja probabilidad de pérdida\n"
     ]
    },
    {
     "data": {
      "application/vnd.plotly.v1+json": {
       "config": {
        "plotlyServerURL": "https://plot.ly"
       },
       "data": [
        {
         "fill": "tozeroy",
         "fillcolor": "#FF6B6B",
         "line": {
          "color": "#FF6B6B",
          "width": 2
         },
         "name": "1 Meses",
         "opacity": 0.7,
         "type": "scatter",
         "x": [
          -19.02801751727193,
          -18.580518415433723,
          -18.133019313595515,
          -17.685520211757304,
          -17.238021109919092,
          -16.790522008080885,
          -16.343022906242677,
          -15.895523804404469,
          -15.44802470256626,
          -15.000525600728052,
          -14.553026498889842,
          -14.105527397051631,
          -13.658028295213425,
          -13.210529193375214,
          -12.763030091537006,
          -12.315530989698797,
          -11.868031887860589,
          -11.420532786022381,
          -10.973033684184172,
          -10.525534582345962,
          -10.078035480507754,
          -9.630536378669545,
          -9.183037276831335,
          -8.735538174993126,
          -8.288039073154918,
          -7.840539971316709,
          -7.393040869478501,
          -6.945541767640291,
          -6.498042665802081,
          -6.050543563963872,
          -5.6030444621256645,
          -5.155545360287456,
          -4.708046258449247,
          -4.260547156611039,
          -3.81304805477283,
          -3.3655489529346214,
          -2.9180498510964132,
          -2.470550749258202,
          -2.0230516474199933,
          -1.5755525455817847,
          -1.1280534437435763,
          -0.6805543419053678,
          -0.23305524006715927,
          0.21444386177104924,
          0.6619429636092605,
          1.109442065447469,
          1.5569411672856774,
          2.004440269123886,
          2.4519393709620947,
          2.899438472800303,
          3.3469375746385115,
          3.79443667647672,
          4.241935778314929,
          4.68943488015314,
          5.136933981991349,
          5.584433083829557,
          6.031932185667769,
          6.479431287505974,
          6.926930389344185,
          7.374429491182391,
          7.821928593020602,
          8.269427694858807,
          8.716926796697019,
          9.164425898535224,
          9.611925000373436,
          10.059424102211647,
          10.506923204049853,
          10.954422305888064,
          11.40192140772627,
          11.849420509564482,
          12.296919611402688,
          12.744418713240899,
          13.191917815079105,
          13.639416916917316,
          14.086916018755527,
          14.534415120593733,
          14.981914222431945,
          15.42941332427015,
          15.876912426108362,
          16.324411527946566,
          16.771910629784777,
          17.21940973162299,
          17.666908833461196,
          18.114407935299408,
          18.561907037137612,
          19.009406138975823,
          19.45690524081403,
          19.904404342652242,
          20.351903444490453,
          20.799402546328658,
          21.24690164816687,
          21.694400750005073,
          22.141899851843284,
          22.589398953681492,
          23.036898055519703,
          23.484397157357908,
          23.93189625919612,
          24.37939536103433,
          24.826894462872538,
          25.27439356471074
         ],
         "xaxis": "x",
         "y": [
          0.06002176816611762,
          0.07185778329945679,
          0.08571239723550769,
          0.10186342230617103,
          0.12061398866444017,
          0.1422924612754058,
          0.16725183785597847,
          0.1958685468048835,
          0.22854056618356464,
          0.26568478969839576,
          0.30773357372871724,
          0.3551304110088087,
          0.40832469177817055,
          0.4677655321217095,
          0.5338946717515413,
          0.6071384694025074,
          0.687899052922574,
          0.7765447124587544,
          0.873399658112423,
          0.978733297137271,
          1.0927492190958124,
          1.215574109163914,
          1.3472468386697594,
          1.4877080066156187,
          1.6367902249995145,
          1.7942094529292845,
          1.9595576886233528,
          2.1322973234232068,
          2.3117574471489792,
          2.4971323690594494,
          2.687482583228353,
          2.8817383616038184,
          3.0787061030700134,
          3.277077503588292,
          3.4754415424709166,
          3.672299204917358,
          3.8660807833255717,
          4.055165522034604,
          4.237903294683381,
          4.41263793297512,
          4.577731762970532,
          4.731590852599065,
          4.872690434118762,
          4.999599939649738,
          5.111007078074868,
          5.205740388431114,
          5.2827897287051675,
          5.341324199377214,
          5.380707057182967,
          5.400507244842657,
          5.4005072448426565,
          5.380707057182967,
          5.341324199377214,
          5.282789728705167,
          5.205740388431113,
          5.111007078074867,
          4.999599939649737,
          4.872690434118761,
          4.731590852599063,
          4.57773176297053,
          4.412637932975118,
          4.237903294683378,
          4.0551655220346,
          3.86608078332557,
          3.6722992049173553,
          3.4754415424709135,
          3.2770775035882895,
          3.078706103070009,
          2.8817383616038152,
          2.6874825832283498,
          2.4971323690594467,
          2.3117574471489752,
          2.1322973234232054,
          1.95955768862335,
          1.7942094529292816,
          1.636790224999512,
          1.4877080066156159,
          1.3472468386697576,
          1.2155741091639123,
          1.0927492190958117,
          0.9787332971372693,
          0.8733996581124219,
          0.7765447124587537,
          0.6878990529225734,
          0.6071384694025074,
          0.5338946717515406,
          0.4677655321217095,
          0.40832469177817055,
          0.355130411008808,
          0.30773357372871724,
          0.2656847896983954,
          0.22854056618356464,
          0.19586854680488336,
          0.16725183785597847,
          0.1422924612754056,
          0.12061398866444001,
          0.10186342230617103,
          0.08571239723550761,
          0.07185778329945679,
          0.060021768166117685
         ],
         "yaxis": "y"
        },
        {
         "fill": "tozeroy",
         "fillcolor": "#4ECDC4",
         "line": {
          "color": "#4ECDC4",
          "width": 2
         },
         "name": "3 Meses",
         "opacity": 0.7,
         "type": "scatter",
         "x": [
          -31.822417507930357,
          -30.987179926754177,
          -30.151942345577993,
          -29.316704764401813,
          -28.48146718322563,
          -27.64622960204945,
          -26.81099202087327,
          -25.975754439697084,
          -25.140516858520908,
          -24.30527927734472,
          -23.470041696168543,
          -22.63480411499236,
          -21.79956653381618,
          -20.96432895264,
          -20.129091371463815,
          -19.293853790287635,
          -18.458616209111455,
          -17.62337862793527,
          -16.78814104675909,
          -15.95290346558291,
          -15.117665884406728,
          -14.282428303230546,
          -13.447190722054364,
          -12.611953140878182,
          -11.776715559702,
          -10.941477978525821,
          -10.106240397349639,
          -9.271002816173457,
          -8.435765234997275,
          -7.600527653821093,
          -6.765290072644914,
          -5.930052491468729,
          -5.09481491029255,
          -4.259577329116371,
          -3.424339747940186,
          -2.5891021667640066,
          -1.753864585587822,
          -0.9186270044116429,
          -0.08338942323546372,
          0.751848157940721,
          1.5870857391169002,
          2.422323320293085,
          3.2575609014692644,
          4.092798482645444,
          4.928036063821628,
          5.763273644997807,
          6.598511226173992,
          7.433748807350171,
          8.268986388526356,
          9.104223969702534,
          9.939461550878715,
          10.774699132054899,
          11.609936713231079,
          12.445174294407263,
          13.280411875583443,
          14.115649456759622,
          14.950887037935805,
          15.786124619111986,
          16.62136220028817,
          17.456599781464348,
          18.29183736264053,
          19.127074943816712,
          19.962312524992896,
          20.797550106169073,
          21.632787687345257,
          22.46802526852144,
          23.303262849697614,
          24.138500430873798,
          24.973738012049985,
          25.80897559322617,
          26.644213174402342,
          27.479450755578526,
          28.314688336754713,
          29.149925917930886,
          29.98516349910707,
          30.820401080283254,
          31.655638661459427,
          32.490876242635615,
          33.326113823811795,
          34.16135140498798,
          34.996588986164156,
          35.83182656734034,
          36.66706414851652,
          37.5023017296927,
          38.337539310868884,
          39.17277689204507,
          40.008014473221245,
          40.843252054397425,
          41.67848963557361,
          42.5137272167498,
          43.34896479792597,
          44.18420237910215,
          45.01943996027834,
          45.854677541454514,
          46.6899151226307,
          47.52515270380688,
          48.36039028498307,
          49.19562786615924,
          50.03086544733543,
          50.8661030285116
         ],
         "xaxis": "x2",
         "y": [
          0.03215814033086853,
          0.03849957690039414,
          0.04592252748646237,
          0.05457583688701677,
          0.0646219145461029,
          0.07623669007975445,
          0.08960929070737365,
          0.10494139721312638,
          0.12244623614363957,
          0.1423471685681091,
          0.1648758400635413,
          0.19026986278333405,
          0.21877000861453333,
          0.2506169025591087,
          0.2860472175456672,
          0.3252893857654822,
          0.3685588571154983,
          0.41605295211112153,
          0.46794537429783695,
          0.5243804652459614,
          0.5854673030770049,
          0.6512737624935604,
          0.721820669766908,
          0.7970761993497647,
          0.8769506689981424,
          0.961291896809558,
          1.0498812857824908,
          1.14243079883953,
          1.2385809793306506,
          1.3379001586011114,
          1.4398849732155865,
          1.5439622900282344,
          1.649492607848823,
          1.755774970571667,
          1.862053389116929,
          1.9675247293919895,
          2.0713479818950096,
          2.172654786869528,
          2.2705610484832435,
          2.364179433788016,
          2.4526325186431537,
          2.535066314691287,
          2.610663890067259,
          2.678658782801694,
          2.7383479006134257,
          2.7891036044442834,
          2.830384685835893,
          2.8617459699096166,
          2.882846305781811,
          2.8934547439000546,
          2.893454743900054,
          2.8828463057818103,
          2.861745969909616,
          2.830384685835893,
          2.7891036044442825,
          2.7383479006134253,
          2.6786587828016932,
          2.6106638900672587,
          2.5350663146912855,
          2.4526325186431523,
          2.3641794337880153,
          2.270561048483242,
          2.172654786869526,
          2.071347981895008,
          1.9675247293919877,
          1.862053389116927,
          1.7557749705716663,
          1.649492607848822,
          1.5439622900282317,
          1.439884973215584,
          1.33790015860111,
          1.2385809793306488,
          1.1424307988395281,
          1.04988128578249,
          0.961291896809557,
          0.8769506689981406,
          0.7970761993497639,
          0.7218206697669068,
          0.6512737624935594,
          0.5854673030770038,
          0.5243804652459608,
          0.4679453742978361,
          0.41605295211112076,
          0.36855885711549796,
          0.32528938576548166,
          0.2860472175456666,
          0.2506169025591087,
          0.21877000861453283,
          0.19026986278333363,
          0.16487584006354095,
          0.14234716856810897,
          0.1224462361436393,
          0.10494139721312618,
          0.08960929070737365,
          0.07623669007975424,
          0.06462191454610276,
          0.054575836887016616,
          0.045922527486462285,
          0.03849957690039403,
          0.03215814033086853
         ],
         "yaxis": "y2"
        },
        {
         "fill": "tozeroy",
         "fillcolor": "#45B7D1",
         "line": {
          "color": "#45B7D1",
          "width": 2
         },
         "name": "6 Meses",
         "opacity": 0.7,
         "type": "scatter",
         "x": [
          -44.0802842459999,
          -42.78898782371899,
          -41.4976914014381,
          -40.206394979157196,
          -38.9150985568763,
          -37.623802134595394,
          -36.3325057123145,
          -35.0412092900336,
          -33.7499128677527,
          -32.4586164454718,
          -31.167320023190896,
          -29.876023600909996,
          -28.584727178629098,
          -27.2934307563482,
          -26.002134334067296,
          -24.7108379117864,
          -23.419541489505498,
          -22.1282450672246,
          -20.8369486449437,
          -19.5456522226628,
          -18.254355800381898,
          -16.963059378101004,
          -15.671762955820101,
          -14.380466533539199,
          -13.089170111258303,
          -11.7978736889774,
          -10.506577266696503,
          -9.215280844415602,
          -7.9239844221347,
          -6.632687999853804,
          -5.341391577572901,
          -4.050095155292005,
          -2.758798733011103,
          -1.467502310730201,
          -0.17620588844930452,
          1.1150905338315975,
          2.406386956112494,
          3.6976833783933962,
          4.988979800674298,
          6.2802762229552,
          7.571572645236096,
          8.862869067516993,
          10.15416548979789,
          11.445461912078796,
          12.736758334359694,
          14.02805475664059,
          15.319351178921497,
          16.610647601202395,
          17.901944023483292,
          19.193240445764197,
          20.484536868045094,
          21.77583329032599,
          23.06712971260689,
          24.358426134887797,
          25.64972255716869,
          26.941018979449588,
          28.232315401730496,
          29.523611824011393,
          30.814908246292287,
          32.1062046685732,
          33.39750109085409,
          34.688797513134986,
          35.98009393541589,
          37.271390357696795,
          38.56268677997769,
          39.85398320225858,
          41.14527962453949,
          42.43657604682039,
          43.727872469101285,
          45.019168891382186,
          46.31046531366309,
          47.60176173594399,
          48.89305815822488,
          50.18435458050578,
          51.475651002786684,
          52.76694742506758,
          54.0582438473485,
          55.349540269629394,
          56.64083669191029,
          57.93213311419119,
          59.22342953647208,
          60.514725958752976,
          61.80602238103388,
          63.09731880331477,
          64.38861522559567,
          65.6799116478766,
          66.97120807015749,
          68.26250449243838,
          69.55380091471928,
          70.84509733700017,
          72.13639375928108,
          73.42769018156199,
          74.71898660384288,
          76.01028302612379,
          77.30157944840468,
          78.59287587068557,
          79.88417229296647,
          81.17546871524736,
          82.46676513752828,
          83.75806155980918
         ],
         "xaxis": "x3",
         "y": [
          0.020800558943418153,
          0.024902332982377377,
          0.029703652947119925,
          0.03530079477155224,
          0.04179880828688576,
          0.04931148845484884,
          0.05796116672354477,
          0.06787829444978788,
          0.07920079103145948,
          0.09207313108797727,
          0.10664514783198754,
          0.12307053378275788,
          0.1415050252414825,
          0.1621042635010117,
          0.18502133357033926,
          0.2104039901768925,
          0.2383915908281222,
          0.2691117665676527,
          0.30267687248814035,
          0.33918027174151144,
          0.37869251834216355,
          0.421257515069844,
          0.46688873279316956,
          0.5155655860813487,
          0.5672300665799467,
          0.6217837398459231,
          0.6790852127586482,
          0.7389481769015005,
          0.801140128181907,
          0.8653818542696584,
          0.9313477691483149,
          0.998667158290859,
          1.0669263789286194,
          1.1356720379660044,
          1.2044151458266905,
          1.2726362185523057,
          1.3397912735762265,
          1.4053186376140998,
          1.4686464589580157,
          1.5292007920657154,
          1.5864141006192063,
          1.6397340070561777,
          1.688632102729888,
          1.732612623979632,
          1.7712207959867605,
          1.8040506486581545,
          1.8307521170235375,
          1.8510372526441006,
          1.8646853919805095,
          1.8715471520234042,
          1.8715471520234042,
          1.8646853919805095,
          1.8510372526441006,
          1.8307521170235375,
          1.8040506486581551,
          1.7712207959867605,
          1.732612623979632,
          1.6886321027298883,
          1.639734007056178,
          1.5864141006192063,
          1.5292007920657154,
          1.4686464589580162,
          1.4053186376141007,
          1.3397912735762267,
          1.2726362185523057,
          1.2044151458266912,
          1.1356720379660044,
          1.0669263789286196,
          0.9986671582908596,
          0.9313477691483154,
          0.8653818542696589,
          0.8011401281819073,
          0.7389481769015009,
          0.6790852127586489,
          0.6217837398459236,
          0.5672300665799475,
          0.5155655860813484,
          0.46688873279316956,
          0.42125751506984416,
          0.37869251834216355,
          0.33918027174151166,
          0.3026768724881408,
          0.26911176656765307,
          0.23839159082812258,
          0.21040399017689293,
          0.18502133357033926,
          0.16210426350101184,
          0.14150502524148267,
          0.12307053378275801,
          0.10664514783198764,
          0.09207313108797759,
          0.07920079103145948,
          0.06787829444978788,
          0.05796116672354477,
          0.04931148845484884,
          0.041798808286885814,
          0.035300794771552325,
          0.02970365294712,
          0.024902332982377377,
          0.020800558943418153
         ],
         "yaxis": "y3"
        },
        {
         "fill": "tozeroy",
         "fillcolor": "#96CEB4",
         "line": {
          "color": "#96CEB4",
          "width": 2
         },
         "name": "12 Meses",
         "opacity": 0.7,
         "type": "scatter",
         "x": [
          -66.74025794007237,
          -64.49142919117578,
          -62.242600442279205,
          -59.99377169338263,
          -57.744942944486034,
          -55.49611419558945,
          -53.24728544669287,
          -50.99845669779629,
          -48.74962794889971,
          -46.500799200003115,
          -44.25197045110654,
          -42.00314170220996,
          -39.754312953313374,
          -37.50548420441679,
          -35.25665545552021,
          -33.007826706623625,
          -30.75899795772704,
          -28.51016920883046,
          -26.261340459933873,
          -24.012511711037295,
          -21.763682962140706,
          -19.514854213244128,
          -17.266025464347546,
          -15.017196715450964,
          -12.768367966554383,
          -10.519539217657792,
          -8.27071046876121,
          -6.021881719864631,
          -3.7730529709680494,
          -1.5242242220714686,
          0.7246045268251233,
          2.973433275721704,
          5.222262024618285,
          7.471090773514866,
          9.719919522411447,
          11.968748271308039,
          14.217577020204619,
          16.4664057691012,
          18.715234517997782,
          20.96406326689436,
          23.212892015790953,
          25.461720764687534,
          27.710549513584116,
          29.959378262480698,
          32.208207011377276,
          34.457035760273854,
          36.70586450917044,
          38.95469325806702,
          41.2035220069636,
          43.4523507558602,
          45.70117950475678,
          47.950008253653365,
          50.19883700254994,
          52.44766575144653,
          54.69649450034311,
          56.945323249239685,
          59.19415199813627,
          61.44298074703285,
          63.691809495929434,
          65.94063824482603,
          68.18946699372262,
          70.43829574261919,
          72.68712449151577,
          74.93595324041236,
          77.18478198930893,
          79.43361073820552,
          81.6824394871021,
          83.93126823599869,
          86.18009698489526,
          88.42892573379184,
          90.67775448268844,
          92.92658323158503,
          95.17541198048161,
          97.42424072937818,
          99.67306947827477,
          101.92189822717135,
          104.17072697606793,
          106.41955572496451,
          108.6683844738611,
          110.91721322275767,
          113.16604197165428,
          115.41487072055085,
          117.66369946944744,
          119.91252821834402,
          122.1613569672406,
          124.41018571613718,
          126.65901446503376,
          128.90784321393033,
          131.15667196282692,
          133.40550071172353,
          135.6543294606201,
          137.90315820951668,
          140.15198695841323,
          142.40081570730985,
          144.6496444562064,
          146.89847320510302,
          149.14730195399957,
          151.39613070289616,
          153.64495945179277,
          155.89378820068933
         ],
         "xaxis": "x4",
         "y": [
          0.011943856266626744,
          0.014299129492349945,
          0.01705608788490873,
          0.0202700138970315,
          0.02400122802723162,
          0.028315072301675057,
          0.0332817904689558,
          0.03897628879768975,
          0.045477761768619264,
          0.05286916792594467,
          0.06123654276326405,
          0.07066813782056641,
          0.08125337819464962,
          0.09308163442771919,
          0.10624080922224423,
          0.12081574458809159,
          0.13688646078063949,
          0.15452624462089862,
          0.17379961135007788,
          0.19476017087694153,
          0.2174484359112343,
          0.24188961579912974,
          0.26809144562692894,
          0.29604210506676354,
          0.32570828523258333,
          0.35703346423752175,
          0.38993645295995505,
          0.42431027153672457,
          0.4600214141581717,
          0.49690955475089843,
          0.5347877390800038,
          0.5734430997394386,
          0.6126381195649682,
          0.6521124564195971,
          0.6915853283670627,
          0.7307584433399019,
          0.7693194419633032,
          0.8069458067032246,
          0.8433091754890275,
          0.8780799839527421,
          0.910932347956994,
          0.9415490876496878,
          0.9696267863320766,
          0.9948807723315479,
          1.0170499101140813,
          1.0359010882304145,
          1.0512332964240279,
          1.0628811922743315,
          1.0707180689171365,
          1.0746581493693663,
          1.074658149369366,
          1.0707180689171365,
          1.0628811922743315,
          1.0512332964240279,
          1.0359010882304145,
          1.0170499101140813,
          0.9948807723315479,
          0.9696267863320764,
          0.9415490876496878,
          0.9109323479569935,
          0.8780799839527418,
          0.8433091754890272,
          0.8069458067032241,
          0.7693194419633027,
          0.7307584433399016,
          0.6915853283670625,
          0.6521124564195969,
          0.6126381195649678,
          0.5734430997394382,
          0.5347877390800035,
          0.4969095547508982,
          0.4600214141581715,
          0.4243102715367242,
          0.38993645295995466,
          0.35703346423752136,
          0.32570828523258333,
          0.29604210506676354,
          0.26809144562692894,
          0.24188961579912974,
          0.2174484359112343,
          0.1947601708769414,
          0.17379961135007777,
          0.15452624462089848,
          0.13688646078063924,
          0.1208157445880914,
          0.1062408092222441,
          0.09308163442771912,
          0.08125337819464962,
          0.07066813782056641,
          0.061236542763264,
          0.05286916792594467,
          0.045477761768619215,
          0.03897628879768975,
          0.033281790468955776,
          0.028315072301675057,
          0.024001228027231588,
          0.02027001389703153,
          0.01705608788490873,
          0.01429912949234992,
          0.011943856266626744
         ],
         "yaxis": "y4"
        }
       ],
       "layout": {
        "annotations": [
         {
          "font": {
           "size": 16
          },
          "showarrow": false,
          "text": "1 Mes",
          "x": 0.225,
          "xanchor": "center",
          "xref": "paper",
          "y": 1,
          "yanchor": "bottom",
          "yref": "paper"
         },
         {
          "font": {
           "size": 16
          },
          "showarrow": false,
          "text": "3 Meses",
          "x": 0.775,
          "xanchor": "center",
          "xref": "paper",
          "y": 1,
          "yanchor": "bottom",
          "yref": "paper"
         },
         {
          "font": {
           "size": 16
          },
          "showarrow": false,
          "text": "6 Meses",
          "x": 0.225,
          "xanchor": "center",
          "xref": "paper",
          "y": 0.375,
          "yanchor": "bottom",
          "yref": "paper"
         },
         {
          "font": {
           "size": 16
          },
          "showarrow": false,
          "text": "1 Año",
          "x": 0.775,
          "xanchor": "center",
          "xref": "paper",
          "y": 0.375,
          "yanchor": "bottom",
          "yref": "paper"
         }
        ],
        "height": 600,
        "shapes": [
         {
          "line": {
           "color": "red",
           "dash": "dash"
          },
          "type": "line",
          "x0": -8.489224226799474,
          "x1": -8.489224226799474,
          "xref": "x",
          "y0": 0,
          "y1": 1,
          "yref": "y domain"
         },
         {
          "line": {
           "color": "green",
           "dash": "dash"
          },
          "type": "line",
          "x0": 15.634026467500227,
          "x1": 15.634026467500227,
          "xref": "x",
          "y0": 0,
          "y1": 1,
          "yref": "y domain"
         },
         {
          "line": {
           "color": "red",
           "dash": "dash"
          },
          "type": "line",
          "x0": -11.944734907143314,
          "x1": -11.944734907143314,
          "xref": "x2",
          "y0": 0,
          "y1": 1,
          "yref": "y2 domain"
         },
         {
          "line": {
           "color": "green",
           "dash": "dash"
          },
          "type": "line",
          "x0": 33.68241493738908,
          "x1": 33.68241493738908,
          "xref": "x2",
          "y0": 0,
          "y1": 1,
          "yref": "y2 domain"
         },
         {
          "line": {
           "color": "red",
           "dash": "dash"
          },
          "type": "line",
          "x0": -11.624070535496436,
          "x1": -11.624070535496436,
          "xref": "x3",
          "y0": 0,
          "y1": 1,
          "yref": "y3 domain"
         },
         {
          "line": {
           "color": "green",
           "dash": "dash"
          },
          "type": "line",
          "x0": 57.473231515337,
          "x1": 57.473231515337,
          "xref": "x3",
          "y0": 0,
          "y1": 1,
          "yref": "y3 domain"
         },
         {
          "line": {
           "color": "red",
           "dash": "dash"
          },
          "type": "line",
          "x0": -7.637539995575566,
          "x1": -7.637539995575566,
          "xref": "x4",
          "y0": 0,
          "y1": 1,
          "yref": "y4 domain"
         },
         {
          "line": {
           "color": "green",
           "dash": "dash"
          },
          "type": "line",
          "x0": 112.07071027374842,
          "x1": 112.07071027374842,
          "xref": "x4",
          "y0": 0,
          "y1": 1,
          "yref": "y4 domain"
         }
        ],
        "showlegend": false,
        "template": {
         "data": {
          "bar": [
           {
            "error_x": {
             "color": "#2a3f5f"
            },
            "error_y": {
             "color": "#2a3f5f"
            },
            "marker": {
             "line": {
              "color": "white",
              "width": 0.5
             },
             "pattern": {
              "fillmode": "overlay",
              "size": 10,
              "solidity": 0.2
             }
            },
            "type": "bar"
           }
          ],
          "barpolar": [
           {
            "marker": {
             "line": {
              "color": "white",
              "width": 0.5
             },
             "pattern": {
              "fillmode": "overlay",
              "size": 10,
              "solidity": 0.2
             }
            },
            "type": "barpolar"
           }
          ],
          "carpet": [
           {
            "aaxis": {
             "endlinecolor": "#2a3f5f",
             "gridcolor": "#C8D4E3",
             "linecolor": "#C8D4E3",
             "minorgridcolor": "#C8D4E3",
             "startlinecolor": "#2a3f5f"
            },
            "baxis": {
             "endlinecolor": "#2a3f5f",
             "gridcolor": "#C8D4E3",
             "linecolor": "#C8D4E3",
             "minorgridcolor": "#C8D4E3",
             "startlinecolor": "#2a3f5f"
            },
            "type": "carpet"
           }
          ],
          "choropleth": [
           {
            "colorbar": {
             "outlinewidth": 0,
             "ticks": ""
            },
            "type": "choropleth"
           }
          ],
          "contour": [
           {
            "colorbar": {
             "outlinewidth": 0,
             "ticks": ""
            },
            "colorscale": [
             [
              0,
              "#0d0887"
             ],
             [
              0.1111111111111111,
              "#46039f"
             ],
             [
              0.2222222222222222,
              "#7201a8"
             ],
             [
              0.3333333333333333,
              "#9c179e"
             ],
             [
              0.4444444444444444,
              "#bd3786"
             ],
             [
              0.5555555555555556,
              "#d8576b"
             ],
             [
              0.6666666666666666,
              "#ed7953"
             ],
             [
              0.7777777777777778,
              "#fb9f3a"
             ],
             [
              0.8888888888888888,
              "#fdca26"
             ],
             [
              1,
              "#f0f921"
             ]
            ],
            "type": "contour"
           }
          ],
          "contourcarpet": [
           {
            "colorbar": {
             "outlinewidth": 0,
             "ticks": ""
            },
            "type": "contourcarpet"
           }
          ],
          "heatmap": [
           {
            "colorbar": {
             "outlinewidth": 0,
             "ticks": ""
            },
            "colorscale": [
             [
              0,
              "#0d0887"
             ],
             [
              0.1111111111111111,
              "#46039f"
             ],
             [
              0.2222222222222222,
              "#7201a8"
             ],
             [
              0.3333333333333333,
              "#9c179e"
             ],
             [
              0.4444444444444444,
              "#bd3786"
             ],
             [
              0.5555555555555556,
              "#d8576b"
             ],
             [
              0.6666666666666666,
              "#ed7953"
             ],
             [
              0.7777777777777778,
              "#fb9f3a"
             ],
             [
              0.8888888888888888,
              "#fdca26"
             ],
             [
              1,
              "#f0f921"
             ]
            ],
            "type": "heatmap"
           }
          ],
          "heatmapgl": [
           {
            "colorbar": {
             "outlinewidth": 0,
             "ticks": ""
            },
            "colorscale": [
             [
              0,
              "#0d0887"
             ],
             [
              0.1111111111111111,
              "#46039f"
             ],
             [
              0.2222222222222222,
              "#7201a8"
             ],
             [
              0.3333333333333333,
              "#9c179e"
             ],
             [
              0.4444444444444444,
              "#bd3786"
             ],
             [
              0.5555555555555556,
              "#d8576b"
             ],
             [
              0.6666666666666666,
              "#ed7953"
             ],
             [
              0.7777777777777778,
              "#fb9f3a"
             ],
             [
              0.8888888888888888,
              "#fdca26"
             ],
             [
              1,
              "#f0f921"
             ]
            ],
            "type": "heatmapgl"
           }
          ],
          "histogram": [
           {
            "marker": {
             "pattern": {
              "fillmode": "overlay",
              "size": 10,
              "solidity": 0.2
             }
            },
            "type": "histogram"
           }
          ],
          "histogram2d": [
           {
            "colorbar": {
             "outlinewidth": 0,
             "ticks": ""
            },
            "colorscale": [
             [
              0,
              "#0d0887"
             ],
             [
              0.1111111111111111,
              "#46039f"
             ],
             [
              0.2222222222222222,
              "#7201a8"
             ],
             [
              0.3333333333333333,
              "#9c179e"
             ],
             [
              0.4444444444444444,
              "#bd3786"
             ],
             [
              0.5555555555555556,
              "#d8576b"
             ],
             [
              0.6666666666666666,
              "#ed7953"
             ],
             [
              0.7777777777777778,
              "#fb9f3a"
             ],
             [
              0.8888888888888888,
              "#fdca26"
             ],
             [
              1,
              "#f0f921"
             ]
            ],
            "type": "histogram2d"
           }
          ],
          "histogram2dcontour": [
           {
            "colorbar": {
             "outlinewidth": 0,
             "ticks": ""
            },
            "colorscale": [
             [
              0,
              "#0d0887"
             ],
             [
              0.1111111111111111,
              "#46039f"
             ],
             [
              0.2222222222222222,
              "#7201a8"
             ],
             [
              0.3333333333333333,
              "#9c179e"
             ],
             [
              0.4444444444444444,
              "#bd3786"
             ],
             [
              0.5555555555555556,
              "#d8576b"
             ],
             [
              0.6666666666666666,
              "#ed7953"
             ],
             [
              0.7777777777777778,
              "#fb9f3a"
             ],
             [
              0.8888888888888888,
              "#fdca26"
             ],
             [
              1,
              "#f0f921"
             ]
            ],
            "type": "histogram2dcontour"
           }
          ],
          "mesh3d": [
           {
            "colorbar": {
             "outlinewidth": 0,
             "ticks": ""
            },
            "type": "mesh3d"
           }
          ],
          "parcoords": [
           {
            "line": {
             "colorbar": {
              "outlinewidth": 0,
              "ticks": ""
             }
            },
            "type": "parcoords"
           }
          ],
          "pie": [
           {
            "automargin": true,
            "type": "pie"
           }
          ],
          "scatter": [
           {
            "fillpattern": {
             "fillmode": "overlay",
             "size": 10,
             "solidity": 0.2
            },
            "type": "scatter"
           }
          ],
          "scatter3d": [
           {
            "line": {
             "colorbar": {
              "outlinewidth": 0,
              "ticks": ""
             }
            },
            "marker": {
             "colorbar": {
              "outlinewidth": 0,
              "ticks": ""
             }
            },
            "type": "scatter3d"
           }
          ],
          "scattercarpet": [
           {
            "marker": {
             "colorbar": {
              "outlinewidth": 0,
              "ticks": ""
             }
            },
            "type": "scattercarpet"
           }
          ],
          "scattergeo": [
           {
            "marker": {
             "colorbar": {
              "outlinewidth": 0,
              "ticks": ""
             }
            },
            "type": "scattergeo"
           }
          ],
          "scattergl": [
           {
            "marker": {
             "colorbar": {
              "outlinewidth": 0,
              "ticks": ""
             }
            },
            "type": "scattergl"
           }
          ],
          "scattermapbox": [
           {
            "marker": {
             "colorbar": {
              "outlinewidth": 0,
              "ticks": ""
             }
            },
            "type": "scattermapbox"
           }
          ],
          "scatterpolar": [
           {
            "marker": {
             "colorbar": {
              "outlinewidth": 0,
              "ticks": ""
             }
            },
            "type": "scatterpolar"
           }
          ],
          "scatterpolargl": [
           {
            "marker": {
             "colorbar": {
              "outlinewidth": 0,
              "ticks": ""
             }
            },
            "type": "scatterpolargl"
           }
          ],
          "scatterternary": [
           {
            "marker": {
             "colorbar": {
              "outlinewidth": 0,
              "ticks": ""
             }
            },
            "type": "scatterternary"
           }
          ],
          "surface": [
           {
            "colorbar": {
             "outlinewidth": 0,
             "ticks": ""
            },
            "colorscale": [
             [
              0,
              "#0d0887"
             ],
             [
              0.1111111111111111,
              "#46039f"
             ],
             [
              0.2222222222222222,
              "#7201a8"
             ],
             [
              0.3333333333333333,
              "#9c179e"
             ],
             [
              0.4444444444444444,
              "#bd3786"
             ],
             [
              0.5555555555555556,
              "#d8576b"
             ],
             [
              0.6666666666666666,
              "#ed7953"
             ],
             [
              0.7777777777777778,
              "#fb9f3a"
             ],
             [
              0.8888888888888888,
              "#fdca26"
             ],
             [
              1,
              "#f0f921"
             ]
            ],
            "type": "surface"
           }
          ],
          "table": [
           {
            "cells": {
             "fill": {
              "color": "#EBF0F8"
             },
             "line": {
              "color": "white"
             }
            },
            "header": {
             "fill": {
              "color": "#C8D4E3"
             },
             "line": {
              "color": "white"
             }
            },
            "type": "table"
           }
          ]
         },
         "layout": {
          "annotationdefaults": {
           "arrowcolor": "#2a3f5f",
           "arrowhead": 0,
           "arrowwidth": 1
          },
          "autotypenumbers": "strict",
          "coloraxis": {
           "colorbar": {
            "outlinewidth": 0,
            "ticks": ""
           }
          },
          "colorscale": {
           "diverging": [
            [
             0,
             "#8e0152"
            ],
            [
             0.1,
             "#c51b7d"
            ],
            [
             0.2,
             "#de77ae"
            ],
            [
             0.3,
             "#f1b6da"
            ],
            [
             0.4,
             "#fde0ef"
            ],
            [
             0.5,
             "#f7f7f7"
            ],
            [
             0.6,
             "#e6f5d0"
            ],
            [
             0.7,
             "#b8e186"
            ],
            [
             0.8,
             "#7fbc41"
            ],
            [
             0.9,
             "#4d9221"
            ],
            [
             1,
             "#276419"
            ]
           ],
           "sequential": [
            [
             0,
             "#0d0887"
            ],
            [
             0.1111111111111111,
             "#46039f"
            ],
            [
             0.2222222222222222,
             "#7201a8"
            ],
            [
             0.3333333333333333,
             "#9c179e"
            ],
            [
             0.4444444444444444,
             "#bd3786"
            ],
            [
             0.5555555555555556,
             "#d8576b"
            ],
            [
             0.6666666666666666,
             "#ed7953"
            ],
            [
             0.7777777777777778,
             "#fb9f3a"
            ],
            [
             0.8888888888888888,
             "#fdca26"
            ],
            [
             1,
             "#f0f921"
            ]
           ],
           "sequentialminus": [
            [
             0,
             "#0d0887"
            ],
            [
             0.1111111111111111,
             "#46039f"
            ],
            [
             0.2222222222222222,
             "#7201a8"
            ],
            [
             0.3333333333333333,
             "#9c179e"
            ],
            [
             0.4444444444444444,
             "#bd3786"
            ],
            [
             0.5555555555555556,
             "#d8576b"
            ],
            [
             0.6666666666666666,
             "#ed7953"
            ],
            [
             0.7777777777777778,
             "#fb9f3a"
            ],
            [
             0.8888888888888888,
             "#fdca26"
            ],
            [
             1,
             "#f0f921"
            ]
           ]
          },
          "colorway": [
           "#636efa",
           "#EF553B",
           "#00cc96",
           "#ab63fa",
           "#FFA15A",
           "#19d3f3",
           "#FF6692",
           "#B6E880",
           "#FF97FF",
           "#FECB52"
          ],
          "font": {
           "color": "#2a3f5f"
          },
          "geo": {
           "bgcolor": "white",
           "lakecolor": "white",
           "landcolor": "white",
           "showlakes": true,
           "showland": true,
           "subunitcolor": "#C8D4E3"
          },
          "hoverlabel": {
           "align": "left"
          },
          "hovermode": "closest",
          "mapbox": {
           "style": "light"
          },
          "paper_bgcolor": "white",
          "plot_bgcolor": "white",
          "polar": {
           "angularaxis": {
            "gridcolor": "#EBF0F8",
            "linecolor": "#EBF0F8",
            "ticks": ""
           },
           "bgcolor": "white",
           "radialaxis": {
            "gridcolor": "#EBF0F8",
            "linecolor": "#EBF0F8",
            "ticks": ""
           }
          },
          "scene": {
           "xaxis": {
            "backgroundcolor": "white",
            "gridcolor": "#DFE8F3",
            "gridwidth": 2,
            "linecolor": "#EBF0F8",
            "showbackground": true,
            "ticks": "",
            "zerolinecolor": "#EBF0F8"
           },
           "yaxis": {
            "backgroundcolor": "white",
            "gridcolor": "#DFE8F3",
            "gridwidth": 2,
            "linecolor": "#EBF0F8",
            "showbackground": true,
            "ticks": "",
            "zerolinecolor": "#EBF0F8"
           },
           "zaxis": {
            "backgroundcolor": "white",
            "gridcolor": "#DFE8F3",
            "gridwidth": 2,
            "linecolor": "#EBF0F8",
            "showbackground": true,
            "ticks": "",
            "zerolinecolor": "#EBF0F8"
           }
          },
          "shapedefaults": {
           "line": {
            "color": "#2a3f5f"
           }
          },
          "ternary": {
           "aaxis": {
            "gridcolor": "#DFE8F3",
            "linecolor": "#A2B1C6",
            "ticks": ""
           },
           "baxis": {
            "gridcolor": "#DFE8F3",
            "linecolor": "#A2B1C6",
            "ticks": ""
           },
           "bgcolor": "white",
           "caxis": {
            "gridcolor": "#DFE8F3",
            "linecolor": "#A2B1C6",
            "ticks": ""
           }
          },
          "title": {
           "x": 0.05
          },
          "xaxis": {
           "automargin": true,
           "gridcolor": "#EBF0F8",
           "linecolor": "#EBF0F8",
           "ticks": "",
           "title": {
            "standoff": 15
           },
           "zerolinecolor": "#EBF0F8",
           "zerolinewidth": 2
          },
          "yaxis": {
           "automargin": true,
           "gridcolor": "#EBF0F8",
           "linecolor": "#EBF0F8",
           "ticks": "",
           "title": {
            "standoff": 15
           },
           "zerolinecolor": "#EBF0F8",
           "zerolinewidth": 2
          }
         }
        },
        "title": {
         "text": "🇦🇷 Distribución de Retornos por Período - Contexto Argentino"
        },
        "xaxis": {
         "anchor": "y",
         "domain": [
          0,
          0.45
         ],
         "title": {
          "text": "Retorno del Período (%)"
         }
        },
        "xaxis2": {
         "anchor": "y2",
         "domain": [
          0.55,
          1
         ],
         "title": {
          "text": "Retorno del Período (%)"
         }
        },
        "xaxis3": {
         "anchor": "y3",
         "domain": [
          0,
          0.45
         ],
         "title": {
          "text": "Retorno del Período (%)"
         }
        },
        "xaxis4": {
         "anchor": "y4",
         "domain": [
          0.55,
          1
         ],
         "title": {
          "text": "Retorno del Período (%)"
         }
        },
        "yaxis": {
         "anchor": "x",
         "domain": [
          0.625,
          1
         ],
         "title": {
          "text": "Densidad de Probabilidad"
         }
        },
        "yaxis2": {
         "anchor": "x2",
         "domain": [
          0.625,
          1
         ],
         "title": {
          "text": "Densidad de Probabilidad"
         }
        },
        "yaxis3": {
         "anchor": "x3",
         "domain": [
          0,
          0.375
         ],
         "title": {
          "text": "Densidad de Probabilidad"
         }
        },
        "yaxis4": {
         "anchor": "x4",
         "domain": [
          0,
          0.375
         ],
         "title": {
          "text": "Densidad de Probabilidad"
         }
        }
       }
      }
     },
     "metadata": {},
     "output_type": "display_data"
    },
    {
     "data": {
      "application/vnd.plotly.v1+json": {
       "config": {
        "plotlyServerURL": "https://plot.ly"
       },
       "data": [
        {
         "hovertemplate": "%{y}<br>Impacto: %{x:+.1f}%<extra></extra>",
         "marker": {
          "color": [
           "#8B0000",
           "#FF0000",
           "#FF0000",
           "#FF8C00",
           "#FF0000",
           "#8B0000",
           "#8B0000"
          ]
         },
         "orientation": "h",
         "text": [
          "-48.8% (P:15%)",
          "-34.2% (P:20%)",
          "-39.1% (P:10%)",
          "-24.4% (P:25%)",
          "-29.3% (P:5%)",
          "-58.6% (P:8%)",
          "-68.4% (P:3%)"
         ],
         "textposition": "auto",
         "type": "bar",
         "x": [
          -48.84522625184649,
          -34.191658376292544,
          -39.0761810014772,
          -24.422613125923245,
          -29.3071357511079,
          -58.6142715022158,
          -68.38331675258509
         ],
         "y": [
          "Crisis Cambiaria",
          "Devaluación Fuerte",
          "Crisis Política",
          "Recesión Local",
          "Hiperinflación",
          "Default Soberano",
          "Crisis Global + Local"
         ]
        }
       ],
       "layout": {
        "height": 500,
        "shapes": [
         {
          "line": {
           "color": "black",
           "dash": "dash"
          },
          "type": "line",
          "x0": 0,
          "x1": 0,
          "xref": "x",
          "y0": 0,
          "y1": 1,
          "yref": "y domain"
         }
        ],
        "template": {
         "data": {
          "bar": [
           {
            "error_x": {
             "color": "#2a3f5f"
            },
            "error_y": {
             "color": "#2a3f5f"
            },
            "marker": {
             "line": {
              "color": "white",
              "width": 0.5
             },
             "pattern": {
              "fillmode": "overlay",
              "size": 10,
              "solidity": 0.2
             }
            },
            "type": "bar"
           }
          ],
          "barpolar": [
           {
            "marker": {
             "line": {
              "color": "white",
              "width": 0.5
             },
             "pattern": {
              "fillmode": "overlay",
              "size": 10,
              "solidity": 0.2
             }
            },
            "type": "barpolar"
           }
          ],
          "carpet": [
           {
            "aaxis": {
             "endlinecolor": "#2a3f5f",
             "gridcolor": "#C8D4E3",
             "linecolor": "#C8D4E3",
             "minorgridcolor": "#C8D4E3",
             "startlinecolor": "#2a3f5f"
            },
            "baxis": {
             "endlinecolor": "#2a3f5f",
             "gridcolor": "#C8D4E3",
             "linecolor": "#C8D4E3",
             "minorgridcolor": "#C8D4E3",
             "startlinecolor": "#2a3f5f"
            },
            "type": "carpet"
           }
          ],
          "choropleth": [
           {
            "colorbar": {
             "outlinewidth": 0,
             "ticks": ""
            },
            "type": "choropleth"
           }
          ],
          "contour": [
           {
            "colorbar": {
             "outlinewidth": 0,
             "ticks": ""
            },
            "colorscale": [
             [
              0,
              "#0d0887"
             ],
             [
              0.1111111111111111,
              "#46039f"
             ],
             [
              0.2222222222222222,
              "#7201a8"
             ],
             [
              0.3333333333333333,
              "#9c179e"
             ],
             [
              0.4444444444444444,
              "#bd3786"
             ],
             [
              0.5555555555555556,
              "#d8576b"
             ],
             [
              0.6666666666666666,
              "#ed7953"
             ],
             [
              0.7777777777777778,
              "#fb9f3a"
             ],
             [
              0.8888888888888888,
              "#fdca26"
             ],
             [
              1,
              "#f0f921"
             ]
            ],
            "type": "contour"
           }
          ],
          "contourcarpet": [
           {
            "colorbar": {
             "outlinewidth": 0,
             "ticks": ""
            },
            "type": "contourcarpet"
           }
          ],
          "heatmap": [
           {
            "colorbar": {
             "outlinewidth": 0,
             "ticks": ""
            },
            "colorscale": [
             [
              0,
              "#0d0887"
             ],
             [
              0.1111111111111111,
              "#46039f"
             ],
             [
              0.2222222222222222,
              "#7201a8"
             ],
             [
              0.3333333333333333,
              "#9c179e"
             ],
             [
              0.4444444444444444,
              "#bd3786"
             ],
             [
              0.5555555555555556,
              "#d8576b"
             ],
             [
              0.6666666666666666,
              "#ed7953"
             ],
             [
              0.7777777777777778,
              "#fb9f3a"
             ],
             [
              0.8888888888888888,
              "#fdca26"
             ],
             [
              1,
              "#f0f921"
             ]
            ],
            "type": "heatmap"
           }
          ],
          "heatmapgl": [
           {
            "colorbar": {
             "outlinewidth": 0,
             "ticks": ""
            },
            "colorscale": [
             [
              0,
              "#0d0887"
             ],
             [
              0.1111111111111111,
              "#46039f"
             ],
             [
              0.2222222222222222,
              "#7201a8"
             ],
             [
              0.3333333333333333,
              "#9c179e"
             ],
             [
              0.4444444444444444,
              "#bd3786"
             ],
             [
              0.5555555555555556,
              "#d8576b"
             ],
             [
              0.6666666666666666,
              "#ed7953"
             ],
             [
              0.7777777777777778,
              "#fb9f3a"
             ],
             [
              0.8888888888888888,
              "#fdca26"
             ],
             [
              1,
              "#f0f921"
             ]
            ],
            "type": "heatmapgl"
           }
          ],
          "histogram": [
           {
            "marker": {
             "pattern": {
              "fillmode": "overlay",
              "size": 10,
              "solidity": 0.2
             }
            },
            "type": "histogram"
           }
          ],
          "histogram2d": [
           {
            "colorbar": {
             "outlinewidth": 0,
             "ticks": ""
            },
            "colorscale": [
             [
              0,
              "#0d0887"
             ],
             [
              0.1111111111111111,
              "#46039f"
             ],
             [
              0.2222222222222222,
              "#7201a8"
             ],
             [
              0.3333333333333333,
              "#9c179e"
             ],
             [
              0.4444444444444444,
              "#bd3786"
             ],
             [
              0.5555555555555556,
              "#d8576b"
             ],
             [
              0.6666666666666666,
              "#ed7953"
             ],
             [
              0.7777777777777778,
              "#fb9f3a"
             ],
             [
              0.8888888888888888,
              "#fdca26"
             ],
             [
              1,
              "#f0f921"
             ]
            ],
            "type": "histogram2d"
           }
          ],
          "histogram2dcontour": [
           {
            "colorbar": {
             "outlinewidth": 0,
             "ticks": ""
            },
            "colorscale": [
             [
              0,
              "#0d0887"
             ],
             [
              0.1111111111111111,
              "#46039f"
             ],
             [
              0.2222222222222222,
              "#7201a8"
             ],
             [
              0.3333333333333333,
              "#9c179e"
             ],
             [
              0.4444444444444444,
              "#bd3786"
             ],
             [
              0.5555555555555556,
              "#d8576b"
             ],
             [
              0.6666666666666666,
              "#ed7953"
             ],
             [
              0.7777777777777778,
              "#fb9f3a"
             ],
             [
              0.8888888888888888,
              "#fdca26"
             ],
             [
              1,
              "#f0f921"
             ]
            ],
            "type": "histogram2dcontour"
           }
          ],
          "mesh3d": [
           {
            "colorbar": {
             "outlinewidth": 0,
             "ticks": ""
            },
            "type": "mesh3d"
           }
          ],
          "parcoords": [
           {
            "line": {
             "colorbar": {
              "outlinewidth": 0,
              "ticks": ""
             }
            },
            "type": "parcoords"
           }
          ],
          "pie": [
           {
            "automargin": true,
            "type": "pie"
           }
          ],
          "scatter": [
           {
            "fillpattern": {
             "fillmode": "overlay",
             "size": 10,
             "solidity": 0.2
            },
            "type": "scatter"
           }
          ],
          "scatter3d": [
           {
            "line": {
             "colorbar": {
              "outlinewidth": 0,
              "ticks": ""
             }
            },
            "marker": {
             "colorbar": {
              "outlinewidth": 0,
              "ticks": ""
             }
            },
            "type": "scatter3d"
           }
          ],
          "scattercarpet": [
           {
            "marker": {
             "colorbar": {
              "outlinewidth": 0,
              "ticks": ""
             }
            },
            "type": "scattercarpet"
           }
          ],
          "scattergeo": [
           {
            "marker": {
             "colorbar": {
              "outlinewidth": 0,
              "ticks": ""
             }
            },
            "type": "scattergeo"
           }
          ],
          "scattergl": [
           {
            "marker": {
             "colorbar": {
              "outlinewidth": 0,
              "ticks": ""
             }
            },
            "type": "scattergl"
           }
          ],
          "scattermapbox": [
           {
            "marker": {
             "colorbar": {
              "outlinewidth": 0,
              "ticks": ""
             }
            },
            "type": "scattermapbox"
           }
          ],
          "scatterpolar": [
           {
            "marker": {
             "colorbar": {
              "outlinewidth": 0,
              "ticks": ""
             }
            },
            "type": "scatterpolar"
           }
          ],
          "scatterpolargl": [
           {
            "marker": {
             "colorbar": {
              "outlinewidth": 0,
              "ticks": ""
             }
            },
            "type": "scatterpolargl"
           }
          ],
          "scatterternary": [
           {
            "marker": {
             "colorbar": {
              "outlinewidth": 0,
              "ticks": ""
             }
            },
            "type": "scatterternary"
           }
          ],
          "surface": [
           {
            "colorbar": {
             "outlinewidth": 0,
             "ticks": ""
            },
            "colorscale": [
             [
              0,
              "#0d0887"
             ],
             [
              0.1111111111111111,
              "#46039f"
             ],
             [
              0.2222222222222222,
              "#7201a8"
             ],
             [
              0.3333333333333333,
              "#9c179e"
             ],
             [
              0.4444444444444444,
              "#bd3786"
             ],
             [
              0.5555555555555556,
              "#d8576b"
             ],
             [
              0.6666666666666666,
              "#ed7953"
             ],
             [
              0.7777777777777778,
              "#fb9f3a"
             ],
             [
              0.8888888888888888,
              "#fdca26"
             ],
             [
              1,
              "#f0f921"
             ]
            ],
            "type": "surface"
           }
          ],
          "table": [
           {
            "cells": {
             "fill": {
              "color": "#EBF0F8"
             },
             "line": {
              "color": "white"
             }
            },
            "header": {
             "fill": {
              "color": "#C8D4E3"
             },
             "line": {
              "color": "white"
             }
            },
            "type": "table"
           }
          ]
         },
         "layout": {
          "annotationdefaults": {
           "arrowcolor": "#2a3f5f",
           "arrowhead": 0,
           "arrowwidth": 1
          },
          "autotypenumbers": "strict",
          "coloraxis": {
           "colorbar": {
            "outlinewidth": 0,
            "ticks": ""
           }
          },
          "colorscale": {
           "diverging": [
            [
             0,
             "#8e0152"
            ],
            [
             0.1,
             "#c51b7d"
            ],
            [
             0.2,
             "#de77ae"
            ],
            [
             0.3,
             "#f1b6da"
            ],
            [
             0.4,
             "#fde0ef"
            ],
            [
             0.5,
             "#f7f7f7"
            ],
            [
             0.6,
             "#e6f5d0"
            ],
            [
             0.7,
             "#b8e186"
            ],
            [
             0.8,
             "#7fbc41"
            ],
            [
             0.9,
             "#4d9221"
            ],
            [
             1,
             "#276419"
            ]
           ],
           "sequential": [
            [
             0,
             "#0d0887"
            ],
            [
             0.1111111111111111,
             "#46039f"
            ],
            [
             0.2222222222222222,
             "#7201a8"
            ],
            [
             0.3333333333333333,
             "#9c179e"
            ],
            [
             0.4444444444444444,
             "#bd3786"
            ],
            [
             0.5555555555555556,
             "#d8576b"
            ],
            [
             0.6666666666666666,
             "#ed7953"
            ],
            [
             0.7777777777777778,
             "#fb9f3a"
            ],
            [
             0.8888888888888888,
             "#fdca26"
            ],
            [
             1,
             "#f0f921"
            ]
           ],
           "sequentialminus": [
            [
             0,
             "#0d0887"
            ],
            [
             0.1111111111111111,
             "#46039f"
            ],
            [
             0.2222222222222222,
             "#7201a8"
            ],
            [
             0.3333333333333333,
             "#9c179e"
            ],
            [
             0.4444444444444444,
             "#bd3786"
            ],
            [
             0.5555555555555556,
             "#d8576b"
            ],
            [
             0.6666666666666666,
             "#ed7953"
            ],
            [
             0.7777777777777778,
             "#fb9f3a"
            ],
            [
             0.8888888888888888,
             "#fdca26"
            ],
            [
             1,
             "#f0f921"
            ]
           ]
          },
          "colorway": [
           "#636efa",
           "#EF553B",
           "#00cc96",
           "#ab63fa",
           "#FFA15A",
           "#19d3f3",
           "#FF6692",
           "#B6E880",
           "#FF97FF",
           "#FECB52"
          ],
          "font": {
           "color": "#2a3f5f"
          },
          "geo": {
           "bgcolor": "white",
           "lakecolor": "white",
           "landcolor": "white",
           "showlakes": true,
           "showland": true,
           "subunitcolor": "#C8D4E3"
          },
          "hoverlabel": {
           "align": "left"
          },
          "hovermode": "closest",
          "mapbox": {
           "style": "light"
          },
          "paper_bgcolor": "white",
          "plot_bgcolor": "white",
          "polar": {
           "angularaxis": {
            "gridcolor": "#EBF0F8",
            "linecolor": "#EBF0F8",
            "ticks": ""
           },
           "bgcolor": "white",
           "radialaxis": {
            "gridcolor": "#EBF0F8",
            "linecolor": "#EBF0F8",
            "ticks": ""
           }
          },
          "scene": {
           "xaxis": {
            "backgroundcolor": "white",
            "gridcolor": "#DFE8F3",
            "gridwidth": 2,
            "linecolor": "#EBF0F8",
            "showbackground": true,
            "ticks": "",
            "zerolinecolor": "#EBF0F8"
           },
           "yaxis": {
            "backgroundcolor": "white",
            "gridcolor": "#DFE8F3",
            "gridwidth": 2,
            "linecolor": "#EBF0F8",
            "showbackground": true,
            "ticks": "",
            "zerolinecolor": "#EBF0F8"
           },
           "zaxis": {
            "backgroundcolor": "white",
            "gridcolor": "#DFE8F3",
            "gridwidth": 2,
            "linecolor": "#EBF0F8",
            "showbackground": true,
            "ticks": "",
            "zerolinecolor": "#EBF0F8"
           }
          },
          "shapedefaults": {
           "line": {
            "color": "#2a3f5f"
           }
          },
          "ternary": {
           "aaxis": {
            "gridcolor": "#DFE8F3",
            "linecolor": "#A2B1C6",
            "ticks": ""
           },
           "baxis": {
            "gridcolor": "#DFE8F3",
            "linecolor": "#A2B1C6",
            "ticks": ""
           },
           "bgcolor": "white",
           "caxis": {
            "gridcolor": "#DFE8F3",
            "linecolor": "#A2B1C6",
            "ticks": ""
           }
          },
          "title": {
           "x": 0.05
          },
          "xaxis": {
           "automargin": true,
           "gridcolor": "#EBF0F8",
           "linecolor": "#EBF0F8",
           "ticks": "",
           "title": {
            "standoff": 15
           },
           "zerolinecolor": "#EBF0F8",
           "zerolinewidth": 2
          },
          "yaxis": {
           "automargin": true,
           "gridcolor": "#EBF0F8",
           "linecolor": "#EBF0F8",
           "ticks": "",
           "title": {
            "standoff": 15
           },
           "zerolinecolor": "#EBF0F8",
           "zerolinewidth": 2
          }
         }
        },
        "title": {
         "text": "💥 Stress Testing - Escenarios Argentinos"
        },
        "xaxis": {
         "title": {
          "text": "Impacto en Cartera (%)"
         }
        },
        "yaxis": {
         "title": {
          "text": "Escenario"
         }
        }
       }
      }
     },
     "metadata": {},
     "output_type": "display_data"
    },
    {
     "name": "stdout",
     "output_type": "stream",
     "text": [
      "📁 Gráficos guardados exitosamente\n",
      "\n",
      "🎯 RESUMEN FINAL CON GARCH:\n",
      "--------------------------------------------------\n",
      "RETORNOS ESPERADOS POR PERÍODO (con volatilidad condicional GARCH):\n",
      "   1 mes(es): +3.1% del capital [GARCH]\n",
      "   3 mes(es): +9.5% del capital [GARCH]\n",
      "   6 mes(es): +19.8% del capital [GARCH]\n",
      "   12 mes(es): +44.6% del capital [GARCH]\n",
      "\n",
      "✅ Análisis Monte Carlo completado con modelos GARCH\n",
      "📝 Volatilidad condicional modelada con ARCH/GARCH según disponibilidad de datos\n",
      "🎯 Modelo GARCH de cartera ajustado correctamente\n",
      "\n",
      "🎨 GENERANDO VISUALIZACIONES MONTE CARLO CON GARCH...\n"
     ]
    },
    {
     "data": {
      "application/vnd.plotly.v1+json": {
       "config": {
        "plotlyServerURL": "https://plot.ly"
       },
       "data": [
        {
         "marker": {
          "color": "#1f77b4"
         },
         "name": "1 mes(es)",
         "nbinsx": 30,
         "opacity": 0.7,
         "type": "histogram",
         "x": [
          6.437112397541222,
          11.51755834681821,
          6.915984755209529,
          9.771436079643554,
          -2.5569699956521355,
          -4.976039188929364,
          -4.835438700273379,
          27.495784818073776,
          -1.590562063078731,
          9.918291083763322,
          4.202264709592649,
          9.719881748817086,
          5.197855416891133,
          6.3566492049512675,
          1.2991111246081524,
          4.98180998825244,
          0.4829221618766314,
          20.661656433873134,
          -6.397342493265256,
          -1.0691418860050348,
          2.2308333328292087,
          0.20520687705253907,
          17.12300553282155,
          -0.2565848312708185,
          2.7724459206342043,
          12.89382595163287,
          -0.3765893943814946,
          3.9986867990103163,
          0.3195464794010058,
          0.441112033059261,
          7.894495459106328,
          10.881502878711084,
          -0.8141635616241701,
          -3.7888383345707197,
          10.862897487566169,
          9.404843713884029,
          7.085666992626417,
          5.576667243941131,
          4.3490796082864005,
          -0.6511072233430458,
          10.037541099094863,
          12.117542833429743,
          4.758168856536884,
          3.9513046006712966,
          -2.1344268365196126,
          -6.18473267259692,
          6.138231084592627,
          -4.1727275107129005,
          -6.527620459397625,
          9.393647610992192,
          -2.924398611017074,
          5.764544237966287,
          14.879690859229525,
          15.918738653501851,
          18.14243579460341,
          0.14215426003932885,
          -7.623708476028614,
          0.416087427762623,
          8.31595940785802,
          3.8355500234352435,
          9.122939108573753,
          10.596854895096243,
          5.56961984292558,
          -1.437516024626884,
          -0.09587692136514524,
          -1.7604536804727229,
          -7.355709310965334,
          -1.113528448065702,
          -1.9257076741217076,
          7.22729209733513,
          5.678108855769614,
          8.613961443516953,
          7.263527926601795,
          2.6051211923785504,
          4.085953100213541,
          -7.159764439132712,
          -1.339703699802106,
          19.77289368720454,
          -2.1596388644264013,
          -2.456428019519142,
          10.024914282801916,
          9.282161247012944,
          8.743067438174096,
          -4.122441036034916,
          -0.4449118658341484,
          -1.0839425086667058,
          2.799389148382954,
          -5.972072468133145,
          -1.6051246287541978,
          6.945854198595355,
          15.392189239401139,
          6.496805000949422,
          12.721221179548897,
          5.315676227626296,
          0.8956247411140421,
          8.403674919966486,
          4.516805314364163,
          4.00756168222582,
          8.397964552666078,
          -0.7455821974666401,
          13.2790514532987,
          -3.276336026644426,
          12.619351309165152,
          4.688140805339239,
          -2.3303895513880897,
          5.699084129707626,
          -2.5211667839545235,
          0.53110168067,
          1.4640496149242153,
          3.3552354037924794,
          -8.991860937852223,
          8.009754615948514,
          3.1263366136761332,
          10.511144918981286,
          17.22836777990913,
          1.5326434109240596,
          9.709749457754581,
          0.2740334987224438,
          -4.9395584197187254,
          6.305907646254792,
          4.307843595599533,
          -10.530647046992552,
          -1.9981990503602993,
          4.1301986875400525,
          4.2922601507211375,
          -3.7162991968746937,
          3.184043583058925,
          2.9799990467532433,
          5.209799197003282,
          12.857005644241282,
          19.74410006545089,
          -6.66422402191291,
          -11.21754531995977,
          6.780641869520757,
          -5.938812880424813,
          -0.765025616028878,
          5.404579363840095,
          8.672179455473518,
          8.194738466520054,
          5.724843457664005,
          11.271735980164475,
          8.433134640305695,
          -5.0761345413411405,
          -6.448622484628939,
          -12.96259547872972,
          20.318643014356834,
          13.387507250368227,
          13.527179589194843,
          -1.5833414038541802,
          -1.7884656112836084,
          10.947766365721812,
          8.185799854873752,
          3.302045316120273,
          -5.937582584000347,
          4.3595197093746805,
          -20.130518191143537,
          26.85559951413175,
          18.06073479902755,
          -4.204003116410824,
          17.651109517690227,
          5.694177650941327,
          -11.372644978108095,
          8.883673692386102,
          8.126552680529525,
          7.866041376351397,
          1.9331576539823758,
          6.057515301566127,
          10.282124662247591,
          20.471172364144312,
          -5.973579699719527,
          0.6325925972892544,
          11.891969475077993,
          3.966861242090612,
          5.184881795132588,
          -12.642294931306703,
          5.528448581589536,
          -2.2690927308883615,
          8.941328524957152,
          2.647523125966033,
          16.606975661063654,
          6.235376523079467,
          -3.3540946729541403,
          3.448025193476488,
          13.725677801644942,
          10.518658039231948,
          -10.118503624396329,
          -6.228837595375142,
          5.099704036767153,
          13.705515433876922,
          2.093924669059535,
          8.0020264041525,
          11.463030497044144,
          -12.976917350775574,
          -1.500115023392021,
          10.702676765072912,
          2.5026673596053413,
          15.900113093377799,
          6.049155543336015,
          -7.646875896175893,
          -7.302902779824999,
          2.8070539425193886,
          7.1556268464364585,
          4.945781328836936,
          8.813210871858256,
          0.4371118187836698,
          4.228031641697657,
          4.693306915736673,
          9.690283788510236,
          -3.502002287537208,
          9.794564094491971,
          10.540815878445157,
          3.3094419064624474,
          2.694169575893488,
          -5.474542679455471,
          -12.146362873722351,
          9.275015688373799,
          1.0629939714614005,
          -8.220745507391452,
          -0.0908603455002089,
          6.659962342932413,
          0.2339148148090886,
          -4.70887693871039,
          -1.0507908369535597,
          3.0011039670310913,
          6.523315900333738,
          -9.556389627432118,
          6.2906913157994415,
          3.4847263856220536,
          5.368451118332415,
          0.8130324496964634,
          -1.4439495184817779,
          0.04205310731713978,
          7.858388879486478,
          15.811816526262767,
          2.735809528650359,
          3.171271901092992,
          3.0039288864379965,
          7.049310035744072,
          -3.4776261720546877,
          -0.27261914417268907,
          -4.491955478419612,
          -6.369411830206559,
          12.188980946746355,
          5.453779923404508,
          6.878164464922655,
          6.509752717833303,
          7.900831940181758,
          11.008207190169218,
          3.657934246578544,
          7.027597369995832,
          6.876415744294967,
          6.938174461804772,
          2.1948189752173626,
          -7.051274258391237,
          -1.3330813410323228,
          -0.3765537226649868,
          0.7972237675529691,
          -9.438440102858904,
          6.051197176204854,
          12.721435822330982,
          3.6580279075762654,
          -4.478142027035395,
          1.6117137281974465,
          -10.395268598134265,
          17.5871040347262,
          -3.6708283846269825,
          6.22124847477738,
          -8.91731757601179,
          -0.1958931501533565,
          -4.675710519527734,
          -2.6540209988817387,
          -3.8265145123545437,
          15.993046390993815,
          -0.39609453212814916,
          2.2095148949280654,
          11.875030954634443,
          3.3399414912260514,
          -2.066406958938339,
          8.844437650321064,
          15.440486833403316,
          6.102309190663243,
          -2.2433883469621962,
          1.335257962252875,
          -5.19624302756988,
          9.740829750339074,
          3.5649609874237447,
          8.704800442830395,
          4.880670696197529,
          9.296911084527986,
          5.833362543463163,
          1.1700964001988734,
          4.085987579351386,
          7.546641405580326,
          -11.055604032008883,
          -2.984497498497937,
          -4.461375241638005,
          15.040873726422443,
          10.232842349658045,
          9.222977471371024,
          3.7651917687892085,
          5.764435822844222,
          -4.776800101018611,
          7.164849151061456,
          4.165977733312087,
          2.3742584365733435,
          -7.995099799616605,
          -4.413879455498261,
          19.33313290659304,
          2.8281741343358267,
          4.5452271400841875,
          9.317776683435838,
          0.45511650575789653,
          8.624310354609515,
          1.4041200430115122,
          0.20549142572857323,
          7.0622914757426924,
          -4.899007359668392,
          -6.189681159743738,
          2.184352179155525,
          14.596602127337018,
          -17.503338896416718,
          -18.13235634855472,
          -7.7093366234132406,
          -4.751903460339346,
          9.949014670423287,
          -6.7426055087471095,
          4.65893643011599,
          0.4293758726098426,
          -0.34649011267891444,
          -6.655813397375578,
          1.140944220379971,
          6.639340465170538,
          8.595669683949165,
          -20.997721980910157,
          2.1398496017862136,
          14.598860818608669,
          3.1332541995251297,
          4.124936415803952,
          -6.50696456103195,
          16.202729230236354,
          8.473730856390633,
          2.0890330200173044,
          6.416267694784257,
          -0.4574568254194316,
          13.24189552676599,
          -4.994630781939814,
          7.722251960311695,
          2.5220963128040994,
          -3.23058856186534,
          -8.528645440177693,
          -6.679126683519125,
          12.626854098783028,
          13.475426675046009,
          15.605860305469314,
          -12.580327207360567,
          -9.063809651228766,
          -2.1597142480111344,
          12.989096178975231,
          6.403655611643899,
          0.8594101539930898,
          3.4259144214461674,
          -7.4676806978607635,
          -0.5698025605720549,
          9.940179864706437,
          -4.59508553515581,
          8.629595998115823,
          -13.296048652563384,
          9.277662465161832,
          -0.332179374703594,
          6.14551697934094,
          3.062376637796553,
          -11.874481837228835,
          5.015274676224317,
          11.085989425993542,
          5.447084502797425,
          -11.902597676723326,
          5.439298169343043,
          5.313656900309556,
          9.037511171698505,
          1.6233683867908646,
          -10.39039772255981,
          2.725916420461157,
          4.456789269132293,
          -15.532222665606406,
          -1.6509918480080366,
          9.634970814393132,
          -4.182873381245761,
          2.326328206410504,
          -1.5960371631524761,
          3.3966100990984605,
          -10.419474222868764,
          1.889140748464208,
          3.9681799843589634,
          -7.759221857210237,
          12.548665068777973,
          4.893912377996766,
          10.960984984659818,
          -6.640858265306083,
          14.196855320298528,
          8.966066520574877,
          7.221886291941408,
          11.601137038265751,
          10.606944492397115,
          13.533650648522395,
          5.409294378681665,
          -1.3669754009560633,
          2.4170881250230045,
          -2.353712437012889,
          -1.711590321048168,
          -6.033332507361183,
          -9.271680848563047,
          5.920814564738015,
          1.1456318143582742,
          0.6578761159713419,
          5.195471899309247,
          11.027406037214053,
          11.23978167375426,
          -4.436801918189652,
          10.298825445447408,
          -3.7126166656432606,
          -2.8281321144675453,
          5.802246761267733,
          8.432801281399875,
          8.672939995446722,
          -16.19584563242119,
          0.7732158940926558,
          0.24996111017972292,
          8.116515441616095,
          9.15431339505916,
          5.112694455683849,
          14.473743771708325,
          9.262313142056364,
          -0.44772667910215924,
          5.4598079588786455,
          -0.0893370545842851,
          -9.588595527218892,
          6.388369007525078,
          -3.1297619822965443,
          -6.198585644190202,
          11.054784444875963,
          9.434655807618501,
          12.852834842775302,
          20.80108969491717,
          13.51756168086018,
          8.31520480170181,
          7.325091305639369,
          -11.266127773837354,
          -3.9989065279354237,
          7.147888908565212,
          6.493736663371716,
          0.9244403931250863,
          6.620142432264943,
          17.148392536539124,
          0.11611235526301188,
          0.2795052860958963,
          5.269520588180477,
          5.20243544465149,
          5.618769731539605,
          10.815482729135518,
          10.02858473765734,
          -3.1662191421826926,
          11.039975376059004,
          -1.9434207826404755,
          -6.123309244208232,
          -1.9006283463427813,
          4.603404090609688,
          0.9458445558535737,
          -7.969218907730298,
          11.85550926408935,
          5.700854478264065,
          5.199275653799658,
          3.687670098508894,
          1.6719828056131112,
          4.5235930187278655,
          -9.928222373470215,
          12.808096080364903,
          5.125977815494247,
          17.428921132934693,
          0.24779116835316334,
          -2.401212319720835,
          7.243205320096031,
          -1.9809122517774547,
          -1.105793016001359,
          1.2634685072451395,
          2.818026396044762,
          -4.976910190103356,
          13.228066871096669,
          6.5332331084336035,
          9.063218412437005,
          12.65527133933633,
          4.071799454557941,
          -3.5785128112580624,
          2.1004769182935488,
          2.863583287961996,
          15.219141190554513,
          2.9292618158234967,
          16.094502674656347,
          -0.03344302058517594,
          4.496619760622435,
          7.0787993153211435,
          2.5705248165295074,
          11.093418051149877,
          6.844853827822275,
          -16.10545163445092,
          8.714265697947091,
          -4.365084115548252,
          9.96108998153418,
          -5.676096007065924,
          -0.6501933874819729,
          5.517626765344011,
          0.92297071076805,
          -5.84736816721825,
          -1.6777357918018443,
          -0.44395092557435006,
          8.44292199645939,
          13.108687200395302,
          -4.466531309513501,
          -4.486436814148884,
          4.178051528260783,
          3.603693499685264,
          -5.886616092786012,
          3.4830397156580086,
          11.999921250539355,
          10.058953876194224,
          -8.064916147433005,
          7.461021592588896,
          -3.2036387708268625,
          -4.052315375107557,
          17.882432171775726,
          2.476146199177659,
          2.546120171684337,
          11.231551101249996,
          14.270404971912793,
          7.000493008071714,
          3.7354317574838363,
          -1.0757709452155828,
          9.226475674834095,
          -5.713754764296243,
          3.277239833253303,
          10.202892984352596,
          -3.4842350666684423,
          -0.9123617237428324,
          -2.5259328276338016,
          0.622563021418657,
          -2.6243993558553105,
          1.9898728497799834,
          -6.489434867788243,
          0.4825023592259798,
          -7.023991095121199,
          7.3455839550637405,
          -4.001742523274288,
          13.10440704396133,
          -0.44088027595352053,
          8.649795135492292,
          -2.525110489171627,
          -1.291477309581032,
          -0.17266155734255823,
          -5.4827354274026,
          -0.6480159013503146,
          10.626583107831436,
          -12.219943908135473,
          6.477115529361599,
          11.51723921165748,
          6.916674037681661,
          18.70187068297506,
          -4.844297142090939,
          5.658799565715374,
          -9.971566639607106,
          -4.209972689574956,
          0.12905104554536417,
          -3.8378140659853677,
          12.73253524957069,
          12.530563831693309,
          -1.788055314240052,
          3.3694569867960182,
          3.415132298211608,
          18.868778820628222,
          1.4535665364249428,
          -0.8337645428794606,
          8.371081275214415,
          -9.784209498989256,
          13.69992874232356,
          5.852282519526699,
          4.738459634040668,
          7.984704921991656,
          13.87924253225242,
          -2.4035172319074682,
          -1.9918753010884183,
          -1.6839057721950217,
          5.069370496192549,
          -0.7234594562805227,
          7.307968225051995,
          -1.7055498062344248,
          -1.1825420515079583,
          9.971027392579659,
          -3.48871379658692,
          2.887137362640967,
          -1.2216165041564075,
          7.462673698671842,
          -5.536788264533531,
          1.261607947406844,
          11.527421918010877,
          11.506874096443608,
          -8.007871661482614,
          12.676682770754688,
          10.94241027623685,
          -4.964981350419237,
          -1.7487348377707028,
          6.328543270928738,
          0.34748722454414593,
          6.395012091354342,
          2.8114956791381984,
          -1.2804853465327126,
          -7.997712638853217,
          -8.148940889442708,
          -0.43157700200100285,
          2.04403475220136,
          3.116096941624685,
          3.6855517303484513,
          -1.660969673176198,
          2.378754748325417,
          8.933952816875422,
          4.771429888807976,
          6.925999094504948,
          7.28186273127684,
          8.61076861405007,
          -4.389703775695675,
          -1.4952945281023917,
          16.20746623419838,
          7.713305063837042,
          11.158962420392374,
          -8.6795172780461,
          -8.979359456383408,
          17.572505671762077,
          2.8999923681574575,
          4.726955068058918,
          13.050308852515549,
          -3.78763902136014,
          1.7782532931086108,
          -2.19922253938647,
          -10.445879557968809,
          -6.969356693081911,
          4.013350569361722,
          -5.040503623902684,
          5.4414183754327174,
          -8.787612824751916,
          16.06894343490398,
          6.692541308124393,
          -3.9841685956027826,
          -0.33105849412136645,
          -6.92803807783003,
          -6.722486167605216,
          3.901112324391093,
          -2.0516537638716867,
          9.15098955435379,
          9.534068683136834,
          -10.129450946918698,
          -2.4755653624050837,
          10.708037865946169,
          3.0107107683317325,
          -9.258070250028215,
          15.006761205931838,
          -1.3251416123391129,
          -1.8303635605595276,
          18.663419559016905,
          13.128782337698835,
          -2.124894205201985,
          -10.556673555067057,
          8.429702904272105,
          -3.429754126610428,
          0.7307166341712481,
          -0.012679323359179526,
          9.337952480489784,
          -5.826597413201371,
          -1.7524010055561843,
          6.454879455983935,
          -0.9843921558631886,
          -5.992144607423169,
          -5.309527536570002,
          0.47379547012967316,
          8.596466931654891,
          -9.588321860516645,
          0.8453267101445436,
          9.359024967460716,
          4.1579709022519244,
          -0.24174613136923073,
          -12.439793373345541,
          6.5671768971667115,
          18.780416081157263,
          3.7854759508251066,
          -4.342754355938336,
          5.5905502252462105,
          6.290992934357888,
          9.795564473377972,
          -5.46479536266885,
          -10.933997623271251,
          11.11422828980617,
          -3.8464338107851006,
          5.2925367838706645,
          4.908786156711864,
          -3.1381783833620283,
          -9.303988428548237,
          10.494765686209536,
          12.470222464358962,
          13.083169893506161,
          -5.356812025319647,
          17.33842128692498,
          -9.115827140701711,
          -0.4303607323339825,
          6.563043747059682,
          7.596641529933895,
          6.649696397355758,
          -3.806296499670632,
          6.028091307660198,
          5.060197028676574,
          -3.9588364198252832,
          -15.977345869538851,
          3.140812260076383,
          0.9348839054030879,
          7.6076362679595,
          0.9575652848044548,
          -0.08152784448097229,
          -5.439314095852106,
          -8.325730863882372,
          -9.404086073666983,
          1.4872684826307663,
          -0.8597482028910104,
          3.405787951825005,
          -9.043299354809118,
          -1.3562439753841495,
          3.638983092987045,
          0.3967396296228071,
          1.851622746450999,
          13.589101400399365,
          17.98721714727148,
          6.218570043849722,
          14.67143553148359,
          10.2637017562853,
          5.537481113356437,
          10.690757051715016,
          10.633487938594453,
          -2.388643089478438,
          5.265766713874933,
          -2.2330771195776147,
          0.22112383619921627,
          17.092814780944654,
          -2.7251937562235864,
          -0.08787428025400813,
          6.251037908462667,
          10.059511288206824,
          -1.9288575244056532,
          13.936883092236219,
          2.693519336796571,
          5.0492347508596644,
          1.2539230477451795,
          9.092466993644207,
          -1.8839320358633715,
          12.800359975955322,
          3.2231184762266105,
          1.6903541828903947,
          4.324027184184881,
          14.084038837333013,
          5.446976228402408,
          12.845605849427312,
          13.110901139810144,
          12.588134817783983,
          0.2748448707984994,
          15.841127860868792,
          13.821135903011978,
          12.886967848679173,
          -0.0751373447221159,
          8.23619694648068,
          5.178944872829105,
          4.617360467535051,
          1.0851217055270659,
          6.232345449964109,
          -1.0780298863398863,
          0.3811295824392557,
          5.937386290300184,
          -9.683027615524423,
          -0.5806800907153884,
          0.2784515667497722,
          -18.679364100700155,
          12.053591173623133,
          12.978334831258698,
          9.411976019654267,
          -3.6510554083264495,
          -1.5081071361100953,
          4.812898188975649,
          -2.2887091389762646,
          11.306768685940941,
          7.364135038721361,
          -3.122177720629589,
          2.355587118105835,
          14.733377833516908,
          6.065588209141811,
          2.5028559171633726,
          -2.761723816390182,
          7.223679757294803,
          5.8313260619819225,
          8.396448991236799,
          6.083765659946509,
          5.469228820072021,
          13.670496644804015,
          -1.0111078311497979,
          1.4455632128657063,
          -1.7362783686026002,
          6.8309189787857205,
          20.355937073159293,
          10.580521147925872,
          1.6651138374457555,
          24.049863478190495,
          11.589108243035822,
          3.6150453121110213,
          -2.8213520104399845,
          -5.46255327710904,
          7.885132040245926,
          6.9512954802922176,
          9.89607275299306,
          2.673171221755386,
          9.74449845519456,
          2.6823820268900076,
          8.454773882161575,
          12.96580428181584,
          6.388455618728162,
          -5.755082647223244,
          -14.365698548070771,
          6.226761836696047,
          1.1935052619231383,
          4.746900241042253,
          15.445156029634749,
          0.638014500269473,
          1.4182131776341391,
          10.29835503446545,
          -1.8130132334158622,
          -4.846185831498061,
          10.370614427406064,
          3.346482619726734,
          -2.8424605644408922,
          11.785337708285146,
          -0.06817898871812507,
          -1.0492670968100175,
          4.741250789069312,
          -4.314901324935583,
          10.497572310584745,
          6.87233788233436,
          -5.627625214968983,
          2.1763199341057233,
          -3.1761331468213347,
          14.850060083318606,
          -1.7257822069009252,
          13.650374836107623,
          5.954503138123796,
          1.6593517051972373,
          8.161375484958858,
          14.698606053665605,
          -2.4180535192553547,
          11.52475852344516,
          21.86528373665507,
          12.519509650028757,
          4.194569621507342,
          0.016301163777216604,
          5.690023837241586,
          9.141153924078985,
          -4.708542323565267,
          5.445849995999483,
          -1.7856485625336382,
          11.435288474464391,
          -0.5194823245150619,
          3.786960706357484,
          5.941094304713973,
          -8.490398829337217,
          2.9960789550514204,
          10.193675894285402,
          -0.4090132671287581,
          0.1972462831675823,
          5.3768873269040265,
          6.236454327299307,
          13.239049316949217,
          6.691260161027825,
          2.7426244560554527,
          -1.845540488273852,
          13.442148614706348,
          1.8997048394413967,
          10.448014269652633,
          -4.453480942547913,
          2.2654239600877366,
          0.009549871042890262,
          -5.136145065083224,
          2.792670558059668,
          8.104730158593732,
          -1.0000088585672726,
          7.271213048630466,
          -2.7828257981071833,
          3.0531918012784334,
          -9.282183895185224,
          13.872806776681678,
          17.950097198675298,
          -5.353129806255981,
          -2.6736764770421977,
          2.6198166765096143,
          18.827500997362108,
          3.2763554106041592,
          15.895983989093148,
          -13.541938966699144,
          5.415395201601868,
          11.535809792875032,
          5.649322857302929,
          -10.432024976477173,
          0.9735856745690694,
          -3.394515594481906,
          1.1071163256511922,
          -3.3349684653142697,
          3.265638151179208,
          2.7636818218491164,
          10.531730308911177,
          -16.615836244210904,
          -6.632595326454339,
          6.9176121773341634,
          7.809440282425706,
          1.6037231426417942,
          4.667571013539725,
          7.077496928900875,
          5.302548733675664,
          -2.7664884382828085,
          12.934812327936681,
          5.865723495844674,
          4.047170903754073,
          -3.2884962812018346,
          -4.733279652979896,
          2.4947408035799086,
          -3.161089002681118,
          9.47304912629817,
          -10.160209108326766,
          1.7573455063580108,
          -2.8458996353339994,
          1.999402135470326,
          -8.93021694147455,
          16.142289974754025,
          -3.691210281486486,
          -7.584936440271236,
          2.5733721497187485,
          5.89244366656419,
          16.57855551284183,
          2.5839894236902237,
          -0.9418190234240568,
          -14.607783866699947,
          5.599999460229219,
          2.8826587631433602,
          3.264005597757644,
          4.541226907475419,
          6.605665240362281,
          0.777434528259879,
          9.288382119546977,
          -3.5236593829401945,
          1.0089374925726182,
          -3.276896374225377,
          2.101500709389126,
          5.793715524873693,
          12.654240662392313,
          -4.214669164164498,
          -4.854282199422657,
          -4.407692039473549,
          2.591107573574385,
          16.126525056813545,
          -5.426249410540694,
          -6.11431597427063,
          5.187314478541246,
          8.096418774694806,
          10.933249927715014,
          10.426907480741919,
          -3.1148285919467975,
          -8.38217387347929,
          6.163419845879597,
          1.6148631278831447,
          5.191732378234121,
          -8.160696560807141,
          -2.7242749444783216,
          11.061431227233506,
          -0.41942880928128,
          6.66158982864911,
          -9.017128213892597,
          12.460312887644655,
          16.62408506386085,
          -5.977090923757776,
          1.9517593995967124,
          7.920642661780493,
          9.163300112776582,
          5.462322037966832,
          1.6263554713918298,
          22.77388343057299,
          7.400106012182403,
          -5.624592165569384,
          2.9433711503216995,
          3.8714828066128066,
          14.498854967562917,
          4.940017909493098,
          3.4454640391084514,
          4.154333228274214,
          -9.65089049737029
         ],
         "xaxis": "x",
         "yaxis": "y"
        },
        {
         "marker": {
          "color": "#ff7f0e"
         },
         "name": "3 mes(es)",
         "nbinsx": 30,
         "opacity": 0.7,
         "type": "histogram",
         "x": [
          -4.620290699083013,
          2.2872036149102133,
          10.086532925851108,
          16.930578431797617,
          22.793559279315875,
          11.41706544712312,
          14.230755579618098,
          42.18997843746893,
          14.817143303460295,
          22.684440924012055,
          21.78433359788818,
          6.143628683644152,
          29.406131435171723,
          19.404544403262218,
          2.7522210495372277,
          21.91522530191539,
          -3.6324762087499103,
          30.240242357188325,
          14.585505860470432,
          -14.627487991050337,
          2.070357665205845,
          16.60747754031893,
          23.0935201915148,
          25.14088957427514,
          15.0926009563349,
          27.115529051312,
          20.340133726592356,
          7.967604721491753,
          -19.74997734126935,
          -7.5879775964985265,
          15.929149218740731,
          6.263067436698289,
          -14.259667041108226,
          36.327602575261,
          9.530804117497398,
          19.486566571439255,
          -0.940414250235519,
          19.812787514719638,
          1.78997121433363,
          32.265700823120156,
          -3.0963772042738205,
          23.831043783735996,
          13.97152132620513,
          11.598530340668452,
          -13.628627517025008,
          21.13649577843712,
          9.99976236919519,
          -34.89100912169536,
          11.331930088952644,
          24.271903376349744,
          -7.687488104199988,
          23.231498297633337,
          -1.025249590539172,
          34.03174982491217,
          4.8817372586935655,
          13.061920380692799,
          25.62440170668601,
          15.414140373205193,
          24.453612310662184,
          0.9662401389051098,
          27.094903299101112,
          0.812698037870123,
          0.5070025420326529,
          9.299709919732198,
          1.7215047228648583,
          6.540109830467372,
          -4.489524659577368,
          -6.443975796349408,
          -2.035089482737641,
          17.86201460157651,
          1.1662406450055827,
          8.764918120126147,
          13.333883355303602,
          32.052314717631845,
          3.385897892719342,
          34.46746582721157,
          2.783569456746102,
          -15.159059536507764,
          6.964038932429547,
          10.52198691728258,
          7.600913040587846,
          -10.15414305500639,
          11.186234790599977,
          8.670131888642572,
          1.32455817528091,
          23.713993636075735,
          0.8011924674651699,
          24.98437247649263,
          12.090502613333179,
          19.088359823113237,
          -1.8935905197471818,
          16.599794817096043,
          20.659159218027774,
          19.212195480828115,
          8.490358410394979,
          -10.675358875033666,
          -11.672330308475978,
          12.585028989458017,
          5.709905876704042,
          10.815552925900244,
          -4.000128448873458,
          -4.5674507113816984,
          -2.9911427149284298,
          10.832103581822691,
          10.562605133787937,
          10.58973042374416,
          -1.7324650847459766,
          3.285305199514127,
          9.277701196010021,
          24.332995451227376,
          39.74641586796306,
          17.79760897657074,
          23.78537261432885,
          11.469424507586401,
          9.588837896707314,
          7.864611280812864,
          33.4486911312966,
          -2.406007878407393,
          24.207145557444765,
          -5.370964869510414,
          34.596833145657136,
          -1.928105848553642,
          16.16577356109933,
          20.799638954255723,
          0.3869183178677141,
          -3.598450456373112,
          0.18828476356722024,
          13.181561888614349,
          4.107154185069889,
          5.598562979638446,
          12.600644584848233,
          -14.227262200913984,
          15.772935299166651,
          -5.11490102806201,
          -1.1672207638318401,
          -6.251478053450563,
          15.786305316207613,
          3.4556851506198605,
          21.79372035360525,
          22.523591626512165,
          11.017435245499227,
          0.0020159247098985866,
          -7.06142039922314,
          3.8559342818080404,
          18.85287559977223,
          9.16499403314023,
          -0.8558976772103835,
          5.5967827199396085,
          12.539130745120147,
          22.99157116917515,
          -2.4716071964803827,
          16.779809100516342,
          19.256030559682884,
          10.988242837187824,
          35.465563820215685,
          4.431315990066539,
          11.939853898715496,
          24.156480725954058,
          11.447346597276782,
          17.899363085367884,
          8.913269748601675,
          1.8234945678238759,
          7.244106673075679,
          13.922890807431015,
          7.7799926973046425,
          15.274060860292805,
          23.67880588704605,
          -10.935542684338431,
          -18.908704258154277,
          11.2562538019883,
          27.116711082860395,
          18.420530015371778,
          7.457951395312502,
          2.903787084943474,
          -8.733735290421487,
          21.744533458049354,
          21.24730846169516,
          13.836121908054208,
          -8.057023930343894,
          2.93939034137463,
          6.857228481694001,
          21.21495690151599,
          7.876244123050238,
          16.9686933683881,
          10.97937413256087,
          4.762654254510131,
          17.06328882873723,
          14.787034362539503,
          0.02268063573761664,
          17.536127219528762,
          21.933337509653516,
          2.0073167455339047,
          9.984352685751341,
          10.161258544798024,
          12.66220970117663,
          7.548539486734629,
          5.308733390728297,
          -1.0272877270977019,
          21.392169711122992,
          -2.987988069056999,
          -1.0137645290224053,
          -4.746572765237186,
          8.970937076815881,
          4.487022025493636,
          -10.89861653642459,
          -1.9547962374058536,
          7.65844724201667,
          13.766542983625934,
          -8.10266695445992,
          -9.906419594369673,
          5.17931128105443,
          16.00058011718542,
          27.98878531222365,
          10.175526045155918,
          -4.407401831117411,
          17.34513068366658,
          -8.024930899888572,
          23.66218067379742,
          21.286649708017542,
          10.326692003694442,
          -6.951114906273725,
          23.504882861900413,
          3.561587207577533,
          2.070351915713528,
          34.50022071863784,
          36.420526452280285,
          12.252813409066441,
          4.956981259791927,
          7.463241551870303,
          -2.581570954715799,
          10.004811832825595,
          16.98814196439224,
          -9.933150974201268,
          12.889743696606923,
          -6.178017244151521,
          -5.5376638064221355,
          22.8434348564793,
          8.188490866994064,
          0.5329148806124451,
          -7.19718276573596,
          -4.856614561967406,
          38.285894668665165,
          -0.8800402335849791,
          18.346643273561423,
          1.515247040535514,
          19.03614114845911,
          8.327274555087234,
          -7.255785602941506,
          12.27408652604175,
          24.544457704485577,
          25.334055423880287,
          5.181222107675366,
          22.734012004489678,
          31.768832609773273,
          18.752276999122213,
          -20.14175386236295,
          -0.4299604763155024,
          39.737290058371975,
          8.34054788680138,
          23.239419036706806,
          -38.69104095816678,
          53.218155692406434,
          -12.458406730118604,
          8.41282357291023,
          -14.952832902421756,
          2.902958683647255,
          25.50791842884092,
          8.822835811439528,
          17.618709845353926,
          0.8290367390709417,
          8.909708266385527,
          13.704615186929143,
          9.821087399650724,
          -11.072650901134812,
          18.548379770444416,
          20.979094123014804,
          6.732803987876893,
          13.111909602556516,
          21.200117638629713,
          13.160023179125613,
          7.203741040941658,
          4.742462828305047,
          -3.145003761377177,
          32.79685290870592,
          16.865108538819108,
          -2.300279406353187,
          13.096853260289814,
          10.485909273681498,
          31.68610001961072,
          16.024432520306924,
          18.35248523748416,
          33.881182553503706,
          8.473079360271983,
          13.992261354533994,
          2.909922114524678,
          15.91830331144568,
          17.417243269648807,
          19.62334461334938,
          9.299160811191324,
          -11.80891352976311,
          33.04489678588266,
          2.974628022163814,
          -8.002295996006909,
          10.317115322611306,
          13.386236649210236,
          6.127179297709546,
          3.038047587304736,
          17.890025878377397,
          -2.4818048868381877,
          5.438708874005684,
          -9.096798970115644,
          16.877139327603203,
          6.374108803859123,
          23.730849929830352,
          -16.508632917856687,
          12.427067437060083,
          -3.280328629071813,
          7.381703647456969,
          8.197587309068263,
          17.577253988990122,
          6.991084928192502,
          13.411322030679667,
          8.360411270766065,
          18.21057347086382,
          13.799918958400056,
          1.1534183316971784,
          -5.232133530878117,
          3.9599099110184532,
          -18.858051053611415,
          10.207408138026622,
          8.996107358002162,
          -10.58756564047627,
          -10.091822609047535,
          26.887871151337183,
          40.71301002537552,
          20.0442313967565,
          15.772608930590481,
          18.84143954233173,
          18.123993011771955,
          15.148124100932215,
          3.360579498224449,
          30.204512767421875,
          25.992841850518378,
          12.312591674611449,
          0.9502308040694823,
          -7.541120913833835,
          -11.286284936660737,
          1.145870860458359,
          5.422037883268566,
          16.905548092191715,
          15.042795329621105,
          5.443805786777664,
          -19.031019801695688,
          -7.231991589947046,
          13.596078605826566,
          3.43306160601409,
          19.0982123139175,
          15.877644861634138,
          22.198986624566075,
          0.6550418552031312,
          22.01190241662143,
          38.0417148257202,
          6.471347492061928,
          9.282350462795314,
          18.18867262973269,
          -6.0810515662332865,
          4.499861172344299,
          20.152688306397025,
          3.7374092880703804,
          4.3245145481594065,
          -2.853012766092031,
          -3.4581649856604972,
          0.25508100003549944,
          30.935893247594628,
          -7.141718003633136,
          4.283339475504613,
          2.478232333404931,
          13.18642331611602,
          18.880900346662735,
          17.935226562253202,
          27.834936042639068,
          14.163934431590402,
          20.786454302507234,
          -2.618397332230586,
          40.45982872606599,
          24.467239774662623,
          7.471040067454622,
          37.912637653894635,
          25.502418540986994,
          -4.395361517787413,
          -0.0840982110307531,
          22.548562834868594,
          24.269781324442548,
          -1.432716382870762,
          -9.784746108664457,
          -10.283678005110414,
          5.387979791616304,
          24.30855375000707,
          10.520374003628657,
          22.526703526014543,
          -4.403246260855137,
          21.972177149655163,
          16.40258585513968,
          -1.2226588494391109,
          49.81342879490062,
          5.735689853849555,
          11.140618043313749,
          15.322805867740774,
          9.665392798744787,
          12.952163260821786,
          15.885731314515661,
          23.33912340622915,
          25.07435008485656,
          3.1057241580923574,
          36.87686282043357,
          6.377739984354726,
          -0.6801576074951035,
          6.632327611655109,
          27.69358695170453,
          14.600826635986664,
          -0.5810640918444256,
          46.272997011209796,
          8.744377865635695,
          44.338410552926554,
          -12.286005727888178,
          25.890876577186457,
          11.656114293322206,
          0.5247055369768966,
          0.25850537321888967,
          7.885666483249984,
          19.04897246546917,
          12.411024848227946,
          4.810090820147358,
          31.671552690613748,
          13.045766415332238,
          8.867655792420303,
          15.50516178249148,
          9.976482287278628,
          -18.71874250811711,
          15.008124226515804,
          22.76306280808496,
          3.39773105601849,
          1.7478985339019635,
          14.136424382800097,
          34.337968828833425,
          17.81986072081019,
          21.93981670546652,
          24.593944563775334,
          -2.0112391720362277,
          12.511486632365996,
          -1.3200167511618899,
          9.262903677032371,
          20.73157511250998,
          0.1690706198804126,
          9.034849361908726,
          -10.636286675616171,
          -9.511562743246865,
          35.297312824288554,
          5.346075354073567,
          9.522475729427194,
          -5.906047108436613,
          5.9194158734465665,
          9.607224972742063,
          -13.719521797570028,
          26.956728791708933,
          6.772375468241868,
          28.404478697269088,
          1.3907816608841481,
          -0.002575082093275727,
          13.826736003801985,
          35.87483929636852,
          -6.381747847495567,
          -8.963041898291873,
          17.936664140480428,
          25.9237886216445,
          7.652175476699381,
          26.180666132838947,
          21.396660319186907,
          -3.9514662122977438,
          -19.196309832114796,
          5.843430108389532,
          11.169054579231727,
          23.067567523454947,
          8.765458742688548,
          -13.87554352244058,
          -4.872209622492798,
          17.350504351705442,
          32.491291534593465,
          19.774258168218168,
          5.110445632129687,
          12.665303236472521,
          -0.7318294577249695,
          13.804397833519738,
          27.219204460663843,
          19.863790034663154,
          29.888028705764242,
          6.537010683762891,
          25.900154276526667,
          27.16263214809277,
          12.577018028991438,
          5.295437285334507,
          11.488586122909213,
          17.23634078968396,
          4.929185868207443,
          -8.829053870901207,
          -3.4989545445048895,
          -20.481105473701273,
          -28.007172480106448,
          -10.83995755032417,
          5.804366918117318,
          15.886057414053973,
          9.625454420926532,
          2.165784030079791,
          0.7490207535132396,
          2.1774522101639397,
          19.052825062801126,
          2.317944281261504,
          16.401972597014286,
          3.054862247264582,
          15.353797395402378,
          -13.085901345195051,
          -11.46730597484183,
          9.202418418590106,
          13.6826252945174,
          14.15182816964205,
          14.96069092787216,
          8.83021057351806,
          8.778062828132562,
          9.124264954861763,
          -4.838035776385735,
          16.376643465862003,
          13.195865621480637,
          -11.86974153390854,
          2.3290410615431774,
          20.80611713813437,
          3.1985576260918136,
          -9.63808083400482,
          5.140964670922369,
          -12.750400976043938,
          8.278448381753861,
          -1.0311371214880545,
          9.246685821667477,
          -7.2979707336259025,
          9.671733437175957,
          -15.013988952879917,
          7.419220767581591,
          -9.464652873053947,
          3.8556885229478226,
          -21.47038289151806,
          12.870412521509914,
          20.85115437168067,
          11.46372492504832,
          12.542640133929103,
          12.630496002568051,
          3.0955384488531092,
          -27.001619680525955,
          -3.9638999059643605,
          1.1163976402943838,
          16.96264565170455,
          35.61560174094374,
          1.7265766804450342,
          -2.8871516147290457,
          35.92500973132471,
          9.968590615091562,
          3.645900923706369,
          24.82473536071435,
          4.349535200082013,
          33.73734303545343,
          -0.02361345773617546,
          26.21859766132945,
          8.02410817829189,
          -0.18289727567926684,
          -20.472905495223934,
          22.602735342820193,
          21.675119738221955,
          14.571066630320335,
          15.554436858434356,
          8.005037438613055,
          14.300394693828586,
          8.040333674988693,
          19.3308384506299,
          16.710122558537893,
          -12.78153122902812,
          1.4767126204411785,
          15.343404139674261,
          -12.526702774685472,
          8.628956996451846,
          19.384794327550566,
          -2.8459720786843308,
          13.489810621695996,
          19.083979791467016,
          19.404840087148003,
          11.679160070524686,
          4.209144861114342,
          58.08238465164995,
          12.882062504291161,
          0.048356540918140234,
          1.8465411285437425,
          36.00780284882384,
          -4.393867911483149,
          -3.1976360803597004,
          4.925186444554605,
          14.258393216014184,
          3.996339897126778,
          10.85189014928849,
          5.57251553526262,
          29.16328871964503,
          10.219453962749759,
          17.284123005085256,
          11.32045260117943,
          14.935275701958664,
          -1.925675468242126,
          3.6530943656222754,
          27.77198952830452,
          -15.181138522717974,
          7.6509214121386115,
          20.10055319658336,
          30.859930546741122,
          -7.051401303957916,
          6.610290274362435,
          -19.484310392425645,
          -6.984518652077587,
          18.62826920549699,
          36.401924311126955,
          17.050001930439652,
          12.141467473342656,
          19.753115715430475,
          18.680493919737916,
          15.524154532772231,
          24.93766910234155,
          25.847438002666458,
          19.04754545738147,
          -7.4820191936574245,
          -12.963054681528535,
          0.5996727042600902,
          -6.884556376166545,
          15.401964813625243,
          -4.390135532775583,
          -16.074441016604275,
          3.9493129129470055,
          2.1438309162673836,
          3.7663562564219064,
          -5.444551227071992,
          13.671938003022358,
          1.9243849150491141,
          11.50785346161677,
          0.5548995949389222,
          14.841474560790962,
          -2.9385858797359248,
          5.480912980838216,
          15.404475532232695,
          16.58489555146656,
          18.72960598340061,
          5.643196349902407,
          3.3195453389580445,
          9.053969725949933,
          30.110654102700916,
          23.425354461686858,
          29.02227941744289,
          11.896479821900478,
          24.34239230250222,
          -3.0702499813498543,
          9.47393850888187,
          -7.89790205373109,
          10.039872264734578,
          8.64640201491839,
          -10.275614842017312,
          -12.261800588595023,
          20.777294833422523,
          -4.305488794877182,
          8.58617659395817,
          17.309300274076822,
          10.64937159692401,
          0.6056798512234882,
          5.844373289945719,
          6.201940884229263,
          4.9491047201249945,
          23.286283073527528,
          -3.8620087985456353,
          0.4948246571415599,
          21.949797214982553,
          -20.832919086386354,
          25.936357926124316,
          12.5217236708596,
          -4.951425191436296,
          -8.983807617000043,
          7.465302574220764,
          -4.885322445454296,
          4.745482214877379,
          6.465124480626883,
          11.683812135299025,
          16.113631521208564,
          18.480186061065595,
          -4.086876444060309,
          17.864434137298158,
          24.04958534011858,
          29.344891288609524,
          29.1025985517974,
          12.770551859221138,
          32.27499092143946,
          11.217001436928683,
          27.19135717579062,
          28.104141273890992,
          21.509049887108095,
          2.215688329494782,
          18.24174567111161,
          3.229568402497568,
          2.5208100078282434,
          25.278781925707282,
          5.815425995283411,
          15.386256605556797,
          13.054470797807644,
          -8.341740183866989,
          -0.1575637155693435,
          -5.943211489112316,
          14.776008074477176,
          9.198024740844383,
          -0.04866573129278101,
          14.714639009336194,
          23.848758506768803,
          1.401815839787407,
          -13.629914150803026,
          -18.127213203558576,
          15.421746517963705,
          0.7148615395127025,
          4.443658075839782,
          -9.226865499076412,
          -3.8169715539234095,
          0.515185153183302,
          26.32602158389739,
          20.233708591280504,
          22.662888606881396,
          16.4906882485093,
          11.155678014570219,
          7.802877798119709,
          11.462758324535208,
          17.762669862084028,
          -15.017212351234008,
          17.439584313572983,
          28.58042423170069,
          42.404997444558305,
          27.885695815585354,
          -3.718398034403536,
          24.1157309476744,
          -0.6324002666295028,
          20.600611524230548,
          8.046667168878134,
          3.3772796526820437,
          1.1271978622371046,
          6.543212876866399,
          3.6910237246919655,
          19.643311332465746,
          3.2312142048283934,
          8.658267900691104,
          0.6663393189928437,
          10.899519072495984,
          19.08991059554188,
          -0.18056904461464518,
          27.979723086005205,
          2.2096228897959853,
          13.099497993155815,
          19.74868054403845,
          -2.380483697786964,
          9.989741939470802,
          -11.685235373031585,
          -9.486119350309515,
          10.776535160540023,
          12.875480605173035,
          0.6645842572063896,
          20.843613649618142,
          -11.669594226862442,
          27.653442879527855,
          34.810554700816645,
          -2.605842489786625,
          -17.67431718977355,
          0.9910729845620581,
          0.5928445552675188,
          -1.1374644906516476,
          1.6089083918018068,
          5.251760618619188,
          13.258459573999149,
          3.440779882823515,
          8.606625666800367,
          4.006176147901518,
          16.41623311329032,
          0.2732678438232758,
          5.410473556744867,
          2.087141838393787,
          -10.697123888315394,
          -7.498914514389157,
          19.99926903490105,
          3.173654456194523,
          24.30652836783903,
          2.9933640498105567,
          2.3567887285644935,
          14.249388316648787,
          2.354748422181331,
          4.486779533331965,
          -4.658088557111617,
          19.375089142637343,
          -3.7124874811830217,
          -4.855952191516577,
          12.77190804697862,
          -19.555468033269605,
          -3.840545628950573,
          4.602057224090393,
          7.430520297930948,
          -2.3197939977363244,
          9.405806480699924,
          28.98643025264174,
          15.063287693101085,
          12.954873746956716,
          -3.4679431986233493,
          1.3909617388967288,
          29.370310313630622,
          14.517872729888099,
          12.646308824513508,
          20.88903937202507,
          -18.463225919386037,
          -3.190970407658436,
          26.011308742690048,
          -5.404703005262085,
          25.213778387584853,
          9.398967737325695,
          15.227500138678549,
          -8.699656478372916,
          25.88709582924694,
          -3.3717263927296375,
          16.416627862694007,
          0.7722786947865921,
          12.356973159717302,
          0.4287260940535137,
          4.974925953587526,
          10.604534622351897,
          5.428330191488946,
          28.44787058386103,
          6.485767767488023,
          0.8481820732778422,
          4.090797450649664,
          11.185625192046448,
          18.429984813649803,
          14.695965486100047,
          5.398055358922773,
          32.1360378537851,
          16.094942829657544,
          22.84478874759526,
          14.302445775787366,
          7.373808596687049,
          -8.965627343691853,
          0.7318527743728737,
          3.6284639853547263,
          16.229471618150203,
          7.757490897595301,
          29.626785471117557,
          9.858868193786876,
          3.554347134854796,
          -15.472972149858123,
          -3.1171117694907933,
          10.528474936470648,
          -1.3062047942684119,
          21.945473276639184,
          17.887310735202057,
          9.845776884438507,
          20.384965079003496,
          -11.15936958211599,
          10.600826008378036,
          -13.494616264284067,
          -1.9721614670552805,
          19.524861488709266,
          17.987145242535828,
          26.636889192083085,
          8.024087749356172,
          11.119974490711803,
          15.284333507433967,
          2.95302379694586,
          1.0798771215385472,
          17.103468632664672,
          -0.9388750546717395,
          4.413585214905115,
          -11.962331917457295,
          -17.79593779735558,
          -11.48763490688188,
          10.324737028230116,
          18.548375159041697,
          7.251206441755488,
          4.828905312629954,
          -7.974417676613655,
          16.718352417362816,
          -2.096551471621651,
          6.5189006419696,
          33.85579641181236,
          31.46230277798371,
          1.599807455952902,
          15.930147507799514,
          3.3755337630889932,
          2.3685062873515865,
          -11.65620900092103,
          31.242317595324987,
          8.937456405167568,
          -1.6048977622012504,
          -10.73915969762758,
          -3.138553126063992,
          -7.20184997934408,
          23.15062909507336,
          -3.7638805002852607,
          -0.6176204284075739,
          27.752346029084574,
          10.972364494177041,
          20.943437678346623,
          28.752572002991794,
          15.342704158601178,
          -5.173508007916028,
          14.446845788074587,
          11.514555173782542,
          -7.699093959325315,
          9.116582572207822,
          15.561889212428431,
          -0.25335871871192683,
          27.747515784412357,
          8.88827900874644,
          -1.1563122346162469,
          23.12968119645777,
          13.31225424816633,
          15.109933214458158,
          15.018482544623012,
          28.71197978713181,
          -3.2951248341294703,
          -15.254587250801169,
          21.569305070014476,
          9.247687001059745,
          14.255816322271528,
          11.013001242700318,
          23.636885430346723,
          -1.1068332520255408,
          -12.340381469571938,
          17.574532658846625,
          21.238768576855087,
          10.447619911788006,
          -1.9001754146389023,
          -4.573503846150298,
          11.461627750616362,
          -9.402966390528064,
          -9.341414393519191,
          14.023487583663528,
          21.711529702782745,
          2.0574258991898935,
          18.938626290169324,
          -11.349439424374813,
          19.13461518585202,
          15.94105108488023,
          17.136659253265556,
          20.45680303683518,
          -11.04048242680689,
          7.814754543517758,
          -1.7711918539201301,
          -8.38886980330976,
          -10.673793236816612,
          23.7870183451151,
          -2.2609619045926896,
          3.636651794422878,
          20.26228643905392,
          6.912492857753466,
          27.170952600208903,
          13.036301014403396,
          18.40155481474456,
          -0.4534854929836102,
          2.9432788322159382,
          1.5862672500481763,
          18.620967883463905,
          27.722675161416653,
          14.819926627744401,
          11.836274103135603,
          11.134750401487468,
          23.153377682010138,
          18.466059894581782,
          -2.1000592626776298,
          -36.65341297837751,
          18.19600636776139,
          -15.627650513997313,
          12.970973918567196,
          43.921738922100616,
          12.04108783001232,
          -11.825725094127737,
          8.117702040851833,
          3.883172623468124,
          6.788650555899315,
          3.9161609209280113,
          0.038056058719251884,
          37.18823939690004,
          2.9359979909161114,
          5.225518690814059,
          8.781888876594184,
          1.2921191011371111,
          -10.123603294335224,
          21.013273536301348,
          -16.65125067279272,
          6.813752981874647,
          28.3810876969624,
          11.948001896771082,
          3.190801487168107
         ],
         "xaxis": "x2",
         "yaxis": "y2"
        },
        {
         "marker": {
          "color": "#2ca02c"
         },
         "name": "6 mes(es)",
         "nbinsx": 30,
         "opacity": 0.7,
         "type": "histogram",
         "x": [
          24.62098421565369,
          7.41162873846778,
          61.395221828078505,
          7.482762102195369,
          34.8063953119356,
          2.957351403761227,
          19.032648497495995,
          40.19831893233604,
          50.82009791257103,
          92.07257863415248,
          28.39832977091654,
          30.47966220122275,
          52.422730240618364,
          22.297283767103607,
          -0.22383182769800392,
          -4.337859523045923,
          -2.434331665723552,
          14.839080820741039,
          46.296829718298575,
          -2.6465590137603745,
          23.552138428709853,
          -0.4494766364112335,
          23.19765040149873,
          -40.941524373350084,
          27.74891649770562,
          54.70374127505304,
          51.92698185875913,
          18.032168115504973,
          24.76033662917472,
          24.22042382408303,
          38.1980528851698,
          22.06088632090141,
          61.754207251484885,
          7.261121783135308,
          22.296044817490777,
          -18.25239844295583,
          14.266083177331154,
          49.33139809158926,
          -1.4514330022982358,
          5.021271913130404,
          -0.25174885827964344,
          29.93854724768572,
          56.461925576062065,
          -15.990030614682048,
          -14.749801389284428,
          -1.4987488255148644,
          33.59423605455881,
          61.22561140515278,
          24.37263428957714,
          7.074915581577887,
          23.990309844628065,
          35.972270582523414,
          22.24561746051894,
          37.27124137838882,
          37.727812710995465,
          19.594368259317253,
          12.888998939582368,
          33.823107149087214,
          7.854363459795552,
          -13.774529985963714,
          4.379362615384089,
          51.40221027555383,
          8.594106431960444,
          76.26061827809616,
          -19.127571665420017,
          -8.737572697727803,
          93.49208003100742,
          27.939064613773734,
          48.10024075423183,
          9.76079669187124,
          33.57670560190505,
          8.328031048062494,
          20.952001726650874,
          36.44695469731848,
          8.094357718253518,
          24.972197314198187,
          63.26352866016798,
          12.700628660674191,
          22.163064152668806,
          18.592119140472878,
          25.482361069977046,
          15.212376095136976,
          9.956903009786032,
          0.8467059812413413,
          15.473467237918175,
          37.76800165998342,
          77.69585411214139,
          -3.0260282422167357,
          -17.58354535435324,
          45.228073044370944,
          -5.0563777203867035,
          35.80860611607979,
          34.14623693678981,
          -3.726217043753893,
          40.880039388243084,
          7.69520840169641,
          31.64468211652655,
          33.615817227495434,
          1.8483580814135925,
          8.758201211136699,
          43.84950799587279,
          21.536821084298772,
          41.51862118257939,
          10.406101086651192,
          -5.354335763778129,
          1.3405690659919451,
          24.349422679646473,
          18.099734686992953,
          -6.557186899282607,
          67.78785052689538,
          17.00834155723692,
          19.46657263381511,
          45.5262214223454,
          18.803695318057166,
          -2.915358499246301,
          42.37687901256329,
          13.521113602435552,
          10.403123569028983,
          32.15017135850816,
          0.6010847641110262,
          60.15792990423265,
          27.875552511265028,
          39.739796946892056,
          36.55545478317664,
          35.75848567182776,
          4.884233633696739,
          13.873802874875443,
          7.741394201376194,
          46.79008973323359,
          45.97731735412543,
          25.256091263312143,
          0.5272267171046952,
          43.58889208616266,
          12.058486127007107,
          15.704908079627202,
          38.49747266440465,
          38.987470863261386,
          16.55926436578938,
          8.483415021576974,
          59.8446756398422,
          5.891626106265152,
          23.34089156381622,
          37.71752374875271,
          20.447197654046953,
          32.429200048951316,
          19.87429822911055,
          18.557152469239924,
          10.167790977027922,
          26.10260757212392,
          19.233151512842056,
          27.6732244923256,
          -3.2164187400011897,
          21.660430672871698,
          21.55077206636428,
          13.671101590224023,
          46.87458160268044,
          41.49262870840389,
          -1.5185156477110135,
          28.91654820929532,
          48.109177226197204,
          -18.56502930733537,
          34.55196789533421,
          29.55626142747657,
          21.49848075059492,
          44.65799626238932,
          50.47055958567383,
          25.465538354476593,
          -13.640954226382885,
          -0.8489974189595323,
          5.7448590400235116,
          17.41115661285071,
          25.491346989580556,
          14.999850019332023,
          27.979844804746612,
          22.619909280828807,
          52.763544090215305,
          4.984795104630798,
          25.82566460350692,
          12.639917616250912,
          29.42741080177878,
          -8.146918922515633,
          4.859829501353258,
          21.72196263353502,
          11.104240962114535,
          46.111399047862015,
          19.050725808168036,
          31.942588312498195,
          15.741892578092964,
          22.545981933230912,
          42.09475073570409,
          -8.948047536757969,
          35.19406709749407,
          33.95076405411175,
          -10.196334632289016,
          10.57632159726502,
          -15.452169471378358,
          11.483176318656211,
          36.592782780205766,
          66.11992340701258,
          33.86178949570817,
          10.608546520246886,
          23.851323126899715,
          53.3404362283068,
          12.663609768811051,
          -20.311483150743552,
          14.228128041780295,
          38.93998539658495,
          17.311850200653844,
          3.893875023271487,
          23.196528018251417,
          38.038632733485,
          35.597985334988365,
          43.452343050313345,
          32.38253279496318,
          8.640331204920942,
          -13.033197979659777,
          26.25357466681614,
          37.60970032488209,
          -8.11953340405961,
          5.728178675172896,
          26.192584041260524,
          18.320465669485092,
          2.905614241072713,
          26.141894066620363,
          40.28170663525527,
          30.560430627730394,
          25.23031399420978,
          17.206365665680305,
          18.666068419101315,
          1.4637326577596284,
          11.312607849668224,
          32.475198707598565,
          -7.019271955634975,
          2.4472218079268666,
          30.885796872112152,
          26.29234578145151,
          -8.723174592926869,
          28.524214579053787,
          -3.148018307901987,
          23.399818117208135,
          17.62926347588086,
          40.1080278877289,
          28.338398943395067,
          19.245172192898707,
          23.28813244755231,
          22.898421815850085,
          19.4934102602501,
          55.90296580125461,
          32.5372823253246,
          27.43476113502334,
          22.18740465343502,
          -11.083687358386307,
          33.41438431654494,
          33.265956933646876,
          7.312018083516139,
          13.75076300389681,
          35.68965206364373,
          27.59545360818504,
          37.76723626132262,
          18.84609211516177,
          1.8092956183264841,
          42.60114822196521,
          26.14038795581394,
          30.668546421240915,
          -30.031417960017805,
          73.0539895455004,
          11.83561718653307,
          42.475761589427265,
          1.4070673987125608,
          -6.24415478366605,
          9.745012918601951,
          16.673938442277432,
          -16.48106041915336,
          15.536488172612623,
          27.749175386357344,
          9.152348677091402,
          57.53494794977825,
          12.287803926515734,
          21.434315095608223,
          36.92500590616632,
          28.06467399607812,
          26.159644655226444,
          3.64537029789693,
          42.22171983364953,
          -29.883985106110543,
          13.76729612106666,
          17.31307975887228,
          31.118147747423286,
          33.71502738807671,
          -11.210237938475876,
          3.686360372729003,
          36.02340234580296,
          12.408486664041483,
          10.840201325218235,
          16.723821821094827,
          -1.7410140923415112,
          18.68060231491655,
          23.061674857799282,
          17.728279057830605,
          27.870125377792636,
          38.60362116337937,
          42.17004662003911,
          -23.537158046231404,
          -13.280041345911487,
          4.252631463235634,
          29.27217240408733,
          63.006869991112616,
          25.69603557498138,
          26.402722134921184,
          25.593363023229397,
          30.18862843888957,
          54.373784264644385,
          32.884569786471914,
          25.54989351476875,
          11.639029838606886,
          38.004703963913315,
          47.587214896250636,
          20.360087602337405,
          7.629579050658365,
          12.13016622567958,
          14.273955572833435,
          23.36259660262563,
          18.619892265527458,
          -2.5809643463455822,
          11.31891834895419,
          -0.03463095838527608,
          63.959419811066866,
          56.563348976640505,
          25.738699223948437,
          18.05821261302513,
          30.77906800182427,
          -20.804487223719647,
          0.607880094213703,
          20.01009508126915,
          79.46767500063285,
          22.258667779468936,
          8.313391088893564,
          31.66977496521802,
          -7.104757067622053,
          -11.224751592790872,
          63.28202576563551,
          17.210396858995676,
          -9.772135135684563,
          26.824628602713695,
          16.327097107412325,
          51.11914780841431,
          26.241746288316026,
          26.97427336239382,
          -15.027993772495163,
          38.29238010975929,
          5.706169306562697,
          26.40264555144598,
          70.97681174036259,
          12.916010015330356,
          8.429161984575847,
          13.484402770124298,
          23.859218064162214,
          46.36533134560446,
          36.18874101989735,
          -8.92861112715787,
          21.7280256895985,
          33.29076458984215,
          26.569233082761347,
          21.91813704616842,
          23.037946318607375,
          13.345768751190423,
          41.5544932216948,
          -21.235708511496814,
          14.156630064147635,
          18.9745979438849,
          -0.6223858150677414,
          38.732112181896575,
          55.05651548597579,
          25.77205482061156,
          35.55313026446488,
          2.2636810222439547,
          7.0212968605486985,
          -5.779302949842152,
          36.7468772816402,
          10.247043767914251,
          38.1724770719016,
          7.249379916437429,
          -7.619472213293338,
          47.25613104272495,
          -20.283149105349736,
          49.86124478796342,
          13.584616636311232,
          -12.372621011334212,
          8.152800278331593,
          23.864198838902382,
          -1.1151838350232008,
          -7.28146211683986,
          -0.6778495604645995,
          5.735459835385262,
          18.610188427244527,
          11.119086534021138,
          8.262161994479298,
          12.201533906833765,
          20.846365331247423,
          36.27895322859456,
          -0.5784193211711808,
          25.018554663323332,
          25.287226063188058,
          29.111093983693614,
          4.710968244566269,
          5.923607056717456,
          22.509497022740828,
          51.45208666818235,
          14.20929716023665,
          -4.98945149648034,
          52.156718396980814,
          -5.862288049099079,
          26.118324907509244,
          -5.042447729955405,
          56.891043170090484,
          40.89288951890025,
          11.576380096461941,
          29.949355294774847,
          47.4359901768161,
          23.7769458322263,
          69.31184509013428,
          6.165590010798708,
          -9.678337910760233,
          51.64513945918841,
          14.404546168381996,
          25.902479686860953,
          29.29518336589429,
          -14.41984050319859,
          34.41828068737053,
          21.110587978702366,
          12.03560793260961,
          -0.05254648609421264,
          29.316967786114624,
          13.809229877656112,
          21.319998359026997,
          27.406399313266594,
          43.65384364403475,
          41.65388380200844,
          37.30423506264636,
          52.58480119232788,
          28.42042979125093,
          17.163437315421092,
          41.46956045118835,
          -1.4219467887751525,
          -13.80898608788937,
          -1.8664285208572413,
          -9.918562649166574,
          64.4820483371356,
          42.97144561642391,
          42.716030607779444,
          49.965614227326355,
          59.40839261701003,
          61.65415510672651,
          27.775370679461748,
          -19.3341281892566,
          8.505593812133693,
          35.80172426759952,
          32.759990762227496,
          69.30931618806981,
          40.72500715856155,
          18.339300947848606,
          17.939318480420894,
          21.193561477495226,
          -5.182081083899353,
          28.00596694388071,
          -20.95264194736109,
          2.465504705214927,
          2.964918795539026,
          45.525675051379295,
          -4.611695800998075,
          -10.849580231130995,
          49.20867192155169,
          32.01556084896493,
          52.66792718023559,
          3.796274197641769,
          50.07379044856535,
          24.31610055754698,
          30.171943677730397,
          -10.011493221981944,
          28.458229785275485,
          16.286047732420027,
          9.235877557494469,
          5.818632520129441,
          16.65045383004309,
          26.117215561122908,
          2.299589761937362,
          11.097020080385938,
          30.729012679765123,
          15.846550808420535,
          78.10594324698035,
          42.6853802627545,
          12.277314997236735,
          58.78636947013275,
          -2.259082040319835,
          -32.860270091770325,
          22.954892992345695,
          21.131118784056486,
          40.3668312924222,
          -14.924494328565258,
          -26.582877018285515,
          2.891325273020448,
          18.426319451546004,
          32.35069975171784,
          23.04170787692998,
          27.35240222205925,
          1.4678679304956865,
          24.553631485300762,
          29.397273796103896,
          14.832949507033005,
          -18.58494661737945,
          27.841836550068788,
          -16.91853640075304,
          -3.8269282636413133,
          27.64767439315023,
          12.466171101706328,
          34.64068009375379,
          38.99566533907438,
          33.692718627505194,
          14.445661449112333,
          44.429845343865594,
          35.587020278643145,
          -3.334454295201747,
          38.245083397605214,
          -3.514598787157086,
          44.92840767096624,
          11.006121718894994,
          32.49668721928077,
          9.998943398144506,
          36.69894100989346,
          38.79321530717667,
          1.4436995228290117,
          66.06237861425994,
          0.9436418212486253,
          31.363598342646785,
          9.223477077126688,
          27.9620059926225,
          12.547196219938305,
          55.26503866732195,
          1.2519785831441477,
          2.9042559884446097,
          39.2991609684919,
          17.59635309393242,
          -18.885968990152907,
          2.7847227774214693,
          23.73172911959351,
          16.84961249606227,
          -10.285581830008189,
          14.60364163888378,
          30.374705489032056,
          14.422649555459998,
          21.55567578184995,
          34.086119995692485,
          13.208269124684623,
          55.93248673719536,
          30.10494871894079,
          29.88346593920973,
          37.880861581442474,
          34.09657641316192,
          19.836225090254437,
          15.751449316768728,
          21.936495643314952,
          -23.267094477077865,
          7.2923503159265355,
          34.76452637975559,
          34.30496321275018,
          -19.338124224747062,
          33.265578546482885,
          16.42536296166583,
          18.231795645260394,
          31.343496793702975,
          35.10129493843467,
          20.509647622599424,
          -4.991222472023438,
          35.61475986889213,
          25.518380811682682,
          21.21763979323598,
          10.665027303718446,
          45.58108356529916,
          -3.5520824629240497,
          25.47678769482742,
          7.514060942338051,
          36.893579061121606,
          41.11540736517174,
          58.89446245994407,
          78.65220747849575,
          0.229646719144036,
          57.32130200401906,
          31.66105099163098,
          -28.07999715147839,
          17.921905761094333,
          5.425106407907668,
          49.99261969755283,
          15.645309904666698,
          -32.08596487988771,
          7.856656001402451,
          31.430789769661448,
          -12.963198606512204,
          31.679213000562513,
          -2.7747733914618875,
          12.165999425192902,
          49.94949901216067,
          27.15239695277227,
          25.02501167315301,
          22.373925899286167,
          46.016352855445675,
          45.237375476534254,
          24.87310944307571,
          26.460362519171333,
          66.0206721288372,
          25.61944091875657,
          11.754817540208988,
          -34.15081448018378,
          -11.92545099012634,
          35.8977700706628,
          12.358886266102287,
          36.143316286387915,
          26.627813098760555,
          36.08766439634642,
          45.87497670809552,
          16.867636791224587,
          -4.919559506505972,
          14.093897642487912,
          -8.71575843341456,
          26.86908929618901,
          -12.43117483059692,
          30.05960768914337,
          12.855010369724399,
          -14.745464413126308,
          -5.476556579685238,
          34.20018375032084,
          18.22350498913731,
          30.156233052995912,
          -8.52566812429567,
          -27.387955231898474,
          13.809310176306102,
          -1.59599067624073,
          -4.437115864707561,
          -5.716213572358414,
          26.438915436885775,
          13.327524818936853,
          13.980210208237823,
          17.04839159102206,
          29.61049228475805,
          3.9460028357857695,
          -17.545561204676257,
          57.80379339518458,
          33.24543845154569,
          28.731083862194506,
          -36.67628196672465,
          49.825760303212576,
          11.139664814825418,
          38.99588174445998,
          51.19178085594464,
          37.05429611009937,
          26.61057364331658,
          29.381050849811334,
          45.09812461230977,
          21.271824623022585,
          20.855395056394617,
          -17.791632497399025,
          12.923335455694856,
          -1.3611033530751437,
          9.567046444585511,
          19.97360737622471,
          33.8916415939326,
          16.940303793249402,
          16.651922257897137,
          -17.252849734359042,
          47.89144056815295,
          5.576594405706928,
          -14.00169927247546,
          12.114322056407808,
          22.0616931649679,
          40.432696800834975,
          21.329759893162294,
          21.878986103912325,
          28.10205117526914,
          34.988882976610796,
          34.767121618710874,
          6.795505113607331,
          7.324220034242798,
          21.02453282724401,
          11.16825077741093,
          25.17110940260629,
          24.11090871697594,
          23.48460812063349,
          17.776892103095847,
          1.4413698397964274,
          23.316054580758138,
          25.81741794271224,
          20.54464569624296,
          20.71956882485592,
          34.951512011843676,
          25.463156742052927,
          29.809919878317682,
          -3.0987332780927357,
          14.92701595635306,
          68.32285185173268,
          45.636486697306324,
          13.837764170934303,
          -4.893413156886845,
          28.262584473385477,
          6.529560228704328,
          9.53964447738755,
          43.52801737163154,
          11.058433124376128,
          -27.763085337569652,
          21.07260664808703,
          14.194052173865565,
          23.48465838559489,
          1.8541165454556503,
          -1.0913081046250688,
          18.083563876581334,
          23.77104580675366,
          21.203191543379997,
          9.89269515889725,
          32.385531508369795,
          12.79095403698455,
          21.59192989185846,
          42.984984918773975,
          -4.695611288705609,
          37.069523940585526,
          52.81514818430111,
          4.56318395275937,
          10.965438740147237,
          34.32546647306627,
          52.70512437059638,
          19.9908802330035,
          34.566973081672025,
          26.00763899429096,
          -0.8495209117684949,
          14.000537374139856,
          24.49192597505624,
          36.549584892008106,
          11.74193043371659,
          15.856847434488191,
          -5.51233071480508,
          2.8549196751787633,
          29.255347760430883,
          40.920042192226234,
          8.835660431966591,
          30.14551762594816,
          20.231461726310563,
          13.919258498973017,
          2.6978709970011616,
          27.031306259419924,
          64.41117579857377,
          -24.756261579385303,
          12.997564779302612,
          49.25900105660131,
          8.969169743556925,
          -0.32800537977779876,
          24.358497125436994,
          16.33094798925203,
          34.645167220378895,
          26.343490320996,
          23.007335424421775,
          20.500138160634155,
          8.989042786489883,
          50.00629555593148,
          14.628571517183552,
          4.371015537429857,
          32.986708618090574,
          13.026651831202503,
          -19.38611692340182,
          1.5925532272482945,
          28.47014996575522,
          0.5177044648573687,
          24.14288263470055,
          38.85040606790739,
          2.4865958052433355,
          -11.449630737059174,
          -24.350429199880132,
          11.68556290661382,
          13.848471651049172,
          21.07667313735305,
          25.41490645051398,
          4.6763081562801565,
          -29.642193835933305,
          -1.1262765706027023,
          41.43553082826664,
          30.579135324153672,
          34.70378411007658,
          55.018216033334625,
          16.704328226943808,
          17.559553971033964,
          45.511952123070834,
          18.446346225754834,
          6.097395624837287,
          25.87221976490568,
          -9.376055884697216,
          -23.712887893423503,
          26.16522836905826,
          37.553455573189204,
          31.738284215387537,
          30.001954067393978,
          -30.05256634576263,
          27.54138795198129,
          -7.155102587899087,
          -4.148169003962574,
          0.07808956154821689,
          33.90756007868006,
          41.342804639624646,
          58.691048102538936,
          43.84478658680206,
          6.09062121259965,
          -8.459736778656179,
          12.937607717303234,
          20.98043820109311,
          29.07921988269202,
          29.247308897490566,
          17.027653330839218,
          21.761470021616514,
          30.967238717272096,
          5.71751189690482,
          -11.146694673033132,
          -15.760662236823663,
          20.870443521768866,
          20.362305431878422,
          42.46035225897678,
          -3.2493966698358188,
          27.79421409008267,
          -17.289725993215843,
          20.56996146511818,
          -8.272310906965014,
          47.26248365808903,
          14.309618078180087,
          36.893513389670524,
          29.344632412994752,
          36.09977672235096,
          6.320199740311364,
          27.751698988685096,
          13.57515530914301,
          14.852388848408834,
          34.75409699701408,
          71.73376383173411,
          20.436610719300447,
          31.00851448228756,
          49.2696369942366,
          -38.35011109890549,
          6.888719337814406,
          6.0202971342590175,
          23.126332592619125,
          23.268712161617998,
          45.573135766524494,
          4.717272406504841,
          28.618160314191798,
          32.20211363932725,
          40.605088590269446,
          19.350300137053022,
          8.381031415534844,
          14.097537317569623,
          14.665989712790003,
          61.421679850566356,
          -25.42988592449839,
          5.503992232576002,
          -36.165058340376625,
          20.661516299257414,
          9.493994967271094,
          26.908067515504207,
          23.938959397958843,
          36.88121518124853,
          -3.8243181744299277,
          34.26467143687208,
          11.555440008917628,
          6.244284287511145,
          35.70359674304605,
          22.921292417544514,
          5.211844781193387,
          15.35602569105366,
          11.74971915389319,
          38.00949497164863,
          36.15509354783254,
          -2.386691831081605,
          7.408781242195637,
          -1.6865091679598403,
          23.29797332816442,
          66.16523590868,
          41.71743302733057,
          4.543783199191809,
          -1.3397750363337484,
          -9.120242948643547,
          43.624500749248774,
          20.595117767800993,
          -24.960242716135266,
          -2.125258186543255,
          34.38066194883122,
          8.288066382261636,
          51.16389035667348,
          10.435666456613916,
          31.13918531355132,
          -12.872227916346567,
          36.989290515923834,
          56.55526438766323,
          27.26371776508152,
          17.048791831468897,
          27.068263653737134,
          71.98767367523327,
          4.779468713634697,
          16.929032894475785,
          44.86574014791625,
          -14.81883668764657,
          40.180814602776984,
          -6.7906613725051415,
          68.11911561380639,
          38.12224770509848,
          0.6361681361521543,
          21.662054428834836,
          14.32649100447469,
          -3.188543585341766,
          26.38337419995799,
          12.110483115376372,
          21.62845828958861,
          41.74060129391353,
          -8.804739280396511,
          20.60792784766045,
          19.679077195637493,
          -0.3879422992829701,
          32.56458743838272,
          11.229296792251603,
          51.38841890588902,
          15.191365286317971,
          66.03830972035696,
          6.074329610527967,
          13.958169968301515,
          21.49941324178499,
          13.001633809000133,
          15.754508878232635,
          21.20183243700548,
          35.16837759797086,
          31.676145029491742,
          2.7040507676733605,
          31.36527096001398,
          -5.394232057002291,
          25.155633527599253,
          11.397748890971936,
          21.54795114717956,
          -10.742102377318435,
          8.631642970536282,
          27.15861075276141,
          28.821451972749383,
          43.835840635093405,
          35.65380322463657,
          19.43462257152643,
          45.710639958961174,
          46.82614373413368,
          56.282329494835516,
          35.69000418062149,
          56.60587650053148,
          17.630307605434606,
          42.53442067146942,
          39.1628990621468,
          8.064773785168097,
          -1.9566230079136688,
          -16.77232986639207,
          66.966300899392,
          23.880003367825182,
          -18.888007644588562,
          0.5040545235854843,
          8.351674191777493,
          33.27761260998263,
          44.7246858799588,
          27.86505662469706,
          56.319010925732215,
          33.39746708678963,
          13.166998727843582,
          -8.998174254547015,
          14.61976256011986,
          2.4733468779154806,
          -5.180388301339306,
          -3.5884267124122156,
          13.585033893685733,
          23.765998957274448,
          13.899747742278418,
          24.7039001479852,
          27.448185346729638,
          43.82620530961581,
          -0.1509249428225945,
          25.90139193443786,
          6.574653383757409,
          33.780856814759645,
          18.771460592640356,
          6.857192199027448,
          69.3522222420648,
          20.81585549671951,
          4.051090104218524,
          20.4209274773836,
          31.822511829214882,
          31.840841419310152,
          -20.167933314881164,
          46.01491835785139,
          84.84781551843352,
          28.06562071754862,
          12.671358555892976,
          64.95931123377042,
          23.711014660817227,
          5.587678713185124,
          -14.973608672951839,
          11.50110907446412,
          8.102905620922012
         ],
         "xaxis": "x3",
         "yaxis": "y3"
        },
        {
         "marker": {
          "color": "#d62728"
         },
         "name": "12 mes(es)",
         "nbinsx": 30,
         "opacity": 0.7,
         "type": "histogram",
         "x": [
          61.25276351962241,
          97.62529778023614,
          79.68335854741268,
          60.05276246424949,
          3.3885927157375093,
          -0.6764114614013605,
          -15.483784094915404,
          50.98086589090085,
          46.76573584591875,
          28.88055548484537,
          62.60711685805618,
          48.718862424577374,
          34.38325985503166,
          69.07019390713202,
          22.21537749300979,
          69.48065460724311,
          128.90667445327304,
          73.23636275110444,
          -19.4827439462467,
          75.01834775859922,
          55.53035802636115,
          73.54176537601185,
          40.977244774247204,
          42.334536972667074,
          84.08723840305655,
          55.72089229774042,
          62.91647458115296,
          28.186468353892852,
          64.1593475021408,
          77.73277049750939,
          54.23096443180905,
          90.28348694751932,
          12.952980915371676,
          -3.602867651587532,
          124.41037376821026,
          130.94641933909745,
          37.39057428796973,
          53.569149123708456,
          -33.528607529951564,
          56.37709298008813,
          74.02464033109233,
          100.82105775142362,
          39.95424676555491,
          20.837260677183707,
          96.08710748987292,
          73.01983175941179,
          68.64196017259074,
          29.454350906830197,
          44.69915956206992,
          118.36468100190925,
          25.270107860320252,
          58.48522547784635,
          3.797286167582964,
          116.40321525681108,
          41.02722790105429,
          24.321367800141523,
          58.87258973115328,
          11.828825714569552,
          45.710221702924265,
          -30.018036733782765,
          56.2884370818806,
          50.33283507338946,
          34.00986794469055,
          70.11587066502496,
          -64.71145644369238,
          52.75524524022206,
          71.66054368331363,
          82.20936450706718,
          34.045862252519875,
          17.342096845061604,
          77.27189953654445,
          34.551798768884886,
          74.35691444577932,
          58.808679181844205,
          39.905693206917256,
          95.48056333769779,
          37.576716256987005,
          -21.503709235074002,
          54.2964260424989,
          73.97783222639609,
          5.4262780984960735,
          86.6401923849185,
          74.00157252531076,
          23.851778258677232,
          56.98661277673269,
          58.966340634767214,
          48.86888154208993,
          82.68533181569686,
          16.70821742337057,
          64.48760993139003,
          13.301782151710073,
          73.23669530041926,
          15.515822431057892,
          21.170999414336084,
          31.226770968928037,
          51.37658360202575,
          49.67527047822852,
          -0.5696771322265481,
          48.486488065797865,
          21.28747400032713,
          30.600053246623567,
          50.86235199941692,
          80.990772637168,
          28.21980968925252,
          -10.88979517580358,
          58.38309736541949,
          -15.661147890640986,
          17.984731623036037,
          77.14919746994893,
          57.89412310540273,
          49.85574485183541,
          -11.115771092855281,
          -20.436671377199705,
          91.56094119296047,
          112.32454092761867,
          35.5211498267547,
          1.5874210605396177,
          14.727058895670664,
          27.706899974746207,
          -21.37754879690586,
          37.60625635997805,
          68.11784821709227,
          51.7566381469887,
          62.394581743490306,
          58.04601423722566,
          80.14192839161225,
          29.01749166482689,
          -12.756034175134973,
          -5.874323354301753,
          81.72880570671343,
          96.09285999088144,
          43.70575337792469,
          86.80190478682323,
          70.62854869082534,
          58.94288008239218,
          56.61101332609796,
          1.292171518567048,
          -8.443933660582609,
          68.08227495365588,
          56.182381348019405,
          70.26456148793866,
          132.3511933823162,
          70.33553833086832,
          41.62195229309923,
          0.42449714914369885,
          27.969103037785725,
          47.35365762668424,
          67.31976705371795,
          -3.1418894541903883,
          78.43652970410764,
          0.010033767845796238,
          55.901007272520786,
          23.844364188954213,
          43.110640010615526,
          60.39040592689731,
          23.104310937562474,
          13.34253783668274,
          30.387421897590567,
          45.0410706183746,
          -17.566613042084807,
          46.25979187749434,
          61.74117316453898,
          32.358511015888396,
          -40.88193568484227,
          49.10902571888035,
          84.20171044977039,
          73.95794683114525,
          34.49672935322646,
          64.5535563850264,
          33.693056314465764,
          37.11669543997561,
          48.56718159399473,
          13.515116937995186,
          74.27206522617836,
          106.83621220579526,
          87.14820588914395,
          34.12139874377672,
          43.094062817418134,
          65.89847658842717,
          27.462765897033336,
          55.23636719032745,
          7.906127769350357,
          106.58935305430815,
          38.92887852947348,
          31.272338954622782,
          13.0120635036307,
          19.769174150448578,
          -5.500155595369654,
          69.91448036526033,
          -49.01373160670556,
          76.80094709573326,
          79.56700319388966,
          6.956835240085985,
          41.07363457739977,
          42.243127770191784,
          39.07254755953181,
          -11.572329508187746,
          39.15109425653226,
          -56.580539483054636,
          26.399599298534348,
          68.26775584852192,
          46.96603662817299,
          22.618112306236192,
          8.211886469839191,
          53.6769507732896,
          21.730038278308815,
          85.96960663748771,
          30.360439493025375,
          38.547625287825525,
          72.38887577615532,
          35.74973737437124,
          78.58653965408196,
          26.250432714868154,
          47.9607864192415,
          9.701372881339744,
          -4.446167756307895,
          -13.768754575520287,
          66.46242814134563,
          -2.316487220530111,
          18.76988038186065,
          80.37437336102606,
          29.154476697921478,
          41.59955663704251,
          40.31771930254819,
          -16.919825387780403,
          38.51923965339725,
          -2.6275790215736228,
          -10.349545064182324,
          58.04987541624784,
          48.13456049567798,
          -10.309369082389969,
          -48.06953933538266,
          52.64798852056737,
          10.699021348007864,
          51.169700119512896,
          24.588237674232527,
          -17.05683075986684,
          27.238385950854184,
          -3.8686159924083197,
          70.95822743783424,
          31.446654080301307,
          67.05323108371702,
          89.62857240721964,
          -2.9423341698342877,
          -14.97908389025549,
          14.799456963809659,
          73.2143208864356,
          72.84937391268248,
          65.5880795554721,
          34.856455939560014,
          42.210858798824766,
          61.98888792828154,
          35.57283762421708,
          -5.926754159712616,
          125.47793072027224,
          72.56928609868935,
          82.66231793904282,
          81.433130616644,
          24.1725556051246,
          94.8957080906137,
          -36.67909614193146,
          42.14267941307481,
          109.90933373884995,
          105.00741299099943,
          21.170420974509202,
          60.734300106841346,
          37.88285596868386,
          51.90113838921532,
          32.81248426601496,
          -4.3843224805375005,
          -43.00945508866561,
          69.12687437055563,
          108.01190193257557,
          35.92922501402947,
          57.31835328139214,
          25.113307610078255,
          40.41294539019579,
          37.14597136792111,
          -11.13314917151929,
          51.26173923211317,
          24.509722233985254,
          26.49875426637357,
          101.02450830699617,
          34.81484564710666,
          63.32288022681332,
          106.79154984781427,
          0.0838732910699358,
          11.32063234023949,
          64.519987733629,
          57.62237756907409,
          50.59674930300373,
          121.25395434232662,
          30.790546856904633,
          -7.0249108319898665,
          -11.861403063347058,
          86.92769986796733,
          13.923441138332176,
          41.323691662131225,
          123.6354794105032,
          29.779074184109184,
          50.910849364772915,
          -12.55589571850127,
          54.09039325039712,
          14.093767986636403,
          53.57580653733138,
          42.31381857939074,
          63.45061082315363,
          31.55927366260022,
          44.05961988557273,
          11.834270091519095,
          61.976509366655065,
          44.490934970146675,
          79.36155643337925,
          59.40783469498218,
          82.89309855365015,
          70.69013392228294,
          -37.70625982153362,
          54.48537976646006,
          19.262179085835417,
          72.76884923926714,
          25.23205934225649,
          76.75261825407478,
          88.0628051168981,
          91.7417095884401,
          35.14375920063893,
          45.93748795249596,
          -24.617778513871386,
          13.833858527265535,
          -21.85441261884983,
          46.06196402940378,
          42.22756517668807,
          117.3896381251744,
          67.02538373863617,
          19.70455553123497,
          8.912670178534048,
          -6.290456641920322,
          46.92541733356189,
          12.94416006904081,
          35.800115933097246,
          107.1766878473481,
          75.27367004662653,
          -19.19408930971858,
          44.29442645433968,
          93.47424528964436,
          17.33215613846049,
          -24.79185177764725,
          35.218542225600004,
          50.15927683976822,
          76.9734995494152,
          77.29290485850517,
          51.78270950689223,
          62.1841307313663,
          49.23666021118447,
          66.12535893292318,
          32.15104397973391,
          4.25506745590265,
          16.20701147287148,
          12.813814167748944,
          118.03109175387854,
          67.35493101535451,
          50.880398465004596,
          40.90240865231869,
          62.22668122337524,
          -14.257848729809425,
          58.546387299365854,
          19.777267239271907,
          58.69410761754984,
          18.140946168702303,
          90.93180614273673,
          35.12075691568119,
          23.87216213477194,
          65.81350023583857,
          103.06126218553189,
          99.84648203210233,
          38.79873754494787,
          43.08929882853976,
          93.27812616164452,
          85.40361479493562,
          61.561201757360664,
          9.839044183352058,
          -0.21744472084297417,
          38.680911815445235,
          34.187565569517645,
          22.329766813244873,
          51.111429451088064,
          43.08625016574857,
          18.154468119755506,
          28.293967287642584,
          34.37012967804646,
          86.20686228289236,
          -48.246902972864,
          89.08053793543033,
          58.83727721884966,
          52.13889792172219,
          -19.1003315472389,
          3.8156014681847816,
          34.75488706117005,
          94.53833361721668,
          59.193652355984014,
          38.75014791328463,
          65.98716613033795,
          37.471444400582676,
          2.9598230872062925,
          63.62436891999928,
          76.92656648134988,
          62.193762056772265,
          57.5138357846703,
          15.319307439139074,
          -79.2792503479756,
          87.05755943232363,
          51.684087498081844,
          44.06653667825946,
          23.592491628794548,
          79.62000229116668,
          -13.085912895369628,
          -14.058885836435481,
          40.70854493627318,
          -8.869031394879329,
          99.66707145464582,
          67.24749542083957,
          14.618344110262704,
          63.8097275304151,
          34.170639633739455,
          45.42562534714109,
          47.07467231242762,
          128.94515945544848,
          61.041853429811866,
          26.476284387360167,
          23.602702872872992,
          37.27235075078744,
          89.71720517418746,
          24.099421396987676,
          64.71462620634114,
          54.66404043140851,
          76.1997055925487,
          9.065222441785476,
          51.458495270477734,
          101.77220605509135,
          49.120652078292984,
          34.80462902998149,
          67.91270200968147,
          72.13383083320156,
          48.75125416535957,
          45.668047631150195,
          45.120383276485775,
          37.181113792162925,
          16.022120191323864,
          59.49991179099718,
          10.997027613616407,
          26.735621670146287,
          89.3312420540345,
          70.67038603666276,
          15.691762103272373,
          86.27191653584629,
          53.41897969747651,
          119.10024046655991,
          6.514172890439224,
          20.987055496677115,
          36.55548445803466,
          23.984380216566894,
          37.891794510439645,
          29.449509544141016,
          17.969472019564904,
          6.917467110365632,
          -31.100023607559674,
          58.91775820091172,
          18.435638673934378,
          27.63943375955599,
          44.2098755076492,
          73.21583448468671,
          74.86138972127824,
          7.750332853135161,
          48.14326832509938,
          73.14361106815717,
          0.09896474368751296,
          102.65239981880525,
          -15.168589356481615,
          -16.908502324912515,
          -41.00589939543255,
          64.9829161964818,
          32.412554940152596,
          70.92460051294145,
          -0.20349111361810945,
          51.97238007491235,
          40.11074866393594,
          71.26050692819564,
          130.70378417454913,
          -15.29392674599715,
          51.87936083032747,
          40.133946881264386,
          66.19437701205734,
          73.19160853576383,
          -17.855625780444345,
          -39.85217396697777,
          102.4587340928829,
          20.71098045679114,
          21.727025487786005,
          52.56899037149676,
          49.97947216168328,
          91.00143439765431,
          56.9772824484666,
          20.843313224939415,
          62.69185791928582,
          77.04305759701546,
          19.932234450283186,
          33.05543007692534,
          38.83653839450996,
          -12.260219651541831,
          31.53583618224739,
          59.85627637582478,
          73.14488972827829,
          71.44794803225253,
          -29.423601463571398,
          47.83629367936219,
          41.350404327455486,
          -7.799729774424508,
          62.82354284990584,
          37.55400739741296,
          122.40219162217387,
          -13.974942849429356,
          -8.315823610031309,
          -24.92618524767624,
          12.010555216593332,
          42.53870081714069,
          95.20259627090549,
          67.88044560815628,
          -67.22240838821169,
          9.600425198923718,
          78.84269315415864,
          102.70938607970366,
          87.20690734566341,
          117.06360190288166,
          6.188809583933985,
          86.132729999644,
          25.453610032804374,
          55.45647790181142,
          65.60155637108072,
          62.75448087554862,
          23.296440671618495,
          -24.69169615723658,
          16.882274498571725,
          -13.132617839169441,
          117.80602038136338,
          -45.74255906642965,
          66.31055892712374,
          43.77689299852579,
          43.16658947685653,
          20.91611352344945,
          114.98327753006836,
          83.87358926480616,
          108.50674323164549,
          63.569209750228886,
          20.33491451449128,
          24.317351428279117,
          85.17905394081338,
          46.93570357493434,
          29.36241689718957,
          51.191652100512755,
          119.4099180922525,
          39.33097244816736,
          23.831396995523107,
          72.50789601967823,
          98.73553069201697,
          86.02189180684367,
          130.25076350135845,
          18.03916204564188,
          104.57851855610521,
          39.64798438614893,
          76.03811993665173,
          31.76970435633063,
          52.53025734035368,
          14.872670186837016,
          -24.987974647707528,
          13.357215773547825,
          27.243744125476375,
          39.66354974759657,
          19.202057155743585,
          41.176962156134,
          57.635962376020736,
          -5.303285200196811,
          71.45759991787068,
          31.83121326957573,
          21.770902553527915,
          91.63723791316592,
          -33.440930905252955,
          59.5091539691869,
          42.238761883059695,
          27.712982711067735,
          88.10101311078111,
          -17.02611565342381,
          23.39094125275064,
          -1.5308690261414681,
          53.54759089623371,
          60.06478195163649,
          43.18240015144797,
          8.161367702806505,
          96.2240420992954,
          21.8913784010352,
          -15.046743391425027,
          2.926415943103422,
          49.82198533218706,
          10.705669439375637,
          20.743041051357604,
          39.61214797460363,
          32.80111882858586,
          68.44246506586617,
          21.006124708418316,
          56.77248684385685,
          25.456062365901676,
          24.61544340234209,
          59.79449302098345,
          60.80702651665265,
          86.3863980370535,
          29.72550037479902,
          69.86522213356197,
          36.56069320769023,
          49.630029645732925,
          57.10574777061321,
          99.67028306035515,
          1.491034227019683,
          8.872599518815322,
          37.497757714217606,
          49.69773774870464,
          16.558057943415587,
          42.448838028686495,
          29.304499806551163,
          -17.29776853597101,
          109.73216829724532,
          -2.071124448718109,
          67.3950007618759,
          -1.2558803798794205,
          98.81599616907013,
          6.812837146404277,
          17.287198756773886,
          64.40336514639709,
          89.61164806103471,
          -11.860526272748345,
          63.7446884122567,
          97.10254952877062,
          33.82197523502698,
          93.60635038018455,
          64.75063954095151,
          46.91588385544367,
          30.01080025177251,
          91.15202468966253,
          29.972839843645637,
          32.95046748701591,
          128.25458694648492,
          35.52987693097331,
          -0.1828475689767739,
          61.89625329415267,
          83.26926961249072,
          153.22496138457743,
          82.85378334784642,
          25.59327068928814,
          -5.417875231697078,
          17.074695189612342,
          61.9186077886463,
          -17.798751286103638,
          -12.886000839296347,
          82.83184435536953,
          -7.101826629494118,
          82.39009514660884,
          64.98769491216062,
          25.187416401850633,
          66.56530368966884,
          67.96332439031912,
          65.19717809083467,
          -20.7303700685545,
          26.856753625048647,
          44.376100616774636,
          45.13106089965784,
          40.1970061733797,
          39.4636667082481,
          29.131019784077605,
          -5.107882506058309,
          -4.999886897941147,
          -5.86676084187257,
          13.995330920015947,
          37.744210387517214,
          34.522718095813495,
          48.149534840916495,
          33.78385477734101,
          -8.039454467215961,
          46.67957817743318,
          9.06385266444687,
          7.639329839195619,
          67.80896646917027,
          72.51980893485963,
          -22.09779018360531,
          71.34559444882323,
          9.980795636810102,
          14.120805486823084,
          35.77813896289991,
          6.05324257119722,
          81.39296105337957,
          58.72542585924185,
          52.68741470463374,
          81.83612760070076,
          54.8487769554307,
          48.809996498909705,
          -18.89761336101194,
          53.192574263886215,
          75.46709488352812,
          19.72881439429962,
          35.77385695497172,
          84.85104548459702,
          58.54775721919248,
          23.644283178560745,
          14.023834504538051,
          112.39957125403248,
          12.012456548572976,
          5.0288208996640655,
          6.695256731664545,
          98.34470671994397,
          -31.382624020688638,
          80.44174716564932,
          37.94912113900999,
          11.005358345118015,
          40.878261387534685,
          11.085825565659157,
          29.903974978788415,
          -3.35947013465141,
          58.72871562576687,
          112.02975741341554,
          70.00818047197063,
          8.855564234278646,
          60.61889219396491,
          -18.305348191000597,
          39.427431595844496,
          11.879614164441648,
          87.25827823287142,
          36.76798824022823,
          56.45797035269331,
          111.79377770902947,
          91.4470494630816,
          49.90451159984805,
          -15.765860114823942,
          59.99124942142748,
          12.124396205874232,
          32.74893828135311,
          20.34299984323263,
          10.43414497645832,
          70.97187516995697,
          65.76194610480965,
          62.06676948431513,
          10.3717715533362,
          25.93676576426345,
          53.974220227677726,
          -24.850873119981127,
          67.73611909237613,
          84.59607849512312,
          99.65311657139577,
          16.531308503078296,
          25.311942224136885,
          34.110363689753605,
          12.229872724996477,
          -16.667959868649202,
          60.66499762624326,
          117.32255486307079,
          69.90522246049548,
          74.59016873880799,
          26.371299502390507,
          28.82454865648423,
          26.649653823487384,
          55.45294673944742,
          16.631290258276305,
          77.45592090452845,
          79.54539120872056,
          6.742436064168605,
          52.92043067637371,
          44.02666961509832,
          67.21879462125322,
          25.598043166955698,
          112.33332657477031,
          91.47899278258014,
          -2.8844095875530384,
          50.04373057980661,
          48.95029318623757,
          28.735975941334786,
          40.05489840312563,
          38.74166345053485,
          62.27130930837777,
          25.455021477961417,
          42.21032194342776,
          33.19311068098878,
          32.89703712086717,
          12.88676861009408,
          38.80345999946541,
          70.38120668194652,
          23.84524897681056,
          7.246443305870653,
          -1.0673251319647525,
          20.27440973487445,
          2.351154288702201,
          45.81467773796439,
          17.567471444429028,
          73.23099123431804,
          47.04749459256038,
          28.822604414521436,
          30.73021228166412,
          55.286732888224996,
          51.73247812395723,
          70.44209618059756,
          65.45566866012197,
          12.115710251669498,
          7.185052160617761,
          29.59525052799362,
          71.88507830473925,
          57.71168198415035,
          55.317368666103015,
          30.96093544249412,
          89.8006359167565,
          57.346521450909606,
          106.42189226538375,
          44.16230989253469,
          65.72255908244917,
          7.187496230294949,
          -29.582747974756558,
          94.55603567752873,
          5.421078419439329,
          35.8733014920094,
          14.932120590901004,
          25.70731426576498,
          -15.055166250972047,
          41.09593137678828,
          60.70059925655515,
          13.457111319225096,
          55.606865830978315,
          -10.143062647187845,
          90.24599881765623,
          31.233236577109498,
          96.14134552331615,
          12.041975664835098,
          40.54144751363191,
          23.178885382157457,
          96.30127598112408,
          54.24799559390071,
          39.79734366751114,
          58.256188693081,
          87.56072795528542,
          46.032875783494234,
          9.548192811789763,
          75.71223738258614,
          32.422521313842246,
          102.70501228360042,
          51.730128690738375,
          44.961453223909096,
          56.97417213747569,
          28.918442382212124,
          30.103953881525786,
          51.72113155569617,
          49.61808225352789,
          59.62969025884589,
          33.820442206981625,
          86.95531267549583,
          42.328242411280755,
          21.922067428133136,
          82.54701767907571,
          -5.481726438837181,
          63.932952132153694,
          32.75832814813254,
          40.9177191940596,
          100.51324160177924,
          -1.2002477579088844,
          -49.81981234819134,
          30.90589188892048,
          63.499785983031586,
          58.891277570031484,
          84.13740631383023,
          -12.78131984487731,
          72.12103892662618,
          -9.451196035468396,
          85.26200522366652,
          88.72812662491634,
          20.342486741102647,
          48.87447069717353,
          68.22560228602511,
          37.60858227920074,
          88.19792304077373,
          48.221925853143915,
          32.73528944583353,
          72.52252307355371,
          78.61988381381833,
          73.47627598566625,
          30.55910429438251,
          53.42439435734272,
          17.444293036545826,
          43.51472766475022,
          -18.6994462598224,
          66.86450455359831,
          93.75608512763047,
          7.751428549736083,
          31.716331742237557,
          70.18542197650407,
          48.76615611172061,
          43.47597264142126,
          24.2352353610221,
          70.4977848826774,
          95.81097325674736,
          41.123817424272836,
          25.39686797947255,
          48.76764961896946,
          24.991479684579243,
          51.04404040715574,
          11.25214183350164,
          32.444075148673825,
          88.23278388988956,
          39.765539155183035,
          1.2957989075379373,
          91.81808837165167,
          42.811928012508865,
          42.3787104575616,
          45.72294632275006,
          65.07347102049445,
          -13.478622743191421,
          48.02350831914748,
          24.27892423666948,
          9.298788391067687,
          55.28478921703296,
          12.846723237676445,
          105.03095441476353,
          -48.32142914533373,
          76.79349926937033,
          11.305005634786891,
          2.0494147347926814,
          -22.05990134286287,
          55.15718404530375,
          8.871831035241556,
          51.43343278552065,
          37.97155466074484,
          71.51141547049839,
          71.84719413751893,
          32.548857943862394,
          37.5651459939034,
          69.45371605325626,
          2.719444217513928,
          65.18890506694653,
          34.98406937973941,
          101.93181293327322,
          73.73422892038035,
          9.062190976612595,
          65.98146001455176,
          14.383095912861792,
          78.49733361990099,
          127.85718163015973,
          48.617011820863496,
          9.323844513358331,
          13.710307379971887,
          35.701437576557154,
          5.473069713036671,
          32.409877158269715,
          -9.119941464728704,
          2.506143564010499,
          125.0822461819578,
          25.820011437097435,
          -9.812988476292633,
          48.47902569744893,
          21.702879541798136,
          44.22035747636665,
          4.0063421100073215,
          93.12821347109117,
          69.76870618874331,
          48.449471566205084,
          68.58693031836334,
          23.844608519715564,
          -28.146024090416162,
          11.813032036662662,
          71.3754611352515,
          57.515955851950416,
          150.1073136635307,
          8.13400463320511,
          70.51337804905083,
          96.95231839943497,
          99.79980892541309,
          43.92405980537818,
          48.90135794370266,
          87.83526330111482,
          93.56792581864939,
          17.3070855553741,
          -40.824936138652795,
          104.33618238344708,
          107.81468584634368,
          13.46826761738209,
          67.41189187172827,
          63.60939844134131,
          10.96307307129168,
          20.07815053796399,
          30.15609415089407,
          50.23602752908249,
          54.72750629109247,
          48.711693122291635,
          155.813266448146,
          29.114473876793657,
          60.01344764873252,
          -30.32198464104899,
          84.26856673945004,
          59.38755827683953,
          -0.7636194854362788,
          30.859657124232854
         ],
         "xaxis": "x4",
         "yaxis": "y4"
        }
       ],
       "layout": {
        "annotations": [
         {
          "font": {
           "size": 16
          },
          "showarrow": false,
          "text": "1 Mes (GARCH)",
          "x": 0.225,
          "xanchor": "center",
          "xref": "paper",
          "y": 1,
          "yanchor": "bottom",
          "yref": "paper"
         },
         {
          "font": {
           "size": 16
          },
          "showarrow": false,
          "text": "3 Meses (GARCH)",
          "x": 0.775,
          "xanchor": "center",
          "xref": "paper",
          "y": 1,
          "yanchor": "bottom",
          "yref": "paper"
         },
         {
          "font": {
           "size": 16
          },
          "showarrow": false,
          "text": "6 Meses (GARCH)",
          "x": 0.225,
          "xanchor": "center",
          "xref": "paper",
          "y": 0.375,
          "yanchor": "bottom",
          "yref": "paper"
         },
         {
          "font": {
           "size": 16
          },
          "showarrow": false,
          "text": "12 Meses (GARCH)",
          "x": 0.775,
          "xanchor": "center",
          "xref": "paper",
          "y": 0.375,
          "yanchor": "bottom",
          "yref": "paper"
         }
        ],
        "height": 600,
        "showlegend": false,
        "template": {
         "data": {
          "bar": [
           {
            "error_x": {
             "color": "#2a3f5f"
            },
            "error_y": {
             "color": "#2a3f5f"
            },
            "marker": {
             "line": {
              "color": "#E5ECF6",
              "width": 0.5
             },
             "pattern": {
              "fillmode": "overlay",
              "size": 10,
              "solidity": 0.2
             }
            },
            "type": "bar"
           }
          ],
          "barpolar": [
           {
            "marker": {
             "line": {
              "color": "#E5ECF6",
              "width": 0.5
             },
             "pattern": {
              "fillmode": "overlay",
              "size": 10,
              "solidity": 0.2
             }
            },
            "type": "barpolar"
           }
          ],
          "carpet": [
           {
            "aaxis": {
             "endlinecolor": "#2a3f5f",
             "gridcolor": "white",
             "linecolor": "white",
             "minorgridcolor": "white",
             "startlinecolor": "#2a3f5f"
            },
            "baxis": {
             "endlinecolor": "#2a3f5f",
             "gridcolor": "white",
             "linecolor": "white",
             "minorgridcolor": "white",
             "startlinecolor": "#2a3f5f"
            },
            "type": "carpet"
           }
          ],
          "choropleth": [
           {
            "colorbar": {
             "outlinewidth": 0,
             "ticks": ""
            },
            "type": "choropleth"
           }
          ],
          "contour": [
           {
            "colorbar": {
             "outlinewidth": 0,
             "ticks": ""
            },
            "colorscale": [
             [
              0,
              "#0d0887"
             ],
             [
              0.1111111111111111,
              "#46039f"
             ],
             [
              0.2222222222222222,
              "#7201a8"
             ],
             [
              0.3333333333333333,
              "#9c179e"
             ],
             [
              0.4444444444444444,
              "#bd3786"
             ],
             [
              0.5555555555555556,
              "#d8576b"
             ],
             [
              0.6666666666666666,
              "#ed7953"
             ],
             [
              0.7777777777777778,
              "#fb9f3a"
             ],
             [
              0.8888888888888888,
              "#fdca26"
             ],
             [
              1,
              "#f0f921"
             ]
            ],
            "type": "contour"
           }
          ],
          "contourcarpet": [
           {
            "colorbar": {
             "outlinewidth": 0,
             "ticks": ""
            },
            "type": "contourcarpet"
           }
          ],
          "heatmap": [
           {
            "colorbar": {
             "outlinewidth": 0,
             "ticks": ""
            },
            "colorscale": [
             [
              0,
              "#0d0887"
             ],
             [
              0.1111111111111111,
              "#46039f"
             ],
             [
              0.2222222222222222,
              "#7201a8"
             ],
             [
              0.3333333333333333,
              "#9c179e"
             ],
             [
              0.4444444444444444,
              "#bd3786"
             ],
             [
              0.5555555555555556,
              "#d8576b"
             ],
             [
              0.6666666666666666,
              "#ed7953"
             ],
             [
              0.7777777777777778,
              "#fb9f3a"
             ],
             [
              0.8888888888888888,
              "#fdca26"
             ],
             [
              1,
              "#f0f921"
             ]
            ],
            "type": "heatmap"
           }
          ],
          "heatmapgl": [
           {
            "colorbar": {
             "outlinewidth": 0,
             "ticks": ""
            },
            "colorscale": [
             [
              0,
              "#0d0887"
             ],
             [
              0.1111111111111111,
              "#46039f"
             ],
             [
              0.2222222222222222,
              "#7201a8"
             ],
             [
              0.3333333333333333,
              "#9c179e"
             ],
             [
              0.4444444444444444,
              "#bd3786"
             ],
             [
              0.5555555555555556,
              "#d8576b"
             ],
             [
              0.6666666666666666,
              "#ed7953"
             ],
             [
              0.7777777777777778,
              "#fb9f3a"
             ],
             [
              0.8888888888888888,
              "#fdca26"
             ],
             [
              1,
              "#f0f921"
             ]
            ],
            "type": "heatmapgl"
           }
          ],
          "histogram": [
           {
            "marker": {
             "pattern": {
              "fillmode": "overlay",
              "size": 10,
              "solidity": 0.2
             }
            },
            "type": "histogram"
           }
          ],
          "histogram2d": [
           {
            "colorbar": {
             "outlinewidth": 0,
             "ticks": ""
            },
            "colorscale": [
             [
              0,
              "#0d0887"
             ],
             [
              0.1111111111111111,
              "#46039f"
             ],
             [
              0.2222222222222222,
              "#7201a8"
             ],
             [
              0.3333333333333333,
              "#9c179e"
             ],
             [
              0.4444444444444444,
              "#bd3786"
             ],
             [
              0.5555555555555556,
              "#d8576b"
             ],
             [
              0.6666666666666666,
              "#ed7953"
             ],
             [
              0.7777777777777778,
              "#fb9f3a"
             ],
             [
              0.8888888888888888,
              "#fdca26"
             ],
             [
              1,
              "#f0f921"
             ]
            ],
            "type": "histogram2d"
           }
          ],
          "histogram2dcontour": [
           {
            "colorbar": {
             "outlinewidth": 0,
             "ticks": ""
            },
            "colorscale": [
             [
              0,
              "#0d0887"
             ],
             [
              0.1111111111111111,
              "#46039f"
             ],
             [
              0.2222222222222222,
              "#7201a8"
             ],
             [
              0.3333333333333333,
              "#9c179e"
             ],
             [
              0.4444444444444444,
              "#bd3786"
             ],
             [
              0.5555555555555556,
              "#d8576b"
             ],
             [
              0.6666666666666666,
              "#ed7953"
             ],
             [
              0.7777777777777778,
              "#fb9f3a"
             ],
             [
              0.8888888888888888,
              "#fdca26"
             ],
             [
              1,
              "#f0f921"
             ]
            ],
            "type": "histogram2dcontour"
           }
          ],
          "mesh3d": [
           {
            "colorbar": {
             "outlinewidth": 0,
             "ticks": ""
            },
            "type": "mesh3d"
           }
          ],
          "parcoords": [
           {
            "line": {
             "colorbar": {
              "outlinewidth": 0,
              "ticks": ""
             }
            },
            "type": "parcoords"
           }
          ],
          "pie": [
           {
            "automargin": true,
            "type": "pie"
           }
          ],
          "scatter": [
           {
            "fillpattern": {
             "fillmode": "overlay",
             "size": 10,
             "solidity": 0.2
            },
            "type": "scatter"
           }
          ],
          "scatter3d": [
           {
            "line": {
             "colorbar": {
              "outlinewidth": 0,
              "ticks": ""
             }
            },
            "marker": {
             "colorbar": {
              "outlinewidth": 0,
              "ticks": ""
             }
            },
            "type": "scatter3d"
           }
          ],
          "scattercarpet": [
           {
            "marker": {
             "colorbar": {
              "outlinewidth": 0,
              "ticks": ""
             }
            },
            "type": "scattercarpet"
           }
          ],
          "scattergeo": [
           {
            "marker": {
             "colorbar": {
              "outlinewidth": 0,
              "ticks": ""
             }
            },
            "type": "scattergeo"
           }
          ],
          "scattergl": [
           {
            "marker": {
             "colorbar": {
              "outlinewidth": 0,
              "ticks": ""
             }
            },
            "type": "scattergl"
           }
          ],
          "scattermapbox": [
           {
            "marker": {
             "colorbar": {
              "outlinewidth": 0,
              "ticks": ""
             }
            },
            "type": "scattermapbox"
           }
          ],
          "scatterpolar": [
           {
            "marker": {
             "colorbar": {
              "outlinewidth": 0,
              "ticks": ""
             }
            },
            "type": "scatterpolar"
           }
          ],
          "scatterpolargl": [
           {
            "marker": {
             "colorbar": {
              "outlinewidth": 0,
              "ticks": ""
             }
            },
            "type": "scatterpolargl"
           }
          ],
          "scatterternary": [
           {
            "marker": {
             "colorbar": {
              "outlinewidth": 0,
              "ticks": ""
             }
            },
            "type": "scatterternary"
           }
          ],
          "surface": [
           {
            "colorbar": {
             "outlinewidth": 0,
             "ticks": ""
            },
            "colorscale": [
             [
              0,
              "#0d0887"
             ],
             [
              0.1111111111111111,
              "#46039f"
             ],
             [
              0.2222222222222222,
              "#7201a8"
             ],
             [
              0.3333333333333333,
              "#9c179e"
             ],
             [
              0.4444444444444444,
              "#bd3786"
             ],
             [
              0.5555555555555556,
              "#d8576b"
             ],
             [
              0.6666666666666666,
              "#ed7953"
             ],
             [
              0.7777777777777778,
              "#fb9f3a"
             ],
             [
              0.8888888888888888,
              "#fdca26"
             ],
             [
              1,
              "#f0f921"
             ]
            ],
            "type": "surface"
           }
          ],
          "table": [
           {
            "cells": {
             "fill": {
              "color": "#EBF0F8"
             },
             "line": {
              "color": "white"
             }
            },
            "header": {
             "fill": {
              "color": "#C8D4E3"
             },
             "line": {
              "color": "white"
             }
            },
            "type": "table"
           }
          ]
         },
         "layout": {
          "annotationdefaults": {
           "arrowcolor": "#2a3f5f",
           "arrowhead": 0,
           "arrowwidth": 1
          },
          "autotypenumbers": "strict",
          "coloraxis": {
           "colorbar": {
            "outlinewidth": 0,
            "ticks": ""
           }
          },
          "colorscale": {
           "diverging": [
            [
             0,
             "#8e0152"
            ],
            [
             0.1,
             "#c51b7d"
            ],
            [
             0.2,
             "#de77ae"
            ],
            [
             0.3,
             "#f1b6da"
            ],
            [
             0.4,
             "#fde0ef"
            ],
            [
             0.5,
             "#f7f7f7"
            ],
            [
             0.6,
             "#e6f5d0"
            ],
            [
             0.7,
             "#b8e186"
            ],
            [
             0.8,
             "#7fbc41"
            ],
            [
             0.9,
             "#4d9221"
            ],
            [
             1,
             "#276419"
            ]
           ],
           "sequential": [
            [
             0,
             "#0d0887"
            ],
            [
             0.1111111111111111,
             "#46039f"
            ],
            [
             0.2222222222222222,
             "#7201a8"
            ],
            [
             0.3333333333333333,
             "#9c179e"
            ],
            [
             0.4444444444444444,
             "#bd3786"
            ],
            [
             0.5555555555555556,
             "#d8576b"
            ],
            [
             0.6666666666666666,
             "#ed7953"
            ],
            [
             0.7777777777777778,
             "#fb9f3a"
            ],
            [
             0.8888888888888888,
             "#fdca26"
            ],
            [
             1,
             "#f0f921"
            ]
           ],
           "sequentialminus": [
            [
             0,
             "#0d0887"
            ],
            [
             0.1111111111111111,
             "#46039f"
            ],
            [
             0.2222222222222222,
             "#7201a8"
            ],
            [
             0.3333333333333333,
             "#9c179e"
            ],
            [
             0.4444444444444444,
             "#bd3786"
            ],
            [
             0.5555555555555556,
             "#d8576b"
            ],
            [
             0.6666666666666666,
             "#ed7953"
            ],
            [
             0.7777777777777778,
             "#fb9f3a"
            ],
            [
             0.8888888888888888,
             "#fdca26"
            ],
            [
             1,
             "#f0f921"
            ]
           ]
          },
          "colorway": [
           "#636efa",
           "#EF553B",
           "#00cc96",
           "#ab63fa",
           "#FFA15A",
           "#19d3f3",
           "#FF6692",
           "#B6E880",
           "#FF97FF",
           "#FECB52"
          ],
          "font": {
           "color": "#2a3f5f"
          },
          "geo": {
           "bgcolor": "white",
           "lakecolor": "white",
           "landcolor": "#E5ECF6",
           "showlakes": true,
           "showland": true,
           "subunitcolor": "white"
          },
          "hoverlabel": {
           "align": "left"
          },
          "hovermode": "closest",
          "mapbox": {
           "style": "light"
          },
          "paper_bgcolor": "white",
          "plot_bgcolor": "#E5ECF6",
          "polar": {
           "angularaxis": {
            "gridcolor": "white",
            "linecolor": "white",
            "ticks": ""
           },
           "bgcolor": "#E5ECF6",
           "radialaxis": {
            "gridcolor": "white",
            "linecolor": "white",
            "ticks": ""
           }
          },
          "scene": {
           "xaxis": {
            "backgroundcolor": "#E5ECF6",
            "gridcolor": "white",
            "gridwidth": 2,
            "linecolor": "white",
            "showbackground": true,
            "ticks": "",
            "zerolinecolor": "white"
           },
           "yaxis": {
            "backgroundcolor": "#E5ECF6",
            "gridcolor": "white",
            "gridwidth": 2,
            "linecolor": "white",
            "showbackground": true,
            "ticks": "",
            "zerolinecolor": "white"
           },
           "zaxis": {
            "backgroundcolor": "#E5ECF6",
            "gridcolor": "white",
            "gridwidth": 2,
            "linecolor": "white",
            "showbackground": true,
            "ticks": "",
            "zerolinecolor": "white"
           }
          },
          "shapedefaults": {
           "line": {
            "color": "#2a3f5f"
           }
          },
          "ternary": {
           "aaxis": {
            "gridcolor": "white",
            "linecolor": "white",
            "ticks": ""
           },
           "baxis": {
            "gridcolor": "white",
            "linecolor": "white",
            "ticks": ""
           },
           "bgcolor": "#E5ECF6",
           "caxis": {
            "gridcolor": "white",
            "linecolor": "white",
            "ticks": ""
           }
          },
          "title": {
           "x": 0.05
          },
          "xaxis": {
           "automargin": true,
           "gridcolor": "white",
           "linecolor": "white",
           "ticks": "",
           "title": {
            "standoff": 15
           },
           "zerolinecolor": "white",
           "zerolinewidth": 2
          },
          "yaxis": {
           "automargin": true,
           "gridcolor": "white",
           "linecolor": "white",
           "ticks": "",
           "title": {
            "standoff": 15
           },
           "zerolinecolor": "white",
           "zerolinewidth": 2
          }
         }
        },
        "title": {
         "text": "🔮 Distribuciones de Retornos Monte Carlo con GARCH"
        },
        "xaxis": {
         "anchor": "y",
         "domain": [
          0,
          0.45
         ],
         "title": {
          "text": "Retorno del Período (%)"
         }
        },
        "xaxis2": {
         "anchor": "y2",
         "domain": [
          0.55,
          1
         ],
         "title": {
          "text": "Retorno del Período (%)"
         }
        },
        "xaxis3": {
         "anchor": "y3",
         "domain": [
          0,
          0.45
         ],
         "title": {
          "text": "Retorno del Período (%)"
         }
        },
        "xaxis4": {
         "anchor": "y4",
         "domain": [
          0.55,
          1
         ],
         "title": {
          "text": "Retorno del Período (%)"
         }
        },
        "yaxis": {
         "anchor": "x",
         "domain": [
          0.625,
          1
         ],
         "title": {
          "text": "Frecuencia"
         }
        },
        "yaxis2": {
         "anchor": "x2",
         "domain": [
          0.625,
          1
         ],
         "title": {
          "text": "Frecuencia"
         }
        },
        "yaxis3": {
         "anchor": "x3",
         "domain": [
          0,
          0.375
         ],
         "title": {
          "text": "Frecuencia"
         }
        },
        "yaxis4": {
         "anchor": "x4",
         "domain": [
          0,
          0.375
         ],
         "title": {
          "text": "Frecuencia"
         }
        }
       }
      }
     },
     "metadata": {},
     "output_type": "display_data"
    },
    {
     "data": {
      "application/vnd.plotly.v1+json": {
       "config": {
        "plotlyServerURL": "https://plot.ly"
       },
       "data": [
        {
         "colorscale": [
          [
           0,
           "rgb(49,54,149)"
          ],
          [
           0.1,
           "rgb(69,117,180)"
          ],
          [
           0.2,
           "rgb(116,173,209)"
          ],
          [
           0.3,
           "rgb(171,217,233)"
          ],
          [
           0.4,
           "rgb(224,243,248)"
          ],
          [
           0.5,
           "rgb(255,255,191)"
          ],
          [
           0.6,
           "rgb(254,224,144)"
          ],
          [
           0.7,
           "rgb(253,174,97)"
          ],
          [
           0.8,
           "rgb(244,109,67)"
          ],
          [
           0.9,
           "rgb(215,48,39)"
          ],
          [
           1,
           "rgb(165,0,38)"
          ]
         ],
         "text": [
          [
           "3.1",
           "7.4",
           "8.5",
           "35.2"
          ],
          [
           "9.5",
           "13.8",
           "11.9",
           "25.4"
          ],
          [
           "19.8",
           "21.3",
           "11.6",
           "17.6"
          ],
          [
           "44.6",
           "37.1",
           "7.6",
           "9.0"
          ]
         ],
         "textfont": {
          "size": 12
         },
         "texttemplate": "%{text}",
         "type": "heatmap",
         "x": [
          "Retorno %",
          "Volatilidad %",
          "VaR 95%",
          "Prob. Pérdida %"
         ],
         "y": [
          "1 mes",
          "3 meses",
          "6 meses",
          "12 meses"
         ],
         "z": [
          [
           3.123188023719405,
           7.383735180330446,
           8.489224226799474,
           35.21
          ],
          [
           9.52184276029062,
           13.781420089406993,
           11.944734907143314,
           25.380000000000003
          ],
          [
           19.838888656904647,
           21.306390967634847,
           11.624070535496436,
           17.59
          ],
          [
           44.57676513030847,
           37.105674356793614,
           7.637539995575566,
           9.030000000000001
          ]
         ]
        }
       ],
       "layout": {
        "height": 400,
        "template": {
         "data": {
          "bar": [
           {
            "error_x": {
             "color": "#2a3f5f"
            },
            "error_y": {
             "color": "#2a3f5f"
            },
            "marker": {
             "line": {
              "color": "#E5ECF6",
              "width": 0.5
             },
             "pattern": {
              "fillmode": "overlay",
              "size": 10,
              "solidity": 0.2
             }
            },
            "type": "bar"
           }
          ],
          "barpolar": [
           {
            "marker": {
             "line": {
              "color": "#E5ECF6",
              "width": 0.5
             },
             "pattern": {
              "fillmode": "overlay",
              "size": 10,
              "solidity": 0.2
             }
            },
            "type": "barpolar"
           }
          ],
          "carpet": [
           {
            "aaxis": {
             "endlinecolor": "#2a3f5f",
             "gridcolor": "white",
             "linecolor": "white",
             "minorgridcolor": "white",
             "startlinecolor": "#2a3f5f"
            },
            "baxis": {
             "endlinecolor": "#2a3f5f",
             "gridcolor": "white",
             "linecolor": "white",
             "minorgridcolor": "white",
             "startlinecolor": "#2a3f5f"
            },
            "type": "carpet"
           }
          ],
          "choropleth": [
           {
            "colorbar": {
             "outlinewidth": 0,
             "ticks": ""
            },
            "type": "choropleth"
           }
          ],
          "contour": [
           {
            "colorbar": {
             "outlinewidth": 0,
             "ticks": ""
            },
            "colorscale": [
             [
              0,
              "#0d0887"
             ],
             [
              0.1111111111111111,
              "#46039f"
             ],
             [
              0.2222222222222222,
              "#7201a8"
             ],
             [
              0.3333333333333333,
              "#9c179e"
             ],
             [
              0.4444444444444444,
              "#bd3786"
             ],
             [
              0.5555555555555556,
              "#d8576b"
             ],
             [
              0.6666666666666666,
              "#ed7953"
             ],
             [
              0.7777777777777778,
              "#fb9f3a"
             ],
             [
              0.8888888888888888,
              "#fdca26"
             ],
             [
              1,
              "#f0f921"
             ]
            ],
            "type": "contour"
           }
          ],
          "contourcarpet": [
           {
            "colorbar": {
             "outlinewidth": 0,
             "ticks": ""
            },
            "type": "contourcarpet"
           }
          ],
          "heatmap": [
           {
            "colorbar": {
             "outlinewidth": 0,
             "ticks": ""
            },
            "colorscale": [
             [
              0,
              "#0d0887"
             ],
             [
              0.1111111111111111,
              "#46039f"
             ],
             [
              0.2222222222222222,
              "#7201a8"
             ],
             [
              0.3333333333333333,
              "#9c179e"
             ],
             [
              0.4444444444444444,
              "#bd3786"
             ],
             [
              0.5555555555555556,
              "#d8576b"
             ],
             [
              0.6666666666666666,
              "#ed7953"
             ],
             [
              0.7777777777777778,
              "#fb9f3a"
             ],
             [
              0.8888888888888888,
              "#fdca26"
             ],
             [
              1,
              "#f0f921"
             ]
            ],
            "type": "heatmap"
           }
          ],
          "heatmapgl": [
           {
            "colorbar": {
             "outlinewidth": 0,
             "ticks": ""
            },
            "colorscale": [
             [
              0,
              "#0d0887"
             ],
             [
              0.1111111111111111,
              "#46039f"
             ],
             [
              0.2222222222222222,
              "#7201a8"
             ],
             [
              0.3333333333333333,
              "#9c179e"
             ],
             [
              0.4444444444444444,
              "#bd3786"
             ],
             [
              0.5555555555555556,
              "#d8576b"
             ],
             [
              0.6666666666666666,
              "#ed7953"
             ],
             [
              0.7777777777777778,
              "#fb9f3a"
             ],
             [
              0.8888888888888888,
              "#fdca26"
             ],
             [
              1,
              "#f0f921"
             ]
            ],
            "type": "heatmapgl"
           }
          ],
          "histogram": [
           {
            "marker": {
             "pattern": {
              "fillmode": "overlay",
              "size": 10,
              "solidity": 0.2
             }
            },
            "type": "histogram"
           }
          ],
          "histogram2d": [
           {
            "colorbar": {
             "outlinewidth": 0,
             "ticks": ""
            },
            "colorscale": [
             [
              0,
              "#0d0887"
             ],
             [
              0.1111111111111111,
              "#46039f"
             ],
             [
              0.2222222222222222,
              "#7201a8"
             ],
             [
              0.3333333333333333,
              "#9c179e"
             ],
             [
              0.4444444444444444,
              "#bd3786"
             ],
             [
              0.5555555555555556,
              "#d8576b"
             ],
             [
              0.6666666666666666,
              "#ed7953"
             ],
             [
              0.7777777777777778,
              "#fb9f3a"
             ],
             [
              0.8888888888888888,
              "#fdca26"
             ],
             [
              1,
              "#f0f921"
             ]
            ],
            "type": "histogram2d"
           }
          ],
          "histogram2dcontour": [
           {
            "colorbar": {
             "outlinewidth": 0,
             "ticks": ""
            },
            "colorscale": [
             [
              0,
              "#0d0887"
             ],
             [
              0.1111111111111111,
              "#46039f"
             ],
             [
              0.2222222222222222,
              "#7201a8"
             ],
             [
              0.3333333333333333,
              "#9c179e"
             ],
             [
              0.4444444444444444,
              "#bd3786"
             ],
             [
              0.5555555555555556,
              "#d8576b"
             ],
             [
              0.6666666666666666,
              "#ed7953"
             ],
             [
              0.7777777777777778,
              "#fb9f3a"
             ],
             [
              0.8888888888888888,
              "#fdca26"
             ],
             [
              1,
              "#f0f921"
             ]
            ],
            "type": "histogram2dcontour"
           }
          ],
          "mesh3d": [
           {
            "colorbar": {
             "outlinewidth": 0,
             "ticks": ""
            },
            "type": "mesh3d"
           }
          ],
          "parcoords": [
           {
            "line": {
             "colorbar": {
              "outlinewidth": 0,
              "ticks": ""
             }
            },
            "type": "parcoords"
           }
          ],
          "pie": [
           {
            "automargin": true,
            "type": "pie"
           }
          ],
          "scatter": [
           {
            "fillpattern": {
             "fillmode": "overlay",
             "size": 10,
             "solidity": 0.2
            },
            "type": "scatter"
           }
          ],
          "scatter3d": [
           {
            "line": {
             "colorbar": {
              "outlinewidth": 0,
              "ticks": ""
             }
            },
            "marker": {
             "colorbar": {
              "outlinewidth": 0,
              "ticks": ""
             }
            },
            "type": "scatter3d"
           }
          ],
          "scattercarpet": [
           {
            "marker": {
             "colorbar": {
              "outlinewidth": 0,
              "ticks": ""
             }
            },
            "type": "scattercarpet"
           }
          ],
          "scattergeo": [
           {
            "marker": {
             "colorbar": {
              "outlinewidth": 0,
              "ticks": ""
             }
            },
            "type": "scattergeo"
           }
          ],
          "scattergl": [
           {
            "marker": {
             "colorbar": {
              "outlinewidth": 0,
              "ticks": ""
             }
            },
            "type": "scattergl"
           }
          ],
          "scattermapbox": [
           {
            "marker": {
             "colorbar": {
              "outlinewidth": 0,
              "ticks": ""
             }
            },
            "type": "scattermapbox"
           }
          ],
          "scatterpolar": [
           {
            "marker": {
             "colorbar": {
              "outlinewidth": 0,
              "ticks": ""
             }
            },
            "type": "scatterpolar"
           }
          ],
          "scatterpolargl": [
           {
            "marker": {
             "colorbar": {
              "outlinewidth": 0,
              "ticks": ""
             }
            },
            "type": "scatterpolargl"
           }
          ],
          "scatterternary": [
           {
            "marker": {
             "colorbar": {
              "outlinewidth": 0,
              "ticks": ""
             }
            },
            "type": "scatterternary"
           }
          ],
          "surface": [
           {
            "colorbar": {
             "outlinewidth": 0,
             "ticks": ""
            },
            "colorscale": [
             [
              0,
              "#0d0887"
             ],
             [
              0.1111111111111111,
              "#46039f"
             ],
             [
              0.2222222222222222,
              "#7201a8"
             ],
             [
              0.3333333333333333,
              "#9c179e"
             ],
             [
              0.4444444444444444,
              "#bd3786"
             ],
             [
              0.5555555555555556,
              "#d8576b"
             ],
             [
              0.6666666666666666,
              "#ed7953"
             ],
             [
              0.7777777777777778,
              "#fb9f3a"
             ],
             [
              0.8888888888888888,
              "#fdca26"
             ],
             [
              1,
              "#f0f921"
             ]
            ],
            "type": "surface"
           }
          ],
          "table": [
           {
            "cells": {
             "fill": {
              "color": "#EBF0F8"
             },
             "line": {
              "color": "white"
             }
            },
            "header": {
             "fill": {
              "color": "#C8D4E3"
             },
             "line": {
              "color": "white"
             }
            },
            "type": "table"
           }
          ]
         },
         "layout": {
          "annotationdefaults": {
           "arrowcolor": "#2a3f5f",
           "arrowhead": 0,
           "arrowwidth": 1
          },
          "autotypenumbers": "strict",
          "coloraxis": {
           "colorbar": {
            "outlinewidth": 0,
            "ticks": ""
           }
          },
          "colorscale": {
           "diverging": [
            [
             0,
             "#8e0152"
            ],
            [
             0.1,
             "#c51b7d"
            ],
            [
             0.2,
             "#de77ae"
            ],
            [
             0.3,
             "#f1b6da"
            ],
            [
             0.4,
             "#fde0ef"
            ],
            [
             0.5,
             "#f7f7f7"
            ],
            [
             0.6,
             "#e6f5d0"
            ],
            [
             0.7,
             "#b8e186"
            ],
            [
             0.8,
             "#7fbc41"
            ],
            [
             0.9,
             "#4d9221"
            ],
            [
             1,
             "#276419"
            ]
           ],
           "sequential": [
            [
             0,
             "#0d0887"
            ],
            [
             0.1111111111111111,
             "#46039f"
            ],
            [
             0.2222222222222222,
             "#7201a8"
            ],
            [
             0.3333333333333333,
             "#9c179e"
            ],
            [
             0.4444444444444444,
             "#bd3786"
            ],
            [
             0.5555555555555556,
             "#d8576b"
            ],
            [
             0.6666666666666666,
             "#ed7953"
            ],
            [
             0.7777777777777778,
             "#fb9f3a"
            ],
            [
             0.8888888888888888,
             "#fdca26"
            ],
            [
             1,
             "#f0f921"
            ]
           ],
           "sequentialminus": [
            [
             0,
             "#0d0887"
            ],
            [
             0.1111111111111111,
             "#46039f"
            ],
            [
             0.2222222222222222,
             "#7201a8"
            ],
            [
             0.3333333333333333,
             "#9c179e"
            ],
            [
             0.4444444444444444,
             "#bd3786"
            ],
            [
             0.5555555555555556,
             "#d8576b"
            ],
            [
             0.6666666666666666,
             "#ed7953"
            ],
            [
             0.7777777777777778,
             "#fb9f3a"
            ],
            [
             0.8888888888888888,
             "#fdca26"
            ],
            [
             1,
             "#f0f921"
            ]
           ]
          },
          "colorway": [
           "#636efa",
           "#EF553B",
           "#00cc96",
           "#ab63fa",
           "#FFA15A",
           "#19d3f3",
           "#FF6692",
           "#B6E880",
           "#FF97FF",
           "#FECB52"
          ],
          "font": {
           "color": "#2a3f5f"
          },
          "geo": {
           "bgcolor": "white",
           "lakecolor": "white",
           "landcolor": "#E5ECF6",
           "showlakes": true,
           "showland": true,
           "subunitcolor": "white"
          },
          "hoverlabel": {
           "align": "left"
          },
          "hovermode": "closest",
          "mapbox": {
           "style": "light"
          },
          "paper_bgcolor": "white",
          "plot_bgcolor": "#E5ECF6",
          "polar": {
           "angularaxis": {
            "gridcolor": "white",
            "linecolor": "white",
            "ticks": ""
           },
           "bgcolor": "#E5ECF6",
           "radialaxis": {
            "gridcolor": "white",
            "linecolor": "white",
            "ticks": ""
           }
          },
          "scene": {
           "xaxis": {
            "backgroundcolor": "#E5ECF6",
            "gridcolor": "white",
            "gridwidth": 2,
            "linecolor": "white",
            "showbackground": true,
            "ticks": "",
            "zerolinecolor": "white"
           },
           "yaxis": {
            "backgroundcolor": "#E5ECF6",
            "gridcolor": "white",
            "gridwidth": 2,
            "linecolor": "white",
            "showbackground": true,
            "ticks": "",
            "zerolinecolor": "white"
           },
           "zaxis": {
            "backgroundcolor": "#E5ECF6",
            "gridcolor": "white",
            "gridwidth": 2,
            "linecolor": "white",
            "showbackground": true,
            "ticks": "",
            "zerolinecolor": "white"
           }
          },
          "shapedefaults": {
           "line": {
            "color": "#2a3f5f"
           }
          },
          "ternary": {
           "aaxis": {
            "gridcolor": "white",
            "linecolor": "white",
            "ticks": ""
           },
           "baxis": {
            "gridcolor": "white",
            "linecolor": "white",
            "ticks": ""
           },
           "bgcolor": "#E5ECF6",
           "caxis": {
            "gridcolor": "white",
            "linecolor": "white",
            "ticks": ""
           }
          },
          "title": {
           "x": 0.05
          },
          "xaxis": {
           "automargin": true,
           "gridcolor": "white",
           "linecolor": "white",
           "ticks": "",
           "title": {
            "standoff": 15
           },
           "zerolinecolor": "white",
           "zerolinewidth": 2
          },
          "yaxis": {
           "automargin": true,
           "gridcolor": "white",
           "linecolor": "white",
           "ticks": "",
           "title": {
            "standoff": 15
           },
           "zerolinecolor": "white",
           "zerolinewidth": 2
          }
         }
        },
        "title": {
         "text": "🌡️ Mapa de Calor: Métricas de Riesgo por Horizonte Temporal (GARCH)"
        }
       }
      }
     },
     "metadata": {},
     "output_type": "display_data"
    },
    {
     "data": {
      "application/vnd.plotly.v1+json": {
       "config": {
        "plotlyServerURL": "https://plot.ly"
       },
       "data": [
        {
         "marker": {
          "color": "red"
         },
         "name": "Impacto (%)",
         "opacity": 0.7,
         "type": "bar",
         "x": [
          "Crisis Cambiaria",
          "Devaluación Fuerte",
          "Crisis Política",
          "Recesión Local",
          "Hiperinflación",
          "Default Soberano",
          "Crisis Global + Local"
         ],
         "y": [
          48.84522625184649,
          34.191658376292544,
          39.0761810014772,
          24.422613125923245,
          29.3071357511079,
          58.6142715022158,
          68.38331675258509
         ],
         "yaxis": "y"
        },
        {
         "line": {
          "color": "blue",
          "width": 3
         },
         "marker": {
          "color": "blue",
          "size": 8
         },
         "mode": "lines+markers",
         "name": "Probabilidad (%)",
         "type": "scatter",
         "x": [
          "Crisis Cambiaria",
          "Devaluación Fuerte",
          "Crisis Política",
          "Recesión Local",
          "Hiperinflación",
          "Default Soberano",
          "Crisis Global + Local"
         ],
         "y": [
          15,
          20,
          10,
          25,
          5,
          8,
          3
         ],
         "yaxis": "y2"
        }
       ],
       "layout": {
        "height": 500,
        "template": {
         "data": {
          "bar": [
           {
            "error_x": {
             "color": "#2a3f5f"
            },
            "error_y": {
             "color": "#2a3f5f"
            },
            "marker": {
             "line": {
              "color": "#E5ECF6",
              "width": 0.5
             },
             "pattern": {
              "fillmode": "overlay",
              "size": 10,
              "solidity": 0.2
             }
            },
            "type": "bar"
           }
          ],
          "barpolar": [
           {
            "marker": {
             "line": {
              "color": "#E5ECF6",
              "width": 0.5
             },
             "pattern": {
              "fillmode": "overlay",
              "size": 10,
              "solidity": 0.2
             }
            },
            "type": "barpolar"
           }
          ],
          "carpet": [
           {
            "aaxis": {
             "endlinecolor": "#2a3f5f",
             "gridcolor": "white",
             "linecolor": "white",
             "minorgridcolor": "white",
             "startlinecolor": "#2a3f5f"
            },
            "baxis": {
             "endlinecolor": "#2a3f5f",
             "gridcolor": "white",
             "linecolor": "white",
             "minorgridcolor": "white",
             "startlinecolor": "#2a3f5f"
            },
            "type": "carpet"
           }
          ],
          "choropleth": [
           {
            "colorbar": {
             "outlinewidth": 0,
             "ticks": ""
            },
            "type": "choropleth"
           }
          ],
          "contour": [
           {
            "colorbar": {
             "outlinewidth": 0,
             "ticks": ""
            },
            "colorscale": [
             [
              0,
              "#0d0887"
             ],
             [
              0.1111111111111111,
              "#46039f"
             ],
             [
              0.2222222222222222,
              "#7201a8"
             ],
             [
              0.3333333333333333,
              "#9c179e"
             ],
             [
              0.4444444444444444,
              "#bd3786"
             ],
             [
              0.5555555555555556,
              "#d8576b"
             ],
             [
              0.6666666666666666,
              "#ed7953"
             ],
             [
              0.7777777777777778,
              "#fb9f3a"
             ],
             [
              0.8888888888888888,
              "#fdca26"
             ],
             [
              1,
              "#f0f921"
             ]
            ],
            "type": "contour"
           }
          ],
          "contourcarpet": [
           {
            "colorbar": {
             "outlinewidth": 0,
             "ticks": ""
            },
            "type": "contourcarpet"
           }
          ],
          "heatmap": [
           {
            "colorbar": {
             "outlinewidth": 0,
             "ticks": ""
            },
            "colorscale": [
             [
              0,
              "#0d0887"
             ],
             [
              0.1111111111111111,
              "#46039f"
             ],
             [
              0.2222222222222222,
              "#7201a8"
             ],
             [
              0.3333333333333333,
              "#9c179e"
             ],
             [
              0.4444444444444444,
              "#bd3786"
             ],
             [
              0.5555555555555556,
              "#d8576b"
             ],
             [
              0.6666666666666666,
              "#ed7953"
             ],
             [
              0.7777777777777778,
              "#fb9f3a"
             ],
             [
              0.8888888888888888,
              "#fdca26"
             ],
             [
              1,
              "#f0f921"
             ]
            ],
            "type": "heatmap"
           }
          ],
          "heatmapgl": [
           {
            "colorbar": {
             "outlinewidth": 0,
             "ticks": ""
            },
            "colorscale": [
             [
              0,
              "#0d0887"
             ],
             [
              0.1111111111111111,
              "#46039f"
             ],
             [
              0.2222222222222222,
              "#7201a8"
             ],
             [
              0.3333333333333333,
              "#9c179e"
             ],
             [
              0.4444444444444444,
              "#bd3786"
             ],
             [
              0.5555555555555556,
              "#d8576b"
             ],
             [
              0.6666666666666666,
              "#ed7953"
             ],
             [
              0.7777777777777778,
              "#fb9f3a"
             ],
             [
              0.8888888888888888,
              "#fdca26"
             ],
             [
              1,
              "#f0f921"
             ]
            ],
            "type": "heatmapgl"
           }
          ],
          "histogram": [
           {
            "marker": {
             "pattern": {
              "fillmode": "overlay",
              "size": 10,
              "solidity": 0.2
             }
            },
            "type": "histogram"
           }
          ],
          "histogram2d": [
           {
            "colorbar": {
             "outlinewidth": 0,
             "ticks": ""
            },
            "colorscale": [
             [
              0,
              "#0d0887"
             ],
             [
              0.1111111111111111,
              "#46039f"
             ],
             [
              0.2222222222222222,
              "#7201a8"
             ],
             [
              0.3333333333333333,
              "#9c179e"
             ],
             [
              0.4444444444444444,
              "#bd3786"
             ],
             [
              0.5555555555555556,
              "#d8576b"
             ],
             [
              0.6666666666666666,
              "#ed7953"
             ],
             [
              0.7777777777777778,
              "#fb9f3a"
             ],
             [
              0.8888888888888888,
              "#fdca26"
             ],
             [
              1,
              "#f0f921"
             ]
            ],
            "type": "histogram2d"
           }
          ],
          "histogram2dcontour": [
           {
            "colorbar": {
             "outlinewidth": 0,
             "ticks": ""
            },
            "colorscale": [
             [
              0,
              "#0d0887"
             ],
             [
              0.1111111111111111,
              "#46039f"
             ],
             [
              0.2222222222222222,
              "#7201a8"
             ],
             [
              0.3333333333333333,
              "#9c179e"
             ],
             [
              0.4444444444444444,
              "#bd3786"
             ],
             [
              0.5555555555555556,
              "#d8576b"
             ],
             [
              0.6666666666666666,
              "#ed7953"
             ],
             [
              0.7777777777777778,
              "#fb9f3a"
             ],
             [
              0.8888888888888888,
              "#fdca26"
             ],
             [
              1,
              "#f0f921"
             ]
            ],
            "type": "histogram2dcontour"
           }
          ],
          "mesh3d": [
           {
            "colorbar": {
             "outlinewidth": 0,
             "ticks": ""
            },
            "type": "mesh3d"
           }
          ],
          "parcoords": [
           {
            "line": {
             "colorbar": {
              "outlinewidth": 0,
              "ticks": ""
             }
            },
            "type": "parcoords"
           }
          ],
          "pie": [
           {
            "automargin": true,
            "type": "pie"
           }
          ],
          "scatter": [
           {
            "fillpattern": {
             "fillmode": "overlay",
             "size": 10,
             "solidity": 0.2
            },
            "type": "scatter"
           }
          ],
          "scatter3d": [
           {
            "line": {
             "colorbar": {
              "outlinewidth": 0,
              "ticks": ""
             }
            },
            "marker": {
             "colorbar": {
              "outlinewidth": 0,
              "ticks": ""
             }
            },
            "type": "scatter3d"
           }
          ],
          "scattercarpet": [
           {
            "marker": {
             "colorbar": {
              "outlinewidth": 0,
              "ticks": ""
             }
            },
            "type": "scattercarpet"
           }
          ],
          "scattergeo": [
           {
            "marker": {
             "colorbar": {
              "outlinewidth": 0,
              "ticks": ""
             }
            },
            "type": "scattergeo"
           }
          ],
          "scattergl": [
           {
            "marker": {
             "colorbar": {
              "outlinewidth": 0,
              "ticks": ""
             }
            },
            "type": "scattergl"
           }
          ],
          "scattermapbox": [
           {
            "marker": {
             "colorbar": {
              "outlinewidth": 0,
              "ticks": ""
             }
            },
            "type": "scattermapbox"
           }
          ],
          "scatterpolar": [
           {
            "marker": {
             "colorbar": {
              "outlinewidth": 0,
              "ticks": ""
             }
            },
            "type": "scatterpolar"
           }
          ],
          "scatterpolargl": [
           {
            "marker": {
             "colorbar": {
              "outlinewidth": 0,
              "ticks": ""
             }
            },
            "type": "scatterpolargl"
           }
          ],
          "scatterternary": [
           {
            "marker": {
             "colorbar": {
              "outlinewidth": 0,
              "ticks": ""
             }
            },
            "type": "scatterternary"
           }
          ],
          "surface": [
           {
            "colorbar": {
             "outlinewidth": 0,
             "ticks": ""
            },
            "colorscale": [
             [
              0,
              "#0d0887"
             ],
             [
              0.1111111111111111,
              "#46039f"
             ],
             [
              0.2222222222222222,
              "#7201a8"
             ],
             [
              0.3333333333333333,
              "#9c179e"
             ],
             [
              0.4444444444444444,
              "#bd3786"
             ],
             [
              0.5555555555555556,
              "#d8576b"
             ],
             [
              0.6666666666666666,
              "#ed7953"
             ],
             [
              0.7777777777777778,
              "#fb9f3a"
             ],
             [
              0.8888888888888888,
              "#fdca26"
             ],
             [
              1,
              "#f0f921"
             ]
            ],
            "type": "surface"
           }
          ],
          "table": [
           {
            "cells": {
             "fill": {
              "color": "#EBF0F8"
             },
             "line": {
              "color": "white"
             }
            },
            "header": {
             "fill": {
              "color": "#C8D4E3"
             },
             "line": {
              "color": "white"
             }
            },
            "type": "table"
           }
          ]
         },
         "layout": {
          "annotationdefaults": {
           "arrowcolor": "#2a3f5f",
           "arrowhead": 0,
           "arrowwidth": 1
          },
          "autotypenumbers": "strict",
          "coloraxis": {
           "colorbar": {
            "outlinewidth": 0,
            "ticks": ""
           }
          },
          "colorscale": {
           "diverging": [
            [
             0,
             "#8e0152"
            ],
            [
             0.1,
             "#c51b7d"
            ],
            [
             0.2,
             "#de77ae"
            ],
            [
             0.3,
             "#f1b6da"
            ],
            [
             0.4,
             "#fde0ef"
            ],
            [
             0.5,
             "#f7f7f7"
            ],
            [
             0.6,
             "#e6f5d0"
            ],
            [
             0.7,
             "#b8e186"
            ],
            [
             0.8,
             "#7fbc41"
            ],
            [
             0.9,
             "#4d9221"
            ],
            [
             1,
             "#276419"
            ]
           ],
           "sequential": [
            [
             0,
             "#0d0887"
            ],
            [
             0.1111111111111111,
             "#46039f"
            ],
            [
             0.2222222222222222,
             "#7201a8"
            ],
            [
             0.3333333333333333,
             "#9c179e"
            ],
            [
             0.4444444444444444,
             "#bd3786"
            ],
            [
             0.5555555555555556,
             "#d8576b"
            ],
            [
             0.6666666666666666,
             "#ed7953"
            ],
            [
             0.7777777777777778,
             "#fb9f3a"
            ],
            [
             0.8888888888888888,
             "#fdca26"
            ],
            [
             1,
             "#f0f921"
            ]
           ],
           "sequentialminus": [
            [
             0,
             "#0d0887"
            ],
            [
             0.1111111111111111,
             "#46039f"
            ],
            [
             0.2222222222222222,
             "#7201a8"
            ],
            [
             0.3333333333333333,
             "#9c179e"
            ],
            [
             0.4444444444444444,
             "#bd3786"
            ],
            [
             0.5555555555555556,
             "#d8576b"
            ],
            [
             0.6666666666666666,
             "#ed7953"
            ],
            [
             0.7777777777777778,
             "#fb9f3a"
            ],
            [
             0.8888888888888888,
             "#fdca26"
            ],
            [
             1,
             "#f0f921"
            ]
           ]
          },
          "colorway": [
           "#636efa",
           "#EF553B",
           "#00cc96",
           "#ab63fa",
           "#FFA15A",
           "#19d3f3",
           "#FF6692",
           "#B6E880",
           "#FF97FF",
           "#FECB52"
          ],
          "font": {
           "color": "#2a3f5f"
          },
          "geo": {
           "bgcolor": "white",
           "lakecolor": "white",
           "landcolor": "#E5ECF6",
           "showlakes": true,
           "showland": true,
           "subunitcolor": "white"
          },
          "hoverlabel": {
           "align": "left"
          },
          "hovermode": "closest",
          "mapbox": {
           "style": "light"
          },
          "paper_bgcolor": "white",
          "plot_bgcolor": "#E5ECF6",
          "polar": {
           "angularaxis": {
            "gridcolor": "white",
            "linecolor": "white",
            "ticks": ""
           },
           "bgcolor": "#E5ECF6",
           "radialaxis": {
            "gridcolor": "white",
            "linecolor": "white",
            "ticks": ""
           }
          },
          "scene": {
           "xaxis": {
            "backgroundcolor": "#E5ECF6",
            "gridcolor": "white",
            "gridwidth": 2,
            "linecolor": "white",
            "showbackground": true,
            "ticks": "",
            "zerolinecolor": "white"
           },
           "yaxis": {
            "backgroundcolor": "#E5ECF6",
            "gridcolor": "white",
            "gridwidth": 2,
            "linecolor": "white",
            "showbackground": true,
            "ticks": "",
            "zerolinecolor": "white"
           },
           "zaxis": {
            "backgroundcolor": "#E5ECF6",
            "gridcolor": "white",
            "gridwidth": 2,
            "linecolor": "white",
            "showbackground": true,
            "ticks": "",
            "zerolinecolor": "white"
           }
          },
          "shapedefaults": {
           "line": {
            "color": "#2a3f5f"
           }
          },
          "ternary": {
           "aaxis": {
            "gridcolor": "white",
            "linecolor": "white",
            "ticks": ""
           },
           "baxis": {
            "gridcolor": "white",
            "linecolor": "white",
            "ticks": ""
           },
           "bgcolor": "#E5ECF6",
           "caxis": {
            "gridcolor": "white",
            "linecolor": "white",
            "ticks": ""
           }
          },
          "title": {
           "x": 0.05
          },
          "xaxis": {
           "automargin": true,
           "gridcolor": "white",
           "linecolor": "white",
           "ticks": "",
           "title": {
            "standoff": 15
           },
           "zerolinecolor": "white",
           "zerolinewidth": 2
          },
          "yaxis": {
           "automargin": true,
           "gridcolor": "white",
           "linecolor": "white",
           "ticks": "",
           "title": {
            "standoff": 15
           },
           "zerolinecolor": "white",
           "zerolinewidth": 2
          }
         }
        },
        "title": {
         "text": "💥 Análisis de Stress Testing - Argentina"
        },
        "xaxis": {
         "tickangle": 45,
         "title": {
          "text": "Escenarios de Crisis"
         }
        },
        "yaxis": {
         "color": "red",
         "side": "left",
         "title": {
          "text": "Impacto Negativo (%)"
         }
        },
        "yaxis2": {
         "color": "blue",
         "overlaying": "y",
         "side": "right",
         "title": {
          "text": "Probabilidad (%)"
         }
        }
       }
      }
     },
     "metadata": {},
     "output_type": "display_data"
    },
    {
     "name": "stdout",
     "output_type": "stream",
     "text": [
      "📁 Gráficos guardados exitosamente\n",
      "🎨 ¡VISUALIZACIONES AGREGADAS EXITOSAMENTE!\n"
     ]
    }
   ],
   "source": [
    "# =============================================================================\n",
    "# 🔮 SIMULADOR MONTE CARLO CON MODELOS ARCH/GARCH PARA ARGENTINA\n",
    "# =============================================================================\n",
    "\n",
    "class MonteCarloArgentinaARCH:\n",
    "    \"\"\"\n",
    "    Simulador Monte Carlo con modelos ARCH/GARCH para carteras en el contexto argentino.\n",
    "    Modelado avanzado de volatilidad condicional.\n",
    "    \"\"\"\n",
    "    \n",
    "    def __init__(self, risk_free_rate=0.04):\n",
    "        \"\"\"Inicializa con parámetros ajustados para Argentina\"\"\"\n",
    "        self.rf_rate = risk_free_rate\n",
    "        self.peso_usd_volatility = 0.35\n",
    "        np.random.seed(42)\n",
    "        \n",
    "        # Factores de ajuste para Argentina con ARCH\n",
    "        self.asset_adjustments = {\n",
    "            'argentina_stocks': {'vol_factor': 1.2, 'crisis_sensitivity': 1.5, 'arch_order': (1,1)},\n",
    "            'international_etf': {'vol_factor': 1.0, 'crisis_sensitivity': 1.0, 'arch_order': (1,1)},\n",
    "            'us_stocks': {'vol_factor': 1.0, 'crisis_sensitivity': 0.9, 'arch_order': (1,1)},\n",
    "            'commodities': {'vol_factor': 0.8, 'crisis_sensitivity': -0.2, 'arch_order': (1,0)},\n",
    "            'bonds_local': {'vol_factor': 1.1, 'crisis_sensitivity': 1.3, 'arch_order': (2,1)}\n",
    "        }\n",
    "        \n",
    "        # Escenarios específicos para Argentina\n",
    "        self.scenarios_argentina = {\n",
    "            'Crisis Cambiaria': {'shock': -0.50, 'duration': 90, 'prob': 0.15},\n",
    "            'Devaluación Fuerte': {'shock': -0.35, 'duration': 60, 'prob': 0.20},\n",
    "            'Crisis Política': {'shock': -0.40, 'duration': 120, 'prob': 0.10},\n",
    "            'Recesión Local': {'shock': -0.25, 'duration': 180, 'prob': 0.25},\n",
    "            'Hiperinflación': {'shock': -0.30, 'duration': 252, 'prob': 0.05},\n",
    "            'Default Soberano': {'shock': -0.60, 'duration': 365, 'prob': 0.08},\n",
    "            'Crisis Global + Local': {'shock': -0.70, 'duration': 200, 'prob': 0.03}\n",
    "        }\n",
    "    \n",
    "    def classify_asset_argentina(self, asset_name):\n",
    "        \"\"\"Clasifica activos según el contexto argentino\"\"\"\n",
    "        asset_upper = asset_name.upper()\n",
    "        \n",
    "        if asset_upper in ['GGAL', 'PAMP', 'TXAR', 'BBAR', 'YPF', 'ALUA', 'MIRG', 'TECO2']:\n",
    "            return 'argentina_stocks'\n",
    "        elif asset_upper in ['EWZ', 'SPY', 'QQQ', 'IWM', 'VTI', 'ARGT']:\n",
    "            return 'international_etf'\n",
    "        elif asset_upper in ['AAPL', 'MSFT', 'GOOGL', 'AMZN', 'TSLA', 'IBM', 'META']:\n",
    "            return 'us_stocks'\n",
    "        elif asset_upper in ['GOLD', 'GLD', 'SLV', 'DJP']:\n",
    "            return 'commodities'\n",
    "        else:\n",
    "            return 'us_stocks'\n",
    "    \n",
    "    def fit_garch_model(self, returns_series, asset_type='international_etf'):\n",
    "        \"\"\"\n",
    "        Ajusta modelo GARCH/ARCH a una serie de retornos\n",
    "        \"\"\"\n",
    "        try:\n",
    "            # Limpiar datos\n",
    "            returns_clean = returns_series.dropna()\n",
    "            returns_clean = returns_clean.replace([np.inf, -np.inf], np.nan).dropna()\n",
    "            \n",
    "            if len(returns_clean) < 50:\n",
    "                print(f\"   ⚠️ Pocos datos para GARCH, usando parámetros por defecto\")\n",
    "                return None\n",
    "            \n",
    "            # Convertir a porcentajes para mejor convergencia\n",
    "            returns_pct = returns_clean * 100\n",
    "            \n",
    "            # Obtener orden ARCH del tipo de activo\n",
    "            p, q = self.asset_adjustments.get(asset_type, {}).get('arch_order', (1,1))\n",
    "            \n",
    "            # Definir modelo GARCH(p,q)\n",
    "            if q == 0:\n",
    "                # Modelo ARCH puro\n",
    "                model = arch_model(returns_pct, vol='ARCH', p=p, rescale=False)\n",
    "            else:\n",
    "                # Modelo GARCH\n",
    "                model = arch_model(returns_pct, vol='GARCH', p=p, q=q, rescale=False)\n",
    "            \n",
    "            # Ajustar modelo\n",
    "            fitted_model = model.fit(disp='off', show_warning=False)\n",
    "            \n",
    "            print(f\"   ✅ Modelo GARCH({p},{q}) ajustado exitosamente\")\n",
    "            print(f\"   📊 AIC: {fitted_model.aic:.2f}, Log-Likelihood: {fitted_model.loglikelihood:.2f}\")\n",
    "            \n",
    "            return fitted_model\n",
    "            \n",
    "        except Exception as e:\n",
    "            print(f\"   ❌ Error en GARCH: {str(e)[:50]}...\")\n",
    "            return None\n",
    "    \n",
    "    def calculate_portfolio_returns_with_garch(self, weights_dict, returns_data):\n",
    "        \"\"\"Calcula retornos de cartera y ajusta modelos GARCH por activo\"\"\"\n",
    "        \n",
    "        print(\"📊 Calculando retornos y ajustando modelos GARCH por activo...\")\n",
    "        \n",
    "        # Calcular retornos de cartera día a día\n",
    "        portfolio_returns = []\n",
    "        asset_garch_models = {}\n",
    "        \n",
    "        for i in range(1, len(returns_data)):\n",
    "            day_return = 0\n",
    "            valid_weights_sum = 0\n",
    "            \n",
    "            for asset, weight in weights_dict.items():\n",
    "                if asset in returns_data.columns and weight > 0.001:\n",
    "                    current_price = returns_data.iloc[i][asset]\n",
    "                    previous_price = returns_data.iloc[i-1][asset]\n",
    "                    \n",
    "                    if pd.notna(current_price) and pd.notna(previous_price) and previous_price != 0:\n",
    "                        # RETORNO REAL SIN AJUSTES ARTIFICIALES\n",
    "                        asset_return = (current_price / previous_price) - 1\n",
    "                        day_return += weight * asset_return\n",
    "                        valid_weights_sum += weight\n",
    "            \n",
    "            if valid_weights_sum > 0:\n",
    "                day_return = day_return / valid_weights_sum\n",
    "                portfolio_returns.append(day_return)\n",
    "        \n",
    "        portfolio_returns = np.array(portfolio_returns)\n",
    "        portfolio_returns = portfolio_returns[~np.isnan(portfolio_returns)]\n",
    "        \n",
    "        # Ajustar modelo GARCH al retorno de cartera\n",
    "        print(f\"\\n🔮 AJUSTE DE MODELO GARCH PARA CARTERA COMPLETA:\")\n",
    "        portfolio_garch = self.fit_garch_model(\n",
    "            pd.Series(portfolio_returns), \n",
    "            'international_etf'  # Promedio ponderado\n",
    "        )\n",
    "        \n",
    "        # También ajustar GARCH por activo individual (para análisis)\n",
    "        print(f\"\\n📈 AJUSTE DE MODELOS GARCH POR ACTIVO:\")\n",
    "        for asset, weight in sorted(weights_dict.items(), key=lambda x: x[1], reverse=True):\n",
    "            if weight > 0.05 and asset in returns_data.columns:  # Solo activos >5%\n",
    "                asset_returns = returns_data[asset].pct_change().dropna()\n",
    "                if len(asset_returns) > 50:\n",
    "                    asset_type = self.classify_asset_argentina(asset)\n",
    "                    print(f\"   🔸 {asset} ({asset_type}):\")\n",
    "                    garch_model = self.fit_garch_model(asset_returns, asset_type)\n",
    "                    if garch_model:\n",
    "                        asset_garch_models[asset] = garch_model\n",
    "        \n",
    "        # Estadísticas básicas\n",
    "        mean_daily = np.mean(portfolio_returns)\n",
    "        std_daily = np.std(portfolio_returns)\n",
    "        \n",
    "        print(f\"\\n📊 RESUMEN RETORNOS CARTERA:\")\n",
    "        print(f\"   • Retorno diario promedio: {mean_daily*100:.4f}%\")\n",
    "        print(f\"   • Volatilidad diaria: {std_daily*100:.3f}%\")\n",
    "        print(f\"   • Equivalente anual: {mean_daily*252*100:.1f}% retorno, {std_daily*np.sqrt(252)*100:.1f}% volatilidad\")\n",
    "        \n",
    "        return {\n",
    "            'returns': portfolio_returns,\n",
    "            'mean_daily': mean_daily,\n",
    "            'std_daily': std_daily,\n",
    "            'portfolio_garch': portfolio_garch,\n",
    "            'asset_garch_models': asset_garch_models,\n",
    "            'skewness': stats.skew(portfolio_returns),\n",
    "            'kurtosis': stats.kurtosis(portfolio_returns),\n",
    "            'var_95': np.percentile(portfolio_returns, 5),\n",
    "            'var_99': np.percentile(portfolio_returns, 1),\n",
    "        }\n",
    "    \n",
    "    def monte_carlo_simulation_with_garch(self, weights_dict, returns_data, num_sims=10000):\n",
    "        \"\"\"Simulación Monte Carlo usando modelos GARCH para volatilidad condicional\"\"\"\n",
    "        \n",
    "        print(\"🔮 Ejecutando simulación Monte Carlo con GARCH...\")\n",
    "        \n",
    "        # Calcular retornos y ajustar modelos GARCH\n",
    "        portfolio_metrics = self.calculate_portfolio_returns_with_garch(weights_dict, returns_data)\n",
    "        historical_returns = portfolio_metrics['returns']\n",
    "        garch_model = portfolio_metrics['portfolio_garch']\n",
    "        \n",
    "        if len(historical_returns) < 50:\n",
    "            print(\"⚠️ Pocos datos históricos - usando parámetros conservadores\")\n",
    "            daily_mean, daily_std = 0.0005, 0.012  # ~13% anual retorno, 19% vol\n",
    "            use_garch = False\n",
    "        else:\n",
    "            daily_mean = portfolio_metrics['mean_daily']\n",
    "            daily_std = portfolio_metrics['std_daily']\n",
    "            use_garch = garch_model is not None\n",
    "            \n",
    "            # Aplicar límites conservadores para casos extremos\n",
    "            if daily_mean > 0.0015:  # Solo si es mayor a 38% anual\n",
    "                print(f\"   ⚠️ Limitando retorno muy alto de {daily_mean*252*100:.1f}% a 30%\")\n",
    "                daily_mean = 0.0012  # ~30% anual máximo\n",
    "                \n",
    "            if daily_std > 0.025:  # Solo si volatilidad es mayor a 40% anual\n",
    "                print(f\"   ⚠️ Limitando volatilidad muy alta de {daily_std*np.sqrt(252)*100:.1f}% a 35%\")\n",
    "                daily_std = 0.022  # ~35% anual máximo\n",
    "        \n",
    "        time_horizons = [21, 63, 126, 252]\n",
    "        results = {}\n",
    "        all_paths = {}\n",
    "        \n",
    "        for days in time_horizons:\n",
    "            print(f\"   📊 Simulando {days} días ({days//21} meses) con {'GARCH' if use_garch else 'distribución normal'}...\")\n",
    "            \n",
    "            simulation_matrix = np.zeros((num_sims, days))\n",
    "            \n",
    "            for sim in range(num_sims):\n",
    "                if use_garch and days >= 21:\n",
    "                    # USAR PREDICCIONES GARCH CUANDO ESTÁ DISPONIBLE\n",
    "                    try:\n",
    "                        # Predecir volatilidad condicional con GARCH\n",
    "                        forecast = garch_model.forecast(horizon=min(days, 100), reindex=False)\n",
    "                        garch_vol = np.sqrt(forecast.variance.values[-1, :min(days, len(forecast.variance.values[-1, :]))])\n",
    "                        \n",
    "                        # Si GARCH predice menos días, extender con último valor\n",
    "                        if len(garch_vol) < days:\n",
    "                            last_vol = garch_vol[-1]\n",
    "                            garch_vol = np.concatenate([garch_vol, np.full(days - len(garch_vol), last_vol)])\n",
    "                        \n",
    "                        # Generar retornos con volatilidad condicional GARCH\n",
    "                        garch_returns = []\n",
    "                        for day in range(days):\n",
    "                            vol_day = garch_vol[day] / 100  # Convertir de % a decimal\n",
    "                            ret_day = np.random.normal(daily_mean, vol_day)\n",
    "                            garch_returns.append(ret_day)\n",
    "                        \n",
    "                        simulation_matrix[sim, :] = np.array(garch_returns)\n",
    "                        \n",
    "                    except:\n",
    "                        # Fallback a distribución normal si GARCH falla\n",
    "                        simulation_matrix[sim, :] = np.random.normal(daily_mean, daily_std, days)\n",
    "                \n",
    "                elif len(historical_returns) >= days * 2:\n",
    "                    # Bootstrap de segmentos históricos para períodos cortos\n",
    "                    start_idx = np.random.randint(0, len(historical_returns) - days)\n",
    "                    bootstrap_segment = historical_returns[start_idx:start_idx + days]\n",
    "                    \n",
    "                    # Añadir mínimo ruido\n",
    "                    noise = np.random.normal(0, daily_std * 0.05, days)\n",
    "                    bootstrap_segment = bootstrap_segment + noise\n",
    "                    simulation_matrix[sim, :] = bootstrap_segment\n",
    "                else:\n",
    "                    # Distribución normal estándar\n",
    "                    simulation_matrix[sim, :] = np.random.normal(daily_mean, daily_std, days)\n",
    "                \n",
    "                # Límites conservadores\n",
    "                simulation_matrix[sim, :] = np.clip(simulation_matrix[sim, :], -0.06, 0.06)\n",
    "            \n",
    "            # Calcular valores finales\n",
    "            cumulative_returns = np.cumprod(1 + simulation_matrix, axis=1)\n",
    "            final_values = cumulative_returns[:, -1]\n",
    "            \n",
    "            # Retornos para el período específico\n",
    "            period_returns = final_values - 1\n",
    "            \n",
    "            # Estadísticas del período\n",
    "            percentiles = [1, 5, 10, 25, 50, 75, 90, 95, 99]\n",
    "            period_percentiles = np.percentile(period_returns, percentiles)\n",
    "            \n",
    "            # Probabilidades de pérdida\n",
    "            prob_loss = np.sum(period_returns < 0) / len(period_returns)\n",
    "            prob_loss_10_period = np.sum(period_returns < -0.10) / len(period_returns)\n",
    "            prob_loss_20_period = np.sum(period_returns < -0.20) / len(period_returns)\n",
    "            prob_loss_30_period = np.sum(period_returns < -0.30) / len(period_returns)\n",
    "            \n",
    "            # VaR y CVaR\n",
    "            var_95_period = np.percentile(period_returns, 5)\n",
    "            var_99_period = np.percentile(period_returns, 1)\n",
    "            cvar_95_period = np.mean(period_returns[period_returns <= var_95_period])\n",
    "            cvar_99_period = np.mean(period_returns[period_returns <= var_99_period])\n",
    "            \n",
    "            results[days] = {\n",
    "                'horizon_months': days // 21,\n",
    "                'horizon_days': days,\n",
    "                'period_stats': {\n",
    "                    'mean': np.mean(period_returns),\n",
    "                    'std': np.std(period_returns),\n",
    "                    'min': np.min(period_returns),\n",
    "                    'max': np.max(period_returns),\n",
    "                    'percentiles': dict(zip(percentiles, period_percentiles)),\n",
    "                },\n",
    "                'probabilities': {\n",
    "                    'loss': prob_loss,\n",
    "                    'loss_10': prob_loss_10_period,\n",
    "                    'loss_20': prob_loss_20_period,\n",
    "                    'loss_30': prob_loss_30_period\n",
    "                },\n",
    "                'risk_metrics': {\n",
    "                    'var_95': var_95_period,\n",
    "                    'var_99': var_99_period,\n",
    "                    'cvar_95': cvar_95_period,\n",
    "                    'cvar_99': cvar_99_period\n",
    "                },\n",
    "                'garch_used': use_garch\n",
    "            }\n",
    "            \n",
    "            # Guardar caminos para visualización\n",
    "            if days == 252:\n",
    "                all_paths[days] = cumulative_returns[:100]\n",
    "        \n",
    "        return results, all_paths, portfolio_metrics\n",
    "    \n",
    "    def stress_testing_argentina(self, weights_dict):\n",
    "        \"\"\"Stress testing específico para Argentina\"\"\"\n",
    "        results = {}\n",
    "        \n",
    "        for scenario_name, params in self.scenarios_argentina.items():\n",
    "            portfolio_impact = 0\n",
    "            \n",
    "            for asset, weight in weights_dict.items():\n",
    "                asset_type = self.classify_asset_argentina(asset)\n",
    "                crisis_sensitivity = self.asset_adjustments[asset_type]['crisis_sensitivity']\n",
    "                \n",
    "                # Ajustar shock por tipo de activo\n",
    "                asset_shock = params['shock'] * crisis_sensitivity\n",
    "                portfolio_impact += weight * asset_shock\n",
    "            \n",
    "            results[scenario_name] = {\n",
    "                'impact': portfolio_impact,\n",
    "                'duration_days': params['duration'],\n",
    "                'probability': params['prob'],\n",
    "                'severity': abs(portfolio_impact),\n",
    "                'expected_loss': portfolio_impact * params['prob']\n",
    "            }\n",
    "        \n",
    "        return results\n",
    "\n",
    "# =============================================================================\n",
    "# 📊 FUNCIÓN DE ANÁLISIS COMPLETO CON PRESENTACIÓN CORREGIDA\n",
    "# =============================================================================\n",
    "\n",
    "def analizar_monte_carlo_argentina_garch(cartera_weights, returns_data):\n",
    "    \"\"\"Análisis completo Monte Carlo con modelos GARCH/ARCH\"\"\"\n",
    "    \n",
    "    if not cartera_weights or returns_data.empty:\n",
    "        print(\"❌ ERROR: No hay datos suficientes para el análisis\")\n",
    "        return None\n",
    "    \n",
    "    print(\"🇦🇷 ANÁLISIS MONTE CARLO CON GARCH - CONTEXTO ARGENTINO\")\n",
    "    print(\"=\" * 75)\n",
    "    \n",
    "    # Inicializar simulador con GARCH\n",
    "    mc_simulator = MonteCarloArgentinaARCH(risk_free_rate=0.04)\n",
    "    \n",
    "    # Ejecutar simulaciones con GARCH\n",
    "    mc_results, paths, portfolio_metrics = mc_simulator.monte_carlo_simulation_with_garch(\n",
    "        cartera_weights, returns_data\n",
    "    )\n",
    "    stress_results = mc_simulator.stress_testing_argentina(cartera_weights)\n",
    "    \n",
    "    # =============================================================================\n",
    "    # 📋 1. COMPOSICIÓN DE CARTERA\n",
    "    # =============================================================================\n",
    "    \n",
    "    print(\"\\n📈 COMPOSICIÓN DE TU CARTERA:\")\n",
    "    print(\"-\" * 40)\n",
    "    \n",
    "    df_composicion = pd.DataFrame([\n",
    "        {'Activo': activo, 'Peso (%)': peso*100, 'Tipo': mc_simulator.classify_asset_argentina(activo)}\n",
    "        for activo, peso in sorted(cartera_weights.items(), key=lambda x: x[1], reverse=True)\n",
    "        if peso > 0.01\n",
    "    ])\n",
    "    \n",
    "    display(df_composicion.style.format({'Peso (%)': '{:.1f}%'})\n",
    "                              .background_gradient(subset=['Peso (%)'], cmap='Blues'))\n",
    "    \n",
    "    # =============================================================================\n",
    "    # 🎯 2. INFORMACIÓN MODELOS GARCH AJUSTADOS\n",
    "    # =============================================================================\n",
    "    \n",
    "    print(\"\\n🎯 MODELOS GARCH AJUSTADOS:\")\n",
    "    print(\"-\" * 40)\n",
    "    \n",
    "    if portfolio_metrics.get('portfolio_garch'):\n",
    "        garch_model = portfolio_metrics['portfolio_garch']\n",
    "        print(f\"✅ GARCH de Cartera Completa:\")\n",
    "        print(f\"   • Modelo: {garch_model.model.volatility}\")\n",
    "        print(f\"   • AIC: {garch_model.aic:.2f}\")\n",
    "        print(f\"   • Log-Likelihood: {garch_model.loglikelihood:.2f}\")\n",
    "        \n",
    "        # Mostrar parámetros del modelo\n",
    "        print(f\"   • Parámetros:\")\n",
    "        for param, value in garch_model.params.items():\n",
    "            print(f\"     - {param}: {value:.6f}\")\n",
    "    else:\n",
    "        print(\"⚠️ No se pudo ajustar modelo GARCH para la cartera\")\n",
    "    \n",
    "    # Información de modelos individuales\n",
    "    asset_models = portfolio_metrics.get('asset_garch_models', {})\n",
    "    if asset_models:\n",
    "        print(f\"\\n📊 MODELOS GARCH POR ACTIVO PRINCIPAL:\")\n",
    "        for asset, model in asset_models.items():\n",
    "            print(f\"   • {asset}: GARCH ajustado (AIC: {model.aic:.2f})\")\n",
    "    \n",
    "    # =============================================================================\n",
    "    # 📊 3. RESULTADOS MONTE CARLO CON GARCH\n",
    "    # =============================================================================\n",
    "    \n",
    "    print(f\"\\n📊 RESULTADOS SIMULACIÓN MONTE CARLO (CON GARCH):\")\n",
    "    print(\"-\" * 65)\n",
    "    \n",
    "    mc_data = []\n",
    "    for days, results in mc_results.items():\n",
    "        period_return = results['period_stats']['mean'] * 100\n",
    "        period_vol = results['period_stats']['std'] * 100\n",
    "        garch_used = results.get('garch_used', False)\n",
    "        \n",
    "        mc_data.append({\n",
    "            'Horizonte': f\"{results['horizon_months']} mes{'es' if results['horizon_months'] > 1 else ''}\",\n",
    "            'Retorno del Período (%)': period_return,\n",
    "            'Volatilidad del Período (%)': period_vol,\n",
    "            'VaR 95% del Período (%)': results['risk_metrics']['var_95'] * 100,\n",
    "            'Prob. Pérdida (%)': results['probabilities']['loss'] * 100,\n",
    "            'Modelo': 'GARCH' if garch_used else 'Normal'\n",
    "        })\n",
    "    \n",
    "    df_monte_carlo = pd.DataFrame(mc_data)\n",
    "    \n",
    "    # Aplicar formato\n",
    "    styler = df_monte_carlo.style.format({\n",
    "        'Retorno del Período (%)': '{:+.1f}',\n",
    "        'Volatilidad del Período (%)': '{:.1f}',\n",
    "        'VaR 95% del Período (%)': '{:+.1f}',\n",
    "        'Prob. Pérdida (%)': '{:.1f}',\n",
    "    })\n",
    "    \n",
    "    # Colorear celdas\n",
    "    def color_returns(val):\n",
    "        if isinstance(val, (int, float)):\n",
    "            if val < -10:\n",
    "                return 'color: darkred; font-weight: bold'\n",
    "            elif val < 0:\n",
    "                return 'color: red'\n",
    "            elif val > 0:\n",
    "                return 'color: green'\n",
    "        return 'color: black'\n",
    "    \n",
    "    def color_model(val):\n",
    "        if val == 'GARCH':\n",
    "            return 'background-color: lightgreen; font-weight: bold'\n",
    "        else:\n",
    "            return 'background-color: lightyellow'\n",
    "    \n",
    "    styler = styler.applymap(color_returns, subset=['Retorno del Período (%)', 'VaR 95% del Período (%)'])\n",
    "    styler = styler.applymap(color_model, subset=['Modelo'])\n",
    "    \n",
    "    display(styler)\n",
    "    \n",
    "    # =============================================================================\n",
    "    # 💥 4. STRESS TESTING  \n",
    "    # =============================================================================\n",
    "    \n",
    "    print(\"\\n💥 ANÁLISIS DE STRESS TESTING:\")\n",
    "    print(\"-\" * 40)\n",
    "    \n",
    "    sorted_stress = sorted(stress_results.items(), \n",
    "                          key=lambda x: x[1]['severity'], reverse=True)\n",
    "    \n",
    "    stress_data = []\n",
    "    for scenario, data in sorted_stress:\n",
    "        stress_data.append({\n",
    "            'Escenario': scenario,\n",
    "            'Impacto (%)': data['impact'] * 100,\n",
    "            'Duración (días)': data['duration_days'],\n",
    "            'Probabilidad (%)': data['probability'] * 100,\n",
    "            'Pérdida Esperada (%)': data['expected_loss'] * 100,\n",
    "            'Severidad': '🔴' if data['severity'] > 0.4 else '🟡' if data['severity'] > 0.2 else '🟢'\n",
    "        })\n",
    "    \n",
    "    df_stress = pd.DataFrame(stress_data)\n",
    "    \n",
    "    styler_stress = df_stress.style.format({\n",
    "        'Impacto (%)': '{:+.1f}',\n",
    "        'Duración (días)': '{:.0f}',\n",
    "        'Probabilidad (%)': '{:.1f}',\n",
    "        'Pérdida Esperada (%)': '{:+.2f}'\n",
    "    })\n",
    "    \n",
    "    styler_stress = styler_stress.background_gradient(subset=['Impacto (%)'], cmap='Reds_r')\n",
    "    styler_stress = styler_stress.background_gradient(subset=['Probabilidad (%)'], cmap='YlOrRd')\n",
    "    \n",
    "    display(styler_stress)\n",
    "    \n",
    "    # =============================================================================\n",
    "    # 📈 5. INTERPRETACIÓN CON GARCH\n",
    "    # =============================================================================\n",
    "    \n",
    "    print(f\"\\n📈 INTERPRETACIÓN CON MODELOS GARCH:\")\n",
    "    print(\"-\" * 50)\n",
    "    \n",
    "    for days in [21, 63, 126, 252]:\n",
    "        if days in mc_results:\n",
    "            months = days // 21\n",
    "            \n",
    "            period_return = mc_results[days]['period_stats']['mean'] * 100\n",
    "            period_vol = mc_results[days]['period_stats']['std'] * 100\n",
    "            prob_perdida = mc_results[days]['probabilities']['loss'] * 100\n",
    "            var_95 = mc_results[days]['risk_metrics']['var_95'] * 100\n",
    "            garch_used = mc_results[days].get('garch_used', False)\n",
    "            \n",
    "            print(f\"\\n🔹 {months} mes{'es' if months > 1 else ''} ({days} días) {'📊 GARCH' if garch_used else '📈 Normal'}:\")\n",
    "            print(f\"   • Retorno esperado del período: {period_return:+.1f}%\")\n",
    "            print(f\"   • Volatilidad del período: {period_vol:.1f}%\")\n",
    "            print(f\"   • Probabilidad de pérdida: {prob_perdida:.1f}%\")\n",
    "            print(f\"   • VaR 95% (pérdida): {abs(var_95):.1f}%\")\n",
    "            \n",
    "            if garch_used:\n",
    "                print(f\"   ✅ Simulación con volatilidad condicional GARCH\")\n",
    "            else:\n",
    "                print(f\"   📊 Simulación con distribución normal estándar\")\n",
    "            \n",
    "            # Interpretación específica realista\n",
    "            if period_return < -5:\n",
    "                print(f\"   🔴 Retorno negativo esperado - revisar estrategia\")\n",
    "            elif period_return < 2 and months == 1:\n",
    "                print(f\"   🟡 Retorno mensual bajo\")\n",
    "            elif period_return < 5 and months == 3:\n",
    "                print(f\"   🟡 Retorno trimestral bajo\")\n",
    "            elif period_return < 8 and months == 6:\n",
    "                print(f\"   🟡 Retorno semestral bajo\")  \n",
    "            elif period_return < 15 and months == 12:\n",
    "                print(f\"   🟡 Retorno anual bajo\")\n",
    "            else:\n",
    "                print(f\"   ✅ Retorno esperado razonable para el período\")\n",
    "                \n",
    "            if prob_perdida > 50:\n",
    "                print(f\"   ⚠️ Alta probabilidad de pérdida\")\n",
    "            elif prob_perdida > 35:\n",
    "                print(f\"   📊 Probabilidad moderada de pérdida\")\n",
    "            else:\n",
    "                print(f\"   ✅ Baja probabilidad de pérdida\")\n",
    "    \n",
    "    # =============================================================================\n",
    "    # 📊 6. VISUALIZACIONES\n",
    "    # =============================================================================\n",
    "    \n",
    "    create_visualizations_argentina(mc_results, paths, stress_results)\n",
    "    \n",
    "    return mc_results, stress_results, portfolio_metrics\n",
    "\n",
    "# =============================================================================\n",
    "# 🎨 FUNCIÓN DE VISUALIZACIONES MEJORADAS\n",
    "# =============================================================================\n",
    "\n",
    "def create_visualizations_argentina(mc_results, paths, stress_results):\n",
    "    \"\"\"Crea visualizaciones específicas para Argentina\"\"\"\n",
    "    \n",
    "    # 1. Distribuciones de retorno por horizonte (usando retornos del período)\n",
    "    fig_dist = make_subplots(\n",
    "        rows=2, cols=2,\n",
    "        subplot_titles=['1 Mes', '3 Meses', '6 Meses', '1 Año'],\n",
    "        specs=[[{\"secondary_y\": False}, {\"secondary_y\": False}],\n",
    "               [{\"secondary_y\": False}, {\"secondary_y\": False}]]\n",
    "    )\n",
    "    \n",
    "    horizons = [21, 63, 126, 252]\n",
    "    positions = [(1,1), (1,2), (2,1), (2,2)]\n",
    "    colors = ['#FF6B6B', '#4ECDC4', '#45B7D1', '#96CEB4']\n",
    "    \n",
    "    for i, (days, pos, color) in enumerate(zip(horizons, positions, colors)):\n",
    "        if days in mc_results:\n",
    "            mean_ret = mc_results[days]['period_stats']['mean']\n",
    "            std_ret = mc_results[days]['period_stats']['std']\n",
    "            \n",
    "            # Crear curva de distribución\n",
    "            x_vals = np.linspace(mean_ret - 3*std_ret, mean_ret + 3*std_ret, 100)\n",
    "            y_vals = stats.norm.pdf(x_vals, mean_ret, std_ret)\n",
    "            \n",
    "            fig_dist.add_trace(\n",
    "                go.Scatter(x=x_vals*100, y=y_vals, \n",
    "                          fill='tozeroy', fillcolor=color, opacity=0.7,\n",
    "                          name=f'{days//21} Meses', line=dict(color=color, width=2)),\n",
    "                row=pos[0], col=pos[1]\n",
    "            )\n",
    "            \n",
    "            # Líneas de percentiles\n",
    "            p5 = mc_results[days]['period_stats']['percentiles'][5] * 100\n",
    "            p95 = mc_results[days]['period_stats']['percentiles'][95] * 100\n",
    "            \n",
    "            fig_dist.add_vline(x=p5, line_dash=\"dash\", line_color=\"red\", \n",
    "                              row=pos[0], col=pos[1])\n",
    "            fig_dist.add_vline(x=p95, line_dash=\"dash\", line_color=\"green\", \n",
    "                              row=pos[0], col=pos[1])\n",
    "    \n",
    "    fig_dist.update_layout(\n",
    "        title='🇦🇷 Distribución de Retornos por Período - Contexto Argentino',\n",
    "        height=600, showlegend=False, template='plotly_white'\n",
    "    )\n",
    "    fig_dist.update_xaxes(title_text=\"Retorno del Período (%)\")\n",
    "    fig_dist.update_yaxes(title_text=\"Densidad de Probabilidad\")\n",
    "    fig_dist.show()\n",
    "    \n",
    "    # 2. Stress Testing - Gráfico de barras\n",
    "    if stress_results:\n",
    "        scenarios = list(stress_results.keys())\n",
    "        impacts = [stress_results[s]['impact'] * 100 for s in scenarios]\n",
    "        probabilities = [stress_results[s]['probability'] * 100 for s in scenarios]\n",
    "        \n",
    "        # Colorear por severidad\n",
    "        colors_stress = []\n",
    "        for imp in impacts:\n",
    "            if imp < -40:\n",
    "                colors_stress.append('#8B0000')  # Rojo oscuro\n",
    "            elif imp < -25:\n",
    "                colors_stress.append('#FF0000')  # Rojo\n",
    "            elif imp < -15:\n",
    "                colors_stress.append('#FF8C00')  # Naranja\n",
    "            else:\n",
    "                colors_stress.append('#FFD700')  # Amarillo\n",
    "        \n",
    "        fig_stress = go.Figure(go.Bar(\n",
    "            x=impacts,\n",
    "            y=scenarios,\n",
    "            orientation='h',\n",
    "            marker_color=colors_stress,\n",
    "            text=[f'{imp:+.1f}% (P:{prob:.0f}%)' \n",
    "                  for imp, prob in zip(impacts, probabilities)],\n",
    "            textposition='auto',\n",
    "            hovertemplate='%{y}<br>Impacto: %{x:+.1f}%<extra></extra>'\n",
    "        ))\n",
    "        \n",
    "        fig_stress.update_layout(\n",
    "            title='💥 Stress Testing - Escenarios Argentinos',\n",
    "            xaxis_title='Impacto en Cartera (%)',\n",
    "            yaxis_title='Escenario',\n",
    "            template='plotly_white',\n",
    "            height=500\n",
    "        )\n",
    "        fig_stress.add_vline(x=0, line_dash=\"dash\", line_color=\"black\")\n",
    "        fig_stress.show()\n",
    "        \n",
    "    # Guardar gráficos\n",
    "    try:\n",
    "        fig_dist.write_image(\"monte_carlo_distribuciones_periodo.png\", width=1200, height=600, scale=2)\n",
    "        if 'fig_stress' in locals():\n",
    "            fig_stress.write_image(\"stress_testing_argentina_final.png\", width=1000, height=500, scale=2)\n",
    "        print(\"📁 Gráficos guardados exitosamente\")\n",
    "    except:\n",
    "        print(\"⚠️ No se pudieron guardar los gráficos (requiere kaleido)\")\n",
    "\n",
    "# =============================================================================\n",
    "# 🚀 EJECUTAR ANÁLISIS MONTE CARLO CON GARCH\n",
    "# =============================================================================\n",
    "\n",
    "if 'cartera_real_weights' in globals() and cartera_real_weights and 'df_data_completo' in globals():\n",
    "    print(\"🚀 Iniciando análisis Monte Carlo con GARCH para Argentina...\")\n",
    "    mc_results, stress_results, portfolio_metrics = analizar_monte_carlo_argentina_garch(\n",
    "        cartera_real_weights, df_data_completo\n",
    "    )\n",
    "    \n",
    "    if mc_results:\n",
    "        print(\"\\n🎯 RESUMEN FINAL CON GARCH:\")\n",
    "        print(\"-\" * 50)\n",
    "        print(\"RETORNOS ESPERADOS POR PERÍODO (con volatilidad condicional GARCH):\")\n",
    "        for days in [21, 63, 126, 252]:\n",
    "            if days in mc_results:\n",
    "                period_ret = mc_results[days]['period_stats']['mean'] * 100\n",
    "                months = days // 21\n",
    "                garch_used = mc_results[days].get('garch_used', False)\n",
    "                model_str = \"GARCH\" if garch_used else \"Normal\"\n",
    "                print(f\"   {months} mes(es): {period_ret:+.1f}% del capital [{model_str}]\")\n",
    "        \n",
    "        print(f\"\\n✅ Análisis Monte Carlo completado con modelos GARCH\")\n",
    "        print(\"📝 Volatilidad condicional modelada con ARCH/GARCH según disponibilidad de datos\")\n",
    "        \n",
    "        # Información adicional sobre GARCH\n",
    "        if portfolio_metrics.get('portfolio_garch'):\n",
    "            print(f\"🎯 Modelo GARCH de cartera ajustado correctamente\")\n",
    "        else:\n",
    "            print(f\"⚠️ Modelo GARCH no disponible - usando distribución normal calibrada\")\n",
    "            \n",
    "    else:\n",
    "        print(\"❌ Error en el análisis\")\n",
    "else:\n",
    "    print(\"❌ ERROR: Faltan datos de cartera o precios históricos\")\n",
    "    mc_results = stress_results = portfolio_metrics = None\n",
    "\n",
    "# =============================================================================\n",
    "# 🎨 VISUALIZACIONES MONTE CARLO CON GARCH - AGREGADAS\n",
    "# =============================================================================\n",
    "\n",
    "if 'mc_results' in locals() and mc_results is not None:\n",
    "    print(f\"\\n🎨 GENERANDO VISUALIZACIONES MONTE CARLO CON GARCH...\")\n",
    "    \n",
    "    import plotly.express as px\n",
    "    import plotly.graph_objects as go\n",
    "    from plotly.subplots import make_subplots\n",
    "    import numpy as np\n",
    "    \n",
    "    # 1. DISTRIBUCIONES DE RETORNOS POR HORIZONTE\n",
    "    fig_dist = make_subplots(\n",
    "        rows=2, cols=2,\n",
    "        subplot_titles=['1 Mes (GARCH)', '3 Meses (GARCH)', '6 Meses (GARCH)', '12 Meses (GARCH)'],\n",
    "        specs=[[{\"secondary_y\": False}, {\"secondary_y\": False}],\n",
    "               [{\"secondary_y\": False}, {\"secondary_y\": False}]]\n",
    "    )\n",
    "    \n",
    "    colors = ['#1f77b4', '#ff7f0e', '#2ca02c', '#d62728']\n",
    "    horizons = [21, 63, 126, 252]\n",
    "    positions = [(1, 1), (1, 2), (2, 1), (2, 2)]\n",
    "    \n",
    "    for i, (days, pos, color) in enumerate(zip(horizons, positions, colors)):\n",
    "        if days in mc_results:\n",
    "            # Generar distribución simulada para visualización\n",
    "            stats = mc_results[days]['period_stats']\n",
    "            mean_ret = stats['mean']\n",
    "            std_ret = stats['std']\n",
    "            \n",
    "            # Simulación rápida para histograma\n",
    "            sample_returns = np.random.normal(mean_ret, std_ret, 1000)\n",
    "            \n",
    "            fig_dist.add_trace(\n",
    "                go.Histogram(\n",
    "                    x=sample_returns * 100,\n",
    "                    name=f'{days//21} mes(es)',\n",
    "                    nbinsx=30,\n",
    "                    marker_color=color,\n",
    "                    opacity=0.7\n",
    "                ),\n",
    "                row=pos[0], col=pos[1]\n",
    "            )\n",
    "    \n",
    "    fig_dist.update_layout(\n",
    "        title_text=\"🔮 Distribuciones de Retornos Monte Carlo con GARCH\",\n",
    "        showlegend=False,\n",
    "        height=600\n",
    "    )\n",
    "    \n",
    "    fig_dist.update_xaxes(title_text=\"Retorno del Período (%)\")\n",
    "    fig_dist.update_yaxes(title_text=\"Frecuencia\")\n",
    "    \n",
    "    fig_dist.show()\n",
    "    \n",
    "    # 2. EVOLUCIÓN TEMPORAL DE CAMINOS MONTE CARLO (252 días)\n",
    "    if 'paths' in locals() and paths and 252 in paths and paths[252] is not None:\n",
    "        fig_paths = go.Figure()\n",
    "        \n",
    "        # Mostrar solo los primeros 20 caminos para claridad\n",
    "        sample_paths = paths[252][:20]\n",
    "        \n",
    "        for i, path in enumerate(sample_paths):\n",
    "            valor_acumulado = np.cumprod(1 + path) * 100  # Convertir a valor inicial 100\n",
    "            \n",
    "            fig_paths.add_trace(\n",
    "                go.Scatter(\n",
    "                    x=list(range(len(valor_acumulado))),\n",
    "                    y=valor_acumulado,\n",
    "                    mode='lines',\n",
    "                    name=f'Camino {i+1}',\n",
    "                    line=dict(width=1, color=f'rgba({np.random.randint(0,255)},{np.random.randint(0,255)},{np.random.randint(0,255)},0.6)'),\n",
    "                    showlegend=False\n",
    "                )\n",
    "            )\n",
    "        \n",
    "        # Agregar línea de valor inicial\n",
    "        fig_paths.add_hline(y=100, line_dash=\"dash\", line_color=\"black\", annotation_text=\"Valor Inicial\")\n",
    "        \n",
    "        fig_paths.update_layout(\n",
    "            title=\"🛤️ Caminos Monte Carlo - Evolución de Cartera (12 meses con GARCH)\",\n",
    "            xaxis_title=\"Días Hábiles\",\n",
    "            yaxis_title=\"Valor de Cartera (Base 100)\",\n",
    "            height=500\n",
    "        )\n",
    "        \n",
    "        fig_paths.show()\n",
    "    \n",
    "    # 3. HEATMAP DE MÉTRICAS DE RIESGO\n",
    "    horizons_labels = [\"1 mes\", \"3 meses\", \"6 meses\", \"12 meses\"]\n",
    "    metrics_labels = [\"Retorno %\", \"Volatilidad %\", \"VaR 95%\", \"Prob. Pérdida %\"]\n",
    "    \n",
    "    # Crear matriz de datos\n",
    "    heatmap_data = []\n",
    "    for days in horizons:\n",
    "        if days in mc_results:\n",
    "            stats = mc_results[days]['period_stats']\n",
    "            var_95 = mc_results[days]['risk_metrics']['var_95']\n",
    "            prob_loss = mc_results[days]['probabilities']['loss']\n",
    "            \n",
    "            row_data = [\n",
    "                stats['mean'] * 100,      # Retorno %\n",
    "                stats['std'] * 100,       # Volatilidad %\n",
    "                abs(var_95) * 100,        # VaR 95% (valor absoluto)\n",
    "                prob_loss * 100           # Probabilidad pérdida %\n",
    "            ]\n",
    "            heatmap_data.append(row_data)\n",
    "    \n",
    "    if heatmap_data:\n",
    "        fig_heatmap = go.Figure(data=go.Heatmap(\n",
    "            z=heatmap_data,\n",
    "            x=metrics_labels,\n",
    "            y=horizons_labels,\n",
    "            colorscale='RdYlBu_r',\n",
    "            text=[[f\"{val:.1f}\" for val in row] for row in heatmap_data],\n",
    "            texttemplate=\"%{text}\",\n",
    "            textfont={\"size\": 12}\n",
    "        ))\n",
    "    \n",
    "        fig_heatmap.update_layout(\n",
    "            title=\"🌡️ Mapa de Calor: Métricas de Riesgo por Horizonte Temporal (GARCH)\",\n",
    "            height=400\n",
    "        )\n",
    "        \n",
    "        fig_heatmap.show()\n",
    "    \n",
    "    # 4. STRESS TESTING VISUAL\n",
    "    if 'stress_results' in locals() and stress_results:\n",
    "        scenarios_names = list(stress_results.keys())\n",
    "        impacts = [abs(data['impact']) * 100 for data in stress_results.values()]\n",
    "        probabilities = [data['probability'] * 100 for data in stress_results.values()]\n",
    "    \n",
    "        fig_stress = go.Figure()\n",
    "    \n",
    "        # Gráfico de barras de impactos\n",
    "        fig_stress.add_trace(go.Bar(\n",
    "            name='Impacto (%)',\n",
    "            x=scenarios_names,\n",
    "            y=impacts,\n",
    "            yaxis='y',\n",
    "            marker_color='red',\n",
    "            opacity=0.7\n",
    "        ))\n",
    "    \n",
    "        # Crear segundo eje Y para probabilidades\n",
    "        fig_stress.add_trace(go.Scatter(\n",
    "            name='Probabilidad (%)',\n",
    "            x=scenarios_names,\n",
    "            y=probabilities,\n",
    "            yaxis='y2',\n",
    "            mode='lines+markers',\n",
    "            line=dict(color='blue', width=3),\n",
    "            marker=dict(size=8, color='blue')\n",
    "        ))\n",
    "    \n",
    "        fig_stress.update_layout(\n",
    "            title='💥 Análisis de Stress Testing - Argentina',\n",
    "            xaxis=dict(title='Escenarios de Crisis'),\n",
    "            yaxis=dict(title='Impacto Negativo (%)', side='left', color='red'),\n",
    "            yaxis2=dict(title='Probabilidad (%)', side='right', overlaying='y', color='blue'),\n",
    "            height=500\n",
    "        )\n",
    "    \n",
    "        fig_stress.update_xaxes(tickangle=45)\n",
    "        fig_stress.show()\n",
    "    \n",
    "    # Guardar gráficos\n",
    "    try:\n",
    "        fig_dist.write_image(\"monte_carlo_distribuciones_garch.png\", width=1200, height=600, scale=2)\n",
    "        if 'fig_paths' in locals():\n",
    "            fig_paths.write_image(\"monte_carlo_caminos_garch.png\", width=1000, height=500, scale=2)\n",
    "        if 'fig_heatmap' in locals():\n",
    "            fig_heatmap.write_image(\"monte_carlo_heatmap_garch.png\", width=800, height=400, scale=2)\n",
    "        if 'fig_stress' in locals():\n",
    "            fig_stress.write_image(\"stress_testing_garch.png\", width=1000, height=500, scale=2)\n",
    "        print(\"📁 Gráficos guardados exitosamente\")\n",
    "    except:\n",
    "        print(\"⚠️ No se pudieron guardar los gráficos (requiere kaleido)\")\n",
    "    \n",
    "    print(\"🎨 ¡VISUALIZACIONES AGREGADAS EXITOSAMENTE!\")\n",
    "else:\n",
    "    print(\"⚠️ No hay resultados Monte Carlo para visualizar\")"
   ]
  }
 ],
 "metadata": {
  "kernelspec": {
   "display_name": "ds",
   "language": "python",
   "name": "python3"
  },
  "language_info": {
   "codemirror_mode": {
    "name": "ipython",
    "version": 3
   },
   "file_extension": ".py",
   "mimetype": "text/x-python",
   "name": "python",
   "nbconvert_exporter": "python",
   "pygments_lexer": "ipython3",
   "version": "3.12.10"
  }
 },
 "nbformat": 4,
 "nbformat_minor": 5
}
