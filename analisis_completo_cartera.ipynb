{
 "cells": [
  {
   "cell_type": "markdown",
   "id": "8cc39ed9",
   "metadata": {},
   "source": [
    "# Análisis Completo de Cartera - Portfolio Analyzer System\n",
    "\n",
    "## 1. Inventario de Módulos y Planificación\n",
    "\n",
    "### Módulos Detectados y Funciones Públicas Relevantes\n",
    "\n",
    "#### `portfolio_analyzer.data_loader` (PortfolioCompositionLoader - Principal)\n",
    "**Funciones de Carga y Transformación:**\n",
    "- `load_portfolio_daily_data(filename=\"portfolio_consolidado_completo.csv\")` → bool\n",
    "- `load_movements_data(filename=\"movements_report_2025-01-01_2025-09-08.csv\")` → bool\n",
    "- `load_benchmark_data(filename=\"precios_completos_ars.csv\")` → bool\n",
    "- `get_analysis_ready_data(include_benchmarks=False, max_benchmarks=10)` → tuple[DataFrame, DataFrame]\n",
    "\n",
    "**Funciones de Acceso a Datos:**\n",
    "- `get_portfolio_evolution()` → DataFrame (composición diaria completa)\n",
    "- `get_portfolio_weights_matrix()` → DataFrame (matriz pesos × fecha)\n",
    "- `get_current_composition(date=None)` → dict (pesos por activo)\n",
    "- `get_total_value_series()` → Series (valor total diario)\n",
    "- `get_summary_report()` → str\n",
    "\n",
    "#### `portfolio_analyzer.risk_analysis` (RiskCalculator)\n",
    "**Funciones de Métricas de Riesgo:**\n",
    "- `calculate_basic_metrics(returns)` → dict (rendimiento, volatilidad, sharpe, drawdown, etc.)\n",
    "- `calculate_advanced_metrics(returns, benchmark_returns=None)` → dict (alpha, beta, treynor, etc.)\n",
    "- `analyze_portfolio_assets(df, asset_list, benchmark_asset=None)` → DataFrame (métricas por activo)\n",
    "\n",
    "#### `portfolio_analyzer.visualization` (PortfolioVisualizer)\n",
    "**Funciones de Visualización:**\n",
    "- `plot_normalized_performance(df, assets, save_path=None)` → fig\n",
    "- `plot_correlation_matrix(returns_data, save_path=None)` → fig\n",
    "- `plot_drawdown_analysis(backtest_results, save_path=None)` → fig\n",
    "- `plot_risk_return_scatter(strategies_data, save_path=None)` → fig\n",
    "- `plot_rolling_metrics(returns_series, window=63, save_path=None)` → fig\n",
    "\n",
    "#### `portfolio_analyzer.optimization` (PortfolioOptimizer)\n",
    "**Funciones de Optimización:**\n",
    "- `optimize_sharpe(max_weight=1.0, min_weight=0.0)` → dict\n",
    "- `optimize_min_volatility(max_weight=1.0, min_weight=0.0)` → dict\n",
    "- `generate_efficient_frontier(n_portfolios=100)` → DataFrame\n",
    "\n",
    "#### `portfolio_analyzer.simulation` (MonteCarloSimulator)\n",
    "**Funciones de Simulación:**\n",
    "- `calculate_portfolio_returns(weights_dict, data_df)` → array\n",
    "- `simulate_portfolio_paths(portfolio_returns, time_horizons, num_sims=10000, use_garch=True)` → dict\n",
    "- `stress_test_scenarios(portfolio_returns, weights_dict=None)` → dict\n",
    "- `generate_probability_analysis(simulation_results)` → dict\n",
    "\n",
    "### Mapa Tarea → Función\n",
    "\n",
    "| **Tarea** | **Módulo** | **Función Principal** |\n",
    "|-----------|------------|----------------------|\n",
    "| Carga datos cartera | `data_loader` | `PortfolioCompositionLoader.load_portfolio_daily_data()` |\n",
    "| Serie valor total | `data_loader` | `get_total_value_series()` |\n",
    "| Composición temporal | `data_loader` | `get_portfolio_weights_matrix()` |\n",
    "| Métricas de riesgo | `risk_analysis` | `analyze_portfolio_assets()` |\n",
    "| Visualización performance | `visualization` | `plot_normalized_performance()` |\n",
    "| Análisis drawdown | `visualization` | `plot_drawdown_analysis()` |\n",
    "| Optimización cartera | `optimization` | `optimize_sharpe()`, `optimize_min_volatility()` |\n",
    "| Simulaciones Monte Carlo | `simulation` | `simulate_portfolio_paths()` |\n",
    "| Comparación benchmarks | `data_loader` | `get_analysis_ready_data(include_benchmarks=True)` |\n",
    "\n",
    "### Supuestos y Parámetros por Defecto Detectados\n",
    "\n",
    "**Archivos de Datos:**\n",
    "- Datos principales: `outputs/portfolio_consolidado_completo.csv` (separador `;`)\n",
    "- Movimientos: `movements_report_2025-01-01_2025-09-08.csv` (separador `;`)\n",
    "- Benchmarks: `outputs/precios_completos_ars.csv` (separador `;`)\n",
    "\n",
    "**Parámetros por Defecto:**\n",
    "- Tasa libre de riesgo: `0.04` (4% anual)\n",
    "- Ventana métricas móviles: `63` días (~3 meses)\n",
    "- Simulaciones Monte Carlo: `10,000` iteraciones\n",
    "- Horizonte simulación: múltiples períodos en días\n",
    "- Filtro peso mínimo: `0.001` (0.1%)\n",
    "\n",
    "**Formato de Datos Esperado:**\n",
    "- Fechas formato `YYYY-MM-DD`\n",
    "- Columnas cartera: `instrumento`, `cantidad`, `precio`, `total`, `fecha`\n",
    "- Nombres instrumentos en español completo"
   ]
  },
  {
   "cell_type": "markdown",
   "id": "fa008c02",
   "metadata": {},
   "source": [
    "# 2. Setup e Imports desde Módulos del Repositorio"
   ]
  },
  {
   "cell_type": "code",
   "execution_count": 25,
   "id": "8d75efce",
   "metadata": {},
   "outputs": [
    {
     "name": "stdout",
     "output_type": "stream",
     "text": [
      "✅ Modules imported successfully\n",
      "📦 Portfolio Analyzer System - Composition Focus\n"
     ]
    }
   ],
   "source": [
    "# Imports exclusivos desde módulos del repositorio\n",
    "from portfolio_analyzer import (\n",
    "    PortfolioCompositionLoader,\n",
    "    RiskCalculator, \n",
    "    PortfolioVisualizer,\n",
    "    PortfolioOptimizer,\n",
    "    MonteCarloSimulator\n",
    ")\n",
    "\n",
    "# Librerías estándar necesarias\n",
    "import pandas as pd\n",
    "import numpy as np\n",
    "import warnings\n",
    "\n",
    "# Configuración básica\n",
    "warnings.filterwarnings('ignore')\n",
    "pd.set_option('display.max_columns', None)\n",
    "pd.set_option('display.precision', 4)\n",
    "\n",
    "print(\"✅ Modules imported successfully\")\n",
    "print(\"📦 Portfolio Analyzer System - Composition Focus\")"
   ]
  },
  {
   "cell_type": "markdown",
   "id": "33ac1cba",
   "metadata": {},
   "source": [
    "# 3. Carga y Validación de Datos\n",
    "\n",
    "## Inicialización y Carga de Datos Principales"
   ]
  },
  {
   "cell_type": "code",
   "execution_count": 26,
   "id": "5c96d953",
   "metadata": {},
   "outputs": [
    {
     "name": "stdout",
     "output_type": "stream",
     "text": [
      "💼 CARGANDO CARTERA REAL DIARIA...\n",
      "============================================================\n",
      "✅ CARTERA DIARIA CARGADA:\n",
      "   📊 Total registros: 292\n",
      "   📅 Período: 2025-06-24 → 2025-09-07\n",
      "   🎯 Instrumentos únicos: 8\n",
      "🎯 INSTRUMENTOS EN TU CARTERA (resumen)\n"
     ]
    },
    {
     "data": {
      "text/html": [
       "<div>\n",
       "<style scoped>\n",
       "    .dataframe tbody tr th:only-of-type {\n",
       "        vertical-align: middle;\n",
       "    }\n",
       "\n",
       "    .dataframe tbody tr th {\n",
       "        vertical-align: top;\n",
       "    }\n",
       "\n",
       "    .dataframe thead th {\n",
       "        text-align: right;\n",
       "    }\n",
       "</style>\n",
       "<table border=\"1\" class=\"dataframe\">\n",
       "  <thead>\n",
       "    <tr style=\"text-align: right;\">\n",
       "      <th></th>\n",
       "      <th>instrumento</th>\n",
       "      <th>dias_presencia</th>\n",
       "      <th>primera_fecha</th>\n",
       "      <th>ultima_fecha</th>\n",
       "      <th>valor_total_acum</th>\n",
       "    </tr>\n",
       "  </thead>\n",
       "  <tbody>\n",
       "    <tr>\n",
       "      <th>0</th>\n",
       "      <td>COCORMA</td>\n",
       "      <td>73</td>\n",
       "      <td>2025-06-24</td>\n",
       "      <td>2025-09-07</td>\n",
       "      <td>3186261</td>\n",
       "    </tr>\n",
       "    <tr>\n",
       "      <th>1</th>\n",
       "      <td>CEPU</td>\n",
       "      <td>69</td>\n",
       "      <td>2025-07-01</td>\n",
       "      <td>2025-09-07</td>\n",
       "      <td>1157625</td>\n",
       "    </tr>\n",
       "    <tr>\n",
       "      <th>2</th>\n",
       "      <td>AAPL</td>\n",
       "      <td>54</td>\n",
       "      <td>2025-07-16</td>\n",
       "      <td>2025-09-07</td>\n",
       "      <td>1589400</td>\n",
       "    </tr>\n",
       "    <tr>\n",
       "      <th>3</th>\n",
       "      <td>EWZ</td>\n",
       "      <td>26</td>\n",
       "      <td>2025-08-13</td>\n",
       "      <td>2025-09-07</td>\n",
       "      <td>499975</td>\n",
       "    </tr>\n",
       "    <tr>\n",
       "      <th>4</th>\n",
       "      <td>SPY</td>\n",
       "      <td>26</td>\n",
       "      <td>2025-08-13</td>\n",
       "      <td>2025-09-07</td>\n",
       "      <td>1124450</td>\n",
       "    </tr>\n",
       "    <tr>\n",
       "      <th>5</th>\n",
       "      <td>BHIP</td>\n",
       "      <td>15</td>\n",
       "      <td>2025-07-01</td>\n",
       "      <td>2025-07-15</td>\n",
       "      <td>166206</td>\n",
       "    </tr>\n",
       "    <tr>\n",
       "      <th>6</th>\n",
       "      <td>METR</td>\n",
       "      <td>15</td>\n",
       "      <td>2025-07-01</td>\n",
       "      <td>2025-07-15</td>\n",
       "      <td>290250</td>\n",
       "    </tr>\n",
       "    <tr>\n",
       "      <th>7</th>\n",
       "      <td>IBM</td>\n",
       "      <td>14</td>\n",
       "      <td>2025-07-30</td>\n",
       "      <td>2025-08-12</td>\n",
       "      <td>624100</td>\n",
       "    </tr>\n",
       "  </tbody>\n",
       "</table>\n",
       "</div>"
      ],
      "text/plain": [
       "  instrumento  dias_presencia primera_fecha ultima_fecha  valor_total_acum\n",
       "0     COCORMA              73    2025-06-24   2025-09-07           3186261\n",
       "1        CEPU              69    2025-07-01   2025-09-07           1157625\n",
       "2        AAPL              54    2025-07-16   2025-09-07           1589400\n",
       "3         EWZ              26    2025-08-13   2025-09-07            499975\n",
       "4         SPY              26    2025-08-13   2025-09-07           1124450\n",
       "5        BHIP              15    2025-07-01   2025-07-15            166206\n",
       "6        METR              15    2025-07-01   2025-07-15            290250\n",
       "7         IBM              14    2025-07-30   2025-08-12            624100"
      ]
     },
     "metadata": {},
     "output_type": "display_data"
    },
    {
     "name": "stdout",
     "output_type": "stream",
     "text": [
      "📊 CALCULANDO COMPOSICIÓN DIARIA...\n",
      "✅ Composición calculada para 73 días\n",
      "💰 TOP PESOS PROMEDIO (>%0.1%)\n"
     ]
    },
    {
     "data": {
      "text/html": [
       "<div>\n",
       "<style scoped>\n",
       "    .dataframe tbody tr th:only-of-type {\n",
       "        vertical-align: middle;\n",
       "    }\n",
       "\n",
       "    .dataframe tbody tr th {\n",
       "        vertical-align: top;\n",
       "    }\n",
       "\n",
       "    .dataframe thead th {\n",
       "        text-align: right;\n",
       "    }\n",
       "</style>\n",
       "<table border=\"1\" class=\"dataframe\">\n",
       "  <thead>\n",
       "    <tr style=\"text-align: right;\">\n",
       "      <th></th>\n",
       "      <th>activo</th>\n",
       "      <th>peso_promedio</th>\n",
       "      <th>peso_promedio_pct</th>\n",
       "    </tr>\n",
       "  </thead>\n",
       "  <tbody>\n",
       "    <tr>\n",
       "      <th>0</th>\n",
       "      <td>COCORMA</td>\n",
       "      <td>0.3841</td>\n",
       "      <td>38.41</td>\n",
       "    </tr>\n",
       "    <tr>\n",
       "      <th>1</th>\n",
       "      <td>AAPL</td>\n",
       "      <td>0.1797</td>\n",
       "      <td>17.97</td>\n",
       "    </tr>\n",
       "    <tr>\n",
       "      <th>2</th>\n",
       "      <td>CEPU</td>\n",
       "      <td>0.1330</td>\n",
       "      <td>13.30</td>\n",
       "    </tr>\n",
       "    <tr>\n",
       "      <th>3</th>\n",
       "      <td>SPY</td>\n",
       "      <td>0.1250</td>\n",
       "      <td>12.50</td>\n",
       "    </tr>\n",
       "    <tr>\n",
       "      <th>4</th>\n",
       "      <td>IBM</td>\n",
       "      <td>0.0703</td>\n",
       "      <td>7.03</td>\n",
       "    </tr>\n",
       "    <tr>\n",
       "      <th>5</th>\n",
       "      <td>EWZ</td>\n",
       "      <td>0.0555</td>\n",
       "      <td>5.55</td>\n",
       "    </tr>\n",
       "    <tr>\n",
       "      <th>6</th>\n",
       "      <td>METR</td>\n",
       "      <td>0.0333</td>\n",
       "      <td>3.33</td>\n",
       "    </tr>\n",
       "    <tr>\n",
       "      <th>7</th>\n",
       "      <td>BHIP</td>\n",
       "      <td>0.0191</td>\n",
       "      <td>1.91</td>\n",
       "    </tr>\n",
       "  </tbody>\n",
       "</table>\n",
       "</div>"
      ],
      "text/plain": [
       "    activo  peso_promedio  peso_promedio_pct\n",
       "0  COCORMA         0.3841              38.41\n",
       "1     AAPL         0.1797              17.97\n",
       "2     CEPU         0.1330              13.30\n",
       "3      SPY         0.1250              12.50\n",
       "4      IBM         0.0703               7.03\n",
       "5      EWZ         0.0555               5.55\n",
       "6     METR         0.0333               3.33\n",
       "7     BHIP         0.0191               1.91"
      ]
     },
     "metadata": {},
     "output_type": "display_data"
    }
   ],
   "source": [
    "# Inicializar cargador principal\n",
    "loader = PortfolioCompositionLoader()\n",
    "\n",
    "# Cargar datos principales de la cartera\n",
    "success_portfolio = loader.load_portfolio_daily_data()\n",
    "\n",
    "if not success_portfolio:\n",
    "    raise RuntimeError(\"❌ No se pudieron cargar los datos principales de la cartera\")"
   ]
  },
  {
   "cell_type": "code",
   "execution_count": 27,
   "id": "f6c73e3f",
   "metadata": {},
   "outputs": [
    {
     "name": "stdout",
     "output_type": "stream",
     "text": [
      "📋 CARGANDO DATOS AUXILIARES...\n",
      "✅ Movimientos cargados: 22 registros\n",
      "💼 CALCULANDO POSICIONES REALES DESDE MOVIMIENTOS:\n",
      "   ✅ POSICIONES REALES (ARS)\n"
     ]
    },
    {
     "data": {
      "text/html": [
       "<div>\n",
       "<style scoped>\n",
       "    .dataframe tbody tr th:only-of-type {\n",
       "        vertical-align: middle;\n",
       "    }\n",
       "\n",
       "    .dataframe tbody tr th {\n",
       "        vertical-align: top;\n",
       "    }\n",
       "\n",
       "    .dataframe thead th {\n",
       "        text-align: right;\n",
       "    }\n",
       "</style>\n",
       "<table border=\"1\" class=\"dataframe\">\n",
       "  <thead>\n",
       "    <tr style=\"text-align: right;\">\n",
       "      <th></th>\n",
       "      <th>symbol</th>\n",
       "      <th>valor_ars_actual</th>\n",
       "      <th>total_invertido</th>\n",
       "      <th>operaciones</th>\n",
       "      <th>ultima_fecha</th>\n",
       "      <th>is_cedear</th>\n",
       "    </tr>\n",
       "  </thead>\n",
       "  <tbody>\n",
       "    <tr>\n",
       "      <th>0</th>\n",
       "      <td>SPY</td>\n",
       "      <td>42666.78</td>\n",
       "      <td>42666.78</td>\n",
       "      <td>1</td>\n",
       "      <td>2025-08-12</td>\n",
       "      <td>True</td>\n",
       "    </tr>\n",
       "    <tr>\n",
       "      <th>1</th>\n",
       "      <td>AAPL</td>\n",
       "      <td>26971.87</td>\n",
       "      <td>26971.87</td>\n",
       "      <td>1</td>\n",
       "      <td>2025-07-15</td>\n",
       "      <td>True</td>\n",
       "    </tr>\n",
       "    <tr>\n",
       "      <th>2</th>\n",
       "      <td>EWZ</td>\n",
       "      <td>18817.66</td>\n",
       "      <td>18817.66</td>\n",
       "      <td>1</td>\n",
       "      <td>2025-08-12</td>\n",
       "      <td>True</td>\n",
       "    </tr>\n",
       "    <tr>\n",
       "      <th>3</th>\n",
       "      <td>CEPU</td>\n",
       "      <td>5608.99</td>\n",
       "      <td>29085.34</td>\n",
       "      <td>2</td>\n",
       "      <td>2025-07-29</td>\n",
       "      <td>False</td>\n",
       "    </tr>\n",
       "    <tr>\n",
       "      <th>4</th>\n",
       "      <td>IBM</td>\n",
       "      <td>5399.60</td>\n",
       "      <td>46390.06</td>\n",
       "      <td>2</td>\n",
       "      <td>2025-08-12</td>\n",
       "      <td>True</td>\n",
       "    </tr>\n",
       "  </tbody>\n",
       "</table>\n",
       "</div>"
      ],
      "text/plain": [
       "  symbol  valor_ars_actual  total_invertido  operaciones ultima_fecha  \\\n",
       "0    SPY          42666.78         42666.78            1   2025-08-12   \n",
       "1   AAPL          26971.87         26971.87            1   2025-07-15   \n",
       "2    EWZ          18817.66         18817.66            1   2025-08-12   \n",
       "3   CEPU           5608.99         29085.34            2   2025-07-29   \n",
       "4    IBM           5399.60         46390.06            2   2025-08-12   \n",
       "\n",
       "   is_cedear  \n",
       "0       True  \n",
       "1       True  \n",
       "2       True  \n",
       "3      False  \n",
       "4       True  "
      ]
     },
     "metadata": {},
     "output_type": "display_data"
    },
    {
     "name": "stdout",
     "output_type": "stream",
     "text": [
      "📊 CARGANDO DATOS AUXILIARES PARA BENCHMARKS...\n",
      "✅ Benchmarks auxiliares cargados:\n",
      "   📊 Dimensiones: (2812, 42)\n",
      "   📅 Período: 2020-01-02 → 2025-09-08\n",
      "   🎯 Activos disponibles: 42\n"
     ]
    }
   ],
   "source": [
    "# Intentar cargar datos auxiliares (opcionales)\n",
    "print(\"📋 CARGANDO DATOS AUXILIARES...\")\n",
    "\n",
    "# Cargar movimientos (opcional)\n",
    "success_movements = loader.load_movements_data()\n",
    "if not success_movements:\n",
    "    print(\"⚠️ Movimientos no cargados - continuando sin ellos\")\n",
    "\n",
    "# Cargar benchmarks (opcional) \n",
    "success_benchmarks = loader.load_benchmark_data()\n",
    "if not success_benchmarks:\n",
    "    print(\"⚠️ Benchmarks no cargados - continuando sin ellos\")"
   ]
  },
  {
   "cell_type": "code",
   "execution_count": 28,
   "id": "21ee5d67",
   "metadata": {},
   "outputs": [
    {
     "name": "stdout",
     "output_type": "stream",
     "text": [
      "============================================================\n",
      "RESUMEN DE DATOS CARGADOS - PORTFOLIO ANALYZER\n",
      "============================================================\n",
      "💼 CARTERA REAL DIARIA: ✅\n",
      "   • Registros: 292\n",
      "   • Período: 2025-06-24 → 2025-09-07\n",
      "   • Instrumentos: 8\n",
      "   • Valor actual: $128,340 ARS\n",
      "📋 MOVIMIENTOS REALES: ✅\n",
      "   • Registros: 22\n",
      "   • Posiciones calculadas: 5\n",
      "📊 BENCHMARKS AUXILIARES: ✅\n",
      "   • Activos: 42\n",
      "   • Período: 2020-01-02 → 2025-09-08\n",
      "============================================================\n",
      "\n",
      "🔍 VALIDACIÓN COMPLETADA\n"
     ]
    }
   ],
   "source": [
    "# Generar reporte de validación\n",
    "validation_report = loader.get_summary_report()\n",
    "print(\"\\n🔍 VALIDACIÓN COMPLETADA\")"
   ]
  },
  {
   "cell_type": "markdown",
   "id": "5baf107b",
   "metadata": {},
   "source": [
    "# 4. Análisis de Series de la Cartera\n",
    "\n",
    "## Serie de Valor Total y Estadísticas Básicas"
   ]
  },
  {
   "cell_type": "code",
   "execution_count": 29,
   "id": "cec858d4",
   "metadata": {},
   "outputs": [
    {
     "name": "stdout",
     "output_type": "stream",
     "text": [
      "ESTADISTICAS DE VALOR TOTAL:\n",
      "   Valor inicial: $79,927 ARS\n",
      "   Valor final: $128,340 ARS\n",
      "   Valor máximo: $128,340 ARS\n",
      "   Valor mínimo: $59,847 ARS\n",
      "   Retorno total: 60.6%\n",
      "   Retorno diario promedio: 0.0121\n",
      "   Volatilidad diaria: 0.1255\n",
      "   Días de análisis: 73\n",
      "RESUMEN ESTADISTICO:\n"
     ]
    },
    {
     "data": {
      "text/html": [
       "<div>\n",
       "<style scoped>\n",
       "    .dataframe tbody tr th:only-of-type {\n",
       "        vertical-align: middle;\n",
       "    }\n",
       "\n",
       "    .dataframe tbody tr th {\n",
       "        vertical-align: top;\n",
       "    }\n",
       "\n",
       "    .dataframe thead th {\n",
       "        text-align: right;\n",
       "    }\n",
       "</style>\n",
       "<table border=\"1\" class=\"dataframe\">\n",
       "  <thead>\n",
       "    <tr style=\"text-align: right;\">\n",
       "      <th></th>\n",
       "      <th>Métrica</th>\n",
       "      <th>Valor</th>\n",
       "    </tr>\n",
       "  </thead>\n",
       "  <tbody>\n",
       "    <tr>\n",
       "      <th>0</th>\n",
       "      <td>Valor Inicial (ARS)</td>\n",
       "      <td>$79,927</td>\n",
       "    </tr>\n",
       "    <tr>\n",
       "      <th>1</th>\n",
       "      <td>Valor Final (ARS)</td>\n",
       "      <td>$128,340</td>\n",
       "    </tr>\n",
       "    <tr>\n",
       "      <th>2</th>\n",
       "      <td>Retorno Total</td>\n",
       "      <td>60.6%</td>\n",
       "    </tr>\n",
       "    <tr>\n",
       "      <th>3</th>\n",
       "      <td>Volatilidad Diaria</td>\n",
       "      <td>12.55%</td>\n",
       "    </tr>\n",
       "    <tr>\n",
       "      <th>4</th>\n",
       "      <td>Mejor Día</td>\n",
       "      <td>96.08%</td>\n",
       "    </tr>\n",
       "    <tr>\n",
       "      <th>5</th>\n",
       "      <td>Peor Día</td>\n",
       "      <td>-25.26%</td>\n",
       "    </tr>\n",
       "    <tr>\n",
       "      <th>6</th>\n",
       "      <td>Días Positivos</td>\n",
       "      <td>33/72</td>\n",
       "    </tr>\n",
       "  </tbody>\n",
       "</table>\n",
       "</div>"
      ],
      "text/plain": [
       "               Métrica     Valor\n",
       "0  Valor Inicial (ARS)   $79,927\n",
       "1    Valor Final (ARS)  $128,340\n",
       "2        Retorno Total     60.6%\n",
       "3   Volatilidad Diaria    12.55%\n",
       "4            Mejor Día    96.08%\n",
       "5             Peor Día   -25.26%\n",
       "6       Días Positivos     33/72"
      ]
     },
     "metadata": {},
     "output_type": "display_data"
    }
   ],
   "source": [
    "# Obtener serie de valor total\n",
    "total_value_series = loader.get_total_value_series()\n",
    "\n",
    "print(\"ESTADISTICAS DE VALOR TOTAL:\")\n",
    "print(f\"   Valor inicial: ${total_value_series.iloc[0]:,.0f} ARS\")\n",
    "print(f\"   Valor final: ${total_value_series.iloc[-1]:,.0f} ARS\") \n",
    "print(f\"   Valor máximo: ${total_value_series.max():,.0f} ARS\")\n",
    "print(f\"   Valor mínimo: ${total_value_series.min():,.0f} ARS\")\n",
    "\n",
    "# Calcular retorno total\n",
    "retorno_total = (total_value_series.iloc[-1] / total_value_series.iloc[0]) - 1\n",
    "print(f\"   Retorno total: {retorno_total:.1%}\")\n",
    "\n",
    "# Calcular retornos diarios\n",
    "daily_returns = total_value_series.pct_change().dropna()\n",
    "print(f\"   Retorno diario promedio: {daily_returns.mean():.4f}\")\n",
    "print(f\"   Volatilidad diaria: {daily_returns.std():.4f}\")\n",
    "print(f\"   Días de análisis: {len(total_value_series)}\")\n",
    "\n",
    "# Crear DataFrame con estadísticas resumen\n",
    "stats_summary = pd.DataFrame({\n",
    "    'Métrica': ['Valor Inicial (ARS)', 'Valor Final (ARS)', 'Retorno Total', \n",
    "                'Volatilidad Diaria', 'Mejor Día', 'Peor Día', 'Días Positivos'],\n",
    "    'Valor': [f\"${total_value_series.iloc[0]:,.0f}\",\n",
    "              f\"${total_value_series.iloc[-1]:,.0f}\",\n",
    "              f\"{retorno_total:.1%}\",\n",
    "              f\"{daily_returns.std():.2%}\",\n",
    "              f\"{daily_returns.max():.2%}\",\n",
    "              f\"{daily_returns.min():.2%}\",\n",
    "              f\"{(daily_returns > 0).sum()}/{len(daily_returns)}\"]\n",
    "})\n",
    "\n",
    "print(\"RESUMEN ESTADISTICO:\")\n",
    "display(stats_summary)"
   ]
  },
  {
   "cell_type": "code",
   "execution_count": 30,
   "id": "aef62ec7",
   "metadata": {},
   "outputs": [
    {
     "name": "stdout",
     "output_type": "stream",
     "text": [
      "📊 DATOS PREPARADOS PARA ANÁLISIS:\n",
      "   💼 Precios de cartera: (73, 8)\n",
      "DATOS PREPARADOS PARA ANALISIS:\n",
      "   Matriz de precios: (73, 8)\n",
      "   Matriz de retornos: (25, 8)\n",
      "   Período: 2025-06-24 → 2025-09-07\n",
      "\n",
      "INFORMACION DE ACTIVOS:\n"
     ]
    },
    {
     "data": {
      "text/html": [
       "<div>\n",
       "<style scoped>\n",
       "    .dataframe tbody tr th:only-of-type {\n",
       "        vertical-align: middle;\n",
       "    }\n",
       "\n",
       "    .dataframe tbody tr th {\n",
       "        vertical-align: top;\n",
       "    }\n",
       "\n",
       "    .dataframe thead th {\n",
       "        text-align: right;\n",
       "    }\n",
       "</style>\n",
       "<table border=\"1\" class=\"dataframe\">\n",
       "  <thead>\n",
       "    <tr style=\"text-align: right;\">\n",
       "      <th></th>\n",
       "      <th>Activo</th>\n",
       "      <th>Observaciones_Precios</th>\n",
       "      <th>Precio_Inicial</th>\n",
       "      <th>Precio_Final</th>\n",
       "      <th>Observaciones_Retornos</th>\n",
       "    </tr>\n",
       "  </thead>\n",
       "  <tbody>\n",
       "    <tr>\n",
       "      <th>0</th>\n",
       "      <td>AAPL</td>\n",
       "      <td>54</td>\n",
       "      <td>NaN</td>\n",
       "      <td>16625.00</td>\n",
       "      <td>25</td>\n",
       "    </tr>\n",
       "    <tr>\n",
       "      <th>1</th>\n",
       "      <td>BHIP</td>\n",
       "      <td>15</td>\n",
       "      <td>NaN</td>\n",
       "      <td>NaN</td>\n",
       "      <td>25</td>\n",
       "    </tr>\n",
       "    <tr>\n",
       "      <th>2</th>\n",
       "      <td>CEPU</td>\n",
       "      <td>69</td>\n",
       "      <td>NaN</td>\n",
       "      <td>1395.00</td>\n",
       "      <td>25</td>\n",
       "    </tr>\n",
       "    <tr>\n",
       "      <th>3</th>\n",
       "      <td>COCORMA</td>\n",
       "      <td>73</td>\n",
       "      <td>8394.71</td>\n",
       "      <td>9002.34</td>\n",
       "      <td>25</td>\n",
       "    </tr>\n",
       "    <tr>\n",
       "      <th>4</th>\n",
       "      <td>EWZ</td>\n",
       "      <td>26</td>\n",
       "      <td>NaN</td>\n",
       "      <td>20575.00</td>\n",
       "      <td>25</td>\n",
       "    </tr>\n",
       "    <tr>\n",
       "      <th>5</th>\n",
       "      <td>IBM</td>\n",
       "      <td>14</td>\n",
       "      <td>NaN</td>\n",
       "      <td>NaN</td>\n",
       "      <td>25</td>\n",
       "    </tr>\n",
       "    <tr>\n",
       "      <th>6</th>\n",
       "      <td>METR</td>\n",
       "      <td>15</td>\n",
       "      <td>NaN</td>\n",
       "      <td>NaN</td>\n",
       "      <td>25</td>\n",
       "    </tr>\n",
       "    <tr>\n",
       "      <th>7</th>\n",
       "      <td>SPY</td>\n",
       "      <td>26</td>\n",
       "      <td>NaN</td>\n",
       "      <td>44900.00</td>\n",
       "      <td>25</td>\n",
       "    </tr>\n",
       "  </tbody>\n",
       "</table>\n",
       "</div>"
      ],
      "text/plain": [
       "    Activo  Observaciones_Precios  Precio_Inicial  Precio_Final  \\\n",
       "0     AAPL                     54             NaN      16625.00   \n",
       "1     BHIP                     15             NaN           NaN   \n",
       "2     CEPU                     69             NaN       1395.00   \n",
       "3  COCORMA                     73         8394.71       9002.34   \n",
       "4      EWZ                     26             NaN      20575.00   \n",
       "5      IBM                     14             NaN           NaN   \n",
       "6     METR                     15             NaN           NaN   \n",
       "7      SPY                     26             NaN      44900.00   \n",
       "\n",
       "   Observaciones_Retornos  \n",
       "0                      25  \n",
       "1                      25  \n",
       "2                      25  \n",
       "3                      25  \n",
       "4                      25  \n",
       "5                      25  \n",
       "6                      25  \n",
       "7                      25  "
      ]
     },
     "metadata": {},
     "output_type": "display_data"
    }
   ],
   "source": [
    "# Preparar datos para análisis de activos individuales\n",
    "prices_data, returns_data = loader.get_analysis_ready_data(include_benchmarks=False)\n",
    "\n",
    "print(f\"DATOS PREPARADOS PARA ANALISIS:\")\n",
    "print(f\"   Matriz de precios: {prices_data.shape}\")\n",
    "print(f\"   Matriz de retornos: {returns_data.shape}\")\n",
    "print(f\"   Período: {prices_data.index.min().date()} → {prices_data.index.max().date()}\")\n",
    "\n",
    "# Mostrar información de los activos\n",
    "data_info = pd.DataFrame({\n",
    "    'Activo': prices_data.columns,\n",
    "    'Observaciones_Precios': prices_data.count(),\n",
    "    'Precio_Inicial': prices_data.iloc[0],\n",
    "    'Precio_Final': prices_data.iloc[-1],\n",
    "    'Observaciones_Retornos': returns_data.count()\n",
    "}).reset_index(drop=True)\n",
    "\n",
    "print(\"\\nINFORMACION DE ACTIVOS:\")\n",
    "display(data_info)"
   ]
  },
  {
   "cell_type": "markdown",
   "id": "93e20bae",
   "metadata": {},
   "source": [
    "# 5. Composición de la Cartera en el Tiempo\n",
    "\n",
    "## Evolución de Pesos y Composición"
   ]
  },
  {
   "cell_type": "code",
   "execution_count": 31,
   "id": "e4b549fa",
   "metadata": {},
   "outputs": [
    {
     "name": "stdout",
     "output_type": "stream",
     "text": [
      "ANALISIS DE COMPOSICION TEMPORAL:\n",
      "   Matriz de pesos: (73, 8)\n",
      "   Activos únicos: 8\n",
      "   Fechas analizadas: 73\n",
      "\n",
      "PESOS PROMEDIO POR ACTIVO:\n"
     ]
    },
    {
     "data": {
      "text/html": [
       "<div>\n",
       "<style scoped>\n",
       "    .dataframe tbody tr th:only-of-type {\n",
       "        vertical-align: middle;\n",
       "    }\n",
       "\n",
       "    .dataframe tbody tr th {\n",
       "        vertical-align: top;\n",
       "    }\n",
       "\n",
       "    .dataframe thead th {\n",
       "        text-align: right;\n",
       "    }\n",
       "</style>\n",
       "<table border=\"1\" class=\"dataframe\">\n",
       "  <thead>\n",
       "    <tr style=\"text-align: right;\">\n",
       "      <th></th>\n",
       "      <th>Activo</th>\n",
       "      <th>Peso_Promedio</th>\n",
       "      <th>Peso_Porcentaje</th>\n",
       "    </tr>\n",
       "  </thead>\n",
       "  <tbody>\n",
       "    <tr>\n",
       "      <th>0</th>\n",
       "      <td>COCORMA</td>\n",
       "      <td>0.3841</td>\n",
       "      <td>38.4</td>\n",
       "    </tr>\n",
       "    <tr>\n",
       "      <th>1</th>\n",
       "      <td>AAPL</td>\n",
       "      <td>0.1797</td>\n",
       "      <td>18.0</td>\n",
       "    </tr>\n",
       "    <tr>\n",
       "      <th>2</th>\n",
       "      <td>CEPU</td>\n",
       "      <td>0.1330</td>\n",
       "      <td>13.3</td>\n",
       "    </tr>\n",
       "    <tr>\n",
       "      <th>3</th>\n",
       "      <td>SPY</td>\n",
       "      <td>0.1250</td>\n",
       "      <td>12.5</td>\n",
       "    </tr>\n",
       "    <tr>\n",
       "      <th>4</th>\n",
       "      <td>IBM</td>\n",
       "      <td>0.0703</td>\n",
       "      <td>7.0</td>\n",
       "    </tr>\n",
       "    <tr>\n",
       "      <th>5</th>\n",
       "      <td>EWZ</td>\n",
       "      <td>0.0555</td>\n",
       "      <td>5.6</td>\n",
       "    </tr>\n",
       "    <tr>\n",
       "      <th>6</th>\n",
       "      <td>METR</td>\n",
       "      <td>0.0333</td>\n",
       "      <td>3.3</td>\n",
       "    </tr>\n",
       "    <tr>\n",
       "      <th>7</th>\n",
       "      <td>BHIP</td>\n",
       "      <td>0.0191</td>\n",
       "      <td>1.9</td>\n",
       "    </tr>\n",
       "  </tbody>\n",
       "</table>\n",
       "</div>"
      ],
      "text/plain": [
       "    Activo  Peso_Promedio  Peso_Porcentaje\n",
       "0  COCORMA         0.3841             38.4\n",
       "1     AAPL         0.1797             18.0\n",
       "2     CEPU         0.1330             13.3\n",
       "3      SPY         0.1250             12.5\n",
       "4      IBM         0.0703              7.0\n",
       "5      EWZ         0.0555              5.6\n",
       "6     METR         0.0333              3.3\n",
       "7     BHIP         0.0191              1.9"
      ]
     },
     "metadata": {},
     "output_type": "display_data"
    },
    {
     "name": "stdout",
     "output_type": "stream",
     "text": [
      "\n",
      "ESTADISTICAS DE CONCENTRACION:\n",
      "   Activos con peso > 1%: 8\n",
      "   Activos con peso > 5%: 6\n",
      "   Peso del top 3: 69.7%\n",
      "\n",
      "📆 CALCULANDO PERFORMANCE SEMANAL DEL PORTFOLIO Y ACTIVOS PRINCIPALES...\n",
      "\n",
      "📊 TABLA DE RETORNOS SEMANALES (últimas 10 semanas):\n"
     ]
    },
    {
     "data": {
      "text/html": [
       "<div>\n",
       "<style scoped>\n",
       "    .dataframe tbody tr th:only-of-type {\n",
       "        vertical-align: middle;\n",
       "    }\n",
       "\n",
       "    .dataframe tbody tr th {\n",
       "        vertical-align: top;\n",
       "    }\n",
       "\n",
       "    .dataframe thead th {\n",
       "        text-align: right;\n",
       "    }\n",
       "</style>\n",
       "<table border=\"1\" class=\"dataframe\">\n",
       "  <thead>\n",
       "    <tr style=\"text-align: right;\">\n",
       "      <th></th>\n",
       "      <th>Semana_Fin</th>\n",
       "      <th>Retorno_Semanal_%</th>\n",
       "      <th>Valor_Cierre_Semana</th>\n",
       "    </tr>\n",
       "  </thead>\n",
       "  <tbody>\n",
       "    <tr>\n",
       "      <th>0</th>\n",
       "      <td>2025-07-06</td>\n",
       "      <td>49.91</td>\n",
       "      <td>120036.17</td>\n",
       "    </tr>\n",
       "    <tr>\n",
       "      <th>1</th>\n",
       "      <td>2025-07-13</td>\n",
       "      <td>-1.29</td>\n",
       "      <td>118488.30</td>\n",
       "    </tr>\n",
       "    <tr>\n",
       "      <th>2</th>\n",
       "      <td>2025-07-20</td>\n",
       "      <td>-0.59</td>\n",
       "      <td>117793.79</td>\n",
       "    </tr>\n",
       "    <tr>\n",
       "      <th>3</th>\n",
       "      <td>2025-07-27</td>\n",
       "      <td>2.05</td>\n",
       "      <td>120209.41</td>\n",
       "    </tr>\n",
       "    <tr>\n",
       "      <th>4</th>\n",
       "      <td>2025-08-03</td>\n",
       "      <td>2.31</td>\n",
       "      <td>122983.88</td>\n",
       "    </tr>\n",
       "    <tr>\n",
       "      <th>5</th>\n",
       "      <td>2025-08-10</td>\n",
       "      <td>0.80</td>\n",
       "      <td>123973.25</td>\n",
       "    </tr>\n",
       "    <tr>\n",
       "      <th>6</th>\n",
       "      <td>2025-08-17</td>\n",
       "      <td>-2.47</td>\n",
       "      <td>120914.80</td>\n",
       "    </tr>\n",
       "    <tr>\n",
       "      <th>7</th>\n",
       "      <td>2025-08-24</td>\n",
       "      <td>0.86</td>\n",
       "      <td>121957.81</td>\n",
       "    </tr>\n",
       "    <tr>\n",
       "      <th>8</th>\n",
       "      <td>2025-08-31</td>\n",
       "      <td>2.31</td>\n",
       "      <td>124775.24</td>\n",
       "    </tr>\n",
       "    <tr>\n",
       "      <th>9</th>\n",
       "      <td>2025-09-07</td>\n",
       "      <td>2.86</td>\n",
       "      <td>128340.43</td>\n",
       "    </tr>\n",
       "  </tbody>\n",
       "</table>\n",
       "</div>"
      ],
      "text/plain": [
       "   Semana_Fin  Retorno_Semanal_%  Valor_Cierre_Semana\n",
       "0  2025-07-06              49.91            120036.17\n",
       "1  2025-07-13              -1.29            118488.30\n",
       "2  2025-07-20              -0.59            117793.79\n",
       "3  2025-07-27               2.05            120209.41\n",
       "4  2025-08-03               2.31            122983.88\n",
       "5  2025-08-10               0.80            123973.25\n",
       "6  2025-08-17              -2.47            120914.80\n",
       "7  2025-08-24               0.86            121957.81\n",
       "8  2025-08-31               2.31            124775.24\n",
       "9  2025-09-07               2.86            128340.43"
      ]
     },
     "metadata": {},
     "output_type": "display_data"
    },
    {
     "name": "stdout",
     "output_type": "stream",
     "text": [
      "\n",
      "📈 GENERANDO GRAFICO DE PERFORMANCE SEMANAL NORMALIZADA (Top 5 Activos)...\n",
      "✅ Gráfico guardado como imagen en: c:\\Users\\trico\\OneDrive\\UBA\\Management Financiero Bursatil\\Cartera final\\outputs\\graficos\\performance_semanal.png\n",
      "✅ Gráfico guardado como imagen en: c:\\Users\\trico\\OneDrive\\UBA\\Management Financiero Bursatil\\Cartera final\\outputs\\graficos\\performance_semanal.png\n",
      "✅ Gráfico guardado como HTML interactivo en: c:\\Users\\trico\\OneDrive\\UBA\\Management Financiero Bursatil\\Cartera final\\outputs\\graficos\\performance_semanal.html\n",
      "✅ Gráfico guardado como HTML interactivo en: c:\\Users\\trico\\OneDrive\\UBA\\Management Financiero Bursatil\\Cartera final\\outputs\\graficos\\performance_semanal.html\n"
     ]
    },
    {
     "data": {
      "application/vnd.plotly.v1+json": {
       "config": {
        "plotlyServerURL": "https://plot.ly"
       },
       "data": [
        {
         "hovertemplate": "Activo=COCORMA<br>fecha=%{x}<br>Performance (Base 100)=%{y}<extra></extra>",
         "legendgroup": "COCORMA",
         "line": {
          "color": "#636efa",
          "dash": "solid"
         },
         "marker": {
          "symbol": "circle"
         },
         "mode": "lines",
         "name": "COCORMA",
         "orientation": "v",
         "showlegend": true,
         "type": "scatter",
         "x": [
          "2025-06-29T00:00:00",
          "2025-07-06T00:00:00",
          "2025-07-13T00:00:00",
          "2025-07-20T00:00:00",
          "2025-07-27T00:00:00",
          "2025-08-03T00:00:00",
          "2025-08-10T00:00:00",
          "2025-08-17T00:00:00",
          "2025-08-24T00:00:00",
          "2025-08-31T00:00:00",
          "2025-09-07T00:00:00"
         ],
         "xaxis": "x",
         "y": [
          100,
          100.77943203126767,
          101.42830473830466,
          102.01748638817973,
          102.62961699031032,
          103.2608915370685,
          103.91654191394264,
          104.55839913816578,
          105.47100643640823,
          106.26256692948965,
          107.04366365159447
         ],
         "yaxis": "y"
        },
        {
         "hovertemplate": "Activo=AAPL<br>fecha=%{x}<br>Performance (Base 100)=%{y}<extra></extra>",
         "legendgroup": "AAPL",
         "line": {
          "color": "#EF553B",
          "dash": "solid"
         },
         "marker": {
          "symbol": "circle"
         },
         "mode": "lines",
         "name": "AAPL",
         "orientation": "v",
         "showlegend": true,
         "type": "scatter",
         "x": [
          "2025-06-29T00:00:00",
          "2025-07-06T00:00:00",
          "2025-07-13T00:00:00",
          "2025-07-20T00:00:00",
          "2025-07-27T00:00:00",
          "2025-08-03T00:00:00",
          "2025-08-10T00:00:00",
          "2025-08-17T00:00:00",
          "2025-08-24T00:00:00",
          "2025-08-31T00:00:00",
          "2025-09-07T00:00:00"
         ],
         "xaxis": "x",
         "y": [
          null,
          null,
          null,
          null,
          null,
          null,
          null,
          null,
          null,
          null,
          null
         ],
         "yaxis": "y"
        },
        {
         "hovertemplate": "Activo=CEPU<br>fecha=%{x}<br>Performance (Base 100)=%{y}<extra></extra>",
         "legendgroup": "CEPU",
         "line": {
          "color": "#00cc96",
          "dash": "solid"
         },
         "marker": {
          "symbol": "circle"
         },
         "mode": "lines",
         "name": "CEPU",
         "orientation": "v",
         "showlegend": true,
         "type": "scatter",
         "x": [
          "2025-06-29T00:00:00",
          "2025-07-06T00:00:00",
          "2025-07-13T00:00:00",
          "2025-07-20T00:00:00",
          "2025-07-27T00:00:00",
          "2025-08-03T00:00:00",
          "2025-08-10T00:00:00",
          "2025-08-17T00:00:00",
          "2025-08-24T00:00:00",
          "2025-08-31T00:00:00",
          "2025-09-07T00:00:00"
         ],
         "xaxis": "x",
         "y": [
          null,
          null,
          null,
          null,
          null,
          null,
          null,
          null,
          null,
          null,
          null
         ],
         "yaxis": "y"
        },
        {
         "hovertemplate": "Activo=SPY<br>fecha=%{x}<br>Performance (Base 100)=%{y}<extra></extra>",
         "legendgroup": "SPY",
         "line": {
          "color": "#ab63fa",
          "dash": "solid"
         },
         "marker": {
          "symbol": "circle"
         },
         "mode": "lines",
         "name": "SPY",
         "orientation": "v",
         "showlegend": true,
         "type": "scatter",
         "x": [
          "2025-06-29T00:00:00",
          "2025-07-06T00:00:00",
          "2025-07-13T00:00:00",
          "2025-07-20T00:00:00",
          "2025-07-27T00:00:00",
          "2025-08-03T00:00:00",
          "2025-08-10T00:00:00",
          "2025-08-17T00:00:00",
          "2025-08-24T00:00:00",
          "2025-08-31T00:00:00",
          "2025-09-07T00:00:00"
         ],
         "xaxis": "x",
         "y": [
          null,
          null,
          null,
          null,
          null,
          null,
          null,
          null,
          null,
          null,
          null
         ],
         "yaxis": "y"
        },
        {
         "hovertemplate": "Activo=IBM<br>fecha=%{x}<br>Performance (Base 100)=%{y}<extra></extra>",
         "legendgroup": "IBM",
         "line": {
          "color": "#FFA15A",
          "dash": "solid"
         },
         "marker": {
          "symbol": "circle"
         },
         "mode": "lines",
         "name": "IBM",
         "orientation": "v",
         "showlegend": true,
         "type": "scatter",
         "x": [
          "2025-06-29T00:00:00",
          "2025-07-06T00:00:00",
          "2025-07-13T00:00:00",
          "2025-07-20T00:00:00",
          "2025-07-27T00:00:00",
          "2025-08-03T00:00:00",
          "2025-08-10T00:00:00",
          "2025-08-17T00:00:00",
          "2025-08-24T00:00:00",
          "2025-08-31T00:00:00",
          "2025-09-07T00:00:00"
         ],
         "xaxis": "x",
         "y": [
          null,
          null,
          null,
          null,
          null,
          null,
          null,
          null,
          null,
          null,
          null
         ],
         "yaxis": "y"
        }
       ],
       "layout": {
        "hovermode": "x unified",
        "legend": {
         "title": {
          "text": "Activos"
         },
         "tracegroupgap": 0
        },
        "template": {
         "data": {
          "bar": [
           {
            "error_x": {
             "color": "#2a3f5f"
            },
            "error_y": {
             "color": "#2a3f5f"
            },
            "marker": {
             "line": {
              "color": "white",
              "width": 0.5
             },
             "pattern": {
              "fillmode": "overlay",
              "size": 10,
              "solidity": 0.2
             }
            },
            "type": "bar"
           }
          ],
          "barpolar": [
           {
            "marker": {
             "line": {
              "color": "white",
              "width": 0.5
             },
             "pattern": {
              "fillmode": "overlay",
              "size": 10,
              "solidity": 0.2
             }
            },
            "type": "barpolar"
           }
          ],
          "carpet": [
           {
            "aaxis": {
             "endlinecolor": "#2a3f5f",
             "gridcolor": "#C8D4E3",
             "linecolor": "#C8D4E3",
             "minorgridcolor": "#C8D4E3",
             "startlinecolor": "#2a3f5f"
            },
            "baxis": {
             "endlinecolor": "#2a3f5f",
             "gridcolor": "#C8D4E3",
             "linecolor": "#C8D4E3",
             "minorgridcolor": "#C8D4E3",
             "startlinecolor": "#2a3f5f"
            },
            "type": "carpet"
           }
          ],
          "choropleth": [
           {
            "colorbar": {
             "outlinewidth": 0,
             "ticks": ""
            },
            "type": "choropleth"
           }
          ],
          "contour": [
           {
            "colorbar": {
             "outlinewidth": 0,
             "ticks": ""
            },
            "colorscale": [
             [
              0,
              "#0d0887"
             ],
             [
              0.1111111111111111,
              "#46039f"
             ],
             [
              0.2222222222222222,
              "#7201a8"
             ],
             [
              0.3333333333333333,
              "#9c179e"
             ],
             [
              0.4444444444444444,
              "#bd3786"
             ],
             [
              0.5555555555555556,
              "#d8576b"
             ],
             [
              0.6666666666666666,
              "#ed7953"
             ],
             [
              0.7777777777777778,
              "#fb9f3a"
             ],
             [
              0.8888888888888888,
              "#fdca26"
             ],
             [
              1,
              "#f0f921"
             ]
            ],
            "type": "contour"
           }
          ],
          "contourcarpet": [
           {
            "colorbar": {
             "outlinewidth": 0,
             "ticks": ""
            },
            "type": "contourcarpet"
           }
          ],
          "heatmap": [
           {
            "colorbar": {
             "outlinewidth": 0,
             "ticks": ""
            },
            "colorscale": [
             [
              0,
              "#0d0887"
             ],
             [
              0.1111111111111111,
              "#46039f"
             ],
             [
              0.2222222222222222,
              "#7201a8"
             ],
             [
              0.3333333333333333,
              "#9c179e"
             ],
             [
              0.4444444444444444,
              "#bd3786"
             ],
             [
              0.5555555555555556,
              "#d8576b"
             ],
             [
              0.6666666666666666,
              "#ed7953"
             ],
             [
              0.7777777777777778,
              "#fb9f3a"
             ],
             [
              0.8888888888888888,
              "#fdca26"
             ],
             [
              1,
              "#f0f921"
             ]
            ],
            "type": "heatmap"
           }
          ],
          "heatmapgl": [
           {
            "colorbar": {
             "outlinewidth": 0,
             "ticks": ""
            },
            "colorscale": [
             [
              0,
              "#0d0887"
             ],
             [
              0.1111111111111111,
              "#46039f"
             ],
             [
              0.2222222222222222,
              "#7201a8"
             ],
             [
              0.3333333333333333,
              "#9c179e"
             ],
             [
              0.4444444444444444,
              "#bd3786"
             ],
             [
              0.5555555555555556,
              "#d8576b"
             ],
             [
              0.6666666666666666,
              "#ed7953"
             ],
             [
              0.7777777777777778,
              "#fb9f3a"
             ],
             [
              0.8888888888888888,
              "#fdca26"
             ],
             [
              1,
              "#f0f921"
             ]
            ],
            "type": "heatmapgl"
           }
          ],
          "histogram": [
           {
            "marker": {
             "pattern": {
              "fillmode": "overlay",
              "size": 10,
              "solidity": 0.2
             }
            },
            "type": "histogram"
           }
          ],
          "histogram2d": [
           {
            "colorbar": {
             "outlinewidth": 0,
             "ticks": ""
            },
            "colorscale": [
             [
              0,
              "#0d0887"
             ],
             [
              0.1111111111111111,
              "#46039f"
             ],
             [
              0.2222222222222222,
              "#7201a8"
             ],
             [
              0.3333333333333333,
              "#9c179e"
             ],
             [
              0.4444444444444444,
              "#bd3786"
             ],
             [
              0.5555555555555556,
              "#d8576b"
             ],
             [
              0.6666666666666666,
              "#ed7953"
             ],
             [
              0.7777777777777778,
              "#fb9f3a"
             ],
             [
              0.8888888888888888,
              "#fdca26"
             ],
             [
              1,
              "#f0f921"
             ]
            ],
            "type": "histogram2d"
           }
          ],
          "histogram2dcontour": [
           {
            "colorbar": {
             "outlinewidth": 0,
             "ticks": ""
            },
            "colorscale": [
             [
              0,
              "#0d0887"
             ],
             [
              0.1111111111111111,
              "#46039f"
             ],
             [
              0.2222222222222222,
              "#7201a8"
             ],
             [
              0.3333333333333333,
              "#9c179e"
             ],
             [
              0.4444444444444444,
              "#bd3786"
             ],
             [
              0.5555555555555556,
              "#d8576b"
             ],
             [
              0.6666666666666666,
              "#ed7953"
             ],
             [
              0.7777777777777778,
              "#fb9f3a"
             ],
             [
              0.8888888888888888,
              "#fdca26"
             ],
             [
              1,
              "#f0f921"
             ]
            ],
            "type": "histogram2dcontour"
           }
          ],
          "mesh3d": [
           {
            "colorbar": {
             "outlinewidth": 0,
             "ticks": ""
            },
            "type": "mesh3d"
           }
          ],
          "parcoords": [
           {
            "line": {
             "colorbar": {
              "outlinewidth": 0,
              "ticks": ""
             }
            },
            "type": "parcoords"
           }
          ],
          "pie": [
           {
            "automargin": true,
            "type": "pie"
           }
          ],
          "scatter": [
           {
            "fillpattern": {
             "fillmode": "overlay",
             "size": 10,
             "solidity": 0.2
            },
            "type": "scatter"
           }
          ],
          "scatter3d": [
           {
            "line": {
             "colorbar": {
              "outlinewidth": 0,
              "ticks": ""
             }
            },
            "marker": {
             "colorbar": {
              "outlinewidth": 0,
              "ticks": ""
             }
            },
            "type": "scatter3d"
           }
          ],
          "scattercarpet": [
           {
            "marker": {
             "colorbar": {
              "outlinewidth": 0,
              "ticks": ""
             }
            },
            "type": "scattercarpet"
           }
          ],
          "scattergeo": [
           {
            "marker": {
             "colorbar": {
              "outlinewidth": 0,
              "ticks": ""
             }
            },
            "type": "scattergeo"
           }
          ],
          "scattergl": [
           {
            "marker": {
             "colorbar": {
              "outlinewidth": 0,
              "ticks": ""
             }
            },
            "type": "scattergl"
           }
          ],
          "scattermapbox": [
           {
            "marker": {
             "colorbar": {
              "outlinewidth": 0,
              "ticks": ""
             }
            },
            "type": "scattermapbox"
           }
          ],
          "scatterpolar": [
           {
            "marker": {
             "colorbar": {
              "outlinewidth": 0,
              "ticks": ""
             }
            },
            "type": "scatterpolar"
           }
          ],
          "scatterpolargl": [
           {
            "marker": {
             "colorbar": {
              "outlinewidth": 0,
              "ticks": ""
             }
            },
            "type": "scatterpolargl"
           }
          ],
          "scatterternary": [
           {
            "marker": {
             "colorbar": {
              "outlinewidth": 0,
              "ticks": ""
             }
            },
            "type": "scatterternary"
           }
          ],
          "surface": [
           {
            "colorbar": {
             "outlinewidth": 0,
             "ticks": ""
            },
            "colorscale": [
             [
              0,
              "#0d0887"
             ],
             [
              0.1111111111111111,
              "#46039f"
             ],
             [
              0.2222222222222222,
              "#7201a8"
             ],
             [
              0.3333333333333333,
              "#9c179e"
             ],
             [
              0.4444444444444444,
              "#bd3786"
             ],
             [
              0.5555555555555556,
              "#d8576b"
             ],
             [
              0.6666666666666666,
              "#ed7953"
             ],
             [
              0.7777777777777778,
              "#fb9f3a"
             ],
             [
              0.8888888888888888,
              "#fdca26"
             ],
             [
              1,
              "#f0f921"
             ]
            ],
            "type": "surface"
           }
          ],
          "table": [
           {
            "cells": {
             "fill": {
              "color": "#EBF0F8"
             },
             "line": {
              "color": "white"
             }
            },
            "header": {
             "fill": {
              "color": "#C8D4E3"
             },
             "line": {
              "color": "white"
             }
            },
            "type": "table"
           }
          ]
         },
         "layout": {
          "annotationdefaults": {
           "arrowcolor": "#2a3f5f",
           "arrowhead": 0,
           "arrowwidth": 1
          },
          "autotypenumbers": "strict",
          "coloraxis": {
           "colorbar": {
            "outlinewidth": 0,
            "ticks": ""
           }
          },
          "colorscale": {
           "diverging": [
            [
             0,
             "#8e0152"
            ],
            [
             0.1,
             "#c51b7d"
            ],
            [
             0.2,
             "#de77ae"
            ],
            [
             0.3,
             "#f1b6da"
            ],
            [
             0.4,
             "#fde0ef"
            ],
            [
             0.5,
             "#f7f7f7"
            ],
            [
             0.6,
             "#e6f5d0"
            ],
            [
             0.7,
             "#b8e186"
            ],
            [
             0.8,
             "#7fbc41"
            ],
            [
             0.9,
             "#4d9221"
            ],
            [
             1,
             "#276419"
            ]
           ],
           "sequential": [
            [
             0,
             "#0d0887"
            ],
            [
             0.1111111111111111,
             "#46039f"
            ],
            [
             0.2222222222222222,
             "#7201a8"
            ],
            [
             0.3333333333333333,
             "#9c179e"
            ],
            [
             0.4444444444444444,
             "#bd3786"
            ],
            [
             0.5555555555555556,
             "#d8576b"
            ],
            [
             0.6666666666666666,
             "#ed7953"
            ],
            [
             0.7777777777777778,
             "#fb9f3a"
            ],
            [
             0.8888888888888888,
             "#fdca26"
            ],
            [
             1,
             "#f0f921"
            ]
           ],
           "sequentialminus": [
            [
             0,
             "#0d0887"
            ],
            [
             0.1111111111111111,
             "#46039f"
            ],
            [
             0.2222222222222222,
             "#7201a8"
            ],
            [
             0.3333333333333333,
             "#9c179e"
            ],
            [
             0.4444444444444444,
             "#bd3786"
            ],
            [
             0.5555555555555556,
             "#d8576b"
            ],
            [
             0.6666666666666666,
             "#ed7953"
            ],
            [
             0.7777777777777778,
             "#fb9f3a"
            ],
            [
             0.8888888888888888,
             "#fdca26"
            ],
            [
             1,
             "#f0f921"
            ]
           ]
          },
          "colorway": [
           "#636efa",
           "#EF553B",
           "#00cc96",
           "#ab63fa",
           "#FFA15A",
           "#19d3f3",
           "#FF6692",
           "#B6E880",
           "#FF97FF",
           "#FECB52"
          ],
          "font": {
           "color": "#2a3f5f"
          },
          "geo": {
           "bgcolor": "white",
           "lakecolor": "white",
           "landcolor": "white",
           "showlakes": true,
           "showland": true,
           "subunitcolor": "#C8D4E3"
          },
          "hoverlabel": {
           "align": "left"
          },
          "hovermode": "closest",
          "mapbox": {
           "style": "light"
          },
          "paper_bgcolor": "white",
          "plot_bgcolor": "white",
          "polar": {
           "angularaxis": {
            "gridcolor": "#EBF0F8",
            "linecolor": "#EBF0F8",
            "ticks": ""
           },
           "bgcolor": "white",
           "radialaxis": {
            "gridcolor": "#EBF0F8",
            "linecolor": "#EBF0F8",
            "ticks": ""
           }
          },
          "scene": {
           "xaxis": {
            "backgroundcolor": "white",
            "gridcolor": "#DFE8F3",
            "gridwidth": 2,
            "linecolor": "#EBF0F8",
            "showbackground": true,
            "ticks": "",
            "zerolinecolor": "#EBF0F8"
           },
           "yaxis": {
            "backgroundcolor": "white",
            "gridcolor": "#DFE8F3",
            "gridwidth": 2,
            "linecolor": "#EBF0F8",
            "showbackground": true,
            "ticks": "",
            "zerolinecolor": "#EBF0F8"
           },
           "zaxis": {
            "backgroundcolor": "white",
            "gridcolor": "#DFE8F3",
            "gridwidth": 2,
            "linecolor": "#EBF0F8",
            "showbackground": true,
            "ticks": "",
            "zerolinecolor": "#EBF0F8"
           }
          },
          "shapedefaults": {
           "line": {
            "color": "#2a3f5f"
           }
          },
          "ternary": {
           "aaxis": {
            "gridcolor": "#DFE8F3",
            "linecolor": "#A2B1C6",
            "ticks": ""
           },
           "baxis": {
            "gridcolor": "#DFE8F3",
            "linecolor": "#A2B1C6",
            "ticks": ""
           },
           "bgcolor": "white",
           "caxis": {
            "gridcolor": "#DFE8F3",
            "linecolor": "#A2B1C6",
            "ticks": ""
           }
          },
          "title": {
           "x": 0.05
          },
          "xaxis": {
           "automargin": true,
           "gridcolor": "#EBF0F8",
           "linecolor": "#EBF0F8",
           "ticks": "",
           "title": {
            "standoff": 15
           },
           "zerolinecolor": "#EBF0F8",
           "zerolinewidth": 2
          },
          "yaxis": {
           "automargin": true,
           "gridcolor": "#EBF0F8",
           "linecolor": "#EBF0F8",
           "ticks": "",
           "title": {
            "standoff": 15
           },
           "zerolinecolor": "#EBF0F8",
           "zerolinewidth": 2
          }
         }
        },
        "title": {
         "text": "Evolución Normalizada de Activos"
        },
        "xaxis": {
         "anchor": "y",
         "domain": [
          0,
          1
         ],
         "title": {
          "text": "fecha"
         }
        },
        "yaxis": {
         "anchor": "x",
         "domain": [
          0,
          1
         ],
         "title": {
          "text": "Performance (Base 100)"
         }
        }
       }
      }
     },
     "metadata": {},
     "output_type": "display_data"
    },
    {
     "name": "stdout",
     "output_type": "stream",
     "text": [
      "\n",
      "💰 GRAFICANDO VALOR TOTAL DE LA CARTERA (ARS)...\n"
     ]
    },
    {
     "data": {
      "application/vnd.plotly.v1+json": {
       "config": {
        "plotlyServerURL": "https://plot.ly"
       },
       "data": [
        {
         "hovertemplate": "Fecha: %{x}<br>Valor: $%{y:,.0f} ARS<extra></extra>",
         "line": {
          "color": "#2ecc71",
          "width": 3
         },
         "mode": "lines",
         "name": "Valor Cartera",
         "type": "scatter",
         "x": [
          "2025-06-24T00:00:00",
          "2025-06-25T00:00:00",
          "2025-06-26T00:00:00",
          "2025-06-30T00:00:00",
          "2025-07-01T00:00:00",
          "2025-07-02T00:00:00",
          "2025-07-03T00:00:00",
          "2025-07-04T00:00:00",
          "2025-07-05T00:00:00",
          "2025-07-06T00:00:00",
          "2025-07-07T00:00:00",
          "2025-07-08T00:00:00",
          "2025-07-09T00:00:00",
          "2025-07-10T00:00:00",
          "2025-07-11T00:00:00",
          "2025-07-12T00:00:00",
          "2025-07-13T00:00:00",
          "2025-07-14T00:00:00",
          "2025-07-15T00:00:00",
          "2025-07-16T00:00:00",
          "2025-07-17T00:00:00",
          "2025-07-18T00:00:00",
          "2025-07-19T00:00:00",
          "2025-07-20T00:00:00",
          "2025-07-21T00:00:00",
          "2025-07-22T00:00:00",
          "2025-07-23T00:00:00",
          "2025-07-24T00:00:00",
          "2025-07-25T00:00:00",
          "2025-07-26T00:00:00",
          "2025-07-27T00:00:00",
          "2025-07-28T00:00:00",
          "2025-07-29T00:00:00",
          "2025-07-30T00:00:00",
          "2025-07-31T00:00:00",
          "2025-08-01T00:00:00",
          "2025-08-02T00:00:00",
          "2025-08-03T00:00:00",
          "2025-08-04T00:00:00",
          "2025-08-05T00:00:00",
          "2025-08-06T00:00:00",
          "2025-08-07T00:00:00",
          "2025-08-08T00:00:00",
          "2025-08-09T00:00:00",
          "2025-08-10T00:00:00",
          "2025-08-11T00:00:00",
          "2025-08-12T00:00:00",
          "2025-08-13T00:00:00",
          "2025-08-14T00:00:00",
          "2025-08-15T00:00:00",
          "2025-08-16T00:00:00",
          "2025-08-17T00:00:00",
          "2025-08-18T00:00:00",
          "2025-08-19T00:00:00",
          "2025-08-20T00:00:00",
          "2025-08-21T00:00:00",
          "2025-08-22T00:00:00",
          "2025-08-23T00:00:00",
          "2025-08-24T00:00:00",
          "2025-08-25T00:00:00",
          "2025-08-26T00:00:00",
          "2025-08-27T00:00:00",
          "2025-08-28T00:00:00",
          "2025-08-29T00:00:00",
          "2025-08-30T00:00:00",
          "2025-08-31T00:00:00",
          "2025-09-01T00:00:00",
          "2025-09-02T00:00:00",
          "2025-09-03T00:00:00",
          "2025-09-04T00:00:00",
          "2025-09-05T00:00:00",
          "2025-09-06T00:00:00",
          "2025-09-07T00:00:00"
         ],
         "y": [
          79927.38,
          80000,
          80072.67,
          59847.23,
          117348.5,
          118149.54000000001,
          118779.58,
          119751.08,
          120036.17,
          120036.17,
          120036.17,
          118987.68,
          121828.18,
          121828.18,
          120515.28,
          118488.3,
          118488.3,
          118488.3,
          119789.97,
          116643.31,
          116393.43,
          117243.73999999999,
          117793.79000000001,
          117793.79000000001,
          117793.79000000001,
          117594.06,
          117146.06,
          118299.67,
          118953.09,
          120209.41,
          120209.41,
          120209.41,
          100938.2,
          122224.55,
          123036.05,
          124097.51000000001,
          122983.88,
          122983.88,
          122983.88,
          123093.51000000001,
          122305.35,
          122345.42,
          124009.55,
          123973.25,
          123973.25,
          123973.25,
          102370.74,
          122243.18,
          122265.51,
          120914.8,
          120914.8,
          120914.8,
          120914.8,
          120261.76,
          118861.05,
          119010.31,
          119558.76,
          121957.81,
          121957.81,
          121957.81,
          123754.27,
          123679.4,
          124328.33,
          124677.48,
          124775.24,
          124775.24,
          124775.24,
          126643.56,
          124791.5,
          126064.38,
          127614.87,
          128340.43,
          128340.43
         ]
        }
       ],
       "layout": {
        "annotations": [
         {
          "showarrow": false,
          "text": "Valor Inicial",
          "x": 0,
          "xanchor": "left",
          "xref": "x domain",
          "y": 79927.38,
          "yanchor": "bottom",
          "yref": "y"
         }
        ],
        "height": 500,
        "hovermode": "x unified",
        "shapes": [
         {
          "line": {
           "color": "gray",
           "dash": "dot"
          },
          "type": "line",
          "x0": 0,
          "x1": 1,
          "xref": "x domain",
          "y0": 79927.38,
          "y1": 79927.38,
          "yref": "y"
         }
        ],
        "template": {
         "data": {
          "bar": [
           {
            "error_x": {
             "color": "#2a3f5f"
            },
            "error_y": {
             "color": "#2a3f5f"
            },
            "marker": {
             "line": {
              "color": "white",
              "width": 0.5
             },
             "pattern": {
              "fillmode": "overlay",
              "size": 10,
              "solidity": 0.2
             }
            },
            "type": "bar"
           }
          ],
          "barpolar": [
           {
            "marker": {
             "line": {
              "color": "white",
              "width": 0.5
             },
             "pattern": {
              "fillmode": "overlay",
              "size": 10,
              "solidity": 0.2
             }
            },
            "type": "barpolar"
           }
          ],
          "carpet": [
           {
            "aaxis": {
             "endlinecolor": "#2a3f5f",
             "gridcolor": "#C8D4E3",
             "linecolor": "#C8D4E3",
             "minorgridcolor": "#C8D4E3",
             "startlinecolor": "#2a3f5f"
            },
            "baxis": {
             "endlinecolor": "#2a3f5f",
             "gridcolor": "#C8D4E3",
             "linecolor": "#C8D4E3",
             "minorgridcolor": "#C8D4E3",
             "startlinecolor": "#2a3f5f"
            },
            "type": "carpet"
           }
          ],
          "choropleth": [
           {
            "colorbar": {
             "outlinewidth": 0,
             "ticks": ""
            },
            "type": "choropleth"
           }
          ],
          "contour": [
           {
            "colorbar": {
             "outlinewidth": 0,
             "ticks": ""
            },
            "colorscale": [
             [
              0,
              "#0d0887"
             ],
             [
              0.1111111111111111,
              "#46039f"
             ],
             [
              0.2222222222222222,
              "#7201a8"
             ],
             [
              0.3333333333333333,
              "#9c179e"
             ],
             [
              0.4444444444444444,
              "#bd3786"
             ],
             [
              0.5555555555555556,
              "#d8576b"
             ],
             [
              0.6666666666666666,
              "#ed7953"
             ],
             [
              0.7777777777777778,
              "#fb9f3a"
             ],
             [
              0.8888888888888888,
              "#fdca26"
             ],
             [
              1,
              "#f0f921"
             ]
            ],
            "type": "contour"
           }
          ],
          "contourcarpet": [
           {
            "colorbar": {
             "outlinewidth": 0,
             "ticks": ""
            },
            "type": "contourcarpet"
           }
          ],
          "heatmap": [
           {
            "colorbar": {
             "outlinewidth": 0,
             "ticks": ""
            },
            "colorscale": [
             [
              0,
              "#0d0887"
             ],
             [
              0.1111111111111111,
              "#46039f"
             ],
             [
              0.2222222222222222,
              "#7201a8"
             ],
             [
              0.3333333333333333,
              "#9c179e"
             ],
             [
              0.4444444444444444,
              "#bd3786"
             ],
             [
              0.5555555555555556,
              "#d8576b"
             ],
             [
              0.6666666666666666,
              "#ed7953"
             ],
             [
              0.7777777777777778,
              "#fb9f3a"
             ],
             [
              0.8888888888888888,
              "#fdca26"
             ],
             [
              1,
              "#f0f921"
             ]
            ],
            "type": "heatmap"
           }
          ],
          "heatmapgl": [
           {
            "colorbar": {
             "outlinewidth": 0,
             "ticks": ""
            },
            "colorscale": [
             [
              0,
              "#0d0887"
             ],
             [
              0.1111111111111111,
              "#46039f"
             ],
             [
              0.2222222222222222,
              "#7201a8"
             ],
             [
              0.3333333333333333,
              "#9c179e"
             ],
             [
              0.4444444444444444,
              "#bd3786"
             ],
             [
              0.5555555555555556,
              "#d8576b"
             ],
             [
              0.6666666666666666,
              "#ed7953"
             ],
             [
              0.7777777777777778,
              "#fb9f3a"
             ],
             [
              0.8888888888888888,
              "#fdca26"
             ],
             [
              1,
              "#f0f921"
             ]
            ],
            "type": "heatmapgl"
           }
          ],
          "histogram": [
           {
            "marker": {
             "pattern": {
              "fillmode": "overlay",
              "size": 10,
              "solidity": 0.2
             }
            },
            "type": "histogram"
           }
          ],
          "histogram2d": [
           {
            "colorbar": {
             "outlinewidth": 0,
             "ticks": ""
            },
            "colorscale": [
             [
              0,
              "#0d0887"
             ],
             [
              0.1111111111111111,
              "#46039f"
             ],
             [
              0.2222222222222222,
              "#7201a8"
             ],
             [
              0.3333333333333333,
              "#9c179e"
             ],
             [
              0.4444444444444444,
              "#bd3786"
             ],
             [
              0.5555555555555556,
              "#d8576b"
             ],
             [
              0.6666666666666666,
              "#ed7953"
             ],
             [
              0.7777777777777778,
              "#fb9f3a"
             ],
             [
              0.8888888888888888,
              "#fdca26"
             ],
             [
              1,
              "#f0f921"
             ]
            ],
            "type": "histogram2d"
           }
          ],
          "histogram2dcontour": [
           {
            "colorbar": {
             "outlinewidth": 0,
             "ticks": ""
            },
            "colorscale": [
             [
              0,
              "#0d0887"
             ],
             [
              0.1111111111111111,
              "#46039f"
             ],
             [
              0.2222222222222222,
              "#7201a8"
             ],
             [
              0.3333333333333333,
              "#9c179e"
             ],
             [
              0.4444444444444444,
              "#bd3786"
             ],
             [
              0.5555555555555556,
              "#d8576b"
             ],
             [
              0.6666666666666666,
              "#ed7953"
             ],
             [
              0.7777777777777778,
              "#fb9f3a"
             ],
             [
              0.8888888888888888,
              "#fdca26"
             ],
             [
              1,
              "#f0f921"
             ]
            ],
            "type": "histogram2dcontour"
           }
          ],
          "mesh3d": [
           {
            "colorbar": {
             "outlinewidth": 0,
             "ticks": ""
            },
            "type": "mesh3d"
           }
          ],
          "parcoords": [
           {
            "line": {
             "colorbar": {
              "outlinewidth": 0,
              "ticks": ""
             }
            },
            "type": "parcoords"
           }
          ],
          "pie": [
           {
            "automargin": true,
            "type": "pie"
           }
          ],
          "scatter": [
           {
            "fillpattern": {
             "fillmode": "overlay",
             "size": 10,
             "solidity": 0.2
            },
            "type": "scatter"
           }
          ],
          "scatter3d": [
           {
            "line": {
             "colorbar": {
              "outlinewidth": 0,
              "ticks": ""
             }
            },
            "marker": {
             "colorbar": {
              "outlinewidth": 0,
              "ticks": ""
             }
            },
            "type": "scatter3d"
           }
          ],
          "scattercarpet": [
           {
            "marker": {
             "colorbar": {
              "outlinewidth": 0,
              "ticks": ""
             }
            },
            "type": "scattercarpet"
           }
          ],
          "scattergeo": [
           {
            "marker": {
             "colorbar": {
              "outlinewidth": 0,
              "ticks": ""
             }
            },
            "type": "scattergeo"
           }
          ],
          "scattergl": [
           {
            "marker": {
             "colorbar": {
              "outlinewidth": 0,
              "ticks": ""
             }
            },
            "type": "scattergl"
           }
          ],
          "scattermapbox": [
           {
            "marker": {
             "colorbar": {
              "outlinewidth": 0,
              "ticks": ""
             }
            },
            "type": "scattermapbox"
           }
          ],
          "scatterpolar": [
           {
            "marker": {
             "colorbar": {
              "outlinewidth": 0,
              "ticks": ""
             }
            },
            "type": "scatterpolar"
           }
          ],
          "scatterpolargl": [
           {
            "marker": {
             "colorbar": {
              "outlinewidth": 0,
              "ticks": ""
             }
            },
            "type": "scatterpolargl"
           }
          ],
          "scatterternary": [
           {
            "marker": {
             "colorbar": {
              "outlinewidth": 0,
              "ticks": ""
             }
            },
            "type": "scatterternary"
           }
          ],
          "surface": [
           {
            "colorbar": {
             "outlinewidth": 0,
             "ticks": ""
            },
            "colorscale": [
             [
              0,
              "#0d0887"
             ],
             [
              0.1111111111111111,
              "#46039f"
             ],
             [
              0.2222222222222222,
              "#7201a8"
             ],
             [
              0.3333333333333333,
              "#9c179e"
             ],
             [
              0.4444444444444444,
              "#bd3786"
             ],
             [
              0.5555555555555556,
              "#d8576b"
             ],
             [
              0.6666666666666666,
              "#ed7953"
             ],
             [
              0.7777777777777778,
              "#fb9f3a"
             ],
             [
              0.8888888888888888,
              "#fdca26"
             ],
             [
              1,
              "#f0f921"
             ]
            ],
            "type": "surface"
           }
          ],
          "table": [
           {
            "cells": {
             "fill": {
              "color": "#EBF0F8"
             },
             "line": {
              "color": "white"
             }
            },
            "header": {
             "fill": {
              "color": "#C8D4E3"
             },
             "line": {
              "color": "white"
             }
            },
            "type": "table"
           }
          ]
         },
         "layout": {
          "annotationdefaults": {
           "arrowcolor": "#2a3f5f",
           "arrowhead": 0,
           "arrowwidth": 1
          },
          "autotypenumbers": "strict",
          "coloraxis": {
           "colorbar": {
            "outlinewidth": 0,
            "ticks": ""
           }
          },
          "colorscale": {
           "diverging": [
            [
             0,
             "#8e0152"
            ],
            [
             0.1,
             "#c51b7d"
            ],
            [
             0.2,
             "#de77ae"
            ],
            [
             0.3,
             "#f1b6da"
            ],
            [
             0.4,
             "#fde0ef"
            ],
            [
             0.5,
             "#f7f7f7"
            ],
            [
             0.6,
             "#e6f5d0"
            ],
            [
             0.7,
             "#b8e186"
            ],
            [
             0.8,
             "#7fbc41"
            ],
            [
             0.9,
             "#4d9221"
            ],
            [
             1,
             "#276419"
            ]
           ],
           "sequential": [
            [
             0,
             "#0d0887"
            ],
            [
             0.1111111111111111,
             "#46039f"
            ],
            [
             0.2222222222222222,
             "#7201a8"
            ],
            [
             0.3333333333333333,
             "#9c179e"
            ],
            [
             0.4444444444444444,
             "#bd3786"
            ],
            [
             0.5555555555555556,
             "#d8576b"
            ],
            [
             0.6666666666666666,
             "#ed7953"
            ],
            [
             0.7777777777777778,
             "#fb9f3a"
            ],
            [
             0.8888888888888888,
             "#fdca26"
            ],
            [
             1,
             "#f0f921"
            ]
           ],
           "sequentialminus": [
            [
             0,
             "#0d0887"
            ],
            [
             0.1111111111111111,
             "#46039f"
            ],
            [
             0.2222222222222222,
             "#7201a8"
            ],
            [
             0.3333333333333333,
             "#9c179e"
            ],
            [
             0.4444444444444444,
             "#bd3786"
            ],
            [
             0.5555555555555556,
             "#d8576b"
            ],
            [
             0.6666666666666666,
             "#ed7953"
            ],
            [
             0.7777777777777778,
             "#fb9f3a"
            ],
            [
             0.8888888888888888,
             "#fdca26"
            ],
            [
             1,
             "#f0f921"
            ]
           ]
          },
          "colorway": [
           "#636efa",
           "#EF553B",
           "#00cc96",
           "#ab63fa",
           "#FFA15A",
           "#19d3f3",
           "#FF6692",
           "#B6E880",
           "#FF97FF",
           "#FECB52"
          ],
          "font": {
           "color": "#2a3f5f"
          },
          "geo": {
           "bgcolor": "white",
           "lakecolor": "white",
           "landcolor": "white",
           "showlakes": true,
           "showland": true,
           "subunitcolor": "#C8D4E3"
          },
          "hoverlabel": {
           "align": "left"
          },
          "hovermode": "closest",
          "mapbox": {
           "style": "light"
          },
          "paper_bgcolor": "white",
          "plot_bgcolor": "white",
          "polar": {
           "angularaxis": {
            "gridcolor": "#EBF0F8",
            "linecolor": "#EBF0F8",
            "ticks": ""
           },
           "bgcolor": "white",
           "radialaxis": {
            "gridcolor": "#EBF0F8",
            "linecolor": "#EBF0F8",
            "ticks": ""
           }
          },
          "scene": {
           "xaxis": {
            "backgroundcolor": "white",
            "gridcolor": "#DFE8F3",
            "gridwidth": 2,
            "linecolor": "#EBF0F8",
            "showbackground": true,
            "ticks": "",
            "zerolinecolor": "#EBF0F8"
           },
           "yaxis": {
            "backgroundcolor": "white",
            "gridcolor": "#DFE8F3",
            "gridwidth": 2,
            "linecolor": "#EBF0F8",
            "showbackground": true,
            "ticks": "",
            "zerolinecolor": "#EBF0F8"
           },
           "zaxis": {
            "backgroundcolor": "white",
            "gridcolor": "#DFE8F3",
            "gridwidth": 2,
            "linecolor": "#EBF0F8",
            "showbackground": true,
            "ticks": "",
            "zerolinecolor": "#EBF0F8"
           }
          },
          "shapedefaults": {
           "line": {
            "color": "#2a3f5f"
           }
          },
          "ternary": {
           "aaxis": {
            "gridcolor": "#DFE8F3",
            "linecolor": "#A2B1C6",
            "ticks": ""
           },
           "baxis": {
            "gridcolor": "#DFE8F3",
            "linecolor": "#A2B1C6",
            "ticks": ""
           },
           "bgcolor": "white",
           "caxis": {
            "gridcolor": "#DFE8F3",
            "linecolor": "#A2B1C6",
            "ticks": ""
           }
          },
          "title": {
           "x": 0.05
          },
          "xaxis": {
           "automargin": true,
           "gridcolor": "#EBF0F8",
           "linecolor": "#EBF0F8",
           "ticks": "",
           "title": {
            "standoff": 15
           },
           "zerolinecolor": "#EBF0F8",
           "zerolinewidth": 2
          },
          "yaxis": {
           "automargin": true,
           "gridcolor": "#EBF0F8",
           "linecolor": "#EBF0F8",
           "ticks": "",
           "title": {
            "standoff": 15
           },
           "zerolinecolor": "#EBF0F8",
           "zerolinewidth": 2
          }
         }
        },
        "title": {
         "text": "Valor Total de la Cartera (ARS)"
        },
        "xaxis": {
         "title": {
          "text": "Fecha"
         }
        },
        "yaxis": {
         "title": {
          "text": "ARS"
         }
        }
       }
      }
     },
     "metadata": {},
     "output_type": "display_data"
    }
   ],
   "source": [
    "# Obtener matriz de pesos históricos\n",
    "weights_matrix = loader.get_portfolio_weights_matrix()\n",
    "\n",
    "print(\"ANALISIS DE COMPOSICION TEMPORAL:\")\n",
    "print(f\"   Matriz de pesos: {weights_matrix.shape}\")\n",
    "print(f\"   Activos únicos: {len(weights_matrix.columns)}\")\n",
    "print(f\"   Fechas analizadas: {len(weights_matrix)}\")\n",
    "\n",
    "# Mostrar evolución de activos principales\n",
    "print(f\"\\nPESOS PROMEDIO POR ACTIVO:\")\n",
    "pesos_promedio = weights_matrix.mean().sort_values(ascending=False)\n",
    "\n",
    "# Crear DataFrame con pesos promedio\n",
    "pesos_df = pd.DataFrame({\n",
    "    'Activo': pesos_promedio.index,\n",
    "    'Peso_Promedio': pesos_promedio.values,\n",
    "    'Peso_Porcentaje': (pesos_promedio.values * 100).round(1)\n",
    "}).reset_index(drop=True)\n",
    "\n",
    "display(pesos_df.head(10))\n",
    "\n",
    "# Estadísticas adicionales de concentración\n",
    "print(f\"\\nESTADISTICAS DE CONCENTRACION:\")\n",
    "print(f\"   Activos con peso > 1%: {(pesos_promedio > 0.01).sum()}\")\n",
    "print(f\"   Activos con peso > 5%: {(pesos_promedio > 0.05).sum()}\" )\n",
    "print(f\"   Peso del top 3: {pesos_promedio.head(3).sum():.1%}\")\n",
    "\n",
    "# ==============================================\n",
    "# NUEVO: Performance semanal (tabla + gráfico)\n",
    "# ==============================================\n",
    "try:\n",
    "    print(\"\\n📆 CALCULANDO PERFORMANCE SEMANAL DEL PORTFOLIO Y ACTIVOS PRINCIPALES...\")\n",
    "    # Usar serie de valor total ya calculada anteriormente (total_value_series)\n",
    "    if 'total_value_series' in globals():\n",
    "        weekly_portfolio_value = total_value_series.resample('W').last()\n",
    "        weekly_portfolio_return = weekly_portfolio_value.pct_change()\n",
    "\n",
    "        weekly_table = pd.DataFrame({\n",
    "            'Semana_Fin': weekly_portfolio_return.index.strftime('%Y-%m-%d'),\n",
    "            'Retorno_Semanal_%': (weekly_portfolio_return * 100).round(2),\n",
    "            'Valor_Cierre_Semana': weekly_portfolio_value.round(2).values\n",
    "        }).dropna().reset_index(drop=True)\n",
    "\n",
    "        print(\"\\n📊 TABLA DE RETORNOS SEMANALES (últimas 10 semanas):\")\n",
    "        display(weekly_table.tail(10))\n",
    "    else:\n",
    "        print(\"⚠️ 'total_value_series' no disponible para cálculo semanal\")\n",
    "\n",
    "    # Performance semanal por activo (top 5 por peso promedio)\n",
    "    if 'prices_data' in globals():\n",
    "        weekly_prices = prices_data.resample('W').last()\n",
    "        top_activos = pesos_promedio.head(5).index.tolist()\n",
    "\n",
    "        # Instanciar visualizador si no existe\n",
    "        vis = visualizer if 'visualizer' in globals() else PortfolioVisualizer()\n",
    "        print(f\"\\n📈 GENERANDO GRAFICO DE PERFORMANCE SEMANAL NORMALIZADA (Top {len(top_activos)} Activos)...\")\n",
    "        fig_weekly = vis.plot_normalized_performance(\n",
    "            df=weekly_prices,\n",
    "            assets=top_activos,\n",
    "            save_path=\"performance_semanal.png\"\n",
    "        )\n",
    "    else:\n",
    "        print(\"⚠️ 'prices_data' no disponible para gráfico semanal\")\n",
    "except Exception as e:\n",
    "    print(f\"❌ Error en cálculo/generación de performance semanal: {e}\")\n",
    "\n",
    "# ==============================================\n",
    "# NUEVO: Valor TOTAL de la cartera (ARS) - Línea\n",
    "# ==============================================\n",
    "try:\n",
    "    import plotly.graph_objects as go\n",
    "    if 'total_value_series' in globals():\n",
    "        print(\"\\n💰 GRAFICANDO VALOR TOTAL DE LA CARTERA (ARS)...\")\n",
    "        tv = total_value_series.sort_index()\n",
    "        fig_total = go.Figure()\n",
    "        fig_total.add_trace(go.Scatter(\n",
    "            x=tv.index,\n",
    "            y=tv.values,\n",
    "            mode='lines',\n",
    "            name='Valor Cartera',\n",
    "            line=dict(color='#2ecc71', width=3),\n",
    "            hovertemplate='Fecha: %{x}<br>Valor: $%{y:,.0f} ARS<extra></extra>'\n",
    "        ))\n",
    "        # Línea punteada del valor inicial\n",
    "        fig_total.add_hline(y=tv.iloc[0], line_dash='dot', line_color='gray',\n",
    "                            annotation_text='Valor Inicial', annotation_position='top left')\n",
    "        fig_total.update_layout(\n",
    "            title='Valor Total de la Cartera (ARS)',\n",
    "            xaxis_title='Fecha',\n",
    "            yaxis_title='ARS',\n",
    "            template='plotly_white',\n",
    "            height=500,\n",
    "            hovermode='x unified'\n",
    "        )\n",
    "        fig_total.show()\n",
    "    else:\n",
    "        print(\"⚠️ 'total_value_series' no disponible para graficar valor total\")\n",
    "except Exception as e:\n",
    "    print(f\"❌ Error generando gráfico de valor total: {e}\")"
   ]
  },
  {
   "cell_type": "code",
   "execution_count": 32,
   "id": "27a07ac3",
   "metadata": {},
   "outputs": [
    {
     "name": "stdout",
     "output_type": "stream",
     "text": [
      "💼 COMPOSICIÓN ACTUAL (pesos)\n"
     ]
    },
    {
     "data": {
      "text/html": [
       "<div>\n",
       "<style scoped>\n",
       "    .dataframe tbody tr th:only-of-type {\n",
       "        vertical-align: middle;\n",
       "    }\n",
       "\n",
       "    .dataframe tbody tr th {\n",
       "        vertical-align: top;\n",
       "    }\n",
       "\n",
       "    .dataframe thead th {\n",
       "        text-align: right;\n",
       "    }\n",
       "</style>\n",
       "<table border=\"1\" class=\"dataframe\">\n",
       "  <thead>\n",
       "    <tr style=\"text-align: right;\">\n",
       "      <th></th>\n",
       "      <th>activo</th>\n",
       "      <th>peso</th>\n",
       "      <th>peso_pct</th>\n",
       "    </tr>\n",
       "  </thead>\n",
       "  <tbody>\n",
       "    <tr>\n",
       "      <th>0</th>\n",
       "      <td>SPY</td>\n",
       "      <td>0.3499</td>\n",
       "      <td>34.99</td>\n",
       "    </tr>\n",
       "    <tr>\n",
       "      <th>1</th>\n",
       "      <td>AAPL</td>\n",
       "      <td>0.2591</td>\n",
       "      <td>25.91</td>\n",
       "    </tr>\n",
       "    <tr>\n",
       "      <th>2</th>\n",
       "      <td>COCORMA</td>\n",
       "      <td>0.1764</td>\n",
       "      <td>17.64</td>\n",
       "    </tr>\n",
       "    <tr>\n",
       "      <th>3</th>\n",
       "      <td>EWZ</td>\n",
       "      <td>0.1603</td>\n",
       "      <td>16.03</td>\n",
       "    </tr>\n",
       "    <tr>\n",
       "      <th>4</th>\n",
       "      <td>CEPU</td>\n",
       "      <td>0.0543</td>\n",
       "      <td>5.43</td>\n",
       "    </tr>\n",
       "  </tbody>\n",
       "</table>\n",
       "</div>"
      ],
      "text/plain": [
       "    activo    peso  peso_pct\n",
       "0      SPY  0.3499     34.99\n",
       "1     AAPL  0.2591     25.91\n",
       "2  COCORMA  0.1764     17.64\n",
       "3      EWZ  0.1603     16.03\n",
       "4     CEPU  0.0543      5.43"
      ]
     },
     "metadata": {},
     "output_type": "display_data"
    }
   ],
   "source": [
    "# Obtener composición actual\n",
    "current_composition = loader.get_current_composition()\n",
    "\n",
    "\n",
    "# Crear DataFrame con composición actual\n",
    "current_comp_df = pd.DataFrame({\n",
    "    'Activo': list(current_composition.keys()),\n",
    "    'Peso': list(current_composition.values()),\n",
    "    'Peso_Porcentaje': [f\"{v:.1%}\" for v in current_composition.values()]\n",
    "}).sort_values('Peso', ascending=False).reset_index(drop=True)\n"
   ]
  },
  {
   "cell_type": "code",
   "execution_count": 33,
   "id": "41df2458",
   "metadata": {},
   "outputs": [
    {
     "name": "stdout",
     "output_type": "stream",
     "text": [
      "ANALISIS DE CONCENTRACION:\n",
      "   HHI promedio: 0.346\n",
      "   HHI actual: 0.249\n",
      "   Cartera más concentrada: 1.000 (2025-06-24)\n",
      "   Cartera más diversificada: 0.244 (2025-08-13)\n",
      "\n",
      "EVOLUCION DE CONCENTRACION (últimas 10 fechas):\n"
     ]
    },
    {
     "data": {
      "text/html": [
       "<div>\n",
       "<style scoped>\n",
       "    .dataframe tbody tr th:only-of-type {\n",
       "        vertical-align: middle;\n",
       "    }\n",
       "\n",
       "    .dataframe tbody tr th {\n",
       "        vertical-align: top;\n",
       "    }\n",
       "\n",
       "    .dataframe thead th {\n",
       "        text-align: right;\n",
       "    }\n",
       "</style>\n",
       "<table border=\"1\" class=\"dataframe\">\n",
       "  <thead>\n",
       "    <tr style=\"text-align: right;\">\n",
       "      <th></th>\n",
       "      <th>Fecha</th>\n",
       "      <th>HHI</th>\n",
       "      <th>Num_Activos_Activos</th>\n",
       "      <th>Top3_Concentracion</th>\n",
       "    </tr>\n",
       "  </thead>\n",
       "  <tbody>\n",
       "    <tr>\n",
       "      <th>63</th>\n",
       "      <td>2025-08-29</td>\n",
       "      <td>0.2475</td>\n",
       "      <td>5</td>\n",
       "      <td>0.7826</td>\n",
       "    </tr>\n",
       "    <tr>\n",
       "      <th>64</th>\n",
       "      <td>2025-08-30</td>\n",
       "      <td>0.2473</td>\n",
       "      <td>5</td>\n",
       "      <td>0.7818</td>\n",
       "    </tr>\n",
       "    <tr>\n",
       "      <th>65</th>\n",
       "      <td>2025-08-31</td>\n",
       "      <td>0.2473</td>\n",
       "      <td>5</td>\n",
       "      <td>0.7818</td>\n",
       "    </tr>\n",
       "    <tr>\n",
       "      <th>66</th>\n",
       "      <td>2025-09-01</td>\n",
       "      <td>0.2473</td>\n",
       "      <td>5</td>\n",
       "      <td>0.7818</td>\n",
       "    </tr>\n",
       "    <tr>\n",
       "      <th>67</th>\n",
       "      <td>2025-09-02</td>\n",
       "      <td>0.2495</td>\n",
       "      <td>5</td>\n",
       "      <td>0.7836</td>\n",
       "    </tr>\n",
       "    <tr>\n",
       "      <th>68</th>\n",
       "      <td>2025-09-03</td>\n",
       "      <td>0.2482</td>\n",
       "      <td>5</td>\n",
       "      <td>0.7840</td>\n",
       "    </tr>\n",
       "    <tr>\n",
       "      <th>69</th>\n",
       "      <td>2025-09-04</td>\n",
       "      <td>0.2492</td>\n",
       "      <td>5</td>\n",
       "      <td>0.7876</td>\n",
       "    </tr>\n",
       "    <tr>\n",
       "      <th>70</th>\n",
       "      <td>2025-09-05</td>\n",
       "      <td>0.2494</td>\n",
       "      <td>5</td>\n",
       "      <td>0.7867</td>\n",
       "    </tr>\n",
       "    <tr>\n",
       "      <th>71</th>\n",
       "      <td>2025-09-06</td>\n",
       "      <td>0.2493</td>\n",
       "      <td>5</td>\n",
       "      <td>0.7853</td>\n",
       "    </tr>\n",
       "    <tr>\n",
       "      <th>72</th>\n",
       "      <td>2025-09-07</td>\n",
       "      <td>0.2493</td>\n",
       "      <td>5</td>\n",
       "      <td>0.7853</td>\n",
       "    </tr>\n",
       "  </tbody>\n",
       "</table>\n",
       "</div>"
      ],
      "text/plain": [
       "        Fecha     HHI  Num_Activos_Activos  Top3_Concentracion\n",
       "63 2025-08-29  0.2475                    5              0.7826\n",
       "64 2025-08-30  0.2473                    5              0.7818\n",
       "65 2025-08-31  0.2473                    5              0.7818\n",
       "66 2025-09-01  0.2473                    5              0.7818\n",
       "67 2025-09-02  0.2495                    5              0.7836\n",
       "68 2025-09-03  0.2482                    5              0.7840\n",
       "69 2025-09-04  0.2492                    5              0.7876\n",
       "70 2025-09-05  0.2494                    5              0.7867\n",
       "71 2025-09-06  0.2493                    5              0.7853\n",
       "72 2025-09-07  0.2493                    5              0.7853"
      ]
     },
     "metadata": {},
     "output_type": "display_data"
    }
   ],
   "source": [
    "# Analizar concentración temporal\n",
    "print(\"ANALISIS DE CONCENTRACION:\")\n",
    "# Calcular índice de concentración (HHI) por fecha\n",
    "hhi_series = (weights_matrix ** 2).sum(axis=1)\n",
    "print(f\"   HHI promedio: {hhi_series.mean():.3f}\")\n",
    "print(f\"   HHI actual: {hhi_series.iloc[-1]:.3f}\")\n",
    "print(f\"   Cartera más concentrada: {hhi_series.max():.3f} ({hhi_series.idxmax().date()})\")\n",
    "print(f\"   Cartera más diversificada: {hhi_series.min():.3f} ({hhi_series.idxmin().date()})\")\n",
    "\n",
    "# Crear DataFrame con evolución de concentración\n",
    "concentration_stats = pd.DataFrame({\n",
    "    'Fecha': hhi_series.index,\n",
    "    'HHI': hhi_series.values,\n",
    "    'Num_Activos_Activos': (weights_matrix > 0.001).sum(axis=1).values,\n",
    "    'Top3_Concentracion': weights_matrix.apply(lambda x: x.nlargest(3).sum(), axis=1).values\n",
    "})\n",
    "\n",
    "print(\"\\nEVOLUCION DE CONCENTRACION (últimas 10 fechas):\")\n",
    "display(concentration_stats.tail(10))"
   ]
  },
  {
   "cell_type": "markdown",
   "id": "6ad5e405",
   "metadata": {},
   "source": [
    "# 6. Comparación con Referencias y Benchmarks"
   ]
  },
  {
   "cell_type": "code",
   "execution_count": 34,
   "id": "3760a717",
   "metadata": {},
   "outputs": [
    {
     "name": "stdout",
     "output_type": "stream",
     "text": [
      "🔨 Construyendo benchmark compuesto personalizado...\n",
      "\n",
      "📊 Benchmark compuesto construido: 3 componentes, periodo 2025-06-24 → 2025-09-05\n",
      "📊 Benchmark compuesto construido: 3 componentes, periodo 2025-06-24 → 2025-09-05\n"
     ]
    },
    {
     "data": {
      "text/html": [
       "<div>\n",
       "<style scoped>\n",
       "    .dataframe tbody tr th:only-of-type {\n",
       "        vertical-align: middle;\n",
       "    }\n",
       "\n",
       "    .dataframe tbody tr th {\n",
       "        vertical-align: top;\n",
       "    }\n",
       "\n",
       "    .dataframe thead th {\n",
       "        text-align: right;\n",
       "    }\n",
       "</style>\n",
       "<table border=\"1\" class=\"dataframe\">\n",
       "  <thead>\n",
       "    <tr style=\"text-align: right;\">\n",
       "      <th></th>\n",
       "      <th>Benchmark Base 100</th>\n",
       "    </tr>\n",
       "    <tr>\n",
       "      <th>Date</th>\n",
       "      <th></th>\n",
       "    </tr>\n",
       "  </thead>\n",
       "  <tbody>\n",
       "    <tr>\n",
       "      <th>2025-08-28</th>\n",
       "      <td>118.6351</td>\n",
       "    </tr>\n",
       "    <tr>\n",
       "      <th>2025-08-29</th>\n",
       "      <td>116.7583</td>\n",
       "    </tr>\n",
       "    <tr>\n",
       "      <th>2025-09-03</th>\n",
       "      <td>115.6411</td>\n",
       "    </tr>\n",
       "    <tr>\n",
       "      <th>2025-09-04</th>\n",
       "      <td>116.3847</td>\n",
       "    </tr>\n",
       "    <tr>\n",
       "      <th>2025-09-05</th>\n",
       "      <td>116.7230</td>\n",
       "    </tr>\n",
       "  </tbody>\n",
       "</table>\n",
       "</div>"
      ],
      "text/plain": [
       "            Benchmark Base 100\n",
       "Date                          \n",
       "2025-08-28            118.6351\n",
       "2025-08-29            116.7583\n",
       "2025-09-03            115.6411\n",
       "2025-09-04            116.3847\n",
       "2025-09-05            116.7230"
      ]
     },
     "metadata": {},
     "output_type": "display_data"
    }
   ],
   "source": [
    "# Comparación con benchmark personalizado usando BenchmarkBuilder\n",
    "from portfolio_analyzer.benchmarks import BenchmarkBuilder\n",
    "\n",
    "# Construir benchmark compuesto con configuración por defecto\n",
    "print(\"🔨 Construyendo benchmark compuesto personalizado...\")\n",
    "builder = BenchmarkBuilder()\n",
    "start_date = prices_data.index.min().strftime('%Y-%m-%d')\n",
    "end_date = prices_data.index.max().strftime('%Y-%m-%d')\n",
    "success_benchmark, bmk_package = builder.build_composite(\n",
    "    start=start_date,\n",
    "    end=end_date\n",
    ")\n",
    "if success_benchmark:\n",
    "    component_prices = bmk_package['component_prices']\n",
    "    composite_returns = bmk_package['composite_returns']\n",
    "    composite_prices = bmk_package['composite_prices']\n",
    "    print(f\"📊 Benchmark compuesto construido: {len(component_prices.columns)} componentes, periodo {component_prices.index.min().date()} → {component_prices.index.max().date()}\")\n",
    "    display(composite_prices.to_frame(name='Benchmark Base 100').tail())\n",
    "    benchmarks_available = True\n",
    "else:\n",
    "    print(\"⚠️ No se pudo construir el benchmark compuesto personalizado\")\n",
    "    benchmarks_available = False"
   ]
  },
  {
   "cell_type": "code",
   "execution_count": 35,
   "id": "c294a88c",
   "metadata": {},
   "outputs": [
    {
     "name": "stdout",
     "output_type": "stream",
     "text": [
      "\n",
      "🔬 COMPARANDO CARTERA VS. BENCHMARK COMPUESTO...\n",
      "✅ RiskCalculator inicializado con risk_free_rate=0.00015873015873015873\n",
      "\n",
      "📊 TABLA COMPARATIVA DE MÉTRICAS:\n"
     ]
    },
    {
     "data": {
      "text/html": [
       "<div>\n",
       "<style scoped>\n",
       "    .dataframe tbody tr th:only-of-type {\n",
       "        vertical-align: middle;\n",
       "    }\n",
       "\n",
       "    .dataframe tbody tr th {\n",
       "        vertical-align: top;\n",
       "    }\n",
       "\n",
       "    .dataframe thead th {\n",
       "        text-align: right;\n",
       "    }\n",
       "</style>\n",
       "<table border=\"1\" class=\"dataframe\">\n",
       "  <thead>\n",
       "    <tr style=\"text-align: right;\">\n",
       "      <th></th>\n",
       "      <th>Rendimiento Anual</th>\n",
       "      <th>Volatilidad Anual</th>\n",
       "      <th>Sharpe Ratio</th>\n",
       "      <th>Max Drawdown</th>\n",
       "      <th>Alpha</th>\n",
       "      <th>Beta</th>\n",
       "    </tr>\n",
       "    <tr>\n",
       "      <th>activo</th>\n",
       "      <th></th>\n",
       "      <th></th>\n",
       "      <th></th>\n",
       "      <th></th>\n",
       "      <th></th>\n",
       "      <th></th>\n",
       "    </tr>\n",
       "  </thead>\n",
       "  <tbody>\n",
       "    <tr>\n",
       "      <th>Cartera</th>\n",
       "      <td>4.6712</td>\n",
       "      <td>2.5535</td>\n",
       "      <td>1.8137</td>\n",
       "      <td>-0.2526</td>\n",
       "      <td>3.5861</td>\n",
       "      <td>1.1832</td>\n",
       "    </tr>\n",
       "    <tr>\n",
       "      <th>Benchmark</th>\n",
       "      <td>0.9171</td>\n",
       "      <td>0.1980</td>\n",
       "      <td>4.4293</td>\n",
       "      <td>-0.0419</td>\n",
       "      <td>0.0000</td>\n",
       "      <td>1.0000</td>\n",
       "    </tr>\n",
       "  </tbody>\n",
       "</table>\n",
       "</div>"
      ],
      "text/plain": [
       "           Rendimiento Anual  Volatilidad Anual  Sharpe Ratio  Max Drawdown  \\\n",
       "activo                                                                        \n",
       "Cartera               4.6712             2.5535        1.8137       -0.2526   \n",
       "Benchmark             0.9171             0.1980        4.4293       -0.0419   \n",
       "\n",
       "            Alpha    Beta  \n",
       "activo                     \n",
       "Cartera    3.5861  1.1832  \n",
       "Benchmark  0.0000  1.0000  "
      ]
     },
     "metadata": {},
     "output_type": "display_data"
    },
    {
     "name": "stdout",
     "output_type": "stream",
     "text": [
      "\n",
      "📈 GRÁFICO DE PERFORMANCE NORMALIZADA (CARTERA VS. BENCHMARK):\n",
      "✅ Gráfico guardado como imagen en: c:\\Users\\trico\\OneDrive\\UBA\\Management Financiero Bursatil\\Cartera final\\outputs\\graficos\\cartera_vs_benchmark.png\n",
      "✅ Gráfico guardado como HTML interactivo en: c:\\Users\\trico\\OneDrive\\UBA\\Management Financiero Bursatil\\Cartera final\\outputs\\graficos\\cartera_vs_benchmark.html\n",
      "✅ Gráfico guardado como imagen en: c:\\Users\\trico\\OneDrive\\UBA\\Management Financiero Bursatil\\Cartera final\\outputs\\graficos\\cartera_vs_benchmark.png\n",
      "✅ Gráfico guardado como HTML interactivo en: c:\\Users\\trico\\OneDrive\\UBA\\Management Financiero Bursatil\\Cartera final\\outputs\\graficos\\cartera_vs_benchmark.html\n"
     ]
    },
    {
     "data": {
      "application/vnd.plotly.v1+json": {
       "config": {
        "plotlyServerURL": "https://plot.ly"
       },
       "data": [
        {
         "hovertemplate": "Activo=Cartera<br>Fecha=%{x}<br>Performance (Base 100)=%{y}<extra></extra>",
         "legendgroup": "Cartera",
         "line": {
          "color": "#636efa",
          "dash": "solid"
         },
         "marker": {
          "symbol": "circle"
         },
         "mode": "lines",
         "name": "Cartera",
         "orientation": "v",
         "showlegend": true,
         "type": "scatter",
         "x": [
          "2025-06-25T00:00:00",
          "2025-06-26T00:00:00",
          "2025-06-30T00:00:00",
          "2025-07-01T00:00:00",
          "2025-07-02T00:00:00",
          "2025-07-03T00:00:00",
          "2025-07-08T00:00:00",
          "2025-07-11T00:00:00",
          "2025-07-14T00:00:00",
          "2025-07-15T00:00:00",
          "2025-07-16T00:00:00",
          "2025-07-17T00:00:00",
          "2025-07-18T00:00:00",
          "2025-07-21T00:00:00",
          "2025-07-22T00:00:00",
          "2025-07-23T00:00:00",
          "2025-07-24T00:00:00",
          "2025-07-25T00:00:00",
          "2025-07-28T00:00:00",
          "2025-07-29T00:00:00",
          "2025-07-30T00:00:00",
          "2025-07-31T00:00:00",
          "2025-08-01T00:00:00",
          "2025-08-04T00:00:00",
          "2025-08-05T00:00:00",
          "2025-08-06T00:00:00",
          "2025-08-07T00:00:00",
          "2025-08-08T00:00:00",
          "2025-08-11T00:00:00",
          "2025-08-12T00:00:00",
          "2025-08-13T00:00:00",
          "2025-08-14T00:00:00",
          "2025-08-19T00:00:00",
          "2025-08-20T00:00:00",
          "2025-08-21T00:00:00",
          "2025-08-22T00:00:00",
          "2025-08-25T00:00:00",
          "2025-08-26T00:00:00",
          "2025-08-27T00:00:00",
          "2025-08-28T00:00:00",
          "2025-08-29T00:00:00",
          "2025-09-03T00:00:00",
          "2025-09-04T00:00:00",
          "2025-09-05T00:00:00"
         ],
         "xaxis": "x",
         "y": [
          100,
          100.0908375,
          74.8090375,
          146.685625,
          147.68692499999997,
          148.47447499999998,
          147.17758255255893,
          145.59150084196244,
          145.59150084196244,
          147.19091689317557,
          143.3244849160152,
          143.01744697024003,
          144.06225822232932,
          144.06225822232932,
          143.8179876641382,
          143.27008194106395,
          144.6809514080186,
          145.48008658116848,
          145.48008658116848,
          122.157642029416,
          147.91885357680695,
          148.90094882426405,
          150.18555119193599,
          150.18555119193599,
          150.31942924145903,
          149.3569433934972,
          149.40587610757535,
          151.43807968828068,
          151.43807968828068,
          125.0497851905009,
          149.32473282896785,
          149.35200978040243,
          148.54538531038725,
          146.81525092138355,
          146.99961446480273,
          147.67705105456727,
          147.67705105456727,
          149.85236000064862,
          149.76170093738355,
          150.54748143590874,
          150.97026241545979,
          148.7624439980908,
          150.2798289138606,
          152.1281493667328
         ],
         "yaxis": "y"
        },
        {
         "hovertemplate": "Activo=Benchmark<br>Fecha=%{x}<br>Performance (Base 100)=%{y}<extra></extra>",
         "legendgroup": "Benchmark",
         "line": {
          "color": "#EF553B",
          "dash": "solid"
         },
         "marker": {
          "symbol": "circle"
         },
         "mode": "lines",
         "name": "Benchmark",
         "orientation": "v",
         "showlegend": true,
         "type": "scatter",
         "x": [
          "2025-06-25T00:00:00",
          "2025-06-26T00:00:00",
          "2025-06-30T00:00:00",
          "2025-07-01T00:00:00",
          "2025-07-02T00:00:00",
          "2025-07-03T00:00:00",
          "2025-07-08T00:00:00",
          "2025-07-11T00:00:00",
          "2025-07-14T00:00:00",
          "2025-07-15T00:00:00",
          "2025-07-16T00:00:00",
          "2025-07-17T00:00:00",
          "2025-07-18T00:00:00",
          "2025-07-21T00:00:00",
          "2025-07-22T00:00:00",
          "2025-07-23T00:00:00",
          "2025-07-24T00:00:00",
          "2025-07-25T00:00:00",
          "2025-07-28T00:00:00",
          "2025-07-29T00:00:00",
          "2025-07-30T00:00:00",
          "2025-07-31T00:00:00",
          "2025-08-01T00:00:00",
          "2025-08-04T00:00:00",
          "2025-08-05T00:00:00",
          "2025-08-06T00:00:00",
          "2025-08-07T00:00:00",
          "2025-08-08T00:00:00",
          "2025-08-11T00:00:00",
          "2025-08-12T00:00:00",
          "2025-08-13T00:00:00",
          "2025-08-14T00:00:00",
          "2025-08-19T00:00:00",
          "2025-08-20T00:00:00",
          "2025-08-21T00:00:00",
          "2025-08-22T00:00:00",
          "2025-08-25T00:00:00",
          "2025-08-26T00:00:00",
          "2025-08-27T00:00:00",
          "2025-08-28T00:00:00",
          "2025-08-29T00:00:00",
          "2025-09-03T00:00:00",
          "2025-09-04T00:00:00",
          "2025-09-05T00:00:00"
         ],
         "xaxis": "x",
         "y": [
          100,
          101.6217031844557,
          101.594140186296,
          102.94567272645232,
          104.32525764101534,
          105.40317735648695,
          107.99355391781513,
          107.94210999380687,
          108.28701736470163,
          110.08879271147838,
          108.57453156801125,
          108.97203410951097,
          109.9969130731006,
          110.28461903367277,
          110.05616228693005,
          108.6534376896636,
          108.99235093971657,
          110.51249523826519,
          110.40686649468225,
          112.64399038793667,
          112.3392870805421,
          114.7047835518255,
          118.43668440710049,
          117.37867366613328,
          117.8720706183369,
          116.84681336697076,
          116.15257638591434,
          115.72016723096448,
          115.54433691608719,
          115.54969102973855,
          115.28839612353914,
          114.61661577013255,
          113.68127360536273,
          113.47515078970669,
          113.98052122201439,
          115.78591748824552,
          114.21579796355068,
          119.16053127856192,
          118.77005300572922,
          118.70133244685326,
          116.82348061818854,
          115.70560503523836,
          116.44966381367199,
          116.78813822708356
         ],
         "yaxis": "y"
        }
       ],
       "layout": {
        "hovermode": "x unified",
        "legend": {
         "title": {
          "text": "Activos"
         },
         "tracegroupgap": 0
        },
        "template": {
         "data": {
          "bar": [
           {
            "error_x": {
             "color": "#2a3f5f"
            },
            "error_y": {
             "color": "#2a3f5f"
            },
            "marker": {
             "line": {
              "color": "white",
              "width": 0.5
             },
             "pattern": {
              "fillmode": "overlay",
              "size": 10,
              "solidity": 0.2
             }
            },
            "type": "bar"
           }
          ],
          "barpolar": [
           {
            "marker": {
             "line": {
              "color": "white",
              "width": 0.5
             },
             "pattern": {
              "fillmode": "overlay",
              "size": 10,
              "solidity": 0.2
             }
            },
            "type": "barpolar"
           }
          ],
          "carpet": [
           {
            "aaxis": {
             "endlinecolor": "#2a3f5f",
             "gridcolor": "#C8D4E3",
             "linecolor": "#C8D4E3",
             "minorgridcolor": "#C8D4E3",
             "startlinecolor": "#2a3f5f"
            },
            "baxis": {
             "endlinecolor": "#2a3f5f",
             "gridcolor": "#C8D4E3",
             "linecolor": "#C8D4E3",
             "minorgridcolor": "#C8D4E3",
             "startlinecolor": "#2a3f5f"
            },
            "type": "carpet"
           }
          ],
          "choropleth": [
           {
            "colorbar": {
             "outlinewidth": 0,
             "ticks": ""
            },
            "type": "choropleth"
           }
          ],
          "contour": [
           {
            "colorbar": {
             "outlinewidth": 0,
             "ticks": ""
            },
            "colorscale": [
             [
              0,
              "#0d0887"
             ],
             [
              0.1111111111111111,
              "#46039f"
             ],
             [
              0.2222222222222222,
              "#7201a8"
             ],
             [
              0.3333333333333333,
              "#9c179e"
             ],
             [
              0.4444444444444444,
              "#bd3786"
             ],
             [
              0.5555555555555556,
              "#d8576b"
             ],
             [
              0.6666666666666666,
              "#ed7953"
             ],
             [
              0.7777777777777778,
              "#fb9f3a"
             ],
             [
              0.8888888888888888,
              "#fdca26"
             ],
             [
              1,
              "#f0f921"
             ]
            ],
            "type": "contour"
           }
          ],
          "contourcarpet": [
           {
            "colorbar": {
             "outlinewidth": 0,
             "ticks": ""
            },
            "type": "contourcarpet"
           }
          ],
          "heatmap": [
           {
            "colorbar": {
             "outlinewidth": 0,
             "ticks": ""
            },
            "colorscale": [
             [
              0,
              "#0d0887"
             ],
             [
              0.1111111111111111,
              "#46039f"
             ],
             [
              0.2222222222222222,
              "#7201a8"
             ],
             [
              0.3333333333333333,
              "#9c179e"
             ],
             [
              0.4444444444444444,
              "#bd3786"
             ],
             [
              0.5555555555555556,
              "#d8576b"
             ],
             [
              0.6666666666666666,
              "#ed7953"
             ],
             [
              0.7777777777777778,
              "#fb9f3a"
             ],
             [
              0.8888888888888888,
              "#fdca26"
             ],
             [
              1,
              "#f0f921"
             ]
            ],
            "type": "heatmap"
           }
          ],
          "heatmapgl": [
           {
            "colorbar": {
             "outlinewidth": 0,
             "ticks": ""
            },
            "colorscale": [
             [
              0,
              "#0d0887"
             ],
             [
              0.1111111111111111,
              "#46039f"
             ],
             [
              0.2222222222222222,
              "#7201a8"
             ],
             [
              0.3333333333333333,
              "#9c179e"
             ],
             [
              0.4444444444444444,
              "#bd3786"
             ],
             [
              0.5555555555555556,
              "#d8576b"
             ],
             [
              0.6666666666666666,
              "#ed7953"
             ],
             [
              0.7777777777777778,
              "#fb9f3a"
             ],
             [
              0.8888888888888888,
              "#fdca26"
             ],
             [
              1,
              "#f0f921"
             ]
            ],
            "type": "heatmapgl"
           }
          ],
          "histogram": [
           {
            "marker": {
             "pattern": {
              "fillmode": "overlay",
              "size": 10,
              "solidity": 0.2
             }
            },
            "type": "histogram"
           }
          ],
          "histogram2d": [
           {
            "colorbar": {
             "outlinewidth": 0,
             "ticks": ""
            },
            "colorscale": [
             [
              0,
              "#0d0887"
             ],
             [
              0.1111111111111111,
              "#46039f"
             ],
             [
              0.2222222222222222,
              "#7201a8"
             ],
             [
              0.3333333333333333,
              "#9c179e"
             ],
             [
              0.4444444444444444,
              "#bd3786"
             ],
             [
              0.5555555555555556,
              "#d8576b"
             ],
             [
              0.6666666666666666,
              "#ed7953"
             ],
             [
              0.7777777777777778,
              "#fb9f3a"
             ],
             [
              0.8888888888888888,
              "#fdca26"
             ],
             [
              1,
              "#f0f921"
             ]
            ],
            "type": "histogram2d"
           }
          ],
          "histogram2dcontour": [
           {
            "colorbar": {
             "outlinewidth": 0,
             "ticks": ""
            },
            "colorscale": [
             [
              0,
              "#0d0887"
             ],
             [
              0.1111111111111111,
              "#46039f"
             ],
             [
              0.2222222222222222,
              "#7201a8"
             ],
             [
              0.3333333333333333,
              "#9c179e"
             ],
             [
              0.4444444444444444,
              "#bd3786"
             ],
             [
              0.5555555555555556,
              "#d8576b"
             ],
             [
              0.6666666666666666,
              "#ed7953"
             ],
             [
              0.7777777777777778,
              "#fb9f3a"
             ],
             [
              0.8888888888888888,
              "#fdca26"
             ],
             [
              1,
              "#f0f921"
             ]
            ],
            "type": "histogram2dcontour"
           }
          ],
          "mesh3d": [
           {
            "colorbar": {
             "outlinewidth": 0,
             "ticks": ""
            },
            "type": "mesh3d"
           }
          ],
          "parcoords": [
           {
            "line": {
             "colorbar": {
              "outlinewidth": 0,
              "ticks": ""
             }
            },
            "type": "parcoords"
           }
          ],
          "pie": [
           {
            "automargin": true,
            "type": "pie"
           }
          ],
          "scatter": [
           {
            "fillpattern": {
             "fillmode": "overlay",
             "size": 10,
             "solidity": 0.2
            },
            "type": "scatter"
           }
          ],
          "scatter3d": [
           {
            "line": {
             "colorbar": {
              "outlinewidth": 0,
              "ticks": ""
             }
            },
            "marker": {
             "colorbar": {
              "outlinewidth": 0,
              "ticks": ""
             }
            },
            "type": "scatter3d"
           }
          ],
          "scattercarpet": [
           {
            "marker": {
             "colorbar": {
              "outlinewidth": 0,
              "ticks": ""
             }
            },
            "type": "scattercarpet"
           }
          ],
          "scattergeo": [
           {
            "marker": {
             "colorbar": {
              "outlinewidth": 0,
              "ticks": ""
             }
            },
            "type": "scattergeo"
           }
          ],
          "scattergl": [
           {
            "marker": {
             "colorbar": {
              "outlinewidth": 0,
              "ticks": ""
             }
            },
            "type": "scattergl"
           }
          ],
          "scattermapbox": [
           {
            "marker": {
             "colorbar": {
              "outlinewidth": 0,
              "ticks": ""
             }
            },
            "type": "scattermapbox"
           }
          ],
          "scatterpolar": [
           {
            "marker": {
             "colorbar": {
              "outlinewidth": 0,
              "ticks": ""
             }
            },
            "type": "scatterpolar"
           }
          ],
          "scatterpolargl": [
           {
            "marker": {
             "colorbar": {
              "outlinewidth": 0,
              "ticks": ""
             }
            },
            "type": "scatterpolargl"
           }
          ],
          "scatterternary": [
           {
            "marker": {
             "colorbar": {
              "outlinewidth": 0,
              "ticks": ""
             }
            },
            "type": "scatterternary"
           }
          ],
          "surface": [
           {
            "colorbar": {
             "outlinewidth": 0,
             "ticks": ""
            },
            "colorscale": [
             [
              0,
              "#0d0887"
             ],
             [
              0.1111111111111111,
              "#46039f"
             ],
             [
              0.2222222222222222,
              "#7201a8"
             ],
             [
              0.3333333333333333,
              "#9c179e"
             ],
             [
              0.4444444444444444,
              "#bd3786"
             ],
             [
              0.5555555555555556,
              "#d8576b"
             ],
             [
              0.6666666666666666,
              "#ed7953"
             ],
             [
              0.7777777777777778,
              "#fb9f3a"
             ],
             [
              0.8888888888888888,
              "#fdca26"
             ],
             [
              1,
              "#f0f921"
             ]
            ],
            "type": "surface"
           }
          ],
          "table": [
           {
            "cells": {
             "fill": {
              "color": "#EBF0F8"
             },
             "line": {
              "color": "white"
             }
            },
            "header": {
             "fill": {
              "color": "#C8D4E3"
             },
             "line": {
              "color": "white"
             }
            },
            "type": "table"
           }
          ]
         },
         "layout": {
          "annotationdefaults": {
           "arrowcolor": "#2a3f5f",
           "arrowhead": 0,
           "arrowwidth": 1
          },
          "autotypenumbers": "strict",
          "coloraxis": {
           "colorbar": {
            "outlinewidth": 0,
            "ticks": ""
           }
          },
          "colorscale": {
           "diverging": [
            [
             0,
             "#8e0152"
            ],
            [
             0.1,
             "#c51b7d"
            ],
            [
             0.2,
             "#de77ae"
            ],
            [
             0.3,
             "#f1b6da"
            ],
            [
             0.4,
             "#fde0ef"
            ],
            [
             0.5,
             "#f7f7f7"
            ],
            [
             0.6,
             "#e6f5d0"
            ],
            [
             0.7,
             "#b8e186"
            ],
            [
             0.8,
             "#7fbc41"
            ],
            [
             0.9,
             "#4d9221"
            ],
            [
             1,
             "#276419"
            ]
           ],
           "sequential": [
            [
             0,
             "#0d0887"
            ],
            [
             0.1111111111111111,
             "#46039f"
            ],
            [
             0.2222222222222222,
             "#7201a8"
            ],
            [
             0.3333333333333333,
             "#9c179e"
            ],
            [
             0.4444444444444444,
             "#bd3786"
            ],
            [
             0.5555555555555556,
             "#d8576b"
            ],
            [
             0.6666666666666666,
             "#ed7953"
            ],
            [
             0.7777777777777778,
             "#fb9f3a"
            ],
            [
             0.8888888888888888,
             "#fdca26"
            ],
            [
             1,
             "#f0f921"
            ]
           ],
           "sequentialminus": [
            [
             0,
             "#0d0887"
            ],
            [
             0.1111111111111111,
             "#46039f"
            ],
            [
             0.2222222222222222,
             "#7201a8"
            ],
            [
             0.3333333333333333,
             "#9c179e"
            ],
            [
             0.4444444444444444,
             "#bd3786"
            ],
            [
             0.5555555555555556,
             "#d8576b"
            ],
            [
             0.6666666666666666,
             "#ed7953"
            ],
            [
             0.7777777777777778,
             "#fb9f3a"
            ],
            [
             0.8888888888888888,
             "#fdca26"
            ],
            [
             1,
             "#f0f921"
            ]
           ]
          },
          "colorway": [
           "#636efa",
           "#EF553B",
           "#00cc96",
           "#ab63fa",
           "#FFA15A",
           "#19d3f3",
           "#FF6692",
           "#B6E880",
           "#FF97FF",
           "#FECB52"
          ],
          "font": {
           "color": "#2a3f5f"
          },
          "geo": {
           "bgcolor": "white",
           "lakecolor": "white",
           "landcolor": "white",
           "showlakes": true,
           "showland": true,
           "subunitcolor": "#C8D4E3"
          },
          "hoverlabel": {
           "align": "left"
          },
          "hovermode": "closest",
          "mapbox": {
           "style": "light"
          },
          "paper_bgcolor": "white",
          "plot_bgcolor": "white",
          "polar": {
           "angularaxis": {
            "gridcolor": "#EBF0F8",
            "linecolor": "#EBF0F8",
            "ticks": ""
           },
           "bgcolor": "white",
           "radialaxis": {
            "gridcolor": "#EBF0F8",
            "linecolor": "#EBF0F8",
            "ticks": ""
           }
          },
          "scene": {
           "xaxis": {
            "backgroundcolor": "white",
            "gridcolor": "#DFE8F3",
            "gridwidth": 2,
            "linecolor": "#EBF0F8",
            "showbackground": true,
            "ticks": "",
            "zerolinecolor": "#EBF0F8"
           },
           "yaxis": {
            "backgroundcolor": "white",
            "gridcolor": "#DFE8F3",
            "gridwidth": 2,
            "linecolor": "#EBF0F8",
            "showbackground": true,
            "ticks": "",
            "zerolinecolor": "#EBF0F8"
           },
           "zaxis": {
            "backgroundcolor": "white",
            "gridcolor": "#DFE8F3",
            "gridwidth": 2,
            "linecolor": "#EBF0F8",
            "showbackground": true,
            "ticks": "",
            "zerolinecolor": "#EBF0F8"
           }
          },
          "shapedefaults": {
           "line": {
            "color": "#2a3f5f"
           }
          },
          "ternary": {
           "aaxis": {
            "gridcolor": "#DFE8F3",
            "linecolor": "#A2B1C6",
            "ticks": ""
           },
           "baxis": {
            "gridcolor": "#DFE8F3",
            "linecolor": "#A2B1C6",
            "ticks": ""
           },
           "bgcolor": "white",
           "caxis": {
            "gridcolor": "#DFE8F3",
            "linecolor": "#A2B1C6",
            "ticks": ""
           }
          },
          "title": {
           "x": 0.05
          },
          "xaxis": {
           "automargin": true,
           "gridcolor": "#EBF0F8",
           "linecolor": "#EBF0F8",
           "ticks": "",
           "title": {
            "standoff": 15
           },
           "zerolinecolor": "#EBF0F8",
           "zerolinewidth": 2
          },
          "yaxis": {
           "automargin": true,
           "gridcolor": "#EBF0F8",
           "linecolor": "#EBF0F8",
           "ticks": "",
           "title": {
            "standoff": 15
           },
           "zerolinecolor": "#EBF0F8",
           "zerolinewidth": 2
          }
         }
        },
        "title": {
         "text": "Performance Normalizada: Cartera vs. Benchmark"
        },
        "xaxis": {
         "anchor": "y",
         "domain": [
          0,
          1
         ],
         "title": {
          "text": "Fecha"
         }
        },
        "yaxis": {
         "anchor": "x",
         "domain": [
          0,
          1
         ],
         "title": {
          "text": "Performance (Base 100)"
         }
        }
       }
      }
     },
     "metadata": {},
     "output_type": "display_data"
    },
    {
     "data": {
      "application/vnd.plotly.v1+json": {
       "config": {
        "plotlyServerURL": "https://plot.ly"
       },
       "data": [
        {
         "hovertemplate": "Activo=Cartera<br>Fecha=%{x}<br>Performance (Base 100)=%{y}<extra></extra>",
         "legendgroup": "Cartera",
         "line": {
          "color": "#636efa",
          "dash": "solid"
         },
         "marker": {
          "symbol": "circle"
         },
         "mode": "lines",
         "name": "Cartera",
         "orientation": "v",
         "showlegend": true,
         "type": "scatter",
         "x": [
          "2025-06-25T00:00:00",
          "2025-06-26T00:00:00",
          "2025-06-30T00:00:00",
          "2025-07-01T00:00:00",
          "2025-07-02T00:00:00",
          "2025-07-03T00:00:00",
          "2025-07-08T00:00:00",
          "2025-07-11T00:00:00",
          "2025-07-14T00:00:00",
          "2025-07-15T00:00:00",
          "2025-07-16T00:00:00",
          "2025-07-17T00:00:00",
          "2025-07-18T00:00:00",
          "2025-07-21T00:00:00",
          "2025-07-22T00:00:00",
          "2025-07-23T00:00:00",
          "2025-07-24T00:00:00",
          "2025-07-25T00:00:00",
          "2025-07-28T00:00:00",
          "2025-07-29T00:00:00",
          "2025-07-30T00:00:00",
          "2025-07-31T00:00:00",
          "2025-08-01T00:00:00",
          "2025-08-04T00:00:00",
          "2025-08-05T00:00:00",
          "2025-08-06T00:00:00",
          "2025-08-07T00:00:00",
          "2025-08-08T00:00:00",
          "2025-08-11T00:00:00",
          "2025-08-12T00:00:00",
          "2025-08-13T00:00:00",
          "2025-08-14T00:00:00",
          "2025-08-19T00:00:00",
          "2025-08-20T00:00:00",
          "2025-08-21T00:00:00",
          "2025-08-22T00:00:00",
          "2025-08-25T00:00:00",
          "2025-08-26T00:00:00",
          "2025-08-27T00:00:00",
          "2025-08-28T00:00:00",
          "2025-08-29T00:00:00",
          "2025-09-03T00:00:00",
          "2025-09-04T00:00:00",
          "2025-09-05T00:00:00"
         ],
         "xaxis": "x",
         "y": [
          100,
          100.0908375,
          74.8090375,
          146.685625,
          147.68692499999997,
          148.47447499999998,
          147.17758255255893,
          145.59150084196244,
          145.59150084196244,
          147.19091689317557,
          143.3244849160152,
          143.01744697024003,
          144.06225822232932,
          144.06225822232932,
          143.8179876641382,
          143.27008194106395,
          144.6809514080186,
          145.48008658116848,
          145.48008658116848,
          122.157642029416,
          147.91885357680695,
          148.90094882426405,
          150.18555119193599,
          150.18555119193599,
          150.31942924145903,
          149.3569433934972,
          149.40587610757535,
          151.43807968828068,
          151.43807968828068,
          125.0497851905009,
          149.32473282896785,
          149.35200978040243,
          148.54538531038725,
          146.81525092138355,
          146.99961446480273,
          147.67705105456727,
          147.67705105456727,
          149.85236000064862,
          149.76170093738355,
          150.54748143590874,
          150.97026241545979,
          148.7624439980908,
          150.2798289138606,
          152.1281493667328
         ],
         "yaxis": "y"
        },
        {
         "hovertemplate": "Activo=Benchmark<br>Fecha=%{x}<br>Performance (Base 100)=%{y}<extra></extra>",
         "legendgroup": "Benchmark",
         "line": {
          "color": "#EF553B",
          "dash": "solid"
         },
         "marker": {
          "symbol": "circle"
         },
         "mode": "lines",
         "name": "Benchmark",
         "orientation": "v",
         "showlegend": true,
         "type": "scatter",
         "x": [
          "2025-06-25T00:00:00",
          "2025-06-26T00:00:00",
          "2025-06-30T00:00:00",
          "2025-07-01T00:00:00",
          "2025-07-02T00:00:00",
          "2025-07-03T00:00:00",
          "2025-07-08T00:00:00",
          "2025-07-11T00:00:00",
          "2025-07-14T00:00:00",
          "2025-07-15T00:00:00",
          "2025-07-16T00:00:00",
          "2025-07-17T00:00:00",
          "2025-07-18T00:00:00",
          "2025-07-21T00:00:00",
          "2025-07-22T00:00:00",
          "2025-07-23T00:00:00",
          "2025-07-24T00:00:00",
          "2025-07-25T00:00:00",
          "2025-07-28T00:00:00",
          "2025-07-29T00:00:00",
          "2025-07-30T00:00:00",
          "2025-07-31T00:00:00",
          "2025-08-01T00:00:00",
          "2025-08-04T00:00:00",
          "2025-08-05T00:00:00",
          "2025-08-06T00:00:00",
          "2025-08-07T00:00:00",
          "2025-08-08T00:00:00",
          "2025-08-11T00:00:00",
          "2025-08-12T00:00:00",
          "2025-08-13T00:00:00",
          "2025-08-14T00:00:00",
          "2025-08-19T00:00:00",
          "2025-08-20T00:00:00",
          "2025-08-21T00:00:00",
          "2025-08-22T00:00:00",
          "2025-08-25T00:00:00",
          "2025-08-26T00:00:00",
          "2025-08-27T00:00:00",
          "2025-08-28T00:00:00",
          "2025-08-29T00:00:00",
          "2025-09-03T00:00:00",
          "2025-09-04T00:00:00",
          "2025-09-05T00:00:00"
         ],
         "xaxis": "x",
         "y": [
          100,
          101.6217031844557,
          101.594140186296,
          102.94567272645232,
          104.32525764101534,
          105.40317735648695,
          107.99355391781513,
          107.94210999380687,
          108.28701736470163,
          110.08879271147838,
          108.57453156801125,
          108.97203410951097,
          109.9969130731006,
          110.28461903367277,
          110.05616228693005,
          108.6534376896636,
          108.99235093971657,
          110.51249523826519,
          110.40686649468225,
          112.64399038793667,
          112.3392870805421,
          114.7047835518255,
          118.43668440710049,
          117.37867366613328,
          117.8720706183369,
          116.84681336697076,
          116.15257638591434,
          115.72016723096448,
          115.54433691608719,
          115.54969102973855,
          115.28839612353914,
          114.61661577013255,
          113.68127360536273,
          113.47515078970669,
          113.98052122201439,
          115.78591748824552,
          114.21579796355068,
          119.16053127856192,
          118.77005300572922,
          118.70133244685326,
          116.82348061818854,
          115.70560503523836,
          116.44966381367199,
          116.78813822708356
         ],
         "yaxis": "y"
        }
       ],
       "layout": {
        "hovermode": "x unified",
        "legend": {
         "title": {
          "text": "Activos"
         },
         "tracegroupgap": 0
        },
        "template": {
         "data": {
          "bar": [
           {
            "error_x": {
             "color": "#2a3f5f"
            },
            "error_y": {
             "color": "#2a3f5f"
            },
            "marker": {
             "line": {
              "color": "white",
              "width": 0.5
             },
             "pattern": {
              "fillmode": "overlay",
              "size": 10,
              "solidity": 0.2
             }
            },
            "type": "bar"
           }
          ],
          "barpolar": [
           {
            "marker": {
             "line": {
              "color": "white",
              "width": 0.5
             },
             "pattern": {
              "fillmode": "overlay",
              "size": 10,
              "solidity": 0.2
             }
            },
            "type": "barpolar"
           }
          ],
          "carpet": [
           {
            "aaxis": {
             "endlinecolor": "#2a3f5f",
             "gridcolor": "#C8D4E3",
             "linecolor": "#C8D4E3",
             "minorgridcolor": "#C8D4E3",
             "startlinecolor": "#2a3f5f"
            },
            "baxis": {
             "endlinecolor": "#2a3f5f",
             "gridcolor": "#C8D4E3",
             "linecolor": "#C8D4E3",
             "minorgridcolor": "#C8D4E3",
             "startlinecolor": "#2a3f5f"
            },
            "type": "carpet"
           }
          ],
          "choropleth": [
           {
            "colorbar": {
             "outlinewidth": 0,
             "ticks": ""
            },
            "type": "choropleth"
           }
          ],
          "contour": [
           {
            "colorbar": {
             "outlinewidth": 0,
             "ticks": ""
            },
            "colorscale": [
             [
              0,
              "#0d0887"
             ],
             [
              0.1111111111111111,
              "#46039f"
             ],
             [
              0.2222222222222222,
              "#7201a8"
             ],
             [
              0.3333333333333333,
              "#9c179e"
             ],
             [
              0.4444444444444444,
              "#bd3786"
             ],
             [
              0.5555555555555556,
              "#d8576b"
             ],
             [
              0.6666666666666666,
              "#ed7953"
             ],
             [
              0.7777777777777778,
              "#fb9f3a"
             ],
             [
              0.8888888888888888,
              "#fdca26"
             ],
             [
              1,
              "#f0f921"
             ]
            ],
            "type": "contour"
           }
          ],
          "contourcarpet": [
           {
            "colorbar": {
             "outlinewidth": 0,
             "ticks": ""
            },
            "type": "contourcarpet"
           }
          ],
          "heatmap": [
           {
            "colorbar": {
             "outlinewidth": 0,
             "ticks": ""
            },
            "colorscale": [
             [
              0,
              "#0d0887"
             ],
             [
              0.1111111111111111,
              "#46039f"
             ],
             [
              0.2222222222222222,
              "#7201a8"
             ],
             [
              0.3333333333333333,
              "#9c179e"
             ],
             [
              0.4444444444444444,
              "#bd3786"
             ],
             [
              0.5555555555555556,
              "#d8576b"
             ],
             [
              0.6666666666666666,
              "#ed7953"
             ],
             [
              0.7777777777777778,
              "#fb9f3a"
             ],
             [
              0.8888888888888888,
              "#fdca26"
             ],
             [
              1,
              "#f0f921"
             ]
            ],
            "type": "heatmap"
           }
          ],
          "heatmapgl": [
           {
            "colorbar": {
             "outlinewidth": 0,
             "ticks": ""
            },
            "colorscale": [
             [
              0,
              "#0d0887"
             ],
             [
              0.1111111111111111,
              "#46039f"
             ],
             [
              0.2222222222222222,
              "#7201a8"
             ],
             [
              0.3333333333333333,
              "#9c179e"
             ],
             [
              0.4444444444444444,
              "#bd3786"
             ],
             [
              0.5555555555555556,
              "#d8576b"
             ],
             [
              0.6666666666666666,
              "#ed7953"
             ],
             [
              0.7777777777777778,
              "#fb9f3a"
             ],
             [
              0.8888888888888888,
              "#fdca26"
             ],
             [
              1,
              "#f0f921"
             ]
            ],
            "type": "heatmapgl"
           }
          ],
          "histogram": [
           {
            "marker": {
             "pattern": {
              "fillmode": "overlay",
              "size": 10,
              "solidity": 0.2
             }
            },
            "type": "histogram"
           }
          ],
          "histogram2d": [
           {
            "colorbar": {
             "outlinewidth": 0,
             "ticks": ""
            },
            "colorscale": [
             [
              0,
              "#0d0887"
             ],
             [
              0.1111111111111111,
              "#46039f"
             ],
             [
              0.2222222222222222,
              "#7201a8"
             ],
             [
              0.3333333333333333,
              "#9c179e"
             ],
             [
              0.4444444444444444,
              "#bd3786"
             ],
             [
              0.5555555555555556,
              "#d8576b"
             ],
             [
              0.6666666666666666,
              "#ed7953"
             ],
             [
              0.7777777777777778,
              "#fb9f3a"
             ],
             [
              0.8888888888888888,
              "#fdca26"
             ],
             [
              1,
              "#f0f921"
             ]
            ],
            "type": "histogram2d"
           }
          ],
          "histogram2dcontour": [
           {
            "colorbar": {
             "outlinewidth": 0,
             "ticks": ""
            },
            "colorscale": [
             [
              0,
              "#0d0887"
             ],
             [
              0.1111111111111111,
              "#46039f"
             ],
             [
              0.2222222222222222,
              "#7201a8"
             ],
             [
              0.3333333333333333,
              "#9c179e"
             ],
             [
              0.4444444444444444,
              "#bd3786"
             ],
             [
              0.5555555555555556,
              "#d8576b"
             ],
             [
              0.6666666666666666,
              "#ed7953"
             ],
             [
              0.7777777777777778,
              "#fb9f3a"
             ],
             [
              0.8888888888888888,
              "#fdca26"
             ],
             [
              1,
              "#f0f921"
             ]
            ],
            "type": "histogram2dcontour"
           }
          ],
          "mesh3d": [
           {
            "colorbar": {
             "outlinewidth": 0,
             "ticks": ""
            },
            "type": "mesh3d"
           }
          ],
          "parcoords": [
           {
            "line": {
             "colorbar": {
              "outlinewidth": 0,
              "ticks": ""
             }
            },
            "type": "parcoords"
           }
          ],
          "pie": [
           {
            "automargin": true,
            "type": "pie"
           }
          ],
          "scatter": [
           {
            "fillpattern": {
             "fillmode": "overlay",
             "size": 10,
             "solidity": 0.2
            },
            "type": "scatter"
           }
          ],
          "scatter3d": [
           {
            "line": {
             "colorbar": {
              "outlinewidth": 0,
              "ticks": ""
             }
            },
            "marker": {
             "colorbar": {
              "outlinewidth": 0,
              "ticks": ""
             }
            },
            "type": "scatter3d"
           }
          ],
          "scattercarpet": [
           {
            "marker": {
             "colorbar": {
              "outlinewidth": 0,
              "ticks": ""
             }
            },
            "type": "scattercarpet"
           }
          ],
          "scattergeo": [
           {
            "marker": {
             "colorbar": {
              "outlinewidth": 0,
              "ticks": ""
             }
            },
            "type": "scattergeo"
           }
          ],
          "scattergl": [
           {
            "marker": {
             "colorbar": {
              "outlinewidth": 0,
              "ticks": ""
             }
            },
            "type": "scattergl"
           }
          ],
          "scattermapbox": [
           {
            "marker": {
             "colorbar": {
              "outlinewidth": 0,
              "ticks": ""
             }
            },
            "type": "scattermapbox"
           }
          ],
          "scatterpolar": [
           {
            "marker": {
             "colorbar": {
              "outlinewidth": 0,
              "ticks": ""
             }
            },
            "type": "scatterpolar"
           }
          ],
          "scatterpolargl": [
           {
            "marker": {
             "colorbar": {
              "outlinewidth": 0,
              "ticks": ""
             }
            },
            "type": "scatterpolargl"
           }
          ],
          "scatterternary": [
           {
            "marker": {
             "colorbar": {
              "outlinewidth": 0,
              "ticks": ""
             }
            },
            "type": "scatterternary"
           }
          ],
          "surface": [
           {
            "colorbar": {
             "outlinewidth": 0,
             "ticks": ""
            },
            "colorscale": [
             [
              0,
              "#0d0887"
             ],
             [
              0.1111111111111111,
              "#46039f"
             ],
             [
              0.2222222222222222,
              "#7201a8"
             ],
             [
              0.3333333333333333,
              "#9c179e"
             ],
             [
              0.4444444444444444,
              "#bd3786"
             ],
             [
              0.5555555555555556,
              "#d8576b"
             ],
             [
              0.6666666666666666,
              "#ed7953"
             ],
             [
              0.7777777777777778,
              "#fb9f3a"
             ],
             [
              0.8888888888888888,
              "#fdca26"
             ],
             [
              1,
              "#f0f921"
             ]
            ],
            "type": "surface"
           }
          ],
          "table": [
           {
            "cells": {
             "fill": {
              "color": "#EBF0F8"
             },
             "line": {
              "color": "white"
             }
            },
            "header": {
             "fill": {
              "color": "#C8D4E3"
             },
             "line": {
              "color": "white"
             }
            },
            "type": "table"
           }
          ]
         },
         "layout": {
          "annotationdefaults": {
           "arrowcolor": "#2a3f5f",
           "arrowhead": 0,
           "arrowwidth": 1
          },
          "autotypenumbers": "strict",
          "coloraxis": {
           "colorbar": {
            "outlinewidth": 0,
            "ticks": ""
           }
          },
          "colorscale": {
           "diverging": [
            [
             0,
             "#8e0152"
            ],
            [
             0.1,
             "#c51b7d"
            ],
            [
             0.2,
             "#de77ae"
            ],
            [
             0.3,
             "#f1b6da"
            ],
            [
             0.4,
             "#fde0ef"
            ],
            [
             0.5,
             "#f7f7f7"
            ],
            [
             0.6,
             "#e6f5d0"
            ],
            [
             0.7,
             "#b8e186"
            ],
            [
             0.8,
             "#7fbc41"
            ],
            [
             0.9,
             "#4d9221"
            ],
            [
             1,
             "#276419"
            ]
           ],
           "sequential": [
            [
             0,
             "#0d0887"
            ],
            [
             0.1111111111111111,
             "#46039f"
            ],
            [
             0.2222222222222222,
             "#7201a8"
            ],
            [
             0.3333333333333333,
             "#9c179e"
            ],
            [
             0.4444444444444444,
             "#bd3786"
            ],
            [
             0.5555555555555556,
             "#d8576b"
            ],
            [
             0.6666666666666666,
             "#ed7953"
            ],
            [
             0.7777777777777778,
             "#fb9f3a"
            ],
            [
             0.8888888888888888,
             "#fdca26"
            ],
            [
             1,
             "#f0f921"
            ]
           ],
           "sequentialminus": [
            [
             0,
             "#0d0887"
            ],
            [
             0.1111111111111111,
             "#46039f"
            ],
            [
             0.2222222222222222,
             "#7201a8"
            ],
            [
             0.3333333333333333,
             "#9c179e"
            ],
            [
             0.4444444444444444,
             "#bd3786"
            ],
            [
             0.5555555555555556,
             "#d8576b"
            ],
            [
             0.6666666666666666,
             "#ed7953"
            ],
            [
             0.7777777777777778,
             "#fb9f3a"
            ],
            [
             0.8888888888888888,
             "#fdca26"
            ],
            [
             1,
             "#f0f921"
            ]
           ]
          },
          "colorway": [
           "#636efa",
           "#EF553B",
           "#00cc96",
           "#ab63fa",
           "#FFA15A",
           "#19d3f3",
           "#FF6692",
           "#B6E880",
           "#FF97FF",
           "#FECB52"
          ],
          "font": {
           "color": "#2a3f5f"
          },
          "geo": {
           "bgcolor": "white",
           "lakecolor": "white",
           "landcolor": "white",
           "showlakes": true,
           "showland": true,
           "subunitcolor": "#C8D4E3"
          },
          "hoverlabel": {
           "align": "left"
          },
          "hovermode": "closest",
          "mapbox": {
           "style": "light"
          },
          "paper_bgcolor": "white",
          "plot_bgcolor": "white",
          "polar": {
           "angularaxis": {
            "gridcolor": "#EBF0F8",
            "linecolor": "#EBF0F8",
            "ticks": ""
           },
           "bgcolor": "white",
           "radialaxis": {
            "gridcolor": "#EBF0F8",
            "linecolor": "#EBF0F8",
            "ticks": ""
           }
          },
          "scene": {
           "xaxis": {
            "backgroundcolor": "white",
            "gridcolor": "#DFE8F3",
            "gridwidth": 2,
            "linecolor": "#EBF0F8",
            "showbackground": true,
            "ticks": "",
            "zerolinecolor": "#EBF0F8"
           },
           "yaxis": {
            "backgroundcolor": "white",
            "gridcolor": "#DFE8F3",
            "gridwidth": 2,
            "linecolor": "#EBF0F8",
            "showbackground": true,
            "ticks": "",
            "zerolinecolor": "#EBF0F8"
           },
           "zaxis": {
            "backgroundcolor": "white",
            "gridcolor": "#DFE8F3",
            "gridwidth": 2,
            "linecolor": "#EBF0F8",
            "showbackground": true,
            "ticks": "",
            "zerolinecolor": "#EBF0F8"
           }
          },
          "shapedefaults": {
           "line": {
            "color": "#2a3f5f"
           }
          },
          "ternary": {
           "aaxis": {
            "gridcolor": "#DFE8F3",
            "linecolor": "#A2B1C6",
            "ticks": ""
           },
           "baxis": {
            "gridcolor": "#DFE8F3",
            "linecolor": "#A2B1C6",
            "ticks": ""
           },
           "bgcolor": "white",
           "caxis": {
            "gridcolor": "#DFE8F3",
            "linecolor": "#A2B1C6",
            "ticks": ""
           }
          },
          "title": {
           "x": 0.05
          },
          "xaxis": {
           "automargin": true,
           "gridcolor": "#EBF0F8",
           "linecolor": "#EBF0F8",
           "ticks": "",
           "title": {
            "standoff": 15
           },
           "zerolinecolor": "#EBF0F8",
           "zerolinewidth": 2
          },
          "yaxis": {
           "automargin": true,
           "gridcolor": "#EBF0F8",
           "linecolor": "#EBF0F8",
           "ticks": "",
           "title": {
            "standoff": 15
           },
           "zerolinecolor": "#EBF0F8",
           "zerolinewidth": 2
          }
         }
        },
        "title": {
         "text": "Performance Normalizada: Cartera vs. Benchmark"
        },
        "xaxis": {
         "anchor": "y",
         "domain": [
          0,
          1
         ],
         "title": {
          "text": "Fecha"
         }
        },
        "yaxis": {
         "anchor": "x",
         "domain": [
          0,
          1
         ],
         "title": {
          "text": "Performance (Base 100)"
         }
        }
       }
      }
     },
     "metadata": {},
     "output_type": "display_data"
    }
   ],
   "source": [
    "if success_benchmark:\n",
    "    print(\"\\n🔬 COMPARANDO CARTERA VS. BENCHMARK COMPUESTO...\")\n",
    "\n",
    "    # 1. Obtener retornos de la cartera y del benchmark\n",
    "    portfolio_returns = total_value_series.pct_change().dropna()\n",
    "    portfolio_returns.name = 'Cartera'\n",
    "    benchmark_returns = bmk_package['composite_returns']\n",
    "    benchmark_returns.name = 'Benchmark'\n",
    "\n",
    "    # 2. Combinar y alinear los retornos\n",
    "    comparison_df = pd.concat([portfolio_returns, benchmark_returns], axis=1).dropna()\n",
    "\n",
    "    # 3. Calcular métricas de riesgo comparativas\n",
    "    risk_calc = RiskCalculator()\n",
    "    \n",
    "    # Métricas para la cartera y el benchmark\n",
    "    portfolio_metrics = risk_calc.calculate_basic_metrics(comparison_df['Cartera'])\n",
    "    portfolio_metrics['activo'] = 'Cartera'\n",
    "    benchmark_metrics = risk_calc.calculate_basic_metrics(comparison_df['Benchmark'])\n",
    "    benchmark_metrics['activo'] = 'Benchmark'\n",
    "\n",
    "    # Métricas avanzadas (alfa, beta)\n",
    "    advanced_metrics = risk_calc.calculate_advanced_metrics(\n",
    "        returns=comparison_df['Cartera'],\n",
    "        benchmark_returns=comparison_df['Benchmark']\n",
    "    )\n",
    "    if advanced_metrics:\n",
    "        portfolio_metrics.update(advanced_metrics)\n",
    "    # Asignar beta=1 y alpha=0 al benchmark (por definición)\n",
    "    if 'beta' in portfolio_metrics:\n",
    "        benchmark_metrics['beta'] = 1.0\n",
    "    if 'alpha' in portfolio_metrics:\n",
    "        benchmark_metrics['alpha'] = 0.0\n",
    "\n",
    "    # 4. Crear tabla comparativa\n",
    "    metrics_table = pd.DataFrame([portfolio_metrics, benchmark_metrics]).set_index('activo')\n",
    "    \n",
    "    display_cols = {\n",
    "        'rendimiento_anual': 'Rendimiento Anual',\n",
    "        'volatilidad': 'Volatilidad Anual',\n",
    "        'sharpe_ratio': 'Sharpe Ratio',\n",
    "        'max_drawdown': 'Max Drawdown',\n",
    "        'alpha': 'Alpha',\n",
    "        'beta': 'Beta'\n",
    "    }\n",
    "    available_cols = [col for col in display_cols.keys() if col in metrics_table.columns]\n",
    "    \n",
    "    print(\"\\n📊 TABLA COMPARATIVA DE MÉTRICAS:\")\n",
    "    display(metrics_table[available_cols].rename(columns=display_cols))\n",
    "\n",
    "    # 5. Graficar performance normalizada\n",
    "    print(\"\\n📈 GRÁFICO DE PERFORMANCE NORMALIZADA (CARTERA VS. BENCHMARK):\")\n",
    "    \n",
    "    # Calcular precios normalizados (base 100)\n",
    "    normalized_comparison = (1 + comparison_df).cumprod() * 100\n",
    "    \n",
    "    visualizer = PortfolioVisualizer()\n",
    "    fig_comparison = visualizer.plot_normalized_performance(\n",
    "        df=normalized_comparison,\n",
    "        assets=['Cartera', 'Benchmark'],\n",
    "        title='Performance Normalizada: Cartera vs. Benchmark',\n",
    "        save_path=\"cartera_vs_benchmark\"\n",
    "    )\n",
    "    fig_comparison.show()"
   ]
  },
  {
   "cell_type": "code",
   "execution_count": 36,
   "id": "9e3cdeb7",
   "metadata": {},
   "outputs": [
    {
     "name": "stdout",
     "output_type": "stream",
     "text": [
      "\n",
      "📅 TABLA DE RETORNOS SEMANALES (CARTERA VS. BENCHMARK):\n"
     ]
    },
    {
     "data": {
      "text/html": [
       "<div>\n",
       "<style scoped>\n",
       "    .dataframe tbody tr th:only-of-type {\n",
       "        vertical-align: middle;\n",
       "    }\n",
       "\n",
       "    .dataframe tbody tr th {\n",
       "        vertical-align: top;\n",
       "    }\n",
       "\n",
       "    .dataframe thead th {\n",
       "        text-align: right;\n",
       "    }\n",
       "</style>\n",
       "<table border=\"1\" class=\"dataframe\">\n",
       "  <thead>\n",
       "    <tr style=\"text-align: right;\">\n",
       "      <th></th>\n",
       "      <th>Retorno Cartera Semanal</th>\n",
       "      <th>Retorno Benchmark Semanal</th>\n",
       "    </tr>\n",
       "  </thead>\n",
       "  <tbody>\n",
       "    <tr>\n",
       "      <th>2025-06-29</th>\n",
       "      <td>0.0018</td>\n",
       "      <td>0.0176</td>\n",
       "    </tr>\n",
       "    <tr>\n",
       "      <th>2025-07-06</th>\n",
       "      <td>0.4834</td>\n",
       "      <td>0.0372</td>\n",
       "    </tr>\n",
       "    <tr>\n",
       "      <th>2025-07-13</th>\n",
       "      <td>-0.0194</td>\n",
       "      <td>0.0241</td>\n",
       "    </tr>\n",
       "    <tr>\n",
       "      <th>2025-07-20</th>\n",
       "      <td>-0.0105</td>\n",
       "      <td>0.0190</td>\n",
       "    </tr>\n",
       "    <tr>\n",
       "      <th>2025-07-27</th>\n",
       "      <td>0.0098</td>\n",
       "      <td>0.0047</td>\n",
       "    </tr>\n",
       "    <tr>\n",
       "      <th>2025-08-03</th>\n",
       "      <td>0.0323</td>\n",
       "      <td>0.0717</td>\n",
       "    </tr>\n",
       "    <tr>\n",
       "      <th>2025-08-10</th>\n",
       "      <td>0.0083</td>\n",
       "      <td>-0.0229</td>\n",
       "    </tr>\n",
       "    <tr>\n",
       "      <th>2025-08-17</th>\n",
       "      <td>-0.0138</td>\n",
       "      <td>-0.0095</td>\n",
       "    </tr>\n",
       "    <tr>\n",
       "      <th>2025-08-24</th>\n",
       "      <td>-0.0112</td>\n",
       "      <td>0.0102</td>\n",
       "    </tr>\n",
       "    <tr>\n",
       "      <th>2025-08-31</th>\n",
       "      <td>0.0223</td>\n",
       "      <td>0.0090</td>\n",
       "    </tr>\n",
       "    <tr>\n",
       "      <th>2025-09-07</th>\n",
       "      <td>0.0077</td>\n",
       "      <td>-0.0003</td>\n",
       "    </tr>\n",
       "  </tbody>\n",
       "</table>\n",
       "</div>"
      ],
      "text/plain": [
       "            Retorno Cartera Semanal  Retorno Benchmark Semanal\n",
       "2025-06-29                   0.0018                     0.0176\n",
       "2025-07-06                   0.4834                     0.0372\n",
       "2025-07-13                  -0.0194                     0.0241\n",
       "2025-07-20                  -0.0105                     0.0190\n",
       "2025-07-27                   0.0098                     0.0047\n",
       "2025-08-03                   0.0323                     0.0717\n",
       "2025-08-10                   0.0083                    -0.0229\n",
       "2025-08-17                  -0.0138                    -0.0095\n",
       "2025-08-24                  -0.0112                     0.0102\n",
       "2025-08-31                   0.0223                     0.0090\n",
       "2025-09-07                   0.0077                    -0.0003"
      ]
     },
     "metadata": {},
     "output_type": "display_data"
    }
   ],
   "source": [
    "# Comparación semana por semana: Cartera vs Benchmark\n",
    "import pandas as pd\n",
    "\n",
    "# Resample semanal (de lunes a lunes, o ajustar según tus datos)\n",
    "weekly_comparison = comparison_df.resample('W').apply(lambda x: (1 + x).prod() - 1)\n",
    "weekly_comparison.index = weekly_comparison.index.strftime('%Y-%m-%d')\n",
    "\n",
    "# Tabla resumen semanal\n",
    "weekly_table = weekly_comparison.rename(columns={\n",
    "    'Cartera': 'Retorno Cartera Semanal',\n",
    "    'Benchmark': 'Retorno Benchmark Semanal'\n",
    "})\n",
    "\n",
    "print(\"\\n📅 TABLA DE RETORNOS SEMANALES (CARTERA VS. BENCHMARK):\")\n",
    "display(weekly_table)\n",
    "\n",
    "# Si quieres agregar métricas adicionales por semana, puedes hacerlo aquí."
   ]
  },
  {
   "cell_type": "markdown",
   "id": "a94e2ead",
   "metadata": {},
   "source": [
    "# 7. Métricas de Riesgo y Drawdowns\n",
    "\n",
    "## Análisis de Riesgo por Activo"
   ]
  },
  {
   "cell_type": "code",
   "execution_count": 50,
   "id": "df8a24e9",
   "metadata": {},
   "outputs": [
    {
     "name": "stdout",
     "output_type": "stream",
     "text": [
      "✅ RiskCalculator inicializado con risk_free_rate=0.00015873015873015873\n",
      "CALCULANDO METRICAS DE RIESGO PARA 8 ACTIVOS...\n",
      "🔬 Analizando 8 activos...\n",
      "   ✅ Métricas calculadas para 8 activos\n",
      "📋 Progreso cálculo métricas\n"
     ]
    },
    {
     "data": {
      "text/html": [
       "<div>\n",
       "<style scoped>\n",
       "    .dataframe tbody tr th:only-of-type {\n",
       "        vertical-align: middle;\n",
       "    }\n",
       "\n",
       "    .dataframe tbody tr th {\n",
       "        vertical-align: top;\n",
       "    }\n",
       "\n",
       "    .dataframe thead th {\n",
       "        text-align: right;\n",
       "    }\n",
       "</style>\n",
       "<table border=\"1\" class=\"dataframe\">\n",
       "  <thead>\n",
       "    <tr style=\"text-align: right;\">\n",
       "      <th></th>\n",
       "      <th>activo</th>\n",
       "      <th>estado</th>\n",
       "      <th>obs</th>\n",
       "      <th>ret_anual_%</th>\n",
       "      <th>vol_%</th>\n",
       "      <th>sharpe</th>\n",
       "      <th>beta</th>\n",
       "    </tr>\n",
       "  </thead>\n",
       "  <tbody>\n",
       "    <tr>\n",
       "      <th>0</th>\n",
       "      <td>AAPL</td>\n",
       "      <td>OK</td>\n",
       "      <td>54</td>\n",
       "      <td>104.75</td>\n",
       "      <td>24.60</td>\n",
       "      <td>4.095</td>\n",
       "      <td>0.50</td>\n",
       "    </tr>\n",
       "    <tr>\n",
       "      <th>1</th>\n",
       "      <td>BHIP</td>\n",
       "      <td>OK</td>\n",
       "      <td>15</td>\n",
       "      <td>45.87</td>\n",
       "      <td>30.75</td>\n",
       "      <td>1.361</td>\n",
       "      <td>-0.18</td>\n",
       "    </tr>\n",
       "    <tr>\n",
       "      <th>2</th>\n",
       "      <td>CEPU</td>\n",
       "      <td>OK</td>\n",
       "      <td>69</td>\n",
       "      <td>1.67</td>\n",
       "      <td>33.78</td>\n",
       "      <td>-0.069</td>\n",
       "      <td>0.02</td>\n",
       "    </tr>\n",
       "    <tr>\n",
       "      <th>3</th>\n",
       "      <td>COCORMA</td>\n",
       "      <td>OK</td>\n",
       "      <td>73</td>\n",
       "      <td>24.48</td>\n",
       "      <td>1.49</td>\n",
       "      <td>13.731</td>\n",
       "      <td>-0.02</td>\n",
       "    </tr>\n",
       "    <tr>\n",
       "      <th>4</th>\n",
       "      <td>EWZ</td>\n",
       "      <td>OK</td>\n",
       "      <td>26</td>\n",
       "      <td>95.46</td>\n",
       "      <td>25.07</td>\n",
       "      <td>3.649</td>\n",
       "      <td>1.18</td>\n",
       "    </tr>\n",
       "    <tr>\n",
       "      <th>5</th>\n",
       "      <td>IBM</td>\n",
       "      <td>OK</td>\n",
       "      <td>14</td>\n",
       "      <td>-149.23</td>\n",
       "      <td>21.09</td>\n",
       "      <td>-7.266</td>\n",
       "      <td>-1.08</td>\n",
       "    </tr>\n",
       "    <tr>\n",
       "      <th>6</th>\n",
       "      <td>METR</td>\n",
       "      <td>OK</td>\n",
       "      <td>15</td>\n",
       "      <td>94.67</td>\n",
       "      <td>54.84</td>\n",
       "      <td>1.653</td>\n",
       "      <td>-0.21</td>\n",
       "    </tr>\n",
       "    <tr>\n",
       "      <th>7</th>\n",
       "      <td>SPY</td>\n",
       "      <td>OK</td>\n",
       "      <td>26</td>\n",
       "      <td>53.89</td>\n",
       "      <td>17.28</td>\n",
       "      <td>2.887</td>\n",
       "      <td>1.04</td>\n",
       "    </tr>\n",
       "  </tbody>\n",
       "</table>\n",
       "</div>"
      ],
      "text/plain": [
       "    activo estado  obs  ret_anual_%  vol_%  sharpe  beta\n",
       "0     AAPL     OK   54       104.75  24.60   4.095  0.50\n",
       "1     BHIP     OK   15        45.87  30.75   1.361 -0.18\n",
       "2     CEPU     OK   69         1.67  33.78  -0.069  0.02\n",
       "3  COCORMA     OK   73        24.48   1.49  13.731 -0.02\n",
       "4      EWZ     OK   26        95.46  25.07   3.649  1.18\n",
       "5      IBM     OK   14      -149.23  21.09  -7.266 -1.08\n",
       "6     METR     OK   15        94.67  54.84   1.653 -0.21\n",
       "7      SPY     OK   26        53.89  17.28   2.887  1.04"
      ]
     },
     "metadata": {},
     "output_type": "display_data"
    },
    {
     "name": "stdout",
     "output_type": "stream",
     "text": [
      "\n",
      "METRICAS DE RIESGO CALCULADAS:\n",
      "   Activos analizados: 8\n",
      "   Métricas por activo: 23\n",
      "\n",
      "METRICAS DISPONIBLES:\n"
     ]
    },
    {
     "data": {
      "text/html": [
       "<div>\n",
       "<style scoped>\n",
       "    .dataframe tbody tr th:only-of-type {\n",
       "        vertical-align: middle;\n",
       "    }\n",
       "\n",
       "    .dataframe tbody tr th {\n",
       "        vertical-align: top;\n",
       "    }\n",
       "\n",
       "    .dataframe thead th {\n",
       "        text-align: right;\n",
       "    }\n",
       "</style>\n",
       "<table border=\"1\" class=\"dataframe\">\n",
       "  <thead>\n",
       "    <tr style=\"text-align: right;\">\n",
       "      <th></th>\n",
       "      <th>Métrica</th>\n",
       "      <th>Tipo_Dato</th>\n",
       "      <th>Valores_No_Nulos</th>\n",
       "    </tr>\n",
       "  </thead>\n",
       "  <tbody>\n",
       "    <tr>\n",
       "      <th>0</th>\n",
       "      <td>activo</td>\n",
       "      <td>object</td>\n",
       "      <td>8</td>\n",
       "    </tr>\n",
       "    <tr>\n",
       "      <th>1</th>\n",
       "      <td>observaciones</td>\n",
       "      <td>int64</td>\n",
       "      <td>8</td>\n",
       "    </tr>\n",
       "    <tr>\n",
       "      <th>2</th>\n",
       "      <td>rendimiento_anual</td>\n",
       "      <td>float64</td>\n",
       "      <td>8</td>\n",
       "    </tr>\n",
       "    <tr>\n",
       "      <th>3</th>\n",
       "      <td>volatilidad</td>\n",
       "      <td>float64</td>\n",
       "      <td>8</td>\n",
       "    </tr>\n",
       "    <tr>\n",
       "      <th>4</th>\n",
       "      <td>sharpe_ratio</td>\n",
       "      <td>float64</td>\n",
       "      <td>8</td>\n",
       "    </tr>\n",
       "    <tr>\n",
       "      <th>5</th>\n",
       "      <td>sortino_ratio</td>\n",
       "      <td>float64</td>\n",
       "      <td>8</td>\n",
       "    </tr>\n",
       "    <tr>\n",
       "      <th>6</th>\n",
       "      <td>max_drawdown</td>\n",
       "      <td>float64</td>\n",
       "      <td>8</td>\n",
       "    </tr>\n",
       "    <tr>\n",
       "      <th>7</th>\n",
       "      <td>var_95</td>\n",
       "      <td>float64</td>\n",
       "      <td>8</td>\n",
       "    </tr>\n",
       "    <tr>\n",
       "      <th>8</th>\n",
       "      <td>cvar_95</td>\n",
       "      <td>float64</td>\n",
       "      <td>8</td>\n",
       "    </tr>\n",
       "    <tr>\n",
       "      <th>9</th>\n",
       "      <td>alpha</td>\n",
       "      <td>float64</td>\n",
       "      <td>8</td>\n",
       "    </tr>\n",
       "    <tr>\n",
       "      <th>10</th>\n",
       "      <td>beta</td>\n",
       "      <td>float64</td>\n",
       "      <td>8</td>\n",
       "    </tr>\n",
       "    <tr>\n",
       "      <th>11</th>\n",
       "      <td>r_squared</td>\n",
       "      <td>float64</td>\n",
       "      <td>8</td>\n",
       "    </tr>\n",
       "    <tr>\n",
       "      <th>12</th>\n",
       "      <td>treynor_ratio</td>\n",
       "      <td>float64</td>\n",
       "      <td>8</td>\n",
       "    </tr>\n",
       "    <tr>\n",
       "      <th>13</th>\n",
       "      <td>information_ratio</td>\n",
       "      <td>float64</td>\n",
       "      <td>7</td>\n",
       "    </tr>\n",
       "    <tr>\n",
       "      <th>14</th>\n",
       "      <td>tracking_error</td>\n",
       "      <td>float64</td>\n",
       "      <td>8</td>\n",
       "    </tr>\n",
       "  </tbody>\n",
       "</table>\n",
       "</div>"
      ],
      "text/plain": [
       "              Métrica Tipo_Dato  Valores_No_Nulos\n",
       "0              activo    object                 8\n",
       "1       observaciones     int64                 8\n",
       "2   rendimiento_anual   float64                 8\n",
       "3         volatilidad   float64                 8\n",
       "4        sharpe_ratio   float64                 8\n",
       "5       sortino_ratio   float64                 8\n",
       "6        max_drawdown   float64                 8\n",
       "7              var_95   float64                 8\n",
       "8             cvar_95   float64                 8\n",
       "9               alpha   float64                 8\n",
       "10               beta   float64                 8\n",
       "11          r_squared   float64                 8\n",
       "12      treynor_ratio   float64                 8\n",
       "13  information_ratio   float64                 7\n",
       "14     tracking_error   float64                 8"
      ]
     },
     "metadata": {},
     "output_type": "display_data"
    },
    {
     "name": "stdout",
     "output_type": "stream",
     "text": [
      "\n",
      "CALCULANDO METRICAS DE RIESGO PARA EL TOTAL DE LA CARTERA...\n",
      "Tracking Error anualizado: 2.5434\n",
      "Beta: 1.1832\n",
      "Alpha: 3.5861\n",
      "\n",
      "METRICAS DE LA CARTERA TOTAL:\n",
      "   rendimiento_anual: 3.043826908176138\n",
      "   volatilidad: 1.993004255472624\n",
      "   sharpe_ratio: 1.5071853960812573\n",
      "   sortino_ratio: 2.556100272173989\n",
      "   var_95: -0.02107126702847118\n",
      "   cvar_95: -0.15335543354356723\n",
      "   max_drawdown: -0.25258855487146864\n",
      "   skewness: 6.130703523688029\n",
      "   kurtosis: 47.44243675242555\n",
      "   observaciones: 72\n",
      "   tracking_error: 2.5433740138132506\n",
      "   beta: 1.1832218872977973\n",
      "   alpha: 3.586061016489915\n",
      "   kelly_criterion: 0.19137963695758445\n",
      "   calmar_ratio: 18.493265314003796\n",
      "   ulcer_index: 5.620538227693897\n"
     ]
    }
   ],
   "source": [
    "# Inicializar calculadora de riesgo\n",
    "risk_calc = RiskCalculator()\n",
    "\n",
    "# Obtener lista de activos de la cartera\n",
    "asset_list = prices_data.columns.tolist()\n",
    "\n",
    "print(f\"CALCULANDO METRICAS DE RIESGO PARA {len(asset_list)} ACTIVOS...\")\n",
    "\n",
    "# Calcular métricas completas por activo\n",
    "risk_metrics = risk_calc.analyze_portfolio_assets(\n",
    "    df=prices_data,\n",
    "    asset_list=asset_list,\n",
    "    benchmark_asset=None\n",
    ")\n",
    "\n",
    "print(f\"\\nMETRICAS DE RIESGO CALCULADAS:\")\n",
    "print(f\"   Activos analizados: {len(risk_metrics)}\")\n",
    "print(f\"   Métricas por activo: {len(risk_metrics.columns) if not risk_metrics.empty else 0}\")\n",
    "\n",
    "if not risk_metrics.empty:\n",
    "    print(\"\\nMETRICAS DISPONIBLES:\")\n",
    "    metrics_info = pd.DataFrame({\n",
    "        'Métrica': risk_metrics.columns,\n",
    "        'Tipo_Dato': [str(risk_metrics[col].dtype) for col in risk_metrics.columns],\n",
    "        'Valores_No_Nulos': [risk_metrics[col].count() for col in risk_metrics.columns]\n",
    "    })\n",
    "    display(metrics_info.head(15))\n",
    "\n",
    "    # ==============================\n",
    "    # Calcular métricas para la cartera total\n",
    "    # ==============================\n",
    "    print(\"\\nCALCULANDO METRICAS DE RIESGO PARA EL TOTAL DE LA CARTERA...\")\n",
    "    # Usar retornos diarios de la cartera (total_value_series)\n",
    "    cartera_returns = total_value_series.pct_change().dropna()\n",
    "    cartera_metrics = risk_calc.calculate_basic_metrics(cartera_returns)\n",
    "\n",
    "    # Si hay benchmark disponible, calcular tracking error, beta y alpha\n",
    "    tracking_error = None\n",
    "    if 'benchmark_returns' in globals():\n",
    "        # Alinear fechas\n",
    "        aligned = pd.concat([cartera_returns, benchmark_returns], axis=1).dropna()\n",
    "        if aligned.shape[1] == 2:\n",
    "            diff = aligned.iloc[:,0] - aligned.iloc[:,1]\n",
    "            tracking_error = diff.std() * (252 ** 0.5)\n",
    "            cartera_metrics['tracking_error'] = tracking_error\n",
    "            # Calcular beta y alpha\n",
    "            advanced_metrics = risk_calc.calculate_advanced_metrics(\n",
    "                returns=aligned.iloc[:,0],\n",
    "                benchmark_returns=aligned.iloc[:,1]\n",
    "            )\n",
    "            if advanced_metrics:\n",
    "                cartera_metrics.update(advanced_metrics)\n",
    "            print(f\"Tracking Error anualizado: {tracking_error:.4f}\")\n",
    "            if advanced_metrics:\n",
    "                if 'beta' in advanced_metrics:\n",
    "                    print(f\"Beta: {advanced_metrics['beta']:.4f}\")\n",
    "                if 'alpha' in advanced_metrics:\n",
    "                    print(f\"Alpha: {advanced_metrics['alpha']:.4f}\")\n",
    "    \n",
    "    print(\"\\nMETRICAS DE LA CARTERA TOTAL:\")\n",
    "    for k, v in cartera_metrics.items():\n",
    "        print(f\"   {k}: {v}\")\n",
    "    \n",
    "    # Guardar métricas para la próxima celda\n",
    "    cartera_metrics_total = cartera_metrics.copy()"
   ]
  },
  {
   "cell_type": "code",
   "execution_count": 53,
   "id": "26e29a5e",
   "metadata": {},
   "outputs": [
    {
     "name": "stdout",
     "output_type": "stream",
     "text": [
      "\n",
      "EVOLUCIÓN DIARIA DEL DRAWDOWN DE LA CARTERA TOTAL:\n"
     ]
    },
    {
     "data": {
      "text/html": [
       "<div>\n",
       "<style scoped>\n",
       "    .dataframe tbody tr th:only-of-type {\n",
       "        vertical-align: middle;\n",
       "    }\n",
       "\n",
       "    .dataframe tbody tr th {\n",
       "        vertical-align: top;\n",
       "    }\n",
       "\n",
       "    .dataframe thead th {\n",
       "        text-align: right;\n",
       "    }\n",
       "</style>\n",
       "<table border=\"1\" class=\"dataframe\">\n",
       "  <thead>\n",
       "    <tr style=\"text-align: right;\">\n",
       "      <th></th>\n",
       "      <th>Fecha</th>\n",
       "      <th>Valor_Cierre</th>\n",
       "      <th>Drawdown_Diario</th>\n",
       "    </tr>\n",
       "  </thead>\n",
       "  <tbody>\n",
       "    <tr>\n",
       "      <th>58</th>\n",
       "      <td>2025-08-24</td>\n",
       "      <td>121957.81</td>\n",
       "      <td>-0.0172</td>\n",
       "    </tr>\n",
       "    <tr>\n",
       "      <th>59</th>\n",
       "      <td>2025-08-25</td>\n",
       "      <td>121957.81</td>\n",
       "      <td>-0.0172</td>\n",
       "    </tr>\n",
       "    <tr>\n",
       "      <th>60</th>\n",
       "      <td>2025-08-26</td>\n",
       "      <td>123754.27</td>\n",
       "      <td>-0.0028</td>\n",
       "    </tr>\n",
       "    <tr>\n",
       "      <th>61</th>\n",
       "      <td>2025-08-27</td>\n",
       "      <td>123679.40</td>\n",
       "      <td>-0.0034</td>\n",
       "    </tr>\n",
       "    <tr>\n",
       "      <th>62</th>\n",
       "      <td>2025-08-28</td>\n",
       "      <td>124328.33</td>\n",
       "      <td>0.0000</td>\n",
       "    </tr>\n",
       "    <tr>\n",
       "      <th>63</th>\n",
       "      <td>2025-08-29</td>\n",
       "      <td>124677.48</td>\n",
       "      <td>0.0000</td>\n",
       "    </tr>\n",
       "    <tr>\n",
       "      <th>64</th>\n",
       "      <td>2025-08-30</td>\n",
       "      <td>124775.24</td>\n",
       "      <td>0.0000</td>\n",
       "    </tr>\n",
       "    <tr>\n",
       "      <th>65</th>\n",
       "      <td>2025-08-31</td>\n",
       "      <td>124775.24</td>\n",
       "      <td>0.0000</td>\n",
       "    </tr>\n",
       "    <tr>\n",
       "      <th>66</th>\n",
       "      <td>2025-09-01</td>\n",
       "      <td>124775.24</td>\n",
       "      <td>0.0000</td>\n",
       "    </tr>\n",
       "    <tr>\n",
       "      <th>67</th>\n",
       "      <td>2025-09-02</td>\n",
       "      <td>126643.56</td>\n",
       "      <td>0.0000</td>\n",
       "    </tr>\n",
       "    <tr>\n",
       "      <th>68</th>\n",
       "      <td>2025-09-03</td>\n",
       "      <td>124791.50</td>\n",
       "      <td>-0.0146</td>\n",
       "    </tr>\n",
       "    <tr>\n",
       "      <th>69</th>\n",
       "      <td>2025-09-04</td>\n",
       "      <td>126064.38</td>\n",
       "      <td>-0.0046</td>\n",
       "    </tr>\n",
       "    <tr>\n",
       "      <th>70</th>\n",
       "      <td>2025-09-05</td>\n",
       "      <td>127614.87</td>\n",
       "      <td>0.0000</td>\n",
       "    </tr>\n",
       "    <tr>\n",
       "      <th>71</th>\n",
       "      <td>2025-09-06</td>\n",
       "      <td>128340.43</td>\n",
       "      <td>0.0000</td>\n",
       "    </tr>\n",
       "    <tr>\n",
       "      <th>72</th>\n",
       "      <td>2025-09-07</td>\n",
       "      <td>128340.43</td>\n",
       "      <td>0.0000</td>\n",
       "    </tr>\n",
       "  </tbody>\n",
       "</table>\n",
       "</div>"
      ],
      "text/plain": [
       "         Fecha  Valor_Cierre  Drawdown_Diario\n",
       "58  2025-08-24     121957.81          -0.0172\n",
       "59  2025-08-25     121957.81          -0.0172\n",
       "60  2025-08-26     123754.27          -0.0028\n",
       "61  2025-08-27     123679.40          -0.0034\n",
       "62  2025-08-28     124328.33           0.0000\n",
       "63  2025-08-29     124677.48           0.0000\n",
       "64  2025-08-30     124775.24           0.0000\n",
       "65  2025-08-31     124775.24           0.0000\n",
       "66  2025-09-01     124775.24           0.0000\n",
       "67  2025-09-02     126643.56           0.0000\n",
       "68  2025-09-03     124791.50          -0.0146\n",
       "69  2025-09-04     126064.38          -0.0046\n",
       "70  2025-09-05     127614.87           0.0000\n",
       "71  2025-09-06     128340.43           0.0000\n",
       "72  2025-09-07     128340.43           0.0000"
      ]
     },
     "metadata": {},
     "output_type": "display_data"
    },
    {
     "data": {
      "application/vnd.plotly.v1+json": {
       "config": {
        "plotlyServerURL": "https://plot.ly"
       },
       "data": [
        {
         "fill": "tozeroy",
         "fillcolor": "rgba(20,60,30,0.25)",
         "hovertemplate": "Fecha: %{x}<br>Drawdown: %{y:.1%}<extra></extra>",
         "line": {
          "color": "rgba(20,60,30,0.95)",
          "width": 2
         },
         "marker": {
          "color": "rgba(20,60,30,0.95)"
         },
         "mode": "lines+markers",
         "name": "Drawdown Diario",
         "type": "scatter",
         "x": [
          "2025-06-24",
          "2025-06-25",
          "2025-06-26",
          "2025-06-30",
          "2025-07-01",
          "2025-07-02",
          "2025-07-03",
          "2025-07-04",
          "2025-07-05",
          "2025-07-06",
          "2025-07-07",
          "2025-07-08",
          "2025-07-09",
          "2025-07-10",
          "2025-07-11",
          "2025-07-12",
          "2025-07-13",
          "2025-07-14",
          "2025-07-15",
          "2025-07-16",
          "2025-07-17",
          "2025-07-18",
          "2025-07-19",
          "2025-07-20",
          "2025-07-21",
          "2025-07-22",
          "2025-07-23",
          "2025-07-24",
          "2025-07-25",
          "2025-07-26",
          "2025-07-27",
          "2025-07-28",
          "2025-07-29",
          "2025-07-30",
          "2025-07-31",
          "2025-08-01",
          "2025-08-02",
          "2025-08-03",
          "2025-08-04",
          "2025-08-05",
          "2025-08-06",
          "2025-08-07",
          "2025-08-08",
          "2025-08-09",
          "2025-08-10",
          "2025-08-11",
          "2025-08-12",
          "2025-08-13",
          "2025-08-14",
          "2025-08-15",
          "2025-08-16",
          "2025-08-17",
          "2025-08-18",
          "2025-08-19",
          "2025-08-20",
          "2025-08-21",
          "2025-08-22",
          "2025-08-23",
          "2025-08-24",
          "2025-08-25",
          "2025-08-26",
          "2025-08-27",
          "2025-08-28",
          "2025-08-29",
          "2025-08-30",
          "2025-08-31",
          "2025-09-01",
          "2025-09-02",
          "2025-09-03",
          "2025-09-04",
          "2025-09-05",
          "2025-09-06",
          "2025-09-07"
         ],
         "y": [
          0,
          0,
          0,
          -0.2525885548714686,
          0,
          0,
          0,
          0,
          0,
          0,
          0,
          -0.00873478385723241,
          0,
          0,
          -0.010776652823673424,
          -0.027414675323886396,
          -0.027414675323886396,
          -0.027414675323886396,
          -0.016730201501819957,
          -0.042558872668047705,
          -0.044609958057323026,
          -0.03763037418764692,
          -0.033115408930840015,
          -0.033115408930840015,
          -0.033115408930840015,
          -0.03475484900127372,
          -0.038432159127715734,
          -0.028963003469312232,
          -0.023599548150518186,
          -0.013287319895938605,
          -0.013287319895938605,
          -0.013287319895938605,
          -0.17147083704279253,
          0,
          0,
          0,
          -0.008973830337127672,
          -0.008973830337127672,
          -0.008973830337127672,
          -0.008090412128333597,
          -0.014441546812663714,
          -0.014118655563677394,
          -0.0007087974609644174,
          -0.0010013093735725181,
          -0.0010013093735725181,
          -0.0010013093735725181,
          -0.17507821067481533,
          -0.014942523826626466,
          -0.014762584680385726,
          -0.025646848192199877,
          -0.025646848192199877,
          -0.025646848192199877,
          -0.025646848192199877,
          -0.030909161674557484,
          -0.04219633415690618,
          -0.04099357029806651,
          -0.036574061800273144,
          -0.01724208648505527,
          -0.01724208648505527,
          -0.01724208648505527,
          -0.002765889500925564,
          -0.003369205393404067,
          0,
          0,
          0,
          0,
          0,
          0,
          -0.01462419407666681,
          -0.004573307951861058,
          0,
          0,
          0
         ]
        }
       ],
       "layout": {
        "height": 400,
        "hovermode": "x unified",
        "template": {
         "data": {
          "bar": [
           {
            "error_x": {
             "color": "#2a3f5f"
            },
            "error_y": {
             "color": "#2a3f5f"
            },
            "marker": {
             "line": {
              "color": "white",
              "width": 0.5
             },
             "pattern": {
              "fillmode": "overlay",
              "size": 10,
              "solidity": 0.2
             }
            },
            "type": "bar"
           }
          ],
          "barpolar": [
           {
            "marker": {
             "line": {
              "color": "white",
              "width": 0.5
             },
             "pattern": {
              "fillmode": "overlay",
              "size": 10,
              "solidity": 0.2
             }
            },
            "type": "barpolar"
           }
          ],
          "carpet": [
           {
            "aaxis": {
             "endlinecolor": "#2a3f5f",
             "gridcolor": "#C8D4E3",
             "linecolor": "#C8D4E3",
             "minorgridcolor": "#C8D4E3",
             "startlinecolor": "#2a3f5f"
            },
            "baxis": {
             "endlinecolor": "#2a3f5f",
             "gridcolor": "#C8D4E3",
             "linecolor": "#C8D4E3",
             "minorgridcolor": "#C8D4E3",
             "startlinecolor": "#2a3f5f"
            },
            "type": "carpet"
           }
          ],
          "choropleth": [
           {
            "colorbar": {
             "outlinewidth": 0,
             "ticks": ""
            },
            "type": "choropleth"
           }
          ],
          "contour": [
           {
            "colorbar": {
             "outlinewidth": 0,
             "ticks": ""
            },
            "colorscale": [
             [
              0,
              "#0d0887"
             ],
             [
              0.1111111111111111,
              "#46039f"
             ],
             [
              0.2222222222222222,
              "#7201a8"
             ],
             [
              0.3333333333333333,
              "#9c179e"
             ],
             [
              0.4444444444444444,
              "#bd3786"
             ],
             [
              0.5555555555555556,
              "#d8576b"
             ],
             [
              0.6666666666666666,
              "#ed7953"
             ],
             [
              0.7777777777777778,
              "#fb9f3a"
             ],
             [
              0.8888888888888888,
              "#fdca26"
             ],
             [
              1,
              "#f0f921"
             ]
            ],
            "type": "contour"
           }
          ],
          "contourcarpet": [
           {
            "colorbar": {
             "outlinewidth": 0,
             "ticks": ""
            },
            "type": "contourcarpet"
           }
          ],
          "heatmap": [
           {
            "colorbar": {
             "outlinewidth": 0,
             "ticks": ""
            },
            "colorscale": [
             [
              0,
              "#0d0887"
             ],
             [
              0.1111111111111111,
              "#46039f"
             ],
             [
              0.2222222222222222,
              "#7201a8"
             ],
             [
              0.3333333333333333,
              "#9c179e"
             ],
             [
              0.4444444444444444,
              "#bd3786"
             ],
             [
              0.5555555555555556,
              "#d8576b"
             ],
             [
              0.6666666666666666,
              "#ed7953"
             ],
             [
              0.7777777777777778,
              "#fb9f3a"
             ],
             [
              0.8888888888888888,
              "#fdca26"
             ],
             [
              1,
              "#f0f921"
             ]
            ],
            "type": "heatmap"
           }
          ],
          "heatmapgl": [
           {
            "colorbar": {
             "outlinewidth": 0,
             "ticks": ""
            },
            "colorscale": [
             [
              0,
              "#0d0887"
             ],
             [
              0.1111111111111111,
              "#46039f"
             ],
             [
              0.2222222222222222,
              "#7201a8"
             ],
             [
              0.3333333333333333,
              "#9c179e"
             ],
             [
              0.4444444444444444,
              "#bd3786"
             ],
             [
              0.5555555555555556,
              "#d8576b"
             ],
             [
              0.6666666666666666,
              "#ed7953"
             ],
             [
              0.7777777777777778,
              "#fb9f3a"
             ],
             [
              0.8888888888888888,
              "#fdca26"
             ],
             [
              1,
              "#f0f921"
             ]
            ],
            "type": "heatmapgl"
           }
          ],
          "histogram": [
           {
            "marker": {
             "pattern": {
              "fillmode": "overlay",
              "size": 10,
              "solidity": 0.2
             }
            },
            "type": "histogram"
           }
          ],
          "histogram2d": [
           {
            "colorbar": {
             "outlinewidth": 0,
             "ticks": ""
            },
            "colorscale": [
             [
              0,
              "#0d0887"
             ],
             [
              0.1111111111111111,
              "#46039f"
             ],
             [
              0.2222222222222222,
              "#7201a8"
             ],
             [
              0.3333333333333333,
              "#9c179e"
             ],
             [
              0.4444444444444444,
              "#bd3786"
             ],
             [
              0.5555555555555556,
              "#d8576b"
             ],
             [
              0.6666666666666666,
              "#ed7953"
             ],
             [
              0.7777777777777778,
              "#fb9f3a"
             ],
             [
              0.8888888888888888,
              "#fdca26"
             ],
             [
              1,
              "#f0f921"
             ]
            ],
            "type": "histogram2d"
           }
          ],
          "histogram2dcontour": [
           {
            "colorbar": {
             "outlinewidth": 0,
             "ticks": ""
            },
            "colorscale": [
             [
              0,
              "#0d0887"
             ],
             [
              0.1111111111111111,
              "#46039f"
             ],
             [
              0.2222222222222222,
              "#7201a8"
             ],
             [
              0.3333333333333333,
              "#9c179e"
             ],
             [
              0.4444444444444444,
              "#bd3786"
             ],
             [
              0.5555555555555556,
              "#d8576b"
             ],
             [
              0.6666666666666666,
              "#ed7953"
             ],
             [
              0.7777777777777778,
              "#fb9f3a"
             ],
             [
              0.8888888888888888,
              "#fdca26"
             ],
             [
              1,
              "#f0f921"
             ]
            ],
            "type": "histogram2dcontour"
           }
          ],
          "mesh3d": [
           {
            "colorbar": {
             "outlinewidth": 0,
             "ticks": ""
            },
            "type": "mesh3d"
           }
          ],
          "parcoords": [
           {
            "line": {
             "colorbar": {
              "outlinewidth": 0,
              "ticks": ""
             }
            },
            "type": "parcoords"
           }
          ],
          "pie": [
           {
            "automargin": true,
            "type": "pie"
           }
          ],
          "scatter": [
           {
            "fillpattern": {
             "fillmode": "overlay",
             "size": 10,
             "solidity": 0.2
            },
            "type": "scatter"
           }
          ],
          "scatter3d": [
           {
            "line": {
             "colorbar": {
              "outlinewidth": 0,
              "ticks": ""
             }
            },
            "marker": {
             "colorbar": {
              "outlinewidth": 0,
              "ticks": ""
             }
            },
            "type": "scatter3d"
           }
          ],
          "scattercarpet": [
           {
            "marker": {
             "colorbar": {
              "outlinewidth": 0,
              "ticks": ""
             }
            },
            "type": "scattercarpet"
           }
          ],
          "scattergeo": [
           {
            "marker": {
             "colorbar": {
              "outlinewidth": 0,
              "ticks": ""
             }
            },
            "type": "scattergeo"
           }
          ],
          "scattergl": [
           {
            "marker": {
             "colorbar": {
              "outlinewidth": 0,
              "ticks": ""
             }
            },
            "type": "scattergl"
           }
          ],
          "scattermapbox": [
           {
            "marker": {
             "colorbar": {
              "outlinewidth": 0,
              "ticks": ""
             }
            },
            "type": "scattermapbox"
           }
          ],
          "scatterpolar": [
           {
            "marker": {
             "colorbar": {
              "outlinewidth": 0,
              "ticks": ""
             }
            },
            "type": "scatterpolar"
           }
          ],
          "scatterpolargl": [
           {
            "marker": {
             "colorbar": {
              "outlinewidth": 0,
              "ticks": ""
             }
            },
            "type": "scatterpolargl"
           }
          ],
          "scatterternary": [
           {
            "marker": {
             "colorbar": {
              "outlinewidth": 0,
              "ticks": ""
             }
            },
            "type": "scatterternary"
           }
          ],
          "surface": [
           {
            "colorbar": {
             "outlinewidth": 0,
             "ticks": ""
            },
            "colorscale": [
             [
              0,
              "#0d0887"
             ],
             [
              0.1111111111111111,
              "#46039f"
             ],
             [
              0.2222222222222222,
              "#7201a8"
             ],
             [
              0.3333333333333333,
              "#9c179e"
             ],
             [
              0.4444444444444444,
              "#bd3786"
             ],
             [
              0.5555555555555556,
              "#d8576b"
             ],
             [
              0.6666666666666666,
              "#ed7953"
             ],
             [
              0.7777777777777778,
              "#fb9f3a"
             ],
             [
              0.8888888888888888,
              "#fdca26"
             ],
             [
              1,
              "#f0f921"
             ]
            ],
            "type": "surface"
           }
          ],
          "table": [
           {
            "cells": {
             "fill": {
              "color": "#EBF0F8"
             },
             "line": {
              "color": "white"
             }
            },
            "header": {
             "fill": {
              "color": "#C8D4E3"
             },
             "line": {
              "color": "white"
             }
            },
            "type": "table"
           }
          ]
         },
         "layout": {
          "annotationdefaults": {
           "arrowcolor": "#2a3f5f",
           "arrowhead": 0,
           "arrowwidth": 1
          },
          "autotypenumbers": "strict",
          "coloraxis": {
           "colorbar": {
            "outlinewidth": 0,
            "ticks": ""
           }
          },
          "colorscale": {
           "diverging": [
            [
             0,
             "#8e0152"
            ],
            [
             0.1,
             "#c51b7d"
            ],
            [
             0.2,
             "#de77ae"
            ],
            [
             0.3,
             "#f1b6da"
            ],
            [
             0.4,
             "#fde0ef"
            ],
            [
             0.5,
             "#f7f7f7"
            ],
            [
             0.6,
             "#e6f5d0"
            ],
            [
             0.7,
             "#b8e186"
            ],
            [
             0.8,
             "#7fbc41"
            ],
            [
             0.9,
             "#4d9221"
            ],
            [
             1,
             "#276419"
            ]
           ],
           "sequential": [
            [
             0,
             "#0d0887"
            ],
            [
             0.1111111111111111,
             "#46039f"
            ],
            [
             0.2222222222222222,
             "#7201a8"
            ],
            [
             0.3333333333333333,
             "#9c179e"
            ],
            [
             0.4444444444444444,
             "#bd3786"
            ],
            [
             0.5555555555555556,
             "#d8576b"
            ],
            [
             0.6666666666666666,
             "#ed7953"
            ],
            [
             0.7777777777777778,
             "#fb9f3a"
            ],
            [
             0.8888888888888888,
             "#fdca26"
            ],
            [
             1,
             "#f0f921"
            ]
           ],
           "sequentialminus": [
            [
             0,
             "#0d0887"
            ],
            [
             0.1111111111111111,
             "#46039f"
            ],
            [
             0.2222222222222222,
             "#7201a8"
            ],
            [
             0.3333333333333333,
             "#9c179e"
            ],
            [
             0.4444444444444444,
             "#bd3786"
            ],
            [
             0.5555555555555556,
             "#d8576b"
            ],
            [
             0.6666666666666666,
             "#ed7953"
            ],
            [
             0.7777777777777778,
             "#fb9f3a"
            ],
            [
             0.8888888888888888,
             "#fdca26"
            ],
            [
             1,
             "#f0f921"
            ]
           ]
          },
          "colorway": [
           "#636efa",
           "#EF553B",
           "#00cc96",
           "#ab63fa",
           "#FFA15A",
           "#19d3f3",
           "#FF6692",
           "#B6E880",
           "#FF97FF",
           "#FECB52"
          ],
          "font": {
           "color": "#2a3f5f"
          },
          "geo": {
           "bgcolor": "white",
           "lakecolor": "white",
           "landcolor": "white",
           "showlakes": true,
           "showland": true,
           "subunitcolor": "#C8D4E3"
          },
          "hoverlabel": {
           "align": "left"
          },
          "hovermode": "closest",
          "mapbox": {
           "style": "light"
          },
          "paper_bgcolor": "white",
          "plot_bgcolor": "white",
          "polar": {
           "angularaxis": {
            "gridcolor": "#EBF0F8",
            "linecolor": "#EBF0F8",
            "ticks": ""
           },
           "bgcolor": "white",
           "radialaxis": {
            "gridcolor": "#EBF0F8",
            "linecolor": "#EBF0F8",
            "ticks": ""
           }
          },
          "scene": {
           "xaxis": {
            "backgroundcolor": "white",
            "gridcolor": "#DFE8F3",
            "gridwidth": 2,
            "linecolor": "#EBF0F8",
            "showbackground": true,
            "ticks": "",
            "zerolinecolor": "#EBF0F8"
           },
           "yaxis": {
            "backgroundcolor": "white",
            "gridcolor": "#DFE8F3",
            "gridwidth": 2,
            "linecolor": "#EBF0F8",
            "showbackground": true,
            "ticks": "",
            "zerolinecolor": "#EBF0F8"
           },
           "zaxis": {
            "backgroundcolor": "white",
            "gridcolor": "#DFE8F3",
            "gridwidth": 2,
            "linecolor": "#EBF0F8",
            "showbackground": true,
            "ticks": "",
            "zerolinecolor": "#EBF0F8"
           }
          },
          "shapedefaults": {
           "line": {
            "color": "#2a3f5f"
           }
          },
          "ternary": {
           "aaxis": {
            "gridcolor": "#DFE8F3",
            "linecolor": "#A2B1C6",
            "ticks": ""
           },
           "baxis": {
            "gridcolor": "#DFE8F3",
            "linecolor": "#A2B1C6",
            "ticks": ""
           },
           "bgcolor": "white",
           "caxis": {
            "gridcolor": "#DFE8F3",
            "linecolor": "#A2B1C6",
            "ticks": ""
           }
          },
          "title": {
           "x": 0.05
          },
          "xaxis": {
           "automargin": true,
           "gridcolor": "#EBF0F8",
           "linecolor": "#EBF0F8",
           "ticks": "",
           "title": {
            "standoff": 15
           },
           "zerolinecolor": "#EBF0F8",
           "zerolinewidth": 2
          },
          "yaxis": {
           "automargin": true,
           "gridcolor": "#EBF0F8",
           "linecolor": "#EBF0F8",
           "ticks": "",
           "title": {
            "standoff": 15
           },
           "zerolinecolor": "#EBF0F8",
           "zerolinewidth": 2
          }
         }
        },
        "title": {
         "text": "Evolución Diaria del Drawdown de la Cartera"
        },
        "xaxis": {
         "title": {
          "text": "Fecha"
         }
        },
        "yaxis": {
         "title": {
          "text": "Drawdown"
         }
        }
       }
      }
     },
     "metadata": {},
     "output_type": "display_data"
    }
   ],
   "source": [
    "# ==============================\n",
    "# EVOLUCIÓN DIARIA DEL DRAWDOWN DE LA CARTERA TOTAL\n",
    "# ==============================\n",
    "import pandas as pd\n",
    "import plotly.graph_objects as go\n",
    "\n",
    "# Calcular drawdown diario\n",
    "rolling_max_diario = total_value_series.cummax()\n",
    "drawdown_diario = (total_value_series - rolling_max_diario) / rolling_max_diario\n",
    "\n",
    "# Crear DataFrame con evolución diaria de drawdown\n",
    "drawdown_diario_df = pd.DataFrame({\n",
    "    'Fecha': total_value_series.index.strftime('%Y-%m-%d'),\n",
    "    'Valor_Cierre': total_value_series.values,\n",
    "    'Drawdown_Diario': drawdown_diario.values\n",
    "})\n",
    "\n",
    "print(\"\\nEVOLUCIÓN DIARIA DEL DRAWDOWN DE LA CARTERA TOTAL:\")\n",
    "display(drawdown_diario_df.tail(15))\n",
    "\n",
    "# Gráfico de drawdown diario (verde oscuro mate)\n",
    "fig_dd_diario = go.Figure()\n",
    "fig_dd_diario.add_trace(go.Scatter(\n",
    "    x=drawdown_diario_df['Fecha'],\n",
    "    y=drawdown_diario_df['Drawdown_Diario'],\n",
    "    mode='lines+markers',\n",
    "    name='Drawdown Diario',\n",
    "    line=dict(color='rgba(20,60,30,0.95)', width=2),\n",
    "    fill='tozeroy',\n",
    "    fillcolor='rgba(20,60,30,0.25)',\n",
    "    marker=dict(color='rgba(20,60,30,0.95)'),\n",
    "    hovertemplate='Fecha: %{x}<br>Drawdown: %{y:.1%}<extra></extra>'\n",
    ") )\n",
    "fig_dd_diario.update_layout(\n",
    "    title='Evolución Diaria del Drawdown de la Cartera',\n",
    "    xaxis_title='Fecha',\n",
    "    yaxis_title='Drawdown',\n",
    "    template='plotly_white',\n",
    "    height=400,\n",
    "    hovermode='x unified'\n",
    " )\n",
    "fig_dd_diario.show()"
   ]
  },
  {
   "cell_type": "code",
   "execution_count": 38,
   "id": "1330dfcb",
   "metadata": {},
   "outputs": [
    {
     "name": "stdout",
     "output_type": "stream",
     "text": [
      "RESUMEN DE METRICAS PRINCIPALES:\n",
      "METRICAS POR ACTIVO:\n"
     ]
    },
    {
     "data": {
      "text/html": [
       "<div>\n",
       "<style scoped>\n",
       "    .dataframe tbody tr th:only-of-type {\n",
       "        vertical-align: middle;\n",
       "    }\n",
       "\n",
       "    .dataframe tbody tr th {\n",
       "        vertical-align: top;\n",
       "    }\n",
       "\n",
       "    .dataframe thead th {\n",
       "        text-align: right;\n",
       "    }\n",
       "</style>\n",
       "<table border=\"1\" class=\"dataframe\">\n",
       "  <thead>\n",
       "    <tr style=\"text-align: right;\">\n",
       "      <th></th>\n",
       "      <th>activo</th>\n",
       "      <th>rendimiento_anual</th>\n",
       "      <th>volatilidad</th>\n",
       "      <th>sharpe_ratio</th>\n",
       "      <th>max_drawdown</th>\n",
       "    </tr>\n",
       "  </thead>\n",
       "  <tbody>\n",
       "    <tr>\n",
       "      <th>0</th>\n",
       "      <td>AAPL</td>\n",
       "      <td>1.0475</td>\n",
       "      <td>0.2460</td>\n",
       "      <td>4.0952</td>\n",
       "      <td>-0.0373</td>\n",
       "    </tr>\n",
       "    <tr>\n",
       "      <th>1</th>\n",
       "      <td>BHIP</td>\n",
       "      <td>0.4587</td>\n",
       "      <td>0.3075</td>\n",
       "      <td>1.3615</td>\n",
       "      <td>-0.0551</td>\n",
       "    </tr>\n",
       "    <tr>\n",
       "      <th>2</th>\n",
       "      <td>CEPU</td>\n",
       "      <td>0.0167</td>\n",
       "      <td>0.3378</td>\n",
       "      <td>-0.0691</td>\n",
       "      <td>-0.1977</td>\n",
       "    </tr>\n",
       "    <tr>\n",
       "      <th>3</th>\n",
       "      <td>COCORMA</td>\n",
       "      <td>0.2448</td>\n",
       "      <td>0.0149</td>\n",
       "      <td>13.7315</td>\n",
       "      <td>0.0000</td>\n",
       "    </tr>\n",
       "    <tr>\n",
       "      <th>4</th>\n",
       "      <td>EWZ</td>\n",
       "      <td>0.9546</td>\n",
       "      <td>0.2507</td>\n",
       "      <td>3.6486</td>\n",
       "      <td>-0.0403</td>\n",
       "    </tr>\n",
       "    <tr>\n",
       "      <th>5</th>\n",
       "      <td>IBM</td>\n",
       "      <td>-1.4923</td>\n",
       "      <td>0.2109</td>\n",
       "      <td>-7.2659</td>\n",
       "      <td>-0.0914</td>\n",
       "    </tr>\n",
       "    <tr>\n",
       "      <th>6</th>\n",
       "      <td>METR</td>\n",
       "      <td>0.9467</td>\n",
       "      <td>0.5484</td>\n",
       "      <td>1.6535</td>\n",
       "      <td>-0.0614</td>\n",
       "    </tr>\n",
       "    <tr>\n",
       "      <th>7</th>\n",
       "      <td>SPY</td>\n",
       "      <td>0.5389</td>\n",
       "      <td>0.1728</td>\n",
       "      <td>2.8870</td>\n",
       "      <td>-0.0239</td>\n",
       "    </tr>\n",
       "  </tbody>\n",
       "</table>\n",
       "</div>"
      ],
      "text/plain": [
       "    activo  rendimiento_anual  volatilidad  sharpe_ratio  max_drawdown\n",
       "0     AAPL             1.0475       0.2460        4.0952       -0.0373\n",
       "1     BHIP             0.4587       0.3075        1.3615       -0.0551\n",
       "2     CEPU             0.0167       0.3378       -0.0691       -0.1977\n",
       "3  COCORMA             0.2448       0.0149       13.7315        0.0000\n",
       "4      EWZ             0.9546       0.2507        3.6486       -0.0403\n",
       "5      IBM            -1.4923       0.2109       -7.2659       -0.0914\n",
       "6     METR             0.9467       0.5484        1.6535       -0.0614\n",
       "7      SPY             0.5389       0.1728        2.8870       -0.0239"
      ]
     },
     "metadata": {},
     "output_type": "display_data"
    },
    {
     "name": "stdout",
     "output_type": "stream",
     "text": [
      "\n",
      "TODAS LAS METRICAS DISPONIBLES (primeros 10 activos):\n"
     ]
    },
    {
     "data": {
      "text/html": [
       "<div>\n",
       "<style scoped>\n",
       "    .dataframe tbody tr th:only-of-type {\n",
       "        vertical-align: middle;\n",
       "    }\n",
       "\n",
       "    .dataframe tbody tr th {\n",
       "        vertical-align: top;\n",
       "    }\n",
       "\n",
       "    .dataframe thead th {\n",
       "        text-align: right;\n",
       "    }\n",
       "</style>\n",
       "<table border=\"1\" class=\"dataframe\">\n",
       "  <thead>\n",
       "    <tr style=\"text-align: right;\">\n",
       "      <th></th>\n",
       "      <th>activo</th>\n",
       "      <th>observaciones</th>\n",
       "      <th>rendimiento_anual</th>\n",
       "      <th>volatilidad</th>\n",
       "      <th>sharpe_ratio</th>\n",
       "      <th>sortino_ratio</th>\n",
       "      <th>max_drawdown</th>\n",
       "      <th>var_95</th>\n",
       "      <th>cvar_95</th>\n",
       "      <th>alpha</th>\n",
       "      <th>beta</th>\n",
       "      <th>r_squared</th>\n",
       "      <th>treynor_ratio</th>\n",
       "      <th>information_ratio</th>\n",
       "      <th>tracking_error</th>\n",
       "      <th>kelly_criterion</th>\n",
       "      <th>calmar_ratio</th>\n",
       "      <th>ulcer_index</th>\n",
       "      <th>fx_correlation</th>\n",
       "      <th>fx_beta</th>\n",
       "      <th>crisis_volatility_ratio</th>\n",
       "      <th>skewness</th>\n",
       "      <th>kurtosis</th>\n",
       "    </tr>\n",
       "  </thead>\n",
       "  <tbody>\n",
       "    <tr>\n",
       "      <th>0</th>\n",
       "      <td>AAPL</td>\n",
       "      <td>53</td>\n",
       "      <td>1.0475</td>\n",
       "      <td>0.2460</td>\n",
       "      <td>4.0952</td>\n",
       "      <td>10.9100</td>\n",
       "      <td>-0.0373</td>\n",
       "      <td>-0.0144</td>\n",
       "      <td>-0.0179</td>\n",
       "      <td>1.0952</td>\n",
       "      <td>0.4990</td>\n",
       "      <td>7.4459e-02</td>\n",
       "      <td>2.0189</td>\n",
       "      <td>2.7571</td>\n",
       "      <td>0.2993</td>\n",
       "      <td>0.0255</td>\n",
       "      <td>28.0552</td>\n",
       "      <td>1.4053</td>\n",
       "      <td>None</td>\n",
       "      <td>None</td>\n",
       "      <td>None</td>\n",
       "      <td>2.1937</td>\n",
       "      <td>7.4482</td>\n",
       "    </tr>\n",
       "    <tr>\n",
       "      <th>1</th>\n",
       "      <td>BHIP</td>\n",
       "      <td>14</td>\n",
       "      <td>0.4587</td>\n",
       "      <td>0.3075</td>\n",
       "      <td>1.3615</td>\n",
       "      <td>1.7691</td>\n",
       "      <td>-0.0551</td>\n",
       "      <td>-0.0277</td>\n",
       "      <td>-0.0403</td>\n",
       "      <td>0.5421</td>\n",
       "      <td>-0.1778</td>\n",
       "      <td>6.4279e-03</td>\n",
       "      <td>-2.3555</td>\n",
       "      <td>-0.0312</td>\n",
       "      <td>0.3397</td>\n",
       "      <td>0.0000</td>\n",
       "      <td>8.3237</td>\n",
       "      <td>3.3980</td>\n",
       "      <td>None</td>\n",
       "      <td>None</td>\n",
       "      <td>None</td>\n",
       "      <td>-0.2025</td>\n",
       "      <td>1.2156</td>\n",
       "    </tr>\n",
       "    <tr>\n",
       "      <th>2</th>\n",
       "      <td>CEPU</td>\n",
       "      <td>68</td>\n",
       "      <td>0.0167</td>\n",
       "      <td>0.3378</td>\n",
       "      <td>-0.0691</td>\n",
       "      <td>-0.1032</td>\n",
       "      <td>-0.1977</td>\n",
       "      <td>-0.0377</td>\n",
       "      <td>-0.0469</td>\n",
       "      <td>1.0881</td>\n",
       "      <td>0.0180</td>\n",
       "      <td>9.6148e-05</td>\n",
       "      <td>-1.2973</td>\n",
       "      <td>1.6372</td>\n",
       "      <td>0.3413</td>\n",
       "      <td>0.0000</td>\n",
       "      <td>0.0844</td>\n",
       "      <td>9.5963</td>\n",
       "      <td>None</td>\n",
       "      <td>None</td>\n",
       "      <td>None</td>\n",
       "      <td>-0.1002</td>\n",
       "      <td>0.4116</td>\n",
       "    </tr>\n",
       "    <tr>\n",
       "      <th>3</th>\n",
       "      <td>COCORMA</td>\n",
       "      <td>72</td>\n",
       "      <td>0.2448</td>\n",
       "      <td>0.0149</td>\n",
       "      <td>13.7315</td>\n",
       "      <td>13.7315</td>\n",
       "      <td>0.0000</td>\n",
       "      <td>0.0000</td>\n",
       "      <td>0.0000</td>\n",
       "      <td>0.2565</td>\n",
       "      <td>-0.0219</td>\n",
       "      <td>6.8016e-02</td>\n",
       "      <td>-9.3383</td>\n",
       "      <td>-1.6970</td>\n",
       "      <td>0.1734</td>\n",
       "      <td>NaN</td>\n",
       "      <td>NaN</td>\n",
       "      <td>0.0000</td>\n",
       "      <td>None</td>\n",
       "      <td>None</td>\n",
       "      <td>None</td>\n",
       "      <td>1.3331</td>\n",
       "      <td>1.9639</td>\n",
       "    </tr>\n",
       "    <tr>\n",
       "      <th>4</th>\n",
       "      <td>EWZ</td>\n",
       "      <td>25</td>\n",
       "      <td>0.9546</td>\n",
       "      <td>0.2507</td>\n",
       "      <td>3.6486</td>\n",
       "      <td>5.1628</td>\n",
       "      <td>-0.0403</td>\n",
       "      <td>-0.0234</td>\n",
       "      <td>-0.0279</td>\n",
       "      <td>0.3208</td>\n",
       "      <td>1.1760</td>\n",
       "      <td>6.0575e-01</td>\n",
       "      <td>0.7777</td>\n",
       "      <td>2.6688</td>\n",
       "      <td>0.1558</td>\n",
       "      <td>0.0000</td>\n",
       "      <td>23.6738</td>\n",
       "      <td>1.5036</td>\n",
       "      <td>None</td>\n",
       "      <td>None</td>\n",
       "      <td>None</td>\n",
       "      <td>-0.0342</td>\n",
       "      <td>0.8117</td>\n",
       "    </tr>\n",
       "    <tr>\n",
       "      <th>5</th>\n",
       "      <td>IBM</td>\n",
       "      <td>13</td>\n",
       "      <td>-1.4923</td>\n",
       "      <td>0.2109</td>\n",
       "      <td>-7.2659</td>\n",
       "      <td>-11.9436</td>\n",
       "      <td>-0.0914</td>\n",
       "      <td>-0.0281</td>\n",
       "      <td>-0.0313</td>\n",
       "      <td>-0.8854</td>\n",
       "      <td>-1.0826</td>\n",
       "      <td>5.3153e-01</td>\n",
       "      <td>1.4154</td>\n",
       "      <td>-6.2885</td>\n",
       "      <td>0.3265</td>\n",
       "      <td>0.0000</td>\n",
       "      <td>-16.3268</td>\n",
       "      <td>4.1675</td>\n",
       "      <td>None</td>\n",
       "      <td>None</td>\n",
       "      <td>None</td>\n",
       "      <td>-0.6127</td>\n",
       "      <td>-0.3453</td>\n",
       "    </tr>\n",
       "    <tr>\n",
       "      <th>6</th>\n",
       "      <td>METR</td>\n",
       "      <td>14</td>\n",
       "      <td>0.9467</td>\n",
       "      <td>0.5484</td>\n",
       "      <td>1.6535</td>\n",
       "      <td>3.1049</td>\n",
       "      <td>-0.0614</td>\n",
       "      <td>-0.0400</td>\n",
       "      <td>-0.0530</td>\n",
       "      <td>1.0436</td>\n",
       "      <td>-0.2065</td>\n",
       "      <td>2.7296e-03</td>\n",
       "      <td>-4.3900</td>\n",
       "      <td>0.8604</td>\n",
       "      <td>0.5549</td>\n",
       "      <td>0.0000</td>\n",
       "      <td>15.4126</td>\n",
       "      <td>3.5270</td>\n",
       "      <td>None</td>\n",
       "      <td>None</td>\n",
       "      <td>None</td>\n",
       "      <td>0.9162</td>\n",
       "      <td>1.7922</td>\n",
       "    </tr>\n",
       "    <tr>\n",
       "      <th>7</th>\n",
       "      <td>SPY</td>\n",
       "      <td>25</td>\n",
       "      <td>0.5389</td>\n",
       "      <td>0.1728</td>\n",
       "      <td>2.8870</td>\n",
       "      <td>4.2104</td>\n",
       "      <td>-0.0239</td>\n",
       "      <td>-0.0083</td>\n",
       "      <td>-0.0161</td>\n",
       "      <td>-0.0225</td>\n",
       "      <td>1.0417</td>\n",
       "      <td>1.0000e+00</td>\n",
       "      <td>0.4790</td>\n",
       "      <td>NaN</td>\n",
       "      <td>0.0000</td>\n",
       "      <td>0.0000</td>\n",
       "      <td>22.5346</td>\n",
       "      <td>1.0535</td>\n",
       "      <td>None</td>\n",
       "      <td>None</td>\n",
       "      <td>None</td>\n",
       "      <td>0.6006</td>\n",
       "      <td>1.8893</td>\n",
       "    </tr>\n",
       "  </tbody>\n",
       "</table>\n",
       "</div>"
      ],
      "text/plain": [
       "    activo  observaciones  rendimiento_anual  volatilidad  sharpe_ratio  \\\n",
       "0     AAPL             53             1.0475       0.2460        4.0952   \n",
       "1     BHIP             14             0.4587       0.3075        1.3615   \n",
       "2     CEPU             68             0.0167       0.3378       -0.0691   \n",
       "3  COCORMA             72             0.2448       0.0149       13.7315   \n",
       "4      EWZ             25             0.9546       0.2507        3.6486   \n",
       "5      IBM             13            -1.4923       0.2109       -7.2659   \n",
       "6     METR             14             0.9467       0.5484        1.6535   \n",
       "7      SPY             25             0.5389       0.1728        2.8870   \n",
       "\n",
       "   sortino_ratio  max_drawdown  var_95  cvar_95   alpha    beta   r_squared  \\\n",
       "0        10.9100       -0.0373 -0.0144  -0.0179  1.0952  0.4990  7.4459e-02   \n",
       "1         1.7691       -0.0551 -0.0277  -0.0403  0.5421 -0.1778  6.4279e-03   \n",
       "2        -0.1032       -0.1977 -0.0377  -0.0469  1.0881  0.0180  9.6148e-05   \n",
       "3        13.7315        0.0000  0.0000   0.0000  0.2565 -0.0219  6.8016e-02   \n",
       "4         5.1628       -0.0403 -0.0234  -0.0279  0.3208  1.1760  6.0575e-01   \n",
       "5       -11.9436       -0.0914 -0.0281  -0.0313 -0.8854 -1.0826  5.3153e-01   \n",
       "6         3.1049       -0.0614 -0.0400  -0.0530  1.0436 -0.2065  2.7296e-03   \n",
       "7         4.2104       -0.0239 -0.0083  -0.0161 -0.0225  1.0417  1.0000e+00   \n",
       "\n",
       "   treynor_ratio  information_ratio  tracking_error  kelly_criterion  \\\n",
       "0         2.0189             2.7571          0.2993           0.0255   \n",
       "1        -2.3555            -0.0312          0.3397           0.0000   \n",
       "2        -1.2973             1.6372          0.3413           0.0000   \n",
       "3        -9.3383            -1.6970          0.1734              NaN   \n",
       "4         0.7777             2.6688          0.1558           0.0000   \n",
       "5         1.4154            -6.2885          0.3265           0.0000   \n",
       "6        -4.3900             0.8604          0.5549           0.0000   \n",
       "7         0.4790                NaN          0.0000           0.0000   \n",
       "\n",
       "   calmar_ratio  ulcer_index fx_correlation fx_beta crisis_volatility_ratio  \\\n",
       "0       28.0552       1.4053           None    None                    None   \n",
       "1        8.3237       3.3980           None    None                    None   \n",
       "2        0.0844       9.5963           None    None                    None   \n",
       "3           NaN       0.0000           None    None                    None   \n",
       "4       23.6738       1.5036           None    None                    None   \n",
       "5      -16.3268       4.1675           None    None                    None   \n",
       "6       15.4126       3.5270           None    None                    None   \n",
       "7       22.5346       1.0535           None    None                    None   \n",
       "\n",
       "   skewness  kurtosis  \n",
       "0    2.1937    7.4482  \n",
       "1   -0.2025    1.2156  \n",
       "2   -0.1002    0.4116  \n",
       "3    1.3331    1.9639  \n",
       "4   -0.0342    0.8117  \n",
       "5   -0.6127   -0.3453  \n",
       "6    0.9162    1.7922  \n",
       "7    0.6006    1.8893  "
      ]
     },
     "metadata": {},
     "output_type": "display_data"
    },
    {
     "name": "stdout",
     "output_type": "stream",
     "text": [
      "\n",
      "ESTADISTICAS AGREGADAS:\n"
     ]
    },
    {
     "data": {
      "text/html": [
       "<div>\n",
       "<style scoped>\n",
       "    .dataframe tbody tr th:only-of-type {\n",
       "        vertical-align: middle;\n",
       "    }\n",
       "\n",
       "    .dataframe tbody tr th {\n",
       "        vertical-align: top;\n",
       "    }\n",
       "\n",
       "    .dataframe thead th {\n",
       "        text-align: right;\n",
       "    }\n",
       "</style>\n",
       "<table border=\"1\" class=\"dataframe\">\n",
       "  <thead>\n",
       "    <tr style=\"text-align: right;\">\n",
       "      <th></th>\n",
       "      <th>Estadística</th>\n",
       "      <th>Valor</th>\n",
       "    </tr>\n",
       "  </thead>\n",
       "  <tbody>\n",
       "    <tr>\n",
       "      <th>0</th>\n",
       "      <td>Rendimiento Promedio</td>\n",
       "      <td>33.9%</td>\n",
       "    </tr>\n",
       "    <tr>\n",
       "      <th>1</th>\n",
       "      <td>Volatilidad Promedio</td>\n",
       "      <td>26.1%</td>\n",
       "    </tr>\n",
       "    <tr>\n",
       "      <th>2</th>\n",
       "      <td>Sharpe Ratio Promedio</td>\n",
       "      <td>2.505</td>\n",
       "    </tr>\n",
       "    <tr>\n",
       "      <th>3</th>\n",
       "      <td>Drawdown Promedio</td>\n",
       "      <td>-6.3%</td>\n",
       "    </tr>\n",
       "  </tbody>\n",
       "</table>\n",
       "</div>"
      ],
      "text/plain": [
       "             Estadística  Valor\n",
       "0   Rendimiento Promedio  33.9%\n",
       "1   Volatilidad Promedio  26.1%\n",
       "2  Sharpe Ratio Promedio  2.505\n",
       "3      Drawdown Promedio  -6.3%"
      ]
     },
     "metadata": {},
     "output_type": "display_data"
    },
    {
     "name": "stdout",
     "output_type": "stream",
     "text": [
      "\n",
      "TOP 3 PERFORMERS:\n"
     ]
    },
    {
     "data": {
      "text/html": [
       "<div>\n",
       "<style scoped>\n",
       "    .dataframe tbody tr th:only-of-type {\n",
       "        vertical-align: middle;\n",
       "    }\n",
       "\n",
       "    .dataframe tbody tr th {\n",
       "        vertical-align: top;\n",
       "    }\n",
       "\n",
       "    .dataframe thead th {\n",
       "        text-align: right;\n",
       "    }\n",
       "</style>\n",
       "<table border=\"1\" class=\"dataframe\">\n",
       "  <thead>\n",
       "    <tr style=\"text-align: right;\">\n",
       "      <th></th>\n",
       "      <th>activo</th>\n",
       "      <th>rendimiento_anual</th>\n",
       "    </tr>\n",
       "  </thead>\n",
       "  <tbody>\n",
       "    <tr>\n",
       "      <th>0</th>\n",
       "      <td>AAPL</td>\n",
       "      <td>1.0475</td>\n",
       "    </tr>\n",
       "    <tr>\n",
       "      <th>4</th>\n",
       "      <td>EWZ</td>\n",
       "      <td>0.9546</td>\n",
       "    </tr>\n",
       "    <tr>\n",
       "      <th>6</th>\n",
       "      <td>METR</td>\n",
       "      <td>0.9467</td>\n",
       "    </tr>\n",
       "  </tbody>\n",
       "</table>\n",
       "</div>"
      ],
      "text/plain": [
       "  activo  rendimiento_anual\n",
       "0   AAPL             1.0475\n",
       "4    EWZ             0.9546\n",
       "6   METR             0.9467"
      ]
     },
     "metadata": {},
     "output_type": "display_data"
    },
    {
     "name": "stdout",
     "output_type": "stream",
     "text": [
      "\n",
      "BOTTOM 3 PERFORMERS:\n"
     ]
    },
    {
     "data": {
      "text/html": [
       "<div>\n",
       "<style scoped>\n",
       "    .dataframe tbody tr th:only-of-type {\n",
       "        vertical-align: middle;\n",
       "    }\n",
       "\n",
       "    .dataframe tbody tr th {\n",
       "        vertical-align: top;\n",
       "    }\n",
       "\n",
       "    .dataframe thead th {\n",
       "        text-align: right;\n",
       "    }\n",
       "</style>\n",
       "<table border=\"1\" class=\"dataframe\">\n",
       "  <thead>\n",
       "    <tr style=\"text-align: right;\">\n",
       "      <th></th>\n",
       "      <th>activo</th>\n",
       "      <th>rendimiento_anual</th>\n",
       "    </tr>\n",
       "  </thead>\n",
       "  <tbody>\n",
       "    <tr>\n",
       "      <th>5</th>\n",
       "      <td>IBM</td>\n",
       "      <td>-1.4923</td>\n",
       "    </tr>\n",
       "    <tr>\n",
       "      <th>2</th>\n",
       "      <td>CEPU</td>\n",
       "      <td>0.0167</td>\n",
       "    </tr>\n",
       "    <tr>\n",
       "      <th>3</th>\n",
       "      <td>COCORMA</td>\n",
       "      <td>0.2448</td>\n",
       "    </tr>\n",
       "  </tbody>\n",
       "</table>\n",
       "</div>"
      ],
      "text/plain": [
       "    activo  rendimiento_anual\n",
       "5      IBM            -1.4923\n",
       "2     CEPU             0.0167\n",
       "3  COCORMA             0.2448"
      ]
     },
     "metadata": {},
     "output_type": "display_data"
    }
   ],
   "source": [
    "# Mostrar resumen de métricas principales\n",
    "if not risk_metrics.empty:\n",
    "    print(\"RESUMEN DE METRICAS PRINCIPALES:\")\n",
    "    \n",
    "    # Seleccionar columnas principales disponibles\n",
    "    main_cols = ['activo', 'rendimiento_anual', 'volatilidad', 'sharpe_ratio', 'max_drawdown']\n",
    "    available_cols = [col for col in main_cols if col in risk_metrics.columns]\n",
    "    \n",
    "    if available_cols:\n",
    "        display_metrics = risk_metrics[available_cols].head(10)\n",
    "        print(\"METRICAS POR ACTIVO:\")\n",
    "        display(display_metrics)\n",
    "    \n",
    "    # Mostrar todas las métricas disponibles para la cartera\n",
    "    print(\"\\nTODAS LAS METRICAS DISPONIBLES (primeros 10 activos):\")\n",
    "    display(risk_metrics.head(10))\n",
    "    \n",
    "    # Estadísticas agregadas\n",
    "    aggregate_stats = []\n",
    "    if 'rendimiento_anual' in risk_metrics.columns:\n",
    "        aggregate_stats.append(['Rendimiento Promedio', f\"{risk_metrics['rendimiento_anual'].mean():.1%}\"])\n",
    "        \n",
    "    if 'volatilidad' in risk_metrics.columns:\n",
    "        aggregate_stats.append(['Volatilidad Promedio', f\"{risk_metrics['volatilidad'].mean():.1%}\"])\n",
    "        \n",
    "    if 'sharpe_ratio' in risk_metrics.columns:\n",
    "        aggregate_stats.append(['Sharpe Ratio Promedio', f\"{risk_metrics['sharpe_ratio'].mean():.3f}\"])\n",
    "        \n",
    "    if 'max_drawdown' in risk_metrics.columns:\n",
    "        aggregate_stats.append(['Drawdown Promedio', f\"{risk_metrics['max_drawdown'].mean():.1%}\"])\n",
    "        \n",
    "    if aggregate_stats:\n",
    "        stats_df = pd.DataFrame(aggregate_stats, columns=['Estadística', 'Valor'])\n",
    "        print(\"\\nESTADISTICAS AGREGADAS:\")\n",
    "        display(stats_df)\n",
    "        \n",
    "    # Top y Bottom performers\n",
    "    if 'rendimiento_anual' in risk_metrics.columns:\n",
    "        top_performers = risk_metrics.nlargest(3, 'rendimiento_anual')[['activo', 'rendimiento_anual']]\n",
    "        bottom_performers = risk_metrics.nsmallest(3, 'rendimiento_anual')[['activo', 'rendimiento_anual']]\n",
    "        \n",
    "        print(\"\\nTOP 3 PERFORMERS:\")\n",
    "        display(top_performers)\n",
    "        \n",
    "        print(\"\\nBOTTOM 3 PERFORMERS:\")\n",
    "        display(bottom_performers)\n",
    "        \n",
    "else:\n",
    "    print(\"No se pudieron calcular métricas de riesgo\")"
   ]
  },
  {
   "cell_type": "markdown",
   "id": "803ebf1e",
   "metadata": {},
   "source": [
    "# 8. Simulaciones Monte Carlo\n",
    "\n",
    "## Simulación de Trayectorias Futuras"
   ]
  },
  {
   "cell_type": "code",
   "execution_count": 39,
   "id": "10879881",
   "metadata": {},
   "outputs": [
    {
     "name": "stdout",
     "output_type": "stream",
     "text": [
      "RETORNOS HISTORICOS DE CARTERA CALCULADOS:\n",
      "   Observaciones: 72\n",
      "   Retorno diario promedio: 0.0024\n",
      "   Volatilidad diaria: 0.0082\n",
      "\n",
      "ESTADISTICAS DE RETORNOS HISTORICOS:\n"
     ]
    },
    {
     "data": {
      "text/html": [
       "<div>\n",
       "<style scoped>\n",
       "    .dataframe tbody tr th:only-of-type {\n",
       "        vertical-align: middle;\n",
       "    }\n",
       "\n",
       "    .dataframe tbody tr th {\n",
       "        vertical-align: top;\n",
       "    }\n",
       "\n",
       "    .dataframe thead th {\n",
       "        text-align: right;\n",
       "    }\n",
       "</style>\n",
       "<table border=\"1\" class=\"dataframe\">\n",
       "  <thead>\n",
       "    <tr style=\"text-align: right;\">\n",
       "      <th></th>\n",
       "      <th>Estadística</th>\n",
       "      <th>Valor</th>\n",
       "    </tr>\n",
       "  </thead>\n",
       "  <tbody>\n",
       "    <tr>\n",
       "      <th>0</th>\n",
       "      <td>Observaciones</td>\n",
       "      <td>72</td>\n",
       "    </tr>\n",
       "    <tr>\n",
       "      <th>1</th>\n",
       "      <td>Media Diaria</td>\n",
       "      <td>0.0024</td>\n",
       "    </tr>\n",
       "    <tr>\n",
       "      <th>2</th>\n",
       "      <td>Desv. Estándar</td>\n",
       "      <td>0.0082</td>\n",
       "    </tr>\n",
       "    <tr>\n",
       "      <th>3</th>\n",
       "      <td>Mínimo</td>\n",
       "      <td>-0.0146</td>\n",
       "    </tr>\n",
       "    <tr>\n",
       "      <th>4</th>\n",
       "      <td>Máximo</td>\n",
       "      <td>0.0441</td>\n",
       "    </tr>\n",
       "    <tr>\n",
       "      <th>5</th>\n",
       "      <td>Percentil 25</td>\n",
       "      <td>0.0000</td>\n",
       "    </tr>\n",
       "    <tr>\n",
       "      <th>6</th>\n",
       "      <td>Mediana</td>\n",
       "      <td>0.0000</td>\n",
       "    </tr>\n",
       "    <tr>\n",
       "      <th>7</th>\n",
       "      <td>Percentil 75</td>\n",
       "      <td>0.0048</td>\n",
       "    </tr>\n",
       "    <tr>\n",
       "      <th>8</th>\n",
       "      <td>Asimetría</td>\n",
       "      <td>2.011</td>\n",
       "    </tr>\n",
       "    <tr>\n",
       "      <th>9</th>\n",
       "      <td>Curtosis</td>\n",
       "      <td>8.560</td>\n",
       "    </tr>\n",
       "  </tbody>\n",
       "</table>\n",
       "</div>"
      ],
      "text/plain": [
       "      Estadística    Valor\n",
       "0   Observaciones       72\n",
       "1    Media Diaria   0.0024\n",
       "2  Desv. Estándar   0.0082\n",
       "3          Mínimo  -0.0146\n",
       "4          Máximo   0.0441\n",
       "5    Percentil 25   0.0000\n",
       "6         Mediana   0.0000\n",
       "7    Percentil 75   0.0048\n",
       "8       Asimetría    2.011\n",
       "9        Curtosis    8.560"
      ]
     },
     "metadata": {},
     "output_type": "display_data"
    }
   ],
   "source": [
    "# Inicializar simulador Monte Carlo\n",
    "mc_simulator = MonteCarloSimulator(risk_free_rate=0.04)\n",
    "\n",
    "# Calcular retornos históricos de la cartera usando composición actual\n",
    "portfolio_returns = mc_simulator.calculate_portfolio_returns(\n",
    "    weights_dict=current_composition,\n",
    "    data_df=prices_data\n",
    ")\n",
    "\n",
    "print(f\"RETORNOS HISTORICOS DE CARTERA CALCULADOS:\")\n",
    "print(f\"   Observaciones: {len(portfolio_returns)}\")\n",
    "print(f\"   Retorno diario promedio: {np.mean(portfolio_returns):.4f}\")\n",
    "print(f\"   Volatilidad diaria: {np.std(portfolio_returns):.4f}\")\n",
    "\n",
    "# Crear DataFrame con estadísticas de retornos\n",
    "returns_stats = pd.DataFrame({\n",
    "    'Estadística': ['Observaciones', 'Media Diaria', 'Desv. Estándar', 'Mínimo', 'Máximo', \n",
    "                    'Percentil 25', 'Mediana', 'Percentil 75', 'Asimetría', 'Curtosis'],\n",
    "    'Valor': [\n",
    "        len(portfolio_returns),\n",
    "        f\"{np.mean(portfolio_returns):.4f}\",\n",
    "        f\"{np.std(portfolio_returns):.4f}\",\n",
    "        f\"{np.min(portfolio_returns):.4f}\",\n",
    "        f\"{np.max(portfolio_returns):.4f}\",\n",
    "        f\"{np.percentile(portfolio_returns, 25):.4f}\",\n",
    "        f\"{np.median(portfolio_returns):.4f}\",\n",
    "        f\"{np.percentile(portfolio_returns, 75):.4f}\",\n",
    "        f\"{pd.Series(portfolio_returns).skew():.3f}\",\n",
    "        f\"{pd.Series(portfolio_returns).kurtosis():.3f}\"\n",
    "    ]\n",
    "})\n",
    "\n",
    "print(\"\\nESTADISTICAS DE RETORNOS HISTORICOS:\")\n",
    "display(returns_stats)"
   ]
  },
  {
   "cell_type": "code",
   "execution_count": 40,
   "id": "0385b22a",
   "metadata": {},
   "outputs": [
    {
     "name": "stdout",
     "output_type": "stream",
     "text": [
      "EJECUTANDO SIMULACIONES MONTE CARLO...\n",
      "🔮 Simulando 1,000 trayectorias...\n",
      "📊 ESTADÍSTICAS DIARIAS\n"
     ]
    },
    {
     "data": {
      "text/html": [
       "<div>\n",
       "<style scoped>\n",
       "    .dataframe tbody tr th:only-of-type {\n",
       "        vertical-align: middle;\n",
       "    }\n",
       "\n",
       "    .dataframe tbody tr th {\n",
       "        vertical-align: top;\n",
       "    }\n",
       "\n",
       "    .dataframe thead th {\n",
       "        text-align: right;\n",
       "    }\n",
       "</style>\n",
       "<table border=\"1\" class=\"dataframe\">\n",
       "  <thead>\n",
       "    <tr style=\"text-align: right;\">\n",
       "      <th></th>\n",
       "      <th>Retorno_Diario_%</th>\n",
       "      <th>Volatilidad_Diaria_%</th>\n",
       "    </tr>\n",
       "  </thead>\n",
       "  <tbody>\n",
       "    <tr>\n",
       "      <th>0</th>\n",
       "      <td>0.12</td>\n",
       "      <td>0.824</td>\n",
       "    </tr>\n",
       "  </tbody>\n",
       "</table>\n",
       "</div>"
      ],
      "text/plain": [
       "   Retorno_Diario_%  Volatilidad_Diaria_%\n",
       "0              0.12                 0.824"
      ]
     },
     "metadata": {},
     "output_type": "display_data"
    },
    {
     "name": "stdout",
     "output_type": "stream",
     "text": [
      "⚙️ MODELO SELECCIONADO\n"
     ]
    },
    {
     "data": {
      "text/html": [
       "<div>\n",
       "<style scoped>\n",
       "    .dataframe tbody tr th:only-of-type {\n",
       "        vertical-align: middle;\n",
       "    }\n",
       "\n",
       "    .dataframe tbody tr th {\n",
       "        vertical-align: top;\n",
       "    }\n",
       "\n",
       "    .dataframe thead th {\n",
       "        text-align: right;\n",
       "    }\n",
       "</style>\n",
       "<table border=\"1\" class=\"dataframe\">\n",
       "  <thead>\n",
       "    <tr style=\"text-align: right;\">\n",
       "      <th></th>\n",
       "      <th>Modelo_Volatilidad</th>\n",
       "    </tr>\n",
       "  </thead>\n",
       "  <tbody>\n",
       "    <tr>\n",
       "      <th>0</th>\n",
       "      <td>Modelo GARCH</td>\n",
       "    </tr>\n",
       "  </tbody>\n",
       "</table>\n",
       "</div>"
      ],
      "text/plain": [
       "  Modelo_Volatilidad\n",
       "0       Modelo GARCH"
      ]
     },
     "metadata": {},
     "output_type": "display_data"
    },
    {
     "name": "stdout",
     "output_type": "stream",
     "text": [
      "🎯 HORIZONTES SIMULADOS\n"
     ]
    },
    {
     "data": {
      "text/html": [
       "<div>\n",
       "<style scoped>\n",
       "    .dataframe tbody tr th:only-of-type {\n",
       "        vertical-align: middle;\n",
       "    }\n",
       "\n",
       "    .dataframe tbody tr th {\n",
       "        vertical-align: top;\n",
       "    }\n",
       "\n",
       "    .dataframe thead th {\n",
       "        text-align: right;\n",
       "    }\n",
       "</style>\n",
       "<table border=\"1\" class=\"dataframe\">\n",
       "  <thead>\n",
       "    <tr style=\"text-align: right;\">\n",
       "      <th></th>\n",
       "      <th>Horizonte_Dias</th>\n",
       "      <th>Meses</th>\n",
       "    </tr>\n",
       "  </thead>\n",
       "  <tbody>\n",
       "    <tr>\n",
       "      <th>0</th>\n",
       "      <td>21</td>\n",
       "      <td>1</td>\n",
       "    </tr>\n",
       "    <tr>\n",
       "      <th>1</th>\n",
       "      <td>63</td>\n",
       "      <td>3</td>\n",
       "    </tr>\n",
       "    <tr>\n",
       "      <th>2</th>\n",
       "      <td>126</td>\n",
       "      <td>6</td>\n",
       "    </tr>\n",
       "    <tr>\n",
       "      <th>3</th>\n",
       "      <td>252</td>\n",
       "      <td>12</td>\n",
       "    </tr>\n",
       "  </tbody>\n",
       "</table>\n",
       "</div>"
      ],
      "text/plain": [
       "   Horizonte_Dias  Meses\n",
       "0              21      1\n",
       "1              63      3\n",
       "2             126      6\n",
       "3             252     12"
      ]
     },
     "metadata": {},
     "output_type": "display_data"
    },
    {
     "name": "stdout",
     "output_type": "stream",
     "text": [
      "\n",
      "RESULTADOS DE SIMULACION:\n",
      "\n",
      "TABLA DE SIMULACIONES:\n"
     ]
    },
    {
     "data": {
      "text/html": [
       "<div>\n",
       "<style scoped>\n",
       "    .dataframe tbody tr th:only-of-type {\n",
       "        vertical-align: middle;\n",
       "    }\n",
       "\n",
       "    .dataframe tbody tr th {\n",
       "        vertical-align: top;\n",
       "    }\n",
       "\n",
       "    .dataframe thead th {\n",
       "        text-align: right;\n",
       "    }\n",
       "</style>\n",
       "<table border=\"1\" class=\"dataframe\">\n",
       "  <thead>\n",
       "    <tr style=\"text-align: right;\">\n",
       "      <th></th>\n",
       "      <th>Horizonte_Días</th>\n",
       "      <th>Horizonte_Meses</th>\n",
       "      <th>Retorno_Esperado</th>\n",
       "      <th>Volatilidad</th>\n",
       "      <th>Prob_Pérdida</th>\n",
       "      <th>Prob_Pérdida_10pct</th>\n",
       "      <th>Prob_Pérdida_20pct</th>\n",
       "      <th>Percentil_5</th>\n",
       "      <th>Percentil_50</th>\n",
       "      <th>Percentil_95</th>\n",
       "    </tr>\n",
       "  </thead>\n",
       "  <tbody>\n",
       "    <tr>\n",
       "      <th>0</th>\n",
       "      <td>21</td>\n",
       "      <td>1</td>\n",
       "      <td>2.6%</td>\n",
       "      <td>5.1%</td>\n",
       "      <td>32.0%</td>\n",
       "      <td>0.2%</td>\n",
       "      <td>0.0%</td>\n",
       "      <td>-5.1%</td>\n",
       "      <td>2.5%</td>\n",
       "      <td>11.4%</td>\n",
       "    </tr>\n",
       "    <tr>\n",
       "      <th>1</th>\n",
       "      <td>63</td>\n",
       "      <td>3</td>\n",
       "      <td>7.9%</td>\n",
       "      <td>10.5%</td>\n",
       "      <td>22.2%</td>\n",
       "      <td>3.3%</td>\n",
       "      <td>0.1%</td>\n",
       "      <td>-8.4%</td>\n",
       "      <td>7.4%</td>\n",
       "      <td>26.0%</td>\n",
       "    </tr>\n",
       "    <tr>\n",
       "      <th>2</th>\n",
       "      <td>126</td>\n",
       "      <td>6</td>\n",
       "      <td>16.2%</td>\n",
       "      <td>17.0%</td>\n",
       "      <td>16.5%</td>\n",
       "      <td>4.8%</td>\n",
       "      <td>1.1%</td>\n",
       "      <td>-9.9%</td>\n",
       "      <td>15.9%</td>\n",
       "      <td>45.8%</td>\n",
       "    </tr>\n",
       "    <tr>\n",
       "      <th>3</th>\n",
       "      <td>252</td>\n",
       "      <td>12</td>\n",
       "      <td>34.2%</td>\n",
       "      <td>30.7%</td>\n",
       "      <td>10.9%</td>\n",
       "      <td>4.7%</td>\n",
       "      <td>1.5%</td>\n",
       "      <td>-8.9%</td>\n",
       "      <td>29.8%</td>\n",
       "      <td>92.9%</td>\n",
       "    </tr>\n",
       "  </tbody>\n",
       "</table>\n",
       "</div>"
      ],
      "text/plain": [
       "   Horizonte_Días  Horizonte_Meses Retorno_Esperado Volatilidad Prob_Pérdida  \\\n",
       "0              21                1             2.6%        5.1%        32.0%   \n",
       "1              63                3             7.9%       10.5%        22.2%   \n",
       "2             126                6            16.2%       17.0%        16.5%   \n",
       "3             252               12            34.2%       30.7%        10.9%   \n",
       "\n",
       "  Prob_Pérdida_10pct Prob_Pérdida_20pct Percentil_5 Percentil_50 Percentil_95  \n",
       "0               0.2%               0.0%       -5.1%         2.5%        11.4%  \n",
       "1               3.3%               0.1%       -8.4%         7.4%        26.0%  \n",
       "2               4.8%               1.1%       -9.9%        15.9%        45.8%  \n",
       "3               4.7%               1.5%       -8.9%        29.8%        92.9%  "
      ]
     },
     "metadata": {},
     "output_type": "display_data"
    }
   ],
   "source": [
    "# Definir horizontes de simulación\n",
    "time_horizons = [21, 63, 126, 252]  # 1, 3, 6 meses, 1 año\n",
    "\n",
    "# Ejecutar simulaciones Monte Carlo\n",
    "print(f\"EJECUTANDO SIMULACIONES MONTE CARLO...\")\n",
    "simulation_results = mc_simulator.simulate_portfolio_paths(\n",
    "    portfolio_returns=portfolio_returns,\n",
    "    time_horizons=time_horizons,\n",
    "    num_sims=1000,  # Reducido para performance\n",
    "    use_garch=True\n",
    ")\n",
    "\n",
    "print(f\"\\nRESULTADOS DE SIMULACION:\")\n",
    "\n",
    "# Crear DataFrame con resultados de simulación\n",
    "sim_results_data = []\n",
    "for horizon_days, results in simulation_results.items():\n",
    "    months = horizon_days // 21\n",
    "    sim_results_data.append({\n",
    "        'Horizonte_Días': horizon_days,\n",
    "        'Horizonte_Meses': months,\n",
    "        'Retorno_Esperado': f\"{results['expected_return']:.1%}\",\n",
    "        'Volatilidad': f\"{results['volatility']:.1%}\",\n",
    "        'Prob_Pérdida': f\"{results['prob_loss']:.1%}\",\n",
    "        'Prob_Pérdida_10pct': f\"{results['prob_loss_10']:.1%}\",\n",
    "        'Prob_Pérdida_20pct': f\"{results['prob_loss_20']:.1%}\",\n",
    "        'Percentil_5': f\"{results['percentiles'][5]:.1%}\",\n",
    "        'Percentil_50': f\"{results['percentiles'][50]:.1%}\",\n",
    "        'Percentil_95': f\"{results['percentiles'][95]:.1%}\"\n",
    "    })\n",
    "\n",
    "sim_results_df = pd.DataFrame(sim_results_data)\n",
    "print(\"\\nTABLA DE SIMULACIONES:\")\n",
    "display(sim_results_df)"
   ]
  },
  {
   "cell_type": "code",
   "execution_count": 41,
   "id": "245dce8f",
   "metadata": {},
   "outputs": [
    {
     "name": "stdout",
     "output_type": "stream",
     "text": [
      "EJECUTANDO STRESS TESTING...\n",
      "🎯 Ejecutando stress testing con escenarios argentinos...\n",
      "🧪 RESULTADOS STRESS TEST\n"
     ]
    },
    {
     "data": {
      "text/html": [
       "<div>\n",
       "<style scoped>\n",
       "    .dataframe tbody tr th:only-of-type {\n",
       "        vertical-align: middle;\n",
       "    }\n",
       "\n",
       "    .dataframe tbody tr th {\n",
       "        vertical-align: top;\n",
       "    }\n",
       "\n",
       "    .dataframe thead th {\n",
       "        text-align: right;\n",
       "    }\n",
       "</style>\n",
       "<table border=\"1\" class=\"dataframe\">\n",
       "  <thead>\n",
       "    <tr style=\"text-align: right;\">\n",
       "      <th></th>\n",
       "      <th>Escenario</th>\n",
       "      <th>Retorno_Final_%</th>\n",
       "      <th>Max_DD_%</th>\n",
       "      <th>Duracion_Dias</th>\n",
       "    </tr>\n",
       "  </thead>\n",
       "  <tbody>\n",
       "    <tr>\n",
       "      <th>0</th>\n",
       "      <td>Crisis Cambiaria</td>\n",
       "      <td>-28.4</td>\n",
       "      <td>-28.0</td>\n",
       "      <td>72</td>\n",
       "    </tr>\n",
       "    <tr>\n",
       "      <th>1</th>\n",
       "      <td>Devaluación Fuerte</td>\n",
       "      <td>-16.7</td>\n",
       "      <td>-19.2</td>\n",
       "      <td>60</td>\n",
       "    </tr>\n",
       "    <tr>\n",
       "      <th>2</th>\n",
       "      <td>Crisis Política</td>\n",
       "      <td>-20.8</td>\n",
       "      <td>-20.9</td>\n",
       "      <td>72</td>\n",
       "    </tr>\n",
       "    <tr>\n",
       "      <th>3</th>\n",
       "      <td>Recesión Local</td>\n",
       "      <td>-7.9</td>\n",
       "      <td>-9.4</td>\n",
       "      <td>72</td>\n",
       "    </tr>\n",
       "    <tr>\n",
       "      <th>4</th>\n",
       "      <td>Default Soberano</td>\n",
       "      <td>-35.2</td>\n",
       "      <td>-34.7</td>\n",
       "      <td>72</td>\n",
       "    </tr>\n",
       "  </tbody>\n",
       "</table>\n",
       "</div>"
      ],
      "text/plain": [
       "            Escenario  Retorno_Final_%  Max_DD_%  Duracion_Dias\n",
       "0    Crisis Cambiaria            -28.4     -28.0             72\n",
       "1  Devaluación Fuerte            -16.7     -19.2             60\n",
       "2     Crisis Política            -20.8     -20.9             72\n",
       "3      Recesión Local             -7.9      -9.4             72\n",
       "4    Default Soberano            -35.2     -34.7             72"
      ]
     },
     "metadata": {},
     "output_type": "display_data"
    },
    {
     "name": "stdout",
     "output_type": "stream",
     "text": [
      "\n",
      "RESULTADOS DE STRESS TESTING:\n",
      "\n",
      "TABLA DE STRESS TESTING:\n"
     ]
    },
    {
     "data": {
      "text/html": [
       "<div>\n",
       "<style scoped>\n",
       "    .dataframe tbody tr th:only-of-type {\n",
       "        vertical-align: middle;\n",
       "    }\n",
       "\n",
       "    .dataframe tbody tr th {\n",
       "        vertical-align: top;\n",
       "    }\n",
       "\n",
       "    .dataframe thead th {\n",
       "        text-align: right;\n",
       "    }\n",
       "</style>\n",
       "<table border=\"1\" class=\"dataframe\">\n",
       "  <thead>\n",
       "    <tr style=\"text-align: right;\">\n",
       "      <th></th>\n",
       "      <th>Escenario</th>\n",
       "      <th>Probabilidad</th>\n",
       "      <th>Duración_Días</th>\n",
       "      <th>Retorno_Final</th>\n",
       "      <th>Max_Drawdown</th>\n",
       "      <th>VaR_95</th>\n",
       "    </tr>\n",
       "  </thead>\n",
       "  <tbody>\n",
       "    <tr>\n",
       "      <th>0</th>\n",
       "      <td>Crisis Cambiaria</td>\n",
       "      <td>15.0%</td>\n",
       "      <td>72</td>\n",
       "      <td>-28.4%</td>\n",
       "      <td>-28.0%</td>\n",
       "      <td>-1.7%</td>\n",
       "    </tr>\n",
       "    <tr>\n",
       "      <th>1</th>\n",
       "      <td>Devaluación Fuerte</td>\n",
       "      <td>20.0%</td>\n",
       "      <td>60</td>\n",
       "      <td>-16.7%</td>\n",
       "      <td>-19.2%</td>\n",
       "      <td>-1.7%</td>\n",
       "    </tr>\n",
       "    <tr>\n",
       "      <th>2</th>\n",
       "      <td>Crisis Política</td>\n",
       "      <td>10.0%</td>\n",
       "      <td>72</td>\n",
       "      <td>-20.8%</td>\n",
       "      <td>-20.9%</td>\n",
       "      <td>-1.5%</td>\n",
       "    </tr>\n",
       "    <tr>\n",
       "      <th>3</th>\n",
       "      <td>Recesión Local</td>\n",
       "      <td>25.0%</td>\n",
       "      <td>72</td>\n",
       "      <td>-7.9%</td>\n",
       "      <td>-9.4%</td>\n",
       "      <td>-1.3%</td>\n",
       "    </tr>\n",
       "    <tr>\n",
       "      <th>4</th>\n",
       "      <td>Default Soberano</td>\n",
       "      <td>8.0%</td>\n",
       "      <td>72</td>\n",
       "      <td>-35.2%</td>\n",
       "      <td>-34.7%</td>\n",
       "      <td>-1.8%</td>\n",
       "    </tr>\n",
       "  </tbody>\n",
       "</table>\n",
       "</div>"
      ],
      "text/plain": [
       "            Escenario Probabilidad  Duración_Días Retorno_Final Max_Drawdown  \\\n",
       "0    Crisis Cambiaria        15.0%             72        -28.4%       -28.0%   \n",
       "1  Devaluación Fuerte        20.0%             60        -16.7%       -19.2%   \n",
       "2     Crisis Política        10.0%             72        -20.8%       -20.9%   \n",
       "3      Recesión Local        25.0%             72         -7.9%        -9.4%   \n",
       "4    Default Soberano         8.0%             72        -35.2%       -34.7%   \n",
       "\n",
       "  VaR_95  \n",
       "0  -1.7%  \n",
       "1  -1.7%  \n",
       "2  -1.5%  \n",
       "3  -1.3%  \n",
       "4  -1.8%  "
      ]
     },
     "metadata": {},
     "output_type": "display_data"
    }
   ],
   "source": [
    "# Ejecutar stress testing\n",
    "print(f\"EJECUTANDO STRESS TESTING...\")\n",
    "stress_results = mc_simulator.stress_test_scenarios(\n",
    "    portfolio_returns=portfolio_returns,\n",
    "    weights_dict=current_composition\n",
    ")\n",
    "\n",
    "print(f\"\\nRESULTADOS DE STRESS TESTING:\")\n",
    "\n",
    "# Crear DataFrame con stress testing\n",
    "stress_summary_data = []\n",
    "for scenario, results in stress_results.items():\n",
    "    stress_summary_data.append({\n",
    "        'Escenario': scenario,\n",
    "        'Probabilidad': f\"{results['probability']:.1%}\",\n",
    "        'Duración_Días': results['duration_days'],\n",
    "        'Retorno_Final': f\"{results['final_return']:.1%}\",\n",
    "        'Max_Drawdown': f\"{results['max_drawdown']:.1%}\",\n",
    "        'VaR_95': f\"{results['var_95_stress']:.1%}\"\n",
    "    })\n",
    "\n",
    "stress_summary_df = pd.DataFrame(stress_summary_data)\n",
    "print(\"\\nTABLA DE STRESS TESTING:\")\n",
    "display(stress_summary_df)"
   ]
  },
  {
   "cell_type": "markdown",
   "id": "481201ee",
   "metadata": {},
   "source": [
    "# 9. Verificaciones Finales y Auto-Chequeos\n",
    "\n",
    "## Validación de Resultados y Consistencia"
   ]
  },
  {
   "cell_type": "code",
   "execution_count": 42,
   "id": "dd684dc5",
   "metadata": {},
   "outputs": [
    {
     "name": "stdout",
     "output_type": "stream",
     "text": [
      "VERIFICACIONES FINALES:\n",
      "\n",
      "1. DIMENSIONES DE DATOS:\n"
     ]
    },
    {
     "data": {
      "text/html": [
       "<div>\n",
       "<style scoped>\n",
       "    .dataframe tbody tr th:only-of-type {\n",
       "        vertical-align: middle;\n",
       "    }\n",
       "\n",
       "    .dataframe tbody tr th {\n",
       "        vertical-align: top;\n",
       "    }\n",
       "\n",
       "    .dataframe thead th {\n",
       "        text-align: right;\n",
       "    }\n",
       "</style>\n",
       "<table border=\"1\" class=\"dataframe\">\n",
       "  <thead>\n",
       "    <tr style=\"text-align: right;\">\n",
       "      <th></th>\n",
       "      <th>Conjunto_Datos</th>\n",
       "      <th>Observaciones</th>\n",
       "      <th>Columnas</th>\n",
       "    </tr>\n",
       "  </thead>\n",
       "  <tbody>\n",
       "    <tr>\n",
       "      <th>0</th>\n",
       "      <td>Serie Valor Total</td>\n",
       "      <td>73</td>\n",
       "      <td>N/A</td>\n",
       "    </tr>\n",
       "    <tr>\n",
       "      <th>1</th>\n",
       "      <td>Matriz Pesos</td>\n",
       "      <td>73</td>\n",
       "      <td>8</td>\n",
       "    </tr>\n",
       "    <tr>\n",
       "      <th>2</th>\n",
       "      <td>Datos Precios</td>\n",
       "      <td>73</td>\n",
       "      <td>8</td>\n",
       "    </tr>\n",
       "    <tr>\n",
       "      <th>3</th>\n",
       "      <td>Retornos Diarios</td>\n",
       "      <td>72</td>\n",
       "      <td>8</td>\n",
       "    </tr>\n",
       "  </tbody>\n",
       "</table>\n",
       "</div>"
      ],
      "text/plain": [
       "      Conjunto_Datos  Observaciones Columnas\n",
       "0  Serie Valor Total             73      N/A\n",
       "1       Matriz Pesos             73        8\n",
       "2      Datos Precios             73        8\n",
       "3   Retornos Diarios             72        8"
      ]
     },
     "metadata": {},
     "output_type": "display_data"
    },
    {
     "name": "stdout",
     "output_type": "stream",
     "text": [
      "\n",
      "2. CONSISTENCIA TEMPORAL:\n"
     ]
    },
    {
     "data": {
      "text/html": [
       "<div>\n",
       "<style scoped>\n",
       "    .dataframe tbody tr th:only-of-type {\n",
       "        vertical-align: middle;\n",
       "    }\n",
       "\n",
       "    .dataframe tbody tr th {\n",
       "        vertical-align: top;\n",
       "    }\n",
       "\n",
       "    .dataframe thead th {\n",
       "        text-align: right;\n",
       "    }\n",
       "</style>\n",
       "<table border=\"1\" class=\"dataframe\">\n",
       "  <thead>\n",
       "    <tr style=\"text-align: right;\">\n",
       "      <th></th>\n",
       "      <th>Conjunto</th>\n",
       "      <th>Inicio</th>\n",
       "      <th>Fin</th>\n",
       "      <th>Días</th>\n",
       "    </tr>\n",
       "  </thead>\n",
       "  <tbody>\n",
       "    <tr>\n",
       "      <th>0</th>\n",
       "      <td>Precios</td>\n",
       "      <td>2025-06-24</td>\n",
       "      <td>2025-09-07</td>\n",
       "      <td>73</td>\n",
       "    </tr>\n",
       "    <tr>\n",
       "      <th>1</th>\n",
       "      <td>Pesos</td>\n",
       "      <td>2025-06-24</td>\n",
       "      <td>2025-09-07</td>\n",
       "      <td>73</td>\n",
       "    </tr>\n",
       "    <tr>\n",
       "      <th>2</th>\n",
       "      <td>Valor Total</td>\n",
       "      <td>2025-06-24</td>\n",
       "      <td>2025-09-07</td>\n",
       "      <td>73</td>\n",
       "    </tr>\n",
       "  </tbody>\n",
       "</table>\n",
       "</div>"
      ],
      "text/plain": [
       "      Conjunto      Inicio         Fin  Días\n",
       "0      Precios  2025-06-24  2025-09-07    73\n",
       "1        Pesos  2025-06-24  2025-09-07    73\n",
       "2  Valor Total  2025-06-24  2025-09-07    73"
      ]
     },
     "metadata": {},
     "output_type": "display_data"
    },
    {
     "name": "stdout",
     "output_type": "stream",
     "text": [
      "\n",
      "3. VALIDACION DE PESOS:\n"
     ]
    },
    {
     "data": {
      "text/html": [
       "<div>\n",
       "<style scoped>\n",
       "    .dataframe tbody tr th:only-of-type {\n",
       "        vertical-align: middle;\n",
       "    }\n",
       "\n",
       "    .dataframe tbody tr th {\n",
       "        vertical-align: top;\n",
       "    }\n",
       "\n",
       "    .dataframe thead th {\n",
       "        text-align: right;\n",
       "    }\n",
       "</style>\n",
       "<table border=\"1\" class=\"dataframe\">\n",
       "  <thead>\n",
       "    <tr style=\"text-align: right;\">\n",
       "      <th></th>\n",
       "      <th>Validación</th>\n",
       "      <th>Resultado</th>\n",
       "      <th>Status</th>\n",
       "    </tr>\n",
       "  </thead>\n",
       "  <tbody>\n",
       "    <tr>\n",
       "      <th>0</th>\n",
       "      <td>Suma Pesos Actuales</td>\n",
       "      <td>100.0%</td>\n",
       "      <td>OK</td>\n",
       "    </tr>\n",
       "    <tr>\n",
       "      <th>1</th>\n",
       "      <td>Activos con Posición</td>\n",
       "      <td>5</td>\n",
       "      <td>OK</td>\n",
       "    </tr>\n",
       "    <tr>\n",
       "      <th>2</th>\n",
       "      <td>Peso Máximo Individual</td>\n",
       "      <td>35.0%</td>\n",
       "      <td>OK</td>\n",
       "    </tr>\n",
       "    <tr>\n",
       "      <th>3</th>\n",
       "      <td>Peso Mínimo &gt; 0</td>\n",
       "      <td>5.4%</td>\n",
       "      <td>OK</td>\n",
       "    </tr>\n",
       "  </tbody>\n",
       "</table>\n",
       "</div>"
      ],
      "text/plain": [
       "               Validación Resultado Status\n",
       "0     Suma Pesos Actuales    100.0%     OK\n",
       "1    Activos con Posición         5     OK\n",
       "2  Peso Máximo Individual     35.0%     OK\n",
       "3         Peso Mínimo > 0      5.4%     OK"
      ]
     },
     "metadata": {},
     "output_type": "display_data"
    }
   ],
   "source": [
    "# Verificaciones de integridad de datos\n",
    "print(\"VERIFICACIONES FINALES:\")\n",
    "\n",
    "# 1. Verificar dimensiones consistentes\n",
    "print(f\"\\n1. DIMENSIONES DE DATOS:\")\n",
    "dimensions_check = pd.DataFrame({\n",
    "    'Conjunto_Datos': ['Serie Valor Total', 'Matriz Pesos', 'Datos Precios', 'Retornos Diarios'],\n",
    "    'Observaciones': [len(total_value_series), len(weights_matrix), len(prices_data), len(daily_returns)],\n",
    "    'Columnas': ['N/A', weights_matrix.shape[1], prices_data.shape[1], returns_data.shape[1]]\n",
    "})\n",
    "display(dimensions_check)\n",
    "\n",
    "# 2. Verificar rango temporal\n",
    "print(f\"\\n2. CONSISTENCIA TEMPORAL:\")\n",
    "temporal_check = pd.DataFrame({\n",
    "    'Conjunto': ['Precios', 'Pesos', 'Valor Total'],\n",
    "    'Inicio': [prices_data.index.min().date(), weights_matrix.index.min().date(), total_value_series.index.min().date()],\n",
    "    'Fin': [prices_data.index.max().date(), weights_matrix.index.max().date(), total_value_series.index.max().date()],\n",
    "    'Días': [len(prices_data), len(weights_matrix), len(total_value_series)]\n",
    "})\n",
    "display(temporal_check)\n",
    "\n",
    "# 3. Verificar suma de pesos\n",
    "print(f\"\\n3. VALIDACION DE PESOS:\")\n",
    "peso_total_actual = sum(current_composition.values())\n",
    "pesos_check = pd.DataFrame({\n",
    "    'Validación': ['Suma Pesos Actuales', 'Activos con Posición', 'Peso Máximo Individual', 'Peso Mínimo > 0'],\n",
    "    'Resultado': [f\"{peso_total_actual:.1%}\", len(current_composition), \n",
    "                 f\"{max(current_composition.values()):.1%}\", f\"{min(current_composition.values()):.1%}\"],\n",
    "    'Status': ['OK' if abs(peso_total_actual - 1.0) < 0.01 else 'REVISAR', 'OK', 'OK', 'OK']\n",
    "})\n",
    "display(pesos_check)"
   ]
  },
  {
   "cell_type": "markdown",
   "id": "5f741f83",
   "metadata": {},
   "source": [
    "# Visualizaciones y Análisis Gráfico\n",
    "\n",
    "## Performance Normalizada de Activos"
   ]
  },
  {
   "cell_type": "code",
   "execution_count": 43,
   "id": "59938ee0",
   "metadata": {},
   "outputs": [
    {
     "name": "stdout",
     "output_type": "stream",
     "text": [
      "VISUALIZACION DE PERFORMANCE NORMALIZADA\n",
      "Activos principales: 5\n",
      "✅ Gráfico guardado como imagen en: c:\\Users\\trico\\OneDrive\\UBA\\Management Financiero Bursatil\\Cartera final\\outputs\\graficos\\performance_normalizada.png\n",
      "✅ Gráfico guardado como HTML interactivo en: c:\\Users\\trico\\OneDrive\\UBA\\Management Financiero Bursatil\\Cartera final\\outputs\\graficos\\performance_normalizada.html\n",
      "✅ Gráfico guardado como imagen en: c:\\Users\\trico\\OneDrive\\UBA\\Management Financiero Bursatil\\Cartera final\\outputs\\graficos\\performance_normalizada.png\n",
      "✅ Gráfico guardado como HTML interactivo en: c:\\Users\\trico\\OneDrive\\UBA\\Management Financiero Bursatil\\Cartera final\\outputs\\graficos\\performance_normalizada.html\n"
     ]
    },
    {
     "data": {
      "application/vnd.plotly.v1+json": {
       "config": {
        "plotlyServerURL": "https://plot.ly"
       },
       "data": [
        {
         "hovertemplate": "Activo=COCORMA<br>fecha=%{x}<br>Performance (Base 100)=%{y}<extra></extra>",
         "legendgroup": "COCORMA",
         "line": {
          "color": "#636efa",
          "dash": "solid"
         },
         "marker": {
          "symbol": "circle"
         },
         "mode": "lines",
         "name": "COCORMA",
         "orientation": "v",
         "showlegend": true,
         "type": "scatter",
         "x": [
          "2025-06-24T00:00:00",
          "2025-06-25T00:00:00",
          "2025-06-26T00:00:00",
          "2025-06-30T00:00:00",
          "2025-07-01T00:00:00",
          "2025-07-02T00:00:00",
          "2025-07-03T00:00:00",
          "2025-07-04T00:00:00",
          "2025-07-05T00:00:00",
          "2025-07-06T00:00:00",
          "2025-07-07T00:00:00",
          "2025-07-08T00:00:00",
          "2025-07-09T00:00:00",
          "2025-07-10T00:00:00",
          "2025-07-11T00:00:00",
          "2025-07-12T00:00:00",
          "2025-07-13T00:00:00",
          "2025-07-14T00:00:00",
          "2025-07-15T00:00:00",
          "2025-07-16T00:00:00",
          "2025-07-17T00:00:00",
          "2025-07-18T00:00:00",
          "2025-07-19T00:00:00",
          "2025-07-20T00:00:00",
          "2025-07-21T00:00:00",
          "2025-07-22T00:00:00",
          "2025-07-23T00:00:00",
          "2025-07-24T00:00:00",
          "2025-07-25T00:00:00",
          "2025-07-26T00:00:00",
          "2025-07-27T00:00:00",
          "2025-07-28T00:00:00",
          "2025-07-29T00:00:00",
          "2025-07-30T00:00:00",
          "2025-07-31T00:00:00",
          "2025-08-01T00:00:00",
          "2025-08-02T00:00:00",
          "2025-08-03T00:00:00",
          "2025-08-04T00:00:00",
          "2025-08-05T00:00:00",
          "2025-08-06T00:00:00",
          "2025-08-07T00:00:00",
          "2025-08-08T00:00:00",
          "2025-08-09T00:00:00",
          "2025-08-10T00:00:00",
          "2025-08-11T00:00:00",
          "2025-08-12T00:00:00",
          "2025-08-13T00:00:00",
          "2025-08-14T00:00:00",
          "2025-08-15T00:00:00",
          "2025-08-16T00:00:00",
          "2025-08-17T00:00:00",
          "2025-08-18T00:00:00",
          "2025-08-19T00:00:00",
          "2025-08-20T00:00:00",
          "2025-08-21T00:00:00",
          "2025-08-22T00:00:00",
          "2025-08-23T00:00:00",
          "2025-08-24T00:00:00",
          "2025-08-25T00:00:00",
          "2025-08-26T00:00:00",
          "2025-08-27T00:00:00",
          "2025-08-28T00:00:00",
          "2025-08-29T00:00:00",
          "2025-08-30T00:00:00",
          "2025-08-31T00:00:00",
          "2025-09-01T00:00:00",
          "2025-09-02T00:00:00",
          "2025-09-03T00:00:00",
          "2025-09-04T00:00:00",
          "2025-09-05T00:00:00",
          "2025-09-06T00:00:00",
          "2025-09-07T00:00:00"
         ],
         "xaxis": "x",
         "y": [
          100,
          100.09077145011562,
          100.1817811455071,
          100.36403878156604,
          100.62027157579001,
          100.70580162983593,
          100.79145080651983,
          100.87698086056578,
          100.96263003724965,
          100.96263003724965,
          100.96263003724965,
          101.2418535005974,
          101.33322056390274,
          101.33322056390274,
          101.51952836965185,
          101.6126822725264,
          101.6126822725264,
          101.6126822725264,
          101.86700910454323,
          101.950633196382,
          102.03473377877259,
          102.11907260643906,
          102.20293494355374,
          102.20293494355374,
          102.20293494355374,
          102.45499844544959,
          102.54219621642679,
          102.63213380807676,
          102.72171403181292,
          102.81617828370489,
          102.81617828370489,
          102.81617828370489,
          103.08658667184454,
          103.17688163140836,
          103.26765308152397,
          103.35818628636369,
          103.44860036856545,
          103.44860036856545,
          103.44860036856545,
          103.72103384155022,
          103.81252002749352,
          103.91210655281722,
          104.00931062538194,
          104.10544259420517,
          104.10544259420517,
          104.10544259420517,
          104.4213558300406,
          104.52773234572726,
          104.63339412558625,
          104.74846659384305,
          104.74846659384305,
          104.74846659384305,
          104.74846659384305,
          105.20780348576663,
          105.3227568313855,
          105.43771017700433,
          105.54873247557093,
          105.6627328400862,
          105.6627328400862,
          105.6627328400862,
          106.00116025449363,
          106.12016376980264,
          106.23356852112819,
          106.34792625355732,
          106.45573224089932,
          106.45573224089932,
          106.45573224089932,
          106.77938844820132,
          106.88802829400899,
          106.99642989454074,
          107.11710112678104,
          107.23824884957314,
          107.23824884957314
         ],
         "yaxis": "y"
        },
        {
         "hovertemplate": "Activo=AAPL<br>fecha=%{x}<br>Performance (Base 100)=%{y}<extra></extra>",
         "legendgroup": "AAPL",
         "line": {
          "color": "#EF553B",
          "dash": "solid"
         },
         "marker": {
          "symbol": "circle"
         },
         "mode": "lines",
         "name": "AAPL",
         "orientation": "v",
         "showlegend": true,
         "type": "scatter",
         "x": [
          "2025-06-24T00:00:00",
          "2025-06-25T00:00:00",
          "2025-06-26T00:00:00",
          "2025-06-30T00:00:00",
          "2025-07-01T00:00:00",
          "2025-07-02T00:00:00",
          "2025-07-03T00:00:00",
          "2025-07-04T00:00:00",
          "2025-07-05T00:00:00",
          "2025-07-06T00:00:00",
          "2025-07-07T00:00:00",
          "2025-07-08T00:00:00",
          "2025-07-09T00:00:00",
          "2025-07-10T00:00:00",
          "2025-07-11T00:00:00",
          "2025-07-12T00:00:00",
          "2025-07-13T00:00:00",
          "2025-07-14T00:00:00",
          "2025-07-15T00:00:00",
          "2025-07-16T00:00:00",
          "2025-07-17T00:00:00",
          "2025-07-18T00:00:00",
          "2025-07-19T00:00:00",
          "2025-07-20T00:00:00",
          "2025-07-21T00:00:00",
          "2025-07-22T00:00:00",
          "2025-07-23T00:00:00",
          "2025-07-24T00:00:00",
          "2025-07-25T00:00:00",
          "2025-07-26T00:00:00",
          "2025-07-27T00:00:00",
          "2025-07-28T00:00:00",
          "2025-07-29T00:00:00",
          "2025-07-30T00:00:00",
          "2025-07-31T00:00:00",
          "2025-08-01T00:00:00",
          "2025-08-02T00:00:00",
          "2025-08-03T00:00:00",
          "2025-08-04T00:00:00",
          "2025-08-05T00:00:00",
          "2025-08-06T00:00:00",
          "2025-08-07T00:00:00",
          "2025-08-08T00:00:00",
          "2025-08-09T00:00:00",
          "2025-08-10T00:00:00",
          "2025-08-11T00:00:00",
          "2025-08-12T00:00:00",
          "2025-08-13T00:00:00",
          "2025-08-14T00:00:00",
          "2025-08-15T00:00:00",
          "2025-08-16T00:00:00",
          "2025-08-17T00:00:00",
          "2025-08-18T00:00:00",
          "2025-08-19T00:00:00",
          "2025-08-20T00:00:00",
          "2025-08-21T00:00:00",
          "2025-08-22T00:00:00",
          "2025-08-23T00:00:00",
          "2025-08-24T00:00:00",
          "2025-08-25T00:00:00",
          "2025-08-26T00:00:00",
          "2025-08-27T00:00:00",
          "2025-08-28T00:00:00",
          "2025-08-29T00:00:00",
          "2025-08-30T00:00:00",
          "2025-08-31T00:00:00",
          "2025-09-01T00:00:00",
          "2025-09-02T00:00:00",
          "2025-09-03T00:00:00",
          "2025-09-04T00:00:00",
          "2025-09-05T00:00:00",
          "2025-09-06T00:00:00",
          "2025-09-07T00:00:00"
         ],
         "xaxis": "x",
         "y": [
          null,
          null,
          null,
          null,
          null,
          null,
          null,
          null,
          null,
          null,
          null,
          null,
          null,
          null,
          null,
          null,
          null,
          null,
          null,
          null,
          null,
          null,
          null,
          null,
          null,
          null,
          null,
          null,
          null,
          null,
          null,
          null,
          null,
          null,
          null,
          null,
          null,
          null,
          null,
          null,
          null,
          null,
          null,
          null,
          null,
          null,
          null,
          null,
          null,
          null,
          null,
          null,
          null,
          null,
          null,
          null,
          null,
          null,
          null,
          null,
          null,
          null,
          null,
          null,
          null,
          null,
          null,
          null,
          null,
          null,
          null,
          null,
          null
         ],
         "yaxis": "y"
        },
        {
         "hovertemplate": "Activo=CEPU<br>fecha=%{x}<br>Performance (Base 100)=%{y}<extra></extra>",
         "legendgroup": "CEPU",
         "line": {
          "color": "#00cc96",
          "dash": "solid"
         },
         "marker": {
          "symbol": "circle"
         },
         "mode": "lines",
         "name": "CEPU",
         "orientation": "v",
         "showlegend": true,
         "type": "scatter",
         "x": [
          "2025-06-24T00:00:00",
          "2025-06-25T00:00:00",
          "2025-06-26T00:00:00",
          "2025-06-30T00:00:00",
          "2025-07-01T00:00:00",
          "2025-07-02T00:00:00",
          "2025-07-03T00:00:00",
          "2025-07-04T00:00:00",
          "2025-07-05T00:00:00",
          "2025-07-06T00:00:00",
          "2025-07-07T00:00:00",
          "2025-07-08T00:00:00",
          "2025-07-09T00:00:00",
          "2025-07-10T00:00:00",
          "2025-07-11T00:00:00",
          "2025-07-12T00:00:00",
          "2025-07-13T00:00:00",
          "2025-07-14T00:00:00",
          "2025-07-15T00:00:00",
          "2025-07-16T00:00:00",
          "2025-07-17T00:00:00",
          "2025-07-18T00:00:00",
          "2025-07-19T00:00:00",
          "2025-07-20T00:00:00",
          "2025-07-21T00:00:00",
          "2025-07-22T00:00:00",
          "2025-07-23T00:00:00",
          "2025-07-24T00:00:00",
          "2025-07-25T00:00:00",
          "2025-07-26T00:00:00",
          "2025-07-27T00:00:00",
          "2025-07-28T00:00:00",
          "2025-07-29T00:00:00",
          "2025-07-30T00:00:00",
          "2025-07-31T00:00:00",
          "2025-08-01T00:00:00",
          "2025-08-02T00:00:00",
          "2025-08-03T00:00:00",
          "2025-08-04T00:00:00",
          "2025-08-05T00:00:00",
          "2025-08-06T00:00:00",
          "2025-08-07T00:00:00",
          "2025-08-08T00:00:00",
          "2025-08-09T00:00:00",
          "2025-08-10T00:00:00",
          "2025-08-11T00:00:00",
          "2025-08-12T00:00:00",
          "2025-08-13T00:00:00",
          "2025-08-14T00:00:00",
          "2025-08-15T00:00:00",
          "2025-08-16T00:00:00",
          "2025-08-17T00:00:00",
          "2025-08-18T00:00:00",
          "2025-08-19T00:00:00",
          "2025-08-20T00:00:00",
          "2025-08-21T00:00:00",
          "2025-08-22T00:00:00",
          "2025-08-23T00:00:00",
          "2025-08-24T00:00:00",
          "2025-08-25T00:00:00",
          "2025-08-26T00:00:00",
          "2025-08-27T00:00:00",
          "2025-08-28T00:00:00",
          "2025-08-29T00:00:00",
          "2025-08-30T00:00:00",
          "2025-08-31T00:00:00",
          "2025-09-01T00:00:00",
          "2025-09-02T00:00:00",
          "2025-09-03T00:00:00",
          "2025-09-04T00:00:00",
          "2025-09-05T00:00:00",
          "2025-09-06T00:00:00",
          "2025-09-07T00:00:00"
         ],
         "xaxis": "x",
         "y": [
          null,
          null,
          null,
          null,
          null,
          null,
          null,
          null,
          null,
          null,
          null,
          null,
          null,
          null,
          null,
          null,
          null,
          null,
          null,
          null,
          null,
          null,
          null,
          null,
          null,
          null,
          null,
          null,
          null,
          null,
          null,
          null,
          null,
          null,
          null,
          null,
          null,
          null,
          null,
          null,
          null,
          null,
          null,
          null,
          null,
          null,
          null,
          null,
          null,
          null,
          null,
          null,
          null,
          null,
          null,
          null,
          null,
          null,
          null,
          null,
          null,
          null,
          null,
          null,
          null,
          null,
          null,
          null,
          null,
          null,
          null,
          null,
          null
         ],
         "yaxis": "y"
        },
        {
         "hovertemplate": "Activo=SPY<br>fecha=%{x}<br>Performance (Base 100)=%{y}<extra></extra>",
         "legendgroup": "SPY",
         "line": {
          "color": "#ab63fa",
          "dash": "solid"
         },
         "marker": {
          "symbol": "circle"
         },
         "mode": "lines",
         "name": "SPY",
         "orientation": "v",
         "showlegend": true,
         "type": "scatter",
         "x": [
          "2025-06-24T00:00:00",
          "2025-06-25T00:00:00",
          "2025-06-26T00:00:00",
          "2025-06-30T00:00:00",
          "2025-07-01T00:00:00",
          "2025-07-02T00:00:00",
          "2025-07-03T00:00:00",
          "2025-07-04T00:00:00",
          "2025-07-05T00:00:00",
          "2025-07-06T00:00:00",
          "2025-07-07T00:00:00",
          "2025-07-08T00:00:00",
          "2025-07-09T00:00:00",
          "2025-07-10T00:00:00",
          "2025-07-11T00:00:00",
          "2025-07-12T00:00:00",
          "2025-07-13T00:00:00",
          "2025-07-14T00:00:00",
          "2025-07-15T00:00:00",
          "2025-07-16T00:00:00",
          "2025-07-17T00:00:00",
          "2025-07-18T00:00:00",
          "2025-07-19T00:00:00",
          "2025-07-20T00:00:00",
          "2025-07-21T00:00:00",
          "2025-07-22T00:00:00",
          "2025-07-23T00:00:00",
          "2025-07-24T00:00:00",
          "2025-07-25T00:00:00",
          "2025-07-26T00:00:00",
          "2025-07-27T00:00:00",
          "2025-07-28T00:00:00",
          "2025-07-29T00:00:00",
          "2025-07-30T00:00:00",
          "2025-07-31T00:00:00",
          "2025-08-01T00:00:00",
          "2025-08-02T00:00:00",
          "2025-08-03T00:00:00",
          "2025-08-04T00:00:00",
          "2025-08-05T00:00:00",
          "2025-08-06T00:00:00",
          "2025-08-07T00:00:00",
          "2025-08-08T00:00:00",
          "2025-08-09T00:00:00",
          "2025-08-10T00:00:00",
          "2025-08-11T00:00:00",
          "2025-08-12T00:00:00",
          "2025-08-13T00:00:00",
          "2025-08-14T00:00:00",
          "2025-08-15T00:00:00",
          "2025-08-16T00:00:00",
          "2025-08-17T00:00:00",
          "2025-08-18T00:00:00",
          "2025-08-19T00:00:00",
          "2025-08-20T00:00:00",
          "2025-08-21T00:00:00",
          "2025-08-22T00:00:00",
          "2025-08-23T00:00:00",
          "2025-08-24T00:00:00",
          "2025-08-25T00:00:00",
          "2025-08-26T00:00:00",
          "2025-08-27T00:00:00",
          "2025-08-28T00:00:00",
          "2025-08-29T00:00:00",
          "2025-08-30T00:00:00",
          "2025-08-31T00:00:00",
          "2025-09-01T00:00:00",
          "2025-09-02T00:00:00",
          "2025-09-03T00:00:00",
          "2025-09-04T00:00:00",
          "2025-09-05T00:00:00",
          "2025-09-06T00:00:00",
          "2025-09-07T00:00:00"
         ],
         "xaxis": "x",
         "y": [
          null,
          null,
          null,
          null,
          null,
          null,
          null,
          null,
          null,
          null,
          null,
          null,
          null,
          null,
          null,
          null,
          null,
          null,
          null,
          null,
          null,
          null,
          null,
          null,
          null,
          null,
          null,
          null,
          null,
          null,
          null,
          null,
          null,
          null,
          null,
          null,
          null,
          null,
          null,
          null,
          null,
          null,
          null,
          null,
          null,
          null,
          null,
          null,
          null,
          null,
          null,
          null,
          null,
          null,
          null,
          null,
          null,
          null,
          null,
          null,
          null,
          null,
          null,
          null,
          null,
          null,
          null,
          null,
          null,
          null,
          null,
          null,
          null
         ],
         "yaxis": "y"
        },
        {
         "hovertemplate": "Activo=IBM<br>fecha=%{x}<br>Performance (Base 100)=%{y}<extra></extra>",
         "legendgroup": "IBM",
         "line": {
          "color": "#FFA15A",
          "dash": "solid"
         },
         "marker": {
          "symbol": "circle"
         },
         "mode": "lines",
         "name": "IBM",
         "orientation": "v",
         "showlegend": true,
         "type": "scatter",
         "x": [
          "2025-06-24T00:00:00",
          "2025-06-25T00:00:00",
          "2025-06-26T00:00:00",
          "2025-06-30T00:00:00",
          "2025-07-01T00:00:00",
          "2025-07-02T00:00:00",
          "2025-07-03T00:00:00",
          "2025-07-04T00:00:00",
          "2025-07-05T00:00:00",
          "2025-07-06T00:00:00",
          "2025-07-07T00:00:00",
          "2025-07-08T00:00:00",
          "2025-07-09T00:00:00",
          "2025-07-10T00:00:00",
          "2025-07-11T00:00:00",
          "2025-07-12T00:00:00",
          "2025-07-13T00:00:00",
          "2025-07-14T00:00:00",
          "2025-07-15T00:00:00",
          "2025-07-16T00:00:00",
          "2025-07-17T00:00:00",
          "2025-07-18T00:00:00",
          "2025-07-19T00:00:00",
          "2025-07-20T00:00:00",
          "2025-07-21T00:00:00",
          "2025-07-22T00:00:00",
          "2025-07-23T00:00:00",
          "2025-07-24T00:00:00",
          "2025-07-25T00:00:00",
          "2025-07-26T00:00:00",
          "2025-07-27T00:00:00",
          "2025-07-28T00:00:00",
          "2025-07-29T00:00:00",
          "2025-07-30T00:00:00",
          "2025-07-31T00:00:00",
          "2025-08-01T00:00:00",
          "2025-08-02T00:00:00",
          "2025-08-03T00:00:00",
          "2025-08-04T00:00:00",
          "2025-08-05T00:00:00",
          "2025-08-06T00:00:00",
          "2025-08-07T00:00:00",
          "2025-08-08T00:00:00",
          "2025-08-09T00:00:00",
          "2025-08-10T00:00:00",
          "2025-08-11T00:00:00",
          "2025-08-12T00:00:00",
          "2025-08-13T00:00:00",
          "2025-08-14T00:00:00",
          "2025-08-15T00:00:00",
          "2025-08-16T00:00:00",
          "2025-08-17T00:00:00",
          "2025-08-18T00:00:00",
          "2025-08-19T00:00:00",
          "2025-08-20T00:00:00",
          "2025-08-21T00:00:00",
          "2025-08-22T00:00:00",
          "2025-08-23T00:00:00",
          "2025-08-24T00:00:00",
          "2025-08-25T00:00:00",
          "2025-08-26T00:00:00",
          "2025-08-27T00:00:00",
          "2025-08-28T00:00:00",
          "2025-08-29T00:00:00",
          "2025-08-30T00:00:00",
          "2025-08-31T00:00:00",
          "2025-09-01T00:00:00",
          "2025-09-02T00:00:00",
          "2025-09-03T00:00:00",
          "2025-09-04T00:00:00",
          "2025-09-05T00:00:00",
          "2025-09-06T00:00:00",
          "2025-09-07T00:00:00"
         ],
         "xaxis": "x",
         "y": [
          null,
          null,
          null,
          null,
          null,
          null,
          null,
          null,
          null,
          null,
          null,
          null,
          null,
          null,
          null,
          null,
          null,
          null,
          null,
          null,
          null,
          null,
          null,
          null,
          null,
          null,
          null,
          null,
          null,
          null,
          null,
          null,
          null,
          null,
          null,
          null,
          null,
          null,
          null,
          null,
          null,
          null,
          null,
          null,
          null,
          null,
          null,
          null,
          null,
          null,
          null,
          null,
          null,
          null,
          null,
          null,
          null,
          null,
          null,
          null,
          null,
          null,
          null,
          null,
          null,
          null,
          null,
          null,
          null,
          null,
          null,
          null,
          null
         ],
         "yaxis": "y"
        }
       ],
       "layout": {
        "hovermode": "x unified",
        "legend": {
         "title": {
          "text": "Activos"
         },
         "tracegroupgap": 0
        },
        "template": {
         "data": {
          "bar": [
           {
            "error_x": {
             "color": "#2a3f5f"
            },
            "error_y": {
             "color": "#2a3f5f"
            },
            "marker": {
             "line": {
              "color": "white",
              "width": 0.5
             },
             "pattern": {
              "fillmode": "overlay",
              "size": 10,
              "solidity": 0.2
             }
            },
            "type": "bar"
           }
          ],
          "barpolar": [
           {
            "marker": {
             "line": {
              "color": "white",
              "width": 0.5
             },
             "pattern": {
              "fillmode": "overlay",
              "size": 10,
              "solidity": 0.2
             }
            },
            "type": "barpolar"
           }
          ],
          "carpet": [
           {
            "aaxis": {
             "endlinecolor": "#2a3f5f",
             "gridcolor": "#C8D4E3",
             "linecolor": "#C8D4E3",
             "minorgridcolor": "#C8D4E3",
             "startlinecolor": "#2a3f5f"
            },
            "baxis": {
             "endlinecolor": "#2a3f5f",
             "gridcolor": "#C8D4E3",
             "linecolor": "#C8D4E3",
             "minorgridcolor": "#C8D4E3",
             "startlinecolor": "#2a3f5f"
            },
            "type": "carpet"
           }
          ],
          "choropleth": [
           {
            "colorbar": {
             "outlinewidth": 0,
             "ticks": ""
            },
            "type": "choropleth"
           }
          ],
          "contour": [
           {
            "colorbar": {
             "outlinewidth": 0,
             "ticks": ""
            },
            "colorscale": [
             [
              0,
              "#0d0887"
             ],
             [
              0.1111111111111111,
              "#46039f"
             ],
             [
              0.2222222222222222,
              "#7201a8"
             ],
             [
              0.3333333333333333,
              "#9c179e"
             ],
             [
              0.4444444444444444,
              "#bd3786"
             ],
             [
              0.5555555555555556,
              "#d8576b"
             ],
             [
              0.6666666666666666,
              "#ed7953"
             ],
             [
              0.7777777777777778,
              "#fb9f3a"
             ],
             [
              0.8888888888888888,
              "#fdca26"
             ],
             [
              1,
              "#f0f921"
             ]
            ],
            "type": "contour"
           }
          ],
          "contourcarpet": [
           {
            "colorbar": {
             "outlinewidth": 0,
             "ticks": ""
            },
            "type": "contourcarpet"
           }
          ],
          "heatmap": [
           {
            "colorbar": {
             "outlinewidth": 0,
             "ticks": ""
            },
            "colorscale": [
             [
              0,
              "#0d0887"
             ],
             [
              0.1111111111111111,
              "#46039f"
             ],
             [
              0.2222222222222222,
              "#7201a8"
             ],
             [
              0.3333333333333333,
              "#9c179e"
             ],
             [
              0.4444444444444444,
              "#bd3786"
             ],
             [
              0.5555555555555556,
              "#d8576b"
             ],
             [
              0.6666666666666666,
              "#ed7953"
             ],
             [
              0.7777777777777778,
              "#fb9f3a"
             ],
             [
              0.8888888888888888,
              "#fdca26"
             ],
             [
              1,
              "#f0f921"
             ]
            ],
            "type": "heatmap"
           }
          ],
          "heatmapgl": [
           {
            "colorbar": {
             "outlinewidth": 0,
             "ticks": ""
            },
            "colorscale": [
             [
              0,
              "#0d0887"
             ],
             [
              0.1111111111111111,
              "#46039f"
             ],
             [
              0.2222222222222222,
              "#7201a8"
             ],
             [
              0.3333333333333333,
              "#9c179e"
             ],
             [
              0.4444444444444444,
              "#bd3786"
             ],
             [
              0.5555555555555556,
              "#d8576b"
             ],
             [
              0.6666666666666666,
              "#ed7953"
             ],
             [
              0.7777777777777778,
              "#fb9f3a"
             ],
             [
              0.8888888888888888,
              "#fdca26"
             ],
             [
              1,
              "#f0f921"
             ]
            ],
            "type": "heatmapgl"
           }
          ],
          "histogram": [
           {
            "marker": {
             "pattern": {
              "fillmode": "overlay",
              "size": 10,
              "solidity": 0.2
             }
            },
            "type": "histogram"
           }
          ],
          "histogram2d": [
           {
            "colorbar": {
             "outlinewidth": 0,
             "ticks": ""
            },
            "colorscale": [
             [
              0,
              "#0d0887"
             ],
             [
              0.1111111111111111,
              "#46039f"
             ],
             [
              0.2222222222222222,
              "#7201a8"
             ],
             [
              0.3333333333333333,
              "#9c179e"
             ],
             [
              0.4444444444444444,
              "#bd3786"
             ],
             [
              0.5555555555555556,
              "#d8576b"
             ],
             [
              0.6666666666666666,
              "#ed7953"
             ],
             [
              0.7777777777777778,
              "#fb9f3a"
             ],
             [
              0.8888888888888888,
              "#fdca26"
             ],
             [
              1,
              "#f0f921"
             ]
            ],
            "type": "histogram2d"
           }
          ],
          "histogram2dcontour": [
           {
            "colorbar": {
             "outlinewidth": 0,
             "ticks": ""
            },
            "colorscale": [
             [
              0,
              "#0d0887"
             ],
             [
              0.1111111111111111,
              "#46039f"
             ],
             [
              0.2222222222222222,
              "#7201a8"
             ],
             [
              0.3333333333333333,
              "#9c179e"
             ],
             [
              0.4444444444444444,
              "#bd3786"
             ],
             [
              0.5555555555555556,
              "#d8576b"
             ],
             [
              0.6666666666666666,
              "#ed7953"
             ],
             [
              0.7777777777777778,
              "#fb9f3a"
             ],
             [
              0.8888888888888888,
              "#fdca26"
             ],
             [
              1,
              "#f0f921"
             ]
            ],
            "type": "histogram2dcontour"
           }
          ],
          "mesh3d": [
           {
            "colorbar": {
             "outlinewidth": 0,
             "ticks": ""
            },
            "type": "mesh3d"
           }
          ],
          "parcoords": [
           {
            "line": {
             "colorbar": {
              "outlinewidth": 0,
              "ticks": ""
             }
            },
            "type": "parcoords"
           }
          ],
          "pie": [
           {
            "automargin": true,
            "type": "pie"
           }
          ],
          "scatter": [
           {
            "fillpattern": {
             "fillmode": "overlay",
             "size": 10,
             "solidity": 0.2
            },
            "type": "scatter"
           }
          ],
          "scatter3d": [
           {
            "line": {
             "colorbar": {
              "outlinewidth": 0,
              "ticks": ""
             }
            },
            "marker": {
             "colorbar": {
              "outlinewidth": 0,
              "ticks": ""
             }
            },
            "type": "scatter3d"
           }
          ],
          "scattercarpet": [
           {
            "marker": {
             "colorbar": {
              "outlinewidth": 0,
              "ticks": ""
             }
            },
            "type": "scattercarpet"
           }
          ],
          "scattergeo": [
           {
            "marker": {
             "colorbar": {
              "outlinewidth": 0,
              "ticks": ""
             }
            },
            "type": "scattergeo"
           }
          ],
          "scattergl": [
           {
            "marker": {
             "colorbar": {
              "outlinewidth": 0,
              "ticks": ""
             }
            },
            "type": "scattergl"
           }
          ],
          "scattermapbox": [
           {
            "marker": {
             "colorbar": {
              "outlinewidth": 0,
              "ticks": ""
             }
            },
            "type": "scattermapbox"
           }
          ],
          "scatterpolar": [
           {
            "marker": {
             "colorbar": {
              "outlinewidth": 0,
              "ticks": ""
             }
            },
            "type": "scatterpolar"
           }
          ],
          "scatterpolargl": [
           {
            "marker": {
             "colorbar": {
              "outlinewidth": 0,
              "ticks": ""
             }
            },
            "type": "scatterpolargl"
           }
          ],
          "scatterternary": [
           {
            "marker": {
             "colorbar": {
              "outlinewidth": 0,
              "ticks": ""
             }
            },
            "type": "scatterternary"
           }
          ],
          "surface": [
           {
            "colorbar": {
             "outlinewidth": 0,
             "ticks": ""
            },
            "colorscale": [
             [
              0,
              "#0d0887"
             ],
             [
              0.1111111111111111,
              "#46039f"
             ],
             [
              0.2222222222222222,
              "#7201a8"
             ],
             [
              0.3333333333333333,
              "#9c179e"
             ],
             [
              0.4444444444444444,
              "#bd3786"
             ],
             [
              0.5555555555555556,
              "#d8576b"
             ],
             [
              0.6666666666666666,
              "#ed7953"
             ],
             [
              0.7777777777777778,
              "#fb9f3a"
             ],
             [
              0.8888888888888888,
              "#fdca26"
             ],
             [
              1,
              "#f0f921"
             ]
            ],
            "type": "surface"
           }
          ],
          "table": [
           {
            "cells": {
             "fill": {
              "color": "#EBF0F8"
             },
             "line": {
              "color": "white"
             }
            },
            "header": {
             "fill": {
              "color": "#C8D4E3"
             },
             "line": {
              "color": "white"
             }
            },
            "type": "table"
           }
          ]
         },
         "layout": {
          "annotationdefaults": {
           "arrowcolor": "#2a3f5f",
           "arrowhead": 0,
           "arrowwidth": 1
          },
          "autotypenumbers": "strict",
          "coloraxis": {
           "colorbar": {
            "outlinewidth": 0,
            "ticks": ""
           }
          },
          "colorscale": {
           "diverging": [
            [
             0,
             "#8e0152"
            ],
            [
             0.1,
             "#c51b7d"
            ],
            [
             0.2,
             "#de77ae"
            ],
            [
             0.3,
             "#f1b6da"
            ],
            [
             0.4,
             "#fde0ef"
            ],
            [
             0.5,
             "#f7f7f7"
            ],
            [
             0.6,
             "#e6f5d0"
            ],
            [
             0.7,
             "#b8e186"
            ],
            [
             0.8,
             "#7fbc41"
            ],
            [
             0.9,
             "#4d9221"
            ],
            [
             1,
             "#276419"
            ]
           ],
           "sequential": [
            [
             0,
             "#0d0887"
            ],
            [
             0.1111111111111111,
             "#46039f"
            ],
            [
             0.2222222222222222,
             "#7201a8"
            ],
            [
             0.3333333333333333,
             "#9c179e"
            ],
            [
             0.4444444444444444,
             "#bd3786"
            ],
            [
             0.5555555555555556,
             "#d8576b"
            ],
            [
             0.6666666666666666,
             "#ed7953"
            ],
            [
             0.7777777777777778,
             "#fb9f3a"
            ],
            [
             0.8888888888888888,
             "#fdca26"
            ],
            [
             1,
             "#f0f921"
            ]
           ],
           "sequentialminus": [
            [
             0,
             "#0d0887"
            ],
            [
             0.1111111111111111,
             "#46039f"
            ],
            [
             0.2222222222222222,
             "#7201a8"
            ],
            [
             0.3333333333333333,
             "#9c179e"
            ],
            [
             0.4444444444444444,
             "#bd3786"
            ],
            [
             0.5555555555555556,
             "#d8576b"
            ],
            [
             0.6666666666666666,
             "#ed7953"
            ],
            [
             0.7777777777777778,
             "#fb9f3a"
            ],
            [
             0.8888888888888888,
             "#fdca26"
            ],
            [
             1,
             "#f0f921"
            ]
           ]
          },
          "colorway": [
           "#636efa",
           "#EF553B",
           "#00cc96",
           "#ab63fa",
           "#FFA15A",
           "#19d3f3",
           "#FF6692",
           "#B6E880",
           "#FF97FF",
           "#FECB52"
          ],
          "font": {
           "color": "#2a3f5f"
          },
          "geo": {
           "bgcolor": "white",
           "lakecolor": "white",
           "landcolor": "white",
           "showlakes": true,
           "showland": true,
           "subunitcolor": "#C8D4E3"
          },
          "hoverlabel": {
           "align": "left"
          },
          "hovermode": "closest",
          "mapbox": {
           "style": "light"
          },
          "paper_bgcolor": "white",
          "plot_bgcolor": "white",
          "polar": {
           "angularaxis": {
            "gridcolor": "#EBF0F8",
            "linecolor": "#EBF0F8",
            "ticks": ""
           },
           "bgcolor": "white",
           "radialaxis": {
            "gridcolor": "#EBF0F8",
            "linecolor": "#EBF0F8",
            "ticks": ""
           }
          },
          "scene": {
           "xaxis": {
            "backgroundcolor": "white",
            "gridcolor": "#DFE8F3",
            "gridwidth": 2,
            "linecolor": "#EBF0F8",
            "showbackground": true,
            "ticks": "",
            "zerolinecolor": "#EBF0F8"
           },
           "yaxis": {
            "backgroundcolor": "white",
            "gridcolor": "#DFE8F3",
            "gridwidth": 2,
            "linecolor": "#EBF0F8",
            "showbackground": true,
            "ticks": "",
            "zerolinecolor": "#EBF0F8"
           },
           "zaxis": {
            "backgroundcolor": "white",
            "gridcolor": "#DFE8F3",
            "gridwidth": 2,
            "linecolor": "#EBF0F8",
            "showbackground": true,
            "ticks": "",
            "zerolinecolor": "#EBF0F8"
           }
          },
          "shapedefaults": {
           "line": {
            "color": "#2a3f5f"
           }
          },
          "ternary": {
           "aaxis": {
            "gridcolor": "#DFE8F3",
            "linecolor": "#A2B1C6",
            "ticks": ""
           },
           "baxis": {
            "gridcolor": "#DFE8F3",
            "linecolor": "#A2B1C6",
            "ticks": ""
           },
           "bgcolor": "white",
           "caxis": {
            "gridcolor": "#DFE8F3",
            "linecolor": "#A2B1C6",
            "ticks": ""
           }
          },
          "title": {
           "x": 0.05
          },
          "xaxis": {
           "automargin": true,
           "gridcolor": "#EBF0F8",
           "linecolor": "#EBF0F8",
           "ticks": "",
           "title": {
            "standoff": 15
           },
           "zerolinecolor": "#EBF0F8",
           "zerolinewidth": 2
          },
          "yaxis": {
           "automargin": true,
           "gridcolor": "#EBF0F8",
           "linecolor": "#EBF0F8",
           "ticks": "",
           "title": {
            "standoff": 15
           },
           "zerolinecolor": "#EBF0F8",
           "zerolinewidth": 2
          }
         }
        },
        "title": {
         "text": "Evolución Normalizada de Activos"
        },
        "xaxis": {
         "anchor": "y",
         "domain": [
          0,
          1
         ],
         "title": {
          "text": "fecha"
         }
        },
        "yaxis": {
         "anchor": "x",
         "domain": [
          0,
          1
         ],
         "title": {
          "text": "Performance (Base 100)"
         }
        }
       }
      }
     },
     "metadata": {},
     "output_type": "display_data"
    }
   ],
   "source": [
    "# Inicializar visualizador\n",
    "visualizer = PortfolioVisualizer()\n",
    "\n",
    "# Visualizar performance normalizada de activos principales\n",
    "top_assets = pesos_promedio.head(5).index.tolist()\n",
    "print(\"VISUALIZACION DE PERFORMANCE NORMALIZADA\")\n",
    "print(f\"Activos principales: {len(top_assets)}\")\n",
    "\n",
    "# Crear gráfico de performance normalizada\n",
    "fig_performance = visualizer.plot_normalized_performance(\n",
    "    df=prices_data,\n",
    "    assets=top_assets,\n",
    "    save_path=\"performance_normalizada\"\n",
    ")"
   ]
  },
  {
   "cell_type": "markdown",
   "id": "977b145f",
   "metadata": {},
   "source": [
    "## Análisis de Optimización de Cartera"
   ]
  },
  {
   "cell_type": "code",
   "execution_count": 44,
   "id": "7dd69c84",
   "metadata": {},
   "outputs": [
    {
     "name": "stdout",
     "output_type": "stream",
     "text": [
      "\n",
      "CARTERA OPTIMA SHARPE:\n",
      "Rendimiento esperado: 66.3%\n",
      "Volatilidad: 10.8%\n",
      "Sharpe Ratio: 5.742\n",
      "\n",
      "PESOS OPTIMOS SHARPE:\n"
     ]
    },
    {
     "data": {
      "text/html": [
       "<div>\n",
       "<style scoped>\n",
       "    .dataframe tbody tr th:only-of-type {\n",
       "        vertical-align: middle;\n",
       "    }\n",
       "\n",
       "    .dataframe tbody tr th {\n",
       "        vertical-align: top;\n",
       "    }\n",
       "\n",
       "    .dataframe thead th {\n",
       "        text-align: right;\n",
       "    }\n",
       "</style>\n",
       "<table border=\"1\" class=\"dataframe\">\n",
       "  <thead>\n",
       "    <tr style=\"text-align: right;\">\n",
       "      <th></th>\n",
       "      <th>Activo</th>\n",
       "      <th>Peso_Optimal_Sharpe</th>\n",
       "    </tr>\n",
       "  </thead>\n",
       "  <tbody>\n",
       "    <tr>\n",
       "      <th>2</th>\n",
       "      <td>COCORMA</td>\n",
       "      <td>0.4</td>\n",
       "    </tr>\n",
       "    <tr>\n",
       "      <th>0</th>\n",
       "      <td>AAPL</td>\n",
       "      <td>0.4</td>\n",
       "    </tr>\n",
       "    <tr>\n",
       "      <th>3</th>\n",
       "      <td>EWZ</td>\n",
       "      <td>0.2</td>\n",
       "    </tr>\n",
       "    <tr>\n",
       "      <th>1</th>\n",
       "      <td>CEPU</td>\n",
       "      <td>0.0</td>\n",
       "    </tr>\n",
       "    <tr>\n",
       "      <th>4</th>\n",
       "      <td>SPY</td>\n",
       "      <td>0.0</td>\n",
       "    </tr>\n",
       "  </tbody>\n",
       "</table>\n",
       "</div>"
      ],
      "text/plain": [
       "    Activo  Peso_Optimal_Sharpe\n",
       "2  COCORMA                  0.4\n",
       "0     AAPL                  0.4\n",
       "3      EWZ                  0.2\n",
       "1     CEPU                  0.0\n",
       "4      SPY                  0.0"
      ]
     },
     "metadata": {},
     "output_type": "display_data"
    }
   ],
   "source": [
    "# Filtrar activos con varianza > 0\n",
    "varianzas = returns_data.var()\n",
    "activos_varianza = varianzas[varianzas > 0].index.tolist()\n",
    "returns_data_filtrado = returns_data[activos_varianza]\n",
    "\n",
    "# --- PARCHE: forzar mínimo de observaciones a 10 para el optimizador ---\n",
    "from portfolio_analyzer import optimization\n",
    "PortfolioOptimizer = optimization.PortfolioOptimizer\n",
    "PortfolioOptimizer.__init__.__defaults__ = (None, 0.02)  # reset defaults\n",
    "\n",
    "original_init = PortfolioOptimizer.__init__\n",
    "def patched_init(self, returns_data, risk_free_rate=0.02):\n",
    "    if self._is_price_data(returns_data):\n",
    "        self.returns = returns_data.pct_change().dropna()\n",
    "    else:\n",
    "        self.returns = returns_data.dropna()\n",
    "    self.returns = self.returns.replace([np.inf, -np.inf], np.nan).dropna()\n",
    "    min_observations = 10\n",
    "    valid_assets = []\n",
    "    for col in self.returns.columns:\n",
    "        non_null_count = self.returns[col].count()\n",
    "        if non_null_count >= min_observations:\n",
    "            valid_assets.append(col)\n",
    "    if len(valid_assets) < 2:\n",
    "        raise ValueError(\"Se necesitan al menos 2 activos con datos suficientes para optimización\")\n",
    "    self.returns = self.returns[valid_assets]\n",
    "    self.assets = valid_assets\n",
    "    self.n_assets = len(self.assets)\n",
    "    self.rf_rate = risk_free_rate / 252\n",
    "PortfolioOptimizer.__init__ = patched_init\n",
    "# --- FIN PARCHE ---\n",
    "\n",
    "try:\n",
    "    optimizer = PortfolioOptimizer(returns_data=returns_data_filtrado, risk_free_rate=0.04)\n",
    "    optimal_sharpe = optimizer.optimize_sharpe(max_weight=0.4, min_weight=0.0)\n",
    "    if optimal_sharpe and optimal_sharpe['success']:\n",
    "        print(\"\\nCARTERA OPTIMA SHARPE:\")\n",
    "        print(f\"Rendimiento esperado: {optimal_sharpe['rendimiento']:.1%}\")\n",
    "        print(f\"Volatilidad: {optimal_sharpe['volatilidad']:.1%}\")\n",
    "        print(f\"Sharpe Ratio: {optimal_sharpe['sharpe_ratio']:.3f}\")\n",
    "        sharpe_weights_df = pd.DataFrame(\n",
    "            list(optimal_sharpe['weights'].items()),\n",
    "            columns=['Activo', 'Peso_Optimal_Sharpe']\n",
    "        ).sort_values('Peso_Optimal_Sharpe', ascending=False)\n",
    "        print(\"\\nPESOS OPTIMOS SHARPE:\")\n",
    "        display(sharpe_weights_df.head(10))\n",
    "    else:\n",
    "        print(\"No se pudo calcular cartera óptima Sharpe\")\n",
    "except Exception as e:\n",
    "    print(f\"❌ Error al inicializar optimizador o calcular Sharpe: {e}\")"
   ]
  },
  {
   "cell_type": "code",
   "execution_count": 45,
   "id": "4164f820",
   "metadata": {},
   "outputs": [
    {
     "name": "stdout",
     "output_type": "stream",
     "text": [
      "\n",
      "CARTERA MINIMA VOLATILIDAD:\n",
      "Rendimiento esperado: 23.6%\n",
      "Volatilidad: 8.4%\n",
      "Sharpe Ratio: 2.332\n",
      "\n",
      "PESOS MINIMA VOLATILIDAD:\n",
      "\n",
      "PESOS MINIMA VOLATILIDAD:\n"
     ]
    },
    {
     "data": {
      "text/html": [
       "<div>\n",
       "<style scoped>\n",
       "    .dataframe tbody tr th:only-of-type {\n",
       "        vertical-align: middle;\n",
       "    }\n",
       "\n",
       "    .dataframe tbody tr th {\n",
       "        vertical-align: top;\n",
       "    }\n",
       "\n",
       "    .dataframe thead th {\n",
       "        text-align: right;\n",
       "    }\n",
       "</style>\n",
       "<table border=\"1\" class=\"dataframe\">\n",
       "  <thead>\n",
       "    <tr style=\"text-align: right;\">\n",
       "      <th></th>\n",
       "      <th>Activo</th>\n",
       "      <th>Peso_Min_Volatilidad</th>\n",
       "    </tr>\n",
       "  </thead>\n",
       "  <tbody>\n",
       "    <tr>\n",
       "      <th>2</th>\n",
       "      <td>COCORMA</td>\n",
       "      <td>4.0000e-01</td>\n",
       "    </tr>\n",
       "    <tr>\n",
       "      <th>4</th>\n",
       "      <td>SPY</td>\n",
       "      <td>2.7828e-01</td>\n",
       "    </tr>\n",
       "    <tr>\n",
       "      <th>0</th>\n",
       "      <td>AAPL</td>\n",
       "      <td>2.0503e-01</td>\n",
       "    </tr>\n",
       "    <tr>\n",
       "      <th>1</th>\n",
       "      <td>CEPU</td>\n",
       "      <td>1.1669e-01</td>\n",
       "    </tr>\n",
       "    <tr>\n",
       "      <th>3</th>\n",
       "      <td>EWZ</td>\n",
       "      <td>1.4519e-16</td>\n",
       "    </tr>\n",
       "  </tbody>\n",
       "</table>\n",
       "</div>"
      ],
      "text/plain": [
       "    Activo  Peso_Min_Volatilidad\n",
       "2  COCORMA            4.0000e-01\n",
       "4      SPY            2.7828e-01\n",
       "0     AAPL            2.0503e-01\n",
       "1     CEPU            1.1669e-01\n",
       "3      EWZ            1.4519e-16"
      ]
     },
     "metadata": {},
     "output_type": "display_data"
    },
    {
     "name": "stdout",
     "output_type": "stream",
     "text": [
      "\n",
      "COMPARACION DE COMPOSICIONES:\n",
      "CARTERA ACTUAL:\n"
     ]
    },
    {
     "data": {
      "text/html": [
       "<div>\n",
       "<style scoped>\n",
       "    .dataframe tbody tr th:only-of-type {\n",
       "        vertical-align: middle;\n",
       "    }\n",
       "\n",
       "    .dataframe tbody tr th {\n",
       "        vertical-align: top;\n",
       "    }\n",
       "\n",
       "    .dataframe thead th {\n",
       "        text-align: right;\n",
       "    }\n",
       "</style>\n",
       "<table border=\"1\" class=\"dataframe\">\n",
       "  <thead>\n",
       "    <tr style=\"text-align: right;\">\n",
       "      <th></th>\n",
       "      <th>Activo</th>\n",
       "      <th>Peso_Actual</th>\n",
       "    </tr>\n",
       "  </thead>\n",
       "  <tbody>\n",
       "    <tr>\n",
       "      <th>4</th>\n",
       "      <td>SPY</td>\n",
       "      <td>0.3499</td>\n",
       "    </tr>\n",
       "    <tr>\n",
       "      <th>0</th>\n",
       "      <td>AAPL</td>\n",
       "      <td>0.2591</td>\n",
       "    </tr>\n",
       "    <tr>\n",
       "      <th>2</th>\n",
       "      <td>COCORMA</td>\n",
       "      <td>0.1764</td>\n",
       "    </tr>\n",
       "    <tr>\n",
       "      <th>3</th>\n",
       "      <td>EWZ</td>\n",
       "      <td>0.1603</td>\n",
       "    </tr>\n",
       "    <tr>\n",
       "      <th>1</th>\n",
       "      <td>CEPU</td>\n",
       "      <td>0.0543</td>\n",
       "    </tr>\n",
       "  </tbody>\n",
       "</table>\n",
       "</div>"
      ],
      "text/plain": [
       "    Activo  Peso_Actual\n",
       "4      SPY       0.3499\n",
       "0     AAPL       0.2591\n",
       "2  COCORMA       0.1764\n",
       "3      EWZ       0.1603\n",
       "1     CEPU       0.0543"
      ]
     },
     "metadata": {},
     "output_type": "display_data"
    }
   ],
   "source": [
    "# Optimización para mínima volatilidad\n",
    "optimal_min_vol = optimizer.optimize_min_volatility(max_weight=0.4, min_weight=0.0)\n",
    "\n",
    "if optimal_min_vol and optimal_min_vol['success']:\n",
    "    print(\"\\nCARTERA MINIMA VOLATILIDAD:\")\n",
    "    print(f\"Rendimiento esperado: {optimal_min_vol['rendimiento']:.1%}\")\n",
    "    print(f\"Volatilidad: {optimal_min_vol['volatilidad']:.1%}\")\n",
    "    print(f\"Sharpe Ratio: {optimal_min_vol['sharpe_ratio']:.3f}\")\n",
    "    \n",
    "    # Mostrar pesos óptimos\n",
    "    min_vol_weights_df = pd.DataFrame(\n",
    "        list(optimal_min_vol['weights'].items()),\n",
    "        columns=['Activo', 'Peso_Min_Volatilidad']\n",
    "    ).sort_values('Peso_Min_Volatilidad', ascending=False)\n",
    "    \n",
    "    print(\"\\nPESOS MINIMA VOLATILIDAD:\")\n",
    "    display(min_vol_weights_df.head(10))\n",
    "else:\n",
    "    print(\"No se pudo calcular cartera mínima volatilidad\")\n",
    "\n",
    "# Comparar cartera actual vs óptimas\n",
    "current_weights_df = pd.DataFrame(\n",
    "    list(current_composition.items()),\n",
    "    columns=['Activo', 'Peso_Actual']\n",
    ").sort_values('Peso_Actual', ascending=False)\n",
    "\n",
    "print(\"\\nCOMPARACION DE COMPOSICIONES:\")\n",
    "print(\"CARTERA ACTUAL:\")\n",
    "display(current_weights_df.head(10))"
   ]
  },
  {
   "cell_type": "code",
   "execution_count": 46,
   "id": "467d8999",
   "metadata": {},
   "outputs": [
    {
     "name": "stdout",
     "output_type": "stream",
     "text": [
      "\n",
      "FRONTERA EFICIENTE GENERADA:\n",
      "Carteras calculadas: 50\n",
      "Columnas de efficient_frontier: ['rendimiento', 'volatilidad', 'sharpe_ratio', 'pesos']\n",
      "Primeras filas de efficient_frontier:\n",
      "   rendimiento  volatilidad  sharpe_ratio  \\\n",
      "0       0.5732       0.1091        4.8884   \n",
      "1       0.2277       0.0816        2.2989   \n",
      "2      -0.3148       0.1496       -2.3721   \n",
      "\n",
      "                                               pesos  \n",
      "0  [0.3158915516801789, 0.02642953699227935, 0.34...  \n",
      "1  [0.1400921317620013, 0.11357872274914957, 0.43...  \n",
      "2  [0.06087015993463707, 0.3643325351970654, 0.21...  \n",
      "\n",
      "MUESTRA DE FRONTERA EFICIENTE:\n"
     ]
    },
    {
     "data": {
      "text/html": [
       "<div>\n",
       "<style scoped>\n",
       "    .dataframe tbody tr th:only-of-type {\n",
       "        vertical-align: middle;\n",
       "    }\n",
       "\n",
       "    .dataframe tbody tr th {\n",
       "        vertical-align: top;\n",
       "    }\n",
       "\n",
       "    .dataframe thead th {\n",
       "        text-align: right;\n",
       "    }\n",
       "</style>\n",
       "<table border=\"1\" class=\"dataframe\">\n",
       "  <thead>\n",
       "    <tr style=\"text-align: right;\">\n",
       "      <th></th>\n",
       "      <th>rendimiento</th>\n",
       "      <th>volatilidad</th>\n",
       "      <th>sharpe_ratio</th>\n",
       "    </tr>\n",
       "  </thead>\n",
       "  <tbody>\n",
       "    <tr>\n",
       "      <th>0</th>\n",
       "      <td>0.5732</td>\n",
       "      <td>0.1091</td>\n",
       "      <td>4.8884</td>\n",
       "    </tr>\n",
       "    <tr>\n",
       "      <th>1</th>\n",
       "      <td>0.2277</td>\n",
       "      <td>0.0816</td>\n",
       "      <td>2.2989</td>\n",
       "    </tr>\n",
       "    <tr>\n",
       "      <th>2</th>\n",
       "      <td>-0.3148</td>\n",
       "      <td>0.1496</td>\n",
       "      <td>-2.3721</td>\n",
       "    </tr>\n",
       "    <tr>\n",
       "      <th>3</th>\n",
       "      <td>0.4493</td>\n",
       "      <td>0.1342</td>\n",
       "      <td>3.0492</td>\n",
       "    </tr>\n",
       "    <tr>\n",
       "      <th>4</th>\n",
       "      <td>0.4429</td>\n",
       "      <td>0.0958</td>\n",
       "      <td>4.2062</td>\n",
       "    </tr>\n",
       "    <tr>\n",
       "      <th>5</th>\n",
       "      <td>-0.0458</td>\n",
       "      <td>0.1566</td>\n",
       "      <td>-0.5477</td>\n",
       "    </tr>\n",
       "    <tr>\n",
       "      <th>6</th>\n",
       "      <td>0.2062</td>\n",
       "      <td>0.1403</td>\n",
       "      <td>1.1851</td>\n",
       "    </tr>\n",
       "    <tr>\n",
       "      <th>7</th>\n",
       "      <td>0.6299</td>\n",
       "      <td>0.2014</td>\n",
       "      <td>2.9299</td>\n",
       "    </tr>\n",
       "    <tr>\n",
       "      <th>8</th>\n",
       "      <td>-0.3635</td>\n",
       "      <td>0.2026</td>\n",
       "      <td>-1.9918</td>\n",
       "    </tr>\n",
       "    <tr>\n",
       "      <th>9</th>\n",
       "      <td>-0.0398</td>\n",
       "      <td>0.1526</td>\n",
       "      <td>-0.5225</td>\n",
       "    </tr>\n",
       "  </tbody>\n",
       "</table>\n",
       "</div>"
      ],
      "text/plain": [
       "   rendimiento  volatilidad  sharpe_ratio\n",
       "0       0.5732       0.1091        4.8884\n",
       "1       0.2277       0.0816        2.2989\n",
       "2      -0.3148       0.1496       -2.3721\n",
       "3       0.4493       0.1342        3.0492\n",
       "4       0.4429       0.0958        4.2062\n",
       "5      -0.0458       0.1566       -0.5477\n",
       "6       0.2062       0.1403        1.1851\n",
       "7       0.6299       0.2014        2.9299\n",
       "8      -0.3635       0.2026       -1.9918\n",
       "9      -0.0398       0.1526       -0.5225"
      ]
     },
     "metadata": {},
     "output_type": "display_data"
    },
    {
     "name": "stdout",
     "output_type": "stream",
     "text": [
      "\n",
      "📊 Creando gráfico riesgo-retorno...\n",
      "📊 Creando gráfico riesgo-retorno...\n",
      "Error generando frontera eficiente: 'sharpe_ratio'\n"
     ]
    }
   ],
   "source": [
    "# Generar frontera eficiente\n",
    "try:\n",
    "    efficient_frontier = optimizer.generate_efficient_frontier(n_portfolios=50)\n",
    "    \n",
    "    if not efficient_frontier.empty:\n",
    "        print(\"\\nFRONTERA EFICIENTE GENERADA:\")\n",
    "        print(f\"Carteras calculadas: {len(efficient_frontier)}\")\n",
    "        \n",
    "        # DEBUG: Mostrar columnas y primeras filas\n",
    "        print(\"Columnas de efficient_frontier:\", efficient_frontier.columns.tolist())\n",
    "        print(\"Primeras filas de efficient_frontier:\")\n",
    "        print(efficient_frontier.head(3))\n",
    "        \n",
    "        # Mostrar algunas carteras de la frontera\n",
    "        required_cols = ['rendimiento', 'volatilidad', 'sharpe_ratio']\n",
    "        available_cols = [col for col in required_cols if col in efficient_frontier.columns]\n",
    "        if len(available_cols) < 3:\n",
    "            print(f\"⚠️ Columnas faltantes en frontera eficiente: {set(required_cols) - set(available_cols)}\")\n",
    "            print(f\"Columnas disponibles: {efficient_frontier.columns.tolist()}\")\n",
    "        \n",
    "        if all(col in efficient_frontier.columns for col in required_cols):\n",
    "            frontier_sample = efficient_frontier[required_cols].head(10)\n",
    "            print(\"\\nMUESTRA DE FRONTERA EFICIENTE:\")\n",
    "            display(frontier_sample)\n",
    "        else:\n",
    "            print(\"No se puede mostrar muestra de frontera eficiente por columnas faltantes.\")\n",
    "        \n",
    "        # Crear scatter plot riesgo-retorno si hay datos suficientes\n",
    "        if len(efficient_frontier) > 5 and all(col in efficient_frontier.columns for col in required_cols):\n",
    "            print(\"\\n📊 Creando gráfico riesgo-retorno...\")\n",
    "            strategies_data = []\n",
    "            for idx, row in efficient_frontier.head(20).iterrows():\n",
    "                strategies_data.append({\n",
    "                    'nombre': f'Portfolio_{idx}',\n",
    "                    'rendimiento': row['rendimiento'],\n",
    "                    'riesgo': row['volatilidad'],\n",
    "                    'sharpe': row.get('sharpe_ratio', None)\n",
    "                })\n",
    "            fig_scatter = visualizer.plot_risk_return_scatter(\n",
    "                strategies_data=strategies_data,\n",
    "                save_path=\"frontera_eficiente\"\n",
    "            )\n",
    "        elif len(efficient_frontier) > 5:\n",
    "            print(\"No se puede crear gráfico riesgo-retorno por columnas faltantes.\")\n",
    "    else:\n",
    "        print(\"No se pudo generar frontera eficiente\")\n",
    "        \n",
    "except Exception as e:\n",
    "    print(f\"Error generando frontera eficiente: {e}\")"
   ]
  },
  {
   "cell_type": "markdown",
   "id": "b65b4b69",
   "metadata": {},
   "source": [
    "## Análisis Probabilístico Detallado"
   ]
  },
  {
   "cell_type": "code",
   "execution_count": 47,
   "id": "b622365f",
   "metadata": {},
   "outputs": [
    {
     "name": "stdout",
     "output_type": "stream",
     "text": [
      "📊 Generando análisis probabilístico...\n",
      "ANALISIS PROBABILISTICO DETALLADO\n",
      "Horizontes analizados: 4\n",
      "\n",
      "TABLA DE PROBABILIDADES POR HORIZONTE:\n"
     ]
    },
    {
     "data": {
      "text/html": [
       "<div>\n",
       "<style scoped>\n",
       "    .dataframe tbody tr th:only-of-type {\n",
       "        vertical-align: middle;\n",
       "    }\n",
       "\n",
       "    .dataframe tbody tr th {\n",
       "        vertical-align: top;\n",
       "    }\n",
       "\n",
       "    .dataframe thead th {\n",
       "        text-align: right;\n",
       "    }\n",
       "</style>\n",
       "<table border=\"1\" class=\"dataframe\">\n",
       "  <thead>\n",
       "    <tr style=\"text-align: right;\">\n",
       "      <th></th>\n",
       "      <th>Horizonte</th>\n",
       "      <th>Dias</th>\n",
       "      <th>Meses</th>\n",
       "      <th>Retorno_Esperado</th>\n",
       "      <th>Volatilidad</th>\n",
       "      <th>Prob_Positivo</th>\n",
       "      <th>Prob_Perdida</th>\n",
       "      <th>Prob_Perdida_10pct</th>\n",
       "      <th>Prob_Ganancia_20pct</th>\n",
       "      <th>Mejor_Caso_5pct</th>\n",
       "      <th>Peor_Caso_5pct</th>\n",
       "      <th>Retorno_Mediano</th>\n",
       "    </tr>\n",
       "  </thead>\n",
       "  <tbody>\n",
       "    <tr>\n",
       "      <th>0</th>\n",
       "      <td>1M</td>\n",
       "      <td>21</td>\n",
       "      <td>1</td>\n",
       "      <td>2.6%</td>\n",
       "      <td>5.1%</td>\n",
       "      <td>68.0%</td>\n",
       "      <td>32.0%</td>\n",
       "      <td>0.2%</td>\n",
       "      <td>0.1%</td>\n",
       "      <td>11.4%</td>\n",
       "      <td>-5.1%</td>\n",
       "      <td>2.5%</td>\n",
       "    </tr>\n",
       "    <tr>\n",
       "      <th>1</th>\n",
       "      <td>3M</td>\n",
       "      <td>63</td>\n",
       "      <td>3</td>\n",
       "      <td>7.9%</td>\n",
       "      <td>10.5%</td>\n",
       "      <td>77.8%</td>\n",
       "      <td>22.2%</td>\n",
       "      <td>3.3%</td>\n",
       "      <td>12.4%</td>\n",
       "      <td>26.0%</td>\n",
       "      <td>-8.4%</td>\n",
       "      <td>7.4%</td>\n",
       "    </tr>\n",
       "    <tr>\n",
       "      <th>2</th>\n",
       "      <td>6M</td>\n",
       "      <td>126</td>\n",
       "      <td>6</td>\n",
       "      <td>16.2%</td>\n",
       "      <td>17.0%</td>\n",
       "      <td>83.5%</td>\n",
       "      <td>16.5%</td>\n",
       "      <td>4.8%</td>\n",
       "      <td>39.3%</td>\n",
       "      <td>45.8%</td>\n",
       "      <td>-9.9%</td>\n",
       "      <td>15.9%</td>\n",
       "    </tr>\n",
       "    <tr>\n",
       "      <th>3</th>\n",
       "      <td>12M</td>\n",
       "      <td>252</td>\n",
       "      <td>12</td>\n",
       "      <td>34.2%</td>\n",
       "      <td>30.7%</td>\n",
       "      <td>89.1%</td>\n",
       "      <td>10.9%</td>\n",
       "      <td>4.7%</td>\n",
       "      <td>64.4%</td>\n",
       "      <td>92.9%</td>\n",
       "      <td>-8.9%</td>\n",
       "      <td>29.8%</td>\n",
       "    </tr>\n",
       "  </tbody>\n",
       "</table>\n",
       "</div>"
      ],
      "text/plain": [
       "  Horizonte  Dias  Meses Retorno_Esperado Volatilidad Prob_Positivo  \\\n",
       "0        1M    21      1             2.6%        5.1%         68.0%   \n",
       "1        3M    63      3             7.9%       10.5%         77.8%   \n",
       "2        6M   126      6            16.2%       17.0%         83.5%   \n",
       "3       12M   252     12            34.2%       30.7%         89.1%   \n",
       "\n",
       "  Prob_Perdida Prob_Perdida_10pct Prob_Ganancia_20pct Mejor_Caso_5pct  \\\n",
       "0        32.0%               0.2%                0.1%           11.4%   \n",
       "1        22.2%               3.3%               12.4%           26.0%   \n",
       "2        16.5%               4.8%               39.3%           45.8%   \n",
       "3        10.9%               4.7%               64.4%           92.9%   \n",
       "\n",
       "  Peor_Caso_5pct Retorno_Mediano  \n",
       "0          -5.1%            2.5%  \n",
       "1          -8.4%            7.4%  \n",
       "2          -9.9%           15.9%  \n",
       "3          -8.9%           29.8%  "
      ]
     },
     "metadata": {},
     "output_type": "display_data"
    }
   ],
   "source": [
    "# Generar análisis probabilístico detallado\n",
    "probability_analysis = mc_simulator.generate_probability_analysis(simulation_results)\n",
    "\n",
    "print(\"ANALISIS PROBABILISTICO DETALLADO\")\n",
    "print(f\"Horizontes analizados: {len(probability_analysis)}\")\n",
    "\n",
    "# Crear DataFrame con análisis probabilístico\n",
    "prob_data = []\n",
    "for horizon, analysis in probability_analysis.items():\n",
    "    prob_data.append({\n",
    "        'Horizonte': horizon,\n",
    "        'Dias': analysis['horizon_days'],\n",
    "        'Meses': analysis['horizon_months'],\n",
    "        'Retorno_Esperado': f\"{analysis['expected_return']:.1%}\",\n",
    "        'Volatilidad': f\"{analysis['volatility']:.1%}\",\n",
    "        'Prob_Positivo': f\"{analysis['prob_positive']:.1%}\",\n",
    "        'Prob_Perdida': f\"{analysis['prob_loss']:.1%}\",\n",
    "        'Prob_Perdida_10pct': f\"{analysis['prob_loss_10']:.1%}\",\n",
    "        'Prob_Ganancia_20pct': f\"{analysis['prob_gain_20']:.1%}\",\n",
    "        'Mejor_Caso_5pct': f\"{analysis['best_case_5']:.1%}\",\n",
    "        'Peor_Caso_5pct': f\"{analysis['worst_case_5']:.1%}\",\n",
    "        'Retorno_Mediano': f\"{analysis['median_return']:.1%}\"\n",
    "    })\n",
    "\n",
    "probability_df = pd.DataFrame(prob_data)\n",
    "\n",
    "print(\"\\nTABLA DE PROBABILIDADES POR HORIZONTE:\")\n",
    "display(probability_df)"
   ]
  },
  {
   "cell_type": "code",
   "execution_count": 48,
   "id": "ed56f762",
   "metadata": {},
   "outputs": [
    {
     "name": "stdout",
     "output_type": "stream",
     "text": [
      "\n",
      "TABLA DE STRESS TESTING:\n"
     ]
    },
    {
     "data": {
      "text/html": [
       "<div>\n",
       "<style scoped>\n",
       "    .dataframe tbody tr th:only-of-type {\n",
       "        vertical-align: middle;\n",
       "    }\n",
       "\n",
       "    .dataframe tbody tr th {\n",
       "        vertical-align: top;\n",
       "    }\n",
       "\n",
       "    .dataframe thead th {\n",
       "        text-align: right;\n",
       "    }\n",
       "</style>\n",
       "<table border=\"1\" class=\"dataframe\">\n",
       "  <thead>\n",
       "    <tr style=\"text-align: right;\">\n",
       "      <th></th>\n",
       "      <th>Escenario</th>\n",
       "      <th>Probabilidad</th>\n",
       "      <th>Duracion_Dias</th>\n",
       "      <th>Shock_Aplicado</th>\n",
       "      <th>Retorno_Final</th>\n",
       "      <th>Max_Drawdown</th>\n",
       "      <th>VaR_95_Stress</th>\n",
       "    </tr>\n",
       "  </thead>\n",
       "  <tbody>\n",
       "    <tr>\n",
       "      <th>0</th>\n",
       "      <td>Crisis Cambiaria</td>\n",
       "      <td>15.0%</td>\n",
       "      <td>72</td>\n",
       "      <td>-50.0%</td>\n",
       "      <td>-28.4%</td>\n",
       "      <td>-28.0%</td>\n",
       "      <td>-1.7%</td>\n",
       "    </tr>\n",
       "    <tr>\n",
       "      <th>1</th>\n",
       "      <td>Devaluación Fuerte</td>\n",
       "      <td>20.0%</td>\n",
       "      <td>60</td>\n",
       "      <td>-35.0%</td>\n",
       "      <td>-16.7%</td>\n",
       "      <td>-19.2%</td>\n",
       "      <td>-1.7%</td>\n",
       "    </tr>\n",
       "    <tr>\n",
       "      <th>2</th>\n",
       "      <td>Crisis Política</td>\n",
       "      <td>10.0%</td>\n",
       "      <td>72</td>\n",
       "      <td>-40.0%</td>\n",
       "      <td>-20.8%</td>\n",
       "      <td>-20.9%</td>\n",
       "      <td>-1.5%</td>\n",
       "    </tr>\n",
       "    <tr>\n",
       "      <th>3</th>\n",
       "      <td>Recesión Local</td>\n",
       "      <td>25.0%</td>\n",
       "      <td>72</td>\n",
       "      <td>-25.0%</td>\n",
       "      <td>-7.9%</td>\n",
       "      <td>-9.4%</td>\n",
       "      <td>-1.3%</td>\n",
       "    </tr>\n",
       "    <tr>\n",
       "      <th>4</th>\n",
       "      <td>Default Soberano</td>\n",
       "      <td>8.0%</td>\n",
       "      <td>72</td>\n",
       "      <td>-60.0%</td>\n",
       "      <td>-35.2%</td>\n",
       "      <td>-34.7%</td>\n",
       "      <td>-1.8%</td>\n",
       "    </tr>\n",
       "  </tbody>\n",
       "</table>\n",
       "</div>"
      ],
      "text/plain": [
       "            Escenario Probabilidad  Duracion_Dias Shock_Aplicado  \\\n",
       "0    Crisis Cambiaria        15.0%             72         -50.0%   \n",
       "1  Devaluación Fuerte        20.0%             60         -35.0%   \n",
       "2     Crisis Política        10.0%             72         -40.0%   \n",
       "3      Recesión Local        25.0%             72         -25.0%   \n",
       "4    Default Soberano         8.0%             72         -60.0%   \n",
       "\n",
       "  Retorno_Final Max_Drawdown VaR_95_Stress  \n",
       "0        -28.4%       -28.0%         -1.7%  \n",
       "1        -16.7%       -19.2%         -1.7%  \n",
       "2        -20.8%       -20.9%         -1.5%  \n",
       "3         -7.9%        -9.4%         -1.3%  \n",
       "4        -35.2%       -34.7%         -1.8%  "
      ]
     },
     "metadata": {},
     "output_type": "display_data"
    },
    {
     "name": "stdout",
     "output_type": "stream",
     "text": [
      "\n",
      "📋 Creando resumen de simulaciones...\n",
      "📋 Creando resumen de simulaciones...\n",
      "\n",
      "RESUMEN DE SIMULACIONES GENERADO\n",
      "Incluye análisis de todos los horizontes y escenarios\n"
     ]
    }
   ],
   "source": [
    "# Crear DataFrame con resultados de stress testing\n",
    "stress_data = []\n",
    "for scenario, results in stress_results.items():\n",
    "    stress_data.append({\n",
    "        'Escenario': scenario,\n",
    "        'Probabilidad': f\"{results['probability']:.1%}\",\n",
    "        'Duracion_Dias': results['duration_days'],\n",
    "        'Shock_Aplicado': f\"{results['shock_applied']:.1%}\",\n",
    "        'Retorno_Final': f\"{results['final_return']:.1%}\",\n",
    "        'Max_Drawdown': f\"{results['max_drawdown']:.1%}\",\n",
    "        'VaR_95_Stress': f\"{results['var_95_stress']:.1%}\"\n",
    "    })\n",
    "\n",
    "stress_df = pd.DataFrame(stress_data)\n",
    "\n",
    "print(\"\\nTABLA DE STRESS TESTING:\")\n",
    "display(stress_df)\n",
    "\n",
    "# Generar resumen completo de simulaciones\n",
    "print(\"\\n📋 Creando resumen de simulaciones...\")\n",
    "try:\n",
    "    simulation_summary = mc_simulator.create_simulation_summary(\n",
    "        simulation_results, \n",
    "        stress_results\n",
    "    )\n",
    "    # Mostrar el resumen solo si no está vacío\n",
    "    if simulation_summary is not None and not simulation_summary.empty:\n",
    "        print(\"\\nRESUMEN DE SIMULACIONES GENERADO\")\n",
    "        print(\"Incluye análisis de todos los horizontes y escenarios\")\n",
    "    \n",
    "except Exception as e:\n",
    "    print(f\"Advertencia: No se pudo generar resumen completo: {e}\")\n"
   ]
  }
 ],
 "metadata": {
  "kernelspec": {
   "display_name": "ds",
   "language": "python",
   "name": "python3"
  },
  "language_info": {
   "codemirror_mode": {
    "name": "ipython",
    "version": 3
   },
   "file_extension": ".py",
   "mimetype": "text/x-python",
   "name": "python",
   "nbconvert_exporter": "python",
   "pygments_lexer": "ipython3",
   "version": "3.12.10"
  }
 },
 "nbformat": 4,
 "nbformat_minor": 5
}
